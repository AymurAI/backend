{
 "cells": [
  {
   "attachments": {},
   "cell_type": "markdown",
   "metadata": {},
   "source": [
    "# Export documents\n",
    "This notebook shows how to export documents from a path to a file that LabelStudio can read.\n",
    "This is useful when you have a lot of documents and you want to use LabelStudio to label them.\n",
    "\n",
    "In this example we are going to export anonymized documents from the 10 criminal court from the Ciudad de Buenos Aires, Argentina. The anonymization consist on replacing the names or other sensible data of the parties with a generic name."
   ]
  },
  {
   "cell_type": "markdown",
   "metadata": {},
   "source": [
    "# load data"
   ]
  },
  {
   "cell_type": "code",
   "execution_count": null,
   "metadata": {},
   "outputs": [],
   "source": [
    "import os\n",
    "from glob import glob\n",
    "\n",
    "DOCS_PATH = '/resources/data/sample'\n",
    "\n",
    "paths = glob(f\"{DOCS_PATH}/**/*.doc\", recursive=True)\n",
    "paths += glob(f\"{DOCS_PATH}/**/*.docx\", recursive=True)\n",
    "\n",
    "docs = [{\"path\": path} for path in paths]\n",
    "print(\"doc files:\", len(docs))"
   ]
  },
  {
   "cell_type": "code",
   "execution_count": null,
   "metadata": {},
   "outputs": [],
   "source": [
    "from aymurai.pipeline import AymurAIPipeline\n",
    "from aymurai.text.extraction import FulltextExtract\n",
    "from aymurai.text.normalize import TextNormalize\n",
    "\n",
    "config = {\n",
    "    \"preprocess\": [\n",
    "        (\n",
    "            FulltextExtract,\n",
    "            {\n",
    "                \"errors\": \"ignore\",\n",
    "                \"use_cache\": False,\n",
    "            },\n",
    "        ),\n",
    "        (TextNormalize, {}),\n",
    "    ],\n",
    "    \"models\": [],\n",
    "    \"postprocess\": [],\n",
    "    \"multiprocessing\": {},\n",
    "    \"use_cache\": False,\n",
    "    # 'log_level': 'debug'\n",
    "}\n",
    "\n",
    "pipeline = AymurAIPipeline(config)"
   ]
  },
  {
   "cell_type": "code",
   "execution_count": null,
   "metadata": {},
   "outputs": [],
   "source": [
    "\n",
    "preprocessed = pipeline.preprocess(docs)"
   ]
  },
  {
   "cell_type": "markdown",
   "metadata": {},
   "source": [
    "# export to labelstudio"
   ]
  },
  {
   "cell_type": "code",
   "execution_count": null,
   "metadata": {},
   "outputs": [],
   "source": [
    "\n",
    "def to_labelstudio_json(item):\n",
    "    obj = {\n",
    "        'text': item['data']['doc.text'],\n",
    "        'meta_info': {\n",
    "            'path': item['path']\n",
    "        }\n",
    "    }\n",
    "    return obj\n"
   ]
  },
  {
   "cell_type": "code",
   "execution_count": null,
   "metadata": {},
   "outputs": [],
   "source": [
    "import json\n",
    "\n",
    "export = map(to_labelstudio_json, preprocessed)\n",
    "export = list(export)\n",
    "\n",
    "with open('dump-docs-labelstudio.json', 'w') as file:\n",
    "    json.dump(export, file)\n"
   ]
  }
 ],
 "metadata": {
  "kernelspec": {
   "display_name": "Python 3",
   "language": "python",
   "name": "python3"
  },
  "language_info": {
   "codemirror_mode": {
    "name": "ipython",
    "version": 3
   },
   "file_extension": ".py",
   "mimetype": "text/x-python",
   "name": "python",
   "nbconvert_exporter": "python",
   "pygments_lexer": "ipython3",
   "version": "3.10.8 (main, Oct 12 2022, 19:14:26) [GCC 9.4.0]"
  },
  "vscode": {
   "interpreter": {
    "hash": "e7370f93d1d0cde622a1f8e1c04877d8463912d04d973331ad4851f04de6915a"
   }
  }
 },
 "nbformat": 4,
 "nbformat_minor": 2
}
