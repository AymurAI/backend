{
 "cells": [
  {
   "cell_type": "code",
   "execution_count": null,
   "metadata": {},
   "outputs": [],
   "source": [
    "%%capture\n",
    "!sudo pip install names-dataset"
   ]
  },
  {
   "cell_type": "code",
   "execution_count": null,
   "metadata": {},
   "outputs": [],
   "source": [
    "%load_ext autoreload\n",
    "%autoreload 2"
   ]
  },
  {
   "cell_type": "code",
   "execution_count": null,
   "metadata": {},
   "outputs": [],
   "source": [
    "import locale\n",
    "\n",
    "from sklearn.model_selection import train_test_split\n",
    "\n",
    "from aymurai.spacy.display import DocRender\n",
    "from aymurai.pipeline import AymurAIPipeline\n",
    "from aymurai.datasets.ar_juz_pcyf_10 import ArgentinaJuzgadoPCyF10Dataset\n",
    "\n",
    "locale.setlocale(locale.LC_ALL, 'es_AR.UTF-8')\n",
    "render = DocRender()"
   ]
  },
  {
   "cell_type": "code",
   "execution_count": null,
   "metadata": {},
   "outputs": [],
   "source": [
    "private = ArgentinaJuzgadoPCyF10Dataset('private', use_cache=True)\n",
    "train, test = train_test_split(private, test_size=0.2, random_state=22)\n",
    "train, val = train_test_split(train, test_size=0.2, random_state=22)\n",
    "print('train:', len(train))\n",
    "print('test:', len(test))\n",
    "print('val:', len(val))"
   ]
  },
  {
   "cell_type": "code",
   "execution_count": null,
   "metadata": {},
   "outputs": [],
   "source": [
    "from typing import Iterable\n",
    "\n",
    "from names_dataset import NameDataset\n",
    "from more_itertools import flatten, unique_everseen\n",
    "\n",
    "\n",
    "class NamesDatabase(NameDataset):\n",
    "    def __init__(self, country_codes: list[str] = []):\n",
    "        self.country_codes = set(country_codes)\n",
    "        super().__init__(load_first_names=True, load_last_names=True)\n",
    "        if country_codes:\n",
    "            self.first_names = {\n",
    "                k: v\n",
    "                for k, v in self.first_names.items()\n",
    "                if set(v[\"country\"].keys()) & self.country_codes\n",
    "            }\n",
    "            self.first_names = {\n",
    "                k: v\n",
    "                for k, v in self.last_names.items()\n",
    "                if set(v[\"country\"].keys()) & self.country_codes\n",
    "            }\n",
    "                                           \n",
    "        self.unique_first_names = self.build_unique_names(self.first_names)\n",
    "        self.unique_last_names = self.build_unique_names(self.last_names)\n",
    "\n",
    "    @staticmethod\n",
    "    def build_unique_names(names: Iterable[str]) -> list[str]:\n",
    "        names = (\n",
    "            map(lambda x: (x, info), name.split(\" \")) for name, info in names.items()\n",
    "        )\n",
    "        names = flatten(names)\n",
    "        names = filter(lambda x: len(x) > 3, names)\n",
    "        names = sorted(names, key=lambda x: max(x[1][\"rank\"].values(), default=9999999))\n",
    "        names = unique_everseen(names, key=lambda x: x[0])\n",
    "        return dict(names)"
   ]
  },
  {
   "cell_type": "code",
   "execution_count": null,
   "metadata": {},
   "outputs": [],
   "source": [
    "from spacy.language import Language\n",
    "from spacy.pipeline import EntityRuler\n",
    "\n",
    "\n",
    "@Language.factory(name=\"name_lookup_ruler\")\n",
    "def name_lookup(nlp, name, country_codes=[\"AR\"], overwrite_ents: bool = True):\n",
    "    name_db = NamesDatabase(country_codes=country_codes)\n",
    "    ruler = EntityRuler(nlp, name=name, overwrite_ents=overwrite_ents)\n",
    "    # first names when they are titled\n",
    "    ruler.add_patterns(\n",
    "        [\n",
    "            {\n",
    "                \"label\": \"PER\",\n",
    "                \"id\": \"PER\",\n",
    "                \"pattern\": [{\"LOWER\": name.lower(), \"IS_TITLE\": True}],\n",
    "            }\n",
    "            for name in name_db.unique_last_names.keys()\n",
    "        ]\n",
    "    )\n",
    "    return ruler\n"
   ]
  },
  {
   "cell_type": "code",
   "execution_count": null,
   "metadata": {},
   "outputs": [],
   "source": [
    "from aymurai.spacy.ner import SpacyNER\n",
    "from aymurai.text.normalize import TextNormalize\n",
    "from aymurai.spacy.ruler import SpacyRulerPipeline\n",
    "from aymurai.text.extraction import FulltextExtract\n",
    "\n",
    "config = {\n",
    "    \"preprocess\": [\n",
    "        (\n",
    "            FulltextExtract,\n",
    "            {\n",
    "                \"extension\": \"pdf\",\n",
    "                \"method\": \"tesseract\",\n",
    "                \"language\": \"spa\",\n",
    "                \"errors\": \"ignore\",\n",
    "                \"use_cache\": True,\n",
    "            },\n",
    "        ),\n",
    "        (TextNormalize, {}),\n",
    "        # (\n",
    "        #     SpacyRulerPipeline,\n",
    "        #     {\n",
    "        #         \"base\": \"es\",\n",
    "        #         \"steps\": [\n",
    "        #             (\"name_lookup_ruler\", {'country_codes': ['AR']})\n",
    "        #         ],\n",
    "        #     },\n",
    "        # ),\n",
    "    ],\n",
    "    \"models\": [],\n",
    "    \"postprocess\": [],\n",
    "    \"multiprocessing\": {},\n",
    "    \"use_cache\": False,\n",
    "    # 'log_level': 'debug'\n",
    "}\n",
    "\n",
    "pipeline = AymurAIPipeline(config)"
   ]
  },
  {
   "cell_type": "code",
   "execution_count": null,
   "metadata": {},
   "outputs": [],
   "source": [
    "preprocessed_train = pipeline.preprocess(train)"
   ]
  },
  {
   "cell_type": "code",
   "execution_count": null,
   "metadata": {},
   "outputs": [],
   "source": [
    "import spacy\n",
    "\n",
    "nlp = spacy.blank('es')\n",
    "nlp.add_pipe('name_lookup_ruler')"
   ]
  },
  {
   "cell_type": "code",
   "execution_count": null,
   "metadata": {},
   "outputs": [],
   "source": [
    "\n",
    "text = preprocessed_train[0]['data']['doc.text']\n",
    "doc = nlp(text)\n",
    "\n",
    "# render(doc)"
   ]
  },
  {
   "cell_type": "code",
   "execution_count": null,
   "metadata": {},
   "outputs": [],
   "source": [
    "from spacy import displacy\n",
    "\n",
    "displacy.render(doc, 'ent')"
   ]
  }
 ],
 "metadata": {
  "kernelspec": {
   "display_name": "Python 3.10.6 64-bit",
   "language": "python",
   "name": "python3"
  },
  "language_info": {
   "codemirror_mode": {
    "name": "ipython",
    "version": 3
   },
   "file_extension": ".py",
   "mimetype": "text/x-python",
   "name": "python",
   "nbconvert_exporter": "python",
   "pygments_lexer": "ipython3",
   "version": "3.10.6"
  },
  "vscode": {
   "interpreter": {
    "hash": "767d51c1340bd893661ea55ea3124f6de3c7a262a8b4abca0554b478b1e2ff90"
   }
  }
 },
 "nbformat": 4,
 "nbformat_minor": 2
}
