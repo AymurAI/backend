{
 "cells": [
  {
   "cell_type": "markdown",
   "metadata": {},
   "source": [
    "# Adjectival and demonymic forms from Wikipedia (Spanish)\n",
    "\n",
    "Demonym or gentilic extraction from tables from Wikipedia spanish annex. Permalinks are used.\n",
    "\n"
   ]
  },
  {
   "cell_type": "markdown",
   "metadata": {},
   "source": [
    "## Global demonyms"
   ]
  },
  {
   "cell_type": "code",
   "execution_count": null,
   "metadata": {},
   "outputs": [],
   "source": [
    "import requests\n",
    "import pandas as pd\n",
    "from bs4 import BeautifulSoup as bs\n",
    "import re\n",
    "\n",
    "url = \"https://es.wikipedia.org/w/index.php?title=Anexo:Gentilicios&oldid=144144171\"\n",
    "req = requests.get(url)\n",
    "req_text = req.text\n",
    "req_text = re.sub(r'<br />', '\\n', req_text)\n",
    "\n",
    "# tables = pd.read_html(url)  # or pd.read_html(req.text)\n",
    "tables = pd.read_html(req_text)  # or pd.read_html(req.text)\n",
    "soup = bs(req_text, \"lxml\")\n",
    "sections = soup.select(\"h3 span.mw-headline\")\n",
    "\n",
    "tables = {section.text: table for section, table in zip(sections, tables)}\n",
    "\n",
    "print('tables:')\n",
    "print(tables.keys())"
   ]
  },
  {
   "cell_type": "code",
   "execution_count": null,
   "metadata": {},
   "outputs": [],
   "source": [
    "import re\n",
    "import unicodedata\n",
    "from more_itertools import stagger\n",
    "\n",
    "\n",
    "def text_cleaner(value):\n",
    "    if not isinstance(value, str):\n",
    "        return value\n",
    "\n",
    "    text = unicodedata.normalize('NFD', value)\n",
    "    text = re.sub(r'\\[[\\w\\s,]+\\]\\u200b', ' ', text)\n",
    "    text = re.sub(r'[\\s\\n]+', ' ', text)\n",
    "    text = re.sub(r'\\[cita requerida\\]', ' ', text)\n",
    "    return text\n",
    "\n",
    "\n",
    "\n",
    "def join_by_rules(prev: str, current: str) -> str:\n",
    "    if not isinstance(current, str):\n",
    "        return None\n",
    "    \n",
    "    # FIXME: added workaround for only 1 value\n",
    "    if not current.startswith('-') and current != 'a':\n",
    "        return current\n",
    "    \n",
    "    suffix = re.sub(r'^-', '', current)\n",
    "\n",
    "    if suffix == 'a' and prev[-1] in ['o']:\n",
    "        current = prev[:-1] + 'a'\n",
    "    elif suffix == 'a' and prev[-1] in ['s']:\n",
    "        current = prev + 'a'\n",
    "    elif suffix in ['sa', 'la'] and prev[-1] in ['s', 'l']:\n",
    "        current = prev[:-1] + suffix\n",
    "    else:\n",
    "        current = None\n",
    "\n",
    "    return current\n",
    "\n",
    "\n",
    "def preprocess_demonyms(value):\n",
    "    if not isinstance(value, str):\n",
    "        return value\n",
    "\n",
    "    text = re.sub(r'(;|,| o | u )', '|', value)\n",
    "    terms = [t.strip() for t in text.split('|')]\n",
    "    \n",
    "    pairs = stagger(terms, offsets=(-1, 0), longest=True)\n",
    "    demonyms = map(lambda args: join_by_rules(*args), pairs) \n",
    "    demonyms = filter(bool, demonyms)\n",
    "    \n",
    "    return list(demonyms)\n",
    "\n",
    "    \n"
   ]
  },
  {
   "cell_type": "code",
   "execution_count": null,
   "metadata": {},
   "outputs": [],
   "source": [
    "\n",
    "table = tables[\"Países con 2 gentilicios\"]\n",
    "table = table.applymap(text_cleaner)\n",
    "table\n",
    "columns_rename = {\n",
    "    \"País, dependencia, o territorio\": \"origin\",\n",
    "    \"Gentilicio\": \"demonym\",\n",
    "    \"Capital(es)\": \"origin\",\n",
    "    \"Gentilicio.1\": \"demonym\",\n",
    "}\n",
    "df = pd.concat(\n",
    "    [\n",
    "        table[[\"País, dependencia, o territorio\", \"Gentilicio\"]].rename(\n",
    "            columns=columns_rename\n",
    "        ),\n",
    "        table[[\"Capital(es)\", \"Gentilicio.1\"]].rename(columns=columns_rename),\n",
    "    ],\n",
    "    ignore_index=True,\n",
    ")\n",
    "\n",
    "df['demonym'] = df['demonym'].apply(preprocess_demonyms)\n",
    "df['demonym'] = df['demonym'].fillna(df['origin'].apply(lambda x: [x]))\n",
    "\n",
    "df = df.explode('demonym')\n",
    "df\n"
   ]
  },
  {
   "cell_type": "markdown",
   "metadata": {},
   "source": [
    "## export"
   ]
  },
  {
   "cell_type": "code",
   "execution_count": null,
   "metadata": {},
   "outputs": [],
   "source": [
    "df.to_csv('es-demonyms-global.csv', index=False)"
   ]
  },
  {
   "cell_type": "markdown",
   "metadata": {},
   "source": [
    "# Argenti"
   ]
  }
 ],
 "metadata": {
  "kernelspec": {
   "display_name": "Python 3.10.6 64-bit",
   "language": "python",
   "name": "python3"
  },
  "language_info": {
   "codemirror_mode": {
    "name": "ipython",
    "version": 3
   },
   "file_extension": ".py",
   "mimetype": "text/x-python",
   "name": "python",
   "nbconvert_exporter": "python",
   "pygments_lexer": "ipython3",
   "version": "3.10.6"
  },
  "vscode": {
   "interpreter": {
    "hash": "767d51c1340bd893661ea55ea3124f6de3c7a262a8b4abca0554b478b1e2ff90"
   }
  }
 },
 "nbformat": 4,
 "nbformat_minor": 2
}
