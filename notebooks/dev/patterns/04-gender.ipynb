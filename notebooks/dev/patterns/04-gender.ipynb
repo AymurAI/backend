{
 "cells": [
  {
   "cell_type": "code",
   "execution_count": null,
   "metadata": {},
   "outputs": [],
   "source": [
    "%load_ext autoreload\n",
    "%autoreload 1\n",
    "%aimport aymurai.pipeline\n",
    "%aimport aymurai.pipeline.pipeline\n",
    "%aimport aymurai.pipeline.preprocess\n",
    "%aimport aymurai.pipeline.training\n",
    "%aimport aymurai.utils.cache\n",
    "%aimport aymurai.text.extraction\n",
    "%aimport aymurai.models.spacy"
   ]
  },
  {
   "cell_type": "code",
   "execution_count": null,
   "metadata": {},
   "outputs": [],
   "source": [
    "import random\n",
    "import locale \n",
    "\n",
    "from aymurai.pipeline import AymurAIPipeline\n",
    "from aymurai.datasets.ar_juz_pcyf_10 import ArgentinaJuzgadoPCyF10Dataset\n",
    "\n",
    "locale.setlocale(locale.LC_ALL, 'es_AR.UTF-8')\n"
   ]
  },
  {
   "cell_type": "code",
   "execution_count": null,
   "metadata": {},
   "outputs": [],
   "source": [
    "\n",
    "def gender_annotated(item) -> bool:\n",
    "    annotations = item['annotations']\n",
    "    genders = [x['genero_acusado/a'] for x in annotations]\n",
    "    genders += [x['genero_denunciante'] for x in annotations]\n",
    "    genders = filter(bool, genders)\n",
    "    genders = list(genders)\n",
    "    return bool(genders)\n",
    "\n",
    "\n",
    "\n",
    "\n",
    "private = ArgentinaJuzgadoPCyF10Dataset('private')\n",
    "private = filter(gender_annotated, private)\n",
    "private = list(private)\n",
    "\n",
    "sample = random.sample(private, k=10)"
   ]
  },
  {
   "cell_type": "code",
   "execution_count": null,
   "metadata": {},
   "outputs": [],
   "source": [
    "from copy import deepcopy\n",
    "from typing import Any\n",
    "import spacy\n",
    "from aymurai.pattern.fuzzytagging import FuzzyEntityTagger\n",
    "\n",
    "\n",
    "@spacy.language.Language.factory(\"aymurai_fuzzy_ruler\")\n",
    "def aymurai_date_fuzzy_matcher(\n",
    "    nlp,\n",
    "    name,\n",
    "    patterns: dict[str, list[str]] = {},\n",
    "    min_r2: int = 80,\n",
    "):\n",
    "    matcher = FuzzyEntityTagger(nlp, min_r2_score=min_r2)\n",
    "    for label, pattern in patterns.items():\n",
    "        matcher.add(label, pattern)\n",
    "    return matcher"
   ]
  },
  {
   "cell_type": "code",
   "execution_count": null,
   "metadata": {},
   "outputs": [],
   "source": [
    "from aymurai.text.extraction import FulltextExtract\n",
    "from aymurai.text.normalize import TextNormalize\n",
    "from aymurai.models.spacy import SpacyPipeline\n",
    "\n",
    "config = {\n",
    "    \"preprocess\": [\n",
    "        (\n",
    "            FulltextExtract,\n",
    "            {\n",
    "                \"extension\": \"pdf\",\n",
    "                \"method\": \"tesseract\",\n",
    "                \"language\": \"spa\",\n",
    "                \"errors\": \"ignore\",\n",
    "                \"use_cache\": True,\n",
    "            },\n",
    "        ),\n",
    "        (TextNormalize, {}),\n",
    "    ],\n",
    "    \"models\": [\n",
    "        (\n",
    "            SpacyPipeline,\n",
    "            {\n",
    "                \"base\": \"es\",\n",
    "                \"steps\": [\n",
    "                    (\n",
    "                        \"aymurai_fuzzy_ruler\",\n",
    "                        {\n",
    "                            \"patterns\": {\n",
    "                                \"AYMURAI_GENDER\": [\n",
    "                                    'mujer cis',\n",
    "                                    'varon cis'\n",
    "                                ],\n",
    "                            },\n",
    "                            # 'min_r2': 98,\n",
    "                        },\n",
    "                    ),\n",
    "                ],\n",
    "            },\n",
    "        )\n",
    "    ],\n",
    "    \"postprocess\": [],\n",
    "    \"multiprocessing\": {},\n",
    "    \"use_cache\": False,\n",
    "    # 'log_level': 'debug'\n",
    "}\n",
    "\n",
    "pipeline = AymurAIPipeline(config)\n"
   ]
  },
  {
   "cell_type": "code",
   "execution_count": null,
   "metadata": {},
   "outputs": [],
   "source": [
    "preprocess = pipeline.preprocess(sample)\n",
    "result = pipeline.predict(preprocess)"
   ]
  },
  {
   "cell_type": "code",
   "execution_count": null,
   "metadata": {},
   "outputs": [],
   "source": [
    "import json\n",
    "from more_itertools import flatten\n",
    "\n",
    "registry = result[8]\n",
    "metadata = {k: v for k, v in registry.items() if type(v) not in [dict, list]}\n",
    "print(json.dumps(metadata, indent=4))\n",
    "print('annotated genders')\n",
    "\n",
    "gender1 = map(lambda x: x['genero_acusado/a'], registry['annotations'])\n",
    "gender2 = map(lambda x: x['genero_denunciante'], registry['annotations'])\n",
    "print(list(flatten([gender1, gender2])))\n",
    "\n",
    "print('\\n-------\\n')\n",
    "doc = registry['data']['spacy.doc']\n",
    "# doc = ruler(doc)\n",
    "\n",
    "spacy.displacy.render(doc, 'ent')"
   ]
  },
  {
   "cell_type": "code",
   "execution_count": null,
   "metadata": {},
   "outputs": [],
   "source": []
  }
 ],
 "metadata": {
  "kernelspec": {
   "display_name": "Python 3.10.6 64-bit",
   "language": "python",
   "name": "python3"
  },
  "language_info": {
   "codemirror_mode": {
    "name": "ipython",
    "version": 3
   },
   "file_extension": ".py",
   "mimetype": "text/x-python",
   "name": "python",
   "nbconvert_exporter": "python",
   "pygments_lexer": "ipython3",
   "version": "3.10.6"
  },
  "vscode": {
   "interpreter": {
    "hash": "767d51c1340bd893661ea55ea3124f6de3c7a262a8b4abca0554b478b1e2ff90"
   }
  }
 },
 "nbformat": 4,
 "nbformat_minor": 2
}
