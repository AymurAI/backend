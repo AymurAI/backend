{
 "cells": [
  {
   "cell_type": "code",
   "execution_count": null,
   "metadata": {},
   "outputs": [],
   "source": [
    "%load_ext autoreload\n",
    "%autoreload 2"
   ]
  },
  {
   "cell_type": "code",
   "execution_count": null,
   "metadata": {},
   "outputs": [],
   "source": [
    "import locale\n",
    "\n",
    "from sklearn.model_selection import train_test_split\n",
    "\n",
    "from aymurai.spacy.display import DocRender\n",
    "from aymurai.pipeline import AymurAIPipeline\n",
    "from aymurai.datasets.ar_juz_pcyf_10 import ArgentinaJuzgadoPCyF10Dataset\n",
    "\n",
    "locale.setlocale(locale.LC_ALL, 'es_AR.UTF-8')\n",
    "render = DocRender()"
   ]
  },
  {
   "cell_type": "code",
   "execution_count": null,
   "metadata": {},
   "outputs": [],
   "source": [
    "private = ArgentinaJuzgadoPCyF10Dataset('private', use_cache=True)\n",
    "train, test = train_test_split(private, test_size=0.2, random_state=22)\n",
    "train, val = train_test_split(train, test_size=0.2, random_state=22)\n",
    "print('train:', len(train))\n",
    "print('test:', len(test))\n",
    "print('val:', len(val))"
   ]
  },
  {
   "cell_type": "code",
   "execution_count": null,
   "metadata": {},
   "outputs": [],
   "source": [
    "from typing import Any\n",
    "from copy import deepcopy\n",
    "from functools import partial\n",
    "\n",
    "import spacy\n",
    "from spaczz.pipeline import SpaczzRuler\n",
    "\n",
    "import aymurai.spacy.components\n",
    "\n",
    "\n",
    "@spacy.language.Language.factory(\"aymurai_spaczz_ruler\")\n",
    "def aymurai_date_fuzzy_matcher(\n",
    "    nlp,\n",
    "    name,\n",
    "    patterns: list[dict] = {},\n",
    "):\n",
    "    ruler = SpaczzRuler(nlp)\n",
    "    ruler.add_patterns(patterns)\n",
    "    return ruler\n",
    "\n",
    "\n",
    "def __filter_entities(\n",
    "    doc: spacy.language.Language, enable: list[str] = []\n",
    ") -> spacy.language.Language:\n",
    "    ents = [ent for ent in doc.ents if ent.label_ in enable]\n",
    "    doc.ents = tuple(ents)\n",
    "\n",
    "    return doc\n",
    "@spacy.language.Language.factory(\"filter_entities\")\n",
    "def pipe_filter_entities(nlp, name, enable: list[str]):\n",
    "    return partial(__filter_entities, enable=enable)"
   ]
  },
  {
   "cell_type": "code",
   "execution_count": null,
   "metadata": {},
   "outputs": [],
   "source": [
    "from aymurai.spacy.models.ner import SpacyNER\n",
    "from aymurai.text.normalize import TextNormalize\n",
    "from aymurai.spacy.ruler import SpacyRulerPipeline\n",
    "from aymurai.text.extraction import FulltextExtract\n",
    "\n",
    "\n",
    "config = {\n",
    "    \"preprocess\": [\n",
    "        (\n",
    "            FulltextExtract,\n",
    "            {\n",
    "                \"extension\": \"pdf\",\n",
    "                \"method\": \"tesseract\",\n",
    "                \"language\": \"spa\",\n",
    "                \"errors\": \"ignore\",\n",
    "                \"use_cache\": True,\n",
    "            },\n",
    "        ),\n",
    "        (TextNormalize, {}),\n",
    "        (\n",
    "            SpacyRulerPipeline,\n",
    "            {\n",
    "                \"base\": \"es_core_news_lg\",\n",
    "                \"steps\": [\n",
    "                    (\n",
    "                        \"filter_entities\",\n",
    "                        {\n",
    "                            \"enable\": [\n",
    "                                \"PER\",\n",
    "                            ]\n",
    "                        },\n",
    "                    ),\n",
    "                    (\n",
    "                        \"enhanced_regex_ruler\",\n",
    "                        {\n",
    "                            \"patterns\": {\n",
    "                                \"TIME\": [\n",
    "                                    \"%H:%M\",\n",
    "                                    \"%-H(.|:)%M (?i)horas\",\n",
    "                                    \"%-H.%M h(rs|r)\\.?\",\n",
    "                                ],\n",
    "                                \"DATE\": [\n",
    "                                    \"%d/%m/%Y\",\n",
    "                                    \"%d/%m/%y\",\n",
    "                                    \"(?i)%d de %B del? %Y\",\n",
    "                                ],\n",
    "                            },\n",
    "                        },\n",
    "                    ),\n",
    "                ],\n",
    "            },\n",
    "        ),\n",
    "    ],\n",
    "    \"models\": [\n",
    "        (\n",
    "            SpacyNER,\n",
    "            {\n",
    "                \"base_config\": \"ner\",\n",
    "                \"batch_size\": 8,\n",
    "            },\n",
    "        )\n",
    "    ],\n",
    "    \"postprocess\": [],\n",
    "    \"multiprocessing\": {},\n",
    "    \"use_cache\": True,\n",
    "    # 'log_level': 'debug'\n",
    "}\n",
    "\n",
    "pipeline = AymurAIPipeline(config)\n"
   ]
  },
  {
   "cell_type": "code",
   "execution_count": null,
   "metadata": {},
   "outputs": [],
   "source": [
    "preprocessed_train = pipeline.preprocess(train)\n",
    "preprocessed_val = pipeline.preprocess(val)\n"
   ]
  },
  {
   "cell_type": "code",
   "execution_count": null,
   "metadata": {},
   "outputs": [],
   "source": [
    "import srsly\n",
    "\n",
    "registry = preprocessed_train[6]\n",
    "\n",
    "metadata = {\n",
    "    k: v for k, v in registry[\"metadata\"].items() if type(v) not in [dict, list]\n",
    "}\n",
    "# print(json.dumps(metadata, indent=4))\n",
    "print(srsly.yaml_dumps(registry, indent_offset=4, indent_mapping=4, indent_sequence=6))\n",
    "\n",
    "render(registry)\n"
   ]
  },
  {
   "cell_type": "code",
   "execution_count": null,
   "metadata": {},
   "outputs": [],
   "source": [
    "# predict_train, predict_val = pipeline.fit(preprocessed_train, preprocessed_val)\n",
    "pipeline.fit(preprocessed_train, preprocessed_val)"
   ]
  },
  {
   "cell_type": "code",
   "execution_count": null,
   "metadata": {},
   "outputs": [],
   "source": [
    "pipeline.models"
   ]
  },
  {
   "cell_type": "code",
   "execution_count": null,
   "metadata": {},
   "outputs": [],
   "source": [
    "import spacy\n",
    "doc = pipeline.models[0].nlp(preprocessed_train[0]['data']['doc.text'])\n",
    "\n",
    "spacy.displacy.render(doc, 'ent')"
   ]
  }
 ],
 "metadata": {
  "kernelspec": {
   "display_name": "Python 3.10.5 64-bit",
   "language": "python",
   "name": "python3"
  },
  "language_info": {
   "codemirror_mode": {
    "name": "ipython",
    "version": 3
   },
   "file_extension": ".py",
   "mimetype": "text/x-python",
   "name": "python",
   "nbconvert_exporter": "python",
   "pygments_lexer": "ipython3",
   "version": "3.10.6"
  },
  "vscode": {
   "interpreter": {
    "hash": "767d51c1340bd893661ea55ea3124f6de3c7a262a8b4abca0554b478b1e2ff90"
   }
  }
 },
 "nbformat": 4,
 "nbformat_minor": 2
}
