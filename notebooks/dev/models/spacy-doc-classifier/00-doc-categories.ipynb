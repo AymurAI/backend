{
 "cells": [
  {
   "cell_type": "code",
   "execution_count": null,
   "metadata": {},
   "outputs": [],
   "source": [
    "%load_ext autoreload\n",
    "%load_ext aymurai.devtools\n",
    "%autoreload 2"
   ]
  },
  {
   "cell_type": "code",
   "execution_count": null,
   "metadata": {},
   "outputs": [],
   "source": [
    "import locale\n",
    "\n",
    "from sklearn.model_selection import train_test_split\n",
    "\n",
    "from aymurai.spacy.display import DocRender\n",
    "from aymurai.pipeline import AymurAIPipeline\n",
    "from aymurai.datasets.ar_juz_pcyf_10 import ArgentinaJuzgadoPCyF10Dataset\n",
    "\n",
    "locale.setlocale(locale.LC_ALL, 'es_AR.UTF-8')\n",
    "render = DocRender()"
   ]
  },
  {
   "cell_type": "code",
   "execution_count": null,
   "metadata": {},
   "outputs": [],
   "source": [
    "private = ArgentinaJuzgadoPCyF10Dataset('private', use_cache=True)\n",
    "train, test = train_test_split(private, test_size=0.2, random_state=22)\n",
    "train, val = train_test_split(train, test_size=0.2, random_state=22)\n",
    "print('train:', len(train))\n",
    "print('test:', len(test))\n",
    "print('val:', len(val))"
   ]
  },
  {
   "cell_type": "markdown",
   "metadata": {},
   "source": [
    "# Variables categoricas"
   ]
  },
  {
   "cell_type": "markdown",
   "metadata": {},
   "source": [
    "## violence cats\n",
    "casos en que no se repite la categoria de violencia para todos los acusados"
   ]
  },
  {
   "cell_type": "code",
   "execution_count": null,
   "metadata": {},
   "outputs": [],
   "source": [
    "import pandas as pd\n",
    "\n",
    "for idx, item in enumerate(private):\n",
    "    if not item['metadata']['violencia_de_genero']:\n",
    "        continue\n",
    "    if item['metadata']['n_annotations'] == 1:\n",
    "        continue\n",
    "    # print(item['annotations'])\n",
    "    df = pd.DataFrame(item['annotations'])\n",
    "    df = df[['v_fisica', 'v_econ', 'v_psic', 'v_sex', 'v_soc', 'v_amb', 'v_simb', 'v_polit']]\n",
    "    # print(len(df), df.sum().sum())\n",
    "    repeat = df.all().sum() == df.iloc[0].sum()\n",
    "    if not repeat:\n",
    "        print(f'{idx} DIDNT REPEAT')\n",
    "        print(item['path'])\n",
    "        print(item['metadata'])\n",
    "        display(df)\n",
    "    # break"
   ]
  },
  {
   "cell_type": "markdown",
   "metadata": {},
   "source": [
    "### conclusion [positive]\n",
    "El modelo de doc classifier servira como proxy, pero sera necesario estudiar el caso de multiples acusados"
   ]
  },
  {
   "cell_type": "markdown",
   "metadata": {},
   "source": [
    "## detalle"
   ]
  },
  {
   "cell_type": "code",
   "execution_count": null,
   "metadata": {},
   "outputs": [],
   "source": [
    "CATEGORIES = [\n",
    "    'detalle'\n",
    "]\n",
    "\n",
    "labels = {}\n",
    "for idx, item in enumerate(private):\n",
    "    df = pd.DataFrame(item[\"annotations\"])\n",
    "    for cat in CATEGORIES:\n",
    "        values = df[cat].to_list()\n",
    "        if cat not in labels:\n",
    "            labels[cat] = set(values)\n",
    "        else:\n",
    "            for value in values:\n",
    "                labels[cat].add(value)\n",
    "\n",
    "len(labels['detalle'])"
   ]
  },
  {
   "cell_type": "markdown",
   "metadata": {},
   "source": [
    "### conclusion [negative]\n",
    "detalle tiene 182 categorias, no es suiteable para categorizacion"
   ]
  },
  {
   "cell_type": "markdown",
   "metadata": {},
   "source": [
    "## tipo resolucion"
   ]
  },
  {
   "cell_type": "code",
   "execution_count": null,
   "metadata": {},
   "outputs": [],
   "source": [
    "CATEGORIES = [\n",
    "    'tipo_de_resolucion'\n",
    "]\n",
    "\n",
    "labels = {}\n",
    "for idx, item in enumerate(private):\n",
    "    df = pd.DataFrame(item[\"annotations\"])\n",
    "    for cat in CATEGORIES:\n",
    "        values = df[cat].to_list()\n",
    "        if cat not in labels:\n",
    "            labels[cat] = set(values)\n",
    "        else:\n",
    "            for value in values:\n",
    "                labels[cat].add(value)\n",
    "\n",
    "len(labels['tipo_de_resolucion'])\n",
    "labels"
   ]
  },
  {
   "cell_type": "markdown",
   "metadata": {},
   "source": [
    "### conclusion [positive]"
   ]
  },
  {
   "cell_type": "markdown",
   "metadata": {},
   "source": [
    "## Decision"
   ]
  },
  {
   "cell_type": "code",
   "execution_count": null,
   "metadata": {},
   "outputs": [],
   "source": [
    "CATEGORIES = [\n",
    "    'decision'\n",
    "]\n",
    "\n",
    "labels = {}\n",
    "for idx, item in enumerate(private):\n",
    "    df = pd.DataFrame(item[\"annotations\"])\n",
    "    for cat in CATEGORIES:\n",
    "        values = df[cat].to_list()\n",
    "        if cat not in labels:\n",
    "            labels[cat] = set(values)\n",
    "        else:\n",
    "            for value in values:\n",
    "                labels[cat].add(value)\n",
    "\n",
    "len(labels['decision'])\n",
    "labels"
   ]
  },
  {
   "cell_type": "markdown",
   "metadata": {},
   "source": [
    "### conclusion [positive]\n"
   ]
  },
  {
   "cell_type": "markdown",
   "metadata": {},
   "source": [
    "## modalidad de la violencia"
   ]
  },
  {
   "cell_type": "code",
   "execution_count": null,
   "metadata": {},
   "outputs": [],
   "source": [
    "CATEGORIES = [\n",
    "    'modalidad_de_la_violencia'\n",
    "]\n",
    "\n",
    "labels = {}\n",
    "for idx, item in enumerate(private):\n",
    "    df = pd.DataFrame(item[\"annotations\"])\n",
    "    for cat in CATEGORIES:\n",
    "        values = df[cat].to_list()\n",
    "        if cat not in labels:\n",
    "            labels[cat] = set(values)\n",
    "        else:\n",
    "            for value in values:\n",
    "                labels[cat].add(value)\n",
    "\n",
    "print('number of subcategories', len(labels['modalidad_de_la_violencia']))\n",
    "print(labels)"
   ]
  },
  {
   "cell_type": "markdown",
   "metadata": {},
   "source": [
    "### conclusion [positive]\n"
   ]
  },
  {
   "cell_type": "markdown",
   "metadata": {},
   "source": [
    "## conducta"
   ]
  },
  {
   "cell_type": "code",
   "execution_count": null,
   "metadata": {},
   "outputs": [],
   "source": [
    "CATEGORIES = [\n",
    "    'conducta'\n",
    "]\n",
    "\n",
    "labels = {}\n",
    "for idx, item in enumerate(private):\n",
    "    df = pd.DataFrame(item[\"annotations\"])\n",
    "    for cat in CATEGORIES:\n",
    "        values = df[cat].to_list()\n",
    "        if cat not in labels:\n",
    "            labels[cat] = set(values)\n",
    "        else:\n",
    "            for value in values:\n",
    "                labels[cat].add(value)\n",
    "\n",
    "print('number of subcategories', len(labels['conducta']))\n",
    "print(labels)"
   ]
  },
  {
   "cell_type": "markdown",
   "metadata": {},
   "source": [
    "### conclusion [must check]\n",
    "checkear si se desprende de articulo"
   ]
  },
  {
   "cell_type": "markdown",
   "metadata": {},
   "source": [
    "## medidad_de_proteccion_vigentes_al_momento_del_hecho"
   ]
  },
  {
   "cell_type": "code",
   "execution_count": null,
   "metadata": {},
   "outputs": [],
   "source": [
    "CATEGORIES = [\n",
    "    'medidad_de_proteccion_vigentes_al_momento_del_hecho'\n",
    "]\n",
    "\n",
    "labels = {}\n",
    "for idx, item in enumerate(private):\n",
    "    df = pd.DataFrame(item[\"annotations\"])\n",
    "    for cat in CATEGORIES:\n",
    "        values = df[cat].to_list()\n",
    "        if cat not in labels:\n",
    "            labels[cat] = set(values)\n",
    "        else:\n",
    "            for value in values:\n",
    "                labels[cat].add(value)\n",
    "\n",
    "print('number of subcategories', len(labels['medidad_de_proteccion_vigentes_al_momento_del_hecho']))\n",
    "print(labels)"
   ]
  },
  {
   "cell_type": "markdown",
   "metadata": {},
   "source": [
    "### conclusion [positive]\n"
   ]
  },
  {
   "cell_type": "markdown",
   "metadata": {},
   "source": [
    "## conducta_descripcion"
   ]
  },
  {
   "cell_type": "code",
   "execution_count": null,
   "metadata": {},
   "outputs": [],
   "source": [
    "CATEGORIES = [\n",
    "    'conducta_descripcion'\n",
    "]\n",
    "\n",
    "labels = {}\n",
    "for idx, item in enumerate(private):\n",
    "    df = pd.DataFrame(item[\"annotations\"])\n",
    "    for cat in CATEGORIES:\n",
    "        values = df[cat].to_list()\n",
    "        if cat not in labels:\n",
    "            labels[cat] = set(values)\n",
    "        else:\n",
    "            for value in values:\n",
    "                labels[cat].add(value)\n",
    "\n",
    "print('number of subcategories', len(labels['conducta_descripcion']))\n",
    "print(labels)"
   ]
  },
  {
   "cell_type": "markdown",
   "metadata": {},
   "source": [
    "### conclusion [must check]\n",
    "son varios labels, probar como componente independiente"
   ]
  }
 ],
 "metadata": {
  "kernelspec": {
   "display_name": "Python 3.10.5 64-bit",
   "language": "python",
   "name": "python3"
  },
  "language_info": {
   "codemirror_mode": {
    "name": "ipython",
    "version": 3
   },
   "file_extension": ".py",
   "mimetype": "text/x-python",
   "name": "python",
   "nbconvert_exporter": "python",
   "pygments_lexer": "ipython3",
   "version": "3.10.6"
  },
  "vscode": {
   "interpreter": {
    "hash": "767d51c1340bd893661ea55ea3124f6de3c7a262a8b4abca0554b478b1e2ff90"
   }
  }
 },
 "nbformat": 4,
 "nbformat_minor": 2
}
