{
 "cells": [
  {
   "cell_type": "code",
   "execution_count": null,
   "metadata": {},
   "outputs": [],
   "source": [
    "%load_ext autoreload\n",
    "%load_ext aymurai.devtools.magic\n",
    "%autoreload 2"
   ]
  },
  {
   "cell_type": "markdown",
   "metadata": {},
   "source": [
    "# load public dataset"
   ]
  },
  {
   "cell_type": "code",
   "execution_count": null,
   "metadata": {},
   "outputs": [],
   "source": [
    "from aymurai.spacy.display import DocRender\n",
    "from aymurai.datasets.ar_juz_pcyf_10 import ArgentinaJuzgadoPCyF10Dataset\n",
    "\n",
    "render = DocRender()"
   ]
  },
  {
   "cell_type": "code",
   "execution_count": null,
   "metadata": {},
   "outputs": [],
   "source": [
    "from sklearn.model_selection import train_test_split\n",
    "\n",
    "dataset = ArgentinaJuzgadoPCyF10Dataset('latest', use_cache=True)\n",
    "private = ArgentinaJuzgadoPCyF10Dataset('private', use_cache=True)\n",
    "\n",
    "train, test = train_test_split(private, test_size=0.2, random_state=22)\n",
    "train, val = train_test_split(train, test_size=0.2, random_state=22)\n",
    "\n",
    "dataset = filter(lambda x: x['metadata']['frases_agresion'], dataset)\n",
    "dataset = list(dataset)\n",
    "\n",
    "sample = dataset[:10]"
   ]
  },
  {
   "cell_type": "markdown",
   "metadata": {},
   "source": [
    "# build pipeline"
   ]
  },
  {
   "cell_type": "code",
   "execution_count": null,
   "metadata": {},
   "outputs": [],
   "source": [
    "%%export aymurai.spacy.components.es_ar.quotes\n",
    "import spacy\n",
    "import pandas as pd\n",
    "from spaczz.pipeline import SpaczzRuler\n",
    "from more_itertools import unique_everseen\n",
    "\n",
    "from aymurai.devtools import resolve_package_path\n",
    "\n",
    "QUOTES_BASEPATH = resolve_package_path(\"aymurai.data.spanish\")\n",
    "QUOTES_FILENAME = f\"{QUOTES_BASEPATH}/violence-quotes.csv\"\n",
    "# export: start hide\n",
    "quotes_db = pd.read_csv(\"frases_agresion.csv\", header=None, sep=\"|\")\n",
    "quotes_db = unique_everseen(quotes_db[0].values)\n",
    "quotes_db = list(quotes_db)\n",
    "quotes_db = pd.Series(quotes_db)\n",
    "quotes_db.to_csv(QUOTES_FILENAME, index=False, header=None)\n",
    "# export: end hide\n",
    "\n",
    "with open(QUOTES_FILENAME, \"r\") as file:\n",
    "    QUOTES_DB = map(str.strip, file.readlines())\n",
    "    QUOTES_DB = list(QUOTES_DB)\n",
    "\n",
    "\n",
    "def format_pattern(pattern: str) -> dict[str, str]:\n",
    "    tokens = pattern.split(\" \")\n",
    "    min_r2 = 95 if len(tokens) < 4 else 85\n",
    "    return {\n",
    "        \"label\": \"AYMURAI_VIOLENCE_QUOTE\",\n",
    "        \"type\": \"fuzzy\",\n",
    "        \"pattern\": pattern,\n",
    "        \"kwargs\": {\"min_r2\": min_r2},\n",
    "    }\n",
    "\n",
    "\n",
    "@spacy.language.Language.factory(\"aymurai_violence_quotes_ruler\")\n",
    "def violence_quotes_ruler(nlp, name):\n",
    "    ruler = SpaczzRuler(nlp, name=name)\n",
    "    ruler.add_patterns([format_pattern(pattern) for pattern in QUOTES_DB])\n",
    "    return ruler\n"
   ]
  },
  {
   "cell_type": "code",
   "execution_count": null,
   "metadata": {},
   "outputs": [],
   "source": [
    "# import aymurai.spacy.components.loader\n",
    "from aymurai.text.normalize import TextNormalize\n",
    "from aymurai.spacy.ruler import SpacyRulerPipeline\n",
    "from aymurai.text.extraction import FulltextExtract\n",
    "from aymurai.pipeline.pipeline import AymurAIPipeline\n",
    "\n",
    "config = {\n",
    "    \"preprocess\": [\n",
    "        (\n",
    "            FulltextExtract,\n",
    "            {\n",
    "                \"errors\": \"ignore\",\n",
    "                \"extension\": \"odt\",\n",
    "                \"use_cache\": True,\n",
    "            },\n",
    "        ),\n",
    "        (TextNormalize, {}),\n",
    "        (\n",
    "            SpacyRulerPipeline,\n",
    "            {\n",
    "                \"base\": \"es\",\n",
    "                \"steps\": [\n",
    "                    (\"aymurai_violence_quotes_ruler\", {}),\n",
    "                ],\n",
    "            },\n",
    "        ),\n",
    "    ],\n",
    "    \"models\": [],\n",
    "    \"postprocess\": [],\n",
    "    \"multiprocessing\": {},\n",
    "    \"use_cache\": True,\n",
    "    # 'log_level': 'debug'\n",
    "}\n",
    "\n",
    "pipeline = AymurAIPipeline(config)\n"
   ]
  },
  {
   "cell_type": "code",
   "execution_count": null,
   "metadata": {},
   "outputs": [],
   "source": [
    "preprocess = pipeline.preprocess(dataset)"
   ]
  },
  {
   "cell_type": "markdown",
   "metadata": {},
   "source": [
    "# visualization"
   ]
  },
  {
   "cell_type": "code",
   "execution_count": null,
   "metadata": {},
   "outputs": [],
   "source": [
    "import json\n",
    "\n",
    "registry = preprocess[38]\n",
    "quotes = map(lambda x: x['frases_agresion'], registry['annotations'])\n",
    "quotes = list(quotes)\n",
    "print(registry['path'])\n",
    "metadata = {k: v for k, v in registry['metadata'].items() if type(v) not in [dict, list]}\n",
    "print(json.dumps(metadata, indent=4))\n",
    "print('frases agresion:')\n",
    "for quote in quotes:\n",
    "    print(quote)\n",
    "\n",
    "render(registry)\n",
    "# print('\\n-------\\n')\n",
    "# doc = nlp(registry['data']['doc.text'])\n",
    "# doc = ruler(doc)\n",
    "\n",
    "# spacy.displacy.render(doc, 'ent')"
   ]
  }
 ],
 "metadata": {
  "kernelspec": {
   "display_name": "Python 3.10.6 64-bit",
   "language": "python",
   "name": "python3"
  },
  "language_info": {
   "codemirror_mode": {
    "name": "ipython",
    "version": 3
   },
   "file_extension": ".py",
   "mimetype": "text/x-python",
   "name": "python",
   "nbconvert_exporter": "python",
   "pygments_lexer": "ipython3",
   "version": "3.10.8"
  },
  "vscode": {
   "interpreter": {
    "hash": "767d51c1340bd893661ea55ea3124f6de3c7a262a8b4abca0554b478b1e2ff90"
   }
  }
 },
 "nbformat": 4,
 "nbformat_minor": 2
}
