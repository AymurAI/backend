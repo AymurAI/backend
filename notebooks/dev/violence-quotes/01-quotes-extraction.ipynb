{
 "cells": [
  {
   "cell_type": "code",
   "execution_count": null,
   "metadata": {},
   "outputs": [],
   "source": [
    "%load_ext autoreload\n",
    "%autoreload 2"
   ]
  },
  {
   "cell_type": "code",
   "execution_count": null,
   "metadata": {},
   "outputs": [],
   "source": [
    "from aymurai.datasets.ar_juz_pcyf_10 import ArgentinaJuzgadoPCyF10Dataset"
   ]
  },
  {
   "cell_type": "code",
   "execution_count": null,
   "metadata": {},
   "outputs": [],
   "source": [
    "dataset = ArgentinaJuzgadoPCyF10Dataset('latest', use_cache=True)\n",
    "dataset = filter(lambda x: x['frases_agresion'], dataset)\n",
    "dataset = list(dataset)\n",
    "\n",
    "sample = dataset[:10]"
   ]
  },
  {
   "cell_type": "code",
   "execution_count": null,
   "metadata": {},
   "outputs": [],
   "source": [
    "import pandas as pd\n",
    "from more_itertools import flatten\n",
    "import re\n",
    "\n",
    "\n",
    "def split_normalize(text: str) -> list[str]:\n",
    "    \"\"\"split field into multiple quotes using simple rules\"\"\"\n",
    "    if not isinstance(text, str):\n",
    "        return []\n",
    "    text = re.sub(r'\\n|,|\\.|\\\"|\\'|_', '|||', text)\n",
    "    l = [t.strip() for t in text.split('|||') if t]\n",
    "    return l\n",
    "\n",
    "\n",
    "annotations = map(lambda x: x.get('annotations', []), dataset)\n",
    "annotations = flatten(annotations)\n",
    "\n",
    "quotes = map(lambda x: x['frases_agresion'], annotations)\n",
    "quotes = map(split_normalize, quotes)\n",
    "quotes = filter(bool, quotes)\n",
    "quotes = flatten(quotes)\n",
    "# quotes = list(quotes)\n",
    "\n",
    "quotes = pd.Series(quotes).reset_index(drop=True)\n",
    "quotes.drop_duplicates(inplace=True)"
   ]
  },
  {
   "cell_type": "code",
   "execution_count": null,
   "metadata": {},
   "outputs": [],
   "source": [
    "pd.set_option('display.max_colwidth', -1)\n",
    "quotes"
   ]
  },
  {
   "cell_type": "code",
   "execution_count": null,
   "metadata": {},
   "outputs": [],
   "source": [
    "quotes.to_csv('frases_agresion.autogen.csv', index=False, header=False)"
   ]
  }
 ],
 "metadata": {
  "kernelspec": {
   "display_name": "Python 3.10.6 64-bit",
   "language": "python",
   "name": "python3"
  },
  "language_info": {
   "codemirror_mode": {
    "name": "ipython",
    "version": 3
   },
   "file_extension": ".py",
   "mimetype": "text/x-python",
   "name": "python",
   "nbconvert_exporter": "python",
   "pygments_lexer": "ipython3",
   "version": "3.10.6"
  },
  "vscode": {
   "interpreter": {
    "hash": "767d51c1340bd893661ea55ea3124f6de3c7a262a8b4abca0554b478b1e2ff90"
   }
  }
 },
 "nbformat": 4,
 "nbformat_minor": 2
}
