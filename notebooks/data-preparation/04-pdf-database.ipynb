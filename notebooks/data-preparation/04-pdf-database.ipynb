{
 "cells": [
  {
   "cell_type": "code",
   "execution_count": null,
   "metadata": {},
   "outputs": [],
   "source": [
    "%load_ext autoreload\n",
    "%autoreload 1\n",
    "%aimport aymurai.datasets.utils"
   ]
  },
  {
   "cell_type": "code",
   "execution_count": null,
   "metadata": {},
   "outputs": [],
   "source": [
    "!sudo wget -c -P /usr/share/tesseract-ocr/4.00/tessdata https://github.com/tesseract-ocr/tessdata/blob/4767ea922bcc460e70b87b1d303ebdfed0897da8/spa.traineddata"
   ]
  },
  {
   "cell_type": "code",
   "execution_count": null,
   "metadata": {},
   "outputs": [],
   "source": [
    "import numpy as np\n",
    "import pandas as pd\n",
    "import spacy\n",
    "from spacy import displacy\n",
    "\n",
    "import locale\n",
    "\n",
    "locale.setlocale(locale.LC_ALL, \"es_AR.UTF-8\")"
   ]
  },
  {
   "cell_type": "code",
   "execution_count": null,
   "metadata": {},
   "outputs": [],
   "source": [
    "\n",
    "import os\n",
    "import re\n",
    "import numpy as np\n",
    "from glob import iglob\n",
    "\n",
    "from datasets import Dataset\n",
    "\n",
    "from aymurai.text.extraction import extract_document\n",
    "\n",
    "\n",
    "\n",
    "def __load_doc(example: dict) -> dict:\n",
    "    example[\"text\"] = extract_document(example[\"path\"], method='tesseract', language='spa', errors='raise')\n",
    "    return example\n",
    "\n",
    "\n",
    "def registro(example: dict) -> dict:\n",
    "    filename = os.path.basename(example['path'])\n",
    "    filename, ext = os.path.splitext(filename)\n",
    "    \n",
    "    example['doc_name'] = filename\n",
    "    example['doc_extension'] = ext\n",
    "\n",
    "    dirname = os.path.dirname(example['path'])\n",
    "    match = re.findall('/(\\d{4})/', dirname)\n",
    "    example['year'] = match[0] if match else None\n",
    "\n",
    "    filename = re.sub(r'\\s', '_', filename)\n",
    "    filename = re.sub(r'^[A-Z]\\d+_', '', filename)\n",
    "    example['nro_registro'] = filename.split('_')[0]\n",
    "\n",
    "    tomo = filename.split('_')[1]\n",
    "    match = re.findall('\\d+', tomo)\n",
    "    example['tomo'] = match[0] if match else None\n",
    "\n",
    "    return example\n",
    "\n",
    "\n",
    "def load_documents_from(path: str) -> Dataset:\n",
    "    files = iglob(f\"{path}/**/*.*\", recursive=True)\n",
    "    files = filter(os.path.isfile, files)\n",
    "    files = list(sorted(files))\n",
    "\n",
    "    dataset = Dataset.from_dict({\"path\": files})\n",
    "    dataset = dataset.map(registro, load_from_cache_file=True, desc='registro')\n",
    "    dataset = dataset.map(__load_doc, desc=\"Loading documents\")\n",
    "    dataset = dataset.filter(lambda example: bool(example[\"text\"]))\n",
    "\n",
    "    return dataset\n"
   ]
  },
  {
   "cell_type": "code",
   "execution_count": null,
   "metadata": {},
   "outputs": [],
   "source": [
    "private = load_documents_from('/resources/restricted/ar-juz-pcyf-10/RESOLUCIONES DEL JUZGADO-pdf/')\n"
   ]
  },
  {
   "cell_type": "code",
   "execution_count": null,
   "metadata": {},
   "outputs": [],
   "source": [
    "\n",
    "df = private.to_pandas()\n",
    "df.dropna(subset=['nro_registro', 'tomo', 'year'], inplace=True)\n",
    "df['nro_registro'] = df['nro_registro'].astype(str)\n",
    "df['year'] = df['year'].astype(int)\n",
    "df['tomo'] = df['tomo'].astype(int)\n",
    "df"
   ]
  },
  {
   "cell_type": "code",
   "execution_count": null,
   "metadata": {},
   "outputs": [],
   "source": [
    "db = pd.read_csv('/resources/data/preprocessed.csv')\n",
    "db"
   ]
  },
  {
   "cell_type": "code",
   "execution_count": null,
   "metadata": {},
   "outputs": [],
   "source": [
    "db.merge(df, on=['nro_registro', 'tomo'])"
   ]
  }
 ],
 "metadata": {
  "kernelspec": {
   "display_name": "Python 3.10.5 64-bit",
   "language": "python",
   "name": "python3"
  },
  "language_info": {
   "codemirror_mode": {
    "name": "ipython",
    "version": 3
   },
   "file_extension": ".py",
   "mimetype": "text/x-python",
   "name": "python",
   "nbconvert_exporter": "python",
   "pygments_lexer": "ipython3",
   "version": "3.10.5"
  },
  "vscode": {
   "interpreter": {
    "hash": "767d51c1340bd893661ea55ea3124f6de3c7a262a8b4abca0554b478b1e2ff90"
   }
  }
 },
 "nbformat": 4,
 "nbformat_minor": 2
}
