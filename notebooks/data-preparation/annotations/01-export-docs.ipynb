{
 "cells": [
  {
   "cell_type": "markdown",
   "metadata": {},
   "source": [
    "# load data"
   ]
  },
  {
   "cell_type": "code",
   "execution_count": null,
   "metadata": {},
   "outputs": [],
   "source": [
    "import os\n",
    "from glob import glob\n",
    "\n",
    "DOCS_PATH = os.environ[\"AYMURAI_RESTRICTED_DOCUMENT_DOCS_PATH\"]\n",
    "\n",
    "paths = glob(f\"{DOCS_PATH}/**/*.doc\", recursive=True)\n",
    "paths += glob(f\"{DOCS_PATH}/**/*.docx\", recursive=True)\n",
    "\n",
    "docs = [{\"path\": path} for path in paths]\n",
    "print(\"doc files:\", len(docs))"
   ]
  },
  {
   "cell_type": "code",
   "execution_count": null,
   "metadata": {},
   "outputs": [],
   "source": [
    "from aymurai.pipeline import AymurAIPipeline\n",
    "from aymurai.text.extraction import FulltextExtract\n",
    "from aymurai.text.normalize import JunkCleaner, TextNormalize\n",
    "\n",
    "config = {\n",
    "    \"preprocess\": [\n",
    "        (\n",
    "            FulltextExtract,\n",
    "            {\n",
    "                \"errors\": \"ignore\",\n",
    "                \"use_cache\": True,\n",
    "            },\n",
    "        ),\n",
    "        (TextNormalize, {}),\n",
    "    ],\n",
    "    \"models\": [],\n",
    "    \"postprocess\": [],\n",
    "    \"multiprocessing\": {},\n",
    "    \"use_cache\": False,\n",
    "    # 'log_level': 'debug'\n",
    "}\n",
    "\n",
    "pipeline = AymurAIPipeline(config)"
   ]
  },
  {
   "cell_type": "code",
   "execution_count": null,
   "metadata": {},
   "outputs": [],
   "source": [
    "\n",
    "preprocessed = pipeline.preprocess(docs)"
   ]
  },
  {
   "cell_type": "markdown",
   "metadata": {},
   "source": [
    "# utils & filters"
   ]
  },
  {
   "cell_type": "code",
   "execution_count": null,
   "metadata": {},
   "outputs": [],
   "source": [
    "import regex\n",
    "\n",
    "\n",
    "def search_in_doc(item, pat):\n",
    "    text = item['data']['doc.text']\n",
    "    return regex.findall(pat, text)\n",
    "\n",
    "def filterout_admisibilidad(item):\n",
    "    return not search_in_doc(item, r'(?i)admisibilidad{e<=2}')\n"
   ]
  },
  {
   "cell_type": "code",
   "execution_count": null,
   "metadata": {},
   "outputs": [],
   "source": [
    "no_admisibilidad = filter(filterout_admisibilidad, preprocessed)\n",
    "no_admisibilidad = list(no_admisibilidad)\n",
    "print(len(no_admisibilidad))"
   ]
  },
  {
   "cell_type": "markdown",
   "metadata": {},
   "source": [
    "# export to labelstudio"
   ]
  },
  {
   "cell_type": "code",
   "execution_count": null,
   "metadata": {},
   "outputs": [],
   "source": [
    "\n",
    "def to_labelstudio_json(item):\n",
    "    obj = {\n",
    "        'text': item['data']['doc.text'],\n",
    "        'meta_info': {\n",
    "            'path': item['path']\n",
    "        }\n",
    "    }\n",
    "    return obj\n"
   ]
  },
  {
   "cell_type": "code",
   "execution_count": null,
   "metadata": {},
   "outputs": [],
   "source": [
    "import json\n",
    "\n",
    "export = map(to_labelstudio_json, preprocessed)\n",
    "export = list(export)\n",
    "\n",
    "with open('dump-docs-labelstudio.json', 'w') as file:\n",
    "    json.dump(export, file)\n"
   ]
  }
 ],
 "metadata": {
  "kernelspec": {
   "display_name": "Python 3.10.8 64-bit",
   "language": "python",
   "name": "python3"
  },
  "language_info": {
   "codemirror_mode": {
    "name": "ipython",
    "version": 3
   },
   "file_extension": ".py",
   "mimetype": "text/x-python",
   "name": "python",
   "nbconvert_exporter": "python",
   "pygments_lexer": "ipython3",
   "version": "3.10.8"
  },
  "vscode": {
   "interpreter": {
    "hash": "767d51c1340bd893661ea55ea3124f6de3c7a262a8b4abca0554b478b1e2ff90"
   }
  }
 },
 "nbformat": 4,
 "nbformat_minor": 2
}
