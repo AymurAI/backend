{
 "cells": [
  {
   "cell_type": "code",
   "execution_count": null,
   "metadata": {},
   "outputs": [],
   "source": [
    "import os\n",
    "import json\n",
    "import spacy\n",
    "\n",
    "from aymurai.spacy.utils import format_entity"
   ]
  },
  {
   "cell_type": "code",
   "execution_count": null,
   "metadata": {},
   "outputs": [],
   "source": [
    "# Sample document annotations file\n",
    "with open(\"project-2-at-2022-10-31-18-18-a5782284.json\") as file:\n",
    "    docs = json.load(file)"
   ]
  },
  {
   "cell_type": "code",
   "execution_count": null,
   "metadata": {},
   "outputs": [],
   "source": [
    "type(docs)"
   ]
  },
  {
   "cell_type": "code",
   "execution_count": null,
   "metadata": {},
   "outputs": [],
   "source": [
    "len(docs)"
   ]
  },
  {
   "cell_type": "code",
   "execution_count": null,
   "metadata": {},
   "outputs": [],
   "source": [
    "docs[0].keys()"
   ]
  },
  {
   "cell_type": "code",
   "execution_count": null,
   "metadata": {},
   "outputs": [],
   "source": [
    "# Path\n",
    "docs[0][\"data\"][\"meta_info\"][\"path\"]"
   ]
  },
  {
   "cell_type": "code",
   "execution_count": null,
   "metadata": {},
   "outputs": [],
   "source": [
    "def get_path(annotation: dict) -> str:\n",
    "    full_path = annotation[\"data\"][\"meta_info\"][\"path\"]\n",
    "    full_dir, filename = os.path.split(full_path)\n",
    "    dir = os.path.basename(full_dir)\n",
    "    path = os.path.join(dir, filename)\n",
    "    return path"
   ]
  },
  {
   "cell_type": "code",
   "execution_count": null,
   "metadata": {},
   "outputs": [],
   "source": [
    "path_0 = get_path(docs[0])\n",
    "path_0"
   ]
  },
  {
   "cell_type": "code",
   "execution_count": null,
   "metadata": {},
   "outputs": [],
   "source": [
    "path_1 = get_path(docs[1])\n",
    "path_1"
   ]
  },
  {
   "cell_type": "code",
   "execution_count": null,
   "metadata": {},
   "outputs": [],
   "source": [
    "# Annotations\n",
    "docs[0][\"annotations\"][0].keys()"
   ]
  },
  {
   "cell_type": "code",
   "execution_count": null,
   "metadata": {},
   "outputs": [],
   "source": [
    "annot = docs[0][\"annotations\"][0]"
   ]
  },
  {
   "cell_type": "code",
   "execution_count": null,
   "metadata": {},
   "outputs": [],
   "source": [
    "annot[\"result\"][-1][\"value\"]"
   ]
  },
  {
   "cell_type": "code",
   "execution_count": null,
   "metadata": {},
   "outputs": [],
   "source": [
    "def get_entities(doc: dict) -> dict:\n",
    "    result = doc[\"annotations\"][0][\"result\"]\n",
    "    values = [res[\"value\"] for res in result]\n",
    "    values = [\n",
    "        {\n",
    "            \"label\" if k == \"labels\" else k: v[0] if k == \"labels\" else v\n",
    "            for k, v in value.items()\n",
    "        }\n",
    "        for value in values\n",
    "    ]\n",
    "    return values\n"
   ]
  },
  {
   "cell_type": "code",
   "execution_count": null,
   "metadata": {},
   "outputs": [],
   "source": [
    "entities_0 = get_entities(docs[0])\n",
    "entities_0"
   ]
  },
  {
   "cell_type": "code",
   "execution_count": null,
   "metadata": {},
   "outputs": [],
   "source": [
    "entities_1 = get_entities(docs[1])\n",
    "entities_1"
   ]
  },
  {
   "cell_type": "code",
   "execution_count": null,
   "metadata": {},
   "outputs": [],
   "source": [
    "nlp = spacy.blank(\"es\")"
   ]
  },
  {
   "cell_type": "code",
   "execution_count": null,
   "metadata": {},
   "outputs": [],
   "source": [
    "def get_formatted_entities(doc: dict) -> dict:\n",
    "    doc_ = nlp(doc[\"data\"][\"text\"])\n",
    "    entities = get_entities(doc)\n",
    "    spans = [\n",
    "        doc_.char_span(entity[\"start\"], entity[\"end\"], entity[\"label\"])\n",
    "        for entity in entities\n",
    "    ]\n",
    "    formatted_entities = [format_entity(span) for span in spans]\n",
    "    return formatted_entities\n"
   ]
  },
  {
   "cell_type": "code",
   "execution_count": null,
   "metadata": {},
   "outputs": [],
   "source": [
    "get_formatted_entities(docs[0])"
   ]
  },
  {
   "cell_type": "code",
   "execution_count": null,
   "metadata": {},
   "outputs": [],
   "source": [
    "def get_data_item(doc: dict) -> dict:\n",
    "    path = get_path(doc)\n",
    "    entities = get_formatted_entities(doc)\n",
    "    data_item = {\n",
    "        \"path\": path,\n",
    "        \"annotations\": entities,\n",
    "        \"data\": {\"doc.text\": doc[\"data\"][\"text\"]},\n",
    "    }\n",
    "\n",
    "    return data_item\n"
   ]
  },
  {
   "cell_type": "code",
   "execution_count": null,
   "metadata": {},
   "outputs": [],
   "source": [
    "data_items = [get_data_item(doc) for doc in docs]"
   ]
  },
  {
   "cell_type": "code",
   "execution_count": null,
   "metadata": {},
   "outputs": [],
   "source": [
    "data_items[0]"
   ]
  },
  {
   "cell_type": "code",
   "execution_count": null,
   "metadata": {},
   "outputs": [],
   "source": [
    "data_items[1]"
   ]
  }
 ],
 "metadata": {
  "kernelspec": {
   "display_name": "Python 3 (ipykernel)",
   "language": "python",
   "name": "python3"
  },
  "language_info": {
   "codemirror_mode": {
    "name": "ipython",
    "version": 3
   },
   "file_extension": ".py",
   "mimetype": "text/x-python",
   "name": "python",
   "nbconvert_exporter": "python",
   "pygments_lexer": "ipython3",
   "version": "3.10.8"
  },
  "vscode": {
   "interpreter": {
    "hash": "97cc609b13305c559618ec78a438abc56230b9381f827f22d070313b9a1f3777"
   }
  }
 },
 "nbformat": 4,
 "nbformat_minor": 4
}
