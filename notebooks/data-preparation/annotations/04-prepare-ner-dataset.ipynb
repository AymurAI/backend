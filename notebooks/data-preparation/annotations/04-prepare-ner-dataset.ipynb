{
 "cells": [
  {
   "cell_type": "code",
   "execution_count": null,
   "id": "1f11dfc1",
   "metadata": {},
   "outputs": [],
   "source": [
    "import json\n",
    "import re\n",
    "\n",
    "from numpy import cumsum\n",
    "\n",
    "from aymurai.text.extraction import extract_document\n",
    "from glob import glob\n",
    "from more_itertools import flatten"
   ]
  },
  {
   "cell_type": "markdown",
   "id": "b684e146",
   "metadata": {},
   "source": [
    "## Annotations"
   ]
  },
  {
   "cell_type": "code",
   "execution_count": null,
   "id": "2003feda",
   "metadata": {},
   "outputs": [],
   "source": [
    "# Read annotations - JSON (change path if necessary)\n",
    "json_path = \"/resources/annotations/label-studio/project-4-at-2022-11-16-19-55-cb21c77f.json\"\n",
    "json_annotations = json.load(open(json_path))"
   ]
  },
  {
   "cell_type": "code",
   "execution_count": null,
   "id": "17b292bf",
   "metadata": {},
   "outputs": [],
   "source": [
    "len(json_annotations)"
   ]
  },
  {
   "cell_type": "code",
   "execution_count": null,
   "id": "4aed8b90-2530-4849-81f6-ed3ef884ba2e",
   "metadata": {},
   "outputs": [],
   "source": [
    "# Read annotations - CoNLL format (change path if necessary)\n",
    "annotations_path = \"/resources/annotations/label-studio/project-4-at-2022-11-16-19-55-cb21c77f.conll\"\n",
    "\n",
    "with open(annotations_path) as file:\n",
    "    annotations = file.read()"
   ]
  },
  {
   "cell_type": "code",
   "execution_count": null,
   "id": "182fca14",
   "metadata": {},
   "outputs": [],
   "source": [
    "# Inspect the file\n",
    "for line in annotations.splitlines()[:20]: print(line)"
   ]
  },
  {
   "cell_type": "code",
   "execution_count": null,
   "id": "e46ba3a0",
   "metadata": {},
   "outputs": [],
   "source": [
    "# Split annotations corresponding to different documents\n",
    "annots = annotations.split(\"\\n\\n\")"
   ]
  },
  {
   "cell_type": "code",
   "execution_count": null,
   "id": "3eeeac71",
   "metadata": {},
   "outputs": [],
   "source": [
    "# Pop empty element\n",
    "annots.pop(annots.index(\"\"))"
   ]
  },
  {
   "cell_type": "code",
   "execution_count": null,
   "id": "428ca190",
   "metadata": {},
   "outputs": [],
   "source": [
    "# Number of annotated documents\n",
    "len(annots)"
   ]
  },
  {
   "cell_type": "markdown",
   "id": "32df6578",
   "metadata": {},
   "source": [
    "## Documents"
   ]
  },
  {
   "cell_type": "code",
   "execution_count": null,
   "id": "1090671e",
   "metadata": {},
   "outputs": [],
   "source": [
    "# Document paths\n",
    "doc_paths = [\n",
    "    json_annotation[\"data\"][\"meta_info\"][\"path\"] for json_annotation in json_annotations\n",
    "]\n",
    "\n",
    "# Correct paths\n",
    "doc_paths = [\n",
    "    (\n",
    "        doc_path.replace(\"restricted\", \"data/restricted\").replace(\n",
    "            \"RESOLUCIONES DEL JUZGADO - DOCS\", \"RESOLUCIONES DEL JUZGADO\"\n",
    "        )\n",
    "    )\n",
    "    for doc_path in doc_paths\n",
    "]\n",
    "\n",
    "doc_paths\n"
   ]
  },
  {
   "cell_type": "code",
   "execution_count": null,
   "id": "0d21a6ca-0aac-4a3b-abf1-0368a2ee112b",
   "metadata": {},
   "outputs": [],
   "source": [
    "# Read document\n",
    "doc_path =  doc_paths[2] # Change if necessary\n",
    "doc = extract_document(doc_path)"
   ]
  },
  {
   "cell_type": "code",
   "execution_count": null,
   "id": "527d1488",
   "metadata": {},
   "outputs": [],
   "source": [
    "# Inspect the text\n",
    "for line in doc.splitlines()[:20]: print(line)"
   ]
  },
  {
   "cell_type": "code",
   "execution_count": null,
   "id": "e3384098",
   "metadata": {},
   "outputs": [],
   "source": [
    "# Number of lines\n",
    "len(doc.splitlines())"
   ]
  },
  {
   "cell_type": "code",
   "execution_count": null,
   "id": "91418574",
   "metadata": {},
   "outputs": [],
   "source": [
    "# Number of lines removing multiple new line characters\n",
    "doc = re.sub(r\"\\n+\", \"\\n\", doc)\n",
    "len(doc.splitlines())"
   ]
  },
  {
   "cell_type": "code",
   "execution_count": null,
   "id": "fa0e6b9c",
   "metadata": {},
   "outputs": [],
   "source": [
    "# Inspect the result\n",
    "for line in doc.splitlines(): print(line)"
   ]
  },
  {
   "cell_type": "code",
   "execution_count": null,
   "id": "0c295216",
   "metadata": {},
   "outputs": [],
   "source": [
    "set(re.findall(r\"\\s\", doc))"
   ]
  },
  {
   "cell_type": "code",
   "execution_count": null,
   "id": "30335866",
   "metadata": {},
   "outputs": [],
   "source": [
    "# Replace '\\t' and '\\xa0' for white space\n",
    "doc = re.sub(r\"(?:\\t|\\xa0)+\", \" \", doc)\n",
    "\n",
    "# Remove multiple spaces except new lines\n",
    "doc = re.sub(r\"[^\\S\\r\\n]+\", \" \", doc)\n",
    "\n",
    "# Replace multiple new lines with just one break\n",
    "doc = re.sub(r\"\\n+\", \"\\n\", doc)"
   ]
  },
  {
   "cell_type": "code",
   "execution_count": null,
   "id": "d0abaa43",
   "metadata": {},
   "outputs": [],
   "source": [
    "# Inspect the result\n",
    "for line in doc.splitlines(): print(line)"
   ]
  },
  {
   "cell_type": "code",
   "execution_count": null,
   "id": "fb113cda",
   "metadata": {},
   "outputs": [],
   "source": [
    "# Number of tokens\n",
    "len(doc.split())"
   ]
  },
  {
   "cell_type": "markdown",
   "id": "eb38a44a",
   "metadata": {},
   "source": [
    "## Prepare annotations\n",
    "\n",
    "Split the document by paragraphs"
   ]
  },
  {
   "cell_type": "code",
   "execution_count": null,
   "id": "e20caa0a",
   "metadata": {},
   "outputs": [],
   "source": [
    "# Document annotations\n",
    "doc_annots = annots[2] # Change if necessary\n",
    "# doc_annots"
   ]
  },
  {
   "cell_type": "code",
   "execution_count": null,
   "id": "00e5a7c9",
   "metadata": {},
   "outputs": [],
   "source": [
    "for line in doc_annots.splitlines(): print(line)"
   ]
  },
  {
   "cell_type": "code",
   "execution_count": null,
   "id": "7961fd64",
   "metadata": {},
   "outputs": [],
   "source": [
    "# Remove -DOCSTART- from annotations\n",
    "doc_annots = doc_annots.replace(\"-DOCSTART- -X- O\\n\", \"\")"
   ]
  },
  {
   "cell_type": "code",
   "execution_count": null,
   "id": "69e8cb21",
   "metadata": {},
   "outputs": [],
   "source": [
    "# Split document by line\n",
    "splitted = doc.splitlines()"
   ]
  },
  {
   "cell_type": "markdown",
   "id": "02c3a69f",
   "metadata": {},
   "source": [
    "Insert new line characters to split a document into paragraphs"
   ]
  },
  {
   "cell_type": "code",
   "execution_count": null,
   "id": "72a2c3c4",
   "metadata": {},
   "outputs": [],
   "source": [
    "# Find number of tokens per line\n",
    "n_tokens = [len(line.split()) for line in splitted]\n",
    "print(n_tokens)"
   ]
  },
  {
   "cell_type": "code",
   "execution_count": null,
   "id": "01a29d2b",
   "metadata": {},
   "outputs": [],
   "source": [
    "# Find indexes where a new line character must be inserted,\n",
    "idx = [idx + i for i, idx in enumerate(cumsum(n_tokens))]\n",
    "print(idx)"
   ]
  },
  {
   "cell_type": "code",
   "execution_count": null,
   "id": "77f090cc",
   "metadata": {},
   "outputs": [],
   "source": [
    "# Split document annotations by line\n",
    "splitted_annots = doc_annots.splitlines()\n",
    "splitted_annots"
   ]
  },
  {
   "cell_type": "code",
   "execution_count": null,
   "id": "cd394b75",
   "metadata": {},
   "outputs": [],
   "source": [
    "# Insert new line character where needed\n",
    "for i in idx:\n",
    "    splitted_annots.insert(i, \"\\n\")"
   ]
  },
  {
   "cell_type": "code",
   "execution_count": null,
   "id": "db29e69f",
   "metadata": {},
   "outputs": [],
   "source": [
    "# Inspect the result\n",
    "splitted_annots"
   ]
  },
  {
   "cell_type": "code",
   "execution_count": null,
   "id": "37c13c15",
   "metadata": {},
   "outputs": [],
   "source": [
    "# Join the new annotations\n",
    "joined_annots = \"\\n\".join(splitted_annots)\n",
    "joined_annots = re.sub(\"\\n{3,}\", \"\\n\\n\", joined_annots)"
   ]
  },
  {
   "cell_type": "code",
   "execution_count": null,
   "id": "82531a6d",
   "metadata": {},
   "outputs": [],
   "source": [
    "# Inspect the result\n",
    "for line in joined_annots.splitlines(): print(line)"
   ]
  },
  {
   "cell_type": "markdown",
   "id": "7dd46e28",
   "metadata": {},
   "source": [
    "## Write the result"
   ]
  },
  {
   "cell_type": "code",
   "execution_count": null,
   "id": "d39e8912",
   "metadata": {},
   "outputs": [],
   "source": [
    "new_annots = []\n",
    "\n",
    "for doc_path, annot in zip(doc_paths, annots):\n",
    "    # Extract document\n",
    "    doc = extract_document(doc_path)\n",
    "\n",
    "    # Replace '\\t' and '\\xa0' for white space\n",
    "    doc = re.sub(r\"(?:\\t|\\xa0)+\", \" \", doc)\n",
    "\n",
    "    # Remove multiple spaces except new lines\n",
    "    doc = re.sub(r\"[^\\S\\r\\n]+\", \" \", doc)\n",
    "\n",
    "    # Replace multiple new lines with just one break\n",
    "    doc = re.sub(r\"\\n+\", \"\\n\", doc)\n",
    "\n",
    "    # Split document by line\n",
    "    splitted = doc.splitlines()\n",
    "\n",
    "    # Find number of tokens per line\n",
    "    n_tokens = [len(line.split()) for line in splitted]\n",
    "\n",
    "    # Find indexes where a new line character must be inserted,\n",
    "    idx = [idx + i for i, idx in enumerate(cumsum(n_tokens))]\n",
    "\n",
    "    # Remove -DOCSTART- from annotations\n",
    "    annot = annot.replace(\"-DOCSTART- -X- O\\n\", \"\")\n",
    "\n",
    "    # Remove unuseful tags\n",
    "    annot = annot.replace(\" -X- _\", \"\")\n",
    "\n",
    "    # Split document annotations by line\n",
    "    splitted_annots = annot.splitlines()\n",
    "\n",
    "    # Insert new line character where needed\n",
    "    for i in idx:\n",
    "        splitted_annots.insert(i, \"\\n\")\n",
    "        \n",
    "    # Join the new annotations\n",
    "    joined_annots = \"\\n\".join(splitted_annots)\n",
    "    joined_annots = re.sub(\"\\n{3,}\", \"\\n\\n\", joined_annots)\n",
    "\n",
    "    # Append annots\n",
    "    new_annots.append(joined_annots)"
   ]
  },
  {
   "cell_type": "code",
   "execution_count": null,
   "id": "9e9d489e",
   "metadata": {},
   "outputs": [],
   "source": [
    "result = \"\\n\".join(new_annots)\n",
    "result = re.sub(\"\\n{3,}\", \"\\n\\n\", result)\n",
    "print(result)"
   ]
  },
  {
   "cell_type": "code",
   "execution_count": null,
   "id": "4cdbdce1",
   "metadata": {},
   "outputs": [],
   "source": [
    "with open(\"/resources/annotations/annots.txt\", \"w\") as file:\n",
    "    file.write(result)"
   ]
  },
  {
   "cell_type": "markdown",
   "id": "735c7edc",
   "metadata": {},
   "source": [
    "## Train - dev - test split"
   ]
  },
  {
   "cell_type": "code",
   "execution_count": null,
   "id": "939ef7b4",
   "metadata": {},
   "outputs": [],
   "source": [
    "import random\n",
    "from sklearn.model_selection import train_test_split\n",
    "from aymurai.datasets.ar_juz_pcyf_10.annotations import ArgentinaJuzgadoPCyF10LabelStudioAnnotations"
   ]
  },
  {
   "cell_type": "code",
   "execution_count": null,
   "id": "9f8568f4",
   "metadata": {},
   "outputs": [],
   "source": [
    "dataset = ArgentinaJuzgadoPCyF10LabelStudioAnnotations('/resources/annotations/label-studio/resos-annotations/30-nov/no-decision/')"
   ]
  },
  {
   "cell_type": "code",
   "execution_count": null,
   "id": "e51e3118",
   "metadata": {},
   "outputs": [],
   "source": [
    "len(dataset)"
   ]
  },
  {
   "cell_type": "code",
   "execution_count": null,
   "id": "d99417f8",
   "metadata": {},
   "outputs": [],
   "source": [
    "len(set([sample[\"path\"] for sample in dataset]))"
   ]
  },
  {
   "cell_type": "code",
   "execution_count": null,
   "id": "9f64c838",
   "metadata": {},
   "outputs": [],
   "source": [
    "print(dataset[random.choice(range(1200))][\"annotations\"][\"conll\"])"
   ]
  },
  {
   "cell_type": "code",
   "execution_count": null,
   "id": "942f8b52",
   "metadata": {},
   "outputs": [],
   "source": [
    "# doc_texts = [sample[\"data\"][\"doc.text\"] for sample in dataset] \n",
    "# entities = [sample[\"annotations\"][\"entities\"] for sample in dataset]\n",
    "# conll = [sample[\"annotations\"][\"conll\"] for sample in dataset]\n",
    "\n",
    "conll = []\n",
    "paths = set()\n",
    "\n",
    "for sample in dataset:\n",
    "    if sample[\"path\"] not in paths:\n",
    "        conll.append(sample[\"annotations\"][\"conll\"])\n",
    "        paths.add(sample[\"path\"])"
   ]
  },
  {
   "cell_type": "code",
   "execution_count": null,
   "id": "834b38d6",
   "metadata": {},
   "outputs": [],
   "source": [
    "len(conll)"
   ]
  },
  {
   "cell_type": "code",
   "execution_count": null,
   "id": "37caef4c",
   "metadata": {},
   "outputs": [],
   "source": [
    "print(conll[-1])"
   ]
  },
  {
   "cell_type": "markdown",
   "id": "6c1e254f",
   "metadata": {},
   "source": [
    "#### EDA"
   ]
  },
  {
   "cell_type": "code",
   "execution_count": null,
   "id": "fe366a9d",
   "metadata": {},
   "outputs": [],
   "source": [
    "n_tokens = [len([line for line in sample.splitlines() if line != \"\"]) for sample in conll]"
   ]
  },
  {
   "cell_type": "code",
   "execution_count": null,
   "id": "8bc6e494",
   "metadata": {},
   "outputs": [],
   "source": [
    "labels = [line.split()[-1] for annot in conll for line in annot.splitlines() if line != \"\"]"
   ]
  },
  {
   "cell_type": "code",
   "execution_count": null,
   "id": "a8ae5ec0",
   "metadata": {},
   "outputs": [],
   "source": [
    "len(labels)"
   ]
  },
  {
   "cell_type": "code",
   "execution_count": null,
   "id": "30143da7",
   "metadata": {},
   "outputs": [],
   "source": [
    "sum(n_tokens)"
   ]
  },
  {
   "cell_type": "code",
   "execution_count": null,
   "id": "416b9a95",
   "metadata": {},
   "outputs": [],
   "source": [
    "import pandas as pd"
   ]
  },
  {
   "cell_type": "code",
   "execution_count": null,
   "id": "d7ca052f",
   "metadata": {},
   "outputs": [],
   "source": [
    "pd.Series(n_tokens).describe(percentiles=[.01, .05, .25, .5, .75, .95, .99])"
   ]
  },
  {
   "cell_type": "code",
   "execution_count": null,
   "id": "e638f16d",
   "metadata": {},
   "outputs": [],
   "source": [
    "import matplotlib.pyplot as plt"
   ]
  },
  {
   "cell_type": "code",
   "execution_count": null,
   "id": "b09b9e2a",
   "metadata": {},
   "outputs": [],
   "source": [
    "labels = pd.Series(labels)\n",
    "labels.sample(10)"
   ]
  },
  {
   "cell_type": "code",
   "execution_count": null,
   "id": "29cc7f17",
   "metadata": {},
   "outputs": [],
   "source": [
    "import re"
   ]
  },
  {
   "cell_type": "code",
   "execution_count": null,
   "id": "9d8cd4a5",
   "metadata": {},
   "outputs": [],
   "source": [
    "labels = labels.map(lambda x: re.sub(r\"B-|I-\", \"\", x))"
   ]
  },
  {
   "cell_type": "code",
   "execution_count": null,
   "id": "6763f92a",
   "metadata": {},
   "outputs": [],
   "source": [
    "labels.value_counts().head(10)"
   ]
  },
  {
   "cell_type": "code",
   "execution_count": null,
   "id": "d9129fec",
   "metadata": {},
   "outputs": [],
   "source": [
    "labels.value_counts().tail(10)"
   ]
  },
  {
   "cell_type": "code",
   "execution_count": null,
   "id": "ee44a2e8",
   "metadata": {},
   "outputs": [],
   "source": [
    "labels.nunique()"
   ]
  },
  {
   "cell_type": "code",
   "execution_count": null,
   "id": "a909945d",
   "metadata": {},
   "outputs": [],
   "source": [
    "plt.figure(figsize=(20,10))\n",
    "labels.value_counts().plot(kind=\"bar\");"
   ]
  },
  {
   "cell_type": "code",
   "execution_count": null,
   "id": "2c33425e",
   "metadata": {},
   "outputs": [],
   "source": [
    "plt.figure(figsize=(20,10))\n",
    "labels.value_counts()[1:].plot(kind=\"bar\");"
   ]
  },
  {
   "cell_type": "code",
   "execution_count": null,
   "id": "e6b6918c",
   "metadata": {},
   "outputs": [],
   "source": [
    "# Random shuffle - documents\n",
    "random.seed(42)\n",
    "random.shuffle(conll)"
   ]
  },
  {
   "cell_type": "code",
   "execution_count": null,
   "id": "dcbfdf3a",
   "metadata": {},
   "outputs": [],
   "source": [
    "# Train - val - test split\n",
    "train, test = train_test_split(conll, random_state=42)\n",
    "dev, test = train_test_split(test, test_size=0.5, random_state=42)"
   ]
  },
  {
   "cell_type": "code",
   "execution_count": null,
   "id": "87335e6a",
   "metadata": {},
   "outputs": [],
   "source": [
    "len(train), len(dev), len(test)"
   ]
  },
  {
   "cell_type": "code",
   "execution_count": null,
   "id": "9cc9e535",
   "metadata": {},
   "outputs": [],
   "source": [
    "assert len(train) + len(dev) + len(test) == len(conll)"
   ]
  },
  {
   "cell_type": "code",
   "execution_count": null,
   "id": "13834b79",
   "metadata": {},
   "outputs": [],
   "source": [
    "print(test[0])"
   ]
  },
  {
   "cell_type": "code",
   "execution_count": null,
   "id": "c6a0ccda",
   "metadata": {},
   "outputs": [],
   "source": [
    "# Random shuffle - paragraphs\n",
    "# Join annotations\n",
    "train = \"\\n\\n\".join(train)\n",
    "dev = \"\\n\\n\".join(dev)\n",
    "test = \"\\n\\n\".join(test)\n",
    "\n",
    "# Resplit by paragraph\n",
    "train = [paragraph for paragraph in train.split(\"\\n\\n\") if paragraph != \"\"]\n",
    "dev = [paragraph for paragraph in dev.split(\"\\n\\n\") if paragraph != \"\"]\n",
    "test = [paragraph for paragraph in test.split(\"\\n\\n\") if paragraph != \"\"]\n",
    "\n",
    "# Shuffle\n",
    "random.seed(42)\n",
    "random.shuffle(train)\n",
    "random.shuffle(dev)\n",
    "random.shuffle(test)"
   ]
  },
  {
   "cell_type": "code",
   "execution_count": null,
   "id": "b39236dd",
   "metadata": {},
   "outputs": [],
   "source": [
    "train[0]"
   ]
  },
  {
   "cell_type": "code",
   "execution_count": null,
   "id": "4ba7e56f",
   "metadata": {},
   "outputs": [],
   "source": [
    "dev[0]"
   ]
  },
  {
   "cell_type": "code",
   "execution_count": null,
   "id": "6cb3f6f8",
   "metadata": {},
   "outputs": [],
   "source": [
    "test[0]"
   ]
  },
  {
   "cell_type": "code",
   "execution_count": null,
   "id": "ba8d7c17",
   "metadata": {},
   "outputs": [],
   "source": [
    "len(train), len(dev), len(test)"
   ]
  },
  {
   "cell_type": "code",
   "execution_count": null,
   "id": "751265d7",
   "metadata": {},
   "outputs": [],
   "source": [
    "# Rejoin annotations\n",
    "train = \"\\n\\n\".join(train)\n",
    "dev = \"\\n\\n\".join(dev)\n",
    "test = \"\\n\\n\".join(test)"
   ]
  },
  {
   "cell_type": "code",
   "execution_count": null,
   "id": "bad151f9",
   "metadata": {},
   "outputs": [],
   "source": [
    "!mkdir /resources/ner/flair/resos-20221130-no-decision"
   ]
  },
  {
   "cell_type": "code",
   "execution_count": null,
   "id": "ba8c2a71",
   "metadata": {},
   "outputs": [],
   "source": [
    "with open(\"/resources/ner/flair/resos-20221130-no-decision/train.txt\", \"w\") as file:\n",
    "    file.write(train)\n",
    "\n",
    "with open(\"/resources/ner/flair/resos-20221130-no-decision/dev.txt\", \"w\") as file:\n",
    "    file.write(dev)\n",
    "\n",
    "with open(\"/resources/ner/flair/resos-20221130-no-decision/test.txt\", \"w\") as file:\n",
    "    file.write(test)"
   ]
  },
  {
   "cell_type": "code",
   "execution_count": null,
   "id": "66617d91",
   "metadata": {},
   "outputs": [],
   "source": []
  }
 ],
 "metadata": {
  "kernelspec": {
   "display_name": "Python 3 (ipykernel)",
   "language": "python",
   "name": "python3"
  },
  "language_info": {
   "codemirror_mode": {
    "name": "ipython",
    "version": 3
   },
   "file_extension": ".py",
   "mimetype": "text/x-python",
   "name": "python",
   "nbconvert_exporter": "python",
   "pygments_lexer": "ipython3",
   "version": "3.10.8 (main, Oct 12 2022, 19:14:26) [GCC 9.4.0]"
  },
  "vscode": {
   "interpreter": {
    "hash": "e7370f93d1d0cde622a1f8e1c04877d8463912d04d973331ad4851f04de6915a"
   }
  }
 },
 "nbformat": 4,
 "nbformat_minor": 5
}
