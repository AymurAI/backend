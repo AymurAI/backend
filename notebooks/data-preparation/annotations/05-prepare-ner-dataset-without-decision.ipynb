{
 "cells": [
  {
   "cell_type": "code",
   "execution_count": null,
   "metadata": {},
   "outputs": [],
   "source": [
    "from aymurai.utils.json_data import load_json, save_json, group_by_key"
   ]
  },
  {
   "cell_type": "markdown",
   "metadata": {},
   "source": [
    "## Load data"
   ]
  },
  {
   "cell_type": "code",
   "execution_count": null,
   "metadata": {},
   "outputs": [],
   "source": [
    "# load data\n",
    "data = load_json(\"/resources/annotations/label-studio/resos-annotations/30-nov/project-3-at-2022-11-30-16-04-2b43bf39.json\")\n",
    "len(data)"
   ]
  },
  {
   "cell_type": "code",
   "execution_count": null,
   "metadata": {},
   "outputs": [],
   "source": [
    "# pick one sample\n",
    "sample = data[-1]"
   ]
  },
  {
   "cell_type": "code",
   "execution_count": null,
   "metadata": {},
   "outputs": [],
   "source": [
    "sample.keys()"
   ]
  },
  {
   "cell_type": "code",
   "execution_count": null,
   "metadata": {},
   "outputs": [],
   "source": [
    "sample[\"annotations\"]"
   ]
  },
  {
   "cell_type": "code",
   "execution_count": null,
   "metadata": {},
   "outputs": [],
   "source": [
    "len(sample[\"annotations\"])"
   ]
  },
  {
   "cell_type": "code",
   "execution_count": null,
   "metadata": {},
   "outputs": [],
   "source": [
    "len(sample[\"annotations\"][0])"
   ]
  },
  {
   "cell_type": "code",
   "execution_count": null,
   "metadata": {},
   "outputs": [],
   "source": [
    "len(sample[\"annotations\"][0][\"result\"])"
   ]
  },
  {
   "cell_type": "code",
   "execution_count": null,
   "metadata": {},
   "outputs": [],
   "source": [
    "sample[\"annotations\"][0][\"result\"][-10:]"
   ]
  },
  {
   "cell_type": "markdown",
   "metadata": {},
   "source": [
    "## No decision"
   ]
  },
  {
   "cell_type": "code",
   "execution_count": null,
   "metadata": {},
   "outputs": [],
   "source": [
    "def filter_decision(annot: dict) -> bool:\n",
    "    try:\n",
    "        labels = annot[\"value\"][\"labels\"]\n",
    "        if \"DECISION\" not in labels:\n",
    "            return True\n",
    "        \n",
    "    except:\n",
    "        try:\n",
    "            from_name = annot[\"from_name\"]\n",
    "            if from_name != \"DECISION\":\n",
    "                return True\n",
    "        \n",
    "        except:\n",
    "            return False"
   ]
  },
  {
   "cell_type": "code",
   "execution_count": null,
   "metadata": {},
   "outputs": [],
   "source": [
    "no_decision = list(filter(filter_decision, sample[\"annotations\"][0][\"result\"]))\n",
    "len(no_decision)"
   ]
  },
  {
   "cell_type": "code",
   "execution_count": null,
   "metadata": {},
   "outputs": [],
   "source": [
    "for sample in data:\n",
    "    no_decision = list(filter(filter_decision, sample[\"annotations\"][0][\"result\"]))\n",
    "    sample[\"annotations\"][0][\"result\"] = no_decision"
   ]
  },
  {
   "cell_type": "code",
   "execution_count": null,
   "metadata": {},
   "outputs": [],
   "source": [
    "len(data[-1][\"annotations\"][0][\"result\"])"
   ]
  },
  {
   "cell_type": "code",
   "execution_count": null,
   "metadata": {},
   "outputs": [],
   "source": [
    "file_path = \"/resources/annotations/label-studio/resos-annotations/30-nov/no_decision.json\"\n",
    "save_json(data, file_path)"
   ]
  },
  {
   "cell_type": "markdown",
   "metadata": {},
   "source": [
    "## Grouped by key"
   ]
  },
  {
   "cell_type": "code",
   "execution_count": null,
   "metadata": {},
   "outputs": [],
   "source": [
    "grouped = list(group_by_key(sample[\"annotations\"][0][\"result\"], group_key=\"id\", sort_key=\"id\"))"
   ]
  },
  {
   "cell_type": "code",
   "execution_count": null,
   "metadata": {},
   "outputs": [],
   "source": [
    "len(grouped)"
   ]
  },
  {
   "cell_type": "code",
   "execution_count": null,
   "metadata": {},
   "outputs": [],
   "source": [
    "[len(group) for group in grouped]"
   ]
  },
  {
   "cell_type": "code",
   "execution_count": null,
   "metadata": {},
   "outputs": [],
   "source": [
    "grouped[-1]"
   ]
  },
  {
   "cell_type": "code",
   "execution_count": null,
   "metadata": {},
   "outputs": [],
   "source": []
  },
  {
   "cell_type": "markdown",
   "metadata": {},
   "source": [
    "## Format for extracting subcategories"
   ]
  },
  {
   "cell_type": "code",
   "execution_count": null,
   "metadata": {},
   "outputs": [],
   "source": [
    "from more_itertools import collapse"
   ]
  },
  {
   "cell_type": "code",
   "execution_count": null,
   "metadata": {},
   "outputs": [],
   "source": [
    "list(collapse(grouped[-1]))"
   ]
  },
  {
   "cell_type": "code",
   "execution_count": null,
   "metadata": {},
   "outputs": [],
   "source": [
    "outputDict1 = dict((k, set()) for k in collapse(grouped[-1]))\n",
    "\n",
    "for d in grouped[-1]:\n",
    "    keys = d.keys()\n",
    "    values = d.values()\n",
    "    for k, v in zip(keys, values):\n",
    "        if not isinstance(v, dict):\n",
    "            outputDict1[k].add(v)\n",
    "        else:\n",
    "            if not isinstance(outputDict1[k], dict):\n",
    "                outputDict1[k] = dict()\n",
    "            outputDict1[k] = outputDict1[k] | v\n",
    "\n",
    "outputDict1"
   ]
  },
  {
   "cell_type": "code",
   "execution_count": null,
   "metadata": {},
   "outputs": [],
   "source": [
    "grouped[-1]"
   ]
  },
  {
   "cell_type": "code",
   "execution_count": null,
   "metadata": {},
   "outputs": [],
   "source": [
    "from copy import deepcopy\n",
    "from typing import Union, Any\n",
    "\n",
    "\n",
    "def parse_set(set_: set) -> Union[Any, list]:\n",
    "    list_ = list(set_)\n",
    "    if len(list_) == 1:\n",
    "        return list_[0]\n",
    "    return list_"
   ]
  },
  {
   "cell_type": "code",
   "execution_count": null,
   "metadata": {},
   "outputs": [],
   "source": [
    "def parse_annotations(annots: list[dict]) -> dict:\n",
    "    output_dict = dict((k, set()) for k in collapse(grouped[-2]))\n",
    "\n",
    "    for d in annots:\n",
    "        keys = d.keys()\n",
    "        values = d.values()\n",
    "\n",
    "        for k, v in zip(keys, values):\n",
    "            if not isinstance(v, dict):\n",
    "                output_dict[k].add(v)\n",
    "\n",
    "            else:\n",
    "                if not isinstance(output_dict[k], dict):\n",
    "                    output_dict[k] = dict()\n",
    "                output_dict[k] = output_dict[k] | v\n",
    "\n",
    "    output_dict = output_dict[\"value\"] | {\"id\": output_dict[\"id\"]}\n",
    "\n",
    "    output_dict = {\n",
    "        k: parse_set(v) if k not in (\"labels\", \"choices\") and isinstance(v, set) else v for k, v in output_dict.items()\n",
    "    }\n",
    "\n",
    "\n",
    "    return output_dict\n"
   ]
  },
  {
   "cell_type": "code",
   "execution_count": null,
   "metadata": {},
   "outputs": [],
   "source": [
    "parse_annotations(grouped[-1])"
   ]
  },
  {
   "cell_type": "code",
   "execution_count": null,
   "metadata": {},
   "outputs": [],
   "source": [
    "parse_annotations(grouped[-2])"
   ]
  },
  {
   "cell_type": "code",
   "execution_count": null,
   "metadata": {},
   "outputs": [],
   "source": [
    "annotations = [parse_annotations(group) for group in grouped]"
   ]
  },
  {
   "cell_type": "code",
   "execution_count": null,
   "metadata": {},
   "outputs": [],
   "source": [
    "len(annotations)"
   ]
  },
  {
   "cell_type": "code",
   "execution_count": null,
   "metadata": {},
   "outputs": [],
   "source": [
    "annotations"
   ]
  },
  {
   "cell_type": "code",
   "execution_count": null,
   "metadata": {},
   "outputs": [],
   "source": [
    "annotations[0].keys()"
   ]
  },
  {
   "cell_type": "code",
   "execution_count": null,
   "metadata": {},
   "outputs": [],
   "source": [
    "print(len(annotations))\n",
    "filtered_annotations = [\n",
    "    annotation\n",
    "    for annotation in annotations\n",
    "    if \"labels\" in list(annotation.keys()) and annotation[\"labels\"][0] != \"DECISION\"\n",
    "]\n",
    "print(len(filtered_annotations))\n"
   ]
  }
 ],
 "metadata": {
  "kernelspec": {
   "display_name": "Python 3 (ipykernel)",
   "language": "python",
   "name": "python3"
  },
  "language_info": {
   "codemirror_mode": {
    "name": "ipython",
    "version": 3
   },
   "file_extension": ".py",
   "mimetype": "text/x-python",
   "name": "python",
   "nbconvert_exporter": "python",
   "pygments_lexer": "ipython3",
   "version": "3.10.8 (main, Oct 12 2022, 19:14:26) [GCC 9.4.0]"
  },
  "vscode": {
   "interpreter": {
    "hash": "e7370f93d1d0cde622a1f8e1c04877d8463912d04d973331ad4851f04de6915a"
   }
  }
 },
 "nbformat": 4,
 "nbformat_minor": 4
}
