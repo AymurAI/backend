{
 "cells": [
  {
   "cell_type": "code",
   "execution_count": null,
   "metadata": {},
   "outputs": [],
   "source": [
    "%load_ext autoreload\n",
    "%autoreload 2"
   ]
  },
  {
   "attachments": {},
   "cell_type": "markdown",
   "metadata": {},
   "source": [
    "# Load annotatations dataset"
   ]
  },
  {
   "cell_type": "code",
   "execution_count": null,
   "metadata": {},
   "outputs": [],
   "source": [
    "from aymurai.datasets.ar_juz_pcyf_10.annotations import (\n",
    "    ArgentinaJuzgadoPCyF10LabelStudioAnnotations,\n",
    ")\n",
    "\n",
    "docs = ArgentinaJuzgadoPCyF10LabelStudioAnnotations(\n",
    "    \"/resources/data/restricted/annotations/20221130-bis/\"\n",
    ").data\n",
    "\n",
    "sample = docs[:10]\n",
    "\n",
    "print(len(docs))"
   ]
  },
  {
   "cell_type": "code",
   "execution_count": null,
   "metadata": {},
   "outputs": [],
   "source": [
    "from aymurai.pipeline import AymurAIPipeline\n",
    "\n",
    "pipeline = AymurAIPipeline.load(\"/resources/pipelines/production/full-paragraph\")\n"
   ]
  },
  {
   "cell_type": "code",
   "execution_count": null,
   "metadata": {},
   "outputs": [],
   "source": [
    "pipeline"
   ]
  },
  {
   "attachments": {},
   "cell_type": "markdown",
   "metadata": {},
   "source": [
    "# process one document\n",
    "one document paragraph by paragraph"
   ]
  },
  {
   "cell_type": "code",
   "execution_count": null,
   "metadata": {},
   "outputs": [],
   "source": [
    "doc = sample[5:6]\n",
    "pars = [\n",
    "    {\n",
    "        \"path\": \"empty\",\n",
    "        \"data\": {\n",
    "            \"doc.text\": par,\n",
    "        },\n",
    "    }\n",
    "    for par in doc[0][\"data\"][\"doc.text\"].splitlines()\n",
    "]\n"
   ]
  },
  {
   "cell_type": "code",
   "execution_count": null,
   "metadata": {},
   "outputs": [],
   "source": [
    "preprocessed = pipeline.preprocess(pars)\n",
    "predicted = pipeline.predict(preprocessed)\n",
    "postprocessed = pipeline.postprocess(predicted)"
   ]
  },
  {
   "cell_type": "code",
   "execution_count": null,
   "id": "25daea97",
   "metadata": {},
   "outputs": [],
   "source": [
    "from aymurai.utils.display.render import DocRender, add_score_to_label, set_color\n",
    "from aymurai.utils.display.colors import colors\n",
    "from aymurai.utils.misc import get_element\n",
    "from copy import deepcopy\n",
    "\n",
    "render = DocRender()\n",
    "\n",
    "\n",
    "for item in deepcopy(postprocessed):\n",
    "    ents = get_element(item, ['predictions', 'entities']) or []\n",
    "    ents = [set_color(ent, mapping=colors) for ent in ents]\n",
    "    ents = [add_score_to_label(ent) for ent in ents]\n",
    "    item['predictions']['entities'] = ents\n",
    "    \n",
    "    options = {}\n",
    "    render(item, style='span', spans_key='sc', config=options)\n"
   ]
  },
  {
   "cell_type": "code",
   "execution_count": null,
   "metadata": {},
   "outputs": [],
   "source": []
  }
 ],
 "metadata": {
  "kernelspec": {
   "display_name": "Python 3",
   "language": "python",
   "name": "python3"
  },
  "language_info": {
   "codemirror_mode": {
    "name": "ipython",
    "version": 3
   },
   "file_extension": ".py",
   "mimetype": "text/x-python",
   "name": "python",
   "nbconvert_exporter": "python",
   "pygments_lexer": "ipython3",
   "version": "3.10.8"
  },
  "vscode": {
   "interpreter": {
    "hash": "97cc609b13305c559618ec78a438abc56230b9381f827f22d070313b9a1f3777"
   }
  }
 },
 "nbformat": 4,
 "nbformat_minor": 2
}
