{
 "cells": [
  {
   "cell_type": "code",
   "execution_count": null,
   "metadata": {},
   "outputs": [],
   "source": [
    "!pip install -e /workspace/src/datetime_matcher\n",
    "# !pip install git+https://github.com/jedzill4/datetime_matcher"
   ]
  },
  {
   "cell_type": "code",
   "execution_count": null,
   "metadata": {},
   "outputs": [],
   "source": [
    "!pip uninstall -y datetime-matcher"
   ]
  },
  {
   "cell_type": "code",
   "execution_count": null,
   "metadata": {},
   "outputs": [],
   "source": [
    "%load_ext autoreload\n",
    "%autoreload 1\n",
    "%aimport datetime_matcher.model_types\n",
    "%aimport datetime_matcher.datetime_extractor\n",
    "%aimport datetime_matcher.regex_generator\n",
    "%aimport datetime_matcher.dfregex_lexer\n",
    "%aimport datetime_matcher.datetime_matcher"
   ]
  },
  {
   "cell_type": "code",
   "execution_count": null,
   "metadata": {},
   "outputs": [],
   "source": [
    "import locale\n",
    "from datetime_matcher import DatetimeMatcher\n",
    "\n",
    "dtm = DatetimeMatcher()\n",
    "locale.setlocale(locale.LC_ALL, \"es_AR.UTF-8\")\n"
   ]
  },
  {
   "cell_type": "code",
   "execution_count": null,
   "metadata": {},
   "outputs": [],
   "source": [
    "list(dtm.extract_datetimes('%d/%m/%Y', '1/11/2015'))"
   ]
  },
  {
   "cell_type": "code",
   "execution_count": null,
   "metadata": {},
   "outputs": [],
   "source": [
    "\n",
    "dtm.sub(r'%d/%m/%Y', r'%-d/%B/%Y', '01/11/2015')"
   ]
  },
  {
   "cell_type": "code",
   "execution_count": null,
   "metadata": {},
   "outputs": [],
   "source": [
    "\n",
    "dtm.sub(r'%-d/%m/%Y', r'%d/%b/%y %-H:%-M', '1/11/2015')"
   ]
  },
  {
   "cell_type": "code",
   "execution_count": null,
   "metadata": {},
   "outputs": [],
   "source": []
  },
  {
   "cell_type": "code",
   "execution_count": null,
   "metadata": {},
   "outputs": [],
   "source": [
    "import re\n",
    "import pandas as pd\n",
    "from datetime import datetime\n",
    "from datetime_matcher.dfregex_lexer import DfregexLexer\n",
    "from datetime_matcher.regex_generator import RegexGenerator\n",
    "from datetime_matcher.datetime_extractor import DatetimeExtractor\n",
    "\n",
    "tokenizer = DfregexLexer()\n",
    "regex_gen = RegexGenerator()\n",
    "extractor = DatetimeExtractor()\n",
    "\n",
    "text = \"1/11/2045\"\n",
    "fmt = \"%-d/%m/%Y\"\n",
    "\n",
    "tokens = list(tokenizer.tokenize(fmt))\n",
    "regex = regex_gen.generate_regex(tokens, True)\n",
    "\n",
    "# results = list(extractor.extract_datetimes(regex, tokens, text))\n",
    "df_tokens = list(token for token in tokens if token.kind == \"DATETIME_FORMAT_CODE\")\n",
    "matches = list(extractor._DatetimeExtractor__finditer_with_limit(regex, text, 0))\n",
    "\n",
    "raw_regex = re.findall(regex, text)\n",
    "print(\"raw regex:\", raw_regex)\n",
    "\n",
    "print(\"tokens:\", tokens)\n",
    "print(\"regex:\", regex)\n",
    "# print(\"result:\", results)\n",
    "print('results:')\n",
    "print('df_tokens:', df_tokens)\n",
    "print('matches', matches)\n",
    "\n",
    "for match in matches:\n",
    "    # print(extractor._DatetimeExtractor__parse_match_into_maybe_datetime(match, df_tokens))\n",
    "    datetime_format_codes = []\n",
    "    datetime_string_values = []\n",
    "    for group_key, group_value in match.groupdict().items():\n",
    "        print(group_key, group_value)\n",
    "        # Find only the df groups and match up the format codes with the actual datetime values\n",
    "        if group_key.startswith(\"DF___\"):\n",
    "            try:\n",
    "                datetime_group_num = int(group_key[5:])\n",
    "                datetime_format_codes.append(df_tokens[datetime_group_num].value)\n",
    "                datetime_string_values.append(group_value)\n",
    "            except Exception:\n",
    "                # Skip all problematic ones\n",
    "                continue\n",
    "    # Now construct strings to use for strptime to generate a datetime object from the values\n",
    "    datetime_formatter = \"#\".join(datetime_format_codes).replace('%-', '%')\n",
    "    datetime_string = \"#\".join(datetime_string_values)\n",
    "\n",
    "    try:\n",
    "        parsed_datetime = datetime.strptime(datetime_string, datetime_formatter)\n",
    "    except ValueError as err:\n",
    "        # if \"'-' is a bad directive in format\" in err:\n",
    "            # parsed_datetime = datetime.strptime(datetime_string, datetime_formatter.replace('%-', '%'))\n",
    "        # If there is a problem, we still need to return a value to maintain\n",
    "        # one-to-one mapping between regex match and datetime\n",
    "        parsed_datetime = None\n",
    "    print(datetime_formatter)\n",
    "    print(datetime_string)\n",
    "    parsed_datetime = datetime.strptime(datetime_string, datetime_formatter)\n",
    "    # parsed_datetime = pd.to_datetime(datetime_string, format=datetime_formatter)\n",
    "    print(parsed_datetime)\n"
   ]
  },
  {
   "cell_type": "code",
   "execution_count": null,
   "metadata": {},
   "outputs": [],
   "source": []
  },
  {
   "cell_type": "code",
   "execution_count": null,
   "metadata": {},
   "outputs": [],
   "source": [
    "import sys\n",
    "sys.version_info >= (3, 7)"
   ]
  }
 ],
 "metadata": {
  "kernelspec": {
   "display_name": "Python 3.10.5 64-bit",
   "language": "python",
   "name": "python3"
  },
  "language_info": {
   "codemirror_mode": {
    "name": "ipython",
    "version": 3
   },
   "file_extension": ".py",
   "mimetype": "text/x-python",
   "name": "python",
   "nbconvert_exporter": "python",
   "pygments_lexer": "ipython3",
   "version": "3.10.5"
  },
  "vscode": {
   "interpreter": {
    "hash": "767d51c1340bd893661ea55ea3124f6de3c7a262a8b4abca0554b478b1e2ff90"
   }
  }
 },
 "nbformat": 4,
 "nbformat_minor": 2
}
