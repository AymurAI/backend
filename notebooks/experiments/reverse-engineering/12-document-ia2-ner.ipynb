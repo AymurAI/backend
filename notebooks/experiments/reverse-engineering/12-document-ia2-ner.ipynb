{
 "cells": [
  {
   "cell_type": "code",
   "execution_count": null,
   "metadata": {},
   "outputs": [],
   "source": [
    "!sudo python -m spacy download es_core_news_lg"
   ]
  },
  {
   "cell_type": "code",
   "execution_count": null,
   "metadata": {},
   "outputs": [],
   "source": [
    "%load_ext autoreload\n",
    "%autoreload 1\n",
    "%aimport aymurai.pattern.fuzzymatch\n",
    "%aimport aymurai.pattern.fuzzytagging"
   ]
  },
  {
   "cell_type": "code",
   "execution_count": null,
   "metadata": {},
   "outputs": [],
   "source": [
    "import sys, os\n",
    "\n",
    "path = '/resources/experiments/ia2-cli'\n",
    "if not os.path.exists(path):\n",
    "    os.makedirs(os.path.dirname(path), exist_ok=True)\n",
    "    !git clone https://github.com/instituciones-abiertas/ia2-cli /resources/experiments/ia2-cli \n",
    "\n",
    "sys.path.append('/resources/experiments/ia2-cli')"
   ]
  },
  {
   "cell_type": "code",
   "execution_count": null,
   "metadata": {},
   "outputs": [],
   "source": [
    "from pipeline_components.entity_ruler import fetch_ruler_patterns_by_tag\n",
    "from pipeline_components.entity_matcher import (\n",
    "    ArticlesMatcher,\n",
    "    EntityMatcher,\n",
    "    ViolenceContextMatcher,\n",
    "    matcher_patterns,\n",
    "    fetch_cb_by_tag,\n",
    ")\n",
    "from pipeline_components.entity_custom import EntityCustom"
   ]
  },
  {
   "cell_type": "code",
   "execution_count": null,
   "metadata": {},
   "outputs": [],
   "source": [
    "import numpy as np\n",
    "import pandas as pd\n",
    "import spacy\n",
    "from spacy import displacy\n",
    "from aymurai.datasets.ar_juz_pcyf_10 import ArgentinaJuzgadoPCyF10Dataset\n",
    "from aymurai.datasets.utils import load_documents_from\n",
    "from aymurai.text.extraction import extract_document\n",
    "import locale\n",
    "\n",
    "locale.setlocale(locale.LC_ALL, \"es_AR.UTF-8\")\n"
   ]
  },
  {
   "cell_type": "code",
   "execution_count": null,
   "metadata": {},
   "outputs": [],
   "source": [
    "public = ArgentinaJuzgadoPCyF10Dataset('latest')\n",
    "private = ArgentinaJuzgadoPCyF10Dataset('private')\n",
    "mexico = load_documents_from('/resources/data-mexico/')"
   ]
  },
  {
   "cell_type": "code",
   "execution_count": null,
   "metadata": {},
   "outputs": [],
   "source": [
    "from spacy.pipeline import EntityRuler\n",
    "from spacy.language import Language\n",
    "\n",
    "\n",
    "@Language.factory(name=\"ia2_entity_ruler\")\n",
    "def ia2_entity_ruler(nlp, name):\n",
    "    return EntityRuler(nlp)\n",
    "\n",
    "\n",
    "@Language.factory(name=\"ia2_entity_matcher\")\n",
    "def ia2_entity_matcher(nlp, name):\n",
    "    return EntityMatcher(\n",
    "        nlp,\n",
    "        matcher_patterns,\n",
    "        after_callbacks=[cb(nlp) for cb in fetch_cb_by_tag(\"todas\")],\n",
    "    )\n",
    "\n",
    "@Language.factory(name='ia2_entity_custom')\n",
    "def ia2_entity_custom(nlp, name):\n",
    "    return EntityCustom(nlp, \"todas\")\n"
   ]
  },
  {
   "cell_type": "code",
   "execution_count": null,
   "metadata": {},
   "outputs": [],
   "source": [
    "\n",
    "nlp = spacy.load(\"es_core_news_lg\")\n",
    "nlp.add_pipe('ia2_entity_ruler')\n",
    "nlp.add_pipe('ia2_entity_matcher')\n",
    "nlp.add_pipe('ia2_entity_custom')\n"
   ]
  },
  {
   "cell_type": "code",
   "execution_count": null,
   "metadata": {},
   "outputs": [],
   "source": [
    "register = public[400]\n",
    "register"
   ]
  },
  {
   "cell_type": "markdown",
   "metadata": {},
   "source": [
    "# anonimizados"
   ]
  },
  {
   "cell_type": "code",
   "execution_count": null,
   "metadata": {},
   "outputs": [],
   "source": [
    "text = extract_document(register['path'], extension='odt')\n",
    "doc = nlp(text)\n",
    "displacy.render(doc, 'ent')"
   ]
  },
  {
   "cell_type": "markdown",
   "metadata": {},
   "source": [
    "# mexico"
   ]
  },
  {
   "cell_type": "code",
   "execution_count": null,
   "metadata": {},
   "outputs": [],
   "source": [
    "register = mexico[2]\n",
    "doc = nlp(register['text'])\n",
    "displacy.render(doc, 'ent')"
   ]
  },
  {
   "cell_type": "code",
   "execution_count": null,
   "metadata": {},
   "outputs": [],
   "source": []
  }
 ],
 "metadata": {
  "kernelspec": {
   "display_name": "Python 3.10.5 64-bit",
   "language": "python",
   "name": "python3"
  },
  "language_info": {
   "codemirror_mode": {
    "name": "ipython",
    "version": 3
   },
   "file_extension": ".py",
   "mimetype": "text/x-python",
   "name": "python",
   "nbconvert_exporter": "python",
   "pygments_lexer": "ipython3",
   "version": "3.10.6"
  },
  "vscode": {
   "interpreter": {
    "hash": "767d51c1340bd893661ea55ea3124f6de3c7a262a8b4abca0554b478b1e2ff90"
   }
  }
 },
 "nbformat": 4,
 "nbformat_minor": 2
}
