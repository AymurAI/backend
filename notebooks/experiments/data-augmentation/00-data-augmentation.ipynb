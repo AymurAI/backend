{
 "cells": [
  {
   "attachments": {},
   "cell_type": "markdown",
   "metadata": {},
   "source": [
    "# Faker"
   ]
  },
  {
   "cell_type": "code",
   "execution_count": null,
   "metadata": {},
   "outputs": [],
   "source": [
    "import locale\n",
    "import random\n",
    "\n",
    "import numpy as np\n",
    "import pandas as pd\n",
    "\n",
    "from datetime import datetime\n",
    "\n",
    "from faker import Faker\n",
    "from faker.providers import DynamicProvider"
   ]
  },
  {
   "cell_type": "code",
   "execution_count": null,
   "metadata": {},
   "outputs": [],
   "source": [
    "# Instanciamos Faker con `locale=\"es_AR\"`\n",
    "faker = Faker(locale=\"es_AR\")"
   ]
  },
  {
   "attachments": {},
   "cell_type": "markdown",
   "metadata": {},
   "source": [
    "## Nombres"
   ]
  },
  {
   "cell_type": "code",
   "execution_count": null,
   "metadata": {},
   "outputs": [],
   "source": [
    "# Nombres\n",
    "for i in range(10):\n",
    "    print(faker.name())"
   ]
  },
  {
   "cell_type": "code",
   "execution_count": null,
   "metadata": {},
   "outputs": [],
   "source": [
    "# Nombres masculinos\n",
    "for i in range(10):\n",
    "    print(faker.first_name_male())"
   ]
  },
  {
   "cell_type": "code",
   "execution_count": null,
   "metadata": {},
   "outputs": [],
   "source": [
    "# Nombres femeninos\n",
    "for i in range(10):\n",
    "    print(faker.first_name_female())"
   ]
  },
  {
   "cell_type": "code",
   "execution_count": null,
   "metadata": {},
   "outputs": [],
   "source": [
    "# Nombres no-binaries (¿funciona?)\n",
    "for i in range(10):\n",
    "    print(faker.first_name_nonbinary())"
   ]
  },
  {
   "cell_type": "code",
   "execution_count": null,
   "metadata": {},
   "outputs": [],
   "source": [
    "# Apellidos\n",
    "for i in range(10):\n",
    "    print(faker.last_name())"
   ]
  },
  {
   "attachments": {},
   "cell_type": "markdown",
   "metadata": {},
   "source": [
    "## Direcciones"
   ]
  },
  {
   "cell_type": "code",
   "execution_count": null,
   "metadata": {},
   "outputs": [],
   "source": [
    "# Direcciones\n",
    "for i in range(10):\n",
    "    print(faker.street_address())"
   ]
  },
  {
   "cell_type": "code",
   "execution_count": null,
   "metadata": {},
   "outputs": [],
   "source": [
    "# Calles\n",
    "for i in range(10):\n",
    "    print(faker.address())"
   ]
  },
  {
   "cell_type": "code",
   "execution_count": null,
   "metadata": {},
   "outputs": [],
   "source": [
    "# Provincias\n",
    "for i in range(10):\n",
    "    print(faker.province())"
   ]
  },
  {
   "cell_type": "code",
   "execution_count": null,
   "metadata": {},
   "outputs": [],
   "source": [
    "# Ciudades\n",
    "for i in range(10):\n",
    "    print(faker.city())"
   ]
  },
  {
   "cell_type": "code",
   "execution_count": null,
   "metadata": {},
   "outputs": [],
   "source": [
    "# Municipalidades\n",
    "for i in range(10):\n",
    "    print(faker.municipality())"
   ]
  },
  {
   "attachments": {},
   "cell_type": "markdown",
   "metadata": {},
   "source": [
    "## Patentes"
   ]
  },
  {
   "cell_type": "code",
   "execution_count": null,
   "metadata": {},
   "outputs": [],
   "source": [
    "# Licencias\n",
    "for i in range(10):\n",
    "    print(faker.license_plate())"
   ]
  },
  {
   "cell_type": "code",
   "execution_count": null,
   "metadata": {},
   "outputs": [],
   "source": [
    "# Licencias Mercosur\n",
    "for i in range(10):\n",
    "    print(faker.license_plate_mercosur())"
   ]
  },
  {
   "cell_type": "code",
   "execution_count": null,
   "metadata": {},
   "outputs": [],
   "source": [
    "# Licencias antiguas\n",
    "for i in range(10):\n",
    "    print(faker.license_plate_old())"
   ]
  },
  {
   "attachments": {},
   "cell_type": "markdown",
   "metadata": {},
   "source": [
    "## Bancos"
   ]
  },
  {
   "cell_type": "code",
   "execution_count": null,
   "metadata": {},
   "outputs": [],
   "source": [
    "# Bancos\n",
    "for i in range(10):\n",
    "    print(faker.bank())"
   ]
  },
  {
   "attachments": {},
   "cell_type": "markdown",
   "metadata": {},
   "source": [
    "## Nacionalidades"
   ]
  },
  {
   "cell_type": "code",
   "execution_count": null,
   "metadata": {},
   "outputs": [],
   "source": [
    "# Listado de nacionalidades en español\n",
    "countries = pd.read_html(\"https://www.spanish.cl/Vocabulary/Notes/Nacionalidades.htm\")[\n",
    "    -1\n",
    "]\n",
    "countries"
   ]
  },
  {
   "cell_type": "code",
   "execution_count": null,
   "metadata": {},
   "outputs": [],
   "source": [
    "# countries.to_csv(\"nacionalidades.csv\", index=False)"
   ]
  },
  {
   "cell_type": "code",
   "execution_count": null,
   "metadata": {},
   "outputs": [],
   "source": [
    "# Proveedor de nacionalidades de faker\n",
    "nationality_provider = DynamicProvider(\n",
    "    provider_name=\"nationality\",\n",
    "    elements=countries[\"Nacionalidad\"].apply(str.split).sum(),\n",
    ")\n",
    "\n",
    "faker = Faker(\"es_AR\")\n",
    "faker.add_provider(nationality_provider)\n",
    "\n",
    "for i in range(10):\n",
    "    print(faker.nationality())"
   ]
  },
  {
   "attachments": {},
   "cell_type": "markdown",
   "metadata": {},
   "source": [
    "## Fechas"
   ]
  },
  {
   "cell_type": "code",
   "execution_count": null,
   "metadata": {},
   "outputs": [],
   "source": [
    "# Días\n",
    "for i in range(10):\n",
    "    print(faker.day_of_week())"
   ]
  },
  {
   "cell_type": "code",
   "execution_count": null,
   "metadata": {},
   "outputs": [],
   "source": [
    "# Días - número\n",
    "for i in range(10):\n",
    "    print(faker.day_of_month())"
   ]
  },
  {
   "cell_type": "code",
   "execution_count": null,
   "metadata": {},
   "outputs": [],
   "source": [
    "# Meses\n",
    "for i in range(10):\n",
    "    print(faker.month())"
   ]
  },
  {
   "cell_type": "code",
   "execution_count": null,
   "metadata": {},
   "outputs": [],
   "source": [
    "# Meses - nombres\n",
    "for i in range(10):\n",
    "    print(faker.month_name())"
   ]
  },
  {
   "cell_type": "code",
   "execution_count": null,
   "metadata": {},
   "outputs": [],
   "source": [
    "# Años\n",
    "for i in range(10):\n",
    "    print(faker.year())"
   ]
  },
  {
   "cell_type": "code",
   "execution_count": null,
   "metadata": {},
   "outputs": [],
   "source": [
    "# NOTE https://stackoverflow.com/questions/2090840/python-datetime-localization\n",
    "locale.setlocale(locale.LC_TIME, \"es_AR.UTF-8\")"
   ]
  },
  {
   "cell_type": "code",
   "execution_count": null,
   "metadata": {},
   "outputs": [],
   "source": [
    "# Concatenación\n",
    "for i in range(10):\n",
    "    dt = datetime.strptime(faker.date(), \"%Y-%m-%d\")\n",
    "    print(\n",
    "        dt.strftime(\n",
    "            random.choice(\n",
    "                [\n",
    "                    \"%A %d de %B del %Y\",\n",
    "                    \"%d de %B del %Y\",\n",
    "                    \"%d de %B de %Y\",\n",
    "                    \"%d de %B del '%y\",\n",
    "                ]\n",
    "            )\n",
    "        )\n",
    "    )"
   ]
  },
  {
   "attachments": {},
   "cell_type": "markdown",
   "metadata": {},
   "source": [
    "## Internet"
   ]
  },
  {
   "cell_type": "code",
   "execution_count": null,
   "metadata": {},
   "outputs": [],
   "source": [
    "# E-mail\n",
    "for i in range(10):\n",
    "    print(faker.ascii_email())"
   ]
  },
  {
   "cell_type": "code",
   "execution_count": null,
   "metadata": {},
   "outputs": [],
   "source": [
    "# E-mail gratuitos\n",
    "for i in range(10):\n",
    "    print(faker.ascii_free_email())"
   ]
  },
  {
   "cell_type": "code",
   "execution_count": null,
   "metadata": {},
   "outputs": [],
   "source": [
    "# E-mail corporativos\n",
    "for i in range(10):\n",
    "    print(faker.ascii_company_email())"
   ]
  },
  {
   "cell_type": "code",
   "execution_count": null,
   "metadata": {},
   "outputs": [],
   "source": [
    "# Dominios\n",
    "for i in range(10):\n",
    "    print(faker.domain_name())"
   ]
  },
  {
   "cell_type": "code",
   "execution_count": null,
   "metadata": {},
   "outputs": [],
   "source": [
    "# URLs\n",
    "for i in range(10):\n",
    "    print(faker.url())"
   ]
  },
  {
   "cell_type": "code",
   "execution_count": null,
   "metadata": {},
   "outputs": [],
   "source": [
    "# Nombres de usuarie\n",
    "for i in range(10):\n",
    "    print(faker.user_name())"
   ]
  },
  {
   "attachments": {},
   "cell_type": "markdown",
   "metadata": {},
   "source": [
    "## Teléfonos"
   ]
  },
  {
   "cell_type": "code",
   "execution_count": null,
   "metadata": {},
   "outputs": [],
   "source": [
    "# Números de teléfono\n",
    "for i in range(10):\n",
    "    print(faker.phone_number())"
   ]
  },
  {
   "attachments": {},
   "cell_type": "markdown",
   "metadata": {},
   "source": [
    "# Data augmentation\n",
    "\n",
    "Realizamos la generación de data sintética a partir de los csvs que contienen los párrafos etiquetados"
   ]
  },
  {
   "cell_type": "code",
   "execution_count": null,
   "metadata": {},
   "outputs": [],
   "source": [
    "import os\n",
    "import random\n",
    "import re"
   ]
  },
  {
   "cell_type": "code",
   "execution_count": null,
   "metadata": {},
   "outputs": [],
   "source": [
    "from unidecode import unidecode\n",
    "\n",
    "labels = []\n",
    "with open(\"/notebooks/experiments/anonymization/NER.md\", \"r\") as file:\n",
    "    for line in file.readlines():\n",
    "        line = unidecode(line)\n",
    "        label_candidate = re.findall(\"^| ([A-Z]+) .*\", line)\n",
    "        labels.extend(label_candidate)\n",
    "\n",
    "labels = set(labels)\n",
    "labels.remove(\"\")\n",
    "labels = [f\"<{label}>\" for label in labels]\n",
    "\n",
    "\n",
    "labels"
   ]
  },
  {
   "cell_type": "code",
   "execution_count": null,
   "metadata": {},
   "outputs": [],
   "source": [
    "path = \"/notebooks/experiments/anonymization/output/\"\n",
    "files = [os.path.join(path, file) for file in os.listdir(path)]\n",
    "len(files)"
   ]
  },
  {
   "cell_type": "code",
   "execution_count": null,
   "metadata": {},
   "outputs": [],
   "source": [
    "sample = pd.read_csv(random.choice(files))\n",
    "sample"
   ]
  },
  {
   "cell_type": "code",
   "execution_count": null,
   "metadata": {},
   "outputs": [],
   "source": [
    "sample[\"label\"].unique()"
   ]
  },
  {
   "cell_type": "code",
   "execution_count": null,
   "metadata": {},
   "outputs": [],
   "source": [
    "sample[\"label\"].map(\n",
    "    lambda x: re.sub(r\"^[BI]-\", \"\", x) if isinstance(x, str) else x\n",
    ").unique()"
   ]
  },
  {
   "cell_type": "code",
   "execution_count": null,
   "metadata": {},
   "outputs": [],
   "source": [
    "sample[\"ia2_label\"].map(\n",
    "    lambda x: re.sub(r\"[,.]\", \"\", x)\n",
    "    if isinstance(x, str) and x.startswith(\"<\")\n",
    "    else None\n",
    ").unique()"
   ]
  },
  {
   "cell_type": "code",
   "execution_count": null,
   "metadata": {},
   "outputs": [],
   "source": [
    "sample[\"ia2_norm_label\"].map(\n",
    "    lambda x: re.sub(r\"[,.]\", \"\", x)\n",
    "    if isinstance(x, str)  # and x.startswith(\"<\")\n",
    "    else None\n",
    ").unique()"
   ]
  },
  {
   "cell_type": "code",
   "execution_count": null,
   "metadata": {},
   "outputs": [],
   "source": [
    "def dates():\n",
    "    dt = datetime.strptime(faker.date(), \"%Y-%m-%d\")\n",
    "    return dt.strftime(\n",
    "        random.choice(\n",
    "            [\n",
    "                \"%A %d de %B del %Y\",\n",
    "                \"%d de %B del %Y\",\n",
    "                \"%d de %B de %Y\",\n",
    "                \"%d de %B del '%y\",\n",
    "            ]\n",
    "        )\n",
    "    )\n",
    "\n",
    "\n",
    "fn_mapping = {\n",
    "    \"<DIRECCION>\": faker.street_address,\n",
    "    \"<PER>\": faker.name,\n",
    "    \"<BANCO>\": faker.bank,\n",
    "    \"<CBU>\": None,\n",
    "    \"<LEY>\": None,\n",
    "    \"<NUM>\": None,\n",
    "    \"<CUIT>\": None,\n",
    "    \"<FISCAL>\": None,\n",
    "    \"<FECHA>\": dates,\n",
    "    \"<CUIJ>\": None,\n",
    "    \"<USUARIX>\": faker.user_name,\n",
    "    \"<SECRETARIX>\": None,\n",
    "    \"<JUEZX>\": None,\n",
    "    \"<PERIODO>\": None,\n",
    "    \"<PASAPORTE>\": None,\n",
    "    \"<DNI>\": None,\n",
    "    \"<EDAD>\": None,\n",
    "    \"<ESTUDIOS>\": None,\n",
    "    \"<DEFENSORX>\": None,\n",
    "    \"<NACIONALIDAD>\": faker.nationality,\n",
    "    \"<ARTICULO>\": None,\n",
    "    \"<LINK>\": None,\n",
    "    \"<IP>\": None,\n",
    "    \"<LOC>\": random.choice([faker.province, faker.city, faker.municipality]),\n",
    "}"
   ]
  },
  {
   "cell_type": "code",
   "execution_count": null,
   "metadata": {},
   "outputs": [],
   "source": [
    "fn_mapping[\"<PER>\"]()"
   ]
  },
  {
   "cell_type": "markdown",
   "metadata": {},
   "source": [
    "1. Recorrer el documento y extraer los párrafos\n",
    "2. Por cada párrafo, detectar las distintas entidades válidas y sus respectivos índices\n",
    "3. Por cada entidad, generar un reemplazo e insertar en el lugar que corresponda\n",
    "4. Retornar tantas alteraciones del párrafo como se desee"
   ]
  },
  {
   "cell_type": "code",
   "execution_count": null,
   "metadata": {},
   "outputs": [],
   "source": [
    "# 1. Recorrer el doumento y extraer los párrafos\n",
    "paragraphs = [\n",
    "    line.strip()\n",
    "    for line in \" \".join(sample[\"original\"].fillna(\"\\n\").values).splitlines()\n",
    "]\n",
    "paragraphs"
   ]
  },
  {
   "cell_type": "code",
   "execution_count": null,
   "metadata": {},
   "outputs": [],
   "source": [
    "# 2. Por cada párrafo, detectar las distintas entidades válidas y sus respectivos índices\n",
    "idx = np.concatenate(\n",
    "    [\n",
    "        np.zeros(1, dtype=int),\n",
    "        np.cumsum(list(map(len, [paragraph.split() for paragraph in paragraphs]))),\n",
    "    ]\n",
    ")\n",
    "idx"
   ]
  },
  {
   "cell_type": "code",
   "execution_count": null,
   "metadata": {},
   "outputs": [],
   "source": [
    "labels = [list(labels[start:end]) for start, end in zip(idx, idx[1:])]\n",
    "labels"
   ]
  },
  {
   "cell_type": "code",
   "execution_count": null,
   "metadata": {},
   "outputs": [],
   "source": [
    "for paragraph, label in zip(paragraphs, labels):\n",
    "    print(paragraph)\n",
    "    print(label)\n",
    "    print()"
   ]
  },
  {
   "cell_type": "code",
   "execution_count": null,
   "metadata": {},
   "outputs": [],
   "source": [
    "labels[2]"
   ]
  },
  {
   "cell_type": "code",
   "execution_count": null,
   "metadata": {},
   "outputs": [],
   "source": [
    "def detect_beginning_inside_indices(labels: list):\n",
    "    entities = [label for label in labels if label.startswith(\"B-\")]\n",
    "    indices = []\n",
    "\n",
    "    for entity in entities:\n",
    "        indices.append(\n",
    "            (\n",
    "                entity,\n",
    "                # Beginning\n",
    "                np.where(np.array(labels) == entity)[0].tolist(),\n",
    "                # Inside\n",
    "                np.where(np.array(labels) == re.sub(r\"^B-\", \"I-\", entity))[0].tolist(),\n",
    "            )\n",
    "        )\n",
    "\n",
    "    return indices"
   ]
  },
  {
   "cell_type": "code",
   "execution_count": null,
   "metadata": {},
   "outputs": [],
   "source": [
    "detect_beginning_inside_indices(labels[2])"
   ]
  },
  {
   "cell_type": "code",
   "execution_count": null,
   "metadata": {},
   "outputs": [],
   "source": [
    "ent_idx = detect_beginning_inside_indices(labels[2])\n",
    "np.where(np.array([ent[0] for ent in ent_idx]) == \"B-NOMBRE\")[0].tolist()"
   ]
  },
  {
   "cell_type": "code",
   "execution_count": null,
   "metadata": {},
   "outputs": [],
   "source": [
    "def replace_entity(paragraph: str, annots: list):\n",
    "    paragraph = paragraph.split()\n",
    "\n",
    "    entities_idx = detect_beginning_inside_indices(annots)\n",
    "    entities = [ent[0] for ent in entities_idx]\n",
    "    beginning_idx = [ent[1] for ent in entities_idx]\n",
    "    inside_idx = [ent[2] for ent in entities_idx]\n",
    "\n",
    "    if \"B-NOMBRE\" in entities:\n",
    "        name_idx = np.where(np.array([ent[0] for ent in ent_idx]) == \"B-NOMBRE\")[0]\n",
    "        name_beginning_idx = np.array(beginning_idx)[name_idx].tolist()\n",
    "        name_inside_idx = np.array(inside_idx)[name_idx].tolist()\n",
    "\n",
    "        fake_name = fn_mapping[\"<PER>\"]()\n",
    "        fake_name_list = fake_name.split()\n",
    "        fake_name_labels = (\n",
    "            [\"B-NOMBRE\"]\n",
    "            if len(fake_name_list) == 1\n",
    "            else [\"B-NOMBRE\"] + [\"I-NOMBRE\"] * (len(fake_name_list) - 1)\n",
    "        )\n",
    "\n",
    "        # return fake_name_list, fake_name_labels"
   ]
  },
  {
   "cell_type": "code",
   "execution_count": null,
   "metadata": {},
   "outputs": [],
   "source": [
    "detect_beginning_inside_indices(labels[2])"
   ]
  },
  {
   "cell_type": "code",
   "execution_count": null,
   "metadata": {},
   "outputs": [],
   "source": [
    "replace_entity(paragraph[2], labels[2])"
   ]
  },
  {
   "cell_type": "code",
   "execution_count": null,
   "metadata": {},
   "outputs": [],
   "source": [
    "# https://stackoverflow.com/questions/67118768/replace-sublist-with-different-length-sublist-in-python-like-string-replace\n",
    "def list_find(haystack, needle):\n",
    "    for i in range(len(haystack) - len(needle)):\n",
    "        if haystack[i : i + len(needle)] == needle:\n",
    "            return i\n",
    "    return -1\n",
    "\n",
    "\n",
    "def list_replace(old, new, haystack):\n",
    "    n = list_find(haystack, old)\n",
    "    if n < 0:\n",
    "        return haystack\n",
    "    return haystack[0:n] + new + haystack[n + len(old) :]\n",
    "\n",
    "\n",
    "l = [\"a\", \"b\", \"c\", \"d\", \" \", \"a\", \"b\", \"c\", \"d\"]\n",
    "l1 = list_replace([\"b\", \"c\"], [\"X\", \"Y\", \"Z\"], l)\n",
    "print(l1)"
   ]
  }
 ],
 "metadata": {
  "kernelspec": {
   "display_name": "Python 3",
   "language": "python",
   "name": "python3"
  },
  "language_info": {
   "codemirror_mode": {
    "name": "ipython",
    "version": 3
   },
   "file_extension": ".py",
   "mimetype": "text/x-python",
   "name": "python",
   "nbconvert_exporter": "python",
   "pygments_lexer": "ipython3",
   "version": "3.10.6"
  }
 },
 "nbformat": 4,
 "nbformat_minor": 2
}
