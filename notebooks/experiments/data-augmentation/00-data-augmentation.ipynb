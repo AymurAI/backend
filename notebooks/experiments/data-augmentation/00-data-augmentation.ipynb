{
 "cells": [
  {
   "cell_type": "code",
   "execution_count": null,
   "metadata": {},
   "outputs": [],
   "source": [
    "import pandas as pd\n",
    "\n",
    "from faker import Faker\n",
    "from faker.providers import DynamicProvider"
   ]
  },
  {
   "attachments": {},
   "cell_type": "markdown",
   "metadata": {},
   "source": [
    "## Nacionalidades"
   ]
  },
  {
   "cell_type": "code",
   "execution_count": null,
   "metadata": {},
   "outputs": [],
   "source": [
    "# Listado de nacionalidades en español\n",
    "countries = pd.read_html(\"https://www.spanish.cl/Vocabulary/Notes/Nacionalidades.htm\")[-1]\n",
    "countries"
   ]
  },
  {
   "cell_type": "code",
   "execution_count": null,
   "metadata": {},
   "outputs": [],
   "source": [
    "# countries.to_csv(\"nacionalidades.csv\", index=False)"
   ]
  },
  {
   "cell_type": "code",
   "execution_count": null,
   "metadata": {},
   "outputs": [],
   "source": [
    "# Proveedor de nacionalidades de faker\n",
    "nationality_provider = DynamicProvider(\n",
    "    provider_name=\"nationality\",\n",
    "    elements=countries[\"Nacionalidad\"].apply(str.split).sum(),\n",
    ")\n",
    "\n",
    "faker = Faker(\"es_AR\")\n",
    "faker.add_provider(nationality_provider)\n",
    "\n",
    "for i in range(10):\n",
    "     print(faker.nationality())"
   ]
  },
  {
   "attachments": {},
   "cell_type": "markdown",
   "metadata": {},
   "source": [
    "## Fechas"
   ]
  },
  {
   "cell_type": "code",
   "execution_count": null,
   "metadata": {},
   "outputs": [],
   "source": [
    "import locale\n",
    "\n",
    "from datetime import datetime\n",
    "\n",
    "# NOTE https://stackoverflow.com/questions/2090840/python-datetime-localization\n",
    "locale.setlocale(locale.LC_TIME, \"es_AR.UTF-8\")"
   ]
  },
  {
   "cell_type": "code",
   "execution_count": null,
   "metadata": {},
   "outputs": [],
   "source": [
    "import random"
   ]
  },
  {
   "cell_type": "code",
   "execution_count": null,
   "metadata": {},
   "outputs": [],
   "source": [
    "dt = datetime.strptime(faker.date(), \"%Y-%m-%d\")\n",
    "dt.strftime(random.choice([\"%A %d de %B del %Y\", \"%d de %B del %Y\", \"%d de %B de %Y\", \"%d de %B del '%y\"]))"
   ]
  }
 ],
 "metadata": {
  "kernelspec": {
   "display_name": "Python 3",
   "language": "python",
   "name": "python3"
  },
  "language_info": {
   "codemirror_mode": {
    "name": "ipython",
    "version": 3
   },
   "file_extension": ".py",
   "mimetype": "text/x-python",
   "name": "python",
   "nbconvert_exporter": "python",
   "pygments_lexer": "ipython3",
   "version": "3.10.6"
  }
 },
 "nbformat": 4,
 "nbformat_minor": 2
}
