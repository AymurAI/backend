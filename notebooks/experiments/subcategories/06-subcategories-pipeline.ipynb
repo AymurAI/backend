{
 "cells": [
  {
   "cell_type": "code",
   "execution_count": null,
   "id": "b3bdd860-9e86-4789-8a12-ca4fb50fa360",
   "metadata": {
    "tags": []
   },
   "outputs": [],
   "source": [
    "!sudo pip install -e /workspace/src/aymurai tensorflow_hub tensorflow_text"
   ]
  },
  {
   "cell_type": "code",
   "execution_count": null,
   "id": "c06ecd5b",
   "metadata": {},
   "outputs": [],
   "source": [
    "%load_ext autoreload\n",
    "%autoreload 2"
   ]
  },
  {
   "cell_type": "code",
   "execution_count": null,
   "id": "15e8fd2c-ac8f-4c87-a194-b6938eceac50",
   "metadata": {},
   "outputs": [],
   "source": [
    "import os\n",
    "os.environ[\"TF_CPP_MIN_LOG_LEVEL\"] = \"3\"\n",
    "os.environ[\"CUDA_VISIBLE_DEVICES\"] = \"-1\""
   ]
  },
  {
   "cell_type": "code",
   "execution_count": null,
   "id": "053d2482",
   "metadata": {},
   "outputs": [],
   "source": [
    "import flair\n",
    "import logging\n",
    "\n",
    "\n",
    "flair.logger.setLevel(logging.ERROR)"
   ]
  },
  {
   "cell_type": "code",
   "execution_count": null,
   "id": "25daea97",
   "metadata": {},
   "outputs": [],
   "source": [
    "from aymurai.utils.display.render import DocRender\n",
    "from aymurai.datasets.ar_juz_pcyf_10.annotations import (\n",
    "    ArgentinaJuzgadoPCyF10LabelStudioAnnotations,\n",
    ")\n",
    "\n",
    "render = DocRender()\n",
    "docs = ArgentinaJuzgadoPCyF10LabelStudioAnnotations(\n",
    "    \"/resources/data/restricted/annotations/20221130-bis/\"\n",
    ").data\n",
    "sample = docs[:10]\n",
    "\n",
    "print(len(docs))\n"
   ]
  },
  {
   "cell_type": "code",
   "execution_count": null,
   "metadata": {},
   "outputs": [],
   "source": [
    "from tensorflow.python.client import device_lib\n",
    "\n",
    "def get_available_devices():\n",
    "    local_device_protos = device_lib.list_local_devices()\n",
    "    return [x.name for x in local_device_protos if x.device_type == 'GPU' or x.device_type == 'CPU']\n",
    "\n",
    "get_available_devices()"
   ]
  },
  {
   "cell_type": "markdown",
   "id": "4b611768-9c1a-4f9a-a81f-ab7c81676d7e",
   "metadata": {},
   "source": [
    "## Pipeline"
   ]
  },
  {
   "cell_type": "code",
   "execution_count": null,
   "id": "9c3108d5",
   "metadata": {},
   "outputs": [],
   "source": [
    "from aymurai.pipeline import AymurAIPipeline\n",
    "from aymurai.models.flair.core import FlairModel\n",
    "from aymurai.models.flair.utils import FlairTextNormalize\n",
    "from aymurai.transforms.entity_subcategories.regex import RegexSubcategorizer\n",
    "from aymurai.transforms.entity_subcategories.usem import USEMSubcategorizer\n",
    "\n",
    "config = {\n",
    "    \"preprocess\": [\n",
    "        (FlairTextNormalize, {}),\n",
    "    ],\n",
    "    \"models\": [\n",
    "        (\n",
    "            FlairModel,\n",
    "            {\n",
    "                \"basepath\": \"aymurai/flair-ner-spanish-judicial\",\n",
    "                \"split_doc\": True,\n",
    "                \"device\": \"cpu\",\n",
    "            },\n",
    "        )\n",
    "    ],\n",
    "    \"postprocess\": [\n",
    "        (RegexSubcategorizer, {}),\n",
    "        (\n",
    "            USEMSubcategorizer,\n",
    "            {\n",
    "                \"category\": \"CONDUCTA\",\n",
    "                \"subcategories_path\": \"https://drive.google.com/uc?id=1Vj5BxyeHzDnR1T8jYjLuteM3YwzE7fTW&confirm=true\",\n",
    "                \"response_embeddings_path\": \"https://drive.google.com/uc?id=1zvBHGf1MeFyyG_I0TukJl1eaM-7TsbPF&confirm=true\",\n",
    "                \"device\": \"/cpu:0\",\n",
    "            },\n",
    "        ),\n",
    "        (\n",
    "            USEMSubcategorizer,\n",
    "            {\n",
    "                \"category\": \"CONDUCTA_DESCRIPCION\",\n",
    "                \"subcategories_path\": \"https://drive.google.com/uc?id=1A1I9xwzvynwxSv1I0SDHhN216Z3Yvoqj&confirm=true\",\n",
    "                \"response_embeddings_path\": \"https://drive.google.com/uc?id=1c3nYVDIq23kYqgMIIKGtDbIz6zDORpYK&confirm=true\",\n",
    "                \"device\": \"/cpu:0\",\n",
    "            },\n",
    "        ),\n",
    "        (\n",
    "            USEMSubcategorizer,\n",
    "            {\n",
    "                \"category\": \"DETALLE\",\n",
    "                \"subcategories_path\": \"https://drive.google.com/uc?id=1o1Z4fhGTtNzUIL2m3WOfDr_f0KXHu_Ms&confirm=true\",\n",
    "                \"response_embeddings_path\": \"https://drive.google.com/uc?id=1OumPgnnM9ffjHjObnb5NL96e3hnlt7Ik&confirm=true\",\n",
    "                \"device\": \"/cpu:0\",\n",
    "            },\n",
    "        ),\n",
    "        (\n",
    "            USEMSubcategorizer,\n",
    "            {\n",
    "                \"category\": \"OBJETO_DE_LA_RESOLUCION\",\n",
    "                \"subcategories_path\": \"https://drive.google.com/uc?id=1ksmfX_AJaE-OFEEGzj2N2mZgg5HZWB_4&confirm=true\",\n",
    "                \"response_embeddings_path\": \"https://drive.google.com/uc?id=18wOgqzNDsqF13nrvX2XscE0JS_xrgqBU&confirm=true\",\n",
    "                \"device\": \"/cpu:0\",\n",
    "            },\n",
    "        ),\n",
    "    ],\n",
    "    \"use_cache\": False,\n",
    "}\n"
   ]
  },
  {
   "cell_type": "code",
   "execution_count": null,
   "id": "c004445b",
   "metadata": {},
   "outputs": [],
   "source": [
    "pipeline = AymurAIPipeline(config)\n"
   ]
  },
  {
   "cell_type": "code",
   "execution_count": null,
   "metadata": {},
   "outputs": [],
   "source": [
    "\n",
    "results = pipeline.preprocess(sample[:1])\n",
    "results = pipeline.predict(results)\n"
   ]
  },
  {
   "cell_type": "code",
   "execution_count": null,
   "id": "4da4ea6a",
   "metadata": {},
   "outputs": [],
   "source": [
    "\n",
    "postprocessed = pipeline.postprocess(results)"
   ]
  },
  {
   "cell_type": "code",
   "execution_count": null,
   "metadata": {},
   "outputs": [],
   "source": [
    "idx = -1\n",
    "\n",
    "render(postprocessed[idx])"
   ]
  },
  {
   "cell_type": "code",
   "execution_count": null,
   "metadata": {},
   "outputs": [],
   "source": []
  }
 ],
 "metadata": {
  "kernelspec": {
   "display_name": "Python 3",
   "language": "python",
   "name": "python3"
  },
  "language_info": {
   "codemirror_mode": {
    "name": "ipython",
    "version": 3
   },
   "file_extension": ".py",
   "mimetype": "text/x-python",
   "name": "python",
   "nbconvert_exporter": "python",
   "pygments_lexer": "ipython3",
   "version": "3.10.8"
  },
  "vscode": {
   "interpreter": {
    "hash": "97cc609b13305c559618ec78a438abc56230b9381f827f22d070313b9a1f3777"
   }
  }
 },
 "nbformat": 4,
 "nbformat_minor": 2
}
