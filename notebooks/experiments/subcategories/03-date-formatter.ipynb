{
 "cells": [
  {
   "cell_type": "code",
   "execution_count": null,
   "metadata": {},
   "outputs": [],
   "source": [
    "%load_ext autoreload\n",
    "%autoreload 2"
   ]
  },
  {
   "cell_type": "code",
   "execution_count": null,
   "id": "25daea97",
   "metadata": {},
   "outputs": [],
   "source": [
    "from aymurai.utils.display import DocRender\n",
    "from aymurai.datasets.ar_juz_pcyf_10.annotations import (\n",
    "    ArgentinaJuzgadoPCyF10LabelStudioAnnotations,\n",
    ")\n",
    "from aymurai.utils.misc import get_element\n",
    "\n",
    "render = DocRender()\n",
    "docs = ArgentinaJuzgadoPCyF10LabelStudioAnnotations(\n",
    "    \"/resources/data/restricted/annotations/20221130-bis/\"\n",
    ").data\n",
    "\n",
    "sample = docs[:10]\n",
    "\n",
    "print(len(docs))\n"
   ]
  },
  {
   "cell_type": "markdown",
   "metadata": {},
   "source": [
    "# test pipeline"
   ]
  },
  {
   "cell_type": "code",
   "execution_count": null,
   "metadata": {},
   "outputs": [],
   "source": [
    "from aymurai.pipeline import AymurAIPipeline\n",
    "from aymurai.models.flair.core import FlairModel\n",
    "from aymurai.models.flair.utils import FlairTextNormalize\n",
    "from aymurai.transforms.entity_subcategories.regex import RegexSubcategorizer\n",
    "from aymurai.transforms.datetime_formatter.core import DatetimeFormatter\n",
    "\n",
    "\n",
    "config = {\n",
    "    \"preprocess\": [\n",
    "        (FlairTextNormalize, {}),\n",
    "    ],\n",
    "    \"models\": [\n",
    "        (\n",
    "            FlairModel,\n",
    "            {\n",
    "                \"basepath\": \"/resources/pipelines/examples/flair-simple/FlairModel\",\n",
    "                \"split_doc\": False,\n",
    "                \"device\": \"cpu\",\n",
    "            },\n",
    "        )\n",
    "    ],\n",
    "    \"postprocess\": [\n",
    "        (RegexSubcategorizer, {}),\n",
    "        (DatetimeFormatter, {}),\n",
    "    ],\n",
    "    # \"multiprocessing\": {},\n",
    "    \"use_cache\": False,\n",
    "    # 'log_level': 'debug'\n",
    "}\n",
    "\n",
    "pipeline = AymurAIPipeline(config)"
   ]
  },
  {
   "cell_type": "code",
   "execution_count": null,
   "metadata": {},
   "outputs": [],
   "source": [
    "doc = sample[1:2]\n",
    "pars = [{'path': 'empty', 'data': {'doc.text': par}} for par in doc[0]['data']['doc.text'].splitlines()]\n",
    "# pars"
   ]
  },
  {
   "cell_type": "code",
   "execution_count": null,
   "metadata": {},
   "outputs": [],
   "source": [
    "for par in pars:\n",
    "    # if not '10:00' in par['data']['doc.text']:\n",
    "        # continue\n",
    "    preprocessed = pipeline.preprocess([par])\n",
    "    # predicted = pipeline.predict(preprocessed)\n",
    "    predicted = pipeline.predict_single(preprocessed[0])\n",
    "    postprocessed = pipeline.postprocess([predicted])\n",
    "    item = postprocessed[0]\n",
    "\n",
    "    ents = get_element(item, ['predictions', 'entities'])\n",
    "    ents = [ent for ent in ents if ent['label'] in ['FECHA_RESOLUCION', 'HORA_DE_INICIO', 'HORA_DE_CIERRE']]\n",
    "    print(ents)\n",
    "    print('---')\n",
    "    render(item)\n"
   ]
  }
 ],
 "metadata": {
  "kernelspec": {
   "display_name": "Python 3.10.8 64-bit",
   "language": "python",
   "name": "python3"
  },
  "language_info": {
   "codemirror_mode": {
    "name": "ipython",
    "version": 3
   },
   "file_extension": ".py",
   "mimetype": "text/x-python",
   "name": "python",
   "nbconvert_exporter": "python",
   "pygments_lexer": "ipython3",
   "version": "3.10.8"
  },
  "vscode": {
   "interpreter": {
    "hash": "767d51c1340bd893661ea55ea3124f6de3c7a262a8b4abca0554b478b1e2ff90"
   }
  }
 },
 "nbformat": 4,
 "nbformat_minor": 2
}
