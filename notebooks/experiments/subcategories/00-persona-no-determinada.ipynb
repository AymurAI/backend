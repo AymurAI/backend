{
 "cells": [
  {
   "cell_type": "code",
   "execution_count": null,
   "id": "c06ecd5b",
   "metadata": {},
   "outputs": [],
   "source": [
    "%load_ext autoreload\n",
    "%autoreload 2"
   ]
  },
  {
   "cell_type": "code",
   "execution_count": null,
   "id": "15e8fd2c-ac8f-4c87-a194-b6938eceac50",
   "metadata": {},
   "outputs": [],
   "source": [
    "import os\n",
    "os.environ[\"TF_CPP_MIN_LOG_LEVEL\"] = \"3\""
   ]
  },
  {
   "cell_type": "code",
   "execution_count": null,
   "id": "053d2482",
   "metadata": {},
   "outputs": [],
   "source": [
    "import flair\n",
    "import logging\n",
    "\n",
    "\n",
    "flair.logger.setLevel(logging.ERROR)"
   ]
  },
  {
   "cell_type": "code",
   "execution_count": null,
   "metadata": {},
   "outputs": [],
   "source": [
    "persona_acusada_no_determinada_categories = [\n",
    "    \"manifestantes\",\n",
    "    \"organo_jurisdiccional\",\n",
    "    \"pagina_web\",\n",
    "    \"persona_juridica\",\n",
    "    \"personal_policial\",\n",
    "    \"usuario_de_chatstep\",\n",
    "    \"usuario_de_cuenta_de_google\",\n",
    "    \"usuario_de_facebook\",\n",
    "    \"usuario_de_imgur\",\n",
    "    \"usuario_de_instagram\",\n",
    "    \"usuario_de_mercado_libre\",\n",
    "    \"usuario_de_outlook\",\n",
    "    \"usuario_de_skout\",\n",
    "    \"usuario_de_skype\",\n",
    "    \"usuario_de_tiktok\",\n",
    "    \"usuario_de_twitter\",\n",
    "    \"usuario_de_whatsapp\",\n",
    "    \"usuario_de_youtube\",\n",
    "    \"usuario_microsoft\",\n",
    "]\n"
   ]
  },
  {
   "cell_type": "code",
   "execution_count": null,
   "id": "25daea97",
   "metadata": {},
   "outputs": [],
   "source": [
    "from aymurai.utils.display import DocRender\n",
    "from aymurai.datasets.ar_juz_pcyf_10.annotations import (\n",
    "    ArgentinaJuzgadoPCyF10LabelStudioAnnotations,\n",
    ")\n",
    "from aymurai.utils.misc import get_element\n",
    "\n",
    "render = DocRender()\n",
    "docs = ArgentinaJuzgadoPCyF10LabelStudioAnnotations(\n",
    "    \"/resources/data/restricted/annotations/20221130-bis/\"\n",
    ").data\n",
    "\n",
    "def has_persona_acusada_no_determinada(item):\n",
    "    ents = get_element(item, ['annotations', 'entities']) or []\n",
    "    ents = [ent for ent in ents if ent['label'] == 'PERSONA_ACUSADA_NO_DETERMINADA']\n",
    "    return bool(ents)\n",
    "\n",
    "filtered_docs = [item for item in docs if has_persona_acusada_no_determinada(item)]\n",
    "# docs = ArgentinaJuzgadoPCyF10DocsDataset().data\n",
    "sample = docs[:10]\n",
    "\n",
    "print(len(docs), len(filtered_docs))"
   ]
  },
  {
   "cell_type": "code",
   "execution_count": null,
   "metadata": {},
   "outputs": [],
   "source": [
    "from more_itertools import collapse\n",
    "import pandas as pd\n",
    "from aymurai.utils.misc import get_element\n",
    "import re\n",
    "import unidecode\n",
    "\n",
    "\n",
    "def normalize_text(text: str) -> str:\n",
    "    text = unidecode.unidecode(text.lower())\n",
    "    text = re.sub(r'[_\\-,;:]+', '', text)\n",
    "    return text\n",
    "\n",
    "all_ents = map(lambda x: x['annotations']['entities'], docs)\n",
    "all_ents = collapse(all_ents, base_type=dict)\n",
    "filtered_ents = filter(lambda x: x['label'] == 'PERSONA_ACUSADA_NO_DETERMINADA', all_ents)\n",
    "\n",
    "def extract_data(ent):\n",
    "    text = ent['text']\n",
    "    subclass = get_element(ent, ['attrs','aymurai_label_subclass', 0])\n",
    "\n",
    "    pre = ent['context_pre'].split('\\n')[-1]\n",
    "    post = ent['context_post'].split('\\n')[0]\n",
    "    context = f'{pre} {text} {post}'\n",
    "    return text, context, subclass\n",
    "\n",
    "data = map(extract_data, filtered_ents)\n",
    "data = pd.DataFrame(data, columns=['text', 'context', 'subcat'])\n",
    "data"
   ]
  },
  {
   "cell_type": "code",
   "execution_count": null,
   "metadata": {},
   "outputs": [],
   "source": [
    "data.value_counts(subset='subcat')"
   ]
  },
  {
   "cell_type": "code",
   "execution_count": null,
   "id": "2a990118",
   "metadata": {},
   "outputs": [],
   "source": [
    "patterns = {\n",
    "    # could be improve using company names ner\n",
    "    \"persona_juridica\": r\"\\W(S\\.?R\\.?L\\.?|S\\.?A\\.?|sociedad anonima|consorcio|laboratorio|asociacion civil)\\W\",\n",
    "    \"personal_policial\": r\"policia\",\n",
    "    # all user categories should be looked somehow explicitely\n",
    "    \"usuario_de_facebook\": r\"(facebook)\",\n",
    "    \"usuario_de_cuenta_de_google\": r\"(gmail)\",\n",
    "    \"usuario_de_instagram\": r\"(instagram)\",\n",
    "    \"usuario_de_twitter\": r\"(twitter)\",\n",
    "    \"usuario_de_outlook\": r\"(hotmail)\",\n",
    "    \"usuario_de_skype\": r\"(skype)\",\n",
    "    \"usuario_microsoft\": r\"(microsoft|hotmail|one drive)\",\n",
    "    \"usuario_de_whatsapp\": r\"(whatsapp|telefonia|celular)\",\n",
    "    \"usuario_de_youtube\": r\"(you\\s?tube)\",\n",
    "    \"usuario_de_mercado_libre\": r\"(mercado\\s?libre)\",\n",
    "    # general url pattern (https://stackoverflow.com/a/3809435)\n",
    "    \"pagina_web\": r\"(http(s)?:\\/\\/.)?(www\\.)?[-a-zA-Z0-9@:%._\\+~#=]{2,256}\\.[a-z]{2,6}\\b([-a-zA-Z0-9@:%_\\+.~#?&//=]*)\",\n",
    "}\n",
    "\n",
    "\n",
    "def find_persona_acusada_no_determinada(context: str) -> list:\n",
    "    normalized_pred = normalize_text(context)\n",
    "\n",
    "    suggestions = set()\n",
    "\n",
    "    for category, pattern in patterns.items():\n",
    "        if re.search(pattern, normalized_pred):\n",
    "            suggestions.add(category)\n",
    "\n",
    "    return list(suggestions)\n"
   ]
  },
  {
   "cell_type": "code",
   "execution_count": null,
   "metadata": {},
   "outputs": [],
   "source": [
    "subset = data.query('subcat == \"usuario_de_mercado_libre\"')\n",
    "for i, row in subset.iterrows():\n",
    "    text_ = f\"{row['text']} || {row['context']}\"\n",
    "    text_ = normalize_text(text_)\n",
    "    print(text_)"
   ]
  },
  {
   "cell_type": "code",
   "execution_count": null,
   "metadata": {},
   "outputs": [],
   "source": [
    "data['pred_subcat'] = data['context'].apply(find_persona_acusada_no_determinada)\n",
    "data"
   ]
  },
  {
   "cell_type": "code",
   "execution_count": null,
   "metadata": {},
   "outputs": [],
   "source": [
    "for i, row in data.query('subcat == \"persona_juridica\"').iterrows():\n",
    "    print(row['text'], '|||', row['context'])"
   ]
  },
  {
   "cell_type": "code",
   "execution_count": null,
   "metadata": {},
   "outputs": [],
   "source": [
    "list(patterns.keys())"
   ]
  },
  {
   "cell_type": "code",
   "execution_count": null,
   "metadata": {},
   "outputs": [],
   "source": [
    "\n",
    "# import warnings\n",
    "# import numpy as np\n",
    "\n",
    "# from sklearn.preprocessing import OneHotEncoder, LabelEncoder\n",
    "# from sklearn.metrics import top_k_accuracy_score\n",
    "\n",
    "# warnings.filterwarnings(\"ignore\")\n",
    "# # le = LabelEncoder()\n",
    "# le = LabelEncoder()\n",
    "# S = le.fit_transform(data['subcat'])\n",
    "# # print(S.reshape(-1, 1))\n",
    "\n",
    "# le = OneHotEncoder(sparse=False, handle_unknown='ignore')\n",
    "# le.fit_transform(S.reshape(-1,1))\n",
    "\n",
    "# # le.fit(data[['subcat']])\n",
    "# y_true = data['subcat'].fillna('')\n",
    "# # y_true = le.transform(data['subcat'].fillna(''))\n",
    "# # y_pred = [np.sum([le.transform(c) for c in cat]) for cat in data['pred_subcat']]\n",
    "# # y_pred = [onehot_initialization()]\n",
    "\n",
    "# y_pred = []\n",
    "# for cat in data[\"pred_subcat\"]:\n",
    "#     a = np.sum([le.transform([[c]]) for c in cat], axis=0)\n",
    "#     a = np.zeros(10, dtype=int) if not len(cat) else a.flatten().astype(int)\n",
    "#     y_pred.append(a)\n",
    "# y_pred = np.array(y_pred)\n",
    "# y_pred\n"
   ]
  },
  {
   "cell_type": "code",
   "execution_count": null,
   "metadata": {},
   "outputs": [],
   "source": [
    "\n",
    "# topk_acc = top_k_accuracy_score(y_true, y_pred, k=1)\n",
    "# topk_acc"
   ]
  },
  {
   "cell_type": "markdown",
   "metadata": {},
   "source": [
    "# test pipeline"
   ]
  },
  {
   "cell_type": "code",
   "execution_count": null,
   "metadata": {},
   "outputs": [],
   "source": [
    "from aymurai.pipeline import AymurAIPipeline\n",
    "from aymurai.models.flair.core import FlairModel\n",
    "from aymurai.models.flair.utils import FlairTextNormalize\n",
    "from aymurai.transforms.entity_subcategories.regex import RegexSubcategorizer\n",
    "\n",
    "\n",
    "config = {\n",
    "    \"preprocess\": [\n",
    "        (FlairTextNormalize, {}),\n",
    "    ],\n",
    "    \"models\": [\n",
    "        (\n",
    "            FlairModel,\n",
    "            {\n",
    "                \"basepath\": \"/resources/pipelines/examples/flair-simple/FlairModel\",\n",
    "                \"split_doc\": True,\n",
    "                \"device\": \"cpu\",\n",
    "            },\n",
    "        )\n",
    "    ],\n",
    "    \"postprocess\": [\n",
    "        (RegexSubcategorizer, {}),\n",
    "    ],\n",
    "    # \"multiprocessing\": {},\n",
    "    \"use_cache\": False,\n",
    "    # 'log_level': 'debug'\n",
    "}\n",
    "\n",
    "pipeline = AymurAIPipeline(config)"
   ]
  },
  {
   "cell_type": "code",
   "execution_count": null,
   "metadata": {},
   "outputs": [],
   "source": [
    "doc = filtered_docs[:1]\n",
    "\n",
    "preprocessed = pipeline.preprocess(doc)\n",
    "predicted = pipeline.predict(preprocessed)\n",
    "postprocessed = pipeline.postprocess(predicted)"
   ]
  },
  {
   "cell_type": "code",
   "execution_count": null,
   "metadata": {},
   "outputs": [],
   "source": [
    "item = postprocessed[0]\n",
    "\n",
    "ents = get_element(item, ['predictions', 'entities'])\n",
    "ents = [ent for ent in ents if ent['label'] == 'PERSONA_ACUSADA_NO_DETERMINADA']\n",
    "print(ents)\n",
    "print('---')\n",
    "render(item)\n"
   ]
  }
 ],
 "metadata": {
  "kernelspec": {
   "display_name": "Python 3.10.8 64-bit",
   "language": "python",
   "name": "python3"
  },
  "language_info": {
   "codemirror_mode": {
    "name": "ipython",
    "version": 3
   },
   "file_extension": ".py",
   "mimetype": "text/x-python",
   "name": "python",
   "nbconvert_exporter": "python",
   "pygments_lexer": "ipython3",
   "version": "3.10.8"
  },
  "vscode": {
   "interpreter": {
    "hash": "767d51c1340bd893661ea55ea3124f6de3c7a262a8b4abca0554b478b1e2ff90"
   }
  }
 },
 "nbformat": 4,
 "nbformat_minor": 2
}
