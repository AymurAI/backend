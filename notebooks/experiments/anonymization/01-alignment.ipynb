{
 "cells": [
  {
   "cell_type": "code",
   "execution_count": null,
   "metadata": {},
   "outputs": [],
   "source": [
    "%load_ext autoreload\n",
    "%autoreload 2"
   ]
  },
  {
   "cell_type": "code",
   "execution_count": null,
   "metadata": {},
   "outputs": [],
   "source": [
    "import srsly\n",
    "import pandas as pd\n",
    "from tqdm.auto import tqdm"
   ]
  },
  {
   "attachments": {},
   "cell_type": "markdown",
   "metadata": {},
   "source": [
    "# load public data"
   ]
  },
  {
   "cell_type": "code",
   "execution_count": null,
   "metadata": {},
   "outputs": [],
   "source": [
    "public = pd.read_csv(\n",
    "    \"/workspace/resources/data/dump-20230630/set_de_datos_con_perspectiva_de_genero.csv\"\n",
    ")\n",
    "\n",
    "public.dropna(subset=[\"NRO_REGISTRO\", \"TOMO\", \"FECHA_RESOLUCION\"], inplace=True)\n",
    "public.rename(columns={c: c.lower() for c in public.columns}, inplace=True)\n",
    "\n",
    "public[\"tomo\"] = public[\"tomo\"].astype(int)\n",
    "\n",
    "\n",
    "def fix_date(text: str):\n",
    "    date = text.split(\"_\")\n",
    "    # print(date)\n",
    "    if len(date) != 3:\n",
    "        return\n",
    "\n",
    "    for i, num in enumerate(date):\n",
    "        num = int(num)\n",
    "        date[i] = f\"{num:02.0f}\"\n",
    "    try:\n",
    "        return pd.to_datetime(\"/\".join(date))\n",
    "    except:\n",
    "        return\n",
    "\n",
    "\n",
    "public[\"fecha_resolucion\"] = [\n",
    "    fix_date(date) for date in tqdm(public[\"fecha_resolucion\"])\n",
    "]\n",
    "\n",
    "public"
   ]
  },
  {
   "attachments": {},
   "cell_type": "markdown",
   "metadata": {},
   "source": [
    "# load anotations"
   ]
  },
  {
   "cell_type": "code",
   "execution_count": null,
   "metadata": {},
   "outputs": [],
   "source": [
    "from aymurai.datasets.ar_juz_pcyf_10.annotations import (\n",
    "    ArgentinaJuzgadoPCyF10LabelStudioAnnotations,\n",
    ")\n",
    "from aymurai.datasets.ar_juz_pcyf_10.public import ArgentinaJuzgadoPCyF10PublicDataset\n",
    "\n",
    "annotations = ArgentinaJuzgadoPCyF10LabelStudioAnnotations(\n",
    "    \"/workspace/resources/data/restricted/annotations/20221130-bis\"\n",
    ")"
   ]
  },
  {
   "cell_type": "code",
   "execution_count": null,
   "metadata": {},
   "outputs": [],
   "source": []
  },
  {
   "attachments": {},
   "cell_type": "markdown",
   "metadata": {},
   "source": [
    "# merge and filtering"
   ]
  },
  {
   "cell_type": "code",
   "execution_count": null,
   "metadata": {},
   "outputs": [],
   "source": [
    "from aymurai.utils.misc import get_element\n",
    "\n",
    "\n",
    "def text_normalize(text: str):\n",
    "    text = text.replace(\"\\/\", \"/\")\n",
    "    return text\n",
    "\n",
    "\n",
    "metadata = pd.DataFrame(\n",
    "    [\n",
    "        x[\"metadata\"]\n",
    "        | x[\"data\"]\n",
    "        | {\n",
    "            \"original_path\": x[\"path\"],\n",
    "            \"conll\": get_element(x, levels=[\"annotations\", \"conll\"]),\n",
    "        }\n",
    "        for x in annotations.data\n",
    "    ]\n",
    ")\n",
    "metadata.dropna(subset=[\"tomo\"], inplace=True)\n",
    "metadata = metadata[metadata[\"tomo\"].str.isnumeric()]\n",
    "metadata[\"tomo\"] = metadata[\"tomo\"].astype(int)\n",
    "metadata[\"original_path\"] = metadata[\"original_path\"].apply(text_normalize)\n",
    "metadata[\"doc.text\"] = metadata[\"doc.text\"].apply(text_normalize)\n",
    "\n",
    "# metadata['tomo'] = metadata['tomo'].astype(int)\n",
    "metadata.drop_duplicates([\"tomo\", \"nro_registro\"], inplace=True)\n",
    "metadata"
   ]
  },
  {
   "cell_type": "code",
   "execution_count": null,
   "metadata": {},
   "outputs": [],
   "source": [
    "data = pd.merge(public, metadata, on=[\"nro_registro\", \"tomo\"], how=\"left\")\n",
    "data.drop_duplicates([\"tomo\", \"nro_registro\"], inplace=True)\n",
    "data.info()"
   ]
  },
  {
   "cell_type": "code",
   "execution_count": null,
   "metadata": {},
   "outputs": [],
   "source": []
  },
  {
   "cell_type": "code",
   "execution_count": null,
   "metadata": {},
   "outputs": [],
   "source": [
    "# %%capture\n",
    "\n",
    "import os\n",
    "import gdown\n",
    "import subprocess\n",
    "from hashlib import blake2b\n",
    "from tqdm.auto import tqdm\n",
    "from joblib import Parallel, delayed\n",
    "from functools import cache\n",
    "\n",
    "tqdm.pandas()\n",
    "\n",
    "outdir = \"/resources/data/documents\"\n",
    "os.makedirs(outdir, exist_ok=True)\n",
    "\n",
    "\n",
    "@cache\n",
    "def get_file(url: str):\n",
    "    if not isinstance(url, str):\n",
    "        return\n",
    "\n",
    "    fname = f\"{outdir}/{blake2b(url.encode(), digest_size=15).hexdigest()}\"\n",
    "\n",
    "    if os.path.exists(fname):\n",
    "        return fname\n",
    "\n",
    "    # algunos archivos requieren acceso, otros estan corruptos\n",
    "    # use subprocess to handle access denied logging\n",
    "    cmd = f\"gdown --fuzzy -q --continue -O {fname} {url}\"\n",
    "    try:\n",
    "        # fname = gdown.download(url, fname, quiet=False, fuzzy=True, resume=True)\n",
    "        output = subprocess.getoutput(cmd)\n",
    "    except:\n",
    "        return\n",
    "\n",
    "    # if \"Access denied\" in output:\n",
    "    # return\n",
    "\n",
    "    return fname\n",
    "\n",
    "\n",
    "parallel = Parallel(n_jobs=50, backend=\"threading\")\n",
    "get_file_ = delayed(get_file)\n",
    "path = parallel(get_file_(url) for url in tqdm(data[\"link\"]))"
   ]
  },
  {
   "cell_type": "code",
   "execution_count": null,
   "metadata": {},
   "outputs": [],
   "source": [
    "data[\"anonymized_path\"] = path"
   ]
  },
  {
   "attachments": {},
   "cell_type": "markdown",
   "metadata": {},
   "source": [
    "# filter to handle only available ia2 data"
   ]
  },
  {
   "cell_type": "code",
   "execution_count": null,
   "metadata": {},
   "outputs": [],
   "source": [
    "import textract\n",
    "from aymurai.text.normalize import document_normalize\n",
    "\n",
    "IA2_START_DATE = pd.to_datetime(\"01/01/2021\")\n",
    "\n",
    "\n",
    "def load_doc(path: str):\n",
    "    doc = textract.process(path, extension=\"odt\")\n",
    "    doc = doc.decode(\"utf-8\")\n",
    "    return document_normalize(doc)\n",
    "\n",
    "\n",
    "def ia2(row):\n",
    "    path = row[\"anonymized_path\"]\n",
    "    date = row[\"fecha_resolucion\"]\n",
    "    if date < IA2_START_DATE:\n",
    "        return False\n",
    "    try:\n",
    "        doc = load_doc(path)\n",
    "    except Exception as e:\n",
    "        return False\n",
    "    return \"XX\" not in doc\n",
    "\n",
    "\n",
    "data[\"ia2_processed\"] = [ia2(row) for i, row in tqdm(data.iterrows())]\n",
    "data.query(\"ia2_processed\", inplace=True)\n",
    "data.dropna(subset=[\"doc.text\"], inplace=True)\n",
    "data[\"doc.text\"] = data[\"doc.text\"].apply(document_normalize)"
   ]
  },
  {
   "cell_type": "code",
   "execution_count": null,
   "metadata": {},
   "outputs": [],
   "source": [
    "from aymurai.utils import alignment\n",
    "\n",
    "OUTPUT_DIR = \"/resources/data/restricted/anonymization/ia2-aligned\"\n",
    "os.makedirs(OUTPUT_DIR, exist_ok=True)\n",
    "\n",
    "for _, row in tqdm(data.iterrows(), total=len(data)):\n",
    "    mapping = alignment.process(row)\n",
    "\n",
    "    filename = f\"{OUTPUT_DIR}/{row['tomo']}_{row['nro_registro']}.csv\"\n",
    "    mapping.to_csv(filename)"
   ]
  }
 ],
 "metadata": {
  "kernelspec": {
   "display_name": "Python 3",
   "language": "python",
   "name": "python3"
  },
  "language_info": {
   "codemirror_mode": {
    "name": "ipython",
    "version": 3
   },
   "file_extension": ".py",
   "mimetype": "text/x-python",
   "name": "python",
   "nbconvert_exporter": "python",
   "pygments_lexer": "ipython3",
   "version": "3.10.6"
  }
 },
 "nbformat": 4,
 "nbformat_minor": 2
}
