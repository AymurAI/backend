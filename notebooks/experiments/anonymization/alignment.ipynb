{
 "cells": [
  {
   "cell_type": "code",
   "execution_count": null,
   "metadata": {},
   "outputs": [],
   "source": [
    "import srsly\n",
    "import pandas as pd\n",
    "from tqdm.auto import tqdm"
   ]
  },
  {
   "cell_type": "code",
   "execution_count": null,
   "metadata": {},
   "outputs": [],
   "source": [
    "public = pd.read_csv(\n",
    "    \"/workspace/resources/data/dump-20230630/set_de_datos_con_perspectiva_de_genero.csv\"\n",
    ")\n",
    "\n",
    "public.dropna(subset=[\"NRO_REGISTRO\", \"TOMO\", \"FECHA_RESOLUCION\"], inplace=True)\n",
    "public.rename(columns={c: c.lower() for c in public.columns}, inplace=True)\n",
    "\n",
    "public[\"tomo\"] = public[\"tomo\"].astype(int)\n",
    "\n",
    "\n",
    "def fix_date(text: str):\n",
    "    date = text.split(\"_\")\n",
    "    # print(date)\n",
    "    if len(date) != 3:\n",
    "        return\n",
    "\n",
    "    for i, num in enumerate(date):\n",
    "        num = int(num)\n",
    "        date[i] = f\"{num:02.0f}\"\n",
    "    try:\n",
    "        return pd.to_datetime(\"/\".join(date))\n",
    "    except:\n",
    "        return\n",
    "\n",
    "\n",
    "public[\"fecha_resolucion\"] = [\n",
    "    fix_date(date) for date in tqdm(public[\"fecha_resolucion\"])\n",
    "]\n",
    "\n",
    "public"
   ]
  },
  {
   "cell_type": "code",
   "execution_count": null,
   "metadata": {},
   "outputs": [],
   "source": [
    "public.info()"
   ]
  },
  {
   "cell_type": "code",
   "execution_count": null,
   "metadata": {},
   "outputs": [],
   "source": [
    "import matplotlib.pyplot as plt\n",
    "\n",
    "\n",
    "plt.figure(figsize=(20, 10))\n",
    "public.groupby(public[\"fecha_resolucion\"].dt.to_period(\"M\"))[\"link_csjn\"].count().plot(\n",
    "    kind=\"bar\"\n",
    ")"
   ]
  },
  {
   "cell_type": "code",
   "execution_count": null,
   "metadata": {},
   "outputs": [],
   "source": [
    "public.groupby(public[\"fecha_resolucion\"].dt.to_period(\"Y\"))[\"link_csjn\"].count()"
   ]
  },
  {
   "cell_type": "code",
   "execution_count": null,
   "metadata": {},
   "outputs": [],
   "source": [
    "from aymurai.datasets.ar_juz_pcyf_10.annotations import (\n",
    "    ArgentinaJuzgadoPCyF10LabelStudioAnnotations,\n",
    ")\n",
    "\n",
    "annotations = ArgentinaJuzgadoPCyF10LabelStudioAnnotations(\n",
    "    \"/workspace/resources/data/restricted/annotations/20221130-bis\"\n",
    ")"
   ]
  },
  {
   "cell_type": "code",
   "execution_count": null,
   "metadata": {},
   "outputs": [],
   "source": [
    "annotations.data[0]"
   ]
  },
  {
   "cell_type": "code",
   "execution_count": null,
   "metadata": {},
   "outputs": [],
   "source": [
    "from aymurai.utils.misc import get_element\n",
    "\n",
    "\n",
    "def text_normalize(text: str):\n",
    "    text = text.replace(\"\\/\", \"/\")\n",
    "    return text\n",
    "\n",
    "\n",
    "metadata = pd.DataFrame(\n",
    "    [\n",
    "        x[\"metadata\"]\n",
    "        | x[\"data\"]\n",
    "        | {\n",
    "            \"original_path\": x[\"path\"],\n",
    "            \"conll\": get_element(x, levels=[\"annotations\", \"conll\"]),\n",
    "        }\n",
    "        for x in annotations.data\n",
    "    ]\n",
    ")\n",
    "metadata.dropna(subset=[\"tomo\"], inplace=True)\n",
    "metadata = metadata[metadata[\"tomo\"].str.isnumeric()]\n",
    "metadata[\"tomo\"] = metadata[\"tomo\"].astype(int)\n",
    "metadata[\"original_path\"] = metadata[\"original_path\"].apply(text_normalize)\n",
    "metadata[\"doc.text\"] = metadata[\"doc.text\"].apply(text_normalize)\n",
    "\n",
    "# metadata['tomo'] = metadata['tomo'].astype(int)\n",
    "metadata.drop_duplicates([\"tomo\", \"nro_registro\"], inplace=True)\n",
    "metadata"
   ]
  },
  {
   "cell_type": "code",
   "execution_count": null,
   "metadata": {},
   "outputs": [],
   "source": [
    "# Inner join\n",
    "pd.merge(public, metadata, on=[\"nro_registro\", \"tomo\"], how=\"inner\").info()"
   ]
  },
  {
   "cell_type": "code",
   "execution_count": null,
   "metadata": {},
   "outputs": [],
   "source": [
    "# Inner join - drop duplicates\n",
    "pd.merge(public, metadata, on=[\"nro_registro\", \"tomo\"], how=\"inner\").drop_duplicates(\n",
    "    [\"tomo\", \"nro_registro\"], inplace=False\n",
    ").info()"
   ]
  },
  {
   "cell_type": "code",
   "execution_count": null,
   "metadata": {},
   "outputs": [],
   "source": [
    "# Left join\n",
    "x = pd.merge(public, metadata, on=[\"nro_registro\", \"tomo\"], how=\"left\")\n",
    "x.drop_duplicates([\"tomo\", \"nro_registro\"], inplace=True)\n",
    "x.info()"
   ]
  },
  {
   "cell_type": "code",
   "execution_count": null,
   "metadata": {},
   "outputs": [],
   "source": [
    "x.sample(5)"
   ]
  },
  {
   "cell_type": "code",
   "execution_count": null,
   "metadata": {},
   "outputs": [],
   "source": [
    "x[\"link\"].notna().sum()"
   ]
  },
  {
   "cell_type": "code",
   "execution_count": null,
   "metadata": {},
   "outputs": [],
   "source": [
    "x.groupby(x[\"fecha_resolucion\"].dt.to_period(\"Y\"))[\"link\"].count()"
   ]
  },
  {
   "cell_type": "code",
   "execution_count": null,
   "metadata": {},
   "outputs": [],
   "source": [
    "x.dropna(subset=[\"original_path\"]).groupby(x[\"fecha_resolucion\"].dt.to_period(\"Y\"))[\n",
    "    \"original_path\"\n",
    "].count()"
   ]
  },
  {
   "cell_type": "code",
   "execution_count": null,
   "metadata": {},
   "outputs": [],
   "source": [
    "import os\n",
    "import gdown\n",
    "import subprocess\n",
    "from hashlib import blake2b\n",
    "from tqdm.auto import tqdm\n",
    "from joblib import Parallel, delayed\n",
    "from functools import cache\n",
    "\n",
    "tqdm.pandas()\n",
    "\n",
    "outdir = \"/resources/data/documents\"\n",
    "os.makedirs(outdir, exist_ok=True)\n",
    "\n",
    "\n",
    "@cache\n",
    "def get_file(url: str):\n",
    "    if not isinstance(url, str):\n",
    "        return\n",
    "\n",
    "    fname = f\"{outdir}/{blake2b(url.encode(), digest_size=15).hexdigest()}\"\n",
    "\n",
    "    if os.path.exists(fname):\n",
    "        return fname\n",
    "\n",
    "    # # algunos archivos requieren acceso, otros estan corruptos\n",
    "    # cmd = f\"gdown --fuzzy -q --continue -O {fname} {url}\"\n",
    "    try:\n",
    "        fname = gdown.download(url, fname, quiet=False, fuzzy=True, resume=True)\n",
    "        # output = subprocess.getoutput(cmd)\n",
    "    except:\n",
    "        return\n",
    "\n",
    "    # if \"Access denied\" in output:\n",
    "    # return\n",
    "\n",
    "    return fname\n",
    "\n",
    "\n",
    "parallel = Parallel(n_jobs=50, backend=\"threading\")\n",
    "get_file_ = delayed(get_file)\n",
    "path = parallel(get_file_(url) for url in tqdm(x[\"link\"]))"
   ]
  },
  {
   "cell_type": "code",
   "execution_count": null,
   "metadata": {},
   "outputs": [],
   "source": [
    "x[\"anonymized_path\"] = path"
   ]
  },
  {
   "cell_type": "code",
   "execution_count": null,
   "metadata": {},
   "outputs": [],
   "source": [
    "x.sample(5)"
   ]
  },
  {
   "cell_type": "code",
   "execution_count": null,
   "metadata": {},
   "outputs": [],
   "source": [
    "x[\"anonymized_path\"].notna().sum(), x[\"anonymized_path\"].isna().sum()"
   ]
  },
  {
   "cell_type": "code",
   "execution_count": null,
   "metadata": {},
   "outputs": [],
   "source": [
    "x.dropna(subset=[\"original_path\"]).groupby(x[\"fecha_resolucion\"].dt.to_period(\"Y\"))[\n",
    "    \"original_path\"\n",
    "].count()"
   ]
  },
  {
   "cell_type": "code",
   "execution_count": null,
   "metadata": {},
   "outputs": [],
   "source": [
    "x.dropna(subset=[\"original_path\"]).groupby(x[\"fecha_resolucion\"].dt.to_period(\"Y\"))[\n",
    "    \"original_path\"\n",
    "].count()"
   ]
  },
  {
   "cell_type": "code",
   "execution_count": null,
   "metadata": {},
   "outputs": [],
   "source": [
    "x.dropna(subset=[\"anonymized_path\"]).groupby(x[\"fecha_resolucion\"].dt.to_period(\"Y\"))[\n",
    "    \"anonymized_path\"\n",
    "].count()"
   ]
  },
  {
   "cell_type": "code",
   "execution_count": null,
   "metadata": {},
   "outputs": [],
   "source": [
    "# 2021 en adelante, con versión anonymizada\n",
    "mask = (x[\"fecha_resolucion\"].dt.to_period(\"Y\") >= \"2021\") & (\n",
    "    x[\"anonymized_path\"].notna()\n",
    ")\n",
    "x.loc[mask]"
   ]
  },
  {
   "cell_type": "code",
   "execution_count": null,
   "metadata": {},
   "outputs": [],
   "source": [
    "import textract\n",
    "\n",
    "IA2_START_DATE = pd.to_datetime(\"01/01/2021\")\n",
    "\n",
    "\n",
    "def load_doc(path: str):\n",
    "    doc = textract.process(path, extension=\"odt\")\n",
    "    return doc.decode(\"utf-8\")\n",
    "\n",
    "\n",
    "def ia2(row):\n",
    "    path = row[\"anonymized_path\"]\n",
    "    date = row[\"fecha_resolucion\"]\n",
    "    if date < IA2_START_DATE:\n",
    "        return False\n",
    "    try:\n",
    "        doc = load_doc(path)\n",
    "    except Exception as e:\n",
    "        return False\n",
    "    return \"XX\" not in doc"
   ]
  },
  {
   "cell_type": "code",
   "execution_count": null,
   "metadata": {},
   "outputs": [],
   "source": [
    "x[\"ia2\"] = [ia2(row) for i, row in tqdm(x.iterrows())]"
   ]
  },
  {
   "cell_type": "code",
   "execution_count": null,
   "metadata": {},
   "outputs": [],
   "source": [
    "x.query(\"ia2\")[\"fecha_resolucion\"].describe(\n",
    "    percentiles=[0.01, 0.05, 0.25, 0.5, 0.75, 0.95, 0.99]\n",
    ")"
   ]
  },
  {
   "cell_type": "code",
   "execution_count": null,
   "metadata": {},
   "outputs": [],
   "source": [
    "x.loc[mask][\"original_path\"].isna().sum(), x.loc[mask][\"original_path\"].notna().sum()"
   ]
  },
  {
   "cell_type": "code",
   "execution_count": null,
   "metadata": {},
   "outputs": [],
   "source": [
    "# Filtro de resoluciones sin versión original pero con versión anonymizada\n",
    "mask &= (x[\"original_path\"].isna()) & (x[\"ia2\"])\n",
    "x.loc[mask].info()"
   ]
  },
  {
   "cell_type": "code",
   "execution_count": null,
   "metadata": {},
   "outputs": [],
   "source": [
    "x.loc[mask][\"fecha_resolucion\"].describe()"
   ]
  },
  {
   "cell_type": "code",
   "execution_count": null,
   "metadata": {},
   "outputs": [],
   "source": [
    "# Desde IA2, sin versión original\n",
    "faltantes = x.loc[mask]\n",
    "faltantes.drop(\n",
    "    [\"doc.text\", \"original_path\", \"anonymized_path\", \"ia2\"], axis=1\n",
    ").to_excel(\"resos_originales_faltantes.xlsx\", index=False)"
   ]
  },
  {
   "cell_type": "code",
   "execution_count": null,
   "metadata": {},
   "outputs": [],
   "source": [
    "faltantes.info()"
   ]
  },
  {
   "cell_type": "code",
   "execution_count": null,
   "metadata": {},
   "outputs": [],
   "source": [
    "faltantes.tail()"
   ]
  },
  {
   "cell_type": "code",
   "execution_count": null,
   "metadata": {},
   "outputs": [],
   "source": [
    "# Antes de IA2\n",
    "x.query(\"not ia2\")[\"fecha_resolucion\"].describe(\n",
    "    percentiles=[0.01, 0.05, 0.25, 0.5, 0.75, 0.95, 0.99]\n",
    ")"
   ]
  },
  {
   "cell_type": "code",
   "execution_count": null,
   "metadata": {},
   "outputs": [],
   "source": [
    "x.query(\"not ia2\")[\"original_path\"].to_csv(\n",
    "    \"need_preprocess.csv\", index=False, header=False\n",
    ")"
   ]
  },
  {
   "attachments": {},
   "cell_type": "markdown",
   "metadata": {},
   "source": [
    "# Ejemplo 1\n"
   ]
  },
  {
   "cell_type": "code",
   "execution_count": null,
   "metadata": {},
   "outputs": [],
   "source": [
    "sample = (\n",
    "    x.loc[(x[\"doc.text\"].notna()) & (x[\"anonymized_path\"].notna())].sample().iloc[0]\n",
    ")\n",
    "\n",
    "text = sample[\"doc.text\"]\n",
    "path = sample[\"anonymized_path\"]\n",
    "print(path)"
   ]
  },
  {
   "cell_type": "code",
   "execution_count": null,
   "metadata": {},
   "outputs": [],
   "source": [
    "import textract\n",
    "\n",
    "doc = textract.process(path, extension=\"odt\", output_encoding=\"utf-8\")\n",
    "doc = doc.decode(\"utf-8\")\n",
    "print(doc)"
   ]
  },
  {
   "cell_type": "code",
   "execution_count": null,
   "metadata": {},
   "outputs": [],
   "source": [
    "import re\n",
    "from difflib import SequenceMatcher, Differ\n",
    "import spacy\n",
    "\n",
    "from spacy.tokenizer import Tokenizer\n",
    "from spacy.util import compile_prefix_regex, compile_infix_regex, compile_suffix_regex\n",
    "\n",
    "\n",
    "def custom_tokenizer(nlp):\n",
    "    # infix_re = re.compile(r'''[.\\,\\?\\:\\;\\...\\‘\\’\\`\\“\\”\\\"\\'~]''')\n",
    "    prefixes = list(nlp.Defaults.prefixes)\n",
    "    prefixes.remove(\"<\")\n",
    "    suffixes = list(nlp.Defaults.suffixes)\n",
    "    suffixes.remove(\">\")\n",
    "    prefix_re = compile_prefix_regex(prefixes)\n",
    "    suffix_re = compile_suffix_regex(suffixes)\n",
    "\n",
    "    return Tokenizer(\n",
    "        nlp.vocab,\n",
    "        prefix_search=prefix_re.search,\n",
    "        suffix_search=suffix_re.search,\n",
    "        # infix_finditer=infix_re.finditer,\n",
    "        token_match=None,\n",
    "    )\n",
    "\n",
    "\n",
    "nlp = spacy.blank(\"es\")\n",
    "nlp.tokenizer = custom_tokenizer(nlp)\n",
    "\n",
    "# splitted_text =  re.split('\\s+', text)\n",
    "# splitted_doc = re.split('\\s+', text)\n",
    "splitted_text = [t.text for t in nlp(text)]\n",
    "splitted_doc = [t.text for t in nlp(doc)]\n",
    "\n",
    "seqmatcher = SequenceMatcher(None, splitted_text, splitted_doc)"
   ]
  },
  {
   "cell_type": "code",
   "execution_count": null,
   "metadata": {},
   "outputs": [],
   "source": [
    "matches = seqmatcher.get_matching_blocks()\n",
    "\n",
    "for match in matches:\n",
    "    print(match)\n",
    "    print(splitted_text[match.a : match.a + match.size])\n",
    "    print(splitted_doc[match.b : match.b + match.size])\n",
    "    print()"
   ]
  },
  {
   "cell_type": "code",
   "execution_count": null,
   "metadata": {},
   "outputs": [],
   "source": [
    "for match1, match2 in zip(matches, matches[1:]):\n",
    "    print(splitted_text[match1.a : match1.a + match1.size])\n",
    "    print(splitted_doc[match1.b : match1.b + match1.size])\n",
    "    # print(\"----\")\n",
    "    diff = Differ()\n",
    "    print(\n",
    "        \"\\n\".join(\n",
    "            diff.compare(\n",
    "                splitted_text[match1.a + match1.size : match2.a],\n",
    "                splitted_doc[match1.b + match1.size : match2.b],\n",
    "            )\n",
    "        )\n",
    "    )\n",
    "    print(\"----\")"
   ]
  },
  {
   "attachments": {},
   "cell_type": "markdown",
   "metadata": {},
   "source": [
    "# Ejemplo 2\n"
   ]
  },
  {
   "cell_type": "code",
   "execution_count": null,
   "metadata": {},
   "outputs": [],
   "source": [
    "sample = x.iloc[703]\n",
    "\n",
    "text = sample[\"doc.text\"]\n",
    "path = sample[\"anonymized_path\"]\n",
    "print(path)"
   ]
  },
  {
   "cell_type": "code",
   "execution_count": null,
   "metadata": {},
   "outputs": [],
   "source": [
    "import textract\n",
    "\n",
    "doc = textract.process(path, extension=\"odt\", output_encoding=\"utf-8\")\n",
    "doc = doc.decode(\"utf-8\")\n",
    "print(doc)"
   ]
  },
  {
   "cell_type": "code",
   "execution_count": null,
   "metadata": {},
   "outputs": [],
   "source": [
    "import re\n",
    "from difflib import SequenceMatcher, Differ\n",
    "import spacy\n",
    "\n",
    "nlp = spacy.blank(\"es\")\n",
    "\n",
    "# splitted_text =  re.split('\\s+', text)\n",
    "# splitted_doc = re.split('\\s+', text)\n",
    "# splitted_text = [t.text for t in nlp(text)]\n",
    "splitted_doc = [t.text for t in nlp(doc)]\n",
    "\n",
    "seqmatcher = SequenceMatcher(None, splitted_text, splitted_doc)"
   ]
  },
  {
   "cell_type": "code",
   "execution_count": null,
   "metadata": {},
   "outputs": [],
   "source": [
    "matches = seqmatcher.get_matching_blocks()\n",
    "\n",
    "for match in matches:\n",
    "    print(match)\n",
    "    print(splitted_text[match.a : match.a + match.size])\n",
    "    print(splitted_doc[match.b : match.b + match.size])\n",
    "    print()"
   ]
  },
  {
   "cell_type": "code",
   "execution_count": null,
   "metadata": {},
   "outputs": [],
   "source": [
    "for match1, match2 in zip(matches, matches[1:]):\n",
    "    print(splitted_text[match1.a : match1.a + match1.size])\n",
    "    print(splitted_doc[match1.b : match1.b + match1.size])\n",
    "    # print(\"----\")\n",
    "    diff = Differ()\n",
    "    print(\n",
    "        \"\\n\".join(\n",
    "            diff.compare(\n",
    "                splitted_text[match1.a + match1.size : match2.a],\n",
    "                splitted_doc[match1.b + match1.size : match2.b],\n",
    "            )\n",
    "        )\n",
    "    )\n",
    "    print(\"----\")"
   ]
  },
  {
   "attachments": {},
   "cell_type": "markdown",
   "metadata": {},
   "source": [
    "# Batch process"
   ]
  },
  {
   "cell_type": "code",
   "execution_count": null,
   "metadata": {},
   "outputs": [],
   "source": [
    "ia2_data = x.query(\"ia2\")\n",
    "ia2_data.dropna(subset=[\"doc.text\"], inplace=True)\n",
    "ia2_data"
   ]
  },
  {
   "cell_type": "code",
   "execution_count": null,
   "metadata": {},
   "outputs": [],
   "source": [
    "example = ia2_data.iloc[1]\n",
    "\n",
    "original = example[\"doc.text\"]\n",
    "anonymized = textract.process(\n",
    "    example[\"anonymized_path\"], extension=\"odt\", output_encoding=\"utf-8\"\n",
    ")\n",
    "anonymized = anonymized.decode(\"utf-8\")"
   ]
  },
  {
   "cell_type": "code",
   "execution_count": null,
   "metadata": {},
   "outputs": [],
   "source": [
    "original.splitlines()"
   ]
  },
  {
   "cell_type": "code",
   "execution_count": null,
   "metadata": {},
   "outputs": [],
   "source": [
    "anonymized.splitlines()"
   ]
  },
  {
   "cell_type": "code",
   "execution_count": null,
   "metadata": {},
   "outputs": [],
   "source": [
    "a = anonymized.splitlines()\n",
    "b = original.splitlines()\n",
    "seqmatcher = SequenceMatcher(None, a, b)\n",
    "matches = seqmatcher.get_matching_blocks()\n",
    "\n",
    "offset_lines = matches[0]\n",
    "\n",
    "anon_offset = \"\\n\".join(a[: offset_lines.a])\n",
    "anon_offset = len(anon_offset)\n",
    "\n",
    "orig_offset = \"\\n\".join(b[: offset_lines.b])\n",
    "orig_offset = len(orig_offset)\n",
    "\n",
    "aa = [t.text for t in nlp(anonymized[anon_offset:])]\n",
    "bb = [t.text for t in nlp(original[orig_offset:])]\n",
    "\n",
    "seqmatcher = SequenceMatcher(None, aa, bb)\n",
    "matches = seqmatcher.get_matching_blocks()\n",
    "\n",
    "for match in matches:\n",
    "    print(match)\n",
    "    print(aa[match.a : match.a + match.size])\n",
    "    print(bb[match.b : match.b + match.size])\n",
    "    print()"
   ]
  },
  {
   "cell_type": "code",
   "execution_count": null,
   "metadata": {},
   "outputs": [],
   "source": [
    "!wget -c https://raw.githubusercontent.com/instituciones-abiertas/ia2-cli/main/NER.md"
   ]
  },
  {
   "cell_type": "code",
   "execution_count": null,
   "metadata": {},
   "outputs": [],
   "source": [
    "import re\n",
    "from unidecode import unidecode\n",
    "\n",
    "labels = []\n",
    "with open(\"NER.md\", \"r\") as file:\n",
    "    for line in file.readlines():\n",
    "        line = unidecode(line)\n",
    "        label_candidate = re.findall(\"^| ([A-Z]+) .*\", line)\n",
    "        labels.extend(label_candidate)\n",
    "\n",
    "labels = set(labels)\n",
    "labels.remove(\"\")\n",
    "labels = [f\"{label}\" for label in labels]\n",
    "\n",
    "\n",
    "labels"
   ]
  },
  {
   "cell_type": "code",
   "execution_count": null,
   "metadata": {},
   "outputs": [],
   "source": [
    "import zipfile\n",
    "import xmltodict\n",
    "from aymurai.utils.misc import get_element\n",
    "\n",
    "\n",
    "def load_styles_from_odt(odt_file_path):\n",
    "    styles_content = \"\"\n",
    "\n",
    "    with zipfile.ZipFile(odt_file_path, \"r\") as odt_zip:\n",
    "        if \"styles.xml\" in odt_zip.namelist():\n",
    "            with odt_zip.open(\"styles.xml\") as styles_file:\n",
    "                styles_content = styles_file.read().decode(\"utf-8\")\n",
    "\n",
    "    return styles_content\n",
    "\n",
    "\n",
    "def get_header(path: str) -> list[str]:\n",
    "    styles_xml_content = load_styles_from_odt(path)\n",
    "    styles_dict = xmltodict.parse(styles_xml_content)\n",
    "    header_root = get_element(\n",
    "        styles_dict,\n",
    "        levels=[\n",
    "            \"office:document-styles\",\n",
    "            \"office:master-styles\",\n",
    "            \"style:master-page\",\n",
    "            1,\n",
    "            \"style:header\",\n",
    "            \"text:p\",\n",
    "        ],\n",
    "    )\n",
    "\n",
    "    if not isinstance(header_root, list):\n",
    "        return []\n",
    "\n",
    "    return [element.get(\"#text\") for element in header_root if element.get(\"#text\")]\n",
    "\n",
    "\n",
    "odt_file_path = \"/resources/asd/0a5a940b1c230798a03eff2d14c965\"\n",
    "get_header(odt_file_path)"
   ]
  },
  {
   "cell_type": "code",
   "execution_count": null,
   "metadata": {},
   "outputs": [],
   "source": [
    "import re\n",
    "from difflib import SequenceMatcher, Differ\n",
    "import numpy as np\n",
    "import pandas as pd\n",
    "\n",
    "import textract\n",
    "from more_itertools import zip_offset\n",
    "from unidecode import unidecode\n",
    "\n",
    "\n",
    "def tokenize(text):\n",
    "    tokens = []\n",
    "    lines = text.splitlines()\n",
    "\n",
    "    for line in lines:\n",
    "        tokens.extend(line.split())\n",
    "\n",
    "    return tokens\n",
    "\n",
    "\n",
    "def norm_label(text) -> str:\n",
    "    if not isinstance(text, str):\n",
    "        return np.nan\n",
    "\n",
    "    text = unidecode(text)\n",
    "    text = re.sub(r\"\\W\", \"\", text)\n",
    "    return text\n",
    "\n",
    "\n",
    "def aligner(anonymized: str, original: str):\n",
    "    anon_lines = anonymized.splitlines()\n",
    "    # orig_lines = original.splitlines()\n",
    "    orig_lines = [line.strip() for line in original.splitlines()]\n",
    "\n",
    "    seqmatcher = SequenceMatcher(None, anon_lines, orig_lines)\n",
    "    matches = seqmatcher.get_matching_blocks()\n",
    "\n",
    "    offset_lines = matches[0]\n",
    "\n",
    "    anon_offset = \"\\n\".join(anon_lines[: offset_lines.a])\n",
    "    anon_offset = len(anon_offset)\n",
    "\n",
    "    orig_offset = \"\\n\".join(orig_lines[: offset_lines.b])\n",
    "    orig_offset = len(orig_offset)\n",
    "\n",
    "    mapping = pd.DataFrame(\n",
    "        [\n",
    "            {\n",
    "                \"original\": t1 if t1 else \"\",\n",
    "                \"anonymized\": t2 if t2 else \"\",\n",
    "                \"ia2_label\": None,\n",
    "                # \"ia2_norm_label\": None,\n",
    "            }\n",
    "            for t1, t2 in zip_offset(\n",
    "                reversed(tokenize(original[:orig_offset])),\n",
    "                reversed(tokenize(anonymized[:anon_offset])),\n",
    "                offsets=(0, 0),\n",
    "                longest=True,\n",
    "            )\n",
    "        ]\n",
    "    ).iloc[::-1]\n",
    "\n",
    "    anon_tokens = [t.strip() for t in tokenize(anonymized[anon_offset:])]\n",
    "    orig_tokens = [t.strip() for t in tokenize(original[orig_offset:])]\n",
    "\n",
    "    seqmatcher = SequenceMatcher(None, anon_tokens, orig_tokens)\n",
    "    matches = seqmatcher.get_matching_blocks()\n",
    "\n",
    "    for match1, match2 in zip(matches, matches[1:]):\n",
    "        _aux = {\n",
    "            \"original\": orig_tokens[match1.b : match1.b + match1.size],\n",
    "            \"anonymized\": anon_tokens[match1.a : match1.a + match1.size],\n",
    "        }\n",
    "        mapping = pd.concat([mapping, pd.DataFrame(_aux)], ignore_index=True)\n",
    "\n",
    "        diff = Differ().compare(\n",
    "            anon_tokens[match1.a + match1.size : match2.a],\n",
    "            orig_tokens[match1.b + match1.size : match2.b],\n",
    "        )\n",
    "        diff = list(diff)\n",
    "        label_candidate = [t[2:].strip() for t in diff if t.startswith(\"-\")]\n",
    "        text = [t[2:].strip() for t in diff if t.startswith((\"+\", \" \"))]\n",
    "\n",
    "        if not label_candidate:\n",
    "            continue\n",
    "\n",
    "        if len(label_candidate) > 1:\n",
    "            # print(f\"multiple labels:\\n{text}\\n{label_candidate}\")\n",
    "            label = \"/\".join(\n",
    "                set([re.sub(\",\", \"\", candidate) for candidate in label_candidate])\n",
    "            )\n",
    "            conll_label = re.sub(\"<|>\", \"\", label)\n",
    "            _aux = [\n",
    "                {\n",
    "                    \"original\": t,\n",
    "                    \"anonymized\": label,\n",
    "                    \"ia2_label\": label,\n",
    "                    # \"ia2_norm_label\": f\"{'B' if i==0 else 'I'}-{conll_label}\",\n",
    "                }\n",
    "                for i, t in enumerate(text)\n",
    "            ]\n",
    "\n",
    "        else:\n",
    "            label = \"/\".join(label_candidate)\n",
    "            conll_label = re.sub(\"<|>\", \"\", label)\n",
    "            _aux = [\n",
    "                {\n",
    "                    \"original\": t,\n",
    "                    \"anonymized\": label,\n",
    "                    \"ia2_label\": label,\n",
    "                    # \"ia2_norm_label\": f\"{'B' if i==0 else 'I'}-{conll_label}\",\n",
    "                }\n",
    "                for i, t in enumerate(text)\n",
    "            ]\n",
    "\n",
    "        mapping = pd.concat([mapping, pd.DataFrame(_aux)], ignore_index=True)\n",
    "\n",
    "    if not \"ia2_label\" in mapping:\n",
    "        mapping[\"ia2_label\"] = np.nan\n",
    "\n",
    "    # if not 'ia2_norm_label' in mapping:\n",
    "    #     mapping[\"ia2_norm_label\"] = 'O'\n",
    "    # mapping[\"ia2_norm_label\"] = mapping[\"ia2_norm_label\"].fillna(\"O\")\n",
    "    mapping[\"ia2_norm_label\"] = mapping[\"ia2_label\"].apply(norm_label)\n",
    "\n",
    "    return mapping.reset_index(drop=True)\n",
    "\n",
    "\n",
    "def add_empty_lines_between_paragraphs(\n",
    "    original: str, processed: pd.DataFrame\n",
    ") -> pd.DataFrame:\n",
    "    splitted = original.splitlines()\n",
    "    n_tokens = [len(line.split()) for line in splitted if line.split()]\n",
    "    idx = [idx + i for i, idx in enumerate(np.cumsum(n_tokens))]\n",
    "\n",
    "    for i in idx:\n",
    "        try:\n",
    "            processed = pd.DataFrame(\n",
    "                np.insert(\n",
    "                    processed.values, i, values=[\" \"] * len(processed.columns), axis=0\n",
    "                ),\n",
    "                columns=processed.columns,\n",
    "            )\n",
    "        except:\n",
    "            pass\n",
    "\n",
    "    return processed\n",
    "\n",
    "\n",
    "def process(item):\n",
    "    original = item[\"doc.text\"]\n",
    "    path = item[\"anonymized_path\"]\n",
    "    anonymized = textract.process(path, extension=\"odt\", output_encoding=\"utf-8\")\n",
    "    anonymized = anonymized.decode(\"utf-8\")\n",
    "\n",
    "    # patch header loading in anonymized files\n",
    "    anon_header = \"\\n\".join(get_header(path))\n",
    "    anonymized = anon_header + \"\\n\" + anonymized\n",
    "\n",
    "    processed = aligner(anonymized, original)\n",
    "    processed = add_empty_lines_between_paragraphs(original, processed)\n",
    "\n",
    "    return processed"
   ]
  },
  {
   "cell_type": "code",
   "execution_count": null,
   "metadata": {},
   "outputs": [],
   "source": [
    "align = process(ia2_data.iloc[-5])\n",
    "align"
   ]
  },
  {
   "cell_type": "code",
   "execution_count": null,
   "metadata": {},
   "outputs": [],
   "source": [
    "import os\n",
    "\n",
    "\n",
    "def mapping2conll(df, filename):\n",
    "    dir = os.path.dirname(filename)\n",
    "    os.makedirs(dir, exist_ok=True)\n",
    "    with open(filename, \"w\") as file:\n",
    "        print(\"-DOCSTART- -X- O\", file=file)\n",
    "        for _, row in df.iterrows():\n",
    "            text = row[\"original\"]\n",
    "            label = row[\"conll_label\"]\n",
    "            print(f\"{text} -X- _ {label}\" if text != \" \" else \"\", file=file)"
   ]
  },
  {
   "cell_type": "code",
   "execution_count": null,
   "metadata": {},
   "outputs": [],
   "source": [
    "for _, row in tqdm(ia2_data.iterrows(), total=len(ia2_data)):\n",
    "    filename = f\"output/{row['tomo']}_{row['nro_registro']}\"\n",
    "    mapping = process(row)\n",
    "    mapping.to_csv(f\"{filename}.csv\", index=False)\n",
    "    # mapping2conll(mapping, filename)"
   ]
  },
  {
   "cell_type": "code",
   "execution_count": null,
   "metadata": {},
   "outputs": [],
   "source": [
    "asd = iter(ia2_data.iterrows())"
   ]
  },
  {
   "cell_type": "code",
   "execution_count": null,
   "metadata": {},
   "outputs": [],
   "source": [
    "i, row = next(asd)\n",
    "a = process(row)\n",
    "\n",
    "display(a)"
   ]
  },
  {
   "attachments": {},
   "cell_type": "markdown",
   "metadata": {},
   "source": [
    "# align with aymurai-v1 annotated data"
   ]
  },
  {
   "cell_type": "code",
   "execution_count": null,
   "metadata": {},
   "outputs": [],
   "source": [
    "b = pd.DataFrame(\n",
    "    [line.split() for line in row[\"conll\"].splitlines()],\n",
    "    columns=[\"aymurai-v1\", \"aymurai-v1_label\"],\n",
    ")\n",
    "\n",
    "seqmatcher = SequenceMatcher(None, a[\"original\"], b[\"aymurai-v1\"])\n",
    "\n",
    "matches = seqmatcher.get_matching_blocks()"
   ]
  },
  {
   "cell_type": "code",
   "execution_count": null,
   "metadata": {},
   "outputs": [],
   "source": [
    "import re\n",
    "\n",
    "\n",
    "def aymurai_align(df, conll):\n",
    "    df = df.copy()\n",
    "    aymurai_conll = pd.DataFrame(\n",
    "        [line.split() for line in conll.splitlines()],\n",
    "        columns=[\"aymurai_v1\", \"aymurai_v1_label\"],\n",
    "    )\n",
    "\n",
    "    # normalize labels to easy use\n",
    "    def normalize(x):\n",
    "        if not isinstance(x, str):\n",
    "            return x\n",
    "        return re.sub(r\"[BI]-\", \"\", x)\n",
    "\n",
    "    aymurai_conll[\"aymurai_v1_label\"] = aymurai_conll[\"aymurai_v1_label\"].apply(\n",
    "        normalize\n",
    "    )\n",
    "    aymurai_conll[\"aymurai_v1_label\"] = aymurai_conll[\"aymurai_v1_label\"].replace(\n",
    "        \"O\", np.nan\n",
    "    )\n",
    "\n",
    "    seqmatcher = SequenceMatcher(None, df[\"original\"], aymurai_conll[\"aymurai_v1\"])\n",
    "    matches = seqmatcher.get_matching_blocks()\n",
    "\n",
    "    for match in matches:\n",
    "        orig = df.iloc[match.a : match.a + match.size]\n",
    "        aymu = aymurai_conll.iloc[match.b : match.b + match.size]\n",
    "\n",
    "        # we assume that in this alignment the two dataframes have the same len and are aligned.\n",
    "        df.loc[orig.index, aymu.columns] = aymu.values\n",
    "    return df"
   ]
  },
  {
   "cell_type": "code",
   "execution_count": null,
   "metadata": {},
   "outputs": [],
   "source": [
    "aymurai_align(a, row[\"conll\"]).columns"
   ]
  },
  {
   "attachments": {},
   "cell_type": "markdown",
   "metadata": {},
   "source": [
    "# all together"
   ]
  },
  {
   "cell_type": "code",
   "execution_count": null,
   "metadata": {},
   "outputs": [],
   "source": [
    "def process_full(item):\n",
    "    processed = process(item)\n",
    "\n",
    "    # align with aymurai\n",
    "    full = aymurai_align(processed, item[\"conll\"])\n",
    "\n",
    "    return full"
   ]
  },
  {
   "attachments": {},
   "cell_type": "markdown",
   "metadata": {},
   "source": [
    "# merge labels"
   ]
  },
  {
   "cell_type": "code",
   "execution_count": null,
   "metadata": {},
   "outputs": [],
   "source": [
    "from more_itertools import consecutive_groups\n",
    "\n",
    "\n",
    "def set_label(mapping):\n",
    "    mapping = mapping.copy()\n",
    "    mask = (\n",
    "        ~mapping[\"ia2_label\"].replace(\" \", np.nan).isna()\n",
    "        | ~mapping[\"aymurai_v1_label\"].isna()\n",
    "    )\n",
    "    groups = consecutive_groups(mapping[mask].index)\n",
    "\n",
    "    for group in groups:\n",
    "        group = list(group)\n",
    "        block = slice(min(group), max(group))\n",
    "\n",
    "        # gives priority to ia2 labels blocks\n",
    "        ia2 = np.sum(~mapping.loc[block, \"ia2_norm_label\"].isna())\n",
    "        if ia2:\n",
    "            mapping.loc[block, \"label\"] = mapping.loc[block, \"ia2_norm_label\"]\n",
    "        else:\n",
    "            mapping.loc[block, \"label\"] = mapping.loc[block, \"aymurai_v1_label\"]\n",
    "    \n",
    "    mask = ~mapping['label'].isin(labels)\n",
    "    mapping.loc[mask, 'label'] = np.nan\n",
    "\n",
    "    # tag the labels\n",
    "    mapping[\"label\"] = \"B-\" + mapping[\"label\"]\n",
    "    mask = mapping[\"label\"].values[1:] == mapping[\"label\"].values[:-1]\n",
    "    mask = np.insert(mask, 0, False)\n",
    "    mapping.loc[mask, \"label\"] = mapping.loc[mask, \"label\"].str.replace(\"B-\", \"I-\")\n",
    "    mapping[\"label\"] = mapping[\"label\"].fillna(\"O\")\n",
    "\n",
    "    return mapping"
   ]
  },
  {
   "cell_type": "code",
   "execution_count": null,
   "metadata": {},
   "outputs": [],
   "source": [
    "for _, row in tqdm(ia2_data.iterrows(), total=len(ia2_data)):\n",
    "    filename = f\"output/{row['tomo']}_{row['nro_registro']}\"\n",
    "    mapping = process_full(row)\n",
    "\n",
    "    # resort columns\n",
    "    mapping = mapping[\n",
    "        [\n",
    "            \"original\",\n",
    "            \"anonymized\",\n",
    "            \"aymurai_v1\",\n",
    "            \"ia2_label\",\n",
    "            \"ia2_norm_label\",\n",
    "            \"aymurai_v1_label\",\n",
    "        ]\n",
    "    ]\n",
    "\n",
    "    # define label for tokens in a Hierarchical way: aymurai-v1 < ia2\n",
    "    mapping = set_label(mapping)\n",
    "\n",
    "    # patch blank lines\n",
    "    mapping.loc[mapping[\"original\"] == \" \"] = \"\"\n",
    "\n",
    "    mapping.to_csv(f\"{filename}.csv\", index=False)\n",
    "    # break"
   ]
  }
 ],
 "metadata": {
  "kernelspec": {
   "display_name": "Python 3",
   "language": "python",
   "name": "python3"
  },
  "language_info": {
   "codemirror_mode": {
    "name": "ipython",
    "version": 3
   },
   "file_extension": ".py",
   "mimetype": "text/x-python",
   "name": "python",
   "nbconvert_exporter": "python",
   "pygments_lexer": "ipython3",
   "version": "3.10.6"
  }
 },
 "nbformat": 4,
 "nbformat_minor": 2
}
