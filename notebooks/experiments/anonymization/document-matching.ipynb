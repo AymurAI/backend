{
 "cells": [
  {
   "cell_type": "code",
   "execution_count": null,
   "metadata": {},
   "outputs": [],
   "source": [
    "import srsly\n",
    "import pandas as pd\n",
    "from tqdm.auto import tqdm"
   ]
  },
  {
   "cell_type": "code",
   "execution_count": null,
   "metadata": {},
   "outputs": [],
   "source": [
    "public = pd.read_csv(\n",
    "    \"/workspace/resources/data/dump-20230630/set_de_datos_con_perspectiva_de_genero.csv\"\n",
    ")\n",
    "\n",
    "public.dropna(subset=[\"NRO_REGISTRO\", \"TOMO\", \"FECHA_RESOLUCION\"], inplace=True)\n",
    "public.rename(columns={c: c.lower() for c in public.columns}, inplace=True)\n",
    "\n",
    "public[\"tomo\"] = public[\"tomo\"].astype(int)\n",
    "\n",
    "\n",
    "def fix_date(text: str):\n",
    "    date = text.split(\"_\")\n",
    "    # print(date)\n",
    "    if len(date) != 3:\n",
    "        return\n",
    "\n",
    "    for i, num in enumerate(date):\n",
    "        num = int(num)\n",
    "        date[i] = f\"{num:02.0f}\"\n",
    "    try:\n",
    "        return pd.to_datetime(\"/\".join(date))\n",
    "    except:\n",
    "        return\n",
    "\n",
    "\n",
    "public[\"fecha_resolucion\"] = [\n",
    "    fix_date(date) for date in tqdm(public[\"fecha_resolucion\"])\n",
    "]\n",
    "\n",
    "public"
   ]
  },
  {
   "cell_type": "code",
   "execution_count": null,
   "metadata": {},
   "outputs": [],
   "source": [
    "public.info()"
   ]
  },
  {
   "cell_type": "code",
   "execution_count": null,
   "metadata": {},
   "outputs": [],
   "source": [
    "from aymurai.datasets.ar_juz_pcyf_10.annotations import (\n",
    "    ArgentinaJuzgadoPCyF10LabelStudioAnnotations,\n",
    ")\n",
    "\n",
    "annotations = ArgentinaJuzgadoPCyF10LabelStudioAnnotations(\n",
    "    \"/workspace/resources/annotations\"\n",
    ")"
   ]
  },
  {
   "cell_type": "code",
   "execution_count": null,
   "metadata": {},
   "outputs": [],
   "source": [
    "from aymurai.utils.misc import get_element\n",
    "\n",
    "\n",
    "def text_normalize(text: str):\n",
    "    text = text.replace(\"\\/\", \"/\")\n",
    "    return text\n",
    "\n",
    "\n",
    "metadata = pd.DataFrame(\n",
    "    [\n",
    "        x[\"metadata\"]\n",
    "        | x[\"data\"]\n",
    "        | {\n",
    "            \"original_path\": x[\"path\"],\n",
    "            \"conll\": get_element(x, levels=[\"annotations\", \"conll\"]),\n",
    "        }\n",
    "        for x in annotations.data\n",
    "    ]\n",
    ")\n",
    "metadata.dropna(subset=[\"tomo\"], inplace=True)\n",
    "metadata = metadata[metadata[\"tomo\"].str.isnumeric()]\n",
    "metadata[\"tomo\"] = metadata[\"tomo\"].astype(int)\n",
    "metadata[\"original_path\"] = metadata[\"original_path\"].apply(text_normalize)\n",
    "metadata[\"doc.text\"] = metadata[\"doc.text\"].apply(text_normalize)\n",
    "\n",
    "# metadata['tomo'] = metadata['tomo'].astype(int)\n",
    "metadata.drop_duplicates([\"tomo\", \"nro_registro\"], inplace=True)\n",
    "metadata"
   ]
  },
  {
   "cell_type": "code",
   "execution_count": null,
   "metadata": {},
   "outputs": [],
   "source": [
    "# Left join\n",
    "x = pd.merge(public, metadata, on=[\"nro_registro\", \"tomo\"], how=\"left\")\n",
    "x.drop_duplicates([\"tomo\", \"nro_registro\"], inplace=True)\n",
    "x.info()"
   ]
  },
  {
   "cell_type": "code",
   "execution_count": null,
   "metadata": {},
   "outputs": [],
   "source": [
    "x.sample(5)"
   ]
  },
  {
   "cell_type": "code",
   "execution_count": null,
   "metadata": {},
   "outputs": [],
   "source": [
    "x[\"link\"].notna().sum()"
   ]
  },
  {
   "cell_type": "code",
   "execution_count": null,
   "metadata": {},
   "outputs": [],
   "source": [
    "x.groupby(x[\"fecha_resolucion\"].dt.to_period(\"Y\"))[\"link\"].count()"
   ]
  },
  {
   "cell_type": "code",
   "execution_count": null,
   "metadata": {},
   "outputs": [],
   "source": [
    "x.dropna(subset=[\"original_path\"]).groupby(x[\"fecha_resolucion\"].dt.to_period(\"Y\"))[\n",
    "    \"original_path\"\n",
    "].count()"
   ]
  },
  {
   "cell_type": "code",
   "execution_count": null,
   "metadata": {},
   "outputs": [],
   "source": [
    "import os\n",
    "import gdown\n",
    "import subprocess\n",
    "from hashlib import blake2b\n",
    "from tqdm.auto import tqdm\n",
    "from joblib import Parallel, delayed\n",
    "\n",
    "tqdm.pandas()\n",
    "\n",
    "outdir = \"/resources/data/documents\"\n",
    "os.makedirs(outdir, exist_ok=True)\n",
    "\n",
    "\n",
    "def get_file(url: str):\n",
    "    if not isinstance(url, str):\n",
    "        return\n",
    "\n",
    "    fname = f\"{outdir}/{blake2b(url.encode(), digest_size=15).hexdigest()}\"\n",
    "\n",
    "    if os.path.exists(fname):\n",
    "        return fname\n",
    "\n",
    "    # # algunos archivos requieren acceso, otros estan corruptos\n",
    "    # cmd = f\"gdown --fuzzy -q --continue -O {fname} {url}\"\n",
    "    try:\n",
    "        pass\n",
    "        # fname = gdown.download(url, fname, quiet=False, fuanon_tfidfzzy=True, resume=True)\n",
    "        # output = subprocess.getoutput(cmd)\n",
    "    except:\n",
    "        return\n",
    "\n",
    "    # if \"Access denied\" in output:\n",
    "    # return\n",
    "\n",
    "    return fname\n",
    "\n",
    "\n",
    "parallel = Parallel(n_jobs=50, backend=\"threading\")\n",
    "get_file_ = delayed(get_file)\n",
    "path = parallel(get_file_(url) for url in tqdm(x[\"link\"]))"
   ]
  },
  {
   "cell_type": "code",
   "execution_count": null,
   "metadata": {},
   "outputs": [],
   "source": [
    "x[\"anonymized_path\"] = path"
   ]
  },
  {
   "cell_type": "code",
   "execution_count": null,
   "metadata": {},
   "outputs": [],
   "source": [
    "x.sample(5)"
   ]
  },
  {
   "cell_type": "code",
   "execution_count": null,
   "metadata": {},
   "outputs": [],
   "source": [
    "x[\"anonymized_path\"].notna().sum(), x[\"anonymized_path\"].isna().sum()"
   ]
  },
  {
   "cell_type": "code",
   "execution_count": null,
   "metadata": {},
   "outputs": [],
   "source": [
    "x.dropna(subset=[\"anonymized_path\"]).groupby(x[\"fecha_resolucion\"].dt.to_period(\"Y\"))[\n",
    "    \"anonymized_path\"\n",
    "].count()"
   ]
  },
  {
   "cell_type": "code",
   "execution_count": null,
   "metadata": {},
   "outputs": [],
   "source": [
    "x[\"original_path\"].notna().sum(), x[\"original_path\"].isna().sum()"
   ]
  },
  {
   "cell_type": "code",
   "execution_count": null,
   "metadata": {},
   "outputs": [],
   "source": [
    "x.dropna(subset=[\"original_path\"]).groupby(x[\"fecha_resolucion\"].dt.to_period(\"Y\"))[\n",
    "    \"original_path\"\n",
    "].count()"
   ]
  },
  {
   "cell_type": "code",
   "execution_count": null,
   "metadata": {},
   "outputs": [],
   "source": [
    "# 2021 - 2022, con versión anonimizada y sin versión original\n",
    "mask = (\n",
    "    (x[\"fecha_resolucion\"].dt.to_period(\"Y\") >= \"2021\")\n",
    "    & (x[\"fecha_resolucion\"].dt.to_period(\"Y\") <= \"2022\")\n",
    "    & (x[\"anonymized_path\"].notna())\n",
    "    & (x[\"original_path\"].isna())\n",
    ")\n",
    "x = x.loc[mask]\n",
    "x"
   ]
  },
  {
   "cell_type": "code",
   "execution_count": null,
   "metadata": {},
   "outputs": [],
   "source": [
    "x.groupby(x[\"fecha_resolucion\"].dt.to_period(\"Y\"))[\"anonymized_path\"].count()"
   ]
  },
  {
   "cell_type": "code",
   "execution_count": null,
   "metadata": {},
   "outputs": [],
   "source": [
    "import textract\n",
    "\n",
    "IA2_START_DATE = pd.to_datetime(\"01/01/2021\")\n",
    "\n",
    "\n",
    "def load_doc(path: str):\n",
    "    doc = textract.process(path, extension=\"odt\")\n",
    "    return doc.decode(\"utf-8\")\n",
    "\n",
    "\n",
    "def ia2(row):\n",
    "    path = row[\"anonymized_path\"]\n",
    "    date = row[\"fecha_resolucion\"]\n",
    "    if date < IA2_START_DATE:\n",
    "        return False\n",
    "    try:\n",
    "        doc = load_doc(path)\n",
    "    except Exception as e:\n",
    "        return False\n",
    "    return \"XX\" not in doc"
   ]
  },
  {
   "cell_type": "code",
   "execution_count": null,
   "metadata": {},
   "outputs": [],
   "source": [
    "x[\"ia2\"] = [ia2(row) for i, row in tqdm(x.iterrows())]"
   ]
  },
  {
   "cell_type": "code",
   "execution_count": null,
   "metadata": {},
   "outputs": [],
   "source": [
    "x.query(\"ia2\")[\"fecha_resolucion\"].describe(\n",
    "    percentiles=[0.01, 0.05, 0.25, 0.5, 0.75, 0.95, 0.99]\n",
    ")"
   ]
  },
  {
   "cell_type": "code",
   "execution_count": null,
   "metadata": {},
   "outputs": [],
   "source": [
    "# Filtro de resoluciones sin versión original pero con versión anonymizada\n",
    "mask &= (x[\"original_path\"].isna()) & (x[\"ia2\"])\n",
    "x = x.loc[mask]\n",
    "x.info()"
   ]
  },
  {
   "cell_type": "code",
   "execution_count": null,
   "metadata": {},
   "outputs": [],
   "source": [
    "x.loc[mask][\"fecha_resolucion\"].describe()"
   ]
  },
  {
   "cell_type": "code",
   "execution_count": null,
   "metadata": {},
   "outputs": [],
   "source": [
    "x[\"anonymized_path\"].count()"
   ]
  },
  {
   "cell_type": "code",
   "execution_count": null,
   "metadata": {},
   "outputs": [],
   "source": [
    "x.columns"
   ]
  },
  {
   "cell_type": "code",
   "execution_count": null,
   "metadata": {},
   "outputs": [],
   "source": [
    "x[\"anonymized_path\"].isna().sum()"
   ]
  },
  {
   "cell_type": "code",
   "execution_count": null,
   "metadata": {},
   "outputs": [],
   "source": [
    "x[\"anonymized_text\"] = x[\"anonymized_path\"].map(load_doc)"
   ]
  },
  {
   "cell_type": "code",
   "execution_count": null,
   "metadata": {},
   "outputs": [],
   "source": [
    "x[[\"anonymized_path\", \"anonymized_text\"]].sample()"
   ]
  },
  {
   "cell_type": "code",
   "execution_count": null,
   "metadata": {},
   "outputs": [],
   "source": [
    "x[\"anonymized_text\"].info()"
   ]
  },
  {
   "cell_type": "code",
   "execution_count": null,
   "metadata": {},
   "outputs": [],
   "source": [
    "from aymurai.text.normalize import document_normalize"
   ]
  },
  {
   "cell_type": "code",
   "execution_count": null,
   "metadata": {},
   "outputs": [],
   "source": [
    "x[\"anonymized_text\"] = x[\"anonymized_text\"].map(text_normalize).map(document_normalize)"
   ]
  },
  {
   "cell_type": "code",
   "execution_count": null,
   "metadata": {},
   "outputs": [],
   "source": [
    "from glob import glob\n",
    "\n",
    "originals = glob(\n",
    "    \"/resources/data/restricted/ar-juz-pcyf-10/RESOLUCIONES DEL JUZGADO/**/**.doc\",\n",
    "    recursive=True,\n",
    ") + glob(\n",
    "    \"/resources/data/restricted/ar-juz-pcyf-10/RESOLUCIONES DEL JUZGADO/**/**.docx\",\n",
    "    recursive=True,\n",
    ")\n",
    "\n",
    "len(originals)"
   ]
  },
  {
   "cell_type": "code",
   "execution_count": null,
   "metadata": {},
   "outputs": [],
   "source": [
    "originals[-5:]"
   ]
  },
  {
   "cell_type": "code",
   "execution_count": null,
   "metadata": {},
   "outputs": [],
   "source": [
    "original_paths = (\n",
    "    metadata[\"original_path\"]\n",
    "    .str.replace(\"/resources/\", \"/resources/data/\")\n",
    "    .str.replace(\"/RESOLUCIONES DEL JUZGADO - DOCS/\", \"/RESOLUCIONES DEL JUZGADO/\")\n",
    "    .unique()\n",
    ")"
   ]
  },
  {
   "cell_type": "code",
   "execution_count": null,
   "metadata": {},
   "outputs": [],
   "source": [
    "originals = [original for original in originals if original not in original_paths]\n",
    "len(originals)"
   ]
  },
  {
   "cell_type": "code",
   "execution_count": null,
   "metadata": {},
   "outputs": [],
   "source": [
    "def load_word_doc(path: str):\n",
    "    try:\n",
    "        doc = (\n",
    "            textract.process(path, extension=\"doc\")\n",
    "            if path.endswith(\".doc\")\n",
    "            else textract.process(path, extension=\"docx\")\n",
    "        )\n",
    "\n",
    "    except:\n",
    "        return\n",
    "\n",
    "    return doc.decode(\"utf-8\")"
   ]
  },
  {
   "cell_type": "code",
   "execution_count": null,
   "metadata": {},
   "outputs": [],
   "source": [
    "original_docs = list(map(load_word_doc, originals))"
   ]
  },
  {
   "cell_type": "code",
   "execution_count": null,
   "metadata": {},
   "outputs": [],
   "source": [
    "original_docs = [doc for doc in original_docs if doc]"
   ]
  },
  {
   "cell_type": "code",
   "execution_count": null,
   "metadata": {},
   "outputs": [],
   "source": [
    "original_docs[0]"
   ]
  },
  {
   "cell_type": "code",
   "execution_count": null,
   "metadata": {},
   "outputs": [],
   "source": [
    "original_docs = list(map(text_normalize, original_docs))\n",
    "original_docs = list(map(document_normalize, original_docs))"
   ]
  },
  {
   "cell_type": "code",
   "execution_count": null,
   "metadata": {},
   "outputs": [],
   "source": [
    "from sklearn.feature_extraction.text import TfidfVectorizer\n",
    "\n",
    "\n",
    "tfidf = TfidfVectorizer()\n",
    "anon_tfidf = tfidf.fit_transform(x[\"anonymized_text\"])\n",
    "anon_tfidf"
   ]
  },
  {
   "cell_type": "code",
   "execution_count": null,
   "metadata": {},
   "outputs": [],
   "source": [
    "orig_tfidf = tfidf.transform(original_docs)\n",
    "orig_tfidf"
   ]
  },
  {
   "cell_type": "code",
   "execution_count": null,
   "metadata": {},
   "outputs": [],
   "source": [
    "from sklearn.metrics.pairwise import cosine_similarity"
   ]
  },
  {
   "cell_type": "code",
   "execution_count": null,
   "metadata": {},
   "outputs": [],
   "source": [
    "cosine_similarities = cosine_similarity(anon_tfidf, orig_tfidf)\n",
    "cosine_similarities.shape"
   ]
  },
  {
   "cell_type": "code",
   "execution_count": null,
   "metadata": {},
   "outputs": [],
   "source": [
    "import numpy as np"
   ]
  },
  {
   "cell_type": "code",
   "execution_count": null,
   "metadata": {},
   "outputs": [],
   "source": [
    "np.argmax(cosine_similarities, axis=1)"
   ]
  },
  {
   "cell_type": "code",
   "execution_count": null,
   "metadata": {},
   "outputs": [],
   "source": [
    "x[\"anonymized_text\"].iloc[0]"
   ]
  },
  {
   "cell_type": "code",
   "execution_count": null,
   "metadata": {},
   "outputs": [],
   "source": [
    "original_docs[1674]"
   ]
  }
 ],
 "metadata": {
  "kernelspec": {
   "display_name": "Python 3",
   "language": "python",
   "name": "python3"
  },
  "language_info": {
   "codemirror_mode": {
    "name": "ipython",
    "version": 3
   },
   "file_extension": ".py",
   "mimetype": "text/x-python",
   "name": "python",
   "nbconvert_exporter": "python",
   "pygments_lexer": "ipython3",
   "version": "3.10.6"
  }
 },
 "nbformat": 4,
 "nbformat_minor": 2
}
