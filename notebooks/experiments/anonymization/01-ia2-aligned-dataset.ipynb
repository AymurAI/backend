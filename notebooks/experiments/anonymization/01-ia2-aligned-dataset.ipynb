{
 "cells": [
  {
   "cell_type": "code",
   "execution_count": null,
   "metadata": {},
   "outputs": [],
   "source": [
    "%load_ext autoreload\n",
    "%autoreload 2"
   ]
  },
  {
   "cell_type": "code",
   "execution_count": null,
   "metadata": {},
   "outputs": [],
   "source": [
    "import srsly\n",
    "import pandas as pd\n",
    "from tqdm.auto import tqdm"
   ]
  },
  {
   "cell_type": "code",
   "execution_count": null,
   "metadata": {},
   "outputs": [],
   "source": [
    "IA2_LABELS = pd.read_csv(\n",
    "    \"/resources/data/restricted/anonymization/ia2_labels_manual.csv\"\n",
    ")\n",
    "IA2_LABELS_MAPPING = {x[\"label\"]: x[\"mapping\"] for _, x in IA2_LABELS.iterrows()}\n",
    "data = pd.read_csv(\"/resources/data/restricted/anonymization/matching.csv\")\n",
    "data"
   ]
  },
  {
   "cell_type": "code",
   "execution_count": null,
   "metadata": {},
   "outputs": [],
   "source": [
    "IA2_LABELS"
   ]
  },
  {
   "cell_type": "code",
   "execution_count": null,
   "metadata": {},
   "outputs": [],
   "source": [
    "import re\n",
    "import os\n",
    "import functools\n",
    "from collections import Counter\n",
    "\n",
    "from aymurai.utils import alignment\n",
    "from aymurai.text.extraction import extract_document\n",
    "\n",
    "OUTPUT_DIR = \"/resources/data/restricted/anonymization\"\n",
    "\n",
    "full_data = pd.DataFrame()\n",
    "for i, row in tqdm(data.iterrows(), total=len(data)):\n",
    "    mapping = pd.read_csv(row[\"alignment_path\"])\n",
    "    original = extract_document(row[\"matching_path\"])\n",
    "\n",
    "    mapping = alignment.core.add_empty_lines_between_paragraphs(original, mapping)  #\n",
    "\n",
    "    diff = mapping[\"original\"] != mapping[\"anonymized\"]\n",
    "    diff_text = \"\".join(mapping.loc[diff, \"anonymized\"].fillna(\"\"))\n",
    "    labels = set(re.findall(r\"<\\w+>\", diff_text))\n",
    "    labels = [alignment.ia2.normalize(label) for label in labels]\n",
    "\n",
    "    _norm_ia2_label = functools.partial(alignment.ia2.norm_ia2_label, labels=labels)\n",
    "\n",
    "    mask = mapping[\"original\"] != mapping[\"anonymized\"]\n",
    "    mapping.loc[mask, \"label\"] = mapping.loc[mask, \"anonymized\"]\n",
    "    mapping[\"label\"] = mapping[\"label\"].apply(_norm_ia2_label)\n",
    "    mapping[\"label\"] = mapping[\"label\"].apply(lambda x: IA2_LABELS_MAPPING.get(x))\n",
    "    mapping[\"label\"] = alignment.ia2.label_to_conll_format(mapping[\"label\"])\n",
    "    mapping[\"label\"] = mapping[\"label\"].fillna(\"O\")\n",
    "\n",
    "    # patch blank lines in labels\n",
    "    mask = mapping[\"original\"] == \"\"\n",
    "    mapping.loc[mask] = \"\"\n",
    "\n",
    "    # export mapping\n",
    "    filename = f\"{OUTPUT_DIR}/annotation/{row['tomo']}_{row['nro_registro']}.csv\"\n",
    "    os.makedirs(os.path.dirname(filename), exist_ok=True)\n",
    "    data.loc[i, \"annotation_path\"] = filename\n",
    "    mapping.to_csv(filename, index=False)\n",
    "\n",
    "    mapping.loc[:, row.index] = row.values\n",
    "    full_data = pd.concat([full_data, mapping], ignore_index=True)"
   ]
  },
  {
   "cell_type": "code",
   "execution_count": null,
   "metadata": {},
   "outputs": [],
   "source": [
    "from aymurai.utils.display.pandas import pandas_context\n",
    "from aymurai.text.extraction import extract_document\n",
    "from rich.pretty import pprint\n",
    "import functools\n",
    "import re\n",
    "\n",
    "options = {\n",
    "    \"display.max_rows\": 500,\n",
    "    \"display.max_columns\": 500,\n",
    "    \"display.width\": 0,\n",
    "    \"display.max_rows\": None,\n",
    "}\n",
    "\n",
    "idx = 0\n",
    "\n",
    "example = data.sample(1).to_dict(\"records\")[0]\n",
    "# example = data.iloc[idx].to_dict()\n",
    "# example = row.to_dict()\n",
    "mapping = pd.read_csv(example[\"annotation_path\"])\n",
    "mapping.fillna(\"\", inplace=True)\n",
    "pprint(example)\n",
    "\n",
    "\n",
    "with pandas_context(**options):\n",
    "    display(mapping)"
   ]
  },
  {
   "cell_type": "code",
   "execution_count": null,
   "metadata": {},
   "outputs": [],
   "source": [
    "from datasets import Dataset, DatasetDict\n",
    "\n",
    "full_data_ = full_data.copy()\n",
    "\n",
    "available_labels = set(full_data_[\"label\"])\n",
    "available_labels.remove(\"O\")\n",
    "available_labels.remove(\"\")\n",
    "categories = [\"O\"] + list(sorted(available_labels, key=lambda x: (x[2:], x[0])))\n",
    "\n",
    "\n",
    "full_data_[\"label\"] = pd.Categorical(full_data_[\"label\"], categories)\n",
    "full_data_[\"label_codes\"] = full_data_[\"label\"].cat.codes"
   ]
  },
  {
   "cell_type": "code",
   "execution_count": null,
   "metadata": {},
   "outputs": [],
   "source": [
    "full_data"
   ]
  },
  {
   "cell_type": "markdown",
   "metadata": {},
   "source": [
    "---"
   ]
  },
  {
   "cell_type": "code",
   "execution_count": null,
   "metadata": {},
   "outputs": [],
   "source": [
    "annots_dir = os.path.join(OUTPUT_DIR, \"annotation\")\n",
    "annots = [os.path.join(annots_dir, file) for file in os.listdir(annots_dir)]\n",
    "annots[:5]"
   ]
  },
  {
   "cell_type": "code",
   "execution_count": null,
   "metadata": {},
   "outputs": [],
   "source": [
    "to_review = []\n",
    "\n",
    "for annot in annots:\n",
    "    csv = pd.read_csv(annot)\n",
    "    csv[\"slashes\"] = (\n",
    "        csv[\"anonymized\"]\n",
    "        .dropna()\n",
    "        .map(lambda x: True if re.match(r\"(?:\\w+(?!>)/\\w+/)+\", x) else False)\n",
    "    )\n",
    "    if (\n",
    "        len(\n",
    "            csv.loc[\n",
    "                (csv[\"slashes\"] == True)\n",
    "                & (csv[\"original\"] != csv[\"anonymized\"])\n",
    "                & (csv[\"label\"] == \"O\")\n",
    "            ]\n",
    "        )\n",
    "        > 0\n",
    "    ):\n",
    "        to_review.append(annot)"
   ]
  },
  {
   "cell_type": "code",
   "execution_count": null,
   "metadata": {},
   "outputs": [],
   "source": [
    "len(to_review)"
   ]
  },
  {
   "cell_type": "code",
   "execution_count": null,
   "metadata": {},
   "outputs": [],
   "source": [
    "sorted(to_review)  # Hay que removerlos"
   ]
  }
 ],
 "metadata": {
  "kernelspec": {
   "display_name": "Python 3",
   "language": "python",
   "name": "python3"
  },
  "language_info": {
   "codemirror_mode": {
    "name": "ipython",
    "version": 3
   },
   "file_extension": ".py",
   "mimetype": "text/x-python",
   "name": "python",
   "nbconvert_exporter": "python",
   "pygments_lexer": "ipython3",
   "version": "3.10.6"
  }
 },
 "nbformat": 4,
 "nbformat_minor": 2
}
