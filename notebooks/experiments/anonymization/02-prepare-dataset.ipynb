{
 "cells": [
  {
   "cell_type": "code",
   "execution_count": null,
   "metadata": {},
   "outputs": [],
   "source": [
    "%load_ext autoreload\n",
    "%autoreload 2"
   ]
  },
  {
   "cell_type": "code",
   "execution_count": null,
   "metadata": {},
   "outputs": [],
   "source": [
    "import os\n",
    "import srsly\n",
    "import pandas as pd\n",
    "\n",
    "from glob import glob\n",
    "from tqdm.auto import tqdm"
   ]
  },
  {
   "cell_type": "code",
   "execution_count": null,
   "metadata": {},
   "outputs": [],
   "source": [
    "public = pd.read_csv(\n",
    "    \"/workspace/resources/data/dump-20230630/set_de_datos_con_perspectiva_de_genero.csv\"\n",
    ")\n",
    "\n",
    "public.dropna(subset=[\"NRO_REGISTRO\", \"TOMO\", \"FECHA_RESOLUCION\"], inplace=True)\n",
    "public.rename(columns={c: c.lower() for c in public.columns}, inplace=True)\n",
    "\n",
    "public[\"tomo\"] = public[\"tomo\"].astype(int)\n",
    "\n",
    "\n",
    "def fix_date(text: str):\n",
    "    date = text.split(\"_\")\n",
    "    # print(date)\n",
    "    if len(date) != 3:\n",
    "        return\n",
    "\n",
    "    for i, num in enumerate(date):\n",
    "        num = int(num)\n",
    "        date[i] = f\"{num:02.0f}\"\n",
    "    try:\n",
    "        return pd.to_datetime(\"/\".join(date))\n",
    "    except:\n",
    "        return\n",
    "\n",
    "\n",
    "public[\"fecha_resolucion\"] = [\n",
    "    fix_date(date) for date in tqdm(public[\"fecha_resolucion\"])\n",
    "]\n",
    "\n",
    "public"
   ]
  },
  {
   "cell_type": "code",
   "execution_count": null,
   "metadata": {},
   "outputs": [],
   "source": [
    "from aymurai.datasets.ar_juz_pcyf_10.annotations import (\n",
    "    ArgentinaJuzgadoPCyF10LabelStudioAnnotations,\n",
    ")\n",
    "\n",
    "annotations = ArgentinaJuzgadoPCyF10LabelStudioAnnotations(\n",
    "    \"/workspace/resources/annotations\"\n",
    ")"
   ]
  },
  {
   "cell_type": "code",
   "execution_count": null,
   "metadata": {},
   "outputs": [],
   "source": [
    "from aymurai.utils.misc import get_element\n",
    "\n",
    "\n",
    "def text_normalize(text: str):\n",
    "    text = text.replace(\"\\/\", \"/\")\n",
    "    return text\n",
    "\n",
    "\n",
    "metadata = pd.DataFrame(\n",
    "    [\n",
    "        x[\"metadata\"]\n",
    "        | x[\"data\"]\n",
    "        | {\n",
    "            \"original_path\": x[\"path\"],\n",
    "            # \"conll\": get_element(x, levels=[\"annotations\", \"conll\"]),\n",
    "        }\n",
    "        for x in annotations.data\n",
    "    ]\n",
    ")\n",
    "metadata.dropna(subset=[\"tomo\"], inplace=True)\n",
    "metadata = metadata[metadata[\"tomo\"].str.isnumeric()]\n",
    "metadata[\"tomo\"] = metadata[\"tomo\"].astype(int)\n",
    "metadata[\"original_path\"] = metadata[\"original_path\"].apply(text_normalize)\n",
    "metadata[\"doc.text\"] = metadata[\"doc.text\"].apply(text_normalize)\n",
    "\n",
    "# metadata['tomo'] = metadata['tomo'].astype(int)\n",
    "metadata.drop_duplicates([\"tomo\", \"nro_registro\"], inplace=True)\n",
    "metadata"
   ]
  },
  {
   "cell_type": "code",
   "execution_count": null,
   "metadata": {},
   "outputs": [],
   "source": [
    "# Inner join\n",
    "x = pd.merge(public, metadata, on=[\"nro_registro\", \"tomo\"], how=\"inner\")\n",
    "x.drop_duplicates([\"tomo\", \"nro_registro\"], inplace=True)\n",
    "x.info()"
   ]
  },
  {
   "cell_type": "code",
   "execution_count": null,
   "metadata": {},
   "outputs": [],
   "source": [
    "import os\n",
    "import gdown\n",
    "import subprocess\n",
    "from hashlib import blake2b\n",
    "from tqdm.auto import tqdm\n",
    "from joblib import Parallel, delayed\n",
    "\n",
    "tqdm.pandas()\n",
    "\n",
    "outdir = \"/resources/data/documents\"\n",
    "os.makedirs(outdir, exist_ok=True)\n",
    "\n",
    "\n",
    "def get_file(url: str):\n",
    "    if not isinstance(url, str):\n",
    "        return\n",
    "\n",
    "    fname = f\"{outdir}/{blake2b(url.encode(), digest_size=15).hexdigest()}\"\n",
    "\n",
    "    if os.path.exists(fname):\n",
    "        return fname\n",
    "\n",
    "    # # algunos archivos requieren acceso, otros estan corruptos\n",
    "    # cmd = f\"gdown --fuzzy -q --continue -O {fname} {url}\"\n",
    "    try:\n",
    "        pass\n",
    "        # fname = gdown.download(url, fname, quiet=False, fuanon_tfidfzzy=True, resume=True)\n",
    "        # output = subprocess.getoutput(cmd)\n",
    "    except:\n",
    "        return\n",
    "\n",
    "    # if \"Access denied\" in output:\n",
    "    # return\n",
    "\n",
    "    return fname\n",
    "\n",
    "\n",
    "parallel = Parallel(n_jobs=50, backend=\"threading\")\n",
    "get_file_ = delayed(get_file)\n",
    "path = parallel(get_file_(url) for url in tqdm(x[\"link\"]))"
   ]
  },
  {
   "cell_type": "code",
   "execution_count": null,
   "metadata": {},
   "outputs": [],
   "source": [
    "x[\"anonymized_path\"] = path"
   ]
  },
  {
   "cell_type": "code",
   "execution_count": null,
   "metadata": {},
   "outputs": [],
   "source": [
    "x.sample(5)"
   ]
  },
  {
   "cell_type": "code",
   "execution_count": null,
   "metadata": {},
   "outputs": [],
   "source": [
    "x.info()"
   ]
  },
  {
   "cell_type": "code",
   "execution_count": null,
   "metadata": {},
   "outputs": [],
   "source": [
    "# 2021 - 2022, con versión anonimizada\n",
    "mask = (\n",
    "    (x[\"fecha_resolucion\"].dt.to_period(\"Y\") >= \"2021\")\n",
    "    & (x[\"fecha_resolucion\"].dt.to_period(\"Y\") <= \"2022\")\n",
    "    & (x[\"anonymized_path\"].notna())\n",
    ")\n",
    "x = x.loc[mask]\n",
    "x"
   ]
  },
  {
   "cell_type": "code",
   "execution_count": null,
   "metadata": {},
   "outputs": [],
   "source": [
    "x.groupby(x[\"fecha_resolucion\"].dt.to_period(\"Y\"))[\"anonymized_path\"].count()"
   ]
  },
  {
   "cell_type": "code",
   "execution_count": null,
   "metadata": {},
   "outputs": [],
   "source": [
    "import textract\n",
    "\n",
    "IA2_START_DATE = pd.to_datetime(\"01/01/2021\")\n",
    "\n",
    "\n",
    "def load_doc(path: str):\n",
    "    doc = textract.process(path, extension=\"odt\")\n",
    "    return doc.decode(\"utf-8\")\n",
    "\n",
    "\n",
    "def ia2(row):\n",
    "    path = row[\"anonymized_path\"]\n",
    "    date = row[\"fecha_resolucion\"]\n",
    "    if date < IA2_START_DATE:\n",
    "        return False\n",
    "    try:\n",
    "        doc = load_doc(path)\n",
    "    except Exception as e:\n",
    "        return False\n",
    "    return \"XX\" not in doc"
   ]
  },
  {
   "cell_type": "code",
   "execution_count": null,
   "metadata": {},
   "outputs": [],
   "source": [
    "x[\"ia2\"] = [ia2(row) for i, row in tqdm(x.iterrows())]"
   ]
  },
  {
   "cell_type": "code",
   "execution_count": null,
   "metadata": {},
   "outputs": [],
   "source": [
    "x.query(\"ia2\")[\"fecha_resolucion\"].describe(\n",
    "    percentiles=[0.01, 0.05, 0.25, 0.5, 0.75, 0.95, 0.99]\n",
    ")"
   ]
  },
  {
   "cell_type": "code",
   "execution_count": null,
   "metadata": {},
   "outputs": [],
   "source": [
    "# Filtro de resoluciones con etiquetas de ia2\n",
    "mask &= x[\"ia2\"]\n",
    "x = x.loc[mask]\n",
    "x.info()"
   ]
  },
  {
   "cell_type": "code",
   "execution_count": null,
   "metadata": {},
   "outputs": [],
   "source": [
    "x[\"original_path\"] = (\n",
    "    x[\"original_path\"]\n",
    "    .str.replace(\"/resources/\", \"/resources/data/\")\n",
    "    .str.replace(\"/RESOLUCIONES DEL JUZGADO - DOCS/\", \"/RESOLUCIONES DEL JUZGADO/\")\n",
    ")"
   ]
  },
  {
   "cell_type": "code",
   "execution_count": null,
   "metadata": {},
   "outputs": [],
   "source": [
    "import os\n",
    "import re\n",
    "from aymurai.utils import alignment\n",
    "from collections import Counter\n",
    "\n",
    "\n",
    "OUTPUT_DIR = \"/resources/data/restricted/anonymization\"\n",
    "os.makedirs(OUTPUT_DIR, exist_ok=True)\n",
    "\n",
    "labels = Counter()\n",
    "\n",
    "x.reset_index(drop=True, inplace=True)\n",
    "\n",
    "for i, row in tqdm(x.iterrows(), total=len(x)):\n",
    "    original_path = row[\"original_path\"]\n",
    "    anonymized_path = row[\"anonymized_path\"]\n",
    "\n",
    "    mapping = alignment.align_docs(\n",
    "        original_path,\n",
    "        anonymized_path,\n",
    "        columns=(\"original\", \"anonymized\"),\n",
    "        target_preprocess=alignment.ia2.ia2_text_preprocess,\n",
    "    )\n",
    "\n",
    "    # alignment_score\n",
    "    diff = mapping[\"original\"] != mapping[\"anonymized\"]\n",
    "    alignment_score = (~diff).mean()\n",
    "    x.loc[i, \"alignment_score\"] = alignment_score\n",
    "\n",
    "    # export alignment\n",
    "    filename = f\"{OUTPUT_DIR}/alignment/{row['tomo']}_{row['nro_registro']}.csv\"\n",
    "    os.makedirs(os.path.dirname(filename), exist_ok=True)\n",
    "    x.loc[i, \"alignment_path\"] = filename\n",
    "    mapping.to_csv(filename, index=False)\n",
    "\n",
    "    diff_text = \"\".join(mapping.loc[diff, \"anonymized\"])\n",
    "    labels_ = re.findall(r\"<\\w+>\", diff_text)\n",
    "    labels_ = [alignment.ia2.normalize(label) for label in labels_]\n",
    "    labels += Counter(labels_)"
   ]
  },
  {
   "cell_type": "code",
   "execution_count": null,
   "metadata": {},
   "outputs": [],
   "source": [
    "columns = [\n",
    "    \"nro_registro\",\n",
    "    \"tomo\",\n",
    "    \"fecha_resolucion\",\n",
    "    \"n_expte_eje\",\n",
    "    \"original_path\",\n",
    "    \"anonymized_path\",\n",
    "    \"doc.text\",\n",
    "    \"alignment_path\",\n",
    "    \"alignment_score\",\n",
    "]\n",
    "\n",
    "x[columns].head()"
   ]
  },
  {
   "cell_type": "code",
   "execution_count": null,
   "metadata": {},
   "outputs": [],
   "source": [
    "x[columns].sort_values(\"alignment_score\", ascending=False)"
   ]
  },
  {
   "cell_type": "code",
   "execution_count": null,
   "metadata": {},
   "outputs": [],
   "source": [
    "x[\"alignment_score\"].describe(percentiles=[0.01, 0.05, 0.25, 0.5, 0.75, 0.95, 0.99])"
   ]
  },
  {
   "cell_type": "code",
   "execution_count": null,
   "metadata": {},
   "outputs": [],
   "source": [
    "x.query(\"alignment_score < 0.7\")[\"alignment_path\"].values"
   ]
  },
  {
   "cell_type": "code",
   "execution_count": null,
   "metadata": {},
   "outputs": [],
   "source": [
    "import re\n",
    "import os\n",
    "import functools\n",
    "from collections import Counter\n",
    "\n",
    "from aymurai.utils import alignment\n",
    "from aymurai.text.extraction import extract_document\n",
    "\n",
    "\n",
    "IA2_LABELS = pd.read_csv(\n",
    "    \"/resources/data/restricted/anonymization/ia2_labels_manual.csv\"\n",
    ")\n",
    "IA2_LABELS_MAPPING = {x[\"label\"]: x[\"mapping\"] for _, x in IA2_LABELS.iterrows()}\n",
    "\n",
    "for i, row in tqdm(x.iterrows(), total=len(x)):\n",
    "    mapping = pd.read_csv(row[\"alignment_path\"])\n",
    "    original = extract_document(row[\"original_path\"])\n",
    "\n",
    "    mapping = alignment.core.add_empty_lines_between_paragraphs(original, mapping)\n",
    "\n",
    "    diff = mapping[\"original\"] != mapping[\"anonymized\"]\n",
    "    diff_text = \"\".join(mapping.loc[diff, \"anonymized\"].fillna(\"\"))\n",
    "    labels = set(re.findall(r\"<\\w+>\", diff_text))\n",
    "    labels = [alignment.ia2.normalize(label) for label in labels]\n",
    "\n",
    "    _norm_ia2_label = functools.partial(alignment.ia2.norm_ia2_label, labels=labels)\n",
    "\n",
    "    mask = mapping[\"original\"] != mapping[\"anonymized\"]\n",
    "    mapping.loc[mask, \"label\"] = mapping.loc[mask, \"anonymized\"]\n",
    "    mapping[\"label\"] = mapping[\"label\"].apply(_norm_ia2_label)\n",
    "    mapping[\"label\"] = mapping[\"label\"].apply(lambda x: IA2_LABELS_MAPPING.get(x.strip()) if isinstance(x, str) else None)\n",
    "    mapping[\"label\"] = alignment.ia2.label_to_conll_format(mapping[\"label\"])\n",
    "    mapping[\"label\"] = mapping[\"label\"].fillna(\"O\")\n",
    "\n",
    "    if len(mapping.loc[mapping[\"label\"].str.contains(\"NUM_DOMINIO\")]) > 1:\n",
    "        display(mapping.loc[mapping[\"label\"].str.contains(\"NUM_DOMINIO\")])\n",
    "\n",
    "    # patch blank lines in labels\n",
    "    mask = mapping[\"original\"] == \"\"\n",
    "    mapping.loc[mask] = \"\"\n",
    "\n",
    "    # export mapping\n",
    "    filename = f\"{OUTPUT_DIR}/annotation/{row['tomo']}_{row['nro_registro']}.csv\"\n",
    "    os.makedirs(os.path.dirname(filename), exist_ok=True)\n",
    "    x.loc[i, \"annotation_path\"] = filename\n",
    "    mapping.to_csv(filename, index=False)\n",
    "\n",
    "    mapping.loc[:, row.index] = row.values"
   ]
  },
  {
   "cell_type": "code",
   "execution_count": null,
   "metadata": {},
   "outputs": [],
   "source": [
    "ANNOT_DIR = \"/resources/data/restricted/anonymization/annotation/\"\n",
    "\n",
    "TO_REMOVE = [\n",
    "    \"38_3531.csv\",\n",
    "    \"42_3831.csv\",\n",
    "    \"36_3404.0.csv\",\n",
    "    \"36_3406.0.csv\",\n",
    "    \"36_3416.0.csv\",\n",
    "    \"37_3449.0.csv\",\n",
    "    \"38_3519.0.csv\",\n",
    "    \"40_3724.0.csv\",\n",
    "    \"41_3772.0.csv\",\n",
    "    \"41_3793.0.csv\",\n",
    "    \"41_3800.0.csv\",\n",
    "    \"42_3821.1.csv\",\n",
    "    \"43_3918.0.csv\",\n",
    "    \"44_4044.0.csv\",\n",
    "    \"44_4049.0.csv\",\n",
    "    \"47_4234.0.csv\",\n",
    "    \"47_4235.0.csv\",\n",
    "    \"47_4319.0.csv\",\n",
    "    \"50_4594.0.csv\",\n",
    "    \"40_3721.csv\",  # el problema es la nota al pie de página \n",
    "    \"39_3613.csv\",  # el problema es la nota al pie de página \n",
    "    \"40_3674.csv\",  # el problema es la nota al pie de página \n",
    "    \"35_3328.csv\"  # el problema es la nota al pie de página \n",
    "]"
   ]
  },
  {
   "cell_type": "code",
   "execution_count": null,
   "metadata": {},
   "outputs": [],
   "source": [
    "data = [csv for csv in os.listdir(ANNOT_DIR) if csv not in TO_REMOVE]\n",
    "len(data)"
   ]
  },
  {
   "cell_type": "code",
   "execution_count": null,
   "metadata": {},
   "outputs": [],
   "source": [
    "sorted(data)"
   ]
  },
  {
   "cell_type": "code",
   "execution_count": null,
   "metadata": {},
   "outputs": [],
   "source": [
    "from aymurai.utils.display.pandas import pandas_context\n",
    "from rich.pretty import pprint\n",
    "import functools\n",
    "import random\n",
    "import re\n",
    "\n",
    "\n",
    "options = {\n",
    "    \"display.max_rows\": 500,\n",
    "    \"display.max_columns\": 500,\n",
    "    \"display.width\": 0,\n",
    "    \"display.max_rows\": None,\n",
    "}\n",
    "\n",
    "example = random.choice(data)\n",
    "mapping = pd.read_csv(os.path.join(ANNOT_DIR, example))\n",
    "mapping.fillna(\"\", inplace=True)\n",
    "pprint(example)\n",
    "\n",
    "# with pandas_context(**options):\n",
    "# display(mapping.head())"
   ]
  },
  {
   "cell_type": "code",
   "execution_count": null,
   "metadata": {},
   "outputs": [],
   "source": [
    "mask = (\n",
    "    mapping[\"anonymized\"].map(\n",
    "        lambda x: True if re.match(r\"(?:<\\w+>\\|<?\\w+>?\\|)+\", x) else False\n",
    "    )\n",
    ") & (mapping[\"label\"] == \"O\")\n",
    "\n",
    "\n",
    "mapping.loc[mask]"
   ]
  },
  {
   "cell_type": "code",
   "execution_count": null,
   "metadata": {},
   "outputs": [],
   "source": [
    "full_data = pd.concat(\n",
    "    [\n",
    "        pd.concat(\n",
    "            [\n",
    "                pd.read_csv(os.path.join(ANNOT_DIR, csv)),\n",
    "                pd.Series(\n",
    "                    [csv] * len(pd.read_csv(os.path.join(ANNOT_DIR, csv))),\n",
    "                    name=\"filename\",\n",
    "                ),\n",
    "            ],\n",
    "            axis=1,\n",
    "        )\n",
    "        for csv in data\n",
    "    ],\n",
    "    ignore_index=True,\n",
    ")\n",
    "full_data"
   ]
  },
  {
   "cell_type": "code",
   "execution_count": null,
   "metadata": {},
   "outputs": [],
   "source": [
    "full_data_nan = full_data.dropna().copy()\n",
    "full_data_nan.info()"
   ]
  },
  {
   "cell_type": "code",
   "execution_count": null,
   "metadata": {},
   "outputs": [],
   "source": [
    "mask = (\n",
    "    full_data_nan[\"anonymized\"].map(\n",
    "        lambda x: True if re.match(r\"(?:<\\w+>\\|<?\\w+>?\\|)+\", x) else False\n",
    "    )\n",
    ") & (full_data_nan[\"label\"] == \"O\")\n",
    "\n",
    "# with pandas_context(**options):\n",
    "#     display(full_data.loc[mask])"
   ]
  },
  {
   "cell_type": "code",
   "execution_count": null,
   "metadata": {},
   "outputs": [],
   "source": [
    "len(full_data_nan.loc[mask]) / len(full_data_nan) * 100"
   ]
  },
  {
   "cell_type": "code",
   "execution_count": null,
   "metadata": {},
   "outputs": [],
   "source": [
    "full_data_nan.loc[mask, \"label\"] = None"
   ]
  },
  {
   "cell_type": "code",
   "execution_count": null,
   "metadata": {},
   "outputs": [],
   "source": [
    "full_data_nan[\"label\"].isna().sum()"
   ]
  },
  {
   "cell_type": "code",
   "execution_count": null,
   "metadata": {},
   "outputs": [],
   "source": [
    "full_data.loc[full_data_nan.loc[mask].index, \"label\"] = None\n",
    "full_data.info()"
   ]
  },
  {
   "cell_type": "code",
   "execution_count": null,
   "metadata": {},
   "outputs": [],
   "source": [
    "full_data[\"label\"].value_counts()"
   ]
  },
  {
   "cell_type": "code",
   "execution_count": null,
   "metadata": {},
   "outputs": [],
   "source": [
    "full_data[\"label\"].dropna().map(lambda x: re.sub(r\"^[BI]-\", \"\", x)).value_counts()"
   ]
  },
  {
   "cell_type": "code",
   "execution_count": null,
   "metadata": {},
   "outputs": [],
   "source": [
    "full_data.dropna().loc[full_data.dropna()[\"label\"].str.contains(\"NUM_DOMINIO\")]"
   ]
  },
  {
   "cell_type": "code",
   "execution_count": null,
   "metadata": {},
   "outputs": [],
   "source": [
    "nums = (\n",
    "    full_data.dropna()\n",
    "    .loc[full_data[\"label\"].dropna().str.contains(\"NUM_$\"), \"anonymized\"]\n",
    "    .unique()\n",
    ")\n",
    "nums"
   ]
  },
  {
   "cell_type": "code",
   "execution_count": null,
   "metadata": {},
   "outputs": [],
   "source": [
    "mask_num = full_data.dropna()[\"label\"].str.contains(\"NUM_$\")"
   ]
  },
  {
   "cell_type": "code",
   "execution_count": null,
   "metadata": {},
   "outputs": [],
   "source": [
    "mask_expte = mask_num & (\n",
    "    full_data.dropna()[\"anonymized\"].str.contains(\n",
    "        r\"EXPEDIENTE|CAUSA\", regex=True\n",
    "    )\n",
    ")"
   ]
  },
  {
   "cell_type": "code",
   "execution_count": null,
   "metadata": {},
   "outputs": [],
   "source": [
    "full_data.dropna().loc[mask_expte]"
   ]
  },
  {
   "cell_type": "code",
   "execution_count": null,
   "metadata": {},
   "outputs": [],
   "source": [
    "expte_idx = full_data.dropna().loc[mask_expte].index\n",
    "full_data.loc[expte_idx, \"label\"] = full_data.loc[expte_idx, \"label\"].str.replace(\n",
    "    \"NUM_\", \"NUM_EXPEDIENTE\"\n",
    ")"
   ]
  },
  {
   "cell_type": "code",
   "execution_count": null,
   "metadata": {},
   "outputs": [],
   "source": [
    "mask_dni = mask_num & (full_data.dropna()[\"anonymized\"].str.contains(\"DNI\"))"
   ]
  },
  {
   "cell_type": "code",
   "execution_count": null,
   "metadata": {},
   "outputs": [],
   "source": [
    "full_data.dropna().loc[mask_dni]"
   ]
  },
  {
   "cell_type": "code",
   "execution_count": null,
   "metadata": {},
   "outputs": [],
   "source": [
    "dni_idx = full_data.dropna().loc[mask_dni].index\n",
    "full_data.loc[dni_idx, \"label\"] = full_data.loc[dni_idx, \"label\"].str.replace(\n",
    "    \"NUM_\", \"DNI\"\n",
    ")"
   ]
  },
  {
   "cell_type": "code",
   "execution_count": null,
   "metadata": {},
   "outputs": [],
   "source": [
    "mask_cuij = mask_num & (full_data.dropna()[\"anonymized\"].str.contains(\"CUIJ\"))"
   ]
  },
  {
   "cell_type": "code",
   "execution_count": null,
   "metadata": {},
   "outputs": [],
   "source": [
    "full_data.dropna().loc[mask_cuij]"
   ]
  },
  {
   "cell_type": "code",
   "execution_count": null,
   "metadata": {},
   "outputs": [],
   "source": [
    "cuij_idx = full_data.dropna().loc[mask_cuij].index\n",
    "full_data.loc[cuij_idx, \"label\"] = full_data.loc[cuij_idx, \"label\"].str.replace(\n",
    "    \"NUM_\", \"CUIJ\"\n",
    ")"
   ]
  },
  {
   "cell_type": "code",
   "execution_count": null,
   "metadata": {},
   "outputs": [],
   "source": [
    "mask_num_ = mask_num & (full_data.dropna()[\"label\"].str.endswith(\"NUM_\"))"
   ]
  },
  {
   "cell_type": "code",
   "execution_count": null,
   "metadata": {},
   "outputs": [],
   "source": [
    "num_idx = full_data.dropna().loc[mask_num_].index\n",
    "full_data.loc[num_idx, \"label\"] = full_data.loc[num_idx, \"label\"].str.replace(\n",
    "    \"NUM_\", \"NUM\"\n",
    ")"
   ]
  },
  {
   "cell_type": "code",
   "execution_count": null,
   "metadata": {},
   "outputs": [],
   "source": [
    "# FIXME este mapeo debería hacerser automáticamente a partir de IA2_LABELS_MAPPING\n",
    "# full_data[\"label\"] = full_data[\"label\"].str.replace(\"NUM_ACTUACION\", \"NUM_EXPEDIENTE\")\n",
    "full_data[\"label\"] = full_data[\"label\"].str.replace(\n",
    "    \"DOMINIO_PATENTE\", \"PATENTE_DOMINIO\"\n",
    ")\n",
    "full_data[\"label\"] = full_data[\"label\"].str.replace(\"NUM_DOMINIO\", \"PATENTE_DOMINIO\")"
   ]
  },
  {
   "cell_type": "code",
   "execution_count": null,
   "metadata": {},
   "outputs": [],
   "source": [
    "full_data.dropna().loc[full_data.dropna()[\"label\"].str.contains(\"HECHO\")]"
   ]
  },
  {
   "cell_type": "code",
   "execution_count": null,
   "metadata": {},
   "outputs": [],
   "source": [
    "full_data[\"label\"] = full_data[\"label\"].str.replace(\"HECHO\", \"FECHA\")"
   ]
  },
  {
   "cell_type": "code",
   "execution_count": null,
   "metadata": {},
   "outputs": [],
   "source": [
    "full_data[\"label\"].dropna().map(lambda x: re.sub(r\"^[BI]-\", \"\", x)).value_counts()"
   ]
  },
  {
   "cell_type": "code",
   "execution_count": null,
   "metadata": {},
   "outputs": [],
   "source": [
    "full_data.query(\"label == 'I-NUM'\")"
   ]
  },
  {
   "cell_type": "code",
   "execution_count": null,
   "metadata": {},
   "outputs": [],
   "source": [
    "# TODO anular labels para conectores tipo y/o\n",
    "full_data.query(\"(original == 'y' or original == 'Y') and (label != 'O')\")"
   ]
  },
  {
   "cell_type": "code",
   "execution_count": null,
   "metadata": {},
   "outputs": [],
   "source": [
    "full_data.loc[(full_data[\"label\"].isna()) & (full_data[\"original\"].notna())]"
   ]
  },
  {
   "cell_type": "markdown",
   "metadata": {},
   "source": [
    "## TODOs\n",
    "\n",
    "1. Remover de cada resolución los párrafos con etiquetas ambiguas y persistir los csvs individuales. Pensar en cómo hacerlo considerando los índices de inicio de fin de cada párrafo a remover\n",
    "2. Hacer el train - val - test split con proporciones 0.75 - 0.125 - 0.125, que da aproximadamente 418 - 70 - 70 resos.\n",
    "3. Shufflear los párrafos de train.\n",
    "4. Eliminar párrafos duplicados en todos los sets.\n",
    "5. Entrenar y validar con Flair y con LORA.\n",
    "6. Hacer downsampling de los párrafos sin etiquetas y repetir."
   ]
  },
  {
   "cell_type": "code",
   "execution_count": null,
   "metadata": {},
   "outputs": [],
   "source": [
    "to_review = []\n",
    "\n",
    "for annot in data:\n",
    "    csv = pd.read_csv(os.path.join(ANNOT_DIR, annot))\n",
    "    csv[\"pipes\"] = (\n",
    "        csv[\"anonymized\"]\n",
    "        .dropna()\n",
    "        .map(lambda x: True if re.match(r\"(?:\\w+(?!>)\\|\\w+\\|)+\", x) else False)\n",
    "    )\n",
    "    if (\n",
    "        len(\n",
    "            csv.loc[\n",
    "                (csv[\"pipes\"] == True)\n",
    "                & (csv[\"original\"] != csv[\"anonymized\"])\n",
    "                & (csv[\"label\"] == \"O\")\n",
    "            ]\n",
    "        )\n",
    "        > 0\n",
    "    ):\n",
    "        to_review.append(annot)\n",
    "\n",
    "to_review"
   ]
  },
  {
   "cell_type": "code",
   "execution_count": null,
   "metadata": {},
   "outputs": [],
   "source": [
    "to_review"
   ]
  },
  {
   "cell_type": "code",
   "execution_count": null,
   "metadata": {},
   "outputs": [],
   "source": [
    "len(to_review)"
   ]
  }
 ],
 "metadata": {
  "kernelspec": {
   "display_name": "Python 3",
   "language": "python",
   "name": "python3"
  },
  "language_info": {
   "codemirror_mode": {
    "name": "ipython",
    "version": 3
   },
   "file_extension": ".py",
   "mimetype": "text/x-python",
   "name": "python",
   "nbconvert_exporter": "python",
   "pygments_lexer": "ipython3",
   "version": "3.10.6"
  }
 },
 "nbformat": 4,
 "nbformat_minor": 2
}
