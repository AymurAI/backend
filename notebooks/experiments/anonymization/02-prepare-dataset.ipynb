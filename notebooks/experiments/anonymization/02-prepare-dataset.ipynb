{
 "cells": [
  {
   "cell_type": "code",
   "execution_count": null,
   "metadata": {},
   "outputs": [],
   "source": [
    "%load_ext autoreload\n",
    "%autoreload 2"
   ]
  },
  {
   "cell_type": "code",
   "execution_count": null,
   "metadata": {},
   "outputs": [],
   "source": [
    "import os\n",
    "import srsly\n",
    "import pandas as pd\n",
    "\n",
    "from glob import glob\n",
    "from tqdm.auto import tqdm"
   ]
  },
  {
   "cell_type": "code",
   "execution_count": null,
   "metadata": {},
   "outputs": [],
   "source": [
    "public = pd.read_csv(\"/workspace/resources/data/dump-20230630/set_de_datos_con_perspectiva_de_genero.csv\")\n",
    "\n",
    "public.dropna(subset=[\"NRO_REGISTRO\", \"TOMO\", \"FECHA_RESOLUCION\"], inplace=True)\n",
    "public.rename(columns={c: c.lower() for c in public.columns}, inplace=True)\n",
    "\n",
    "public[\"tomo\"] = public[\"tomo\"].astype(int)\n",
    "\n",
    "\n",
    "def fix_date(text: str):\n",
    "    date = text.split(\"_\")\n",
    "    # print(date)\n",
    "    if len(date) != 3:\n",
    "        return\n",
    "\n",
    "    for i, num in enumerate(date):\n",
    "        num = int(num)\n",
    "        date[i] = f\"{num:02.0f}\"\n",
    "    try:\n",
    "        return pd.to_datetime(\"/\".join(date))\n",
    "    except:\n",
    "        return\n",
    "\n",
    "\n",
    "public[\"fecha_resolucion\"] = [fix_date(date) for date in tqdm(public[\"fecha_resolucion\"])]\n",
    "\n",
    "public"
   ]
  },
  {
   "cell_type": "code",
   "execution_count": null,
   "metadata": {},
   "outputs": [],
   "source": [
    "from aymurai.datasets.ar_juz_pcyf_10.annotations import (\n",
    "    ArgentinaJuzgadoPCyF10LabelStudioAnnotations,\n",
    ")\n",
    "\n",
    "annotations = ArgentinaJuzgadoPCyF10LabelStudioAnnotations(\"/workspace/resources/annotations\")"
   ]
  },
  {
   "cell_type": "code",
   "execution_count": null,
   "metadata": {},
   "outputs": [],
   "source": [
    "from aymurai.utils.misc import get_element\n",
    "\n",
    "\n",
    "def text_normalize(text: str):\n",
    "    text = text.replace(\"\\/\", \"/\")\n",
    "    return text\n",
    "\n",
    "\n",
    "metadata = pd.DataFrame(\n",
    "    [\n",
    "        x[\"metadata\"]\n",
    "        | x[\"data\"]\n",
    "        | {\n",
    "            \"original_path\": x[\"path\"],\n",
    "            # \"conll\": get_element(x, levels=[\"annotations\", \"conll\"]),\n",
    "        }\n",
    "        for x in annotations.data\n",
    "    ]\n",
    ")\n",
    "metadata.dropna(subset=[\"tomo\"], inplace=True)\n",
    "metadata = metadata[metadata[\"tomo\"].str.isnumeric()]\n",
    "metadata[\"tomo\"] = metadata[\"tomo\"].astype(int)\n",
    "metadata[\"original_path\"] = metadata[\"original_path\"].apply(text_normalize)\n",
    "metadata[\"doc.text\"] = metadata[\"doc.text\"].apply(text_normalize)\n",
    "\n",
    "# metadata['tomo'] = metadata['tomo'].astype(int)\n",
    "metadata.drop_duplicates([\"tomo\", \"nro_registro\"], inplace=True)\n",
    "metadata"
   ]
  },
  {
   "cell_type": "code",
   "execution_count": null,
   "metadata": {},
   "outputs": [],
   "source": [
    "# Inner join\n",
    "x = pd.merge(public, metadata, on=[\"nro_registro\", \"tomo\"], how=\"inner\")\n",
    "x.drop_duplicates([\"tomo\", \"nro_registro\"], inplace=True)\n",
    "x.info()"
   ]
  },
  {
   "cell_type": "code",
   "execution_count": null,
   "metadata": {},
   "outputs": [],
   "source": [
    "import os\n",
    "import gdown\n",
    "import subprocess\n",
    "from hashlib import blake2b\n",
    "from tqdm.auto import tqdm\n",
    "from joblib import Parallel, delayed\n",
    "\n",
    "tqdm.pandas()\n",
    "\n",
    "outdir = \"/resources/data/documents\"\n",
    "os.makedirs(outdir, exist_ok=True)\n",
    "\n",
    "\n",
    "def get_file(url: str):\n",
    "    if not isinstance(url, str):\n",
    "        return\n",
    "\n",
    "    fname = f\"{outdir}/{blake2b(url.encode(), digest_size=15).hexdigest()}\"\n",
    "\n",
    "    if os.path.exists(fname):\n",
    "        return fname\n",
    "\n",
    "    # # algunos archivos requieren acceso, otros estan corruptos\n",
    "    # cmd = f\"gdown --fuzzy -q --continue -O {fname} {url}\"\n",
    "    try:\n",
    "        pass\n",
    "        # fname = gdown.download(url, fname, quiet=False, fuanon_tfidfzzy=True, resume=True)\n",
    "        # output = subprocess.getoutput(cmd)\n",
    "    except:\n",
    "        return\n",
    "\n",
    "    # if \"Access denied\" in output:\n",
    "    # return\n",
    "\n",
    "    return fname\n",
    "\n",
    "\n",
    "parallel = Parallel(n_jobs=50, backend=\"threading\")\n",
    "get_file_ = delayed(get_file)\n",
    "path = parallel(get_file_(url) for url in tqdm(x[\"link\"]))"
   ]
  },
  {
   "cell_type": "code",
   "execution_count": null,
   "metadata": {},
   "outputs": [],
   "source": [
    "x[\"anonymized_path\"] = path"
   ]
  },
  {
   "cell_type": "code",
   "execution_count": null,
   "metadata": {},
   "outputs": [],
   "source": [
    "x.sample(5)"
   ]
  },
  {
   "cell_type": "code",
   "execution_count": null,
   "metadata": {},
   "outputs": [],
   "source": [
    "x.info()"
   ]
  },
  {
   "cell_type": "code",
   "execution_count": null,
   "metadata": {},
   "outputs": [],
   "source": [
    "# 2021 - 2022, con versión anonimizada\n",
    "mask = (\n",
    "    (x[\"fecha_resolucion\"].dt.to_period(\"Y\") >= \"2021\")\n",
    "    & (x[\"fecha_resolucion\"].dt.to_period(\"Y\") <= \"2022\")\n",
    "    & (x[\"anonymized_path\"].notna())\n",
    ")\n",
    "x = x.loc[mask]\n",
    "x"
   ]
  },
  {
   "cell_type": "code",
   "execution_count": null,
   "metadata": {},
   "outputs": [],
   "source": [
    "x.groupby(x[\"fecha_resolucion\"].dt.to_period(\"Y\"))[\"anonymized_path\"].count()"
   ]
  },
  {
   "cell_type": "code",
   "execution_count": null,
   "metadata": {},
   "outputs": [],
   "source": [
    "import textract\n",
    "\n",
    "IA2_START_DATE = pd.to_datetime(\"01/01/2021\")\n",
    "\n",
    "\n",
    "def load_doc(path: str):\n",
    "    doc = textract.process(path, extension=\"odt\")\n",
    "    return doc.decode(\"utf-8\")\n",
    "\n",
    "\n",
    "def ia2(row):\n",
    "    path = row[\"anonymized_path\"]\n",
    "    date = row[\"fecha_resolucion\"]\n",
    "    if date < IA2_START_DATE:\n",
    "        return False\n",
    "    try:\n",
    "        doc = load_doc(path)\n",
    "    except Exception as e:\n",
    "        return False\n",
    "    return \"XX\" not in doc"
   ]
  },
  {
   "cell_type": "code",
   "execution_count": null,
   "metadata": {},
   "outputs": [],
   "source": [
    "x[\"ia2\"] = [ia2(row) for i, row in tqdm(x.iterrows())]"
   ]
  },
  {
   "cell_type": "code",
   "execution_count": null,
   "metadata": {},
   "outputs": [],
   "source": [
    "x.query(\"ia2\")[\"fecha_resolucion\"].describe(percentiles=[0.01, 0.05, 0.25, 0.5, 0.75, 0.95, 0.99])"
   ]
  },
  {
   "cell_type": "code",
   "execution_count": null,
   "metadata": {},
   "outputs": [],
   "source": [
    "# Filtro de resoluciones con etiquetas de ia2\n",
    "mask &= x[\"ia2\"]\n",
    "x = x.loc[mask]\n",
    "x.info()"
   ]
  },
  {
   "cell_type": "code",
   "execution_count": null,
   "metadata": {},
   "outputs": [],
   "source": [
    "x[\"original_path\"] = (\n",
    "    x[\"original_path\"]\n",
    "    .str.replace(\"/resources/\", \"/resources/data/\")\n",
    "    .str.replace(\"/RESOLUCIONES DEL JUZGADO - DOCS/\", \"/RESOLUCIONES DEL JUZGADO/\")\n",
    ")"
   ]
  },
  {
   "cell_type": "code",
   "execution_count": null,
   "metadata": {},
   "outputs": [],
   "source": [
    "import os\n",
    "import re\n",
    "from aymurai.utils import alignment\n",
    "from collections import Counter\n",
    "\n",
    "\n",
    "OUTPUT_DIR = \"/resources/data/restricted/anonymization\"\n",
    "os.makedirs(OUTPUT_DIR, exist_ok=True)\n",
    "\n",
    "labels = Counter()\n",
    "\n",
    "x.reset_index(drop=True, inplace=True)\n",
    "\n",
    "for i, row in tqdm(x.iterrows(), total=len(x)):\n",
    "    original_path = row[\"original_path\"]\n",
    "    anonymized_path = row[\"anonymized_path\"]\n",
    "\n",
    "    mapping = alignment.align_docs(\n",
    "        original_path,\n",
    "        anonymized_path,\n",
    "        columns=(\"original\", \"anonymized\"),\n",
    "        target_preprocess=alignment.ia2.ia2_text_preprocess,\n",
    "    )\n",
    "\n",
    "    # alignment_score\n",
    "    diff = mapping[\"original\"] != mapping[\"anonymized\"]\n",
    "    alignment_score = (~diff).mean()\n",
    "    x.loc[i, \"alignment_score\"] = alignment_score\n",
    "\n",
    "    # export alignment\n",
    "    filename = f\"{OUTPUT_DIR}/alignment/{row['tomo']}_{row['nro_registro']}.csv\"\n",
    "    os.makedirs(os.path.dirname(filename), exist_ok=True)\n",
    "    x.loc[i, \"alignment_path\"] = filename\n",
    "    mapping.to_csv(filename, index=False)\n",
    "\n",
    "    diff_text = \"\".join(mapping.loc[diff, \"anonymized\"])\n",
    "    labels_ = re.findall(r\"<\\w+>\", diff_text)\n",
    "    labels_ = [alignment.ia2.normalize(label) for label in labels_]\n",
    "    labels += Counter(labels_)"
   ]
  },
  {
   "cell_type": "code",
   "execution_count": null,
   "metadata": {},
   "outputs": [],
   "source": [
    "columns = [\n",
    "    \"nro_registro\",\n",
    "    \"tomo\",\n",
    "    \"fecha_resolucion\",\n",
    "    \"n_expte_eje\",\n",
    "    \"original_path\",\n",
    "    \"anonymized_path\",\n",
    "    \"doc.text\",\n",
    "    \"alignment_path\",\n",
    "    \"alignment_score\",\n",
    "]\n",
    "\n",
    "x[columns].head()"
   ]
  },
  {
   "cell_type": "code",
   "execution_count": null,
   "metadata": {},
   "outputs": [],
   "source": [
    "x[columns].sort_values(\"alignment_score\", ascending=False)"
   ]
  },
  {
   "cell_type": "code",
   "execution_count": null,
   "metadata": {},
   "outputs": [],
   "source": [
    "x[\"alignment_score\"].describe(percentiles=[0.01, 0.05, 0.25, 0.5, 0.75, 0.95, 0.99])"
   ]
  },
  {
   "cell_type": "code",
   "execution_count": null,
   "metadata": {},
   "outputs": [],
   "source": [
    "x.query(\"alignment_score < 0.7\")[\"alignment_path\"].values"
   ]
  },
  {
   "cell_type": "code",
   "execution_count": null,
   "metadata": {},
   "outputs": [],
   "source": [
    "import re\n",
    "import os\n",
    "import functools\n",
    "from collections import Counter\n",
    "\n",
    "from aymurai.utils import alignment\n",
    "from aymurai.text.extraction import extract_document\n",
    "\n",
    "\n",
    "IA2_LABELS = pd.read_csv(\"/resources/data/restricted/anonymization/ia2_labels_manual.csv\")\n",
    "IA2_LABELS_MAPPING = {x[\"label\"]: x[\"mapping\"] for _, x in IA2_LABELS.iterrows()}\n",
    "\n",
    "for i, row in tqdm(x.iterrows(), total=len(x)):\n",
    "    mapping = pd.read_csv(row[\"alignment_path\"])\n",
    "    original = extract_document(row[\"original_path\"])\n",
    "\n",
    "    mapping = alignment.core.add_empty_lines_between_paragraphs(original, mapping)\n",
    "\n",
    "    diff = mapping[\"original\"] != mapping[\"anonymized\"]\n",
    "    diff_text = \"\".join(mapping.loc[diff, \"anonymized\"].fillna(\"\"))\n",
    "    labels = set(re.findall(r\"<\\w+>\", diff_text))\n",
    "    labels = [alignment.ia2.normalize(label) for label in labels]\n",
    "\n",
    "    _norm_ia2_label = functools.partial(alignment.ia2.norm_ia2_label, labels=labels)\n",
    "\n",
    "    mask = mapping[\"original\"] != mapping[\"anonymized\"]\n",
    "    mapping.loc[mask, \"label\"] = mapping.loc[mask, \"anonymized\"]\n",
    "    mapping[\"label\"] = mapping[\"label\"].apply(_norm_ia2_label)\n",
    "    mapping[\"label\"] = mapping[\"label\"].apply(\n",
    "        lambda x: IA2_LABELS_MAPPING.get(x.strip()) if isinstance(x, str) else None\n",
    "    )\n",
    "    mapping[\"label\"] = alignment.ia2.label_to_conll_format(mapping[\"label\"])\n",
    "    mapping[\"label\"] = mapping[\"label\"].fillna(\"O\")\n",
    "\n",
    "    if len(mapping.loc[mapping[\"label\"].str.contains(\"NUM_DOMINIO\")]) > 1:\n",
    "        display(mapping.loc[mapping[\"label\"].str.contains(\"NUM_DOMINIO\")])\n",
    "\n",
    "    # patch blank lines in labels\n",
    "    mask = mapping[\"original\"] == \"\"\n",
    "    mapping.loc[mask] = \"\"\n",
    "\n",
    "    # export mapping\n",
    "    filename = f\"{OUTPUT_DIR}/annotation/{row['tomo']}_{row['nro_registro']}.csv\"\n",
    "    os.makedirs(os.path.dirname(filename), exist_ok=True)\n",
    "    x.loc[i, \"annotation_path\"] = filename\n",
    "    mapping.to_csv(filename, index=False)\n",
    "\n",
    "    mapping.loc[:, row.index] = row.values"
   ]
  },
  {
   "cell_type": "code",
   "execution_count": null,
   "metadata": {},
   "outputs": [],
   "source": [
    "ANNOT_DIR = \"/resources/data/restricted/anonymization/annotation/\"\n",
    "\n",
    "TO_REMOVE = [\n",
    "    \"38_3531.csv\",\n",
    "    \"42_3831.csv\",\n",
    "    \"36_3404.0.csv\",\n",
    "    \"36_3406.0.csv\",\n",
    "    \"36_3416.0.csv\",\n",
    "    \"37_3449.0.csv\",\n",
    "    \"38_3519.0.csv\",\n",
    "    \"40_3724.0.csv\",\n",
    "    \"41_3772.0.csv\",\n",
    "    \"41_3793.0.csv\",\n",
    "    \"41_3800.0.csv\",\n",
    "    \"42_3821.1.csv\",\n",
    "    \"43_3918.0.csv\",\n",
    "    \"44_4044.0.csv\",\n",
    "    \"44_4049.0.csv\",\n",
    "    \"47_4234.0.csv\",\n",
    "    \"47_4235.0.csv\",\n",
    "    \"47_4319.0.csv\",\n",
    "    \"50_4594.0.csv\",\n",
    "    \"40_3721.csv\",  # el problema es la nota al pie de página\n",
    "    \"39_3613.csv\",  # el problema es la nota al pie de página\n",
    "    \"40_3674.csv\",  # el problema es la nota al pie de página\n",
    "    \"35_3328.csv\",  # el problema es la nota al pie de página\n",
    "]"
   ]
  },
  {
   "cell_type": "code",
   "execution_count": null,
   "metadata": {},
   "outputs": [],
   "source": [
    "data = [csv for csv in os.listdir(ANNOT_DIR) if csv not in TO_REMOVE]\n",
    "len(data)"
   ]
  },
  {
   "cell_type": "code",
   "execution_count": null,
   "metadata": {},
   "outputs": [],
   "source": [
    "sorted(data)"
   ]
  },
  {
   "cell_type": "code",
   "execution_count": null,
   "metadata": {},
   "outputs": [],
   "source": [
    "from aymurai.utils.display.pandas import pandas_context\n",
    "from rich.pretty import pprint\n",
    "import functools\n",
    "import random\n",
    "import re\n",
    "\n",
    "\n",
    "options = {\n",
    "    \"display.max_rows\": 500,\n",
    "    \"display.max_columns\": 500,\n",
    "    \"display.width\": 0,\n",
    "    \"display.max_rows\": None,\n",
    "}\n",
    "\n",
    "example = random.choice(data)\n",
    "mapping = pd.read_csv(os.path.join(ANNOT_DIR, example))\n",
    "mapping.fillna(\"\", inplace=True)\n",
    "pprint(example)\n",
    "\n",
    "# with pandas_context(**options):\n",
    "# display(mapping.head())"
   ]
  },
  {
   "cell_type": "code",
   "execution_count": null,
   "metadata": {},
   "outputs": [],
   "source": [
    "mask = (mapping[\"anonymized\"].map(lambda x: True if re.match(r\"(?:<\\w+>\\|<?\\w+>?\\|)+\", x) else False)) & (\n",
    "    mapping[\"label\"] == \"O\"\n",
    ")\n",
    "\n",
    "\n",
    "mapping.loc[mask]"
   ]
  },
  {
   "cell_type": "code",
   "execution_count": null,
   "metadata": {},
   "outputs": [],
   "source": [
    "full_data = pd.concat(\n",
    "    [\n",
    "        pd.concat(\n",
    "            [\n",
    "                pd.read_csv(os.path.join(ANNOT_DIR, csv)),\n",
    "                pd.Series(\n",
    "                    [csv] * len(pd.read_csv(os.path.join(ANNOT_DIR, csv))),\n",
    "                    name=\"filename\",\n",
    "                ),\n",
    "            ],\n",
    "            axis=1,\n",
    "        )\n",
    "        for csv in data\n",
    "    ],\n",
    "    ignore_index=True,\n",
    ")\n",
    "full_data"
   ]
  },
  {
   "cell_type": "code",
   "execution_count": null,
   "metadata": {},
   "outputs": [],
   "source": [
    "full_data_nan = full_data.dropna().copy()\n",
    "full_data_nan.info()"
   ]
  },
  {
   "cell_type": "code",
   "execution_count": null,
   "metadata": {},
   "outputs": [],
   "source": [
    "mask = (full_data_nan[\"anonymized\"].map(lambda x: True if re.match(r\"(?:<\\w+>\\|<?\\w+>?\\|)+\", x) else False)) & (\n",
    "    full_data_nan[\"label\"] == \"O\"\n",
    ")\n",
    "\n",
    "# with pandas_context(**options):\n",
    "#     display(full_data.loc[mask])"
   ]
  },
  {
   "cell_type": "code",
   "execution_count": null,
   "metadata": {},
   "outputs": [],
   "source": [
    "len(full_data_nan.loc[mask]) / len(full_data_nan) * 100"
   ]
  },
  {
   "cell_type": "code",
   "execution_count": null,
   "metadata": {},
   "outputs": [],
   "source": [
    "full_data_nan.loc[mask, \"label\"] = None"
   ]
  },
  {
   "cell_type": "code",
   "execution_count": null,
   "metadata": {},
   "outputs": [],
   "source": [
    "full_data_nan[\"label\"].isna().sum()"
   ]
  },
  {
   "cell_type": "code",
   "execution_count": null,
   "metadata": {},
   "outputs": [],
   "source": [
    "full_data.loc[full_data_nan.loc[mask].index, \"label\"] = None\n",
    "full_data.info()"
   ]
  },
  {
   "cell_type": "code",
   "execution_count": null,
   "metadata": {},
   "outputs": [],
   "source": [
    "full_data[\"label\"].value_counts()"
   ]
  },
  {
   "cell_type": "code",
   "execution_count": null,
   "metadata": {},
   "outputs": [],
   "source": [
    "full_data[\"label\"].dropna().map(lambda x: re.sub(r\"^[BI]-\", \"\", x)).value_counts()"
   ]
  },
  {
   "cell_type": "code",
   "execution_count": null,
   "metadata": {},
   "outputs": [],
   "source": [
    "full_data.dropna().loc[full_data.dropna()[\"label\"].str.contains(\"NUM_DOMINIO\")]"
   ]
  },
  {
   "cell_type": "code",
   "execution_count": null,
   "metadata": {},
   "outputs": [],
   "source": [
    "nums = full_data.dropna().loc[full_data[\"label\"].dropna().str.contains(\"NUM_$\"), \"anonymized\"].unique()\n",
    "nums"
   ]
  },
  {
   "cell_type": "code",
   "execution_count": null,
   "metadata": {},
   "outputs": [],
   "source": [
    "mask_num = full_data.dropna()[\"label\"].str.contains(\"NUM_$\")"
   ]
  },
  {
   "cell_type": "code",
   "execution_count": null,
   "metadata": {},
   "outputs": [],
   "source": [
    "mask_expte = mask_num & (full_data.dropna()[\"anonymized\"].str.contains(r\"EXPEDIENTE|CAUSA\", regex=True))"
   ]
  },
  {
   "cell_type": "code",
   "execution_count": null,
   "metadata": {},
   "outputs": [],
   "source": [
    "full_data.dropna().loc[mask_expte]"
   ]
  },
  {
   "cell_type": "code",
   "execution_count": null,
   "metadata": {},
   "outputs": [],
   "source": [
    "expte_idx = full_data.dropna().loc[mask_expte].index\n",
    "full_data.loc[expte_idx, \"label\"] = full_data.loc[expte_idx, \"label\"].str.replace(\"NUM_\", \"NUM_EXPEDIENTE\")"
   ]
  },
  {
   "cell_type": "code",
   "execution_count": null,
   "metadata": {},
   "outputs": [],
   "source": [
    "mask_dni = mask_num & (full_data.dropna()[\"anonymized\"].str.contains(\"DNI\"))"
   ]
  },
  {
   "cell_type": "code",
   "execution_count": null,
   "metadata": {},
   "outputs": [],
   "source": [
    "full_data.dropna().loc[mask_dni]"
   ]
  },
  {
   "cell_type": "code",
   "execution_count": null,
   "metadata": {},
   "outputs": [],
   "source": [
    "dni_idx = full_data.dropna().loc[mask_dni].index\n",
    "full_data.loc[dni_idx, \"label\"] = full_data.loc[dni_idx, \"label\"].str.replace(\"NUM_\", \"DNI\")"
   ]
  },
  {
   "cell_type": "code",
   "execution_count": null,
   "metadata": {},
   "outputs": [],
   "source": [
    "mask_cuij = mask_num & (full_data.dropna()[\"anonymized\"].str.contains(\"CUIJ\"))"
   ]
  },
  {
   "cell_type": "code",
   "execution_count": null,
   "metadata": {},
   "outputs": [],
   "source": [
    "full_data.dropna().loc[mask_cuij]"
   ]
  },
  {
   "cell_type": "code",
   "execution_count": null,
   "metadata": {},
   "outputs": [],
   "source": [
    "cuij_idx = full_data.dropna().loc[mask_cuij].index\n",
    "full_data.loc[cuij_idx, \"label\"] = full_data.loc[cuij_idx, \"label\"].str.replace(\"NUM_\", \"CUIJ\")"
   ]
  },
  {
   "cell_type": "code",
   "execution_count": null,
   "metadata": {},
   "outputs": [],
   "source": [
    "mask_num_ = mask_num & (full_data.dropna()[\"label\"].str.endswith(\"NUM_\"))"
   ]
  },
  {
   "cell_type": "code",
   "execution_count": null,
   "metadata": {},
   "outputs": [],
   "source": [
    "num_idx = full_data.dropna().loc[mask_num_].index\n",
    "full_data.loc[num_idx, \"label\"] = full_data.loc[num_idx, \"label\"].str.replace(\"NUM_\", \"NUM\")"
   ]
  },
  {
   "cell_type": "code",
   "execution_count": null,
   "metadata": {},
   "outputs": [],
   "source": [
    "# FIXME este mapeo debería hacerser automáticamente a partir de IA2_LABELS_MAPPING\n",
    "# full_data[\"label\"] = full_data[\"label\"].str.replace(\"NUM_ACTUACION\", \"NUM_EXPEDIENTE\")\n",
    "full_data[\"label\"] = full_data[\"label\"].str.replace(\"DOMINIO_PATENTE\", \"PATENTE_DOMINIO\")\n",
    "full_data[\"label\"] = full_data[\"label\"].str.replace(\"NUM_DOMINIO\", \"PATENTE_DOMINIO\")"
   ]
  },
  {
   "cell_type": "code",
   "execution_count": null,
   "metadata": {},
   "outputs": [],
   "source": [
    "full_data[\"label\"] = full_data[\"label\"].str.replace(r\"[BI]-(HECHO)\", \"FECHA\", regex=True)"
   ]
  },
  {
   "cell_type": "code",
   "execution_count": null,
   "metadata": {},
   "outputs": [],
   "source": [
    "full_data[\"label\"].dropna().map(lambda x: re.sub(r\"^[BI]-\", \"\", x)).value_counts()"
   ]
  },
  {
   "cell_type": "code",
   "execution_count": null,
   "metadata": {},
   "outputs": [],
   "source": [
    "full_data.query(\"label == 'I-NUM'\")"
   ]
  },
  {
   "cell_type": "code",
   "execution_count": null,
   "metadata": {},
   "outputs": [],
   "source": [
    "# TODO anular labels para conectores tipo y/o\n",
    "full_data.query(\"(original == 'y' or original == 'Y') and (label != 'O')\")"
   ]
  },
  {
   "cell_type": "code",
   "execution_count": null,
   "metadata": {},
   "outputs": [],
   "source": [
    "# TODO anular labels para conectores tipo y/o\n",
    "full_data.query(\"(original == 'o' or original == 'O') and (label != 'O')\")"
   ]
  },
  {
   "cell_type": "code",
   "execution_count": null,
   "metadata": {},
   "outputs": [],
   "source": [
    "# TODO anular labels para conectores tipo y/o\n",
    "full_data.query(\"(original == 'y/o' or original == 'Y/O') and (label != 'O')\")"
   ]
  },
  {
   "cell_type": "code",
   "execution_count": null,
   "metadata": {},
   "outputs": [],
   "source": [
    "full_data.loc[(full_data[\"label\"].isna()) & (full_data[\"original\"].notna())]"
   ]
  },
  {
   "cell_type": "code",
   "execution_count": null,
   "metadata": {},
   "outputs": [],
   "source": [
    "pd.set_option(\"display.max_rows\", 100)"
   ]
  },
  {
   "cell_type": "code",
   "execution_count": null,
   "metadata": {},
   "outputs": [],
   "source": [
    "full_data.loc[(full_data[\"label\"].isna()) & (full_data[\"original\"].notna()), \"filename\"].unique()"
   ]
  },
  {
   "cell_type": "code",
   "execution_count": null,
   "metadata": {},
   "outputs": [],
   "source": [
    "len(full_data.loc[(full_data[\"label\"].isna()) & (full_data[\"original\"].notna()), \"filename\"].unique())"
   ]
  },
  {
   "cell_type": "code",
   "execution_count": null,
   "metadata": {},
   "outputs": [],
   "source": [
    "len(\n",
    "    full_data.loc[\n",
    "        ((full_data[\"original\"].notnull()) & (full_data[\"anonymized\"].isnull()))\n",
    "        | (full_data[\"label\"].isnull()) & (full_data[\"original\"].notnull()),\n",
    "        \"filename\",\n",
    "    ].unique()\n",
    ")"
   ]
  },
  {
   "cell_type": "code",
   "execution_count": null,
   "metadata": {},
   "outputs": [],
   "source": [
    "import numpy as np\n",
    "from more_itertools import consecutive_groups\n",
    "\n",
    "\n",
    "def remove_ambiguous_labels(df: pd.DataFrame) -> pd.DataFrame:\n",
    "    df = df.copy()\n",
    "\n",
    "    to_annul = (\n",
    "        df[\"anonymized\"].map(\n",
    "            lambda x: True if (isinstance(x, str) and re.match(r\"(?:<\\w+>\\|<?\\w+>?\\|)+\", x)) or (x is None) else False\n",
    "        )\n",
    "    ) & (df[\"label\"] == \"O\")\n",
    "\n",
    "    df.loc[to_annul, \"label\"] = None\n",
    "\n",
    "    to_remove = ((df[\"original\"].notnull()) & (df[\"label\"].isnull())) | (\n",
    "        (df[\"original\"].notnull()) & (df[\"anonymized\"].isnull())\n",
    "    )\n",
    "\n",
    "    to_remove_idx = [list(item) for item in consecutive_groups(df.loc[to_remove].index)]\n",
    "\n",
    "    null_row_idx = df.loc[(df[\"original\"].isnull()) & (df[\"label\"].isnull())].index\n",
    "\n",
    "    for idx in to_remove_idx:\n",
    "        min_idx = min(idx)\n",
    "        diff = null_row_idx - min_idx\n",
    "        neg_diff = diff[diff < 0]\n",
    "        argmax_neg_diff = np.argmax(neg_diff)\n",
    "\n",
    "        paragraph_start = null_row_idx[argmax_neg_diff]\n",
    "        paragraph_end = null_row_idx[argmax_neg_diff + 1] if min_idx < max(null_row_idx) else len(df)\n",
    "\n",
    "        df.drop(range(paragraph_start, paragraph_end), inplace=True, errors=\"ignore\")\n",
    "\n",
    "    return df\n",
    "\n",
    "\n",
    "def normalize_num_label(df: pd.DataFrame) -> pd.DataFrame:\n",
    "    df = df.copy()\n",
    "\n",
    "    mask_num = df[\"label\"].str.contains(\"NUM_$\", na=False)\n",
    "\n",
    "    # NUM_EXPEDIENTE\n",
    "    mask_expte = mask_num & (df[\"anonymized\"].str.contains(r\"EXPEDIENTE|CAUSA\", na=False, regex=True))\n",
    "    expte_idx = df.loc[mask_expte].index\n",
    "    df.loc[expte_idx, \"label\"] = df.loc[expte_idx, \"label\"].str.replace(\"NUM_\", \"NUM_EXPEDIENTE\")\n",
    "\n",
    "    # DNI\n",
    "    mask_dni = mask_num & (df[\"anonymized\"].str.contains(\"DNI\", na=False))\n",
    "    dni_idx = df.loc[mask_dni].index\n",
    "    df.loc[dni_idx, \"label\"] = df.loc[dni_idx, \"label\"].str.replace(\"NUM_\", \"DNI\")\n",
    "\n",
    "    # CUIJ\n",
    "    mask_cuij = mask_num & (df[\"anonymized\"].str.contains(\"CUIJ\", na=False))\n",
    "    cuij_idx = df.loc[mask_cuij].index\n",
    "    df.loc[cuij_idx, \"label\"] = df.loc[cuij_idx, \"label\"].str.replace(\"NUM_\", \"CUIJ\")\n",
    "\n",
    "    # NUM\n",
    "    mask_num_ = mask_num & (df[\"label\"].str.endswith(\"NUM_\", na=False))\n",
    "    num_idx = df.loc[mask_num_].index\n",
    "    df.loc[num_idx, \"label\"] = df.loc[num_idx, \"label\"].str.replace(\"NUM_\", \"NUM\")\n",
    "\n",
    "    return df\n",
    "\n",
    "\n",
    "def normalize_other_labels(df: pd.DataFrame) -> pd.DataFrame:\n",
    "    df = df.copy()\n",
    "\n",
    "    # FIXME este mapeo debería hacerse automáticamente a partir de IA2_LABELS_MAPPING\n",
    "    # PATENTE_DOMINIO\n",
    "    df[\"label\"] = df[\"label\"].str.replace(\"DOMINIO_PATENTE\", \"PATENTE_DOMINIO\")\n",
    "    df[\"label\"] = df[\"label\"].str.replace(\"NUM_DOMINIO\", \"PATENTE_DOMINIO\")\n",
    "\n",
    "    # FECHA\n",
    "    df[\"label\"] = df[\"label\"].str.replace(r\"[BI]-(HECHO)\", \"FECHA\", regex=True)\n",
    "\n",
    "    return df"
   ]
  },
  {
   "cell_type": "code",
   "execution_count": null,
   "metadata": {},
   "outputs": [],
   "source": [
    "OUTPUT_DIR = \"/resources/data/restricted/anonymization/to-review\"\n",
    "os.makedirs(OUTPUT_DIR, exist_ok=True)\n",
    "\n",
    "modified = []\n",
    "\n",
    "for csv in tqdm(data):\n",
    "    df = pd.read_csv(os.path.join(ANNOT_DIR, csv))\n",
    "    original_len = len(df)\n",
    "\n",
    "    # df = remove_ambiguous_labels(df)\n",
    "    new_len = len(df)\n",
    "\n",
    "    df = normalize_num_label(df)\n",
    "    df = normalize_other_labels(df)\n",
    "\n",
    "    filename = os.path.join(OUTPUT_DIR, csv)\n",
    "    df.to_csv(filename, index=False)\n",
    "\n",
    "    # if new_len != original_len:\n",
    "    modified.append(csv)\n",
    "\n",
    "len(modified)"
   ]
  },
  {
   "cell_type": "code",
   "execution_count": null,
   "metadata": {},
   "outputs": [],
   "source": [
    "revised_annots_paths = [os.path.join(OUTPUT_DIR, file) for file in os.listdir(OUTPUT_DIR) if file.endswith(\".csv\")]\n",
    "print(\"len\", len(revised_annots_paths))\n",
    "revised_annots_paths[:5]"
   ]
  },
  {
   "cell_type": "code",
   "execution_count": null,
   "metadata": {},
   "outputs": [],
   "source": [
    "revised_annots_paths = sorted(list(set(revised_annots_paths)))\n",
    "print(\"len\", len(revised_annots_paths))\n",
    "revised_annots_paths[:5]"
   ]
  },
  {
   "cell_type": "code",
   "execution_count": null,
   "metadata": {},
   "outputs": [],
   "source": [
    "OUTPUT_DIR"
   ]
  },
  {
   "cell_type": "code",
   "execution_count": null,
   "metadata": {},
   "outputs": [],
   "source": [
    "# output files list\n",
    "with open(f\"{OUTPUT_DIR}/files.list\", \"w\") as file:\n",
    "    file.write(\"\\n\".join(list(map(os.path.basename, revised_annots_paths))))"
   ]
  },
  {
   "cell_type": "code",
   "execution_count": null,
   "metadata": {},
   "outputs": [],
   "source": [
    "with open(f\"{OUTPUT_DIR}/files.list\") as file:\n",
    "    revised_annots_paths_loaded = file.readlines()\n",
    "    revised_annots_paths_loaded = [f\"{OUTPUT_DIR}/{f.strip()}\" for f in revised_annots_paths_loaded]\n",
    "revised_annots_paths_loaded"
   ]
  },
  {
   "cell_type": "code",
   "execution_count": null,
   "metadata": {},
   "outputs": [],
   "source": [
    "from sklearn.model_selection import train_test_split\n",
    "\n",
    "train, test = train_test_split(revised_annots_paths_loaded, test_size=0.2, random_state=42)\n",
    "dev, test = train_test_split(test, test_size=0.5, random_state=42)"
   ]
  },
  {
   "cell_type": "code",
   "execution_count": null,
   "metadata": {},
   "outputs": [],
   "source": [
    "len(train), len(dev), len(test)"
   ]
  },
  {
   "cell_type": "code",
   "execution_count": null,
   "metadata": {},
   "outputs": [],
   "source": [
    "train[0], dev[0], test[0]"
   ]
  },
  {
   "cell_type": "code",
   "execution_count": null,
   "metadata": {},
   "outputs": [],
   "source": [
    "assert len(train) + len(dev) + len(test) == len(revised_annots_paths)"
   ]
  },
  {
   "cell_type": "code",
   "execution_count": null,
   "metadata": {},
   "outputs": [],
   "source": [
    "assert (\n",
    "    (len(set(train).intersection(set(dev))) == 0)\n",
    "    & (len(set(train).intersection(set(test))) == 0)\n",
    "    & (len(set(dev).intersection(set(test))) == 0)\n",
    ")"
   ]
  },
  {
   "cell_type": "code",
   "execution_count": null,
   "metadata": {},
   "outputs": [],
   "source": [
    "OUTPUT_DIR = \"/resources/data/restricted/anonymization\"\n",
    "\n",
    "\n",
    "with open(f\"{OUTPUT_DIR}/train.list\", \"w\") as file:\n",
    "    file.write(\"\\n\".join(list(map(os.path.basename, train))))\n",
    "\n",
    "with open(f\"{OUTPUT_DIR}/dev.list\", \"w\") as file:\n",
    "    file.write(\"\\n\".join(list(map(os.path.basename, dev))))\n",
    "\n",
    "with open(f\"{OUTPUT_DIR}/test.list\", \"w\") as file:\n",
    "    file.write(\"\\n\".join(list(map(os.path.basename, test))))"
   ]
  },
  {
   "cell_type": "code",
   "execution_count": null,
   "metadata": {},
   "outputs": [],
   "source": [
    "df_train = pd.concat([pd.read_csv(doc)[[\"original\", \"label\"]] for doc in train], ignore_index=True)\n",
    "train_conll = df_train.to_csv(sep=\" \", header=False, index=False)\n",
    "\n",
    "df_dev = pd.concat([pd.read_csv(doc)[[\"original\", \"label\"]] for doc in dev], ignore_index=True)\n",
    "dev_conll = df_dev.to_csv(sep=\" \", header=False, index=False)\n",
    "\n",
    "df_test = pd.concat([pd.read_csv(doc)[[\"original\", \"label\"]] for doc in test], ignore_index=True)\n",
    "test_conll = df_test.to_csv(sep=\" \", header=False, index=False)"
   ]
  },
  {
   "cell_type": "code",
   "execution_count": null,
   "metadata": {},
   "outputs": [],
   "source": [
    "# NOTE recordar shuffle al momento de entrenar\n",
    "# Random shuffle - paragraphs\n",
    "# Split by paragraph\n",
    "# train_conll = [paragraph for paragraph in train_conll.split(\"\\n \\n\") if paragraph != \"\"]\n",
    "\n",
    "# Shuffle\n",
    "# random.seed(42)\n",
    "# random.shuffle(train_conll)\n",
    "\n",
    "# Rejoin annotations\n",
    "# train_conll = \"\\n\\n\".join(train_conll)"
   ]
  },
  {
   "cell_type": "markdown",
   "metadata": {},
   "source": [
    "# export to conll format"
   ]
  },
  {
   "cell_type": "code",
   "execution_count": null,
   "metadata": {},
   "outputs": [],
   "source": [
    "with open(os.path.join(OUTPUT_DIR, \"train.txt\"), \"w\") as file:\n",
    "    file.write(train_conll)\n",
    "\n",
    "with open(os.path.join(OUTPUT_DIR, \"dev.txt\"), \"w\") as file:\n",
    "    file.write(dev_conll)\n",
    "\n",
    "with open(os.path.join(OUTPUT_DIR, \"test.txt\"), \"w\") as file:\n",
    "    file.write(test_conll)"
   ]
  },
  {
   "cell_type": "markdown",
   "metadata": {},
   "source": [
    "# export to huggingface format"
   ]
  },
  {
   "cell_type": "code",
   "execution_count": null,
   "metadata": {},
   "outputs": [],
   "source": [
    "train = pd.read_csv(\n",
    "    f\"{OUTPUT_DIR}/train.txt\",\n",
    "    sep=\" \",\n",
    "    names=[\"token\", \"label\"],\n",
    "    skip_blank_lines=False,\n",
    ")\n",
    "\n",
    "val = pd.read_csv(\n",
    "    f\"{OUTPUT_DIR}/dev.txt\",\n",
    "    sep=\" \",\n",
    "    names=[\"token\", \"label\"],\n",
    "    skip_blank_lines=False,\n",
    ")\n",
    "\n",
    "test = pd.read_csv(\n",
    "    f\"{OUTPUT_DIR}/test.txt\",\n",
    "    sep=\" \",\n",
    "    names=[\"token\", \"label\"],\n",
    "    skip_blank_lines=False,\n",
    ")\n",
    "\n",
    "cat_count = dict(train[\"label\"].value_counts())\n",
    "categories = {v: k for k, v in enumerate(train[\"label\"].unique()) if not pd.isna(v)}\n",
    "label2code = {k: i for i, (k, v) in enumerate(categories.items())}\n",
    "code2label = {v: k for k, v in label2code.items()}\n",
    "\n",
    "print(\"train:\", len(train))\n",
    "print(\"val:\", len(val))\n",
    "print(\"test:\", len(test))\n",
    "print(\"nlabels:\", len(code2label))"
   ]
  },
  {
   "cell_type": "code",
   "execution_count": null,
   "metadata": {},
   "outputs": [],
   "source": [
    "import numpy as np\n",
    "from more_itertools import unzip\n",
    "from tqdm.auto import tqdm\n",
    "from more_itertools import split_at\n",
    "from functools import cache\n",
    "\n",
    "\n",
    "def get_hg_format(df):\n",
    "    df = df.copy()\n",
    "\n",
    "    df[\"tags\"] = df[\"label\"].map(lambda x: label2code.get(x, label2code[\"O\"]))\n",
    "    items = []\n",
    "    indices, rows = unzip(df.iterrows())\n",
    "    tuples = map(lambda row: (row[\"token\"], row[\"tags\"]), rows)\n",
    "    tuples = split_at(tuples, lambda x: pd.isna(x[0]))\n",
    "\n",
    "    for i, paragraph in enumerate(tuples):\n",
    "        df = pd.DataFrame(paragraph)\n",
    "        if not len(df):\n",
    "            continue\n",
    "        tokens = df[0].values\n",
    "        labels = df[1].values.astype(int)\n",
    "        nlabels = (len(labels[labels > 0]),)\n",
    "\n",
    "        if any(np.isnan(labels)):\n",
    "            continue\n",
    "\n",
    "        if len(tokens) != len(labels):\n",
    "            print(\"mismatch size\")\n",
    "            continue\n",
    "\n",
    "        items.append(\n",
    "            {\n",
    "                \"n_labels\": nlabels,\n",
    "                \"tokens\": list(tokens),\n",
    "                \"tags\": labels,\n",
    "            }\n",
    "        )\n",
    "\n",
    "    return items"
   ]
  },
  {
   "cell_type": "code",
   "execution_count": null,
   "metadata": {},
   "outputs": [],
   "source": [
    "from tqdm import tqdm\n",
    "from datasets import DatasetDict, Dataset\n",
    "\n",
    "dataset = DatasetDict(\n",
    "    {\n",
    "        \"train\": Dataset.from_list(get_hg_format(train)),\n",
    "        \"validation\": Dataset.from_list(get_hg_format(val)),\n",
    "        \"test\": Dataset.from_list(get_hg_format(test)),\n",
    "    }\n",
    ")\n",
    "dataset"
   ]
  },
  {
   "cell_type": "markdown",
   "metadata": {},
   "source": [
    "### drop duplicates"
   ]
  },
  {
   "cell_type": "code",
   "execution_count": null,
   "metadata": {},
   "outputs": [],
   "source": [
    "df_train = dataset[\"train\"].to_pandas()\n",
    "df_dev = dataset[\"validation\"].to_pandas()\n",
    "df_test = dataset[\"test\"].to_pandas()\n",
    "\n",
    "# apply hash to fast compare dupplicated\n",
    "df_train[\"hash\"] = df_train[\"tokens\"].str.join(\" \").apply(hash)\n",
    "df_dev[\"hash\"] = df_dev[\"tokens\"].str.join(\" \").apply(hash)\n",
    "df_test[\"hash\"] = df_test[\"tokens\"].str.join(\" \").apply(hash)\n",
    "\n",
    "# drop duplicates\n",
    "df_train.drop_duplicates(subset=\"hash\", inplace=True)\n",
    "df_dev.drop_duplicates(subset=\"hash\", inplace=True)\n",
    "df_test.drop_duplicates(subset=\"hash\", inplace=True)\n",
    "\n",
    "# get train hashes\n",
    "train_hash = set(df_train[\"hash\"])\n",
    "dev_hash = set(df_dev[\"hash\"])"
   ]
  },
  {
   "cell_type": "code",
   "execution_count": null,
   "metadata": {},
   "outputs": [],
   "source": [
    "options[\"display.max_colwidth\"] = 0\n",
    "\n",
    "with pandas_context(**options):\n",
    "    aux = df_test.query(\"hash in @train_hash and hash in @dev_hash\")\n",
    "    aux[\"ntags\"] = aux[\"tags\"].apply(lambda x: np.sum(x))\n",
    "    display(aux.query(\"ntags > 0\"))\n",
    "    # display(aux)"
   ]
  },
  {
   "cell_type": "code",
   "execution_count": null,
   "metadata": {},
   "outputs": [],
   "source": [
    "# drop paragraphs shared between datasets\n",
    "df_dev.query(\"hash not in @train_hash\", inplace=True)\n",
    "df_test.query(\"hash not in @train_hash and hash not in @dev_hash\", inplace=True)"
   ]
  },
  {
   "cell_type": "code",
   "execution_count": null,
   "metadata": {},
   "outputs": [],
   "source": [
    "dataset[\"train\"] = Dataset.from_pandas(df_train)\n",
    "dataset[\"validation\"] = Dataset.from_pandas(df_dev)\n",
    "dataset[\"test\"] = Dataset.from_pandas(df_test)\n",
    "\n",
    "dataset = dataset.remove_columns([\"__index_level_0__\"])"
   ]
  },
  {
   "cell_type": "code",
   "execution_count": null,
   "metadata": {},
   "outputs": [],
   "source": [
    "set(dataset[\"train\"][\"hash\"]).intersection(set(dataset[\"validation\"][\"hash\"]))"
   ]
  },
  {
   "cell_type": "code",
   "execution_count": null,
   "metadata": {},
   "outputs": [],
   "source": [
    "dataset"
   ]
  },
  {
   "cell_type": "markdown",
   "metadata": {},
   "source": [
    "## save dataset"
   ]
  },
  {
   "cell_type": "code",
   "execution_count": null,
   "metadata": {},
   "outputs": [],
   "source": [
    "import srsly\n",
    "\n",
    "dataset.save_to_disk(f\"{OUTPUT_DIR}/hg_dataset\")\n",
    "with open(f\"{OUTPUT_DIR}/hg_dataset/label_mapping.json\", \"w\") as file:\n",
    "    json = srsly.json_dumps(label2code)\n",
    "    file.write(json)"
   ]
  },
  {
   "cell_type": "markdown",
   "metadata": {},
   "source": [
    "### export counter of labels"
   ]
  },
  {
   "cell_type": "code",
   "execution_count": null,
   "metadata": {},
   "outputs": [],
   "source": [
    "from collections import Counter"
   ]
  },
  {
   "cell_type": "code",
   "execution_count": null,
   "metadata": {},
   "outputs": [],
   "source": [
    "train_counter = Counter()\n",
    "for paragraph in dataset[\"train\"]:\n",
    "    train_counter += Counter(paragraph[\"tags\"])\n",
    "train_counter = dict(train_counter)\n",
    "train_counter = {code2label[k]: v for k, v in train_counter.items()}\n",
    "train_counter = sum(\n",
    "    map(\n",
    "        lambda x: Counter({re.sub(r\"B-|I-\", \"\", x[0]): x[1]}),\n",
    "        train_counter.items(),\n",
    "    ),\n",
    "    Counter(),\n",
    ")\n",
    "\n",
    "val_counter = Counter()\n",
    "for paragraph in dataset[\"validation\"]:\n",
    "    val_counter += Counter(paragraph[\"tags\"])\n",
    "val_counter = dict(val_counter)\n",
    "val_counter = {code2label[k]: v for k, v in val_counter.items()}\n",
    "val_counter = sum(\n",
    "    map(\n",
    "        lambda x: Counter({re.sub(r\"B-|I-\", \"\", x[0]): x[1]}),\n",
    "        val_counter.items(),\n",
    "    ),\n",
    "    Counter(),\n",
    ")\n",
    "\n",
    "test_counter = Counter()\n",
    "for paragraph in dataset[\"test\"]:\n",
    "    test_counter += Counter(paragraph[\"tags\"])\n",
    "test_counter = dict(test_counter)\n",
    "test_counter = {code2label[k]: v for k, v in test_counter.items()}\n",
    "test_counter = sum(\n",
    "    map(\n",
    "        lambda x: Counter({re.sub(r\"B-|I-\", \"\", x[0]): x[1]}),\n",
    "        test_counter.items(),\n",
    "    ),\n",
    "    Counter(),\n",
    ")"
   ]
  },
  {
   "cell_type": "code",
   "execution_count": null,
   "metadata": {},
   "outputs": [],
   "source": [
    "pd.Series(dict(train_counter)).to_csv(f\"{OUTPUT_DIR}/train-label-counter.csv\")\n",
    "pd.Series(dict(val_counter)).to_csv(f\"{OUTPUT_DIR}/val-label-counter.csv\")\n",
    "pd.Series(dict(test_counter)).to_csv(f\"{OUTPUT_DIR}/test-label-counter.csv\")"
   ]
  },
  {
   "cell_type": "markdown",
   "metadata": {},
   "source": [
    "### re export conll files"
   ]
  },
  {
   "cell_type": "code",
   "execution_count": null,
   "metadata": {},
   "outputs": [],
   "source": [
    "from tqdm import tqdm\n",
    "\n",
    "\n",
    "def hg2conll(df: pd.DataFrame) -> pd.DataFrame:\n",
    "    df = df.copy()\n",
    "\n",
    "    paragraphs = pd.DataFrame()\n",
    "    for i, row in tqdm(df.iterrows(), total=len(df)):\n",
    "        aux = pd.DataFrame(\n",
    "            {\n",
    "                \"token\": row[\"tokens\"],\n",
    "                \"label\": [code2label.get(code, \"O\") for code in row[\"tags\"]],\n",
    "            }\n",
    "        )\n",
    "        last_idx = len(aux)\n",
    "        aux.loc[last_idx] = np.nan\n",
    "\n",
    "        paragraphs = pd.concat([paragraphs, aux], ignore_index=True)\n",
    "    return paragraphs"
   ]
  },
  {
   "cell_type": "code",
   "execution_count": null,
   "metadata": {},
   "outputs": [],
   "source": [
    "train_conll = hg2conll(df_train)\n",
    "dev_conll = hg2conll(df_dev)\n",
    "test_conll = hg2conll(df_test)"
   ]
  },
  {
   "cell_type": "code",
   "execution_count": null,
   "metadata": {},
   "outputs": [],
   "source": [
    "train_conll.to_csv(f\"{OUTPUT_DIR}/train.txt\", sep=\" \", header=False, index=False)\n",
    "dev_conll.to_csv(f\"{OUTPUT_DIR}/dev.txt\", sep=\" \", header=False, index=False)\n",
    "test_conll.to_csv(f\"{OUTPUT_DIR}/test.txt\", sep=\" \", header=False, index=False)"
   ]
  },
  {
   "cell_type": "markdown",
   "metadata": {},
   "source": [
    "## TODOs\n",
    "\n",
    "- [X] Remover de cada resolución los párrafos con etiquetas ambiguas y persistir los csvs individuales. Pensar en cómo hacerlo considerando los índices de inicio de fin de cada párrafo a remover\n",
    "- [X] Hacer el train - val - test split con proporciones 0.8 - 0.1 - 0.1, que da aproximadamente 428 - 54 - 53 resos.\n",
    "- [X] Shufflear los párrafos de train.\n",
    "- [X] Eliminar párrafos duplicados en todos los sets.\n",
    "- [ ] Entrenar y validar con Flair y con LORA.\n",
    "- [ ] Hacer downsampling de los párrafos sin etiquetas y repetir."
   ]
  },
  {
   "cell_type": "code",
   "execution_count": null,
   "metadata": {},
   "outputs": [],
   "source": [
    "to_review = []\n",
    "\n",
    "for annot in data:\n",
    "    csv = pd.read_csv(os.path.join(ANNOT_DIR, annot))\n",
    "    csv[\"pipes\"] = csv[\"anonymized\"].dropna().map(lambda x: True if re.match(r\"(?:\\w+(?!>)\\|\\w+\\|)+\", x) else False)\n",
    "    if len(csv.loc[(csv[\"pipes\"] == True) & (csv[\"original\"] != csv[\"anonymized\"]) & (csv[\"label\"] == \"O\")]) > 0:\n",
    "        to_review.append(annot)\n",
    "\n",
    "to_review"
   ]
  },
  {
   "cell_type": "code",
   "execution_count": null,
   "metadata": {},
   "outputs": [],
   "source": [
    "to_review"
   ]
  },
  {
   "cell_type": "code",
   "execution_count": null,
   "metadata": {},
   "outputs": [],
   "source": [
    "len(to_review)"
   ]
  }
 ],
 "metadata": {
  "kernelspec": {
   "display_name": "Python 3",
   "language": "python",
   "name": "python3"
  },
  "language_info": {
   "codemirror_mode": {
    "name": "ipython",
    "version": 3
   },
   "file_extension": ".py",
   "mimetype": "text/x-python",
   "name": "python",
   "nbconvert_exporter": "python",
   "pygments_lexer": "ipython3",
   "version": "3.10.6"
  }
 },
 "nbformat": 4,
 "nbformat_minor": 2
}
