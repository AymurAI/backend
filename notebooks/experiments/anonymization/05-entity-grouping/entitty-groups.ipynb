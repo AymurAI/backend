{
 "cells": [
  {
   "cell_type": "code",
   "execution_count": null,
   "metadata": {},
   "outputs": [],
   "source": [
    "%load_ext rich"
   ]
  },
  {
   "cell_type": "code",
   "execution_count": null,
   "metadata": {},
   "outputs": [],
   "source": [
    "import os\n",
    "import json\n",
    "\n",
    "import requests\n",
    "from tqdm import tqdm\n",
    "\n",
    "API_URL = \"http://localhost:8999\"  # Url for debugger. change it to your own"
   ]
  },
  {
   "cell_type": "markdown",
   "metadata": {},
   "source": [
    "## Sample document"
   ]
  },
  {
   "cell_type": "code",
   "execution_count": null,
   "metadata": {},
   "outputs": [],
   "source": [
    "doc_path = \"/resources/data/sample/document-01.docx\""
   ]
  },
  {
   "cell_type": "markdown",
   "metadata": {},
   "source": [
    "## /document-extract endpoint output"
   ]
  },
  {
   "cell_type": "code",
   "execution_count": null,
   "metadata": {},
   "outputs": [],
   "source": [
    "# Function to extract document using the API\n",
    "def extract_document(file_path: str) -> dict:\n",
    "    # Open the file in binary mode and send the POST request\n",
    "    with open(file_path, \"rb\") as file:\n",
    "        files = {\"file\": file}\n",
    "        response = requests.post(url=f\"{API_URL}/document-extract\", files=files)\n",
    "    response.raise_for_status()\n",
    "    return response.json()"
   ]
  },
  {
   "cell_type": "code",
   "execution_count": null,
   "metadata": {},
   "outputs": [],
   "source": [
    "# /document-extract endpoint output\n",
    "extracted_document = extract_document(doc_path)\n",
    "extracted_document"
   ]
  },
  {
   "cell_type": "code",
   "execution_count": null,
   "metadata": {},
   "outputs": [],
   "source": [
    "len(extracted_document[\"document\"])"
   ]
  },
  {
   "cell_type": "markdown",
   "metadata": {},
   "source": [
    "## Inference"
   ]
  },
  {
   "cell_type": "code",
   "execution_count": null,
   "metadata": {},
   "outputs": [],
   "source": [
    "# Function to make inference using the API\n",
    "def get_predictions(sample: str) -> dict:\n",
    "    response = requests.post(url=f\"{API_URL}/anonymizer/predict\", json={\"text\": sample})\n",
    "    response.raise_for_status()\n",
    "    return response.json()"
   ]
  },
  {
   "cell_type": "code",
   "execution_count": null,
   "metadata": {},
   "outputs": [],
   "source": [
    "predictions = [\n",
    "    get_predictions(paragraph) for paragraph in tqdm(extracted_document[\"document\"])\n",
    "]\n",
    "predictions"
   ]
  },
  {
   "cell_type": "code",
   "execution_count": null,
   "metadata": {},
   "outputs": [],
   "source": [
    "predictions[0]"
   ]
  },
  {
   "cell_type": "code",
   "execution_count": null,
   "metadata": {},
   "outputs": [],
   "source": [
    "from itertools import groupby\n",
    "\n",
    "\n",
    "def get_entities(prediction):\n",
    "    return prediction[\"labels\"]\n",
    "\n",
    "\n",
    "# entities = [entity for prediction in predictions for entity in get_entities(prediction)]\n",
    "# entities = sorted(entities, key=lambda x: x[\"attrs\"][\"aymurai_label\"])\n",
    "\n",
    "entities = [entity for prediction in predictions for entity in get_entities(prediction)]\n",
    "entities = [(i, entity) for i, entity in enumerate(entities)]\n",
    "entities = sorted(entities, key=lambda x: x[1][\"attrs\"][\"aymurai_label\"])\n",
    "\n",
    "\n",
    "groups = {\n",
    "    label: list(group)\n",
    "    for label, group in groupby(entities, key=lambda x: x[1][\"attrs\"][\"aymurai_label\"])\n",
    "}\n",
    "groups"
   ]
  },
  {
   "cell_type": "code",
   "execution_count": null,
   "metadata": {},
   "outputs": [],
   "source": [
    "import jiwer\n",
    "\n",
    "group = groups[\"PER\"]\n",
    "example = group[0]\n",
    "# other = [ent[\"text\"] for ent in group[1:]]\n",
    "other = [ent[1][\"text\"] for ent in group[1:]]\n",
    "\n",
    "display(example)\n",
    "\n",
    "scores = {\n",
    "    \"cer\": [jiwer.cer(example[1][\"text\"], text) for text in other],\n",
    "    \"wer\": [jiwer.wer(example[1][\"text\"], text) for text in other],\n",
    "    \"mer\": [jiwer.mer(example[1][\"text\"], text) for text in other],\n",
    "}\n"
   ]
  },
  {
   "cell_type": "code",
   "execution_count": null,
   "metadata": {},
   "outputs": [],
   "source": [
    "import numpy as np\n",
    "import regex\n",
    "import unicodedata\n",
    "from jarowinkler import jarowinkler_similarity\n",
    "\n",
    "\n",
    "def normalize_text(text):\n",
    "    # normalize tildes\n",
    "    text = unicodedata.normalize(\"NFKD\", text)\n",
    "    text = \"\".join(char for char in text if unicodedata.category(char) != \"Mn\")\n",
    "\n",
    "    # remove extra spaces and special characters\n",
    "    text = regex.sub(r\"\\s+\", \" \", text)\n",
    "    text = regex.sub(r\"\\p{P}\", \"\", text)\n",
    "\n",
    "    # lowercase\n",
    "    text = text.lower()\n",
    "\n",
    "    return text\n",
    "\n",
    "\n",
    "def compute_norm_cer(x, y):\n",
    "    x = normalize_text(x)\n",
    "    y = normalize_text(y)\n",
    "    return jiwer.cer(x, y) / len(x)\n",
    "\n",
    "\n",
    "def compute_jaro_winkler(x, y):\n",
    "    x = normalize_text(x)\n",
    "    y = normalize_text(y)\n",
    "    return jarowinkler_similarity(x.split(), y.split())\n",
    "\n",
    "\n",
    "def compute_word_subset(x, y):\n",
    "    x = normalize_text(x)\n",
    "    y = normalize_text(y)\n",
    "\n",
    "    x = set(x.split())\n",
    "    y = set(y.split())\n",
    "    return bool(x & y)\n",
    "\n",
    "\n",
    "scores = {\n",
    "    \"cer\": np.array(\n",
    "        [\n",
    "            [\n",
    "                compute_norm_cer(sample1[1][\"text\"], sample2[1][\"text\"])\n",
    "                for sample2 in group\n",
    "            ]\n",
    "            for sample1 in group\n",
    "        ]\n",
    "    ),\n",
    "    \"jaro_winkler\": np.array(\n",
    "        [\n",
    "            [\n",
    "                compute_jaro_winkler(sample1[1][\"text\"], sample2[1][\"text\"])\n",
    "                for sample2 in group\n",
    "            ]\n",
    "            for sample1 in group\n",
    "        ]\n",
    "    ),\n",
    "    \"word_subset\": 1\n",
    "    - np.array(\n",
    "        [\n",
    "            [\n",
    "                compute_word_subset(sample1[1][\"text\"], sample2[1][\"text\"])\n",
    "                for sample2 in group\n",
    "            ]\n",
    "            for sample1 in group\n",
    "        ]\n",
    "    ),\n",
    "}\n",
    "\n",
    "scores[\"jaro_winkler\"].shape, scores[\"word_subset\"].shape"
   ]
  },
  {
   "cell_type": "code",
   "execution_count": null,
   "metadata": {},
   "outputs": [],
   "source": [
    "from sklearn.cluster import DBSCAN\n",
    "\n",
    "dbscan = DBSCAN(eps=0.01, min_samples=2)\n",
    "\n",
    "clusters = dbscan.fit_predict(scores[\"word_subset\"])\n",
    "clusters\n",
    "\n",
    "labels = set(clusters)\n",
    "labels.discard(-1)\n",
    "centroids = [\n",
    "    \" \".join(\n",
    "        [normalize_text(group[i][1][\"text\"]) for i in np.where(clusters == label)[0]]\n",
    "    )\n",
    "    for label in labels\n",
    "]\n",
    "centroids\n",
    "\n",
    "centroids_adj = np.array(\n",
    "    [[compute_word_subset(c1, c2) for c2 in centroids] for c1 in centroids]\n",
    ")\n",
    "centroids_adj\n",
    "new_labels = np.argmax(centroids_adj, axis=-1)\n",
    "\n",
    "clusters = np.array([new_labels[label] if label != -1 else -1 for label in clusters])\n",
    "clusters"
   ]
  },
  {
   "cell_type": "code",
   "execution_count": null,
   "metadata": {},
   "outputs": [],
   "source": [
    "import pandas as pd\n",
    "\n",
    "results = pd.DataFrame(\n",
    "    {\n",
    "        \"text\": [group[i][1][\"text\"] for i in range(len(clusters))],\n",
    "        \"norm_text\": [\n",
    "            normalize_text(group[i][1][\"text\"]) for i in range(len(clusters))\n",
    "        ],\n",
    "        \"index\": [group[i][0] for i in range(len(clusters))],\n",
    "        \"cluster\": clusters,\n",
    "    }\n",
    ")\n",
    "\n",
    "results = results.sort_values(\"cluster\")\n",
    "\n",
    "\n",
    "results.groupby(\"cluster\").apply(lambda x: x[\"norm_text\"].tolist()).to_dict()"
   ]
  },
  {
   "cell_type": "code",
   "execution_count": null,
   "metadata": {},
   "outputs": [],
   "source": [
    "results"
   ]
  },
  {
   "cell_type": "code",
   "execution_count": null,
   "metadata": {},
   "outputs": [],
   "source": []
  }
 ],
 "metadata": {
  "kernelspec": {
   "display_name": ".venv",
   "language": "python",
   "name": "python3"
  },
  "language_info": {
   "codemirror_mode": {
    "name": "ipython",
    "version": 3
   },
   "file_extension": ".py",
   "mimetype": "text/x-python",
   "name": "python",
   "nbconvert_exporter": "python",
   "pygments_lexer": "ipython3",
   "version": "3.10.16"
  }
 },
 "nbformat": 4,
 "nbformat_minor": 2
}
