{
 "cells": [
  {
   "cell_type": "code",
   "execution_count": null,
   "metadata": {},
   "outputs": [],
   "source": [
    "import srsly\n",
    "import pandas as pd\n",
    "from tqdm.auto import tqdm"
   ]
  },
  {
   "cell_type": "code",
   "execution_count": null,
   "metadata": {},
   "outputs": [],
   "source": [
    "public = pd.read_csv(\"/workspace/resources/data/dump-20230630/set_de_datos_con_perspectiva_de_genero.csv\")\n",
    "\n",
    "public.dropna(subset=[\"NRO_REGISTRO\", \"TOMO\", \"FECHA_RESOLUCION\"], inplace=True)\n",
    "public.rename(columns={c: c.lower() for c in public.columns}, inplace=True)\n",
    "\n",
    "public[\"tomo\"] = public[\"tomo\"].astype(int)\n",
    "\n",
    "\n",
    "def fix_date(text: str):\n",
    "    date = text.split(\"_\")\n",
    "    # print(date)\n",
    "    if len(date) != 3:\n",
    "        return\n",
    "\n",
    "    for i, num in enumerate(date):\n",
    "        num = int(num)\n",
    "        date[i] = f\"{num:02.0f}\"\n",
    "    try:\n",
    "        return pd.to_datetime(\"/\".join(date))\n",
    "    except:\n",
    "        return\n",
    "\n",
    "\n",
    "public[\"fecha_resolucion\"] = [fix_date(date) for date in tqdm(public[\"fecha_resolucion\"])]\n",
    "\n",
    "public"
   ]
  },
  {
   "cell_type": "code",
   "execution_count": null,
   "metadata": {},
   "outputs": [],
   "source": [
    "public.info()"
   ]
  },
  {
   "cell_type": "code",
   "execution_count": null,
   "metadata": {},
   "outputs": [],
   "source": [
    "from aymurai.datasets.ar_juz_pcyf_10.annotations import (\n",
    "    ArgentinaJuzgadoPCyF10LabelStudioAnnotations,\n",
    ")\n",
    "\n",
    "annotations = ArgentinaJuzgadoPCyF10LabelStudioAnnotations(\"/workspace/resources/annotations\")"
   ]
  },
  {
   "cell_type": "code",
   "execution_count": null,
   "metadata": {},
   "outputs": [],
   "source": [
    "from aymurai.utils.misc import get_element\n",
    "\n",
    "\n",
    "def text_normalize(text: str):\n",
    "    text = text.replace(\"\\/\", \"/\")\n",
    "    return text\n",
    "\n",
    "\n",
    "metadata = pd.DataFrame(\n",
    "    [\n",
    "        x[\"metadata\"]\n",
    "        | x[\"data\"]\n",
    "        | {\n",
    "            \"original_path\": x[\"path\"],\n",
    "            \"conll\": get_element(x, levels=[\"annotations\", \"conll\"]),\n",
    "        }\n",
    "        for x in annotations.data\n",
    "    ]\n",
    ")\n",
    "metadata.dropna(subset=[\"tomo\"], inplace=True)\n",
    "metadata = metadata[metadata[\"tomo\"].str.isnumeric()]\n",
    "metadata[\"tomo\"] = metadata[\"tomo\"].astype(int)\n",
    "metadata[\"original_path\"] = metadata[\"original_path\"].apply(text_normalize)\n",
    "metadata[\"doc.text\"] = metadata[\"doc.text\"].apply(text_normalize)\n",
    "\n",
    "# metadata['tomo'] = metadata['tomo'].astype(int)\n",
    "metadata.drop_duplicates([\"tomo\", \"nro_registro\"], inplace=True)\n",
    "metadata"
   ]
  },
  {
   "cell_type": "code",
   "execution_count": null,
   "metadata": {},
   "outputs": [],
   "source": [
    "# Left join\n",
    "x = pd.merge(public, metadata, on=[\"nro_registro\", \"tomo\"], how=\"left\")\n",
    "x.drop_duplicates([\"tomo\", \"nro_registro\"], inplace=True)\n",
    "x.info()"
   ]
  },
  {
   "cell_type": "code",
   "execution_count": null,
   "metadata": {},
   "outputs": [],
   "source": [
    "x.sample(5)"
   ]
  },
  {
   "cell_type": "code",
   "execution_count": null,
   "metadata": {},
   "outputs": [],
   "source": [
    "x[\"link\"].notna().sum()"
   ]
  },
  {
   "cell_type": "code",
   "execution_count": null,
   "metadata": {},
   "outputs": [],
   "source": [
    "x.groupby(x[\"fecha_resolucion\"].dt.to_period(\"Y\"))[\"link\"].count()"
   ]
  },
  {
   "cell_type": "code",
   "execution_count": null,
   "metadata": {},
   "outputs": [],
   "source": [
    "x.dropna(subset=[\"original_path\"]).groupby(x[\"fecha_resolucion\"].dt.to_period(\"Y\"))[\"original_path\"].count()"
   ]
  },
  {
   "cell_type": "code",
   "execution_count": null,
   "metadata": {},
   "outputs": [],
   "source": [
    "import os\n",
    "import gdown\n",
    "import subprocess\n",
    "from hashlib import blake2b\n",
    "from tqdm.auto import tqdm\n",
    "from joblib import Parallel, delayed\n",
    "\n",
    "tqdm.pandas()\n",
    "\n",
    "outdir = \"/resources/data/documents\"\n",
    "os.makedirs(outdir, exist_ok=True)\n",
    "\n",
    "\n",
    "def get_file(url: str):\n",
    "    if not isinstance(url, str):\n",
    "        return\n",
    "\n",
    "    fname = f\"{outdir}/{blake2b(url.encode(), digest_size=15).hexdigest()}\"\n",
    "\n",
    "    if os.path.exists(fname):\n",
    "        return fname\n",
    "\n",
    "    # # algunos archivos requieren acceso, otros estan corruptos\n",
    "    # cmd = f\"gdown --fuzzy -q --continue -O {fname} {url}\"\n",
    "    try:\n",
    "        pass\n",
    "        # fname = gdown.download(url, fname, quiet=False, fuanon_tfidfzzy=True, resume=True)\n",
    "        # output = subprocess.getoutput(cmd)\n",
    "    except:\n",
    "        return\n",
    "\n",
    "    # if \"Access denied\" in output:\n",
    "    # return\n",
    "\n",
    "    return fname\n",
    "\n",
    "\n",
    "parallel = Parallel(n_jobs=50, backend=\"threading\")\n",
    "get_file_ = delayed(get_file)\n",
    "path = parallel(get_file_(url) for url in tqdm(x[\"link\"]))"
   ]
  },
  {
   "cell_type": "code",
   "execution_count": null,
   "metadata": {},
   "outputs": [],
   "source": [
    "x[\"anonymized_path\"] = path"
   ]
  },
  {
   "cell_type": "code",
   "execution_count": null,
   "metadata": {},
   "outputs": [],
   "source": [
    "x.sample(5)"
   ]
  },
  {
   "cell_type": "code",
   "execution_count": null,
   "metadata": {},
   "outputs": [],
   "source": [
    "x[\"anonymized_path\"].notna().sum(), x[\"anonymized_path\"].isna().sum()"
   ]
  },
  {
   "cell_type": "code",
   "execution_count": null,
   "metadata": {},
   "outputs": [],
   "source": [
    "x.dropna(subset=[\"anonymized_path\"]).groupby(x[\"fecha_resolucion\"].dt.to_period(\"Y\"))[\"anonymized_path\"].count()"
   ]
  },
  {
   "cell_type": "code",
   "execution_count": null,
   "metadata": {},
   "outputs": [],
   "source": [
    "x[\"original_path\"].notna().sum(), x[\"original_path\"].isna().sum()"
   ]
  },
  {
   "cell_type": "code",
   "execution_count": null,
   "metadata": {},
   "outputs": [],
   "source": [
    "x.dropna(subset=[\"original_path\"]).groupby(x[\"fecha_resolucion\"].dt.to_period(\"Y\"))[\"original_path\"].count()"
   ]
  },
  {
   "cell_type": "code",
   "execution_count": null,
   "metadata": {},
   "outputs": [],
   "source": [
    "# 2021 - 2022, con versión anonimizada y sin versión original\n",
    "mask = (\n",
    "    (x[\"fecha_resolucion\"].dt.to_period(\"Y\") >= \"2021\")\n",
    "    & (x[\"fecha_resolucion\"].dt.to_period(\"Y\") <= \"2022\")\n",
    "    & (x[\"anonymized_path\"].notna())\n",
    "    & (x[\"original_path\"].isna())\n",
    ")\n",
    "x = x.loc[mask]\n",
    "x"
   ]
  },
  {
   "cell_type": "code",
   "execution_count": null,
   "metadata": {},
   "outputs": [],
   "source": [
    "x.groupby(x[\"fecha_resolucion\"].dt.to_period(\"Y\"))[\"anonymized_path\"].count()"
   ]
  },
  {
   "cell_type": "code",
   "execution_count": null,
   "metadata": {},
   "outputs": [],
   "source": [
    "import textract\n",
    "\n",
    "IA2_START_DATE = pd.to_datetime(\"01/01/2021\")\n",
    "\n",
    "\n",
    "def load_doc(path: str):\n",
    "    doc = textract.process(path, extension=\"odt\")\n",
    "    return doc.decode(\"utf-8\")\n",
    "\n",
    "\n",
    "def ia2(row):\n",
    "    path = row[\"anonymized_path\"]\n",
    "    date = row[\"fecha_resolucion\"]\n",
    "    if date < IA2_START_DATE:\n",
    "        return False\n",
    "    try:\n",
    "        doc = load_doc(path)\n",
    "    except Exception as e:\n",
    "        return False\n",
    "    return \"XX\" not in doc"
   ]
  },
  {
   "cell_type": "code",
   "execution_count": null,
   "metadata": {},
   "outputs": [],
   "source": [
    "x[\"ia2\"] = [ia2(row) for i, row in tqdm(x.iterrows())]"
   ]
  },
  {
   "cell_type": "code",
   "execution_count": null,
   "metadata": {},
   "outputs": [],
   "source": [
    "x.query(\"ia2\")[\"fecha_resolucion\"].describe(percentiles=[0.01, 0.05, 0.25, 0.5, 0.75, 0.95, 0.99])"
   ]
  },
  {
   "cell_type": "code",
   "execution_count": null,
   "metadata": {},
   "outputs": [],
   "source": [
    "# Filtro de resoluciones sin versión original pero con versión anonymizada\n",
    "mask &= (x[\"original_path\"].isna()) & (x[\"ia2\"])\n",
    "x = x.loc[mask]\n",
    "x.info()"
   ]
  },
  {
   "cell_type": "code",
   "execution_count": null,
   "metadata": {},
   "outputs": [],
   "source": [
    "x.loc[mask][\"fecha_resolucion\"].describe()"
   ]
  },
  {
   "cell_type": "code",
   "execution_count": null,
   "metadata": {},
   "outputs": [],
   "source": [
    "x[\"anonymized_path\"].count()"
   ]
  },
  {
   "cell_type": "code",
   "execution_count": null,
   "metadata": {},
   "outputs": [],
   "source": [
    "x[\"anonymized_path\"].isna().sum()"
   ]
  },
  {
   "cell_type": "code",
   "execution_count": null,
   "metadata": {},
   "outputs": [],
   "source": [
    "x[\"anonymized_text\"] = x[\"anonymized_path\"].map(load_doc)"
   ]
  },
  {
   "cell_type": "code",
   "execution_count": null,
   "metadata": {},
   "outputs": [],
   "source": [
    "x[[\"anonymized_path\", \"anonymized_text\"]].sample()"
   ]
  },
  {
   "cell_type": "code",
   "execution_count": null,
   "metadata": {},
   "outputs": [],
   "source": [
    "x[\"anonymized_text\"].info()"
   ]
  },
  {
   "cell_type": "code",
   "execution_count": null,
   "metadata": {},
   "outputs": [],
   "source": [
    "from aymurai.text.normalize import document_normalize"
   ]
  },
  {
   "cell_type": "code",
   "execution_count": null,
   "metadata": {},
   "outputs": [],
   "source": [
    "x[\"anonymized_text\"] = x[\"anonymized_text\"].map(text_normalize).map(document_normalize)"
   ]
  },
  {
   "cell_type": "code",
   "execution_count": null,
   "metadata": {},
   "outputs": [],
   "source": [
    "from glob import glob\n",
    "\n",
    "originals = glob(\n",
    "    \"/resources/data/restricted/ar-juz-pcyf-10/RESOLUCIONES DEL JUZGADO/**/**.doc\",\n",
    "    recursive=True,\n",
    ") + glob(\n",
    "    \"/resources/data/restricted/ar-juz-pcyf-10/RESOLUCIONES DEL JUZGADO/**/**.docx\",\n",
    "    recursive=True,\n",
    ")\n",
    "\n",
    "len(originals)"
   ]
  },
  {
   "cell_type": "code",
   "execution_count": null,
   "metadata": {},
   "outputs": [],
   "source": [
    "originals[-5:]"
   ]
  },
  {
   "cell_type": "code",
   "execution_count": null,
   "metadata": {},
   "outputs": [],
   "source": [
    "original_paths = (\n",
    "    metadata[\"original_path\"]\n",
    "    .str.replace(\"/resources/\", \"/resources/data/\")\n",
    "    .str.replace(\"/RESOLUCIONES DEL JUZGADO - DOCS/\", \"/RESOLUCIONES DEL JUZGADO/\")\n",
    "    .unique()\n",
    ")"
   ]
  },
  {
   "cell_type": "code",
   "execution_count": null,
   "metadata": {},
   "outputs": [],
   "source": [
    "originals = [original for original in originals if original not in original_paths]\n",
    "len(originals)"
   ]
  },
  {
   "cell_type": "code",
   "execution_count": null,
   "metadata": {},
   "outputs": [],
   "source": [
    "def load_word_doc(path: str):\n",
    "    try:\n",
    "        doc = (\n",
    "            textract.process(path, extension=\"doc\")\n",
    "            if path.endswith(\".doc\")\n",
    "            else textract.process(path, extension=\"docx\")\n",
    "        )\n",
    "\n",
    "    except:\n",
    "        return\n",
    "\n",
    "    return doc.decode(\"utf-8\")"
   ]
  },
  {
   "cell_type": "code",
   "execution_count": null,
   "metadata": {},
   "outputs": [],
   "source": [
    "original_docs = list(map(load_word_doc, originals))"
   ]
  },
  {
   "cell_type": "code",
   "execution_count": null,
   "metadata": {},
   "outputs": [],
   "source": [
    "for i, doc in enumerate(original_docs):\n",
    "    if not doc:\n",
    "        originals.pop(i)\n",
    "        original_docs.pop(i)"
   ]
  },
  {
   "cell_type": "code",
   "execution_count": null,
   "metadata": {},
   "outputs": [],
   "source": [
    "none_idx = original_docs.index(None)\n",
    "\n",
    "originals.pop(none_idx)\n",
    "original_docs.pop(none_idx)"
   ]
  },
  {
   "cell_type": "code",
   "execution_count": null,
   "metadata": {},
   "outputs": [],
   "source": [
    "original_docs = list(map(text_normalize, original_docs))\n",
    "original_docs = list(map(document_normalize, original_docs))"
   ]
  },
  {
   "cell_type": "code",
   "execution_count": null,
   "metadata": {},
   "outputs": [],
   "source": [
    "from sklearn.feature_extraction.text import TfidfVectorizer\n",
    "\n",
    "\n",
    "tfidf = TfidfVectorizer()\n",
    "anon_tfidf = tfidf.fit_transform(x[\"anonymized_text\"])\n",
    "anon_tfidf"
   ]
  },
  {
   "cell_type": "code",
   "execution_count": null,
   "metadata": {},
   "outputs": [],
   "source": [
    "orig_tfidf = tfidf.transform(original_docs)\n",
    "orig_tfidf"
   ]
  },
  {
   "cell_type": "code",
   "execution_count": null,
   "metadata": {},
   "outputs": [],
   "source": [
    "from sklearn.metrics.pairwise import cosine_similarity"
   ]
  },
  {
   "cell_type": "code",
   "execution_count": null,
   "metadata": {},
   "outputs": [],
   "source": [
    "cosine_similarities = cosine_similarity(anon_tfidf, orig_tfidf)\n",
    "cosine_similarities.shape"
   ]
  },
  {
   "cell_type": "code",
   "execution_count": null,
   "metadata": {},
   "outputs": [],
   "source": [
    "import numpy as np"
   ]
  },
  {
   "cell_type": "code",
   "execution_count": null,
   "metadata": {},
   "outputs": [],
   "source": [
    "np.argmax(cosine_similarities, axis=1)"
   ]
  },
  {
   "cell_type": "code",
   "execution_count": null,
   "metadata": {},
   "outputs": [],
   "source": [
    "print(x[\"anonymized_text\"].iloc[0])"
   ]
  },
  {
   "cell_type": "code",
   "execution_count": null,
   "metadata": {},
   "outputs": [],
   "source": [
    "print(original_docs[2028])"
   ]
  },
  {
   "cell_type": "code",
   "execution_count": null,
   "metadata": {},
   "outputs": [],
   "source": [
    "matching = x[\n",
    "    [\n",
    "        \"nro_registro\",\n",
    "        \"tomo\",\n",
    "        \"fecha_resolucion\",\n",
    "        \"n_expte_eje\",\n",
    "        \"link\",\n",
    "        \"doc.text\",\n",
    "        \"original_path\",\n",
    "        \"anonymized_path\",\n",
    "        \"anonymized_text\",\n",
    "    ]\n",
    "]\n",
    "matching"
   ]
  },
  {
   "cell_type": "code",
   "execution_count": null,
   "metadata": {},
   "outputs": [],
   "source": [
    "matching[\"max_similarity\"] = np.max(cosine_similarities, axis=1)\n",
    "matching"
   ]
  },
  {
   "cell_type": "code",
   "execution_count": null,
   "metadata": {},
   "outputs": [],
   "source": [
    "matching[\"max_similarity\"].describe(percentiles=[0.01, 0.05, 0.25, 0.5, 0.75, 0.95, 0.99])"
   ]
  },
  {
   "cell_type": "code",
   "execution_count": null,
   "metadata": {},
   "outputs": [],
   "source": [
    "matching[\"max_similarity\"].plot(kind=\"hist\", bins=30)"
   ]
  },
  {
   "cell_type": "code",
   "execution_count": null,
   "metadata": {},
   "outputs": [],
   "source": [
    "matching[\"argmax_similarity\"] = np.argmax(cosine_similarities, axis=1)\n",
    "matching"
   ]
  },
  {
   "cell_type": "code",
   "execution_count": null,
   "metadata": {},
   "outputs": [],
   "source": [
    "matching[\"matched_text\"] = matching[\"argmax_similarity\"].map(lambda x: original_docs[x])\n",
    "matching"
   ]
  },
  {
   "cell_type": "code",
   "execution_count": null,
   "metadata": {},
   "outputs": [],
   "source": [
    "matching[\"matched_path\"] = matching[\"argmax_similarity\"].map(lambda x: originals[x])\n",
    "matching"
   ]
  },
  {
   "cell_type": "code",
   "execution_count": null,
   "metadata": {},
   "outputs": [],
   "source": [
    "matching.info()"
   ]
  },
  {
   "cell_type": "code",
   "execution_count": null,
   "metadata": {},
   "outputs": [],
   "source": [
    "q1 = matching[\"max_similarity\"].quantile(0.01)\n",
    "q5 = matching[\"max_similarity\"].quantile(0.05)\n",
    "q25 = matching[\"max_similarity\"].quantile(0.25)\n",
    "q50 = matching[\"max_similarity\"].quantile(0.5)\n",
    "\n",
    "for i, r in matching.query(\"max_similarity > @q25 and max_similarity <= @q50\").iterrows():\n",
    "    print(r[\"max_similarity\"])\n",
    "    print(r[\"matched_text\"])\n",
    "    print(\"=\" * 225)\n",
    "    print(r[\"anonymized_text\"])\n",
    "    print(\"=\" * 225)\n",
    "    print(\"*\" * 225)"
   ]
  },
  {
   "cell_type": "markdown",
   "metadata": {},
   "source": [
    "```\n",
    "# Distribución de similitud de los documentos que tenemos emparejados\n",
    "count    252.000000\n",
    "mean       0.955130\n",
    "std        0.045909\n",
    "min        0.629422\n",
    "1%         0.794987\n",
    "5%         0.883193\n",
    "25%        0.939891\n",
    "50%        0.969540\n",
    "75%        0.984278\n",
    "95%        0.993554\n",
    "99%        0.996443\n",
    "max        0.996680\n",
    "Name: max_similarity, dtype: float64\n",
    "```"
   ]
  },
  {
   "cell_type": "code",
   "execution_count": null,
   "metadata": {},
   "outputs": [],
   "source": [
    "# Tomamos una similitud mayor al percentil 1 de la distriución conocida\n",
    "matching.query(\"max_similarity > 0.795\").describe()"
   ]
  },
  {
   "cell_type": "code",
   "execution_count": null,
   "metadata": {},
   "outputs": [],
   "source": [
    "from scipy import stats\n",
    "\n",
    "percentile = stats.percentileofscore(matching[\"max_similarity\"], 0.795)\n",
    "percentile"
   ]
  },
  {
   "cell_type": "code",
   "execution_count": null,
   "metadata": {},
   "outputs": [],
   "source": [
    "for i, r in matching.query(\"max_similarity > 0.795\").iterrows():\n",
    "    print(r[\"max_similarity\"])\n",
    "    print(r[\"matched_text\"])\n",
    "    print(\"=\" * 225)\n",
    "    print(r[\"anonymized_text\"])\n",
    "    print(\"=\" * 225)\n",
    "    print(\"*\" * 225)"
   ]
  },
  {
   "cell_type": "code",
   "execution_count": null,
   "metadata": {},
   "outputs": [],
   "source": [
    "matching[[\"matched_text\", \"anonymized_path\"]].rename(columns={\"matched_text\": \"doc.text\"})"
   ]
  },
  {
   "cell_type": "code",
   "execution_count": null,
   "metadata": {},
   "outputs": [],
   "source": [
    "from aymurai.utils import alignment\n",
    "\n",
    "# OUTPUT_DIR = \"/resources/data/restricted/anonymization/ia2-aligned\"\n",
    "# os.makedirs(OUTPUT_DIR, exist_ok=True)\n",
    "\n",
    "data = matching.drop(columns=[\"doc.text\"]).rename(columns={\"matched_text\": \"doc.text\"}).copy()\n",
    "mappings = {}\n",
    "\n",
    "for i, row in tqdm(data.iterrows(), total=len(data)):\n",
    "    mapping = alignment.process(row)\n",
    "    mappings[i] = mapping\n",
    "    data.loc[i, \"percentage_matched\"] = (mapping[\"original\"] == mapping[\"anonymized\"]).mean()\n",
    "    # filename = f\"{OUTPUT_DIR}/{row['tomo']}_{row['nro_registro']}.csv\"\n",
    "    # mapping.to_csv(filename)"
   ]
  },
  {
   "cell_type": "code",
   "execution_count": null,
   "metadata": {},
   "outputs": [],
   "source": [
    "data.sample(5)"
   ]
  },
  {
   "cell_type": "code",
   "execution_count": null,
   "metadata": {},
   "outputs": [],
   "source": [
    "data[\"percentage_matched\"].describe(percentiles=[0.01, 0.05, 0.25, 0.5, 0.75, 0.95, 0.99])"
   ]
  },
  {
   "cell_type": "code",
   "execution_count": null,
   "metadata": {},
   "outputs": [],
   "source": [
    "data[\"percentage_matched\"].plot(kind=\"hist\", bins=30)"
   ]
  },
  {
   "cell_type": "code",
   "execution_count": null,
   "metadata": {},
   "outputs": [],
   "source": [
    "data.sort_values(\"percentage_matched\", ascending=False, inplace=True)"
   ]
  },
  {
   "cell_type": "code",
   "execution_count": null,
   "metadata": {},
   "outputs": [],
   "source": [
    "data.head(10)"
   ]
  },
  {
   "cell_type": "code",
   "execution_count": null,
   "metadata": {},
   "outputs": [],
   "source": [
    "data.tail(10)"
   ]
  },
  {
   "cell_type": "code",
   "execution_count": null,
   "metadata": {},
   "outputs": [],
   "source": [
    "data[\"score\"] = data[\"max_similarity\"] * data[\"percentage_matched\"]\n",
    "data[\"score\"].describe(percentiles=[0.01, 0.05, 0.25, 0.5, 0.75, 0.95, 0.99])"
   ]
  },
  {
   "cell_type": "code",
   "execution_count": null,
   "metadata": {},
   "outputs": [],
   "source": [
    "data[\"score\"].plot(kind=\"hist\", bins=30)"
   ]
  },
  {
   "cell_type": "code",
   "execution_count": null,
   "metadata": {},
   "outputs": [],
   "source": [
    "data_filtered = data.query(\"score >= 0.68\")\n",
    "data_filtered.info()"
   ]
  },
  {
   "cell_type": "code",
   "execution_count": null,
   "metadata": {},
   "outputs": [],
   "source": [
    "data_filtered[\"percentage_matched\"].describe(percentiles=[0.01, 0.05, 0.25, 0.5, 0.75, 0.95, 0.99])"
   ]
  },
  {
   "cell_type": "code",
   "execution_count": null,
   "metadata": {},
   "outputs": [],
   "source": [
    "np.random.choice(data_filtered.index)"
   ]
  },
  {
   "cell_type": "code",
   "execution_count": null,
   "metadata": {},
   "outputs": [],
   "source": [
    "from IPython.display import HTML\n",
    "\n",
    "rnd_idx = np.random.choice(data_filtered.index)\n",
    "\n",
    "print(data_filtered.loc[rnd_idx, \"doc.text\"])\n",
    "\n",
    "HTML(mappings[rnd_idx].to_html())"
   ]
  }
 ],
 "metadata": {
  "kernelspec": {
   "display_name": "Python 3",
   "language": "python",
   "name": "python3"
  },
  "language_info": {
   "codemirror_mode": {
    "name": "ipython",
    "version": 3
   },
   "file_extension": ".py",
   "mimetype": "text/x-python",
   "name": "python",
   "nbconvert_exporter": "python",
   "pygments_lexer": "ipython3",
   "version": "3.10.6"
  }
 },
 "nbformat": 4,
 "nbformat_minor": 2
}
