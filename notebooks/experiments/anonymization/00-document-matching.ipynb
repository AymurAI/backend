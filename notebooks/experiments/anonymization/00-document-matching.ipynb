{
 "cells": [
  {
   "cell_type": "code",
   "execution_count": null,
   "metadata": {},
   "outputs": [],
   "source": [
    "%load_ext autoreload\n",
    "%autoreload 2"
   ]
  },
  {
   "cell_type": "code",
   "execution_count": null,
   "metadata": {},
   "outputs": [],
   "source": [
    "import srsly\n",
    "import pandas as pd\n",
    "from tqdm.auto import tqdm\n",
    "\n",
    "tqdm.pandas()"
   ]
  },
  {
   "cell_type": "code",
   "execution_count": null,
   "metadata": {},
   "outputs": [],
   "source": [
    "public = pd.read_csv(\n",
    "    \"/workspace/resources/data/dump-20230630/set_de_datos_con_perspectiva_de_genero.csv\"\n",
    ")\n",
    "\n",
    "public.dropna(subset=[\"NRO_REGISTRO\", \"TOMO\", \"FECHA_RESOLUCION\"], inplace=True)\n",
    "public.rename(columns={c: c.lower() for c in public.columns}, inplace=True)\n",
    "\n",
    "public[\"tomo\"] = public[\"tomo\"].astype(int)\n",
    "\n",
    "\n",
    "def fix_date(text: str):\n",
    "    date = text.split(\"_\")\n",
    "    # print(date)\n",
    "    if len(date) != 3:\n",
    "        return\n",
    "\n",
    "    for i, num in enumerate(date):\n",
    "        num = int(num)\n",
    "        date[i] = f\"{num:02.0f}\"\n",
    "    try:\n",
    "        return pd.to_datetime(\"/\".join(date))\n",
    "    except:\n",
    "        return\n",
    "\n",
    "\n",
    "public[\"fecha_resolucion\"] = [\n",
    "    fix_date(date) for date in tqdm(public[\"fecha_resolucion\"])\n",
    "]\n",
    "\n",
    "public"
   ]
  },
  {
   "cell_type": "code",
   "execution_count": null,
   "metadata": {},
   "outputs": [],
   "source": [
    "public.info()"
   ]
  },
  {
   "cell_type": "code",
   "execution_count": null,
   "metadata": {},
   "outputs": [],
   "source": [
    "from aymurai.datasets.ar_juz_pcyf_10.annotations import (\n",
    "    ArgentinaJuzgadoPCyF10LabelStudioAnnotations,\n",
    ")\n",
    "\n",
    "annotations = ArgentinaJuzgadoPCyF10LabelStudioAnnotations(\n",
    "    \"/workspace/resources/annotations\"\n",
    ")"
   ]
  },
  {
   "cell_type": "code",
   "execution_count": null,
   "metadata": {},
   "outputs": [],
   "source": [
    "from aymurai.utils.misc import get_element\n",
    "\n",
    "\n",
    "def text_normalize(text: str):\n",
    "    text = text.replace(\"\\/\", \"/\")\n",
    "    return text\n",
    "\n",
    "\n",
    "metadata = pd.DataFrame(\n",
    "    [\n",
    "        x[\"metadata\"]\n",
    "        | x[\"data\"]\n",
    "        | {\n",
    "            \"original_path\": x[\"path\"],\n",
    "            \"conll\": get_element(x, levels=[\"annotations\", \"conll\"]),\n",
    "        }\n",
    "        for x in annotations.data\n",
    "    ]\n",
    ")\n",
    "metadata.dropna(subset=[\"tomo\"], inplace=True)\n",
    "metadata = metadata[metadata[\"tomo\"].str.isnumeric()]\n",
    "metadata[\"tomo\"] = metadata[\"tomo\"].astype(int)\n",
    "metadata[\"original_path\"] = metadata[\"original_path\"].apply(text_normalize)\n",
    "metadata[\"doc.text\"] = metadata[\"doc.text\"].apply(text_normalize)\n",
    "\n",
    "# metadata['tomo'] = metadata['tomo'].astype(int)\n",
    "metadata.drop_duplicates([\"tomo\", \"nro_registro\"], inplace=True)\n",
    "metadata"
   ]
  },
  {
   "cell_type": "code",
   "execution_count": null,
   "metadata": {},
   "outputs": [],
   "source": [
    "# Left join\n",
    "x = pd.merge(public, metadata, on=[\"nro_registro\", \"tomo\"], how=\"left\")\n",
    "x.drop_duplicates([\"tomo\", \"nro_registro\"], inplace=True)\n",
    "x.info()"
   ]
  },
  {
   "cell_type": "code",
   "execution_count": null,
   "metadata": {},
   "outputs": [],
   "source": [
    "x.sample(5)"
   ]
  },
  {
   "cell_type": "code",
   "execution_count": null,
   "metadata": {},
   "outputs": [],
   "source": [
    "x[\"link\"].notna().sum()"
   ]
  },
  {
   "cell_type": "code",
   "execution_count": null,
   "metadata": {},
   "outputs": [],
   "source": [
    "x.groupby(x[\"fecha_resolucion\"].dt.to_period(\"Y\"))[\"link\"].count()"
   ]
  },
  {
   "cell_type": "code",
   "execution_count": null,
   "metadata": {},
   "outputs": [],
   "source": [
    "x.dropna(subset=[\"original_path\"]).groupby(x[\"fecha_resolucion\"].dt.to_period(\"Y\"))[\n",
    "    \"original_path\"\n",
    "].count()"
   ]
  },
  {
   "cell_type": "code",
   "execution_count": null,
   "metadata": {},
   "outputs": [],
   "source": [
    "import os\n",
    "import gdown\n",
    "import subprocess\n",
    "from hashlib import blake2b\n",
    "from tqdm.auto import tqdm\n",
    "from joblib import Parallel, delayed\n",
    "\n",
    "tqdm.pandas()\n",
    "\n",
    "outdir = \"/resources/data/documents\"\n",
    "os.makedirs(outdir, exist_ok=True)\n",
    "\n",
    "\n",
    "def get_file(url: str):\n",
    "    if not isinstance(url, str):\n",
    "        return\n",
    "\n",
    "    fname = f\"{outdir}/{blake2b(url.encode(), digest_size=15).hexdigest()}\"\n",
    "\n",
    "    if os.path.exists(fname):\n",
    "        return fname\n",
    "\n",
    "    # # algunos archivos requieren acceso, otros estan corruptos\n",
    "    # cmd = f\"gdown --fuzzy -q --continue -O {fname} {url}\"\n",
    "    try:\n",
    "        pass\n",
    "        # fname = gdown.download(url, fname, quiet=False, fuanon_tfidfzzy=True, resume=True)\n",
    "        # output = subprocess.getoutput(cmd)\n",
    "    except:\n",
    "        return\n",
    "\n",
    "    # if \"Access denied\" in output:\n",
    "    # return\n",
    "\n",
    "    return fname\n",
    "\n",
    "\n",
    "parallel = Parallel(n_jobs=50, backend=\"threading\")\n",
    "get_file_ = delayed(get_file)\n",
    "path = parallel(get_file_(url) for url in tqdm(x[\"link\"]))"
   ]
  },
  {
   "cell_type": "code",
   "execution_count": null,
   "metadata": {},
   "outputs": [],
   "source": [
    "x[\"anonymized_path\"] = path"
   ]
  },
  {
   "cell_type": "code",
   "execution_count": null,
   "metadata": {},
   "outputs": [],
   "source": [
    "x.sample(5)"
   ]
  },
  {
   "cell_type": "code",
   "execution_count": null,
   "metadata": {},
   "outputs": [],
   "source": [
    "x[\"anonymized_path\"].notna().sum(), x[\"anonymized_path\"].isna().sum()"
   ]
  },
  {
   "cell_type": "code",
   "execution_count": null,
   "metadata": {},
   "outputs": [],
   "source": [
    "x.dropna(subset=[\"anonymized_path\"]).groupby(x[\"fecha_resolucion\"].dt.to_period(\"Y\"))[\n",
    "    \"anonymized_path\"\n",
    "].count()"
   ]
  },
  {
   "cell_type": "code",
   "execution_count": null,
   "metadata": {},
   "outputs": [],
   "source": [
    "x[\"original_path\"].notna().sum(), x[\"original_path\"].isna().sum()"
   ]
  },
  {
   "cell_type": "code",
   "execution_count": null,
   "metadata": {},
   "outputs": [],
   "source": [
    "x.dropna(subset=[\"original_path\"]).groupby(x[\"fecha_resolucion\"].dt.to_period(\"Y\"))[\n",
    "    \"original_path\"\n",
    "].count()"
   ]
  },
  {
   "cell_type": "code",
   "execution_count": null,
   "metadata": {},
   "outputs": [],
   "source": [
    "# 2021 - 2022, con versión anonimizada y sin versión original\n",
    "mask = (\n",
    "    (x[\"fecha_resolucion\"].dt.to_period(\"Y\") >= \"2021\")\n",
    "    & (x[\"fecha_resolucion\"].dt.to_period(\"Y\") <= \"2022\")\n",
    "    & (x[\"anonymized_path\"].notna())\n",
    "    & (x[\"original_path\"].isna())\n",
    ")\n",
    "x = x.loc[mask]\n",
    "x"
   ]
  },
  {
   "cell_type": "code",
   "execution_count": null,
   "metadata": {},
   "outputs": [],
   "source": [
    "x.groupby(x[\"fecha_resolucion\"].dt.to_period(\"Y\"))[\"anonymized_path\"].count()"
   ]
  },
  {
   "cell_type": "code",
   "execution_count": null,
   "metadata": {},
   "outputs": [],
   "source": [
    "import textract\n",
    "\n",
    "IA2_START_DATE = pd.to_datetime(\"01/01/2021\")\n",
    "\n",
    "\n",
    "def load_doc(path: str):\n",
    "    doc = textract.process(path, extension=\"odt\")\n",
    "    return doc.decode(\"utf-8\")\n",
    "\n",
    "\n",
    "def ia2(row):\n",
    "    path = row[\"anonymized_path\"]\n",
    "    date = row[\"fecha_resolucion\"]\n",
    "    if date < IA2_START_DATE:\n",
    "        return False\n",
    "    try:\n",
    "        doc = load_doc(path)\n",
    "    except Exception as e:\n",
    "        return False\n",
    "    return \"XX\" not in doc"
   ]
  },
  {
   "cell_type": "code",
   "execution_count": null,
   "metadata": {},
   "outputs": [],
   "source": [
    "x[\"ia2\"] = [ia2(row) for i, row in tqdm(x.iterrows())]"
   ]
  },
  {
   "cell_type": "code",
   "execution_count": null,
   "metadata": {},
   "outputs": [],
   "source": [
    "x.query(\"ia2\")[\"fecha_resolucion\"].describe(\n",
    "    percentiles=[0.01, 0.05, 0.25, 0.5, 0.75, 0.95, 0.99]\n",
    ")"
   ]
  },
  {
   "cell_type": "code",
   "execution_count": null,
   "metadata": {},
   "outputs": [],
   "source": [
    "# Filtro de resoluciones sin versión original pero con versión anonimizada\n",
    "mask &= (x[\"original_path\"].isna()) & (x[\"ia2\"])\n",
    "x = x.loc[mask]\n",
    "x.info()"
   ]
  },
  {
   "cell_type": "code",
   "execution_count": null,
   "metadata": {},
   "outputs": [],
   "source": [
    "x.loc[mask][\"fecha_resolucion\"].describe()"
   ]
  },
  {
   "cell_type": "code",
   "execution_count": null,
   "metadata": {},
   "outputs": [],
   "source": [
    "x[\"anonymized_path\"].count()"
   ]
  },
  {
   "cell_type": "code",
   "execution_count": null,
   "metadata": {},
   "outputs": [],
   "source": [
    "x[\"anonymized_path\"].isna().sum()"
   ]
  },
  {
   "cell_type": "code",
   "execution_count": null,
   "metadata": {},
   "outputs": [],
   "source": [
    "x[\"anonymized_text\"] = x[\"anonymized_path\"].map(load_doc)"
   ]
  },
  {
   "cell_type": "code",
   "execution_count": null,
   "metadata": {},
   "outputs": [],
   "source": [
    "x[[\"anonymized_path\", \"anonymized_text\"]].sample()"
   ]
  },
  {
   "cell_type": "code",
   "execution_count": null,
   "metadata": {},
   "outputs": [],
   "source": [
    "x[\"anonymized_text\"].info()"
   ]
  },
  {
   "cell_type": "code",
   "execution_count": null,
   "metadata": {},
   "outputs": [],
   "source": [
    "from aymurai.text.normalize import document_normalize"
   ]
  },
  {
   "cell_type": "code",
   "execution_count": null,
   "metadata": {},
   "outputs": [],
   "source": [
    "x[\"anonymized_text\"] = x[\"anonymized_text\"].map(text_normalize).map(document_normalize)"
   ]
  },
  {
   "cell_type": "code",
   "execution_count": null,
   "metadata": {},
   "outputs": [],
   "source": [
    "from glob import glob\n",
    "from aymurai.text.extraction import extract_document\n",
    "\n",
    "BASEPATH = \"/resources/data/restricted/ar-juz-pcyf-10/RESOLUCIONES DEL JUZGADO\"\n",
    "original = glob(f\"{BASEPATH}/**/**.doc\", recursive=True)\n",
    "original += glob(f\"{BASEPATH}/**/**.docx\", recursive=True)\n",
    "\n",
    "\n",
    "already_matched_files = (\n",
    "    metadata[\"original_path\"]\n",
    "    .str.replace(\"/resources/\", \"/resources/data/\")\n",
    "    .str.replace(\"/RESOLUCIONES DEL JUZGADO - DOCS/\", \"/RESOLUCIONES DEL JUZGADO/\")\n",
    "    .unique()\n",
    ")\n",
    "\n",
    "original = list(set(original) - set(already_matched_files))\n",
    "\n",
    "print(\"anonimyzed available:\", len(x))\n",
    "print(\"already matched files:\", len(already_matched_files))\n",
    "print(\"need to be matched:\", len(original))\n",
    "\n",
    "# convert to dataframe to easier usage\n",
    "original = pd.DataFrame(dict(path=original))\n",
    "original[\"text\"] = original[\"path\"].progress_apply(extract_document)\n",
    "original.dropna(subset=[\"text\"], inplace=True)\n",
    "\n",
    "original[\"text\"] = original[\"text\"].apply(text_normalize)\n",
    "original[\"text\"] = original[\"text\"].apply(document_normalize)\n",
    "\n",
    "original.reset_index(inplace=True)\n",
    "print(\"need to be matched and available:\", len(original))\n",
    "original.sample(5)"
   ]
  },
  {
   "cell_type": "code",
   "execution_count": null,
   "metadata": {},
   "outputs": [],
   "source": [
    "from sklearn.feature_extraction.text import TfidfVectorizer\n",
    "from sklearn.metrics.pairwise import cosine_similarity\n",
    "import numpy as np\n",
    "\n",
    "\n",
    "tfidf = TfidfVectorizer()\n",
    "anon_tfidf = tfidf.fit_transform(x[\"anonymized_text\"])\n",
    "anon_tfidf"
   ]
  },
  {
   "cell_type": "code",
   "execution_count": null,
   "metadata": {},
   "outputs": [],
   "source": [
    "orig_tfidf = tfidf.transform(original[\"text\"])\n",
    "orig_tfidf"
   ]
  },
  {
   "cell_type": "code",
   "execution_count": null,
   "metadata": {},
   "outputs": [],
   "source": [
    "cosine_similarities = cosine_similarity(anon_tfidf, orig_tfidf)\n",
    "cosine_similarities.shape"
   ]
  },
  {
   "cell_type": "code",
   "execution_count": null,
   "metadata": {},
   "outputs": [],
   "source": [
    "match_indices = np.argmax(cosine_similarities, axis=1)\n",
    "match_indices"
   ]
  },
  {
   "cell_type": "code",
   "execution_count": null,
   "metadata": {},
   "outputs": [],
   "source": [
    "import random\n",
    "\n",
    "idx = random.choice(range(len(match_indices)))\n",
    "match_idx = match_indices[idx]\n",
    "\n",
    "print(\"anonymized:\", x.iloc[idx][\"anonymized_path\"])\n",
    "print(\"-\" * 80)\n",
    "print(x.iloc[idx][\"anonymized_text\"][:600])\n",
    "\n",
    "print(\"=\" * 80)\n",
    "print(\"original:\", original.loc[match_idx, \"path\"])\n",
    "print(\"-\" * 80)\n",
    "print(original.loc[match_idx, \"text\"][:600])"
   ]
  },
  {
   "cell_type": "code",
   "execution_count": null,
   "metadata": {},
   "outputs": [],
   "source": [
    "matching = x[\n",
    "    [\n",
    "        \"nro_registro\",\n",
    "        \"tomo\",\n",
    "        \"fecha_resolucion\",\n",
    "        \"n_expte_eje\",\n",
    "        \"link\",\n",
    "        \"doc.text\",\n",
    "        \"original_path\",\n",
    "        \"anonymized_path\",\n",
    "        \"anonymized_text\",\n",
    "    ]\n",
    "]\n",
    "matching.sample(5)"
   ]
  },
  {
   "cell_type": "code",
   "execution_count": null,
   "metadata": {},
   "outputs": [],
   "source": [
    "match_indices = np.argmax(cosine_similarities, axis=1)\n",
    "match_scores = np.max(cosine_similarities, axis=1)\n",
    "\n",
    "matching[\"tfidf_score\"] = match_scores\n",
    "matching[\"matching_path\"] = original.loc[match_indices, \"path\"].values\n",
    "matching[\"matching_text\"] = original.loc[match_indices, \"text\"].values\n",
    "\n",
    "matching.sample(5)"
   ]
  },
  {
   "cell_type": "code",
   "execution_count": null,
   "metadata": {},
   "outputs": [],
   "source": [
    "matching[\"tfidf_score\"].describe(percentiles=[0.01, 0.05, 0.25, 0.5, 0.75, 0.95, 0.99])"
   ]
  },
  {
   "cell_type": "code",
   "execution_count": null,
   "metadata": {},
   "outputs": [],
   "source": [
    "matching[\"tfidf_score\"].plot(kind=\"hist\", bins=30)"
   ]
  },
  {
   "cell_type": "code",
   "execution_count": null,
   "metadata": {},
   "outputs": [],
   "source": [
    "matching.info()"
   ]
  },
  {
   "cell_type": "code",
   "execution_count": null,
   "metadata": {},
   "outputs": [],
   "source": [
    "q1 = matching[\"tfidf_score\"].quantile(0.01)\n",
    "q5 = matching[\"tfidf_score\"].quantile(0.05)\n",
    "q25 = matching[\"tfidf_score\"].quantile(0.25)\n",
    "q50 = matching[\"tfidf_score\"].quantile(0.5)\n",
    "\n",
    "for i, r in matching.query(\"tfidf_score > @q25 and tfidf_score <= @q50\").iterrows():\n",
    "    print(r[\"tfidf_score\"])\n",
    "    print(r[\"matching_text\"])\n",
    "    print(\"=\" * 225)\n",
    "    print(r[\"anonymized_text\"])\n",
    "    print(\"=\" * 225)\n",
    "    print(\"*\" * 225)"
   ]
  },
  {
   "attachments": {},
   "cell_type": "markdown",
   "metadata": {},
   "source": [
    "```\n",
    "# Distribución de similitud de los documentos que tenemos emparejados\n",
    "count    252.000000\n",
    "mean       0.955130\n",
    "std        0.045909\n",
    "min        0.629422\n",
    "1%         0.794987\n",
    "5%         0.883193\n",
    "25%        0.939891\n",
    "50%        0.969540\n",
    "75%        0.984278\n",
    "95%        0.993554\n",
    "99%        0.996443\n",
    "max        0.996680\n",
    "Name: max_similarity, dtype: float64\n",
    "```"
   ]
  },
  {
   "cell_type": "code",
   "execution_count": null,
   "metadata": {},
   "outputs": [],
   "source": [
    "# Tomamos una similitud mayor al percentil 1 de la distriución conocida\n",
    "matching.query(\"tfidf_score > 0.795\").describe()"
   ]
  },
  {
   "cell_type": "code",
   "execution_count": null,
   "metadata": {},
   "outputs": [],
   "source": [
    "from scipy import stats\n",
    "\n",
    "percentile = stats.percentileofscore(matching[\"tfidf_score\"], 0.795)\n",
    "percentile"
   ]
  },
  {
   "cell_type": "code",
   "execution_count": null,
   "metadata": {},
   "outputs": [],
   "source": [
    "for i, r in matching.query(\"tfidf_score > 0.795\").iterrows():\n",
    "    print(r[\"tfidf_score\"])\n",
    "    print(r[\"matching_text\"])\n",
    "    print(\"=\" * 225)\n",
    "    print(r[\"anonymized_text\"])\n",
    "    print(\"=\" * 225)\n",
    "    print(\"*\" * 225)"
   ]
  },
  {
   "cell_type": "code",
   "execution_count": null,
   "metadata": {},
   "outputs": [],
   "source": [
    "matching.dropna(axis=1)"
   ]
  },
  {
   "cell_type": "code",
   "execution_count": null,
   "metadata": {},
   "outputs": [],
   "source": [
    "import os\n",
    "import re\n",
    "from aymurai.utils import alignment\n",
    "from collections import Counter\n",
    "\n",
    "\n",
    "OUTPUT_DIR = \"/resources/data/restricted/anonymization\"\n",
    "os.makedirs(OUTPUT_DIR, exist_ok=True)\n",
    "\n",
    "labels = Counter()\n",
    "for i, row in tqdm(matching.iterrows(), total=len(matching)):\n",
    "    original_path = row[\"matching_path\"]\n",
    "    anonymized_path = row[\"anonymized_path\"]\n",
    "\n",
    "    mapping = alignment.align_docs(\n",
    "        original_path,\n",
    "        anonymized_path,\n",
    "        columns=(\"original\", \"anonymized\"),\n",
    "        target_preprocess=alignment.ia2.ia2_text_preprocess,\n",
    "    )\n",
    "\n",
    "    # alignment_score\n",
    "    diff = mapping[\"original\"] != mapping[\"anonymized\"]\n",
    "    alignment_score = (~diff).mean()\n",
    "    matching.loc[i, \"alignment_score\"] = alignment_score\n",
    "\n",
    "    # matching score\n",
    "    matching_score = alignment_score * row[\"tfidf_score\"]\n",
    "    matching.loc[i, \"matching_score\"] = matching_score\n",
    "\n",
    "    # export alignment\n",
    "    filename = f\"{OUTPUT_DIR}/alignment/{row['tomo']}_{row['nro_registro']}.csv\"\n",
    "    os.makedirs(os.path.dirname(filename), exist_ok=True)\n",
    "    matching.loc[i, \"alignment_path\"] = filename\n",
    "    mapping.to_csv(filename, index=False)\n",
    "\n",
    "    diff_text = \"\".join(mapping.loc[diff, \"anonymized\"])\n",
    "    labels_ = re.findall(r\"<\\w+>\", diff_text)\n",
    "    labels_ = [alignment.ia2.normalize(label) for label in labels_]\n",
    "    labels += Counter(labels_)"
   ]
  },
  {
   "cell_type": "code",
   "execution_count": null,
   "metadata": {},
   "outputs": [],
   "source": [
    "IA2_LABELS = pd.DataFrame(labels.items(), columns=[\"label\", \"count\"])\n",
    "IA2_LABELS.to_csv(f\"{OUTPUT_DIR}/ia2_labels.csv\", index=False)"
   ]
  },
  {
   "cell_type": "code",
   "execution_count": null,
   "metadata": {},
   "outputs": [],
   "source": [
    "drop_columns = [\"doc.text\", \"matching_text\", \"anonymized_text\"]\n",
    "output = matching.drop(drop_columns, axis=1).dropna(axis=1, how=\"all\")"
   ]
  },
  {
   "cell_type": "code",
   "execution_count": null,
   "metadata": {},
   "outputs": [],
   "source": [
    "from aymurai.utils.display.pandas import pandas_context\n",
    "from rich.pretty import pprint\n",
    "\n",
    "options = {\n",
    "    \"display.max_rows\": 500,\n",
    "    \"display.max_columns\": 500,\n",
    "    \"display.width\": 0,\n",
    "    \"display.max_rows\": None,\n",
    "}\n",
    "\n",
    "example = output.sample(1).to_dict(\"records\")[0]\n",
    "mapping = pd.read_csv(example[\"alignment_path\"])\n",
    "pprint(example)\n",
    "\n",
    "with pandas_context(**options):\n",
    "    display(mapping)"
   ]
  },
  {
   "cell_type": "code",
   "execution_count": null,
   "metadata": {},
   "outputs": [],
   "source": [
    "output.sample(5)"
   ]
  },
  {
   "cell_type": "code",
   "execution_count": null,
   "metadata": {},
   "outputs": [],
   "source": [
    "output[\"matching_score\"].describe(percentiles=[0.01, 0.05, 0.25, 0.5, 0.75, 0.95, 0.99])"
   ]
  },
  {
   "cell_type": "code",
   "execution_count": null,
   "metadata": {},
   "outputs": [],
   "source": [
    "output[\"matching_score\"].plot(kind=\"hist\", bins=30)"
   ]
  },
  {
   "cell_type": "code",
   "execution_count": null,
   "metadata": {},
   "outputs": [],
   "source": [
    "output.sort_values(\"matching_score\", ascending=False, inplace=True)"
   ]
  },
  {
   "cell_type": "code",
   "execution_count": null,
   "metadata": {},
   "outputs": [],
   "source": [
    "output.head(5)"
   ]
  },
  {
   "cell_type": "code",
   "execution_count": null,
   "metadata": {},
   "outputs": [],
   "source": [
    "output.tail(5)"
   ]
  },
  {
   "cell_type": "code",
   "execution_count": null,
   "metadata": {},
   "outputs": [],
   "source": [
    "data_filtered = output.query(\"matching_score >= 0.75\")\n",
    "data_filtered.info()"
   ]
  },
  {
   "cell_type": "code",
   "execution_count": null,
   "metadata": {},
   "outputs": [],
   "source": [
    "data_filtered[\"matching_score\"].describe(\n",
    "    percentiles=[0.01, 0.05, 0.25, 0.5, 0.75, 0.95, 0.99]\n",
    ")"
   ]
  },
  {
   "cell_type": "code",
   "execution_count": null,
   "metadata": {},
   "outputs": [],
   "source": [
    "data_filtered.to_csv(f\"{OUTPUT_DIR}/matching.csv\", index=False)"
   ]
  },
  {
   "cell_type": "code",
   "execution_count": null,
   "metadata": {},
   "outputs": [],
   "source": [
    "matching"
   ]
  },
  {
   "cell_type": "code",
   "execution_count": null,
   "metadata": {},
   "outputs": [],
   "source": []
  }
 ],
 "metadata": {
  "kernelspec": {
   "display_name": "Python 3",
   "language": "python",
   "name": "python3"
  },
  "language_info": {
   "codemirror_mode": {
    "name": "ipython",
    "version": 3
   },
   "file_extension": ".py",
   "mimetype": "text/x-python",
   "name": "python",
   "nbconvert_exporter": "python",
   "pygments_lexer": "ipython3",
   "version": "3.10.6"
  }
 },
 "nbformat": 4,
 "nbformat_minor": 2
}
