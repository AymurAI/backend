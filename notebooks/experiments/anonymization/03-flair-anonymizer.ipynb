{
 "cells": [
  {
   "cell_type": "code",
   "execution_count": null,
   "metadata": {
    "id": "QglVHJs1vPcY"
   },
   "outputs": [],
   "source": [
    "import flair, random, torch\n",
    "\n",
    "from flair.data import Corpus, Sentence\n",
    "from flair.datasets import ColumnCorpus\n",
    "from flair.embeddings import (\n",
    "    FlairEmbeddings,\n",
    "    TransformerWordEmbeddings,\n",
    "    StackedEmbeddings,\n",
    ")\n",
    "from flair.models import SequenceTagger\n",
    "from torch.optim.lr_scheduler import OneCycleLR\n",
    "from flair.tokenization import SpaceTokenizer\n",
    "from flair.trainers import ModelTrainer\n",
    "from flair.visual.training_curves import Plotter\n",
    "\n",
    "\n",
    "flair.device = torch.device(\"cuda\")\n",
    "torch.cuda.is_available()"
   ]
  },
  {
   "cell_type": "markdown",
   "metadata": {
    "tags": []
   },
   "source": [
    "## Prepare dataset"
   ]
  },
  {
   "cell_type": "code",
   "execution_count": null,
   "metadata": {},
   "outputs": [],
   "source": [
    "# define columns\n",
    "columns = {0: \"text\", 1: \"ner\"}\n",
    "\n",
    "# this is the folder in which train, test and dev files reside\n",
    "data_folder = \"/resources/data/restricted/anonymization/\"\n",
    "\n",
    "# 1. init a corpus using column format, data folder and the names of the train, dev and test files\n",
    "corpus = ColumnCorpus(\n",
    "    data_folder,\n",
    "    columns,\n",
    "    train_file=\"train.txt\",\n",
    "    test_file=\"test.txt\",\n",
    "    dev_file=\"dev.txt\",\n",
    ")"
   ]
  },
  {
   "cell_type": "code",
   "execution_count": null,
   "metadata": {},
   "outputs": [],
   "source": [
    "for i in range(10):\n",
    "    print(corpus.train[i])"
   ]
  },
  {
   "cell_type": "code",
   "execution_count": null,
   "metadata": {},
   "outputs": [],
   "source": [
    "for i in range(10):\n",
    "    print(corpus.dev[i])"
   ]
  },
  {
   "cell_type": "code",
   "execution_count": null,
   "metadata": {},
   "outputs": [],
   "source": [
    "for i in range(10):\n",
    "    print(corpus.test[i])"
   ]
  },
  {
   "cell_type": "code",
   "execution_count": null,
   "metadata": {
    "id": "n3pcclDsvvCy"
   },
   "outputs": [],
   "source": [
    "# 2. what label do we want to predict?\n",
    "label_type = \"ner\""
   ]
  },
  {
   "cell_type": "code",
   "execution_count": null,
   "metadata": {
    "colab": {
     "base_uri": "https://localhost:8080/"
    },
    "id": "wKInRC_kvwS6",
    "outputId": "a5b76927-50ff-4c5a-a832-c0cceb04ab7f"
   },
   "outputs": [],
   "source": [
    "# 3. make the label dictionary from the corpus\n",
    "vocab_dictionary = corpus.make_vocab_dictionary()\n",
    "print(vocab_dictionary)"
   ]
  },
  {
   "cell_type": "code",
   "execution_count": null,
   "metadata": {
    "colab": {
     "base_uri": "https://localhost:8080/"
    },
    "id": "wKInRC_kvwS6",
    "outputId": "a5b76927-50ff-4c5a-a832-c0cceb04ab7f"
   },
   "outputs": [],
   "source": [
    "# 4. make the vocab dictionary from the corpus\n",
    "label_dictionary = corpus.make_label_dictionary(label_type=label_type, add_unk=True)"
   ]
  },
  {
   "cell_type": "code",
   "execution_count": null,
   "metadata": {
    "tags": []
   },
   "outputs": [],
   "source": [
    "print(corpus.obtain_statistics())"
   ]
  },
  {
   "cell_type": "code",
   "execution_count": null,
   "metadata": {},
   "outputs": [],
   "source": [
    "import pandas as pd\n",
    "from ast import literal_eval\n",
    "\n",
    "stats = literal_eval(corpus.obtain_statistics())"
   ]
  },
  {
   "cell_type": "code",
   "execution_count": null,
   "metadata": {},
   "outputs": [],
   "source": [
    "pd.Series(stats[\"TRAIN\"][\"number_of_documents_per_class\"]).sort_values(ascending=False).plot(\n",
    "    kind=\"bar\", title=\"Train set - number of documents per label\"\n",
    ")"
   ]
  },
  {
   "cell_type": "code",
   "execution_count": null,
   "metadata": {},
   "outputs": [],
   "source": [
    "len(stats[\"TRAIN\"][\"number_of_documents_per_class\"].keys())"
   ]
  },
  {
   "cell_type": "code",
   "execution_count": null,
   "metadata": {},
   "outputs": [],
   "source": [
    "pd.Series(stats[\"DEV\"][\"number_of_documents_per_class\"]).sort_values(ascending=False).plot(\n",
    "    kind=\"bar\", title=\"Dev set - number of documents per label\"\n",
    ")"
   ]
  },
  {
   "cell_type": "code",
   "execution_count": null,
   "metadata": {},
   "outputs": [],
   "source": [
    "len(stats[\"DEV\"][\"number_of_documents_per_class\"].keys())"
   ]
  },
  {
   "cell_type": "code",
   "execution_count": null,
   "metadata": {},
   "outputs": [],
   "source": [
    "set(stats[\"TRAIN\"][\"number_of_documents_per_class\"].keys()).symmetric_difference(\n",
    "    set(stats[\"DEV\"][\"number_of_documents_per_class\"].keys())\n",
    ")"
   ]
  },
  {
   "cell_type": "code",
   "execution_count": null,
   "metadata": {},
   "outputs": [],
   "source": [
    "pd.Series(stats[\"TEST\"][\"number_of_documents_per_class\"]).sort_values(ascending=False).plot(\n",
    "    kind=\"bar\", title=\"Test set - number of documents per label\"\n",
    ")"
   ]
  },
  {
   "cell_type": "code",
   "execution_count": null,
   "metadata": {},
   "outputs": [],
   "source": [
    "len(stats[\"TEST\"][\"number_of_documents_per_class\"].keys())"
   ]
  },
  {
   "cell_type": "code",
   "execution_count": null,
   "metadata": {},
   "outputs": [],
   "source": [
    "set(stats[\"TRAIN\"][\"number_of_documents_per_class\"].keys()).symmetric_difference(\n",
    "    set(stats[\"TEST\"][\"number_of_documents_per_class\"].keys())\n",
    ")"
   ]
  },
  {
   "cell_type": "markdown",
   "metadata": {
    "tags": []
   },
   "source": [
    "## Beto"
   ]
  },
  {
   "cell_type": "markdown",
   "metadata": {
    "tags": []
   },
   "source": [
    "#### No fine-tuning"
   ]
  },
  {
   "cell_type": "code",
   "execution_count": null,
   "metadata": {
    "colab": {
     "base_uri": "https://localhost:8080/",
     "height": 209,
     "referenced_widgets": [
      "641c46ae49e34b9884d9a37500d85d5f",
      "546d25f5e55f43f6967a9be74c7cfa52",
      "706b59d6e66a43bfa9cb91e720e431e0",
      "6685dd7487f54b568b759e9bb3e33361",
      "be30f9ad87ac4268992078c0be188739",
      "929e9552491141aeb641d81d547278e2",
      "0cb60969757440c7a4532afa52319f96",
      "24494647fb70468f85d5488d7070e355",
      "d3227fa708714869801528dfef18a69c",
      "b5d82f3087c344f18e3f52fc10ef9735",
      "ad0409a1053847ddb185db61e1a15d5f",
      "956b36b720b842ff81a36424f2991724",
      "44543b3f886e4ada91f0899fb99cc172",
      "55f85f48eaea43298b85a914f7c18e71",
      "5b9cfdec7f9f4a6da218048506cf003c",
      "3e54816aedb64f0c847e43ee100090c1",
      "8e55ebe0abdd4a6690ebe19e872cdb30",
      "cabcb47a085c4c8fbec31a9bfced6aed",
      "59bed7960c5d4a15b3b15d07adfc6277",
      "19ab4978f7464544b49c2e3a44026499",
      "6c0b064cb8904983b72c1e1d1d1fe963",
      "3ea4f49f30a641488f34c37f5f561003",
      "4fbab3b185db44bb87cb0e137ac38fb4",
      "a899062a77e84857a58e9339673d9fa5",
      "1d6405e5119b4721ba9f9d7ca6122023",
      "fa97c93a88d741729d9ed9f233bbb0ae",
      "7eae694dd07147d98940ab4d5764a7d7",
      "a3d9efa742124d9291a358180e07aeb6",
      "3f61f6289e5640bd9d8296483ad8e31f",
      "4254229925894227a317b034c794b235",
      "b6f3b4233e5b48a58276313f27294185",
      "ce92885fdbcf4d42a3432a21f41f0b2c",
      "984d28e3d790484682fb56d905fa1395",
      "610dab6616e74b17bd100a4e3b0f4dee",
      "6ad73c27966e4f1eaf319c4c7eccc2d6",
      "77d15be1fbb448dfba19abfe9ce6bff1",
      "9770c7868aee4a4ea4ff685542a11067",
      "1b7606298e3c4260965bfcc19680a5ce",
      "80257447ab754829bafd2d8b6b2bbfb9",
      "c53e9d8351ad4e749c522309563f5c66",
      "a36a28a0bd0c42c89823542c6d8f292a",
      "6cf5bc13ad9c49ad89c26329ab55892f",
      "9e19315e7b684d5eac71857ef2811ec7",
      "31ae6035c3574ed784a9e5a67fcf4bfc",
      "a75f83b8c78249469cfe84597a597e34",
      "40822f376cda46be9095e0faf2178a3d",
      "b6fe4a40f4384acdb23b3d20bdc318eb",
      "c08bc65ff8e143519fba9c2ce445c60c",
      "9a42bcfd1414403e83ec9380b3c2594e",
      "42b3258475244080a80d6a057ac72a8d",
      "a329ac18b65544659ab783d34f5d6c12",
      "629be46350154710bb078ad3e43ffceb",
      "3481d8043eb344a4b29000d13bb778a3",
      "7ae3ce6839664bd0bb36fdc55b30e191",
      "ab5698bd054f440ba8748410e995280d",
      "49f18336b3b2435cb984cb12bc32542f",
      "1f7da310c6d64904b8dea52ee77613df",
      "19c379c1270a4077866a0028a0cc851b",
      "a129962a02f649c8bcd1d75942067196",
      "cfaef7e510f844a498fbb25417469a33",
      "d09e952102734921acc0ef2467f709c8",
      "c4956900ceec49bdb929d7f5ca1ba8ba",
      "df83ac78133c4af4bdac8c8399a68ade",
      "4c0233d8c4a04a7683ca8c699b55b814",
      "63c6013adc464054985ad478945ba6a0",
      "b0c8b47244284e88ba07f1ba542b4707"
     ]
    },
    "id": "KeKTAzUgvxwk",
    "outputId": "e2033eaf-ea6a-4e54-d35d-b65150c98273"
   },
   "outputs": [],
   "source": [
    "# 5. initialize NON fine-tuneable transformer embeddings WITH document context\n",
    "embeddings = TransformerWordEmbeddings(\n",
    "    model=\"dccuchile/bert-base-spanish-wwm-cased\",\n",
    "    layers=\"-1\",\n",
    "    subtoken_pooling=\"first\",\n",
    "    fine_tune=False,\n",
    "    use_context=True,\n",
    "    allow_long_sentences=True,\n",
    ")"
   ]
  },
  {
   "cell_type": "code",
   "execution_count": null,
   "metadata": {
    "colab": {
     "base_uri": "https://localhost:8080/"
    },
    "id": "K7y3GbIrvzIh",
    "outputId": "3724dd8b-22bc-4763-d5d8-e36ea3655867"
   },
   "outputs": [],
   "source": [
    "# 6. initialize sequence tagger\n",
    "tagger = SequenceTagger(\n",
    "    hidden_size=256,\n",
    "    embeddings=embeddings,\n",
    "    tag_dictionary=label_dictionary,\n",
    "    tag_type=label_type,\n",
    "    use_crf=True,\n",
    "    use_rnn=True,\n",
    "    reproject_embeddings=True,\n",
    ")"
   ]
  },
  {
   "cell_type": "code",
   "execution_count": null,
   "metadata": {
    "id": "pljRjGpcv0RD"
   },
   "outputs": [],
   "source": [
    "# 7. initialize trainer\n",
    "trainer = ModelTrainer(\n",
    "    tagger,\n",
    "    corpus,\n",
    ")"
   ]
  },
  {
   "cell_type": "code",
   "execution_count": null,
   "metadata": {
    "colab": {
     "base_uri": "https://localhost:8080/"
    },
    "id": "DJutmPBbfunB",
    "outputId": "e18498e1-a06b-49b3-dad0-64de53f91da2",
    "tags": []
   },
   "outputs": [],
   "source": [
    "# 8. run training for 50 epochs\n",
    "path = \"/resources/ner/flair/anonymizer\"\n",
    "\n",
    "trainer.train(\n",
    "    path,\n",
    "    learning_rate=0.1,\n",
    "    mini_batch_size=8,\n",
    "    max_epochs=50,\n",
    "    # scheduler=OneCycleLR,\n",
    "    embeddings_storage_mode=\"none\",\n",
    "    weight_decay=0.0,\n",
    "    use_final_model_for_eval=False,\n",
    ")"
   ]
  },
  {
   "cell_type": "code",
   "execution_count": null,
   "metadata": {},
   "outputs": [],
   "source": [
    "plotter = Plotter()\n",
    "plotter.plot_training_curves(f\"{path}/loss.tsv\", [\"TRAIN_LOSS\", \"DEV_LOSS\"])"
   ]
  },
  {
   "cell_type": "markdown",
   "metadata": {
    "tags": []
   },
   "source": [
    "## Evaluation"
   ]
  },
  {
   "cell_type": "code",
   "execution_count": null,
   "metadata": {},
   "outputs": [],
   "source": [
    "path = \"/resources/ner/flair/anonymizer\""
   ]
  },
  {
   "cell_type": "code",
   "execution_count": null,
   "metadata": {},
   "outputs": [],
   "source": [
    "# load model\n",
    "tagger = SequenceTagger.load(f\"{path}/best-model.pt\")"
   ]
  },
  {
   "cell_type": "code",
   "execution_count": null,
   "metadata": {},
   "outputs": [],
   "source": [
    "# rewrite `label_dictionary` attribute to handle unknown items\n",
    "tagger.label_dictionary = label_dictionary"
   ]
  },
  {
   "cell_type": "code",
   "execution_count": null,
   "metadata": {},
   "outputs": [],
   "source": [
    "evaluation = tagger.evaluate(\n",
    "    corpus.test,\n",
    "    label_type,\n",
    "    path + \"/evaluation.txt\",\n",
    ")"
   ]
  },
  {
   "cell_type": "code",
   "execution_count": null,
   "metadata": {},
   "outputs": [],
   "source": [
    "print(evaluation.main_score, evaluation.loss)"
   ]
  },
  {
   "cell_type": "code",
   "execution_count": null,
   "metadata": {},
   "outputs": [],
   "source": [
    "print(evaluation.detailed_results)"
   ]
  },
  {
   "cell_type": "code",
   "execution_count": null,
   "metadata": {},
   "outputs": [],
   "source": [
    "import re\n",
    "import pandas as pd\n",
    "\n",
    "pd.set_option(\"display.max_rows\", 100)\n",
    "\n",
    "path = \"/resources/ner/flair/anonymizer\"\n",
    "df = pd.read_csv(f\"{path}/evaluation.txt\", sep=\"\\s\", header=None)\n",
    "df.columns = [\"token\", \"label\", \"pred\"]\n",
    "df.head()"
   ]
  },
  {
   "cell_type": "code",
   "execution_count": null,
   "metadata": {},
   "outputs": [],
   "source": [
    "df.info()"
   ]
  },
  {
   "cell_type": "code",
   "execution_count": null,
   "metadata": {
    "tags": []
   },
   "outputs": [],
   "source": [
    "df[\"label\"].value_counts(normalize=True)"
   ]
  },
  {
   "cell_type": "code",
   "execution_count": null,
   "metadata": {},
   "outputs": [],
   "source": [
    "# Exact match\n",
    "df[\"match\"] = df[\"label\"] == df[\"pred\"]\n",
    "df[\"match\"].value_counts(normalize=True)"
   ]
  },
  {
   "cell_type": "code",
   "execution_count": null,
   "metadata": {},
   "outputs": [],
   "source": [
    "df.loc[df[\"label\"] != \"O\", \"match\"].value_counts(normalize=True)"
   ]
  },
  {
   "cell_type": "code",
   "execution_count": null,
   "metadata": {},
   "outputs": [],
   "source": [
    "df.loc[df[\"label\"] == \"O\", \"match\"].value_counts(normalize=True)"
   ]
  },
  {
   "cell_type": "code",
   "execution_count": null,
   "metadata": {
    "tags": []
   },
   "outputs": [],
   "source": [
    "df.loc[(df[\"label\"] == \"O\") & (df[\"match\"] != 1)]"
   ]
  },
  {
   "cell_type": "code",
   "execution_count": null,
   "metadata": {},
   "outputs": [],
   "source": [
    "normalize_class = lambda x: re.sub(r\"B-|I-\", \"\", x)\n",
    "\n",
    "df[\"normalized_label\"] = df[\"label\"].map(normalize_class)\n",
    "df[\"normalized_pred\"] = df[\"pred\"].map(normalize_class)"
   ]
  },
  {
   "cell_type": "code",
   "execution_count": null,
   "metadata": {},
   "outputs": [],
   "source": [
    "df.head()"
   ]
  },
  {
   "cell_type": "code",
   "execution_count": null,
   "metadata": {},
   "outputs": [],
   "source": [
    "# Normalized exact match\n",
    "df[\"normalized_match\"] = df[\"normalized_label\"] == df[\"normalized_pred\"]\n",
    "df[\"normalized_match\"].value_counts(normalize=True)"
   ]
  },
  {
   "cell_type": "code",
   "execution_count": null,
   "metadata": {},
   "outputs": [],
   "source": [
    "df.loc[df[\"normalized_label\"] != \"O\", \"normalized_match\"].value_counts(normalize=True)"
   ]
  },
  {
   "cell_type": "code",
   "execution_count": null,
   "metadata": {},
   "outputs": [],
   "source": [
    "df.loc[df[\"normalized_label\"] == \"O\", \"normalized_match\"].value_counts(normalize=True)"
   ]
  },
  {
   "cell_type": "code",
   "execution_count": null,
   "metadata": {},
   "outputs": [],
   "source": [
    "df[\"normalized_pred\"].value_counts(normalize=True)"
   ]
  },
  {
   "cell_type": "code",
   "execution_count": null,
   "metadata": {},
   "outputs": [],
   "source": [
    "from sklearn.metrics import classification_report, confusion_matrix"
   ]
  },
  {
   "cell_type": "code",
   "execution_count": null,
   "metadata": {
    "tags": []
   },
   "outputs": [],
   "source": [
    "print(classification_report(df[\"label\"], df[\"pred\"]))"
   ]
  },
  {
   "cell_type": "code",
   "execution_count": null,
   "metadata": {},
   "outputs": [],
   "source": [
    "print(classification_report(df[\"normalized_label\"], df[\"normalized_pred\"]))"
   ]
  },
  {
   "cell_type": "code",
   "execution_count": null,
   "metadata": {},
   "outputs": [],
   "source": [
    "import matplotlib.pyplot as plt\n",
    "import seaborn as sns"
   ]
  },
  {
   "cell_type": "code",
   "execution_count": null,
   "metadata": {},
   "outputs": [],
   "source": [
    "plt.figure(figsize=(20, 20))\n",
    "\n",
    "labels = df[\"normalized_label\"].unique()\n",
    "\n",
    "cm = confusion_matrix(\n",
    "    df[\"normalized_label\"],\n",
    "    df[\"normalized_pred\"],\n",
    "    labels=labels,\n",
    "    normalize=\"true\",\n",
    ")\n",
    "\n",
    "sns.heatmap(\n",
    "    cm,\n",
    "    vmin=0.0,\n",
    "    vmax=1.0,\n",
    "    cmap=\"Blues\",\n",
    "    annot=True,\n",
    "    fmt=\".2f\",\n",
    "    cbar=False,\n",
    "    xticklabels=labels,\n",
    "    yticklabels=labels,\n",
    ")\n",
    "\n",
    "plt.title(\"Confusion Matrix\", fontdict={\"fontsize\": 20})"
   ]
  },
  {
   "cell_type": "markdown",
   "metadata": {
    "jp-MarkdownHeadingCollapsed": true,
    "tags": []
   },
   "source": [
    "## Inference"
   ]
  },
  {
   "cell_type": "code",
   "execution_count": null,
   "metadata": {
    "tags": []
   },
   "outputs": [],
   "source": [
    "for sentence in corpus.test:\n",
    "    tagger.predict(sentence)\n",
    "    print(sentence)\n",
    "    print()\n",
    "    # print the entities with below command\n",
    "    for entity in sentence.get_spans(\"ner\"):\n",
    "        print(entity)\n",
    "    print(\"=\" * 5)"
   ]
  },
  {
   "cell_type": "code",
   "execution_count": null,
   "metadata": {},
   "outputs": [],
   "source": []
  }
 ],
 "metadata": {
  "accelerator": "GPU",
  "colab": {
   "collapsed_sections": [],
   "provenance": []
  },
  "gpuClass": "standard",
  "kernelspec": {
   "display_name": "Python 3 (ipykernel)",
   "language": "python",
   "name": "python3"
  },
  "language_info": {
   "codemirror_mode": {
    "name": "ipython",
    "version": 3
   },
   "file_extension": ".py",
   "mimetype": "text/x-python",
   "name": "python",
   "nbconvert_exporter": "python",
   "pygments_lexer": "ipython3",
   "version": "3.10.6"
  },
  "vscode": {
   "interpreter": {
    "hash": "97cc609b13305c559618ec78a438abc56230b9381f827f22d070313b9a1f3777"
   }
  }
 },
 "nbformat": 4,
 "nbformat_minor": 4
}
