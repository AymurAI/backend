{
 "cells": [
  {
   "cell_type": "code",
   "execution_count": null,
   "metadata": {},
   "outputs": [],
   "source": [
    "%load_ext rich"
   ]
  },
  {
   "cell_type": "code",
   "execution_count": null,
   "metadata": {},
   "outputs": [],
   "source": [
    "import json\n",
    "import os\n",
    "\n",
    "import requests\n",
    "from rich.console import Console\n",
    "from tqdm import tqdm\n",
    "\n",
    "console = Console(width=100)\n",
    "\n",
    "API_URL = \"http://localhost:8999\"  # Url for debugger. change it to your own"
   ]
  },
  {
   "cell_type": "code",
   "execution_count": null,
   "metadata": {},
   "outputs": [],
   "source": [
    "print(f\"API URL: {API_URL}\")"
   ]
  },
  {
   "cell_type": "code",
   "execution_count": null,
   "metadata": {},
   "outputs": [],
   "source": [
    "doc_path = \"/resources/data/sample/document-03.docx\""
   ]
  },
  {
   "cell_type": "markdown",
   "metadata": {},
   "source": [
    "## /document-extract endpoint output"
   ]
  },
  {
   "cell_type": "code",
   "execution_count": null,
   "metadata": {},
   "outputs": [],
   "source": [
    "# Function to extract document using the API\n",
    "def extract_document(file_path: str) -> dict:\n",
    "    # Open the file in binary mode and send the POST request\n",
    "    with open(file_path, \"rb\") as file:\n",
    "        files = {\"file\": file}\n",
    "        response = requests.post(url=f\"{API_URL}/document/extract\", files=files)\n",
    "    response.raise_for_status()\n",
    "    return response.json()"
   ]
  },
  {
   "cell_type": "code",
   "execution_count": null,
   "metadata": {},
   "outputs": [],
   "source": [
    "# /document-extract endpoint output\n",
    "extracted_document = extract_document(doc_path)\n",
    "console.print(extracted_document)"
   ]
  },
  {
   "cell_type": "code",
   "execution_count": null,
   "metadata": {},
   "outputs": [],
   "source": [
    "len(extracted_document[\"paragraphs\"])"
   ]
  },
  {
   "cell_type": "markdown",
   "metadata": {},
   "source": [
    "## Inference"
   ]
  },
  {
   "cell_type": "code",
   "execution_count": null,
   "metadata": {},
   "outputs": [],
   "source": [
    "import uuid\n",
    "\n",
    "\n",
    "# Function to make inference using the API\n",
    "def get_predictions(paragraph_id: uuid.UUID) -> dict:\n",
    "    response = requests.get(\n",
    "        url=f\"{API_URL}/pipeline/anonymization/paragraph/{paragraph_id}/predict\",\n",
    "        params={\"use_cache\": True},\n",
    "    )\n",
    "    response.raise_for_status()\n",
    "    return response.json()"
   ]
  },
  {
   "cell_type": "code",
   "execution_count": null,
   "metadata": {},
   "outputs": [],
   "source": [
    "predictions = [\n",
    "    get_predictions(paragraph[\"id\"])\n",
    "    for paragraph in tqdm(extracted_document[\"paragraphs\"])\n",
    "]\n",
    "predictions"
   ]
  },
  {
   "cell_type": "code",
   "execution_count": null,
   "metadata": {},
   "outputs": [],
   "source": [
    "document_id = extracted_document[\"id\"]\n",
    "\n",
    "response = requests.get(\n",
    "    url=f\"{API_URL}/pipeline/anonymization/document/{document_id}/compile\",\n",
    ")\n",
    "response.raise_for_status()\n",
    "\n",
    "\n",
    "output_dir = \"output\"\n",
    "os.makedirs(output_dir, exist_ok=True)\n",
    "\n",
    "filename = os.path.basename(doc_path)\n",
    "filename, ext = os.path.splitext(filename)\n",
    "with open(f\"{output_dir}/{filename}.odt\", \"wb\") as file:\n",
    "    file.write(response.content)"
   ]
  },
  {
   "cell_type": "code",
   "execution_count": null,
   "metadata": {},
   "outputs": [],
   "source": []
  }
 ],
 "metadata": {
  "kernelspec": {
   "display_name": ".venv",
   "language": "python",
   "name": "python3"
  },
  "language_info": {
   "codemirror_mode": {
    "name": "ipython",
    "version": 3
   },
   "file_extension": ".py",
   "mimetype": "text/x-python",
   "name": "python",
   "nbconvert_exporter": "python",
   "pygments_lexer": "ipython3",
   "version": "3.10.16"
  }
 },
 "nbformat": 4,
 "nbformat_minor": 2
}
