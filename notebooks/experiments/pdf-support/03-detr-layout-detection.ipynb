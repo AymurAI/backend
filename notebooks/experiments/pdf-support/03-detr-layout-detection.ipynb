{
 "cells": [
  {
   "cell_type": "code",
   "execution_count": null,
   "metadata": {},
   "outputs": [],
   "source": [
    "!sudo apt update && sudo apt install -y poppler-utils\n",
    "!uv pip install pdf2image timm"
   ]
  },
  {
   "cell_type": "code",
   "execution_count": null,
   "metadata": {},
   "outputs": [],
   "source": [
    "import PIL\n",
    "import torch\n",
    "import numpy as np\n",
    "import matplotlib.pyplot as plt\n",
    "from PIL import Image, ImageDraw\n",
    "from pdf2image import convert_from_path\n",
    "from transformers import AutoImageProcessor\n",
    "from transformers.models.detr import DetrForSegmentation\n",
    "\n",
    "img_proc = AutoImageProcessor.from_pretrained(\"cmarkea/detr-layout-detection\")\n",
    "model = DetrForSegmentation.from_pretrained(\"cmarkea/detr-layout-detection\")"
   ]
  },
  {
   "cell_type": "code",
   "execution_count": null,
   "metadata": {},
   "outputs": [],
   "source": [
    "pages = convert_from_path(\"/resources/data/sample/document-01.pdf\", 500)\n",
    "print(pages)\n",
    "\n",
    "img: PIL.Image = pages[0]\n"
   ]
  },
  {
   "cell_type": "code",
   "execution_count": null,
   "metadata": {},
   "outputs": [],
   "source": [
    "# Load the input image\n",
    "# img = Image.open(\"path_to_your_image.jpg\").convert(\"RGB\")  # Provide the correct image path\n",
    "\n",
    "# Run inference\n",
    "with torch.no_grad():\n",
    "    input_ids = img_proc(img, return_tensors=\"pt\")\n",
    "    output = model(**input_ids)\n",
    "\n",
    "# Set thresholds\n",
    "threshold = 0.4\n",
    "\n",
    "# Post-process segmentation mask\n",
    "segmentation_mask = img_proc.post_process_segmentation(\n",
    "    output, threshold=threshold, target_sizes=[img.size[::-1]]\n",
    ")\n",
    "\n",
    "# Post-process object detection (bounding boxes)\n",
    "bbox_pred = img_proc.post_process_object_detection(\n",
    "    output, threshold=threshold, target_sizes=[img.size[::-1]]\n",
    ")\n"
   ]
  },
  {
   "cell_type": "code",
   "execution_count": null,
   "metadata": {},
   "outputs": [],
   "source": [
    "import matplotlib.pyplot as plt\n",
    "\n",
    "# Extract the mask\n",
    "mask = segmentation_mask[0][\"masks\"][0].cpu().numpy()\n",
    "\n",
    "# Plot the results\n",
    "fig, ax = plt.subplots(1, 2, figsize=(15, 10))\n",
    "\n",
    "# Display the original image\n",
    "ax[0].imshow(img)\n",
    "ax[0].set_title(\"Original Image\")\n",
    "ax[0].axis(\"off\")\n",
    "\n",
    "# Display the segmentation mask overlaid on the image\n",
    "ax[1].imshow(img)\n",
    "ax[1].imshow(\n",
    "    mask, alpha=0.5, cmap=\"jet\"\n",
    ")  # Overlay the segmentation mask with transparency\n",
    "ax[1].set_title(\"Segmentation Mask\")\n",
    "ax[1].axis(\"off\")\n",
    "\n",
    "# Draw bounding boxes on the image\n",
    "draw = ImageDraw.Draw(img)\n",
    "for box, score, label in zip(\n",
    "    bbox_pred[0][\"boxes\"], bbox_pred[0][\"scores\"], bbox_pred[0][\"labels\"]\n",
    "):\n",
    "    if score > threshold:\n",
    "        x_min, y_min, x_max, y_max = box.tolist()\n",
    "        draw.rectangle([x_min, y_min, x_max, y_max], outline=\"red\", width=3)\n",
    "\n",
    "# Save or display the image with bounding boxes\n",
    "img.show()  # Open the image with bounding boxes\n",
    "plt.show()  # Show the segmentation mask\n"
   ]
  },
  {
   "cell_type": "code",
   "execution_count": null,
   "metadata": {},
   "outputs": [],
   "source": []
  },
  {
   "cell_type": "code",
   "execution_count": null,
   "metadata": {},
   "outputs": [],
   "source": []
  }
 ],
 "metadata": {
  "kernelspec": {
   "display_name": ".venv",
   "language": "python",
   "name": "python3"
  },
  "language_info": {
   "codemirror_mode": {
    "name": "ipython",
    "version": 3
   },
   "file_extension": ".py",
   "mimetype": "text/x-python",
   "name": "python",
   "nbconvert_exporter": "python",
   "pygments_lexer": "ipython3",
   "version": "3.10.16"
  }
 },
 "nbformat": 4,
 "nbformat_minor": 2
}
