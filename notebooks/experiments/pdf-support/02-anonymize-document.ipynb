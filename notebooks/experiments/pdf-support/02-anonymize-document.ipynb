{
 "cells": [
  {
   "cell_type": "code",
   "execution_count": null,
   "metadata": {},
   "outputs": [],
   "source": [
    "import random\n",
    "import re\n",
    "import statistics\n",
    "from glob import glob\n",
    "\n",
    "import numpy as np\n",
    "import pymupdf\n",
    "import requests\n",
    "from rich.console import Console\n",
    "\n",
    "from aymurai.text.anonymization import DocAnonymizer"
   ]
  },
  {
   "cell_type": "code",
   "execution_count": null,
   "metadata": {},
   "outputs": [],
   "source": [
    "doc_anonymizer = DocAnonymizer()"
   ]
  },
  {
   "cell_type": "code",
   "execution_count": null,
   "metadata": {},
   "outputs": [],
   "source": [
    "console = Console(width=120)"
   ]
  },
  {
   "cell_type": "code",
   "execution_count": null,
   "metadata": {},
   "outputs": [],
   "source": [
    "pdf_dir = (\n",
    "    \"/resources/data/restricted/ar-juz-pcyf-10/RESOLUCIONES DEL JUZGADO-pdf/subsample\"\n",
    ")\n",
    "\n",
    "pdfs = glob(pdf_dir + \"/**/**.pdf\", recursive=True)\n",
    "len(pdfs)"
   ]
  },
  {
   "cell_type": "code",
   "execution_count": null,
   "metadata": {},
   "outputs": [],
   "source": [
    "filename = random.choice(pdfs)\n",
    "print(filename)"
   ]
  },
  {
   "cell_type": "code",
   "execution_count": null,
   "metadata": {},
   "outputs": [],
   "source": [
    "def compute_median_margin_between_blocks(pdf_path: str) -> float:\n",
    "    \"\"\"\n",
    "    Computes the median vertical margin between text blocks in a PDF.\n",
    "\n",
    "    Args:\n",
    "        pdf_path (str): Path to the PDF file.\n",
    "\n",
    "    Returns:\n",
    "        float: Median margin between text blocks (in points).\n",
    "    \"\"\"\n",
    "    margins = []\n",
    "\n",
    "    with pymupdf.open(pdf_path) as doc:\n",
    "        for page in doc:\n",
    "            # Extract all text blocks from the page\n",
    "            blocks = page.get_text(\"blocks\")\n",
    "\n",
    "            # Sort blocks by their top y-coordinate (y0)\n",
    "            blocks_sorted = sorted(blocks, key=lambda b: b[1])\n",
    "\n",
    "            # Compute vertical margins between consecutive blocks\n",
    "            for i in range(1, len(blocks_sorted)):\n",
    "                previous_block = blocks_sorted[i - 1]\n",
    "                current_block = blocks_sorted[i]\n",
    "\n",
    "                # Calculate the vertical margin\n",
    "                previous_y1 = previous_block[3]  # Bottom of the previous block\n",
    "                current_y0 = current_block[1]  # Top of the current block\n",
    "                margin = current_y0 - previous_y1\n",
    "\n",
    "                if margin > 0:  # Ignore overlapping blocks\n",
    "                    margins.append(margin)\n",
    "\n",
    "    # Compute and return the median margin\n",
    "    if margins:\n",
    "        return statistics.median(margins)\n",
    "    else:\n",
    "        return 0.0  # Return 0 if no margins were found\n",
    "\n",
    "\n",
    "def extract_and_merge_paragraphs(pdf_path, y_tolerance=5):\n",
    "    \"\"\"\n",
    "    Extracts and merges paragraphs from a PDF by grouping close text blocks.\n",
    "\n",
    "    Args:\n",
    "        pdf_path (str): Path to the PDF file.\n",
    "        y_tolerance (float): Maximum vertical gap (in points) to consider blocks part of the same paragraph.\n",
    "\n",
    "    Returns:\n",
    "        list: A list of merged paragraphs as strings.\n",
    "    \"\"\"\n",
    "    paragraphs = []\n",
    "\n",
    "    with pymupdf.open(pdf_path) as doc:\n",
    "        current_paragraph = \"\"\n",
    "\n",
    "        for page in doc:\n",
    "            blocks = page.get_text(\"blocks\")  # Extract text blocks\n",
    "            blocks = sorted(\n",
    "                blocks, key=lambda b: b[1]\n",
    "            )  # Sort by vertical position (y0)\n",
    "\n",
    "            last_y1 = None  # Track the bottom position of the last block\n",
    "\n",
    "            for block in blocks:\n",
    "                text = block[4].strip()  # Extract text content from block\n",
    "                if not text:  # Skip empty blocks\n",
    "                    continue\n",
    "\n",
    "                y0, y1 = block[1], block[3]  # Top and bottom positions of the block\n",
    "\n",
    "                # If current_paragraph is empty, start a new paragraph\n",
    "                if not current_paragraph:\n",
    "                    current_paragraph = text\n",
    "                    last_y1 = y1\n",
    "                    continue\n",
    "\n",
    "                # Check if the block is close enough to the previous one (vertical distance)\n",
    "                if last_y1 is not None and y0 - last_y1 <= y_tolerance:\n",
    "                    current_paragraph += \" \" + text  # Merge with the previous paragraph\n",
    "\n",
    "                # Check if the start of the text is lower case in the first block of the page\n",
    "                elif re.match(r\"[a-z]\", text[0]) and block[5] == 0:\n",
    "                    current_paragraph += \" \" + text  # Merge with the previous paragraph\n",
    "\n",
    "                else:\n",
    "                    # Save the current paragraph and start a new one\n",
    "                    paragraphs.append(current_paragraph)\n",
    "                    current_paragraph = text\n",
    "\n",
    "                last_y1 = y1\n",
    "\n",
    "    return paragraphs"
   ]
  },
  {
   "cell_type": "code",
   "execution_count": null,
   "metadata": {},
   "outputs": [],
   "source": [
    "y_tolerance = compute_median_margin_between_blocks(filename)\n",
    "paragraphs = extract_and_merge_paragraphs(filename, np.ceil(y_tolerance))\n",
    "\n",
    "# Print paragraphs\n",
    "for i, paragraph in enumerate(paragraphs[:3], 1):\n",
    "    console.print(f\"Paragraph {i}:\\n{paragraph}\\n\")"
   ]
  },
  {
   "cell_type": "code",
   "execution_count": null,
   "metadata": {},
   "outputs": [],
   "source": [
    "len(paragraphs)"
   ]
  },
  {
   "cell_type": "markdown",
   "metadata": {},
   "source": [
    "## Inference"
   ]
  },
  {
   "cell_type": "code",
   "execution_count": null,
   "metadata": {},
   "outputs": [],
   "source": [
    "# Function to make inference using the API\n",
    "def get_predictions(sample: str) -> dict:\n",
    "    response = requests.post(\n",
    "        url=\"http://0.0.0.0:8899/anonymizer/predict\",\n",
    "        json={\"text\": sample},\n",
    "    )\n",
    "    return response.json()"
   ]
  },
  {
   "cell_type": "code",
   "execution_count": null,
   "metadata": {},
   "outputs": [],
   "source": [
    "predictions = []\n",
    "\n",
    "for paragraph in paragraphs:\n",
    "    try:\n",
    "        predictions.append(get_predictions(paragraph))\n",
    "    except Exception as e:\n",
    "        print(f\"Error {e} processing paragraph {paragraph}\")"
   ]
  },
  {
   "cell_type": "code",
   "execution_count": null,
   "metadata": {},
   "outputs": [],
   "source": [
    "len(predictions)"
   ]
  },
  {
   "cell_type": "code",
   "execution_count": null,
   "metadata": {},
   "outputs": [],
   "source": [
    "iter_preds = iter(predictions)"
   ]
  },
  {
   "cell_type": "code",
   "execution_count": null,
   "metadata": {},
   "outputs": [],
   "source": [
    "pred = next(iter_preds)\n",
    "pred"
   ]
  },
  {
   "cell_type": "markdown",
   "metadata": {},
   "source": [
    "## Replace source"
   ]
  },
  {
   "cell_type": "code",
   "execution_count": null,
   "metadata": {},
   "outputs": [],
   "source": [
    "anonymized_doc = [\n",
    "    doc_anonymizer.replace_labels_in_text(pred)\n",
    "    .replace(\"&lt;\", \"<\")\n",
    "    .replace(\"&gt;\", \">\")\n",
    "    for pred in predictions\n",
    "]"
   ]
  },
  {
   "cell_type": "code",
   "execution_count": null,
   "metadata": {},
   "outputs": [],
   "source": [
    "for paragraph in anonymized_doc:\n",
    "    console.print(paragraph)"
   ]
  },
  {
   "cell_type": "code",
   "execution_count": null,
   "metadata": {},
   "outputs": [],
   "source": []
  }
 ],
 "metadata": {
  "kernelspec": {
   "display_name": "Python 3",
   "language": "python",
   "name": "python3"
  },
  "language_info": {
   "codemirror_mode": {
    "name": "ipython",
    "version": 3
   },
   "file_extension": ".py",
   "mimetype": "text/x-python",
   "name": "python",
   "nbconvert_exporter": "python",
   "pygments_lexer": "ipython3",
   "version": "3.10.12"
  }
 },
 "nbformat": 4,
 "nbformat_minor": 2
}
