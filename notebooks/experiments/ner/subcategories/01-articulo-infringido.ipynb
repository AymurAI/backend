{
 "cells": [
  {
   "cell_type": "code",
   "execution_count": null,
   "id": "e386e4d0-e312-4bd7-8f7a-e3c1a6a00396",
   "metadata": {
    "tags": []
   },
   "outputs": [],
   "source": [
    "# !sudo pip install -e /workspace/src/aymurai"
   ]
  },
  {
   "cell_type": "code",
   "execution_count": null,
   "id": "ecaaa2e8-e6e7-4d8d-a236-4792c865c81a",
   "metadata": {},
   "outputs": [],
   "source": [
    "from aymurai.spacy.display import DocRender\n",
    "from aymurai.datasets.ar_juz_pcyf_10.docs import ArgentinaJuzgadoPCyF10DocsDataset\n",
    "from aymurai.datasets.ar_juz_pcyf_10.annotations import (\n",
    "    ArgentinaJuzgadoPCyF10LabelStudioAnnotations,\n",
    ")\n",
    "\n",
    "render = DocRender()\n",
    "docs = ArgentinaJuzgadoPCyF10LabelStudioAnnotations(\n",
    "    \"/resources/annotations/label-studio/resos-annotations/30-nov/no-decision/\"\n",
    ").data\n",
    "# docs = ArgentinaJuzgadoPCyF10DocsDataset().data\n",
    "sample = docs[:10]\n",
    "\n",
    "print(len(docs))"
   ]
  },
  {
   "cell_type": "markdown",
   "id": "efff9a79-7bbf-4734-bc2a-d34369291293",
   "metadata": {},
   "source": [
    "## Pipeline"
   ]
  },
  {
   "cell_type": "code",
   "execution_count": null,
   "id": "3b4e80cf-7712-4be6-9d1f-454f23f48db9",
   "metadata": {},
   "outputs": [],
   "source": [
    "from aymurai.pipeline import AymurAIPipeline\n",
    "from aymurai.models.flair.core import FlairModel\n",
    "from aymurai.models.flair.utils import FlairTextNormalize\n",
    "from aymurai.transforms.entity_subcategories.regex import RegexSubcategorizer\n",
    "from aymurai.transforms.entity_subcategories.usem import USEMSubcategorizer\n",
    "from aymurai.transforms.entity_subcategories.article import ArticleSubcategorizer\n",
    "\n",
    "\n",
    "config = {\n",
    "    \"preprocess\": [\n",
    "        (FlairTextNormalize, {}),\n",
    "    ],\n",
    "    \"models\": [\n",
    "        (\n",
    "            FlairModel,\n",
    "            {\n",
    "                \"basepath\": \"/resources/pipelines/examples/flair-simple/FlairModel\",\n",
    "                \"split_doc\": True,\n",
    "                \"device\": \"cpu\",\n",
    "            },\n",
    "        )\n",
    "    ],\n",
    "    \"postprocess\": [\n",
    "        (RegexSubcategorizer, {}),\n",
    "        (\n",
    "            USEMSubcategorizer,\n",
    "                {\n",
    "                    \"category\": \"CONDUCTA\",\n",
    "                    # \"subcategories\": conduct_categories,\n",
    "                    \"subcategories_path\": '/resources/pipelines/examples/flair-simple/UsemEmbeddings/conduct_options.txt',\n",
    "                    \"response_embeddings_path\": \"/resources/pipelines/examples/flair-simple/UsemEmbeddings/conduct_embeddings.npy\",\n",
    "                }\n",
    "        ),\n",
    "        (\n",
    "            USEMSubcategorizer,\n",
    "                {\n",
    "                    \"category\": \"CONDUCTA_DESCRIPCION\",\n",
    "                    # \"subcategories\": conduct_descr_categories,\n",
    "                    \"subcategories_path\": '/resources/pipelines/examples/flair-simple/UsemEmbeddings/conduct_descr_options.txt',\n",
    "                    \"response_embeddings_path\": \"/resources/pipelines/examples/flair-simple/UsemEmbeddings/conduct_descr_embeddings.npy\",\n",
    "                }\n",
    "        ),\n",
    "        (\n",
    "            USEMSubcategorizer,\n",
    "                {\n",
    "                    \"category\": \"DETALLE\",\n",
    "                    # \"subcategories\": detail_categories,\n",
    "                    \"subcategories_path\": '/resources/pipelines/examples/flair-simple/UsemEmbeddings/detail_options.txt',\n",
    "                    \"response_embeddings_path\": \"/resources/pipelines/examples/flair-simple/UsemEmbeddings/detail_embeddings.npy\",\n",
    "                }\n",
    "        ),\n",
    "        (\n",
    "            USEMSubcategorizer,\n",
    "                {\n",
    "                    \"category\": \"OBJETO_DE_LA_RESOLUCION\",\n",
    "                    \"subcategories_path\": '/resources/pipelines/examples/flair-simple/UsemEmbeddings/object_options.txt',\n",
    "                    # \"subcategories\": object_categories,\n",
    "                    \"response_embeddings_path\": \"/resources/pipelines/examples/flair-simple/UsemEmbeddings/object_embeddings.npy\",\n",
    "                }\n",
    "        ),\n",
    "        (ArticleSubcategorizer, {})\n",
    "    ],\n",
    "    # \"multiprocessing\": {},\n",
    "    \"use_cache\": False,\n",
    "    # 'log_level': 'debug'\n",
    "}"
   ]
  },
  {
   "cell_type": "code",
   "execution_count": null,
   "id": "9b9c4b34-2093-4e73-9607-285e6781c52c",
   "metadata": {},
   "outputs": [],
   "source": [
    "pipeline = AymurAIPipeline(config)\n",
    "results = pipeline.preprocess(sample)\n",
    "results = pipeline.predict(results)\n",
    "results = pipeline.postprocess(results)"
   ]
  },
  {
   "cell_type": "code",
   "execution_count": null,
   "id": "c05e41d8-85f3-497c-bdda-e9412f8b5d1a",
   "metadata": {},
   "outputs": [],
   "source": [
    "idx = -11"
   ]
  },
  {
   "cell_type": "code",
   "execution_count": null,
   "id": "2440f039-0871-4bf7-b5d4-881138e7d51c",
   "metadata": {
    "tags": []
   },
   "outputs": [],
   "source": [
    "render(results[idx])"
   ]
  },
  {
   "cell_type": "code",
   "execution_count": null,
   "id": "76aadd5c-a220-46d9-8138-1910e653a0b3",
   "metadata": {
    "tags": []
   },
   "outputs": [],
   "source": [
    "arts = [_ for _ in results[idx][\"predictions\"][\"entities\"] if _[\"label\"] == \"ART_INFRINGIDO\"]\n",
    "print(set([art[\"text\"] for art in arts]))\n",
    "arts"
   ]
  },
  {
   "cell_type": "code",
   "execution_count": null,
   "id": "0c0bf3ab-ae5e-4e46-9bd0-124e0d8e431a",
   "metadata": {
    "tags": []
   },
   "outputs": [],
   "source": [
    "conducts = [_ for _ in results[idx][\"predictions\"][\"entities\"] if _[\"label\"] == \"CONDUCTA\"]\n",
    "conducts"
   ]
  },
  {
   "cell_type": "code",
   "execution_count": null,
   "id": "064bc348-409c-4cb1-8404-ffe9801bb6e5",
   "metadata": {},
   "outputs": [],
   "source": []
  }
 ],
 "metadata": {
  "kernelspec": {
   "display_name": "Python 3 (ipykernel)",
   "language": "python",
   "name": "python3"
  },
  "language_info": {
   "codemirror_mode": {
    "name": "ipython",
    "version": 3
   },
   "file_extension": ".py",
   "mimetype": "text/x-python",
   "name": "python",
   "nbconvert_exporter": "python",
   "pygments_lexer": "ipython3",
   "version": "3.10.9"
  }
 },
 "nbformat": 4,
 "nbformat_minor": 5
}
