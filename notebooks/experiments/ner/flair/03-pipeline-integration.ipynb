{
 "cells": [
  {
   "cell_type": "code",
   "execution_count": null,
   "metadata": {},
   "outputs": [],
   "source": [
    "%load_ext autoreload\n",
    "%load_ext aymurai.devtools.magic\n",
    "%autoreload 2"
   ]
  },
  {
   "cell_type": "code",
   "execution_count": null,
   "metadata": {},
   "outputs": [],
   "source": [
    "import flair\n",
    "import logging\n",
    "\n",
    "flair.logger.setLevel(logging.ERROR)"
   ]
  },
  {
   "cell_type": "code",
   "execution_count": null,
   "metadata": {},
   "outputs": [],
   "source": [
    "from aymurai.spacy.display import DocRender\n",
    "from aymurai.datasets.ar_juz_pcyf_10.docs import ArgentinaJuzgadoPCyF10DocsDataset\n",
    "from aymurai.datasets.ar_juz_pcyf_10.annotations import (\n",
    "    ArgentinaJuzgadoPCyF10LabelStudioAnnotations,\n",
    ")\n",
    "\n",
    "render = DocRender()\n",
    "docs = ArgentinaJuzgadoPCyF10LabelStudioAnnotations('/resources/pipe/label-studio/resos-annotations/30-nov/no-decision/').data\n",
    "# docs = ArgentinaJuzgadoPCyF10DocsDataset().data\n",
    "sample = docs[:10]\n",
    "\n",
    "print(len(docs))"
   ]
  },
  {
   "cell_type": "markdown",
   "metadata": {},
   "source": [
    "# full pipeline"
   ]
  },
  {
   "cell_type": "code",
   "execution_count": null,
   "metadata": {},
   "outputs": [],
   "source": [
    "from aymurai.text.extraction import FulltextExtract\n",
    "from aymurai.pipeline import AymurAIPipeline\n",
    "from aymurai.models.flair.core import FlairModel\n",
    "from aymurai.models.flair.utils import FlairTextNormalize, SubcatMatcher\n",
    "\n",
    "\n",
    "config = {\n",
    "    \"preprocess\": [\n",
    "        # (\n",
    "        #     FulltextExtract,\n",
    "        #     {\n",
    "        #         \"errors\": \"ignore\",\n",
    "        #         \"use_cache\": True,\n",
    "        #     },\n",
    "        # ),\n",
    "        (FlairTextNormalize, {}),\n",
    "    ],\n",
    "    \"models\": [\n",
    "        (\n",
    "            FlairModel,\n",
    "            {\n",
    "                \"basepath\": \"/resources/pipelines/examples/flair-simple/FlairModel/model.pt\",\n",
    "                \"split_doc\": True,\n",
    "                'device': 'cuda:0'\n",
    "            },\n",
    "        )\n",
    "    ],\n",
    "    \"postprocess\": [\n",
    "        (\n",
    "            SubcatMatcher, {}\n",
    "        )\n",
    "    ],\n",
    "    \"multiprocessing\": {},\n",
    "    # \"use_cache\": True,\n",
    "    \"use_cache\": True,\n",
    "    # 'log_level': 'debug'\n",
    "}\n",
    "\n",
    "pipeline = AymurAIPipeline(config)"
   ]
  },
  {
   "cell_type": "code",
   "execution_count": null,
   "metadata": {},
   "outputs": [],
   "source": [
    "results = pipeline.preprocess(sample)\n",
    "results = pipeline.predict(results)"
   ]
  },
  {
   "cell_type": "code",
   "execution_count": null,
   "metadata": {},
   "outputs": [],
   "source": [
    "render(results[0])"
   ]
  },
  {
   "cell_type": "markdown",
   "metadata": {},
   "source": [
    "# splitting doc pipeline"
   ]
  },
  {
   "cell_type": "code",
   "execution_count": null,
   "metadata": {},
   "outputs": [],
   "source": [
    "from aymurai.text.extraction import FulltextExtract\n",
    "from aymurai.pipeline import AymurAIPipeline\n",
    "from aymurai.models.flair.core import FlairModel\n",
    "from aymurai.models.flair.utils import FlairTextNormalize\n",
    "\n",
    "config = {\n",
    "    \"preprocess\": [\n",
    "        (\n",
    "            FulltextExtract,\n",
    "            {\n",
    "                \"errors\": \"ignore\",\n",
    "                \"use_cache\": True,\n",
    "            },\n",
    "        ),\n",
    "        (FlairTextNormalize, {}),\n",
    "    ],\n",
    "    \"models\": [\n",
    "        (\n",
    "            FlairModel,\n",
    "            {\n",
    "                \"basepath\": \"/resources/pipelines/examples/flair-simple/FlairModel/model.pt\",\n",
    "                \"split_doc\": False,\n",
    "                'device': 'cpu'\n",
    "            },\n",
    "        )\n",
    "    ],\n",
    "    \"postprocess\": [],\n",
    "    \"multiprocessing\": {},\n",
    "    # \"use_cache\": True,\n",
    "    \"use_cache\": True,\n",
    "    # 'log_level': 'debug'\n",
    "}\n",
    "\n",
    "pipeline = AymurAIPipeline(config)"
   ]
  },
  {
   "cell_type": "code",
   "execution_count": null,
   "metadata": {},
   "outputs": [],
   "source": [
    "preprocessed = pipeline.preprocess([docs[0]])"
   ]
  },
  {
   "cell_type": "code",
   "execution_count": null,
   "metadata": {},
   "outputs": [],
   "source": [
    "splitted_doc = pipeline.models[0].split_sentences(preprocessed[0]['data']['doc.text'])\n"
   ]
  },
  {
   "cell_type": "code",
   "execution_count": null,
   "metadata": {},
   "outputs": [],
   "source": [
    "items = [\n",
    "    {'path': 'dummy', 'data': {'doc.text': sentence.text}} for sentence in splitted_doc\n",
    "]\n"
   ]
  },
  {
   "cell_type": "code",
   "execution_count": null,
   "metadata": {},
   "outputs": [],
   "source": [
    "results = pipeline.predict(items)"
   ]
  },
  {
   "cell_type": "code",
   "execution_count": null,
   "metadata": {},
   "outputs": [],
   "source": [
    "for result in results:\n",
    "    render(result)"
   ]
  },
  {
   "cell_type": "markdown",
   "metadata": {},
   "source": [
    "# pipeline i/o"
   ]
  },
  {
   "cell_type": "code",
   "execution_count": null,
   "metadata": {},
   "outputs": [],
   "source": [
    "pipeline.save('/resources/pipelines/tests/v1')"
   ]
  },
  {
   "cell_type": "code",
   "execution_count": null,
   "metadata": {},
   "outputs": [],
   "source": [
    "pipeline = pipeline.load('/resources/pipelines/tests/v1/')"
   ]
  },
  {
   "cell_type": "code",
   "execution_count": null,
   "metadata": {},
   "outputs": [],
   "source": [
    "pipeline.config"
   ]
  },
  {
   "cell_type": "code",
   "execution_count": null,
   "metadata": {},
   "outputs": [],
   "source": [
    "results = pipeline.predict(items)"
   ]
  },
  {
   "cell_type": "code",
   "execution_count": null,
   "metadata": {},
   "outputs": [],
   "source": [
    "for result in results:\n",
    "    render(result)"
   ]
  }
 ],
 "metadata": {
  "kernelspec": {
   "display_name": "Python 3 (ipykernel)",
   "language": "python",
   "name": "python3"
  },
  "language_info": {
   "codemirror_mode": {
    "name": "ipython",
    "version": 3
   },
   "file_extension": ".py",
   "mimetype": "text/x-python",
   "name": "python",
   "nbconvert_exporter": "python",
   "pygments_lexer": "ipython3",
   "version": "3.10.8"
  },
  "vscode": {
   "interpreter": {
    "hash": "e7370f93d1d0cde622a1f8e1c04877d8463912d04d973331ad4851f04de6915a"
   }
  }
 },
 "nbformat": 4,
 "nbformat_minor": 4
}
