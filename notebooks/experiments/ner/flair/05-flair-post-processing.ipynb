{
 "cells": [
  {
   "cell_type": "code",
   "execution_count": null,
   "id": "b3bdd860-9e86-4789-8a12-ca4fb50fa360",
   "metadata": {
    "tags": []
   },
   "outputs": [],
   "source": [
    "!sudo pip install -e /workspace/src/aymurai tensorflow_hub tensorflow_text"
   ]
  },
  {
   "cell_type": "code",
   "execution_count": null,
   "id": "c06ecd5b",
   "metadata": {},
   "outputs": [],
   "source": [
    "%load_ext autoreload\n",
    "%autoreload 2"
   ]
  },
  {
   "cell_type": "code",
   "execution_count": null,
   "id": "15e8fd2c-ac8f-4c87-a194-b6938eceac50",
   "metadata": {},
   "outputs": [],
   "source": [
    "import os\n",
    "os.environ[\"TF_CPP_MIN_LOG_LEVEL\"] = \"3\""
   ]
  },
  {
   "cell_type": "code",
   "execution_count": null,
   "id": "053d2482",
   "metadata": {},
   "outputs": [],
   "source": [
    "import flair\n",
    "import logging\n",
    "\n",
    "\n",
    "flair.logger.setLevel(logging.ERROR)"
   ]
  },
  {
   "cell_type": "code",
   "execution_count": null,
   "id": "3f7c2b85-9997-4883-a0fd-e940f2f61bdc",
   "metadata": {},
   "outputs": [],
   "source": [
    "# import numpy as np\n",
    "# import tensorflow as tf\n",
    "# import tensorflow_hub as hub\n",
    "# import tensorflow_text\n",
    "\n",
    "\n",
    "# # usem = hub.load(\n",
    "# #     \"https://tfhub.dev/google/universal-sentence-encoder/4\"\n",
    "# # )\n",
    "\n",
    "# usem_qa = hub.load(\n",
    "#     \"https://tfhub.dev/google/universal-sentence-encoder-multilingual-qa/3\"\n",
    "# )"
   ]
  },
  {
   "cell_type": "code",
   "execution_count": null,
   "id": "25daea97",
   "metadata": {},
   "outputs": [],
   "source": [
    "from aymurai.spacy.display import DocRender\n",
    "from aymurai.datasets.ar_juz_pcyf_10.docs import ArgentinaJuzgadoPCyF10DocsDataset\n",
    "from aymurai.datasets.ar_juz_pcyf_10.annotations import (\n",
    "    ArgentinaJuzgadoPCyF10LabelStudioAnnotations,\n",
    ")\n",
    "\n",
    "render = DocRender()\n",
    "docs = ArgentinaJuzgadoPCyF10LabelStudioAnnotations(\n",
    "    \"/resources/data/restricted/annotations/20221130-bis/\"\n",
    ").data\n",
    "# docs = ArgentinaJuzgadoPCyF10DocsDataset().data\n",
    "sample = docs[:10]\n",
    "\n",
    "print(len(docs))"
   ]
  },
  {
   "cell_type": "code",
   "execution_count": null,
   "id": "42dfbbac-daf5-4775-951f-b8008ba77fe6",
   "metadata": {},
   "outputs": [],
   "source": [
    "conduct_categories = [\n",
    "    \"abandonar_animal_domestico\",\n",
    "    \"abandono_de_personas\",\n",
    "    \"abuso_de_armas\",\n",
    "    \"abuso_de_autoridad_e_incumplimiento_deberes_funcionario_publico\",\n",
    "    \"abuso_sexual\",\n",
    "    \"acceder_a_lugares_distintos_segun_entrada\",\n",
    "    \"acceder_lugares_distintos_segun_entrada\",\n",
    "    \"acceso_a_sistema_restringido\",\n",
    "    \"acoso_sexual_callejero\",\n",
    "    \"actividades_lucrativas_sin_autorizacion\",\n",
    "    \"actividades_lucrativas_sin_habilitacion\",\n",
    "    \"actos_contenido_sexual_con_menores\",\n",
    "    \"administracion_fraudulenta\",\n",
    "    \"afectar_desarrollo_espectaculo\",\n",
    "    \"afectar_el_desarrollo_del_espectaculo\",\n",
    "    \"afectar_funcionamiento_servicios_publicos\",\n",
    "    \"afectar_servicios_de_emergencia_o_seguridad\",\n",
    "    \"afectar_servicios_emergencia\",\n",
    "    \"afectar_señalizacion\",\n",
    "    \"allanamiento_autonomo\",\n",
    "    \"alterar_programa\",\n",
    "    \"alterar_sepulturas\",\n",
    "    \"amenazas\",\n",
    "    \"amparo\",\n",
    "    \"apariencia_falsa\",\n",
    "    \"apariencia_falsa_para_entrar_a_domicilio_o_lugar_privado\",\n",
    "    \"apropiacion_indebida_de_tributos\",\n",
    "    \"arrojar_cosas_que_puedan_causar_lesiones\",\n",
    "    \"arrojar_cosas_sustancias\",\n",
    "    \"arrojar_sustancias_insalubres_en_lugares_publicos\",\n",
    "    \"asociacion_ilicita\",\n",
    "    \"asuncion_falsa_de_contravencion\",\n",
    "    \"atentado_contra_la_autoridad\",\n",
    "    \"ausencia_de_habilitacion\",\n",
    "    \"banderas\",\n",
    "    \"carteles_afiches_volantes\",\n",
    "    \"cierre_defectuoso\",\n",
    "    \"circular_por_carriles_exclusivos\",\n",
    "    \"circular_por_lugar_prohibido\",\n",
    "    \"cohecho_activo\",\n",
    "    \"cohecho_pasivo\",\n",
    "    \"coimas\",\n",
    "    \"competencia_desleal\",\n",
    "    \"conducir_con_mayor_cantidad_de_alcohol_en_sangre_del_permitido\",\n",
    "    \"conducir_con_mayor_grado_de_alcohol_o_bajo_efectos_de_estupefacientes\",\n",
    "    \"conducir_sin_licencia_que_lo_habilite_por_categoria_de_vehiculo\",\n",
    "    \"conducir_usando_aparato_electronico\",\n",
    "    \"connivencia_policial\",\n",
    "    \"contactar_menor_por_medio_de_tecnologias_para_cometer_delitos_contra_su_integridad_sexual\",\n",
    "    \"cruce_de_semaforo_en_rojo\",\n",
    "    \"cuida_coche\",\n",
    "    \"cuidar_coches_sin_autorizacion\",\n",
    "    \"daños\",\n",
    "    \"daños_informaticos\",\n",
    "    \"defraudacion\",\n",
    "    \"defraudacion_contra_la_administracion_publica\",\n",
    "    \"delito_contra_seguridad_transito\",\n",
    "    \"denegacion_de_justicia\",\n",
    "    \"derecho_admision\",\n",
    "    \"desarmado_automotor\",\n",
    "    \"desinfeccion_y_desratizacion\",\n",
    "    \"desobediencia_a_cargas_procesales\",\n",
    "    \"desobediencia_a_la_autoridad\",\n",
    "    \"difusion_no_autorizada_de_imagenes\",\n",
    "    \"difusion_no_autorizada_de_imagenes_intimas\",\n",
    "    \"discriminar\",\n",
    "    \"documentacion_sanitaria\",\n",
    "    \"ejecucion_de_multa\",\n",
    "    \"ejercer_ilegitimamente_actividad\",\n",
    "    \"ejercicio_ilegal_de_la_medicina\",\n",
    "    \"elementos_de_prevencion_contra_incendio\",\n",
    "    \"encubrimiento\",\n",
    "    \"encubrimiento_actividades_baile\",\n",
    "    \"ensuciar_bienes\",\n",
    "    \"entregar_indebidamente_armas_explosivos\",\n",
    "    \"espantar_animales\",\n",
    "    \"espejos_retrovisores\",\n",
    "    \"estacionamiento_prohibido\",\n",
    "    \"estacionamiento_sobre_senda_peatonal\",\n",
    "    \"estafa\",\n",
    "    \"estupefacientes\",\n",
    "    \"exceso_capacidad_ingreso\",\n",
    "    \"exceso_de_velocidad\",\n",
    "    \"exhibicion_de_documentacion_obligatoria\",\n",
    "    \"exhibiciones_obscenas\",\n",
    "    \"exhortos_de_otras_jurisdicciones\",\n",
    "    \"explotacion_trabajo_infantil\",\n",
    "    \"extorsion\",\n",
    "    \"fabricar_transportar_artefactos_pirotecnicos\",\n",
    "    \"falsa_denuncia\",\n",
    "    \"falsedad_documental_de_certificado_de_aptitud_ambiental\",\n",
    "    \"falsificacion_certificado_medico\",\n",
    "    \"falsificacion_de_documento\",\n",
    "    \"falsificacion_de_marcas_firmas_señas_oficiales\",\n",
    "    \"falsificacion_de_numeracion_de_objeto_registrada_de_acuerdo_a_ley\",\n",
    "    \"falta_de_poliza_de_seguros\",\n",
    "    \"favorecimiento_evasion_persona_detenida\",\n",
    "    \"frustrar_subasta_publica\",\n",
    "    \"guardar_artefactos_pirotecnicos\",\n",
    "    \"guardar_elementos_aptos_violencia\",\n",
    "    \"habeas_corpus\",\n",
    "    \"habilitacion_en_infraccion\",\n",
    "    \"homicidio\",\n",
    "    \"hostigamiento\",\n",
    "    \"hostigamiento_digital\",\n",
    "    \"hurto\",\n",
    "    \"impedimento_de_contacto_de_menor_con_padre_no_conviviente\",\n",
    "    \"incendio_explosion_inundacion_con_peligro_para_bienes\",\n",
    "    \"incendios_y_otros_estragos\",\n",
    "    \"incitar_al_desorden\",\n",
    "    \"incitar_desorden\",\n",
    "    \"incumplimiento_de_plazos\",\n",
    "    \"incumplimiento_deberes_familiares\",\n",
    "    \"incumplimiento_deberes_funcionario_publico\",\n",
    "    \"incumplimiento_medidas_prevencion_sanidad\",\n",
    "    \"incumplimiento_perimetro_profundidad\",\n",
    "    \"incumplir_clausura\",\n",
    "    \"incumplir_obligaciones_legales\",\n",
    "    \"inducir_menor_a_mendigar\",\n",
    "    \"infraccion_reglamentos_seguridad\",\n",
    "    \"ingresar_artefactos_pirotecnicos\",\n",
    "    \"ingresar_consumir_bebidas_alcoholicas\",\n",
    "    \"ingresar_contra_derecho_admision\",\n",
    "    \"ingresar_sin_autorizacion_lugares_reservados\",\n",
    "    \"ingresar_sin_entrada\",\n",
    "    \"ingresar_sin_entrada_autorizacion\",\n",
    "    \"ingreso_a_domicilio_sin_autorizacion\",\n",
    "    \"inhumar_exhumar_profanar\",\n",
    "    \"intimidacion\",\n",
    "    \"juego_sin_autorizacion\",\n",
    "    \"juegos_de_azar_sin_autorizacion\",\n",
    "    \"lesiones\",\n",
    "    \"ley_451\",\n",
    "    \"licencia_vencida\",\n",
    "    \"maltrato\",\n",
    "    \"mantener_animal_domestico_espacios_inadecuados\",\n",
    "    \"mantenimiento_de_cercas_y_aceras\",\n",
    "    \"menoscabar_integridad_animal_domestico\",\n",
    "    \"mesnna_masnna\",\n",
    "    \"no_realizar_grabado_de_autopartes\",\n",
    "    \"no_respetar_carriles\",\n",
    "    \"no_respetar_senda_peatonal\",\n",
    "    \"obligacion_de_exhibir_cartel\",\n",
    "    \"obligacion_de_informar_prohibicion_de_fumar\",\n",
    "    \"obligacion_de_conservar\",\n",
    "    \"obstaculizar_ingreso_o_salida\",\n",
    "    \"obstruccion_de_inspeccion\",\n",
    "    \"obstruccion_de_via\",\n",
    "    \"obstruccion_de_via_publica\",\n",
    "    \"obstruccion_via_publica\",\n",
    "    \"obstruir_salida\",\n",
    "    \"ocupar_via_publica\",\n",
    "    \"oferta_demanda_sexo_espacio_publico\",\n",
    "    \"omitir_cuidados_animal_domestico\",\n",
    "    \"omitir_recaudos_de_cuidado_animal_domestico\",\n",
    "    \"omitir_recaudos_de_organizacion\",\n",
    "    \"omitir_recaudos_espectaculo_masivo\",\n",
    "    \"omitir_recaudos_organizacion_seguridad\",\n",
    "    \"organizar_explotar_juego\",\n",
    "    \"organizar_sin_autorizacion_juego\",\n",
    "    \"participar_competencias_velocidad_via_publica\",\n",
    "    \"pelear_en_lugar_publico\",\n",
    "    \"permiso_y_planos_de_obra\",\n",
    "    \"persona_no_habilitada\",\n",
    "    \"perturbar_ceremonias_religiosas_funebres\",\n",
    "    \"perturbar_filas_ingreso_no_respetar_vallado\",\n",
    "    \"placas_de_dominio\",\n",
    "    \"pornografia_infantil\",\n",
    "    \"portacion_de_arma\",\n",
    "    \"portar_armas_no_convencionales\",\n",
    "    \"presencia_menores_lugar_no_autorizado\",\n",
    "    \"presunta_comision_delito\",\n",
    "    \"presunta_contravencion\",\n",
    "    \"privacion_ilegitima_de_la_libertad\",\n",
    "    \"producir_avalanchas\",\n",
    "    \"promocion_o_facilitacion_de_prostitucion_de_personas\",\n",
    "    \"promover_comerciar_ofertar_juego\",\n",
    "    \"propaganda_discriminatoria\",\n",
    "    \"proteccion_animal\",\n",
    "    \"provocar_parcialidad\",\n",
    "    \"publicidad_en_lugares_no_habilitados_via_publica\",\n",
    "    \"regentear_o_administrar_casas_de_tolerancia\",\n",
    "    \"residuos_peligrosos\",\n",
    "    \"retencion_indebida\",\n",
    "    \"revender_entradas\",\n",
    "    \"robo\",\n",
    "    \"ruidos_molestos\",\n",
    "    \"ruidos_y_vibraciones\",\n",
    "    \"sancion_generica\",\n",
    "    \"servicios_de_seguridad_prohibiciones_incumplidas\",\n",
    "    \"servicios_de_seguridad_requisitos_incumplidos\",\n",
    "    \"suministrar_alcohol_menor\",\n",
    "    \"suministrar_bebidas_alcoholicas\",\n",
    "    \"suministrar_elementos_aptos_agresion\",\n",
    "    \"suministrar_material_pornografico\",\n",
    "    \"suministrar_objetos_peligrosos\",\n",
    "    \"suministrar_productos_farmaceuticos\",\n",
    "    \"suministro_de_medicamentos\",\n",
    "    \"suplantacion_identidad\",\n",
    "    \"suplantacion_digital_de_identidad\",\n",
    "    \"taxis_transportes_escolares_remises_sin_autorizacion\",\n",
    "    \"tenencia_de_arma\",\n",
    "    \"transporte_de_pasajeros\",\n",
    "    \"transporte_de_pasajeros_sin_habilitacion\",\n",
    "    \"transporte_de_pasajeros_sin_habilitacion_o_autorizacion\",\n",
    "    \"usar_indebidamente_credencial\",\n",
    "    \"usar_indebidamente_espacio_publico\",\n",
    "    \"usar_indebidamente_armas\",\n",
    "    \"uso_de_documento_falso_o_adulterado\",\n",
    "    \"uso_indebido_del_espacio_publico\",\n",
    "    \"uso_o_exhibicion_de_franquicias\",\n",
    "    \"usurpacion\",\n",
    "    \"vehiculo_abandonado\",\n",
    "    \"vender_entradas_o_permitir_ingreso_exceso\",\n",
    "    \"vender_sustancias_medicinales_sin_receta\",\n",
    "    \"venta_o_consumo_de_bebidas_alcoholicas_fuera_del_horario\",\n",
    "    \"verificacion_tecnica\",\n",
    "    \"violacion_de_peaje\",\n",
    "    \"violacion_de_domicilio\",\n",
    "    \"violacion_de_secretos_y_de_la_privacidad\",\n",
    "    \"violar_clausura\",\n",
    "    \"violar_inhabilitacion_para_conducir\",\n",
    "    \"violar_reglamentacion_juego\",\n",
    "    \"zanjas_y_pozos_en_via_publica\",\n",
    "]"
   ]
  },
  {
   "cell_type": "code",
   "execution_count": null,
   "id": "782b9b39-537a-44ed-a2a8-0307bc26bf71",
   "metadata": {},
   "outputs": [],
   "source": [
    "conduct_descr_categories = [\n",
    "    \"agravada\",\n",
    "    \"agravadas_por_edad\",\n",
    "    \"agravadas_por_el_uso_de_armas\",\n",
    "    \"agravadas_por_uso_de_armas\",\n",
    "    \"agravadas_por_uso_de_armas_impropia\",\n",
    "    \"agravado\",\n",
    "    \"agravado_abuso_funcion\",\n",
    "    \"agravado_alevosia\",\n",
    "    \"agravado_causar_sufrimiento_otra_persona\",\n",
    "    \"agravado_concurso\",\n",
    "    \"agravado_familiar\",\n",
    "    \"agravado_insertar_datos_en_datos_personales\",\n",
    "    \"agravado_lugar_publico\",\n",
    "    \"agravado_mas_personas\",\n",
    "    \"agravado_medio_idoneo\",\n",
    "    \"agravado_menor_de_edad\",\n",
    "    \"agravado_miembro_fuerzas\",\n",
    "    \"agravado_monumentos\",\n",
    "    \"agravado_otro_delito\",\n",
    "    \"agravado_peligro_de_muerte\",\n",
    "    \"agravado_por_el_vinculo\",\n",
    "    \"agravado_por_espacio\",\n",
    "    \"agravado_por_ser_fuerza_de_seguridad\",\n",
    "    \"agravado_precio\",\n",
    "    \"agravado_relacion_de_pareja\",\n",
    "    \"agravado_superior_militar\",\n",
    "    \"agravado_violar_informacion_banco_de_datos\",\n",
    "    \"agravado_violar_sistemas_seguridad\",\n",
    "    \"agravado_violencia_de_genero\",\n",
    "    \"agravado_violencia_mujer\",\n",
    "    \"agravados\",\n",
    "    \"coactivas\",\n",
    "    \"coactivas_agravadas\",\n",
    "    \"coactivas_agravadas_por_uso_de_armas\",\n",
    "    \"comercio_de_plantas_para_producir_estupefacientes\",\n",
    "    \"con_escalamiento\",\n",
    "    \"conduccion_imprudente\",\n",
    "    \"culposas\",\n",
    "    \"culposo\",\n",
    "    \"de_fuego_uso_civil\",\n",
    "    \"de_guerra\",\n",
    "    \"destinado_a_acreditar_identidad_de_personas_habilitacion_o_titularidad\",\n",
    "    \"digital\",\n",
    "    \"digital_agravado_familiar\",\n",
    "    \"digital_agravado_jefe\",\n",
    "    \"digital_agravado_mas_de_una_persona\",\n",
    "    \"digital_agravado_menor_de_edad\",\n",
    "    \"digital_agravado_relacion_de_pareja\",\n",
    "    \"durante_espectaculo_deportivo\",\n",
    "    \"en_grandes_parques_o_espectaculos_masivos\",\n",
    "    \"en_riña\",\n",
    "    \"entrega_suministro_facilitacion\",\n",
    "    \"funcionario_publico\",\n",
    "    \"ganzua_llave\",\n",
    "    \"graves\",\n",
    "    \"graves_tentativa\",\n",
    "    \"informatica\",\n",
    "    \"ingreso_a_domicilio_sin_autorizacion\",\n",
    "    \"intimadacion_o_invocando_orden_superior\",\n",
    "    \"leves\",\n",
    "    \"leves_agravadas\",\n",
    "    \"muebles_transportables\",\n",
    "    \"no_denuncia_delito\",\n",
    "    \"ocasion_de_incendio\",\n",
    "    \"organismo_publico\",\n",
    "    \"para_produccion_o_tenencia_con_fines_de_comercializacion\",\n",
    "    \"por_despojo\",\n",
    "    \"por_obligacion_de_devolver\",\n",
    "    \"por_turbacion_de_la_posesion\",\n",
    "    \"productos_separados_suelo\",\n",
    "    \"publico_o_privado\",\n",
    "    \"seguido_de_muerte\",\n",
    "    \"simple\",\n",
    "    \"simples\",\n",
    "    \"sin_autorizacion\",\n",
    "    \"tarjeta_credito_debito\",\n",
    "    \"tenencia\",\n",
    "    \"tentativa\",\n",
    "    \"tentativa_agravado_alevosia\",\n",
    "    \"transporte_de_pasajeros_sin_habilitacion_o_autorizacion\",\n",
    "    \"uso_de_tarjeta_o_datos\",\n",
    "    \"vehiculos\",\n",
    "]"
   ]
  },
  {
   "cell_type": "code",
   "execution_count": null,
   "id": "5a949e9c-e533-4bb2-8d59-49e4eb09ae07",
   "metadata": {},
   "outputs": [],
   "source": [
    "detail_categories = [\n",
    "    \"audiencia_victima_ley26485\",\n",
    "    \"30_dias\",\n",
    "    \"45_dias\",\n",
    "    \"60_dias\",\n",
    "    \"90_dias\",\n",
    "    \"180_dias\",\n",
    "    \"abandono_vehiculo\",\n",
    "    \"absolucion\",\n",
    "    \"absolucion_desistimiento_fiscal\",\n",
    "    \"accesorias_legales\",\n",
    "    \"acepta_competencia_inhibitoria\",\n",
    "    \"acepta_cuestion_turno\",\n",
    "    \"aclaratoria\",\n",
    "    \"acta_de_comprobacion\",\n",
    "    \"acta_de_intimacion\",\n",
    "    \"acuerdo_de_pago_levanta_embargo\",\n",
    "    \"acumulacion_por_conexidad_y_ampliacion\",\n",
    "    \"admisibilidad\",\n",
    "    \"agente_encubierto\",\n",
    "    \"agente_revelador\",\n",
    "    \"agotamiento_de_la_pena\",\n",
    "    \"alimentos_provisorios\",\n",
    "    \"allanamiento\",\n",
    "    \"apelacion\",\n",
    "    \"apertura_extraccion_examen_datos\",\n",
    "    \"aprehension\",\n",
    "    \"arma\",\n",
    "    \"armas\",\n",
    "    \"arresto_domiciliario_deja_sin_efecto\",\n",
    "    \"asesor_tutelar\",\n",
    "    \"atipicidad_sobreseimiento\",\n",
    "    \"audiencia_acusado_ley26485\",\n",
    "    \"audiencia_acusado_difiere_sentencia\",\n",
    "    \"audiencia_preliminar\",\n",
    "    \"audiencia_victima_11bis_ley24660\",\n",
    "    \"bloqueo_acceso_al_dominio\",\n",
    "    \"cadena_de_custodia_de_elementos_secuestrados\",\n",
    "    \"camara_gesell\",\n",
    "    \"cambio_domicilio_prision_domiciliaria\",\n",
    "    \"captura\",\n",
    "    \"captura_deja_sin_efecto\",\n",
    "    \"caucion_real\",\n",
    "    \"cedula_de_notificacion\",\n",
    "    \"cese_de_actos_de_perturbacion_o_intimidacion\",\n",
    "    \"cese_de_medidas\",\n",
    "    \"cese_de_medidas_parcial\",\n",
    "    \"cierre_de_instancia\",\n",
    "    \"clausura\",\n",
    "    \"clausura_deja_sin_efecto\",\n",
    "    \"competencia_penal_juvenil\",\n",
    "    \"concede\",\n",
    "    \"concede_parcialmente\",\n",
    "    \"conocimiento_personal\",\n",
    "    \"consigna_policial\",\n",
    "    \"contienda_negativa\",\n",
    "    \"control\",\n",
    "    \"convalida_fallecimiento\",\n",
    "    \"convalida_inimputabilidad\",\n",
    "    \"convalidacion_otras_causales\",\n",
    "    \"copia_forense_celular\",\n",
    "    \"copias_de_capturas_de_pantalla_mensajes_y_llamados\",\n",
    "    \"cosa_juzgada_sobreseimiento\",\n",
    "    \"cuarto_intermedio\",\n",
    "    \"cuarto_intermedio_para_resolver\",\n",
    "    \"cumplimiento_de_regla_de_conducta_en_complejo_penitenciario\",\n",
    "    \"cumplimiento_de_reglas_de_conducta\",\n",
    "    \"declaracion_testimonial\",\n",
    "    \"declina_competencia\",\n",
    "    \"defensa\",\n",
    "    \"defensa_particular\",\n",
    "    \"defensa_querella\",\n",
    "    \"deja_sin_efecto_inhabilitacion_y_devuelve_licencia\",\n",
    "    \"deja_sin_efecto_revocacion\",\n",
    "    \"delitos_de_accion_publica\",\n",
    "    \"desistimiento_accion_instancia_privada_sobreseimiento\",\n",
    "    \"desistimiento_fiscal\",\n",
    "    \"destruccion_de_arma\",\n",
    "    \"detencion\",\n",
    "    \"detencion_captura_y/o_traslado\",\n",
    "    \"detencion_captura_y/o_traslado_deja_sin_efecto\",\n",
    "    \"detencion_secuestro_y_requisa\",\n",
    "    \"devolucion_acarreo_y_estadia\",\n",
    "    \"dictamen_fiscal\",\n",
    "    \"difiere_decision\",\n",
    "    \"difiere_fundamentos\",\n",
    "    \"difiere_resolucion\",\n",
    "    \"dispositivo_de_geoposicionamiento_mantiene_hasta_juicio\",\n",
    "    \"domiciliaria_con_vigilancia_electronica\",\n",
    "    \"egreso_del_pais\",\n",
    "    \"ejecucion_de_honorarios\",\n",
    "    \"embargo\",\n",
    "    \"embargo_deja_sin_efecto\",\n",
    "    \"estimulo_educativo\",\n",
    "    \"estupefacientes\",\n",
    "    \"estupefacientes_dinero\",\n",
    "    \"estupefacientes_telefono_dinero\",\n",
    "    \"estupefacientes_telefono_dinero_arma\",\n",
    "    \"estupefacientes_telefono_vehiculo\",\n",
    "    \"estupefacientes_vehiculo_dinero\",\n",
    "    \"excarcelacion\",\n",
    "    \"exclusion_del_hogar\",\n",
    "    \"exhorto\",\n",
    "    \"exhorto_diplomatico\",\n",
    "    \"exime_pago_multa\",\n",
    "    \"exime_reparacion_del_daño_y_pago_multa\",\n",
    "    \"eximicion_pago\",\n",
    "    \"eximicion_pauta_de_conducta\",\n",
    "    \"expulsion_art_64_a_ley_25871\",\n",
    "    \"extincion_accion_por_autocomposicion\",\n",
    "    \"extincion_accion_por_cumplimiento\",\n",
    "    \"extincion_accion_sobreseimiento\",\n",
    "    \"extincion_accion_sobreseimiento_por_fallecimiento\",\n",
    "    \"extincion_de_la_pena\",\n",
    "    \"extincion_sancion_por_cumplimiento\",\n",
    "    \"extrañamiento\",\n",
    "    \"falta_de_accion_sobreseimiento\",\n",
    "    \"falta_de_legitimacion_pasiva\",\n",
    "    \"falta_de_participacion\",\n",
    "    \"falta_de_presentacion\",\n",
    "    \"falta_de_requisitos_procedencia\",\n",
    "    \"fija_nueva_audiencia\",\n",
    "    \"fondo_de_reserva\",\n",
    "    \"habeas_corpus\",\n",
    "    \"hasta_agotar_investigacion\",\n",
    "    \"identidad_objeto_y_sujeto\",\n",
    "    \"imagenes_videos\",\n",
    "    \"incompetencia_material\",\n",
    "    \"incompetencia_por_conexidad\",\n",
    "    \"incompetencia_por_conexidad_subjetiva\",\n",
    "    \"incompetencia_territorial\",\n",
    "    \"indeterminacion_imputacion\",\n",
    "    \"informacion_y_apertura_de_antenas_llamadas\",\n",
    "    \"informe_cij\",\n",
    "    \"informe_mercado_libre\",\n",
    "    \"informe_ncmec\",\n",
    "    \"informe_previo\",\n",
    "    \"informes_llamadas_y_deteccion_de_celdas\",\n",
    "    \"inhabilitacion_para_conducir\",\n",
    "    \"inhabilitacion_para_conducir_deja_sin_efecto\",\n",
    "    \"inmovilizacion\",\n",
    "    \"interes_en_el_caso\",\n",
    "    \"internacion_involuntaria\",\n",
    "    \"interprete\",\n",
    "    \"interprete_y_defensa\",\n",
    "    \"interrogatorio_policial\",\n",
    "    \"intervencion_equipo_especializado\",\n",
    "    \"intervencion_previa\",\n",
    "    \"intervencion_red_social\",\n",
    "    \"intervencion_telefonica\",\n",
    "    \"intervencion_telefonica_con_ubicacion_de_celda_de_apertura\",\n",
    "    \"levantamiento_clausura_administrativa\",\n",
    "    \"levantamiento_secreto_bancario\",\n",
    "    \"levantamiento_secreto_fiscal\",\n",
    "    \"liberacion_aves\",\n",
    "    \"libertad_asistida_incorporacion\",\n",
    "    \"libertad_condicional_otorga\",\n",
    "    \"libertad_condicional_revoca\",\n",
    "    \"litispendencia\",\n",
    "    \"mantiene\",\n",
    "    \"mediacion\",\n",
    "    \"medidas_restrictivas\",\n",
    "    \"modifica_pauta_de_conducta\",\n",
    "    \"morigeracion_domiciliaria\",\n",
    "    \"no_convalida\",\n",
    "    \"no_homologa_absolucion\",\n",
    "    \"notificacion_via_mail\",\n",
    "    \"nulidad_incorporacion_prueba\",\n",
    "    \"otorga_plazo\",\n",
    "    \"otras_vias_idoneas\",\n",
    "    \"pago_de_multa_en_cuotas\",\n",
    "    \"pago_minimo_multa_sobreseimiento\",\n",
    "    \"pago_minimo_multa_y_reparacion_daño_64cp\",\n",
    "    \"paradero\",\n",
    "    \"paradero_deja_sin_efecto\",\n",
    "    \"parcial_requerimiento_de_juicio\",\n",
    "    \"parcial_requerimiento_de_juicio_falta_de_circunscripcion_temporal\",\n",
    "    \"parcial_requerimiento_de_juicio_falta_de_fundamentacion\",\n",
    "    \"parcial_requerimiento_de_juicio_por_introduccion_de_agravante\",\n",
    "    \"pedido_de_informe_banco\",\n",
    "    \"pedido_de_informe_facebook\",\n",
    "    \"pedido_de_informe_facebook_google\",\n",
    "    \"pedido_de_informe_facebook_microsoft\",\n",
    "    \"pedido_de_informe_google\",\n",
    "    \"pedido_de_informe_google_microsoft\",\n",
    "    \"pedido_de_informe_imgur_llc\",\n",
    "    \"pedido_de_informe_instagram\",\n",
    "    \"pedido_de_informe_microsoft\",\n",
    "    \"pedido_de_informe_skype\",\n",
    "    \"pedido_de_informe_telefonia\",\n",
    "    \"pedido_de_informe_whatsapp\",\n",
    "    \"pedido_informe_tiktok\",\n",
    "    \"pedido_prision_domiciliaria\",\n",
    "    \"pena_de_arresto_efectivo_cumplimiento\",\n",
    "    \"pena_de_arresto_efectivo_cumplimiento_compurgada\",\n",
    "    \"pena_de_arresto_en_suspenso\",\n",
    "    \"pena_de_inhabilitacion_especial\",\n",
    "    \"pena_de_multa_efectivo_cumplimiento\",\n",
    "    \"pena_de_multa_en_suspenso\",\n",
    "    \"pena_de_multa_sustituida_por_amonestacion\",\n",
    "    \"pena_de_multa_sustituida_por_clausura_se_tiene_por_cumplida\",\n",
    "    \"pena_de_multa_sustituida_por_trabajos_comunitarios\",\n",
    "    \"pena_de_prision_domiciliaria\",\n",
    "    \"pena_de_prision_efectivo_cumplimiento\",\n",
    "    \"pena_de_prision_efectivo_cumplimiento_compurgada\",\n",
    "    \"pena_de_prision_efectivo_cumplimiento_domiciliaria\",\n",
    "    \"pena_de_prision_en_suspenso\",\n",
    "    \"pena_de_tareas_comunitarias\",\n",
    "    \"pena_de_tareas_de_utilidad_publica\",\n",
    "    \"pericia\",\n",
    "    \"pericia_arma\",\n",
    "    \"pericia_examen_veterinario\",\n",
    "    \"peritaje_de_telefono\",\n",
    "    \"peritaje_ordenadores_y_o_telefonos\",\n",
    "    \"peritaje_telefono\",\n",
    "    \"perito\",\n",
    "    \"permiso_de_viaje\",\n",
    "    \"plazo_razonable_sobreseimiento\",\n",
    "    \"plazo_razonable_sobresimiento\",\n",
    "    \"pleito_con_una_parte\",\n",
    "    \"por_quince_dias_hasta_tomar_contacto_con_victima\",\n",
    "    \"prescripcion_sobreseimiento\",\n",
    "    \"prision_domiciliaria_mantiene\",\n",
    "    \"prision_domiciliaria_prorroga\",\n",
    "    \"procedimiento\",\n",
    "    \"procedimiento_administrativo_pendiente\",\n",
    "    \"prohibicion_compra_tenencia_registracion_de_armas\",\n",
    "    \"prohibicion_de_acercamiento\",\n",
    "    \"prohibicion_de_acercamiento_y_contacto\",\n",
    "    \"prohibicion_de_publicar_en_redes\",\n",
    "    \"prohibicion_de_publicar_en_redes_sobre\",\n",
    "    \"promocion_a_periodo_de_prueba_art_7_ley_24660\",\n",
    "    \"prorroga\",\n",
    "    \"prueba_ofrecida\",\n",
    "    \"publicacion_de_edictos\",\n",
    "    \"queja\",\n",
    "    \"querella\",\n",
    "    \"quita_puntos_de_licencia_de_conducir\",\n",
    "    \"realizacion\",\n",
    "    \"rebeldia\",\n",
    "    \"rebeldia_deja_sin_efecto\",\n",
    "    \"rebeldia_y_captura\",\n",
    "    \"rebeldia_y_paradero\",\n",
    "    \"rechaza_acuerdo\",\n",
    "    \"rechaza_competencia\",\n",
    "    \"regimen_de_comunicacion_provisoria\",\n",
    "    \"reincidencia\",\n",
    "    \"reintegra_puntos_de_licencia_de_conducir\",\n",
    "    \"remate_vehiculo\",\n",
    "    \"remision_a_justicia_civil\",\n",
    "    \"remision_camara_para_sorteo\",\n",
    "    \"reparacion_integral_del_daño_sobreseimiento\",\n",
    "    \"replica_de_arma_de_plastico\",\n",
    "    \"reposicion\",\n",
    "    \"reposicion_apelacion_subsidio\",\n",
    "    \"reprogramacion\",\n",
    "    \"requerido_por_infractor\",\n",
    "    \"requerimiento_de_juicio\",\n",
    "    \"requerimiento_de_juicio_falta_de_fundamentacion\",\n",
    "    \"requisa\",\n",
    "    \"restitucion_de_inmueble\",\n",
    "    \"revision_psicofisica_capacidad\",\n",
    "    \"revision_psiquiatrica_y_psicologica\",\n",
    "    \"revoca\",\n",
    "    \"revoca_condicionalidad\",\n",
    "    \"revocacion\",\n",
    "    \"rueda_de_reconocimiento\",\n",
    "    \"salidas_extraordinarias\",\n",
    "    \"salidas_transitorias\",\n",
    "    \"sancion_sustitutiva_prorroga\",\n",
    "    \"secuestro\",\n",
    "    \"sin_indicacion_plazo\",\n",
    "    \"sobreseimiento\",\n",
    "    \"solicita\",\n",
    "    \"solicitud_destruccion_de_estupefacientes\",\n",
    "    \"tareas_de_investigacion\",\n",
    "    \"telefono\",\n",
    "    \"temor_parcialidad_generico\",\n",
    "    \"tiene_por_desistido\",\n",
    "    \"tiene_por_no_computado_plazo\",\n",
    "    \"tiene_presente\",\n",
    "    \"tiene_presente_acuerdo\",\n",
    "    \"tobillera_refractaria\",\n",
    "    \"traslado_por_fuerza_publica\",\n",
    "    \"unifica_solicita_inhibitoria\",\n",
    "    \"unificacion_de_pena\",\n",
    "    \"vehiculo\",\n",
    "    \"vencimiento_plazo_ipp\",\n",
    "]"
   ]
  },
  {
   "cell_type": "code",
   "execution_count": null,
   "id": "92bc208d-00d1-483e-9dde-36430ab54f16",
   "metadata": {},
   "outputs": [],
   "source": [
    "object_categories = [\n",
    "    \"acumulacion_de_caso\",\n",
    "    \"admisibilidad_amparo\",\n",
    "    \"admisibilidad_habeas_corpus\",\n",
    "    \"admisibilidad_prueba\",\n",
    "    \"apartamiento\",\n",
    "    \"archivo_fiscal\",\n",
    "    \"audiencia_de_conciliacion\",\n",
    "    \"beneficio_litigar_sin_gastos\",\n",
    "    \"caducidad_de_instancia\",\n",
    "    \"cuestion_de_competencia\",\n",
    "    \"decomiso\",\n",
    "    \"desistimiento_faltas\",\n",
    "    \"ejecucion_de_la_pena\",\n",
    "    \"excepcion\",\n",
    "    \"excusacion\",\n",
    "    \"extraccion_testimonios\",\n",
    "    \"juicio_abreviado\",\n",
    "    \"juicio_oral\",\n",
    "    \"juzgamiento_faltas\",\n",
    "    \"mediacion\",\n",
    "    \"medida_cautelar\",\n",
    "    \"medida_probatoria\",\n",
    "    \"mesa_de_dialogo\",\n",
    "    \"nulidad\",\n",
    "    \"prision_preventiva\",\n",
    "    \"prorroga_investigacion_penal_preparatoria\",\n",
    "    \"recurso\",\n",
    "    \"recusacion\",\n",
    "    \"regulacion_de_honorarios\",\n",
    "    \"remision_controladora\",\n",
    "    \"restablecimiento_de_contacto\",\n",
    "    \"restitucion_de_efectos\",\n",
    "    \"restitucion_de_inmueble\",\n",
    "    \"restitucion_efectos\",\n",
    "    \"suspension_del_proceso_a_prueba\",\n",
    "]"
   ]
  },
  {
   "cell_type": "code",
   "execution_count": null,
   "id": "a26526b6",
   "metadata": {},
   "outputs": [],
   "source": [
    "with open('./conduct_options.txt', 'r') as file:\n",
    "    conduct_categories = file.read().splitlines()\n",
    "with open('./conduct_desc_options.txt', 'r') as file:\n",
    "    conduct_desc_categories = file.read().splitlines()\n",
    "with open('./detail_options.txt', 'r') as file:\n",
    "    detail_categories = file.read().splitlines()\n",
    "with open('./object_options.txt', 'r') as file:\n",
    "    object_categories = file.read().splitlines()"
   ]
  },
  {
   "cell_type": "markdown",
   "id": "4b611768-9c1a-4f9a-a81f-ab7c81676d7e",
   "metadata": {},
   "source": [
    "## Pipeline"
   ]
  },
  {
   "cell_type": "code",
   "execution_count": null,
   "id": "9c3108d5",
   "metadata": {},
   "outputs": [],
   "source": [
    "from aymurai.pipeline import AymurAIPipeline\n",
    "from aymurai.models.flair.core import FlairModel\n",
    "from aymurai.models.flair.utils import FlairTextNormalize\n",
    "from aymurai.transforms.entity_subcategories.regex import RegexSubcategorizer\n",
    "from aymurai.transforms.entity_subcategories.usem import USEMSubcategorizePipeline, USEMSubcategorizer\n",
    "\n",
    "config = {\n",
    "    \"preprocess\": [\n",
    "        (FlairTextNormalize, {}),\n",
    "    ],\n",
    "    \"models\": [\n",
    "        (\n",
    "            FlairModel,\n",
    "            {\n",
    "                \"basepath\": \"/resources/pipelines/examples/flair-simple/FlairModel\",\n",
    "                \"split_doc\": True,\n",
    "                \"device\": \"cpu\",\n",
    "            },\n",
    "        )\n",
    "    ],\n",
    "    \"postprocess\": [\n",
    "        (RegexSubcategorizer, {}),\n",
    "        (\n",
    "            USEMSubcategorizer,\n",
    "                {\n",
    "                    \"category\": \"CONDUCTA\",\n",
    "                    # \"subcategories\": conduct_categories,\n",
    "                    \"subcategories_path\": './conduct_options.txt',\n",
    "                    \"response_embeddings_path\": \"/resources/pipelines/examples/flair-simple/UsemEmbeddings/conduct_embeddings.npy\",\n",
    "                }\n",
    "        ),\n",
    "        (\n",
    "            USEMSubcategorizer,\n",
    "                {\n",
    "                    \"category\": \"CONDUCTA_DESCRIPCION\",\n",
    "                    # \"subcategories\": conduct_descr_categories,\n",
    "                    \"subcategories_path\": './conduct_desc_options.txt',\n",
    "                    \"response_embeddings_path\": \"/resources/pipelines/examples/flair-simple/UsemEmbeddings/conduct_descr_embeddings.npy\",\n",
    "                }\n",
    "        ),\n",
    "        (\n",
    "            USEMSubcategorizer,\n",
    "                {\n",
    "                    \"category\": \"DETALLE\",\n",
    "                    # \"subcategories\": detail_categories,\n",
    "                    \"subcategories_path\": './detail_options.txt',\n",
    "                    \"response_embeddings_path\": \"/resources/pipelines/examples/flair-simple/UsemEmbeddings/detail_embeddings.npy\",\n",
    "                }\n",
    "        ),\n",
    "        (\n",
    "            USEMSubcategorizer,\n",
    "                {\n",
    "                    \"category\": \"OBJETO_DE_LA_RESOLUCION\",\n",
    "                    \"subcategories_path\": './object_options.txt',\n",
    "                    # \"subcategories\": object_categories,\n",
    "                    \"response_embeddings_path\": \"/resources/pipelines/examples/flair-simple/UsemEmbeddings/object_embeddings.npy\",\n",
    "                }\n",
    "        ),\n",
    "    ],\n",
    "    # \"multiprocessing\": {},\n",
    "    \"use_cache\": False,\n",
    "    # 'log_level': 'debug'\n",
    "}"
   ]
  },
  {
   "cell_type": "code",
   "execution_count": null,
   "id": "c004445b",
   "metadata": {},
   "outputs": [],
   "source": [
    "pipeline = AymurAIPipeline(config)\n",
    "results = pipeline.preprocess(sample[:1])\n",
    "results = pipeline.predict(results)\n"
   ]
  },
  {
   "cell_type": "code",
   "execution_count": null,
   "id": "4da4ea6a",
   "metadata": {},
   "outputs": [],
   "source": [
    "\n",
    "pp = pipeline.postprocess(results)"
   ]
  },
  {
   "cell_type": "code",
   "execution_count": null,
   "id": "6c594104",
   "metadata": {},
   "outputs": [],
   "source": [
    "# from aymurai.pipeline import AymurAIPipeline\n",
    "# from aymurai.models.flair.core import FlairModel\n",
    "# from aymurai.models.flair.utils import FlairTextNormalize\n",
    "# from aymurai.transforms.entity_subcategories.regex import RegexSubcategorizer\n",
    "# from aymurai.transforms.entity_subcategories.usem import (\n",
    "#     USEMSubcategorizePipeline,\n",
    "#     USEMSubcategorizer,\n",
    "# )\n",
    "\n",
    "# config = {\n",
    "#     \"preprocess\": [\n",
    "#         (FlairTextNormalize, {}),\n",
    "#     ],\n",
    "#     \"models\": [\n",
    "#         (\n",
    "#             FlairModel,\n",
    "#             {\n",
    "#                 \"basepath\": \"/resources/pipelines/examples/flair-simple/FlairModel\",\n",
    "#                 \"split_doc\": True,\n",
    "#                 \"device\": \"cpu\",\n",
    "#             },\n",
    "#         )\n",
    "#     ],\n",
    "#     \"postprocess\": [\n",
    "#         (RegexSubcategorizer, {}),\n",
    "#         (\n",
    "#             USEMSubcategorizePipeline,\n",
    "#             {\n",
    "#                 \"steps\": [\n",
    "#                     {\n",
    "#                         \"category\": \"CONDUCTA\",\n",
    "#                         \"subcategories\": conduct_categories,\n",
    "#                         \"response_embeddings_path\": \"/resources/pipelines/examples/flair-simple/UsemEmbeddings/conduct_embeddings.npy\",\n",
    "#                     },\n",
    "#                     {\n",
    "#                         \"category\": \"CONDUCTA_DESCRIPCION\",\n",
    "#                         \"subcategories\": conduct_descr_categories,\n",
    "#                         \"response_embeddings_path\": \"/resources/pipelines/examples/flair-simple/UsemEmbeddings//conduct_descr_embeddings.npy\",\n",
    "#                     },\n",
    "#                     {\n",
    "#                         \"category\": \"DETALLE\",\n",
    "#                         \"subcategories\": detail_categories,\n",
    "#                         \"response_embeddings_path\": \"/resources/pipelines/examples/flair-simple/UsemEmbeddings/detail_embeddings.npy\",\n",
    "#                     },\n",
    "#                     {\n",
    "#                         \"category\": \"OBJETO_DE_LA_RESOLUCION\",\n",
    "#                         \"subcategories\": object_categories,\n",
    "#                         \"response_embeddings_path\": \"/resources/pipelines/examples/flair-simple/UsemEmbeddings/object_embeddings.npy\",\n",
    "#                     },\n",
    "#                 ],\n",
    "#             },\n",
    "#         ),\n",
    "#     ],\n",
    "#     # \"multiprocessing\": {},\n",
    "#     \"use_cache\": False,\n",
    "#     # 'log_level': 'debug'\n",
    "# }\n"
   ]
  },
  {
   "cell_type": "code",
   "execution_count": null,
   "id": "48843660-523d-4185-b0d5-3ae03ff86248",
   "metadata": {},
   "outputs": [],
   "source": [
    "# pipeline = AymurAIPipeline(config)\n",
    "# "
   ]
  },
  {
   "cell_type": "code",
   "execution_count": null,
   "id": "aec1ac84",
   "metadata": {},
   "outputs": [],
   "source": [
    "\n",
    "# preprocess = pipeline.preprocess(sample)\n",
    "# results = pipeline.predict(preprocess)\n"
   ]
  },
  {
   "cell_type": "code",
   "execution_count": null,
   "id": "f8509c80",
   "metadata": {},
   "outputs": [],
   "source": [
    "# \n",
    "postprocess = pipeline.postprocess(results)"
   ]
  },
  {
   "cell_type": "code",
   "execution_count": null,
   "id": "d15c97f8-fde4-4386-9729-ea9ec5ecfce0",
   "metadata": {},
   "outputs": [],
   "source": [
    "idx = -1"
   ]
  },
  {
   "cell_type": "code",
   "execution_count": null,
   "id": "3fbf7f29",
   "metadata": {
    "tags": []
   },
   "outputs": [],
   "source": [
    "render(postprocess[idx])"
   ]
  },
  {
   "cell_type": "code",
   "execution_count": null,
   "id": "d7c1d9cb",
   "metadata": {
    "tags": []
   },
   "outputs": [],
   "source": [
    "postprocess[idx][\"predictions\"][\"entities\"]"
   ]
  },
  {
   "cell_type": "code",
   "execution_count": null,
   "id": "9f6f633e-6cd4-4ee3-88f4-443343bc0b99",
   "metadata": {
    "tags": []
   },
   "outputs": [],
   "source": [
    "for label in [\"VIOLENCIA_DE_GENERO\"]:\n",
    "    __ = [_ for _ in results[idx][\"predictions\"][\"entities\"] if _[\"label\"] == label]\n",
    "    print(label)\n",
    "    display(__)\n",
    "    print(\"\\n\\n\")"
   ]
  },
  {
   "cell_type": "code",
   "execution_count": null,
   "id": "b9819ede-8442-4210-b9e5-e52b9efc330d",
   "metadata": {
    "tags": []
   },
   "outputs": [],
   "source": [
    "for label in [\"CONDUCTA\", \"CONDUCTA_DESCRIPCION\", \"DETALLE\", \"OBJETO_DE_LA_RESOLUCION\"]:\n",
    "    __ = [_ for _ in results[idx][\"predictions\"][\"entities\"] if _[\"label\"] == label]\n",
    "    print(label)\n",
    "    display(__)\n",
    "    print(\"\\n\\n\")"
   ]
  },
  {
   "cell_type": "markdown",
   "id": "50330495",
   "metadata": {},
   "source": [
    "## Load conll train data"
   ]
  },
  {
   "cell_type": "code",
   "execution_count": null,
   "id": "8297c529",
   "metadata": {},
   "outputs": [],
   "source": [
    "import re\n",
    "import pandas as pd\n",
    "pd.set_option(\"display.max_rows\", 500)\n",
    "pd.set_option('max_colwidth', 400)"
   ]
  },
  {
   "cell_type": "code",
   "execution_count": null,
   "id": "bad63520",
   "metadata": {},
   "outputs": [],
   "source": [
    "path = \"/resources/ner/flair/resos-20221130-no-decision/\"\n",
    "df = pd.read_csv(path+\"train.txt\", sep=\"\\s\", header=None)\n",
    "df.columns = [\"token\", \"label\"]\n",
    "df.head()"
   ]
  },
  {
   "cell_type": "code",
   "execution_count": null,
   "id": "390a5acb",
   "metadata": {},
   "outputs": [],
   "source": [
    "df.info()"
   ]
  },
  {
   "cell_type": "code",
   "execution_count": null,
   "id": "5f2f714e",
   "metadata": {},
   "outputs": [],
   "source": [
    "df[\"clean_label\"] = df[\"label\"].map(lambda x: re.sub(r\"B-|I-\", \"\", x))"
   ]
  },
  {
   "cell_type": "code",
   "execution_count": null,
   "id": "ac4f9728",
   "metadata": {},
   "outputs": [],
   "source": [
    "df[\"clean_label\"].value_counts()"
   ]
  },
  {
   "cell_type": "code",
   "execution_count": null,
   "id": "1a3e7300",
   "metadata": {},
   "outputs": [],
   "source": [
    "import unidecode\n",
    "\n",
    "\n",
    "def normalize_text(text: str) -> str:\n",
    "    text = unidecode.unidecode(text.lower())\n",
    "    text = re.sub(r'[_\\-,.;:]+', '', text)\n",
    "    return text"
   ]
  },
  {
   "cell_type": "markdown",
   "id": "a291a383-0062-4d32-a41e-09424e408ec6",
   "metadata": {},
   "source": [
    "## Load json data"
   ]
  },
  {
   "cell_type": "code",
   "execution_count": null,
   "id": "3b3cf193",
   "metadata": {},
   "outputs": [],
   "source": [
    "from aymurai.utils.json_data import load_json\n",
    "\n",
    "\n",
    "file_path = \"/resources/annotations/label-studio/resos-annotations/30-nov/no-decision/no_decision.json\"\n",
    "annots = load_json(file_path)"
   ]
  },
  {
   "cell_type": "code",
   "execution_count": null,
   "id": "1b708c66",
   "metadata": {},
   "outputs": [],
   "source": [
    "def extract_text_choices(pred: dict) -> dict:\n",
    "    output_dict = {}\n",
    "    output_dict[\"text\"] = pred[\"value\"][\"text\"]\n",
    "    output_dict[\"choices\"] = pred[\"value\"][\"choices\"]\n",
    "\n",
    "    if len(output_dict[\"choices\"]) == 1:\n",
    "        output_dict[\"choices\"] = output_dict[\"choices\"][0]\n",
    "    \n",
    "    return output_dict"
   ]
  },
  {
   "cell_type": "markdown",
   "id": "ff4d23f3",
   "metadata": {
    "jp-MarkdownHeadingCollapsed": true,
    "tags": []
   },
   "source": [
    "#### Violencia de género"
   ]
  },
  {
   "cell_type": "code",
   "execution_count": null,
   "id": "b9f95643",
   "metadata": {},
   "outputs": [],
   "source": [
    "viol_gen = [\n",
    "    pred_ent for pred_ent in pred_ents if pred_ent[\"label\"] == \"VIOLENCIA_DE_GENERO\"\n",
    "]\n"
   ]
  },
  {
   "cell_type": "code",
   "execution_count": null,
   "id": "256a1a7f",
   "metadata": {},
   "outputs": [],
   "source": [
    "viol_gen"
   ]
  },
  {
   "cell_type": "code",
   "execution_count": null,
   "id": "16c77ca5",
   "metadata": {},
   "outputs": [],
   "source": [
    "import re"
   ]
  },
  {
   "cell_type": "code",
   "execution_count": null,
   "id": "6a59761b",
   "metadata": {},
   "outputs": [],
   "source": [
    "def find_violence_types(pred: str) -> list:\n",
    "    normalized_pred = normalize_text(pred)\n",
    "\n",
    "    violence_type_patterns = {\n",
    "        \"fisica\": r\"[Ff][ií]sic[ao]\",\n",
    "        \"psicologica\": r\"[Pp]sico(?:l[oó]gica)?\",\n",
    "        \"economica\": r\"[Ee]con[oó]mica\",\n",
    "        \"social\": r\"[Ss]ocial\",\n",
    "        \"ambiental\": r\"[Aa]mbiental\",\n",
    "        \"simbolica\": r\"[Ss]imb[oó]lica\",\n",
    "        \"sexual\": r\"[Ss]exual\",\n",
    "        \"politica\": r\"[Pp]ol[ií]tica\",\n",
    "    }\n",
    "\n",
    "    found_types = set()\n",
    "\n",
    "    for violence_type, pattern in violence_type_patterns.items():\n",
    "        if re.search(pattern, normalized_pred):\n",
    "            found_types.add(violence_type)\n",
    "    \n",
    "    return list(found_types)\n"
   ]
  },
  {
   "cell_type": "code",
   "execution_count": null,
   "id": "f0d66817",
   "metadata": {},
   "outputs": [],
   "source": [
    "[find_violence_types(pred[\"text\"]) for pred in viol_gen]"
   ]
  },
  {
   "cell_type": "code",
   "execution_count": null,
   "id": "43af27e2",
   "metadata": {},
   "outputs": [],
   "source": [
    "mask = df[\"clean_label\"] == \"VIOLENCIA_DE_GENERO\"\n",
    "\n",
    "df.loc[mask][\"label\"].value_counts()"
   ]
  },
  {
   "cell_type": "code",
   "execution_count": null,
   "id": "85dd0d90",
   "metadata": {},
   "outputs": [],
   "source": [
    "violence = df.loc[mask].copy()"
   ]
  },
  {
   "cell_type": "code",
   "execution_count": null,
   "id": "7fc3e08c",
   "metadata": {},
   "outputs": [],
   "source": [
    "violence[\"beginning\"] = violence[\"label\"].str.startswith(\"B\").astype(int)\n",
    "violence.head(10)"
   ]
  },
  {
   "cell_type": "code",
   "execution_count": null,
   "id": "da7e6b94",
   "metadata": {},
   "outputs": [],
   "source": [
    "violence[\"id\"] = violence[\"beginning\"].cumsum()\n",
    "violence.head(10)"
   ]
  },
  {
   "cell_type": "code",
   "execution_count": null,
   "id": "798c29d3",
   "metadata": {},
   "outputs": [],
   "source": [
    "violence_texts = violence.groupby(\"id\")[\"token\"].apply(\" \".join)\n",
    "violence_texts.sample(5)"
   ]
  },
  {
   "cell_type": "code",
   "execution_count": null,
   "id": "1a830ee0",
   "metadata": {},
   "outputs": [],
   "source": [
    "violence_texts.map(normalize_text).value_counts()"
   ]
  },
  {
   "cell_type": "code",
   "execution_count": null,
   "id": "07e823c2",
   "metadata": {},
   "outputs": [],
   "source": [
    "violence_texts = pd.DataFrame(violence_texts)\n",
    "violence_texts.rename({\"token\": \"text\"}, axis=1, inplace=True)\n",
    "violence_texts[\"types\"] = violence_texts[\"text\"].map(find_violence_types)\n",
    "violence_texts"
   ]
  },
  {
   "cell_type": "code",
   "execution_count": null,
   "id": "520ead0f",
   "metadata": {},
   "outputs": [],
   "source": [
    "violence_texts.loc[(violence_texts[\"types\"].map(len) > 0)]"
   ]
  },
  {
   "cell_type": "code",
   "execution_count": null,
   "id": "ccbfa211",
   "metadata": {},
   "outputs": [],
   "source": [
    "violence_texts.loc[(violence_texts[\"types\"].map(len) == 0)].sort_values(\"text\")"
   ]
  },
  {
   "cell_type": "markdown",
   "id": "b2a8a114",
   "metadata": {
    "jp-MarkdownHeadingCollapsed": true,
    "tags": []
   },
   "source": [
    "#### Modalidad de la violencia"
   ]
  },
  {
   "cell_type": "code",
   "execution_count": null,
   "id": "f2385308",
   "metadata": {},
   "outputs": [],
   "source": [
    "mask = df[\"clean_label\"] == \"MODALIDAD_DE_LA_VIOLENCIA\"\n",
    "\n",
    "df.loc[mask][\"label\"].value_counts()"
   ]
  },
  {
   "cell_type": "code",
   "execution_count": null,
   "id": "e3623559",
   "metadata": {},
   "outputs": [],
   "source": [
    "modality = df.loc[mask].copy()"
   ]
  },
  {
   "cell_type": "code",
   "execution_count": null,
   "id": "47935721",
   "metadata": {},
   "outputs": [],
   "source": [
    "modality[\"beginning\"] = modality[\"label\"].str.startswith(\"B\").astype(int)\n",
    "modality.head(10)"
   ]
  },
  {
   "cell_type": "code",
   "execution_count": null,
   "id": "fe6d36ff",
   "metadata": {},
   "outputs": [],
   "source": [
    "modality[\"id\"] = modality[\"beginning\"].cumsum()\n",
    "modality.head(10)"
   ]
  },
  {
   "cell_type": "code",
   "execution_count": null,
   "id": "ecc38a57",
   "metadata": {},
   "outputs": [],
   "source": [
    "modality_texts = modality.groupby(\"id\")[\"token\"].apply(\" \".join)\n",
    "modality_texts.sample(5)"
   ]
  },
  {
   "cell_type": "code",
   "execution_count": null,
   "id": "4622dd68",
   "metadata": {},
   "outputs": [],
   "source": [
    "modality_texts.map(normalize_text).value_counts()"
   ]
  },
  {
   "cell_type": "code",
   "execution_count": null,
   "id": "2a990118",
   "metadata": {},
   "outputs": [],
   "source": [
    "def find_violence_modalities(pred: str) -> list:\n",
    "    normalized_pred = normalize_text(pred)\n",
    "\n",
    "    violence_modality_patterns = {\n",
    "        \"domestica\": r\"[Dd]om[ée]stic[ao]|[Dd]omicili[ao]r?|[Ff]amiliar?\",\n",
    "        \"en_espacio_publico\": r\"[Pp]úblic[oa]\",\n",
    "        \"institucional\": r\"[Ii]nstitucional\",\n",
    "        \"laboral\": r\"[Ll]aboral|[Tt]rabajo\",\n",
    "        \"libertad_reproductiva\": r\"[Ll]ibertad reproductiva|[Rr]eproducci[oó]n\",\n",
    "        \"mediatica\": r\"[Mm]edi[aá](?!nte)(?:tic[ao])?s?\",\n",
    "        \"obstetrica\": r\"[Oo]bt[eé]tric(?:[ao]|ia)\",\n",
    "        \"publica_politica\": r\"[Pp][uú]blic[ao]|[Pp]ol[ií]tic[ao]\",\n",
    "    }\n",
    "\n",
    "    found_modalities = set()\n",
    "\n",
    "    for modality, pattern in violence_modality_patterns.items():\n",
    "        if re.search(pattern, normalized_pred):\n",
    "            found_modalities.add(modality)\n",
    "\n",
    "    return list(found_modalities)\n"
   ]
  },
  {
   "cell_type": "code",
   "execution_count": null,
   "id": "7c7caeb8",
   "metadata": {
    "tags": []
   },
   "outputs": [],
   "source": [
    "modality_texts = pd.DataFrame(modality_texts)\n",
    "modality_texts.rename({\"token\": \"text\"}, axis=1, inplace=True)\n",
    "modality_texts[\"types\"] = modality_texts[\"text\"].map(find_violence_modalities)\n",
    "modality_texts"
   ]
  },
  {
   "cell_type": "code",
   "execution_count": null,
   "id": "477dec00",
   "metadata": {
    "tags": []
   },
   "outputs": [],
   "source": [
    "modality_texts.loc[(modality_texts[\"types\"].map(len) > 0)]"
   ]
  },
  {
   "cell_type": "code",
   "execution_count": null,
   "id": "1ff5c6ad",
   "metadata": {},
   "outputs": [],
   "source": [
    "modality_texts.loc[(modality_texts[\"types\"].map(len) == 0)].sort_values(\"text\")"
   ]
  },
  {
   "cell_type": "markdown",
   "id": "68b2a825-e0a0-417a-96b8-c8dfb66b7511",
   "metadata": {
    "tags": []
   },
   "source": [
    "#### Relación y tipo entre acusado/a y denunciante"
   ]
  },
  {
   "cell_type": "code",
   "execution_count": null,
   "id": "15fa2182-4d45-4406-b7ef-15babbdb1bb4",
   "metadata": {},
   "outputs": [],
   "source": [
    "mask = df[\"clean_label\"] == \"RELACION_Y_TIPO_ENTRE_ACUSADO/A_Y_DENUNCIANTE\"\n",
    "\n",
    "df.loc[mask][\"label\"].value_counts()"
   ]
  },
  {
   "cell_type": "code",
   "execution_count": null,
   "id": "94eccec1-a990-4760-8580-08e27db612be",
   "metadata": {},
   "outputs": [],
   "source": [
    "relation = df.loc[mask].copy()"
   ]
  },
  {
   "cell_type": "code",
   "execution_count": null,
   "id": "9cae2c61-f692-4141-a796-563771c53684",
   "metadata": {},
   "outputs": [],
   "source": [
    "relation[\"beginning\"] = relation[\"label\"].str.startswith(\"B\").astype(int)\n",
    "relation.head(10)"
   ]
  },
  {
   "cell_type": "code",
   "execution_count": null,
   "id": "7c3c7a94-5452-4e7e-958b-b8ed47deb5c8",
   "metadata": {},
   "outputs": [],
   "source": [
    "relation[\"id\"] = relation[\"beginning\"].cumsum()\n",
    "relation.head(10)"
   ]
  },
  {
   "cell_type": "code",
   "execution_count": null,
   "id": "1a821260-2c76-4095-9b4a-5c4b8643c26b",
   "metadata": {},
   "outputs": [],
   "source": [
    "relation_texts = relation.groupby(\"id\")[\"token\"].apply(\" \".join)\n",
    "relation_texts.sample(5)"
   ]
  },
  {
   "cell_type": "code",
   "execution_count": null,
   "id": "ea1549c7-74ff-41e7-bc6b-68e479a5de13",
   "metadata": {},
   "outputs": [],
   "source": [
    "relation_texts.map(normalize_text).value_counts().head(25)"
   ]
  },
  {
   "cell_type": "code",
   "execution_count": null,
   "id": "48cca501-4634-4148-8c38-365a4bb2097c",
   "metadata": {},
   "outputs": [],
   "source": [
    "def filter_relationship_choices(annot: dict) -> bool:\n",
    "    try:\n",
    "        from_name = annot[\"from_name\"]\n",
    "        if from_name == \"RELACION_Y_TIPO_ENTRE_ACUSADO/A_Y_DENUNCIANTE\":\n",
    "            return True\n",
    "        \n",
    "    except:\n",
    "        return False"
   ]
  },
  {
   "cell_type": "code",
   "execution_count": null,
   "id": "6730b541-19d6-4604-b10d-f2c0325c0e72",
   "metadata": {},
   "outputs": [],
   "source": [
    "relationship_choices = []\n",
    "for sample in annots:\n",
    "    relationship = list(filter(filter_relationship_choices, sample[\"annotations\"][0][\"result\"]))\n",
    "    relationship_choices.extend(relationship)"
   ]
  },
  {
   "cell_type": "code",
   "execution_count": null,
   "id": "ad4e896c-0d26-42c4-aef8-df7263c07501",
   "metadata": {},
   "outputs": [],
   "source": [
    "len(relationship_choices)"
   ]
  },
  {
   "cell_type": "code",
   "execution_count": null,
   "id": "46a722d6-ac07-4a7c-b403-bbe8e756035e",
   "metadata": {},
   "outputs": [],
   "source": [
    "relationship_choices[-1]"
   ]
  },
  {
   "cell_type": "code",
   "execution_count": null,
   "id": "628277ad-2642-48d1-aad8-9810d3a87b73",
   "metadata": {
    "tags": []
   },
   "outputs": [],
   "source": [
    "list(map(extract_text_choices, relationship_choices))"
   ]
  },
  {
   "cell_type": "code",
   "execution_count": null,
   "id": "9806f567-323b-4657-8706-a29aa9dc99f8",
   "metadata": {},
   "outputs": [],
   "source": [
    "from aymurai.utils.json_data import group_by_key\n",
    "\n",
    "grouped = list(\n",
    "    group_by_key(\n",
    "        list(map(extract_text_choices, relationship_choices)),\n",
    "        group_key=\"choices\",\n",
    "        sort_key=\"choices\",\n",
    "    )\n",
    ")"
   ]
  },
  {
   "cell_type": "code",
   "execution_count": null,
   "id": "ef0b72cf-bb02-4ee8-b389-db78e147e396",
   "metadata": {},
   "outputs": [],
   "source": [
    "from more_itertools import flatten\n",
    "\n",
    "grouped = list(flatten(grouped))"
   ]
  },
  {
   "cell_type": "code",
   "execution_count": null,
   "id": "fa75d74a-50e1-4378-afa7-adea3c4887fb",
   "metadata": {
    "tags": []
   },
   "outputs": [],
   "source": [
    "grouped = pd.DataFrame(grouped)\n",
    "grouped[\"normalized_text\"] = grouped[\"text\"].map(normalize_text)\n",
    "grouped.drop_duplicates(subset=[\"normalized_text\", \"choices\"], inplace=True)\n",
    "grouped"
   ]
  },
  {
   "cell_type": "code",
   "execution_count": null,
   "id": "d67e2681-469b-4677-8d88-73804123ba2f",
   "metadata": {
    "tags": []
   },
   "outputs": [],
   "source": [
    "grouped[\"normalized_text\"].value_counts()"
   ]
  },
  {
   "cell_type": "code",
   "execution_count": null,
   "id": "af8a820a-45fb-4c1f-bafe-4ceb9987dd6d",
   "metadata": {},
   "outputs": [],
   "source": [
    "grouped[\"choices\"].value_counts()"
   ]
  },
  {
   "cell_type": "code",
   "execution_count": null,
   "id": "20485332-6296-40a9-84ec-a05d11534f5e",
   "metadata": {},
   "outputs": [],
   "source": [
    "grouped.groupby(\"choices\")[\"normalized_text\"].unique()"
   ]
  },
  {
   "cell_type": "code",
   "execution_count": null,
   "id": "2c6c0bcc-4e77-4e5e-b7ff-11b87d22c502",
   "metadata": {},
   "outputs": [],
   "source": [
    "def find_relationship_type(pred: str) -> list:\n",
    "    normalized_pred = normalize_text(pred)\n",
    "    \n",
    "    relationship_type_patterns = {\n",
    "        \"familiar\": r\"(?:familiar?|hij[ao]s?|[mp]adres?|herman[ao]s?)\",\n",
    "        \"pareja\": r\"(?<!ex)(?<!ex )(?:pareja|matrimonio|marid[ao]|espos[ao]|conyuge|amantes?)(?! de la madre)\",\n",
    "        \"ex_pareja\": r\"(?:(?:ex|eran|solian? .+) ?(?:pareja|conyuge|companero|marid[ao]|espos[ao])|separa(?:d[ao]s?|cion|ron|rse))\",\n",
    "        \"jefe_empleada\": r\"(?:jef[ae]|superior|jerarqui(?:a|co)|laboral|trabajo)\",\n",
    "        \"familiar_de_ex_pareja\": r\"(?:ex ?(suegr[ao]|yerno|nuera|cunad[ao])|familiar .+ex ?pareja)\",\n",
    "        \"pareja_de_la_madre\": r\"pareja de (?:la|su) madre\",\n",
    "        # \"ninguna\": r\"\",\n",
    "        \"vecino\": r\"vecin[ao]s?\",\n",
    "        \"profesor\": r\"profesor[ae]?s?|docentes?\",\n",
    "        \"propietario_del_inmueble_de_residencia\": r\"propietari[ao]s?\",\n",
    "        \"compañero\": r\"(?<!ex)(?<!ex )companer[ao]s?\",\n",
    "        \"amigo\": r\"amig[ao]s?\",\n",
    "        \"familiar_de_pareja\": r\"(?<!ex)(?<!ex )(?:familiar .+(?<!ex) ?pareja|suegr[ao]|yerno|nuera|cunad[ao])\",\n",
    "    }\n",
    "    \n",
    "    found_types = set()\n",
    "    \n",
    "    for rel_type, pattern in relationship_type_patterns.items():\n",
    "        if re.search(pattern, normalized_pred):\n",
    "            found_types.add(rel_type)\n",
    "    \n",
    "    return list(found_types)"
   ]
  },
  {
   "cell_type": "code",
   "execution_count": null,
   "id": "3e56f203-fb10-485d-891f-7ae617b24350",
   "metadata": {
    "tags": []
   },
   "outputs": [],
   "source": [
    "relation_texts = pd.DataFrame(relation_texts)\n",
    "relation_texts.rename({\"token\": \"text\"}, axis=1, inplace=True)\n",
    "relation_texts[\"types\"] = relation_texts[\"text\"].map(find_relationship_type)\n",
    "relation_texts"
   ]
  },
  {
   "cell_type": "code",
   "execution_count": null,
   "id": "c7377661-d513-4c43-b909-7808f75e95cd",
   "metadata": {
    "tags": []
   },
   "outputs": [],
   "source": [
    "relation_texts.loc[(relation_texts[\"types\"].map(len) > 1)]"
   ]
  },
  {
   "cell_type": "code",
   "execution_count": null,
   "id": "de59d2c4-88f1-444c-a26f-87e39303ad96",
   "metadata": {
    "tags": []
   },
   "outputs": [],
   "source": [
    "relation_texts.loc[(relation_texts[\"types\"].map(len) == 0)].sort_values(\"text\")"
   ]
  },
  {
   "cell_type": "markdown",
   "id": "7ac58d98-6d34-4dfe-933a-77080a64acf2",
   "metadata": {
    "jp-MarkdownHeadingCollapsed": true,
    "tags": []
   },
   "source": [
    "#### Tipo de resolución"
   ]
  },
  {
   "cell_type": "code",
   "execution_count": null,
   "id": "a9350cc9-1d9e-4cbd-b1b5-b5467c529d91",
   "metadata": {},
   "outputs": [],
   "source": [
    "mask = df[\"clean_label\"] == \"TIPO_DE_RESOLUCION\"\n",
    "\n",
    "df.loc[mask][\"label\"].value_counts()"
   ]
  },
  {
   "cell_type": "code",
   "execution_count": null,
   "id": "bbd52ef3-5d63-4a4d-9c20-157f64d41131",
   "metadata": {},
   "outputs": [],
   "source": [
    "resolution = df.loc[mask].copy()"
   ]
  },
  {
   "cell_type": "code",
   "execution_count": null,
   "id": "f1605fae-0c1c-4845-9c32-6246ae718325",
   "metadata": {},
   "outputs": [],
   "source": [
    "resolution[\"beginning\"] = resolution[\"label\"].str.startswith(\"B\").astype(int)\n",
    "resolution.head(10)"
   ]
  },
  {
   "cell_type": "code",
   "execution_count": null,
   "id": "e12fb98e-7f45-4e79-a9b2-611e88f80695",
   "metadata": {},
   "outputs": [],
   "source": [
    "resolution[\"id\"] = resolution[\"beginning\"].cumsum()\n",
    "resolution.head(10)"
   ]
  },
  {
   "cell_type": "code",
   "execution_count": null,
   "id": "023e5c60-3d91-4fc8-9e3f-4946c78772be",
   "metadata": {},
   "outputs": [],
   "source": [
    "resolution_texts = resolution.groupby(\"id\")[\"token\"].apply(\" \".join)\n",
    "resolution_texts.sample(5)"
   ]
  },
  {
   "cell_type": "code",
   "execution_count": null,
   "id": "d0557cc5-5d85-4cfb-979a-8debeec5328d",
   "metadata": {},
   "outputs": [],
   "source": [
    "resolution_texts.map(normalize_text).value_counts().head(25)"
   ]
  },
  {
   "cell_type": "code",
   "execution_count": null,
   "id": "278fc8a0-4eb7-4697-a799-5b89d3535679",
   "metadata": {},
   "outputs": [],
   "source": [
    "def filter_resolution_choices(annot: dict) -> bool:\n",
    "    try:\n",
    "        from_name = annot[\"from_name\"]\n",
    "        if from_name == \"TIPO_DE_RESOLUCION\":\n",
    "            return True\n",
    "        \n",
    "    except:\n",
    "        return False"
   ]
  },
  {
   "cell_type": "code",
   "execution_count": null,
   "id": "b377b708-1aa5-4999-9144-da2b08aa3a0d",
   "metadata": {},
   "outputs": [],
   "source": [
    "resolution_choices = []\n",
    "for sample in annots:\n",
    "    resolution = list(filter(filter_resolution_choices, sample[\"annotations\"][0][\"result\"]))\n",
    "    resolution_choices.extend(resolution)"
   ]
  },
  {
   "cell_type": "code",
   "execution_count": null,
   "id": "0618dc3b-0d91-4b9b-b078-1fd60300e6ea",
   "metadata": {},
   "outputs": [],
   "source": [
    "len(resolution_choices)"
   ]
  },
  {
   "cell_type": "code",
   "execution_count": null,
   "id": "298fc03d-84df-4834-b4ea-02ca38746f67",
   "metadata": {},
   "outputs": [],
   "source": [
    "resolution_choices[-1]"
   ]
  },
  {
   "cell_type": "code",
   "execution_count": null,
   "id": "246fc67b-564c-40b6-b65b-9654554a5a1e",
   "metadata": {
    "tags": []
   },
   "outputs": [],
   "source": [
    "list(map(extract_text_choices, resolution_choices))"
   ]
  },
  {
   "cell_type": "code",
   "execution_count": null,
   "id": "d7319dec-7f2e-40ef-8432-ecd0d52ab801",
   "metadata": {},
   "outputs": [],
   "source": [
    "from aymurai.utils.json_data import group_by_key\n",
    "\n",
    "grouped = list(\n",
    "    group_by_key(\n",
    "        list(map(extract_text_choices, resolution_choices)),\n",
    "        group_key=\"choices\",\n",
    "        sort_key=\"choices\",\n",
    "    )\n",
    ")"
   ]
  },
  {
   "cell_type": "code",
   "execution_count": null,
   "id": "85359f36-adfb-4bf0-9b57-3dc1fbb053dc",
   "metadata": {},
   "outputs": [],
   "source": [
    "from more_itertools import flatten\n",
    "\n",
    "grouped = list(flatten(grouped))"
   ]
  },
  {
   "cell_type": "code",
   "execution_count": null,
   "id": "43c749bd-4e78-4693-9b58-bc05c15ca6b1",
   "metadata": {
    "tags": []
   },
   "outputs": [],
   "source": [
    "grouped = pd.DataFrame(grouped)\n",
    "grouped[\"normalized_text\"] = grouped[\"text\"].map(normalize_text)\n",
    "grouped.drop_duplicates(subset=[\"normalized_text\", \"choices\"], inplace=True)\n",
    "grouped"
   ]
  },
  {
   "cell_type": "code",
   "execution_count": null,
   "id": "d987255d-653b-4cb9-8f81-c9e2047ccfc3",
   "metadata": {
    "tags": []
   },
   "outputs": [],
   "source": [
    "grouped[\"normalized_text\"].value_counts()"
   ]
  },
  {
   "cell_type": "code",
   "execution_count": null,
   "id": "230451a2-fbc5-43dd-850e-70ebc09e1804",
   "metadata": {},
   "outputs": [],
   "source": [
    "grouped[\"choices\"].value_counts()"
   ]
  },
  {
   "cell_type": "code",
   "execution_count": null,
   "id": "ba470f5c-cdc7-4163-a45f-5364d3fb52d5",
   "metadata": {},
   "outputs": [],
   "source": [
    "grouped.groupby(\"choices\")[\"normalized_text\"].unique()"
   ]
  },
  {
   "cell_type": "code",
   "execution_count": null,
   "id": "54512f43-8389-483b-87a1-561bf1183133",
   "metadata": {},
   "outputs": [],
   "source": [
    "def find_resolution_type(pred: str) -> list:\n",
    "    normalized_pred = normalize_text(pred)\n",
    "    \n",
    "    resolution_type_patterns = {\n",
    "        \"interlocutoria\": r\"interlocut[oa]ria\",\n",
    "        \"definitiva\": r\"definitiv[ao]\",\n",
    "    }\n",
    "    \n",
    "    found_types = set()\n",
    "    \n",
    "    for res_type, pattern in resolution_type_patterns.items():\n",
    "        if re.search(pattern, normalized_pred):\n",
    "            found_types.add(res_type)\n",
    "    \n",
    "    return list(found_types)"
   ]
  },
  {
   "cell_type": "code",
   "execution_count": null,
   "id": "611c6eaf-333e-4cec-9a99-ed659e1a08b7",
   "metadata": {
    "tags": []
   },
   "outputs": [],
   "source": [
    "resolution_texts = pd.DataFrame(resolution_texts)\n",
    "resolution_texts.rename({\"token\": \"text\"}, axis=1, inplace=True)\n",
    "resolution_texts[\"types\"] = resolution_texts[\"text\"].map(find_resolution_type)\n",
    "resolution_texts"
   ]
  },
  {
   "cell_type": "code",
   "execution_count": null,
   "id": "197638f9-ae29-492a-807f-27141bb0061d",
   "metadata": {
    "tags": []
   },
   "outputs": [],
   "source": [
    "resolution_texts.loc[(resolution_texts[\"types\"].map(len) > 0)]"
   ]
  },
  {
   "cell_type": "code",
   "execution_count": null,
   "id": "eafc1efa-7736-452c-954d-6a588f7b8fb6",
   "metadata": {
    "tags": []
   },
   "outputs": [],
   "source": [
    "resolution_texts.loc[(resolution_texts[\"types\"].map(len) == 0)].sort_values(\"text\")"
   ]
  },
  {
   "cell_type": "markdown",
   "id": "32ad4497-c59c-447e-af84-73ea72952f80",
   "metadata": {
    "jp-MarkdownHeadingCollapsed": true,
    "tags": []
   },
   "source": [
    "#### Nivel de instrucción"
   ]
  },
  {
   "cell_type": "code",
   "execution_count": null,
   "id": "257f4401-5964-4f24-ad4a-52bde9d6ecc0",
   "metadata": {},
   "outputs": [],
   "source": [
    "mask = df[\"clean_label\"] == \"NIVEL_INSTRUCCION\"\n",
    "\n",
    "df.loc[mask][\"label\"].value_counts()"
   ]
  },
  {
   "cell_type": "code",
   "execution_count": null,
   "id": "85e817a4-cf16-48c8-94a4-02cc4bb61a14",
   "metadata": {},
   "outputs": [],
   "source": [
    "education = df.loc[mask].copy()"
   ]
  },
  {
   "cell_type": "code",
   "execution_count": null,
   "id": "9e5ae641-f465-4666-828d-905d91e703e6",
   "metadata": {},
   "outputs": [],
   "source": [
    "education[\"beginning\"] = education[\"label\"].str.startswith(\"B\").astype(int)\n",
    "education.head(10)"
   ]
  },
  {
   "cell_type": "code",
   "execution_count": null,
   "id": "ed65b29e-46de-474d-839f-538025f2d0ef",
   "metadata": {},
   "outputs": [],
   "source": [
    "education[\"id\"] = education[\"beginning\"].cumsum()\n",
    "education.head(10)"
   ]
  },
  {
   "cell_type": "code",
   "execution_count": null,
   "id": "0f7a9e3f-7593-4f31-b515-8978bee646e4",
   "metadata": {},
   "outputs": [],
   "source": [
    "education_texts = education.groupby(\"id\")[\"token\"].apply(\" \".join)\n",
    "education_texts.sample(5)"
   ]
  },
  {
   "cell_type": "code",
   "execution_count": null,
   "id": "09af2fd7-c88d-409e-a4a1-207030bebd2b",
   "metadata": {},
   "outputs": [],
   "source": [
    "education_texts.map(normalize_text).value_counts().head(25)"
   ]
  },
  {
   "cell_type": "code",
   "execution_count": null,
   "id": "ad996bba-a2b3-48d0-a59f-46934a772179",
   "metadata": {},
   "outputs": [],
   "source": [
    "def filter_education_choices(annot: dict) -> bool:\n",
    "    try:\n",
    "        from_name = annot[\"from_name\"]\n",
    "        if from_name == \"NIVEL_INSTRUCCION_CAT\":\n",
    "            return True\n",
    "        \n",
    "    except:\n",
    "        return False"
   ]
  },
  {
   "cell_type": "code",
   "execution_count": null,
   "id": "398d3ab0-327c-48a6-8c6a-1af325c82d2c",
   "metadata": {},
   "outputs": [],
   "source": [
    "education_choices = []\n",
    "for sample in annots:\n",
    "    education = list(filter(filter_education_choices, sample[\"annotations\"][0][\"result\"]))\n",
    "    education_choices.extend(education)"
   ]
  },
  {
   "cell_type": "code",
   "execution_count": null,
   "id": "b2edc62b-9948-493d-90e7-2de69c9524b9",
   "metadata": {},
   "outputs": [],
   "source": [
    "len(education_choices)"
   ]
  },
  {
   "cell_type": "code",
   "execution_count": null,
   "id": "7e2cfa5c-2e70-4aad-a543-d9c05814506d",
   "metadata": {},
   "outputs": [],
   "source": [
    "education_choices[-1]"
   ]
  },
  {
   "cell_type": "code",
   "execution_count": null,
   "id": "a0fc5dfc-2501-4cbd-ab15-7c5d5253df03",
   "metadata": {},
   "outputs": [],
   "source": [
    "from aymurai.utils.json_data import group_by_key\n",
    "\n",
    "grouped = list(\n",
    "    group_by_key(\n",
    "        list(map(extract_text_choices, education_choices)),\n",
    "        group_key=\"choices\",\n",
    "        sort_key=\"choices\",\n",
    "    )\n",
    ")"
   ]
  },
  {
   "cell_type": "code",
   "execution_count": null,
   "id": "abfa73c5-7215-48ac-b9cf-76e4e2f2b491",
   "metadata": {},
   "outputs": [],
   "source": [
    "from more_itertools import flatten\n",
    "\n",
    "grouped = list(flatten(grouped))"
   ]
  },
  {
   "cell_type": "code",
   "execution_count": null,
   "id": "5f717cac-58c6-4c97-b8ae-ff38052197c8",
   "metadata": {
    "tags": []
   },
   "outputs": [],
   "source": [
    "grouped = pd.DataFrame(grouped)\n",
    "grouped[\"normalized_text\"] = grouped[\"text\"].map(normalize_text)\n",
    "grouped.drop_duplicates(subset=[\"normalized_text\", \"choices\"], inplace=True)\n",
    "grouped"
   ]
  },
  {
   "cell_type": "code",
   "execution_count": null,
   "id": "43d343db-bfdd-4711-ac28-efd977d3de7b",
   "metadata": {
    "tags": []
   },
   "outputs": [],
   "source": [
    "grouped[\"normalized_text\"].value_counts()"
   ]
  },
  {
   "cell_type": "code",
   "execution_count": null,
   "id": "2e570410-30a8-4262-908e-49e9ba7ef2ae",
   "metadata": {},
   "outputs": [],
   "source": [
    "grouped[\"choices\"].value_counts()"
   ]
  },
  {
   "cell_type": "code",
   "execution_count": null,
   "id": "d01fc5fa-d5b1-4d07-b40a-9125472c703c",
   "metadata": {},
   "outputs": [],
   "source": [
    "grouped.groupby(\"choices\")[\"normalized_text\"].unique()"
   ]
  },
  {
   "cell_type": "code",
   "execution_count": null,
   "id": "d808042f-ebbe-4d27-8686-294672505884",
   "metadata": {},
   "outputs": [],
   "source": [
    "def find_education_level(pred: str) -> list:\n",
    "    normalized_pred = normalize_text(pred)\n",
    "    \n",
    "    education_level_patterns = {\n",
    "        # \"sin_instruccion\": r\"\",\n",
    "        \"sin_escolarizar\": r\"(?:no (?:posee|termino)|sin).+estudios?\",\n",
    "        \"primario_incompleto\": r\"(?:(?:no (?:termino|cuenta con|concluyo).+(?:estudios?|educacion) ?)primari[ao]s?|primari[ao]s? incomplet[ao]s?)\",\n",
    "        \"primario_completo\": r\"(?:primari[ao]s? (?!in)complet[ao]s?|(?<!continuar con la regularidad de sus )(?<!continua con sus )(?<!cursa sus )(?<!cursando sus )(?<!sin )estudios primarios(?! incomplet[ao]s?)(?! en curso)|(?:(?:termino|cuenta con|concluyo).+estudios? ?)primari[ao]s?)\",\n",
    "        \"primario_en_curso\": r\"(?:primari[ao]s? en curso|cursa.+primari[ao]s?|continua.+primari[ao]s?)\",\n",
    "        \"secundario_incompleto\": r\"(?:(?:no (?:termino|cuenta con|concluyo).+(?:estudios?|educacion) ?)secundari[ao]s?|secundari[ao]s? incomplet[ao]s?)\",\n",
    "        \"secundario_completo\": r\"(?:secundari[ao]s? (?!in)complet[ao]s?|(?<!continuar con la regularidad de sus )(?<!continua con sus )(?<!cursa sus )(?<!cursando sus )(?<!sin )estudios secundarios(?! incomplet[ao]s?)(?! en curso)|(?:(?:termino|cuenta con|concluyo).+estudios? ?)secundari[ao]s?)\",\n",
    "        \"secundario_en_curso\": r\"(?:secundari[ao]s? en curso|cursa.+secundari[ao]s?|continua.+secundari[ao]s?)\",\n",
    "        \"terciario_incompleto\": r\"(?:(?:no (?:termino|cuenta con|concluyo).+(?:estudios?|educacion) ?)terciari[ao]s?|terciari[ao]s? incomplet[ao]s?)\",\n",
    "        \"terciario_completo\": r\"(?:terciari[ao]s? (?!in)complet[ao]s?|(?<!continuar con la regularidad de sus )(?<!continua con sus )(?<!cursa sus )(?<!cursando sus )(?<!sin )estudios terciarios(?! incomplet[ao]s?)(?! en curso)|(?:(?:termino|cuenta con|concluyo).+estudios? ?)terciari[ao]s?)\",\n",
    "        \"terciario_en_curso\": r\"(?:terciari[ao]s? en curso|cursa.+terciari[ao]s?|continua.+terciari[ao]s?)\",\n",
    "        \"universitario_incompleto\": r\"(?:(?:no (?:termino|cuenta con|concluyo).+(?:estudios?|educacion) ?)universitari[ao]s?|universitari[ao]s? incomplet[ao]s?)\",\n",
    "        \"universitario_completo\": r\"(?:universitari[ao]s? (?!in)complet[ao]s?|(?<!continuar con la regularidad de sus )(?<!continua con sus )(?<!cursa sus )(?<!cursando sus )(?<!sin )estudios universitarios(?! incomplet[ao]s?)(?! en curso)|(?:(?:termino|cuenta con|concluyo).+estudios? ?)universitari[ao]s?|post?grado)\",\n",
    "        \"universitario_en_curso\": r\"(?:universitari[ao]s? en curso|cursa.+universitari[ao]s?|continua.+universitari[ao]s?)\",\n",
    "    }\n",
    "    \n",
    "    found_levels = set()\n",
    "    \n",
    "    for education_level, pattern in education_level_patterns.items():\n",
    "        if re.search(pattern, normalized_pred):\n",
    "            found_levels.add(education_level)\n",
    "    \n",
    "    return list(found_levels)"
   ]
  },
  {
   "cell_type": "code",
   "execution_count": null,
   "id": "deb443f7-8e5c-4071-a381-632f7bee8706",
   "metadata": {
    "tags": []
   },
   "outputs": [],
   "source": [
    "education_texts = pd.DataFrame(education_texts)\n",
    "education_texts.rename({\"token\": \"text\"}, axis=1, inplace=True)\n",
    "education_texts[\"types\"] = education_texts[\"text\"].map(find_education_level)\n",
    "education_texts"
   ]
  },
  {
   "cell_type": "code",
   "execution_count": null,
   "id": "e4f949d0-0a13-4fbf-8931-584f40b2f9ed",
   "metadata": {
    "tags": []
   },
   "outputs": [],
   "source": [
    "education_texts.loc[(education_texts[\"types\"].map(len) > 0)]"
   ]
  },
  {
   "cell_type": "code",
   "execution_count": null,
   "id": "ff9db801-f05d-4b9a-86bb-be67e81b74e1",
   "metadata": {
    "tags": []
   },
   "outputs": [],
   "source": [
    "education_texts.loc[(education_texts[\"types\"].map(len) > 0)].drop_duplicates(\"text\")"
   ]
  },
  {
   "cell_type": "code",
   "execution_count": null,
   "id": "fae4a6d2-6a84-46f1-9a99-ea327b2de261",
   "metadata": {
    "tags": []
   },
   "outputs": [],
   "source": [
    "education_texts.loc[(education_texts[\"types\"].map(len) == 0)].sort_values(\"text\")"
   ]
  },
  {
   "cell_type": "code",
   "execution_count": null,
   "id": "0738c7ba-5731-40a2-940f-4a0d1f8819b8",
   "metadata": {
    "tags": []
   },
   "outputs": [],
   "source": [
    "education_texts.loc[(education_texts[\"types\"].map(len) > 1)].sort_values(\"text\")"
   ]
  },
  {
   "cell_type": "markdown",
   "id": "5366583b-fce7-42e9-9724-3bcfc21346e5",
   "metadata": {
    "tags": []
   },
   "source": [
    "#### Género"
   ]
  },
  {
   "cell_type": "code",
   "execution_count": null,
   "id": "0b1d45ad-441d-41f7-b975-7b484efae234",
   "metadata": {},
   "outputs": [],
   "source": [
    "mask = df[\"clean_label\"] == \"GENERO\"\n",
    "\n",
    "df.loc[mask][\"label\"].value_counts()"
   ]
  },
  {
   "cell_type": "code",
   "execution_count": null,
   "id": "ff58944e-e581-48f2-bac5-fac3606dbed1",
   "metadata": {},
   "outputs": [],
   "source": [
    "gender = df.loc[mask].copy()"
   ]
  },
  {
   "cell_type": "code",
   "execution_count": null,
   "id": "4ab12e63-c061-4ad7-9b1b-e9d08783a272",
   "metadata": {},
   "outputs": [],
   "source": [
    "gender[\"beginning\"] = gender[\"label\"].str.startswith(\"B\").astype(int)\n",
    "gender.head(10)"
   ]
  },
  {
   "cell_type": "code",
   "execution_count": null,
   "id": "e97142bc-034c-48bf-9777-c33c32acdf5a",
   "metadata": {},
   "outputs": [],
   "source": [
    "gender[\"id\"] = gender[\"beginning\"].cumsum()\n",
    "gender.head(10)"
   ]
  },
  {
   "cell_type": "code",
   "execution_count": null,
   "id": "eaf696f7-572c-4bbf-9647-b406870fce2a",
   "metadata": {},
   "outputs": [],
   "source": [
    "gender_texts = gender.groupby(\"id\")[\"token\"].apply(\" \".join)\n",
    "gender_texts.sample(5)"
   ]
  },
  {
   "cell_type": "code",
   "execution_count": null,
   "id": "76c316c3-0d48-4d79-8a38-94fd91315819",
   "metadata": {},
   "outputs": [],
   "source": [
    "gender_texts.map(normalize_text).value_counts().head(25)"
   ]
  },
  {
   "cell_type": "code",
   "execution_count": null,
   "id": "cd7c990b-e5b3-40c3-be2f-6406bcb0c727",
   "metadata": {},
   "outputs": [],
   "source": [
    "def filter_gender_choices(annot: dict) -> bool:\n",
    "    try:\n",
    "        from_name = annot[\"from_name\"]\n",
    "        if from_name == \"GENERO_CAT\":\n",
    "            return True\n",
    "        \n",
    "    except:\n",
    "        return False"
   ]
  },
  {
   "cell_type": "code",
   "execution_count": null,
   "id": "e9968897-548e-4884-9bcc-6cd261a82c24",
   "metadata": {},
   "outputs": [],
   "source": [
    "gender_choices = []\n",
    "for sample in annots:\n",
    "    gender = list(filter(filter_gender_choices, sample[\"annotations\"][0][\"result\"]))\n",
    "    gender_choices.extend(gender)"
   ]
  },
  {
   "cell_type": "code",
   "execution_count": null,
   "id": "3b1075a1-522c-4e0d-b924-f134da599eb7",
   "metadata": {},
   "outputs": [],
   "source": [
    "len(gender_choices)"
   ]
  },
  {
   "cell_type": "code",
   "execution_count": null,
   "id": "3d200162-fcb3-4e26-882e-aa4a5ddb796b",
   "metadata": {},
   "outputs": [],
   "source": [
    "gender_choices[-1]"
   ]
  },
  {
   "cell_type": "code",
   "execution_count": null,
   "id": "3598486f-1489-4b76-bde2-b00eb48f7e38",
   "metadata": {},
   "outputs": [],
   "source": [
    "from aymurai.utils.json_data import group_by_key\n",
    "\n",
    "grouped = list(\n",
    "    group_by_key(\n",
    "        list(map(extract_text_choices, gender_choices)),\n",
    "        group_key=\"choices\",\n",
    "        sort_key=\"choices\",\n",
    "    )\n",
    ")"
   ]
  },
  {
   "cell_type": "code",
   "execution_count": null,
   "id": "5224bf3a-1aae-48b1-b016-1956c7f38c99",
   "metadata": {},
   "outputs": [],
   "source": [
    "from more_itertools import flatten\n",
    "\n",
    "grouped = list(flatten(grouped))"
   ]
  },
  {
   "cell_type": "code",
   "execution_count": null,
   "id": "40708e6b-0a0e-41c5-b897-b3831f193354",
   "metadata": {
    "tags": []
   },
   "outputs": [],
   "source": [
    "grouped = pd.DataFrame(grouped)\n",
    "grouped[\"normalized_text\"] = grouped[\"text\"].map(normalize_text)\n",
    "grouped.drop_duplicates(subset=[\"normalized_text\", \"choices\"], inplace=True)\n",
    "grouped"
   ]
  },
  {
   "cell_type": "code",
   "execution_count": null,
   "id": "7847ca51-c765-4cac-ba4d-40fd269085b6",
   "metadata": {
    "tags": []
   },
   "outputs": [],
   "source": [
    "grouped[\"normalized_text\"].value_counts()"
   ]
  },
  {
   "cell_type": "code",
   "execution_count": null,
   "id": "32c319b2-1b63-4bfb-9c36-18f2017027ae",
   "metadata": {},
   "outputs": [],
   "source": [
    "grouped[\"choices\"].value_counts()"
   ]
  },
  {
   "cell_type": "code",
   "execution_count": null,
   "id": "40f0fd60-ed6a-4b6a-bcaf-8470a27e80ee",
   "metadata": {},
   "outputs": [],
   "source": [
    "grouped.groupby(\"choices\")[\"normalized_text\"].unique()"
   ]
  },
  {
   "cell_type": "code",
   "execution_count": null,
   "id": "6baa690e-0764-40e1-bfaf-0e4e0c554379",
   "metadata": {},
   "outputs": [],
   "source": [
    "def find_gender(pred: str) -> list:\n",
    "    normalized_pred = normalize_text(pred)\n",
    "    \n",
    "    gender_patterns = {\n",
    "        \"varon_cis\": r\"varon(?:es)? cis\",\n",
    "        \"mujer_cis\": r\"mujer(?:es)? cis\",\n",
    "        \"varon_trans\": r\"varon(?:es)? trans\",\n",
    "        \"mujer_trans\": r\"mujer(?:es)? trans\",\n",
    "        \"travesti\": r\"travesti\",\n",
    "        \"no_binaria\": r\"no ?binari[aoex]\",\n",
    "    }\n",
    "    \n",
    "    found_gender = set()\n",
    "    \n",
    "    for gender, pattern in gender_patterns.items():\n",
    "        if re.search(pattern, normalized_pred):\n",
    "            found_gender.add(gender)\n",
    "    \n",
    "    return list(found_gender)"
   ]
  },
  {
   "cell_type": "code",
   "execution_count": null,
   "id": "b0dd30f5-8eeb-456c-9b1e-69eb226115b8",
   "metadata": {
    "tags": []
   },
   "outputs": [],
   "source": [
    "gender_texts = pd.DataFrame(gender_texts)\n",
    "gender_texts.rename({\"token\": \"text\"}, axis=1, inplace=True)\n",
    "gender_texts[\"types\"] = gender_texts[\"text\"].map(find_gender)\n",
    "gender_texts"
   ]
  },
  {
   "cell_type": "code",
   "execution_count": null,
   "id": "a73dfcfe-5908-4d6e-9fb0-9c7b51c9f6c5",
   "metadata": {
    "tags": []
   },
   "outputs": [],
   "source": [
    "gender_texts.loc[(gender_texts[\"types\"].map(len) > 0)]"
   ]
  },
  {
   "cell_type": "code",
   "execution_count": null,
   "id": "117c1c98-4b10-4a3f-8b4c-28e03f3b2150",
   "metadata": {
    "tags": []
   },
   "outputs": [],
   "source": [
    "gender_texts.loc[(gender_texts[\"types\"].map(len) > 0)].drop_duplicates(\"text\")"
   ]
  },
  {
   "cell_type": "code",
   "execution_count": null,
   "id": "4d6c17d4-178c-4bfe-8503-f9c9a7089e44",
   "metadata": {
    "tags": []
   },
   "outputs": [],
   "source": [
    "gender_texts.loc[(gender_texts[\"types\"].map(len) == 0)].drop_duplicates(\"text\")"
   ]
  },
  {
   "cell_type": "code",
   "execution_count": null,
   "id": "c923d8f2-99f2-4b7d-a459-e1eb730ef1c2",
   "metadata": {
    "tags": []
   },
   "outputs": [],
   "source": [
    "gender_texts.loc[(gender_texts[\"types\"].map(len) > 1)].drop_duplicates(\"text\")"
   ]
  },
  {
   "cell_type": "markdown",
   "id": "0eb1afe5-fae6-41d0-8ede-5b5c24d7a9e1",
   "metadata": {
    "tags": []
   },
   "source": [
    "#### Persona acusada no determinada"
   ]
  },
  {
   "cell_type": "code",
   "execution_count": null,
   "id": "458063d5-6307-4ade-8224-285c3a3782d3",
   "metadata": {},
   "outputs": [],
   "source": [
    "mask = df[\"clean_label\"] == \"PERSONA_ACUSADA_NO_DETERMINADA\"\n",
    "\n",
    "df.loc[mask][\"label\"].value_counts()"
   ]
  },
  {
   "cell_type": "code",
   "execution_count": null,
   "id": "6c18bade-abe2-4094-89f0-7eadaafff038",
   "metadata": {},
   "outputs": [],
   "source": [
    "not_determined = df.loc[mask].copy()"
   ]
  },
  {
   "cell_type": "code",
   "execution_count": null,
   "id": "6b291d9d-1f8d-467d-a8dc-5f0770e7f4e5",
   "metadata": {},
   "outputs": [],
   "source": [
    "not_determined[\"beginning\"] = not_determined[\"label\"].str.startswith(\"B\").astype(int)\n",
    "not_determined.head(10)"
   ]
  },
  {
   "cell_type": "code",
   "execution_count": null,
   "id": "fbbcf998-2ec3-4c38-806f-8ff0d471a52a",
   "metadata": {},
   "outputs": [],
   "source": [
    "not_determined[\"id\"] = not_determined[\"beginning\"].cumsum()\n",
    "not_determined.head(10)"
   ]
  },
  {
   "cell_type": "code",
   "execution_count": null,
   "id": "86b870b3-55ab-45f5-b8ae-09cab78f9f2e",
   "metadata": {},
   "outputs": [],
   "source": [
    "not_determined_texts = not_determined.groupby(\"id\")[\"token\"].apply(\" \".join)\n",
    "not_determined_texts.sample(5)"
   ]
  },
  {
   "cell_type": "code",
   "execution_count": null,
   "id": "4f3ae5d6-3159-40b6-bdb4-3234e0554efc",
   "metadata": {},
   "outputs": [],
   "source": [
    "not_determined_texts.map(normalize_text).value_counts().head(25)"
   ]
  },
  {
   "cell_type": "code",
   "execution_count": null,
   "id": "6db51905-938b-4094-821a-ab8e1e9d3367",
   "metadata": {},
   "outputs": [],
   "source": [
    "def filter_not_determined_choices(annot: dict) -> bool:\n",
    "    try:\n",
    "        from_name = annot[\"from_name\"]\n",
    "        if from_name == \"PERSONA_ACUSADA_NO_DETERMINADA\":\n",
    "            return True\n",
    "        \n",
    "    except:\n",
    "        return False"
   ]
  },
  {
   "cell_type": "code",
   "execution_count": null,
   "id": "ddf0ee9a-16ee-433c-81cb-76b7bc278b57",
   "metadata": {},
   "outputs": [],
   "source": [
    "not_determined_choices = []\n",
    "for sample in annots:\n",
    "    not_determined = list(filter(filter_not_determined_choices, sample[\"annotations\"][0][\"result\"]))\n",
    "    not_determined_choices.extend(not_determined)"
   ]
  },
  {
   "cell_type": "code",
   "execution_count": null,
   "id": "fe2cfb23-d648-4c5e-8f2b-f04017f4acbf",
   "metadata": {},
   "outputs": [],
   "source": [
    "len(not_determined_choices)"
   ]
  },
  {
   "cell_type": "code",
   "execution_count": null,
   "id": "2063c33d-324f-4f36-a6ab-aced9c9e6b7d",
   "metadata": {},
   "outputs": [],
   "source": [
    "not_determined_choices[-1]"
   ]
  },
  {
   "cell_type": "code",
   "execution_count": null,
   "id": "b2c2fc7f-8881-4506-878e-fa38f2518474",
   "metadata": {},
   "outputs": [],
   "source": [
    "from aymurai.utils.json_data import group_by_key\n",
    "\n",
    "grouped = list(\n",
    "    group_by_key(\n",
    "        list(map(extract_text_choices, not_determined_choices)),\n",
    "        group_key=\"choices\",\n",
    "        sort_key=\"choices\",\n",
    "    )\n",
    ")"
   ]
  },
  {
   "cell_type": "code",
   "execution_count": null,
   "id": "19673d87-f995-4f0c-84c3-116eed4aafaa",
   "metadata": {},
   "outputs": [],
   "source": [
    "from more_itertools import flatten\n",
    "\n",
    "grouped = list(flatten(grouped))"
   ]
  },
  {
   "cell_type": "code",
   "execution_count": null,
   "id": "1619f594-2a4a-4fbc-8006-2db5995092de",
   "metadata": {
    "tags": []
   },
   "outputs": [],
   "source": [
    "grouped = pd.DataFrame(grouped)\n",
    "grouped[\"normalized_text\"] = grouped[\"text\"].map(normalize_text)\n",
    "grouped.drop_duplicates(subset=[\"normalized_text\", \"choices\"], inplace=True)\n",
    "grouped"
   ]
  },
  {
   "cell_type": "code",
   "execution_count": null,
   "id": "f911f89f-0678-4dc6-ae41-95ff1676a184",
   "metadata": {
    "tags": []
   },
   "outputs": [],
   "source": [
    "grouped[\"normalized_text\"].value_counts()"
   ]
  },
  {
   "cell_type": "code",
   "execution_count": null,
   "id": "d9d7f0f0-28fb-442f-9a4a-e599288f9fce",
   "metadata": {},
   "outputs": [],
   "source": [
    "grouped[\"choices\"].value_counts()"
   ]
  },
  {
   "cell_type": "code",
   "execution_count": null,
   "id": "11a05856-c17f-408c-a623-2588deade0f0",
   "metadata": {},
   "outputs": [],
   "source": [
    "for group, values in grouped.groupby(\"choices\")[\"normalized_text\"]:\n",
    "    print(group)\n",
    "    print(values.values)"
   ]
  },
  {
   "cell_type": "code",
   "execution_count": null,
   "id": "39041f3a-921c-48ca-99ef-8b1eeec074df",
   "metadata": {},
   "outputs": [],
   "source": [
    "def find_gender(pred: str) -> list:\n",
    "    normalized_pred = normalize_text(pred)\n",
    "    \n",
    "    gender_patterns = {\n",
    "        \"varon_cis\": r\"varon(?:es)? cis\",\n",
    "        \"mujer_cis\": r\"mujer(?:es)? cis\",\n",
    "        \"varon_trans\": r\"varon(?:es)? trans\",\n",
    "        \"mujer_trans\": r\"mujer(?:es)? trans\",\n",
    "        \"travesti\": r\"travesti\",\n",
    "        \"no_binaria\": r\"no ?binari[aoex]\",\n",
    "    }\n",
    "    \n",
    "    found_gender = set()\n",
    "    \n",
    "    for gender, pattern in gender_patterns.items():\n",
    "        if re.search(pattern, normalized_pred):\n",
    "            found_gender.add(gender)\n",
    "    \n",
    "    return list(found_gender)"
   ]
  },
  {
   "cell_type": "code",
   "execution_count": null,
   "id": "e23cf6eb-6ec7-478e-97c9-e975a98b5ace",
   "metadata": {
    "tags": []
   },
   "outputs": [],
   "source": [
    "gender_texts = pd.DataFrame(gender_texts)\n",
    "gender_texts.rename({\"token\": \"text\"}, axis=1, inplace=True)\n",
    "gender_texts[\"types\"] = gender_texts[\"text\"].map(find_gender)\n",
    "gender_texts"
   ]
  },
  {
   "cell_type": "code",
   "execution_count": null,
   "id": "6f337007-e25b-4c40-aaef-16a11e976e18",
   "metadata": {
    "tags": []
   },
   "outputs": [],
   "source": [
    "gender_texts.loc[(gender_texts[\"types\"].map(len) > 0)]"
   ]
  },
  {
   "cell_type": "code",
   "execution_count": null,
   "id": "50715a74-d23b-4aba-9521-853d1acabec1",
   "metadata": {
    "tags": []
   },
   "outputs": [],
   "source": [
    "gender_texts.loc[(gender_texts[\"types\"].map(len) > 0)].drop_duplicates(\"text\")"
   ]
  },
  {
   "cell_type": "code",
   "execution_count": null,
   "id": "fec7654d-0f92-4f48-8d6a-45c99d88fed8",
   "metadata": {
    "tags": []
   },
   "outputs": [],
   "source": [
    "gender_texts.loc[(gender_texts[\"types\"].map(len) == 0)].drop_duplicates(\"text\")"
   ]
  },
  {
   "cell_type": "code",
   "execution_count": null,
   "id": "cb9d8f31-f5b3-45ee-90cd-6dfd7c35d7d4",
   "metadata": {
    "tags": []
   },
   "outputs": [],
   "source": [
    "gender_texts.loc[(gender_texts[\"types\"].map(len) > 1)].drop_duplicates(\"text\")"
   ]
  },
  {
   "cell_type": "markdown",
   "id": "81c4097d",
   "metadata": {
    "tags": []
   },
   "source": [
    "#### Conducta"
   ]
  },
  {
   "cell_type": "code",
   "execution_count": null,
   "id": "1b2b8ade",
   "metadata": {},
   "outputs": [],
   "source": [
    "mask = df[\"clean_label\"] == \"CONDUCTA\"\n",
    "\n",
    "df.loc[mask][\"label\"].value_counts()"
   ]
  },
  {
   "cell_type": "code",
   "execution_count": null,
   "id": "964eea53",
   "metadata": {},
   "outputs": [],
   "source": [
    "conduct = df.loc[mask].copy()"
   ]
  },
  {
   "cell_type": "code",
   "execution_count": null,
   "id": "fc51ee1b",
   "metadata": {},
   "outputs": [],
   "source": [
    "conduct[\"beginning\"] = conduct[\"label\"].str.startswith(\"B\").astype(int)\n",
    "conduct.head(10)"
   ]
  },
  {
   "cell_type": "code",
   "execution_count": null,
   "id": "1e4e1bbb",
   "metadata": {},
   "outputs": [],
   "source": [
    "conduct[\"id\"] = conduct[\"beginning\"].cumsum()\n",
    "conduct.head(10)"
   ]
  },
  {
   "cell_type": "code",
   "execution_count": null,
   "id": "88166a3a",
   "metadata": {},
   "outputs": [],
   "source": [
    "conduct_texts = conduct.groupby(\"id\")[\"token\"].apply(\" \".join)\n",
    "conduct_texts.sample(5)"
   ]
  },
  {
   "cell_type": "code",
   "execution_count": null,
   "id": "02fa69e2",
   "metadata": {},
   "outputs": [],
   "source": [
    "conduct_texts.map(normalize_text).value_counts().head(25)"
   ]
  },
  {
   "cell_type": "code",
   "execution_count": null,
   "id": "96da43bc",
   "metadata": {},
   "outputs": [],
   "source": [
    "def filter_conduct_choices(annot: dict) -> bool:\n",
    "    try:\n",
    "        from_name = annot[\"from_name\"]\n",
    "        if from_name == \"CONDUCTA\":\n",
    "            return True\n",
    "        \n",
    "    except:\n",
    "        return False"
   ]
  },
  {
   "cell_type": "code",
   "execution_count": null,
   "id": "8043b88e",
   "metadata": {},
   "outputs": [],
   "source": [
    "conduct_choices = []\n",
    "for sample in annots:\n",
    "    conduct = list(filter(filter_conduct_choices, sample[\"annotations\"][0][\"result\"]))\n",
    "    conduct_choices.extend(conduct)"
   ]
  },
  {
   "cell_type": "code",
   "execution_count": null,
   "id": "9b30a216",
   "metadata": {},
   "outputs": [],
   "source": [
    "len(conduct_choices)"
   ]
  },
  {
   "cell_type": "code",
   "execution_count": null,
   "id": "a6613aee",
   "metadata": {},
   "outputs": [],
   "source": [
    "conduct_choices[-1]"
   ]
  },
  {
   "cell_type": "code",
   "execution_count": null,
   "id": "7a4e3e86",
   "metadata": {},
   "outputs": [],
   "source": [
    "from aymurai.utils.json_data import group_by_key\n",
    "\n",
    "grouped = list(\n",
    "    group_by_key(\n",
    "        list(map(extract_text_choices, conduct_choices)),\n",
    "        group_key=\"choices\",\n",
    "        sort_key=\"choices\",\n",
    "    )\n",
    ")\n"
   ]
  },
  {
   "cell_type": "code",
   "execution_count": null,
   "id": "cfdeeef0",
   "metadata": {},
   "outputs": [],
   "source": [
    "from more_itertools import flatten\n",
    "\n",
    "grouped = list(flatten(grouped))"
   ]
  },
  {
   "cell_type": "code",
   "execution_count": null,
   "id": "82572a92",
   "metadata": {},
   "outputs": [],
   "source": [
    "grouped = pd.DataFrame(grouped)\n",
    "grouped[\"normalized_text\"] = grouped[\"text\"].map(normalize_text)\n",
    "grouped.drop_duplicates(subset=[\"normalized_text\", \"choices\"], inplace=True)\n",
    "grouped"
   ]
  },
  {
   "cell_type": "code",
   "execution_count": null,
   "id": "5ae6cddf",
   "metadata": {},
   "outputs": [],
   "source": [
    "grouped[\"normalized_text\"].value_counts()"
   ]
  },
  {
   "cell_type": "code",
   "execution_count": null,
   "id": "d26d63d7",
   "metadata": {
    "tags": []
   },
   "outputs": [],
   "source": [
    "grouped[\"choices\"].value_counts()"
   ]
  },
  {
   "cell_type": "markdown",
   "id": "c97f0a13",
   "metadata": {},
   "source": [
    "##### USEM"
   ]
  },
  {
   "cell_type": "markdown",
   "id": "b8274a4b",
   "metadata": {},
   "source": [
    "##### Categories encoding"
   ]
  },
  {
   "cell_type": "code",
   "execution_count": null,
   "id": "bfc1393a",
   "metadata": {},
   "outputs": [],
   "source": [
    "categories = [\n",
    "    \"abandonar_animal_domestico\",\n",
    "    \"abandono_de_personas\",\n",
    "    \"abuso_de_armas\",\n",
    "    \"abuso_de_autoridad_e_incumplimiento_deberes_funcionario_publico\",\n",
    "    \"abuso_sexual\",\n",
    "    \"acceder_a_lugares_distintos_segun_entrada\",\n",
    "    \"acceder_lugares_distintos_segun_entrada\",\n",
    "    \"acceso_a_sistema_restringido\",\n",
    "    \"acoso_sexual_callejero\",\n",
    "    \"actividades_lucrativas_sin_autorizacion\",\n",
    "    \"actividades_lucrativas_sin_habilitacion\",\n",
    "    \"actos_contenido_sexual_con_menores\",\n",
    "    \"administracion_fraudulenta\",\n",
    "    \"afectar_desarrollo_espectaculo\",\n",
    "    \"afectar_el_desarrollo_del_espectaculo\",\n",
    "    \"afectar_funcionamiento_servicios_publicos\",\n",
    "    \"afectar_servicios_de_emergencia_o_seguridad\",\n",
    "    \"afectar_servicios_emergencia\",\n",
    "    \"afectar_señalizacion\",\n",
    "    \"allanamiento_autonomo\",\n",
    "    \"alterar_programa\",\n",
    "    \"alterar_sepulturas\",\n",
    "    \"amenazas\",\n",
    "    \"amparo\",\n",
    "    \"apariencia_falsa\",\n",
    "    \"apariencia_falsa_para_entrar_a_domicilio_o_lugar_privado\",\n",
    "    \"apropiacion_indebida_de_tributos\",\n",
    "    \"arrojar_cosas_que_puedan_causar_lesiones\",\n",
    "    \"arrojar_cosas_sustancias\",\n",
    "    \"arrojar_sustancias_insalubres_en_lugares_publicos\",\n",
    "    \"asociacion_ilicita\",\n",
    "    \"asuncion_falsa_de_contravencion\",\n",
    "    \"atentado_contra_la_autoridad\",\n",
    "    \"ausencia_de_habilitacion\",\n",
    "    \"banderas\",\n",
    "    \"carteles_afiches_volantes\",\n",
    "    \"cierre_defectuoso\",\n",
    "    \"circular_por_carriles_exclusivos\",\n",
    "    \"circular_por_lugar_prohibido\",\n",
    "    \"cohecho_activo\",\n",
    "    \"cohecho_pasivo\",\n",
    "    \"coimas\",\n",
    "    \"competencia_desleal\",\n",
    "    \"conducir_con_mayor_cantidad_de_alcohol_en_sangre_del_permitido\",\n",
    "    \"conducir_con_mayor_grado_de_alcohol_o_bajo_efectos_de_estupefacientes\",\n",
    "    \"conducir_sin_licencia_que_lo_habilite_por_categoria_de_vehiculo\",\n",
    "    \"conducir_usando_aparato_electronico\",\n",
    "    \"connivencia_policial\",\n",
    "    \"contactar_menor_por_medio_de_tecnologias_para_cometer_delitos_contra_su_integridad_sexual\",\n",
    "    \"cruce_de_semaforo_en_rojo\",\n",
    "    \"cuida_coche\",\n",
    "    \"cuidar_coches_sin_autorizacion\",\n",
    "    \"daños\",\n",
    "    \"daños_informaticos\",\n",
    "    \"defraudacion\",\n",
    "    \"defraudacion_contra_la_administracion_publica\",\n",
    "    \"delito_contra_seguridad_transito\",\n",
    "    \"denegacion_de_justicia\",\n",
    "    \"derecho_admision\",\n",
    "    \"desarmado_automotor\",\n",
    "    \"desinfeccion_y_desratizacion\",\n",
    "    \"desobediencia_a_cargas_procesales\",\n",
    "    \"desobediencia_a_la_autoridad\",\n",
    "    \"difusion_no_autorizada_de_imagenes\",\n",
    "    \"difusion_no_autorizada_de_imagenes_intimas\",\n",
    "    \"discriminar\",\n",
    "    \"documentacion_sanitaria\",\n",
    "    \"ejecucion_de_multa\",\n",
    "    \"ejercer_ilegitimamente_actividad\",\n",
    "    \"ejercicio_ilegal_de_la_medicina\",\n",
    "    \"elementos_de_prevencion_contra_incendio\",\n",
    "    \"encubrimiento\",\n",
    "    \"encubrimiento_actividades_baile\",\n",
    "    \"ensuciar_bienes\",\n",
    "    \"entregar_indebidamente_armas_explosivos\",\n",
    "    \"espantar_animales\",\n",
    "    \"espejos_retrovisores\",\n",
    "    \"estacionamiento_prohibido\",\n",
    "    \"estacionamiento_sobre_senda_peatonal\",\n",
    "    \"estafa\",\n",
    "    \"estupefacientes\",\n",
    "    \"exceso_capacidad_ingreso\",\n",
    "    \"exceso_de_velocidad\",\n",
    "    \"exhibicion_de_documentacion_obligatoria\",\n",
    "    \"exhibiciones_obscenas\",\n",
    "    \"exhortos_de_otras_jurisdicciones\",\n",
    "    \"explotacion_trabajo_infantil\",\n",
    "    \"extorsion\",\n",
    "    \"fabricar_transportar_artefactos_pirotecnicos\",\n",
    "    \"falsa_denuncia\",\n",
    "    \"falsedad_documental_de_certificado_de_aptitud_ambiental\",\n",
    "    \"falsificacion_certificado_medico\",\n",
    "    \"falsificacion_de_documento\",\n",
    "    \"falsificacion_de_marcas_firmas_señas_oficiales\",\n",
    "    \"falsificacion_de_numeracion_de_objeto_registrada_de_acuerdo_a_ley\",\n",
    "    \"falta_de_poliza_de_seguros\",\n",
    "    \"favorecimiento_evasion_persona_detenida\",\n",
    "    \"frustrar_subasta_publica\",\n",
    "    \"guardar_artefactos_pirotecnicos\",\n",
    "    \"guardar_elementos_aptos_violencia\",\n",
    "    \"habeas_corpus\",\n",
    "    \"habilitacion_en_infraccion\",\n",
    "    \"homicidio\",\n",
    "    \"hostigamiento\",\n",
    "    \"hostigamiento_digital\",\n",
    "    \"hurto\",\n",
    "    \"impedimento_de_contacto_de_menor_con_padre_no_conviviente\",\n",
    "    \"incendio_explosion_inundacion_con_peligro_para_bienes\",\n",
    "    \"incendios_y_otros_estragos\",\n",
    "    \"incitar_al_desorden\",\n",
    "    \"incitar_desorden\",\n",
    "    \"incumplimiento_de_plazos\",\n",
    "    \"incumplimiento_deberes_familiares\",\n",
    "    \"incumplimiento_deberes_funcionario_publico\",\n",
    "    \"incumplimiento_medidas_prevencion_sanidad\",\n",
    "    \"incumplimiento_perimetro_profundidad\",\n",
    "    \"incumplir_clausura\",\n",
    "    \"incumplir_obligaciones_legales\",\n",
    "    \"inducir_menor_a_mendigar\",\n",
    "    \"infraccion_reglamentos_seguridad\",\n",
    "    \"ingresar_artefactos_pirotecnicos\",\n",
    "    \"ingresar_consumir_bebidas_alcoholicas\",\n",
    "    \"ingresar_contra_derecho_admision\",\n",
    "    \"ingresar_sin_autorizacion_lugares_reservados\",\n",
    "    \"ingresar_sin_entrada\",\n",
    "    \"ingresar_sin_entrada_autorizacion\",\n",
    "    \"ingreso_a_domicilio_sin_autorizacion\",\n",
    "    \"inhumar_exhumar_profanar\",\n",
    "    \"intimidacion\",\n",
    "    \"juego_sin_autorizacion\",\n",
    "    \"juegos_de_azar_sin_autorizacion\",\n",
    "    \"lesiones\",\n",
    "    \"ley_451\",\n",
    "    \"licencia_vencida\",\n",
    "    \"maltrato\",\n",
    "    \"mantener_animal_domestico_espacios_inadecuados\",\n",
    "    \"mantenimiento_de_cercas_y_aceras\",\n",
    "    \"menoscabar_integridad_animal_domestico\",\n",
    "    \"mesnna_masnna\",\n",
    "    \"no_realizar_grabado_de_autopartes\",\n",
    "    \"no_respetar_carriles\",\n",
    "    \"no_respetar_senda_peatonal\",\n",
    "    \"obligacion_de_exhibir_cartel\",\n",
    "    \"obligacion_de_informar_prohibicion_de_fumar\",\n",
    "    \"obligacion_de_conservar\",\n",
    "    \"obstaculizar_ingreso_o_salida\",\n",
    "    \"obstruccion_de_inspeccion\",\n",
    "    \"obstruccion_de_via\",\n",
    "    \"obstruccion_de_via_publica\",\n",
    "    \"obstruccion_via_publica\",\n",
    "    \"obstruir_salida\",\n",
    "    \"ocupar_via_publica\",\n",
    "    \"oferta_demanda_sexo_espacio_publico\",\n",
    "    \"omitir_cuidados_animal_domestico\",\n",
    "    \"omitir_recaudos_de_cuidado_animal_domestico\",\n",
    "    \"omitir_recaudos_de_organizacion\",\n",
    "    \"omitir_recaudos_espectaculo_masivo\",\n",
    "    \"omitir_recaudos_organizacion_seguridad\",\n",
    "    \"organizar_explotar_juego\",\n",
    "    \"organizar_sin_autorizacion_juego\",\n",
    "    \"participar_competencias_velocidad_via_publica\",\n",
    "    \"pelear_en_lugar_publico\",\n",
    "    \"permiso_y_planos_de_obra\",\n",
    "    \"persona_no_habilitada\",\n",
    "    \"perturbar_ceremonias_religiosas_funebres\",\n",
    "    \"perturbar_filas_ingreso_no_respetar_vallado\",\n",
    "    \"placas_de_dominio\",\n",
    "    \"pornografia_infantil\",\n",
    "    \"portacion_de_arma\",\n",
    "    \"portar_armas_no_convencionales\",\n",
    "    \"presencia_menores_lugar_no_autorizado\",\n",
    "    \"presunta_comision_delito\",\n",
    "    \"presunta_contravencion\",\n",
    "    \"privacion_ilegitima_de_la_libertad\",\n",
    "    \"producir_avalanchas\",\n",
    "    \"promocion_o_facilitacion_de_prostitucion_de_personas\",\n",
    "    \"promover_comerciar_ofertar_juego\",\n",
    "    \"propaganda_discriminatoria\",\n",
    "    \"proteccion_animal\",\n",
    "    \"provocar_parcialidad\",\n",
    "    \"publicidad_en_lugares_no_habilitados_via_publica\",\n",
    "    \"regentear_o_administrar_casas_de_tolerancia\",\n",
    "    \"residuos_peligrosos\",\n",
    "    \"retencion_indebida\",\n",
    "    \"revender_entradas\",\n",
    "    \"robo\",\n",
    "    \"ruidos_molestos\",\n",
    "    \"ruidos_y_vibraciones\",\n",
    "    \"sancion_generica\",\n",
    "    \"servicios_de_seguridad_prohibiciones_incumplidas\",\n",
    "    \"servicios_de_seguridad_requisitos_incumplidos\",\n",
    "    \"suministrar_alcohol_menor\",\n",
    "    \"suministrar_bebidas_alcoholicas\",\n",
    "    \"suministrar_elementos_aptos_agresion\",\n",
    "    \"suministrar_material_pornografico\",\n",
    "    \"suministrar_objetos_peligrosos\",\n",
    "    \"suministrar_productos_farmaceuticos\",\n",
    "    \"suministro_de_medicamentos\",\n",
    "    \"suplantacion_identidad\",\n",
    "    \"suplantacion_digital_de_identidad\",\n",
    "    \"taxis_transportes_escolares_remises_sin_autorizacion\",\n",
    "    \"tenencia_de_arma\",\n",
    "    \"transporte_de_pasajeros\",\n",
    "    \"transporte_de_pasajeros_sin_habilitacion\",\n",
    "    \"transporte_de_pasajeros_sin_habilitacion_o_autorizacion\",\n",
    "    \"usar_indebidamente_credencial\",\n",
    "    \"usar_indebidamente_espacio_publico\",\n",
    "    \"usar_indebidamente_armas\",\n",
    "    \"uso_de_documento_falso_o_adulterado\",\n",
    "    \"uso_indebido_del_espacio_publico\",\n",
    "    \"uso_o_exhibicion_de_franquicias\",\n",
    "    \"usurpacion\",\n",
    "    \"vehiculo_abandonado\",\n",
    "    \"vender_entradas_o_permitir_ingreso_exceso\",\n",
    "    \"vender_sustancias_medicinales_sin_receta\",\n",
    "    \"venta_o_consumo_de_bebidas_alcoholicas_fuera_del_horario\",\n",
    "    \"verificacion_tecnica\",\n",
    "    \"violacion_de_peaje\",\n",
    "    \"violacion_de_domicilio\",\n",
    "    \"violacion_de_secretos_y_de_la_privacidad\",\n",
    "    \"violar_clausura\",\n",
    "    \"violar_inhabilitacion_para_conducir\",\n",
    "    \"violar_reglamentacion_juego\",\n",
    "    \"zanjas_y_pozos_en_via_publica\",\n",
    "]\n"
   ]
  },
  {
   "cell_type": "code",
   "execution_count": null,
   "id": "04a4b238",
   "metadata": {
    "tags": []
   },
   "outputs": [],
   "source": [
    "categories = [category.replace(\"_\", \" \") for category in categories]\n",
    "categories"
   ]
  },
  {
   "cell_type": "code",
   "execution_count": null,
   "id": "04afe956",
   "metadata": {},
   "outputs": [],
   "source": [
    "len(categories)"
   ]
  },
  {
   "cell_type": "code",
   "execution_count": null,
   "id": "de59934a",
   "metadata": {},
   "outputs": [],
   "source": [
    "# categories_embeddings = usem_qa.signatures[\"question_encoder\"](input=tf.constant(categories))\n",
    "\n",
    "categories_embeddings = usem_qa.signatures[\"response_encoder\"](\n",
    "     input=tf.constant(categories), context=tf.constant(categories)\n",
    ")\n",
    "\n",
    "# categories_embeddings = usem(categories)"
   ]
  },
  {
   "cell_type": "code",
   "execution_count": null,
   "id": "1512522f-6112-4b32-92a5-48b3858c63cf",
   "metadata": {},
   "outputs": [],
   "source": [
    "np.save(\"conduct_embeddings.npy\", categories_embeddings[\"outputs\"].numpy())"
   ]
  },
  {
   "cell_type": "code",
   "execution_count": null,
   "id": "33dca7e6-53f7-465f-9a3f-a633d2fd5d45",
   "metadata": {},
   "outputs": [],
   "source": [
    "conduct_embeddings = np.load(\"conduct_embeddings.npy\")\n",
    "conduct_embeddings"
   ]
  },
  {
   "cell_type": "markdown",
   "id": "2587e496",
   "metadata": {},
   "source": [
    "##### Text encoding"
   ]
  },
  {
   "cell_type": "code",
   "execution_count": null,
   "id": "fe3a4b57",
   "metadata": {
    "tags": []
   },
   "outputs": [],
   "source": [
    "texts = grouped[\"normalized_text\"].unique()\n",
    "texts"
   ]
  },
  {
   "cell_type": "code",
   "execution_count": null,
   "id": "50bbbaf3",
   "metadata": {},
   "outputs": [],
   "source": [
    "#texts_embeddings = usem(texts)\n",
    "# texts_embeddings = usem_qa.signatures[\"question_encoder\"](input=tf.constant(texts))"
   ]
  },
  {
   "cell_type": "code",
   "execution_count": null,
   "id": "444f1e4f-5101-4c44-9a95-feb6e49f4dfb",
   "metadata": {},
   "outputs": [],
   "source": [
    "from aymurai.models.usem.core import SentenceRetrieval"
   ]
  },
  {
   "cell_type": "code",
   "execution_count": null,
   "id": "dfb7ebf5-9852-41b4-910a-c913f0e9d28e",
   "metadata": {},
   "outputs": [],
   "source": [
    "sr = SentenceRetrieval(categories, \"conduct_embeddings.npy\")"
   ]
  },
  {
   "cell_type": "code",
   "execution_count": null,
   "id": "9d79ea52-739f-4006-a2a1-18e1c8431caf",
   "metadata": {},
   "outputs": [],
   "source": [
    "idx = 604\n",
    "print(texts[idx])\n",
    "sr.retrieve(texts[idx])"
   ]
  },
  {
   "cell_type": "code",
   "execution_count": null,
   "id": "e1768a71",
   "metadata": {
    "tags": []
   },
   "outputs": [],
   "source": [
    "similarities = np.inner(texts_embeddings[\"outputs\"], conduct_embeddings)\n",
    "similarities = pd.DataFrame(similarities, index=texts, columns=categories)\n",
    "similarities"
   ]
  },
  {
   "cell_type": "code",
   "execution_count": null,
   "id": "fb8336aa",
   "metadata": {
    "tags": []
   },
   "outputs": [],
   "source": [
    "for text in texts:\n",
    "    top_3_similar = similarities.loc[text].sort_values(ascending=False)[:3]\n",
    "    print(text)\n",
    "    display(top_3_similar)\n",
    "    print(\"=\"*100)"
   ]
  },
  {
   "cell_type": "code",
   "execution_count": null,
   "id": "bebe03f7-a088-4d53-8f0c-cc712a0ca81f",
   "metadata": {},
   "outputs": [],
   "source": [
    "def find_top_k_similar(text, conduct_embeddings=categories_embeddings, categories=categories, k=1):\n",
    "    normalized_text = normalize_text(text)\n",
    "    text_embeddings = usem_qa.signatures[\"question_encoder\"](input=tf.constant(normalized_text))\n",
    "    similarities = np.inner(text_embeddings[\"outputs\"], conduct_embeddings[\"outputs\"])\n",
    "    top_k = np.argsort(np.ravel(-similarities))[:k]\n",
    "    \n",
    "    return np.array(categories)[top_k][0] if k == 1 else np.array(categories)[top_k]"
   ]
  },
  {
   "cell_type": "code",
   "execution_count": null,
   "id": "6cbba98c-be87-4b79-96d2-934fa2aea35c",
   "metadata": {},
   "outputs": [],
   "source": [
    "find_top_k_similar(\"abuso de las armas\")"
   ]
  },
  {
   "cell_type": "code",
   "execution_count": null,
   "id": "fbfcf929-e93d-45bc-8284-fb56d1275ed0",
   "metadata": {},
   "outputs": [],
   "source": [
    "grouped[\"pred_choice\"] = grouped[\"text\"].map(find_top_k_similar)\n",
    "grouped[\"pred_choice\"] = grouped[\"pred_choice\"].str.replace(\" \", \"_\")"
   ]
  },
  {
   "cell_type": "code",
   "execution_count": null,
   "id": "5f3affd6-f363-495d-acc2-e6a20ab25526",
   "metadata": {},
   "outputs": [],
   "source": [
    "grouped.sample(5)"
   ]
  },
  {
   "cell_type": "code",
   "execution_count": null,
   "id": "0456e8a7-fcd1-45d3-b459-4d0c82bfd2a3",
   "metadata": {},
   "outputs": [],
   "source": [
    "(grouped[\"choices\"] == grouped[\"pred_choice\"]).mean()"
   ]
  },
  {
   "cell_type": "code",
   "execution_count": null,
   "id": "4c8185e9-de9d-432e-8184-d364bbcb97c3",
   "metadata": {},
   "outputs": [],
   "source": [
    "grouped[\"pred_choices\"] = grouped[\"text\"].map(lambda x: find_top_k_similar(x, k=2))\n",
    "grouped[\"pred_choices\"] = grouped[\"pred_choices\"].map(lambda x: [string.replace(\" \", \"_\") for string in x])"
   ]
  },
  {
   "cell_type": "code",
   "execution_count": null,
   "id": "d57fe204-260d-4dab-84bf-3d514f229065",
   "metadata": {},
   "outputs": [],
   "source": [
    "grouped.sample(5)"
   ]
  },
  {
   "cell_type": "code",
   "execution_count": null,
   "id": "161d462f-e7aa-4945-b7af-c5d6017b942a",
   "metadata": {},
   "outputs": [],
   "source": [
    "top_k_matches = []\n",
    "for i, r in grouped.iterrows():\n",
    "    top_k_matches.append(r[\"choices\"] in r[\"pred_choices\"])"
   ]
  },
  {
   "cell_type": "code",
   "execution_count": null,
   "id": "7c9d3317-d122-46fa-a8ea-4f8278a19562",
   "metadata": {},
   "outputs": [],
   "source": [
    "np.mean(top_k_matches)"
   ]
  },
  {
   "cell_type": "code",
   "execution_count": null,
   "id": "3edca349-a73a-4529-b39c-bdda8eff473b",
   "metadata": {},
   "outputs": [],
   "source": [
    "grouped[\"pred_choices\"] = grouped[\"text\"].map(lambda x: find_top_k_similar(x, k=3))\n",
    "grouped[\"pred_choices\"] = grouped[\"pred_choices\"].map(lambda x: [string.replace(\" \", \"_\") for string in x])"
   ]
  },
  {
   "cell_type": "code",
   "execution_count": null,
   "id": "cd2f3f03-6e27-4ef2-af26-b84580cdd446",
   "metadata": {},
   "outputs": [],
   "source": [
    "top_k_matches = []\n",
    "for i, r in grouped.iterrows():\n",
    "    top_k_matches.append(r[\"choices\"] in r[\"pred_choices\"])"
   ]
  },
  {
   "cell_type": "code",
   "execution_count": null,
   "id": "243db797-b66b-4adf-af11-dc7420afc199",
   "metadata": {},
   "outputs": [],
   "source": [
    "np.mean(top_k_matches)"
   ]
  },
  {
   "cell_type": "code",
   "execution_count": null,
   "id": "fd68c9c9-a048-4c13-8aed-55538e75d859",
   "metadata": {},
   "outputs": [],
   "source": [
    "grouped[\"pred_choices\"] = grouped[\"text\"].map(lambda x: find_top_k_similar(x, k=5))\n",
    "grouped[\"pred_choices\"] = grouped[\"pred_choices\"].map(lambda x: [string.replace(\" \", \"_\") for string in x])"
   ]
  },
  {
   "cell_type": "code",
   "execution_count": null,
   "id": "d7bb55d3-a213-436e-a171-7ca4b85a94ff",
   "metadata": {},
   "outputs": [],
   "source": [
    "top_k_matches = []\n",
    "for i, r in grouped.iterrows():\n",
    "    top_k_matches.append(r[\"choices\"] in r[\"pred_choices\"])"
   ]
  },
  {
   "cell_type": "code",
   "execution_count": null,
   "id": "56883e5a-91c0-4b0a-9453-eb954b8a7c51",
   "metadata": {},
   "outputs": [],
   "source": [
    "np.mean(top_k_matches)"
   ]
  },
  {
   "cell_type": "code",
   "execution_count": null,
   "id": "9b9757bb-46f8-423e-9a43-f0b3ede2f3c0",
   "metadata": {},
   "outputs": [],
   "source": [
    "# USEM QA - SAME QUESTION EMBEDDINGS"
   ]
  },
  {
   "cell_type": "code",
   "execution_count": null,
   "id": "6bc66b81-cb0d-4103-a7d9-f0198892dc47",
   "metadata": {},
   "outputs": [],
   "source": [
    "def find_top_k_similar(text, conduct_embeddings=categories_embeddings, categories=categories, k=1):\n",
    "    normalized_text = normalize_text(text)\n",
    "    text_embeddings = usem_qa.signatures[\"question_encoder\"](input=tf.constant(normalized_text))\n",
    "    similarities = np.inner(text_embeddings[\"outputs\"], conduct_embeddings[\"outputs\"])\n",
    "    top_k = np.argsort(np.ravel(-similarities))[:k]\n",
    "    \n",
    "    return np.array(categories)[top_k][0] if k == 1 else np.array(categories)[top_k]"
   ]
  },
  {
   "cell_type": "code",
   "execution_count": null,
   "id": "11e8c6e8-92c7-4cbe-ac6e-bb6ec154a326",
   "metadata": {},
   "outputs": [],
   "source": [
    "find_top_k_similar(\"abuso de las armas\")"
   ]
  },
  {
   "cell_type": "code",
   "execution_count": null,
   "id": "5ea5c8ce-230f-4a62-a3b8-7b7f793a6661",
   "metadata": {},
   "outputs": [],
   "source": [
    "grouped[\"pred_choice\"] = grouped[\"text\"].map(find_top_k_similar)\n",
    "grouped[\"pred_choice\"] = grouped[\"pred_choice\"].str.replace(\" \", \"_\")"
   ]
  },
  {
   "cell_type": "code",
   "execution_count": null,
   "id": "86a9f5be-a2c8-4472-aacf-a5b69c180e9b",
   "metadata": {},
   "outputs": [],
   "source": [
    "grouped.sample(5)"
   ]
  },
  {
   "cell_type": "code",
   "execution_count": null,
   "id": "356f07d9-8251-4084-9c60-52777542d209",
   "metadata": {},
   "outputs": [],
   "source": [
    "(grouped[\"choices\"] == grouped[\"pred_choice\"]).mean()"
   ]
  },
  {
   "cell_type": "code",
   "execution_count": null,
   "id": "6af627aa-20d3-4903-955e-29db2a6db4be",
   "metadata": {},
   "outputs": [],
   "source": [
    "grouped[\"pred_choices\"] = grouped[\"text\"].map(lambda x: find_top_k_similar(x, k=2))\n",
    "grouped[\"pred_choices\"] = grouped[\"pred_choices\"].map(lambda x: [string.replace(\" \", \"_\") for string in x])"
   ]
  },
  {
   "cell_type": "code",
   "execution_count": null,
   "id": "ba816739-7d91-4153-883f-3fcdb5188e20",
   "metadata": {},
   "outputs": [],
   "source": [
    "grouped.sample(5)"
   ]
  },
  {
   "cell_type": "code",
   "execution_count": null,
   "id": "9acb0407-9615-4caa-94ca-64b81f247cfd",
   "metadata": {},
   "outputs": [],
   "source": [
    "top_k_matches = []\n",
    "for i, r in grouped.iterrows():\n",
    "    top_k_matches.append(r[\"choices\"] in r[\"pred_choices\"])"
   ]
  },
  {
   "cell_type": "code",
   "execution_count": null,
   "id": "7b40073c-a3cb-4d84-912b-31e866684a7f",
   "metadata": {},
   "outputs": [],
   "source": [
    "np.mean(top_k_matches)"
   ]
  },
  {
   "cell_type": "code",
   "execution_count": null,
   "id": "587ba232-6bcc-45b5-9fe5-cc3b99685c21",
   "metadata": {},
   "outputs": [],
   "source": [
    "grouped[\"pred_choices\"] = grouped[\"text\"].map(lambda x: find_top_k_similar(x, k=3))\n",
    "grouped[\"pred_choices\"] = grouped[\"pred_choices\"].map(lambda x: [string.replace(\" \", \"_\") for string in x])"
   ]
  },
  {
   "cell_type": "code",
   "execution_count": null,
   "id": "fb6a7209-597a-4c97-bd2d-591d28d3bd23",
   "metadata": {},
   "outputs": [],
   "source": [
    "top_k_matches = []\n",
    "for i, r in grouped.iterrows():\n",
    "    top_k_matches.append(r[\"choices\"] in r[\"pred_choices\"])"
   ]
  },
  {
   "cell_type": "code",
   "execution_count": null,
   "id": "34d01ded-7af0-40a3-b153-dc3d41976532",
   "metadata": {},
   "outputs": [],
   "source": [
    "np.mean(top_k_matches)"
   ]
  },
  {
   "cell_type": "code",
   "execution_count": null,
   "id": "b99ab039-b270-46f8-acfe-9233b2eaf708",
   "metadata": {},
   "outputs": [],
   "source": [
    "grouped[\"pred_choices\"] = grouped[\"text\"].map(lambda x: find_top_k_similar(x, k=5))\n",
    "grouped[\"pred_choices\"] = grouped[\"pred_choices\"].map(lambda x: [string.replace(\" \", \"_\") for string in x])"
   ]
  },
  {
   "cell_type": "code",
   "execution_count": null,
   "id": "89e93006-48be-42d8-80a3-8ef965959021",
   "metadata": {},
   "outputs": [],
   "source": [
    "top_k_matches = []\n",
    "for i, r in grouped.iterrows():\n",
    "    top_k_matches.append(r[\"choices\"] in r[\"pred_choices\"])"
   ]
  },
  {
   "cell_type": "code",
   "execution_count": null,
   "id": "a0bee493-1633-4735-b067-8dd0a7d54660",
   "metadata": {},
   "outputs": [],
   "source": [
    "np.mean(top_k_matches)"
   ]
  },
  {
   "cell_type": "code",
   "execution_count": null,
   "id": "a5373bba-25fd-4d74-8c97-3dc4538a0014",
   "metadata": {},
   "outputs": [],
   "source": [
    "# USEM QA"
   ]
  },
  {
   "cell_type": "code",
   "execution_count": null,
   "id": "e1440f7f-6a0b-4fc7-9abf-09e6aa14c2c2",
   "metadata": {},
   "outputs": [],
   "source": [
    "def find_top_k_similar(text, conduct_embeddings=categories_embeddings, categories=categories, k=1):\n",
    "    normalized_text = normalize_text(text)\n",
    "    text_embeddings = usem_qa.signatures[\"question_encoder\"](input=tf.constant(normalized_text))\n",
    "    similarities = np.inner(text_embeddings[\"outputs\"], conduct_embeddings[\"outputs\"])\n",
    "    top_k = np.argsort(np.ravel(-similarities))[:k]\n",
    "    \n",
    "    return np.array(categories)[top_k][0] if k == 1 else np.array(categories)[top_k]"
   ]
  },
  {
   "cell_type": "code",
   "execution_count": null,
   "id": "963e01af-be3f-462e-ba17-33c40b5a765b",
   "metadata": {},
   "outputs": [],
   "source": [
    "find_top_k_similar(\"abuso de las armas\")"
   ]
  },
  {
   "cell_type": "code",
   "execution_count": null,
   "id": "74a9356a-40a2-47ec-9568-4ce51394f382",
   "metadata": {},
   "outputs": [],
   "source": [
    "grouped[\"pred_choice\"] = grouped[\"text\"].map(find_top_k_similar)\n",
    "grouped[\"pred_choice\"] = grouped[\"pred_choice\"].str.replace(\" \", \"_\")"
   ]
  },
  {
   "cell_type": "code",
   "execution_count": null,
   "id": "28a2e590-3bb8-40c9-9754-221c5c8d44d6",
   "metadata": {},
   "outputs": [],
   "source": [
    "grouped.sample(5)"
   ]
  },
  {
   "cell_type": "code",
   "execution_count": null,
   "id": "662e99e1-dc4d-4a7c-96d6-26834ad0321c",
   "metadata": {},
   "outputs": [],
   "source": [
    "(grouped[\"choices\"] == grouped[\"pred_choice\"]).mean()"
   ]
  },
  {
   "cell_type": "code",
   "execution_count": null,
   "id": "fd5fdf77-e29b-49db-a135-e9989a323f5e",
   "metadata": {},
   "outputs": [],
   "source": [
    "grouped[\"pred_choices\"] = grouped[\"text\"].map(lambda x: find_top_k_similar(x, k=2))\n",
    "grouped[\"pred_choices\"] = grouped[\"pred_choices\"].map(lambda x: [string.replace(\" \", \"_\") for string in x])"
   ]
  },
  {
   "cell_type": "code",
   "execution_count": null,
   "id": "4f65677b-55ea-4197-84ff-f8baafe16e06",
   "metadata": {},
   "outputs": [],
   "source": [
    "grouped.sample(5)"
   ]
  },
  {
   "cell_type": "code",
   "execution_count": null,
   "id": "98beee48-36f4-47cc-bad0-7a7793e78fc2",
   "metadata": {},
   "outputs": [],
   "source": [
    "top_k_matches = []\n",
    "for i, r in grouped.iterrows():\n",
    "    top_k_matches.append(r[\"choices\"] in r[\"pred_choices\"])"
   ]
  },
  {
   "cell_type": "code",
   "execution_count": null,
   "id": "1c574434-bfd4-4b6c-b0fa-7ea271b50133",
   "metadata": {},
   "outputs": [],
   "source": [
    "np.mean(top_k_matches)"
   ]
  },
  {
   "cell_type": "code",
   "execution_count": null,
   "id": "d5d55277-2dce-47f9-a8f7-1055f1b4f57a",
   "metadata": {},
   "outputs": [],
   "source": [
    "grouped[\"pred_choices\"] = grouped[\"text\"].map(lambda x: find_top_k_similar(x, k=3))\n",
    "grouped[\"pred_choices\"] = grouped[\"pred_choices\"].map(lambda x: [string.replace(\" \", \"_\") for string in x])"
   ]
  },
  {
   "cell_type": "code",
   "execution_count": null,
   "id": "440c3b94-0f0c-4fdc-a2b4-24b4d44079b4",
   "metadata": {},
   "outputs": [],
   "source": [
    "top_k_matches = []\n",
    "for i, r in grouped.iterrows():\n",
    "    top_k_matches.append(r[\"choices\"] in r[\"pred_choices\"])"
   ]
  },
  {
   "cell_type": "code",
   "execution_count": null,
   "id": "3a6c449b-c486-44e1-a516-b06f0577c15a",
   "metadata": {},
   "outputs": [],
   "source": [
    "np.mean(top_k_matches)"
   ]
  },
  {
   "cell_type": "code",
   "execution_count": null,
   "id": "4ed39a55-3f87-495c-96f7-b9e35e7db6f5",
   "metadata": {},
   "outputs": [],
   "source": [
    "grouped[\"pred_choices\"] = grouped[\"text\"].map(lambda x: find_top_k_similar(x, k=5))\n",
    "grouped[\"pred_choices\"] = grouped[\"pred_choices\"].map(lambda x: [string.replace(\" \", \"_\") for string in x])"
   ]
  },
  {
   "cell_type": "code",
   "execution_count": null,
   "id": "11616075-0bb2-4266-be5c-e5fd63c74e82",
   "metadata": {},
   "outputs": [],
   "source": [
    "top_k_matches = []\n",
    "for i, r in grouped.iterrows():\n",
    "    top_k_matches.append(r[\"choices\"] in r[\"pred_choices\"])"
   ]
  },
  {
   "cell_type": "code",
   "execution_count": null,
   "id": "3f28a715-78e7-43ca-8657-a2b0c939462e",
   "metadata": {},
   "outputs": [],
   "source": [
    "np.mean(top_k_matches)"
   ]
  },
  {
   "cell_type": "markdown",
   "id": "7b23dda0-34c8-4684-ad4e-e2fcaf86a8bf",
   "metadata": {
    "tags": []
   },
   "source": [
    "##### USEM"
   ]
  },
  {
   "cell_type": "code",
   "execution_count": null,
   "id": "1be724ce-c49d-446a-bff4-6e788b0f469f",
   "metadata": {},
   "outputs": [],
   "source": [
    "def find_top_k_similar(text, conduct_embeddings=categories_embeddings, categories=categories, k=1):\n",
    "    normalized_text = normalize_text(text)\n",
    "    text_embeddings = usem([normalized_text])\n",
    "    similarities = np.inner(text_embeddings.numpy(), conduct_embeddings.numpy())\n",
    "    top_k = np.ravel(np.argsort(-similarities))[:k]\n",
    "    \n",
    "    return np.array([categories])[top_k][0] if k == 1 else np.array(categories)[top_k]"
   ]
  },
  {
   "cell_type": "code",
   "execution_count": null,
   "id": "a32b9a1a-6356-4f8e-8d86-7e07e0f399fd",
   "metadata": {},
   "outputs": [],
   "source": [
    "grouped[\"pred_choice\"] = grouped[\"text\"].map(find_top_k_similar)\n",
    "grouped[\"pred_choice\"] = grouped[\"pred_choice\"].str.replace(\" \", \"_\")"
   ]
  },
  {
   "cell_type": "code",
   "execution_count": null,
   "id": "efb77a81-ebd8-4505-b225-c5b07e960fca",
   "metadata": {},
   "outputs": [],
   "source": [
    "grouped.sample(5)"
   ]
  },
  {
   "cell_type": "code",
   "execution_count": null,
   "id": "da184304-4d96-417a-bfa3-95287f39547c",
   "metadata": {},
   "outputs": [],
   "source": [
    "(grouped[\"choices\"] == grouped[\"pred_choice\"]).mean()"
   ]
  },
  {
   "cell_type": "code",
   "execution_count": null,
   "id": "8c070453-dc80-4cc6-b2c5-e5ea1c4b97a9",
   "metadata": {},
   "outputs": [],
   "source": [
    "grouped[\"pred_choices\"] = grouped[\"text\"].map(lambda x: find_top_k_similar(x, k=3))\n",
    "grouped[\"pred_choices\"] = grouped[\"pred_choices\"].map(lambda x: [string.replace(\" \", \"_\") for string in x])"
   ]
  },
  {
   "cell_type": "code",
   "execution_count": null,
   "id": "fc824687-f8ff-452f-9386-92302a5656bc",
   "metadata": {},
   "outputs": [],
   "source": [
    "grouped.sample(5)"
   ]
  },
  {
   "cell_type": "code",
   "execution_count": null,
   "id": "be038b1d-f5dd-47b7-9d0b-700f73b9e648",
   "metadata": {},
   "outputs": [],
   "source": [
    "top_k_matches = []\n",
    "for i, r in grouped.iterrows():\n",
    "    top_k_matches.append(r[\"choices\"] in r[\"pred_choices\"])"
   ]
  },
  {
   "cell_type": "code",
   "execution_count": null,
   "id": "dc268d92-bfe0-4028-9a4d-bc8694602739",
   "metadata": {},
   "outputs": [],
   "source": [
    "np.mean(top_k_matches)"
   ]
  },
  {
   "cell_type": "code",
   "execution_count": null,
   "id": "f0ae89ee-0e26-493f-ba34-3124fbc8dcae",
   "metadata": {},
   "outputs": [],
   "source": []
  },
  {
   "cell_type": "code",
   "execution_count": null,
   "id": "ca46583d",
   "metadata": {},
   "outputs": [],
   "source": [
    "def find_conduct_types(pred: str) -> list:\n",
    "    normalized_pred = normalize_text(pred)\n",
    "\n",
    "    conduct_type_patterns = {\n",
    "        # \"abandonar_animal_domestico\": r\"\",\n",
    "        # \"abandono_de_personas\": r\"\",\n",
    "        # \"abuso_de_armas\": r\"\",\n",
    "        # \"abuso_de_autoridad_e_incumplimiento_deberes_funcionario_publico\": r\"\",\n",
    "        # \"abuso_sexual\": r\"\",\n",
    "        # \"acceder_a_lugares_distintos_segun_entrada\": r\"\",\n",
    "        # \"acceder_lugares_distintos_segun_entrada\": r\"\",\n",
    "        # \"acceso_a_sistema_restringido\": r\"\",\n",
    "        # \"acoso_sexual_callejero\": r\"\",\n",
    "        # \"actividades_lucrativas_sin_autorizacion\": r\"\",\n",
    "        # \"actividades_lucrativas_sin_habilitacion\": r\"\",\n",
    "        # \"actos_contenido_sexual_con_menores\": r\"\",\n",
    "        # \"administracion_fraudulenta\": r\"\",\n",
    "        # \"afectar_desarrollo_espectaculo\": r\"\",\n",
    "        # \"afectar_el_desarrollo_del_espectaculo\": r\"\",\n",
    "        # \"afectar_funcionamiento_servicios_publicos\": r\"\",\n",
    "        # \"afectar_servicios_de_emergencia_o_seguridad\": r\"\",\n",
    "        # \"afectar_servicios_emergencia\": r\"\",\n",
    "        # \"afectar_señalizacion\": r\"\",\n",
    "        # \"allanamiento_autonomo\": r\"\",\n",
    "        # \"alterar_programa\": r\"\",\n",
    "        # \"alterar_sepulturas\": r\"\",\n",
    "        # \"amenazas\": r\"\",\n",
    "        # \"amparo\": r\"\",\n",
    "        # \"apariencia_falsa\": r\"\",\n",
    "        # \"apariencia_falsa_para_entrar_a_domicilio_o_lugar_privado\": r\"\",\n",
    "        # \"apropiacion_indebida_de_tributos\": r\"\",\n",
    "        # \"arrojar_cosas_que_puedan_causar_lesiones\": r\"\",\n",
    "        # \"arrojar_cosas_sustancias\": r\"\",\n",
    "        # \"arrojar_sustancias_insalubres_en_lugares_publicos\": r\"\",\n",
    "        # \"asociacion_ilicita\": r\"\",\n",
    "        # \"asuncion_falsa_de_contravencion\": r\"\",\n",
    "        # \"atentado_contra_la_autoridad\": r\"\",\n",
    "        # \"ausencia_de_habilitacion\": r\"\",\n",
    "        # \"banderas\": r\"\",\n",
    "        # \"carteles_afiches_volantes\": r\"\",\n",
    "        # \"cierre_defectuoso\": r\"\",\n",
    "        # \"circular_por_carriles_exclusivos\": r\"\",\n",
    "        # \"circular_por_lugar_prohibido\": r\"\",\n",
    "        # \"cohecho_activo\": r\"\",\n",
    "        # \"cohecho_pasivo\": r\"\",\n",
    "        # \"coimas\": r\"\",\n",
    "        # \"competencia_desleal\": r\"\",\n",
    "        \"conducir_con_mayor_cantidad_de_alcohol_en_sangre_del_permitido\": r\"(?:condu(?:ci[ra]|ce|jo|cie?n?do|ccion)|limites?|nivele?s?).+(?:alcohol|ebri(?:[ao]|edad))\",\n",
    "        \"conducir_con_mayor_grado_de_alcohol_o_bajo_efectos_de_estupefacientes\": r\"(?:condu(?:ci[ra]|ce|jo|cie?n?do|ccion)|limites?|nivele?s?).+(?:alcohol|ebri(?:[ao]|edad)|drogas?|sustancias?|estupefacientes?)\",\n",
    "        # \"conducir_sin_licencia_que_lo_habilite_por_categoria_de_vehiculo\": r\"\",\n",
    "        # \"conducir_usando_aparato_electronico\": r\"\",\n",
    "        # \"connivencia_policial\": r\"\",\n",
    "        # \"contactar_menor_por_medio_de_tecnologias_para_cometer_delitos_contra_su_integridad_sexual\": r\"\",\n",
    "        # \"cruce_de_semaforo_en_rojo\": r\"\",\n",
    "        # \"cuida_coche\": r\"\",\n",
    "        # \"cuidar_coches_sin_autorizacion\": r\"\",\n",
    "        # \"daños\": r\"\",\n",
    "        # \"daños_informaticos\": r\"\",\n",
    "        # \"defraudacion\": r\"\",\n",
    "        # \"defraudacion_contra_la_administracion_publica\": r\"\",\n",
    "        # \"delito_contra_seguridad_transito\": r\"\",\n",
    "        # \"denegacion_de_justicia\": r\"\",\n",
    "        # \"derecho_admision\": r\"\",\n",
    "        # \"desarmado_automotor\": r\"\",\n",
    "        # \"desinfeccion_y_desratizacion\": r\"\",\n",
    "        # \"desobediencia_a_cargas_procesales\": r\"\",\n",
    "        # \"desobediencia_a_la_autoridad\": r\"\",\n",
    "        # \"difusion_no_autorizada_de_imagenes\": r\"\",\n",
    "        # \"difusion_no_autorizada_de_imagenes_intimas\": r\"\",\n",
    "        # \"discriminar\": r\"\",\n",
    "        # \"documentacion_sanitaria\": r\"\",\n",
    "        # \"ejecucion_de_multa\": r\"\",\n",
    "        # \"ejercer_ilegitimamente_actividad\": r\"\",\n",
    "        # \"ejercicio_ilegal_de_la_medicina\": r\"\",\n",
    "        # \"elementos_de_prevencion_contra_incendio\": r\"\",\n",
    "        # \"encubrimiento\": r\"\",\n",
    "        # \"encubrimiento_actividades_baile\": r\"\",\n",
    "        # \"ensuciar_bienes\": r\"\",\n",
    "        # \"entregar_indebidamente_armas_explosivos\": r\"\",\n",
    "        # \"espantar_animales\": r\"\",\n",
    "        # \"espejos_retrovisores\": r\"\",\n",
    "        # \"estacionamiento_prohibido\": r\"\",\n",
    "        # \"estacionamiento_sobre_senda_peatonal\": r\"\",\n",
    "        # \"estafa\": r\"\",\n",
    "        # \"estupefacientes\": r\"\",\n",
    "        # \"exceso_capacidad_ingreso\": r\"\",\n",
    "        # \"exceso_de_velocidad\": r\"\",\n",
    "        # \"exhibicion_de_documentacion_obligatoria\": r\"\",\n",
    "        # \"exhibiciones_obscenas\": r\"\",\n",
    "        # \"exhortos_de_otras_jurisdicciones\": r\"\",\n",
    "        # \"explotacion_trabajo_infantil\": r\"\",\n",
    "        # \"extorsion\": r\"\",\n",
    "        # \"fabricar_transportar_artefactos_pirotecnicos\": r\"\",\n",
    "        # \"falsa_denuncia\": r\"\",\n",
    "        # \"falsedad_documental_de_certificado_de_aptitud_ambiental\": r\"\",\n",
    "        # \"falsificacion_certificado_medico\": r\"\",\n",
    "        # \"falsificacion_de_documento\": r\"\",\n",
    "        # \"falsificacion_de_marcas_firmas_señas_oficiales\": r\"\",\n",
    "        # \"falsificacion_de_numeracion_de_objeto_registrada_de_acuerdo_a_ley\": r\"\",\n",
    "        # \"falta_de_poliza_de_seguros\": r\"\",\n",
    "        # \"favorecimiento_evasion_persona_detenida\": r\"\",\n",
    "        # \"frustrar_subasta_publica\": r\"\",\n",
    "        # \"guardar_artefactos_pirotecnicos\": r\"\",\n",
    "        # \"guardar_elementos_aptos_violencia\": r\"\",\n",
    "        # \"habeas_corpus\": r\"\",\n",
    "        # \"habilitacion_en_infraccion\": r\"\",\n",
    "        # \"homicidio\": r\"\",\n",
    "        # \"hostigamiento\": r\"\",\n",
    "        # \"hostigamiento_digital\": r\"\",\n",
    "        # \"hurto\": r\"\",\n",
    "        # \"impedimento_de_contacto_de_menor_con_padre_no_conviviente\": r\"\",\n",
    "        # \"incendio_explosion_inundacion_con_peligro_para_bienes\": r\"\",\n",
    "        # \"incendios_y_otros_estragos\": r\"\",\n",
    "        # \"incitar_al_desorden\": r\"\",\n",
    "        # \"incitar_desorden\": r\"\",\n",
    "        # \"incumplimiento_de_plazos\": r\"\",\n",
    "        # \"incumplimiento_deberes_familiares\": r\"\",\n",
    "        # \"incumplimiento_deberes_funcionario_publico\": r\"\",\n",
    "        # \"incumplimiento_medidas_prevencion_sanidad\": r\"\",\n",
    "        # \"incumplimiento_perimetro_profundidad\": r\"\",\n",
    "        # \"incumplir_clausura\": r\"\",\n",
    "        # \"incumplir_obligaciones_legales\": r\"\",\n",
    "        # \"inducir_menor_a_mendigar\": r\"\",\n",
    "        # \"infraccion_reglamentos_seguridad\": r\"\",\n",
    "        # \"ingresar_artefactos_pirotecnicos\": r\"\",\n",
    "        # \"ingresar_consumir_bebidas_alcoholicas\": r\"\",\n",
    "        # \"ingresar_contra_derecho_admision\": r\"\",\n",
    "        # \"ingresar_sin_autorizacion_lugares_reservados\": r\"\",\n",
    "        # \"ingresar_sin_entrada\": r\"\",\n",
    "        # \"ingresar_sin_entrada_autorizacion\": r\"\",\n",
    "        # \"ingreso_a_domicilio_sin_autorizacion\": r\"\",\n",
    "        # \"inhumar_exhumar_profanar\": r\"\",\n",
    "        # \"intimidacion\": r\"\",\n",
    "        # \"juego_sin_autorizacion\": r\"\",\n",
    "        # \"juegos_de_azar_sin_autorizacion\": r\"\",\n",
    "        # \"lesiones\": r\"\",\n",
    "        # \"ley_451\": r\"\",\n",
    "        # \"licencia_vencida\": r\"\",\n",
    "        # \"maltrato\": r\"\",\n",
    "        # \"mantener_animal_domestico_espacios_inadecuados\": r\"\",\n",
    "        # \"mantenimiento_de_cercas_y_aceras\": r\"\",\n",
    "        # \"menoscabar_integridad_animal_domestico\": r\"\",\n",
    "        \"mesnna_masnna\": r\"(?:m[ae]snna)|(?:abuso|actividade?s?|explotaci[oó]n) sexuale?s?.+|(?:menore?s?(?: de edad)?.+(?:exhibiendo)?.+(?:genitale?s?|desnud[ao]s?))\",\n",
    "        # \"no_realizar_grabado_de_autopartes\": r\"\",\n",
    "        # \"no_respetar_carriles\": r\"\",\n",
    "        # \"no_respetar_senda_peatonal\": r\"\",\n",
    "        # \"obligacion_de_exhibir_cartel\": r\"\",\n",
    "        # \"obligacion_de_informar_prohibicion_de_fumar\": r\"\",\n",
    "        # \"obligacion_de_conservar\": r\"\",\n",
    "        # \"obstaculizar_ingreso_o_salida\": r\"\",\n",
    "        # \"obstruccion_de_inspeccion\": r\"\",\n",
    "        # \"obstruccion_de_via\": r\"\",\n",
    "        # \"obstruccion_de_via_publica\": r\"\",\n",
    "        # \"obstruccion_via_publica\": r\"\",\n",
    "        # \"obstruir_salida\": r\"\",\n",
    "        # \"ocupar_via_publica\": r\"\",\n",
    "        # \"oferta_demanda_sexo_espacio_publico\": r\"\",\n",
    "        # \"omitir_cuidados_animal_domestico\": r\"\",\n",
    "        # \"omitir_recaudos_de_cuidado_animal_domestico\": r\"\",\n",
    "        # \"omitir_recaudos_de_organizacion\": r\"\",\n",
    "        # \"omitir_recaudos_espectaculo_masivo\": r\"\",\n",
    "        # \"omitir_recaudos_organizacion_seguridad\": r\"\",\n",
    "        # \"organizar_explotar_juego\": r\"\",\n",
    "        # \"organizar_sin_autorizacion_juego\": r\"\",\n",
    "        # \"participar_competencias_velocidad_via_publica\": r\"\",\n",
    "        # \"pelear_en_lugar_publico\": r\"\",\n",
    "        # \"permiso_y_planos_de_obra\": r\"\",\n",
    "        # \"persona_no_habilitada\": r\"\",\n",
    "        # \"perturbar_ceremonias_religiosas_funebres\": r\"\",\n",
    "        # \"perturbar_filas_ingreso_no_respetar_vallado\": r\"\",\n",
    "        # \"placas_de_dominio\": r\"\",\n",
    "        \"pornografia_infantil\": r\"(?:pedo)?p[or]+no(?:gr(?:afia)?|grafic[ao])? ?(?:nfantil|infanto ?juvenil|c(?:on)? menores)?\",\n",
    "        # \"portacion_de_arma\": r\"\",\n",
    "        # \"portar_armas_no_convencionales\": r\"\",\n",
    "        # \"presencia_menores_lugar_no_autorizado\": r\"\",\n",
    "        # \"presunta_comision_delito\": r\"\",\n",
    "        # \"presunta_contravencion\": r\"\",\n",
    "        # \"privacion_ilegitima_de_la_libertad\": r\"\",\n",
    "        # \"producir_avalanchas\": r\"\",\n",
    "        # \"promocion_o_facilitacion_de_prostitucion_de_personas\": r\"\",\n",
    "        # \"promover_comerciar_ofertar_juego\": r\"\",\n",
    "        # \"propaganda_discriminatoria\": r\"\",\n",
    "        # \"proteccion_animal\": r\"\",\n",
    "        # \"provocar_parcialidad\": r\"\",\n",
    "        # \"publicidad_en_lugares_no_habilitados_via_publica\": r\"\",\n",
    "        # \"regentear_o_administrar_casas_de_tolerancia\": r\"\",\n",
    "        # \"residuos_peligrosos\": r\"\",\n",
    "        # \"retencion_indebida\": r\"\",\n",
    "        # \"revender_entradas\": r\"\",\n",
    "        # \"robo\": r\"\",\n",
    "        # \"ruidos_molestos\": r\"\",\n",
    "        # \"ruidos_y_vibraciones\": r\"\",\n",
    "        # \"sancion_generica\": r\"\",\n",
    "        # \"servicios_de_seguridad_prohibiciones_incumplidas\": r\"\",\n",
    "        # \"servicios_de_seguridad_requisitos_incumplidos\": r\"\",\n",
    "        # \"suministrar_alcohol_menor\": r\"\",\n",
    "        # \"suministrar_bebidas_alcoholicas\": r\"\",\n",
    "        # \"suministrar_elementos_aptos_agresion\": r\"\",\n",
    "        # \"suministrar_material_pornografico\": r\"\",\n",
    "        # \"suministrar_objetos_peligrosos\": r\"\",\n",
    "        # \"suministrar_productos_farmaceuticos\": r\"\",\n",
    "        # \"suministro_de_medicamentos\": r\"\",\n",
    "        # \"suplantacion_identidad\": r\"\",\n",
    "        # \"suplantacion_digital_de_identidad\": r\"\",\n",
    "        # \"taxis_transportes_escolares_remises_sin_autorizacion\": r\"\",\n",
    "        \"tenencia_de_arma\": r\"(?:ten(?:encia|er|ia|ga))?.+(?:armas?|revolver|pistolas?|bombas?|explosivos?)\",\n",
    "        # \"transporte_de_pasajeros\": r\"\",\n",
    "        # \"transporte_de_pasajeros_sin_habilitacion\": r\"\",\n",
    "        # \"transporte_de_pasajeros_sin_habilitacion_o_autorizacion\": r\"\",\n",
    "        # \"usar_indebidamente_credencial\": r\"\",\n",
    "        # \"usar_indebidamente_espacio_publico\": r\"\",\n",
    "        # \"usar_indiebidamente_armas\": r\"\",\n",
    "        # \"uso_de_documento_falso_o_adulterado\": r\"\",\n",
    "        # \"uso_indebido_del_espacio_publico\": r\"\",\n",
    "        # \"uso_o_exhibicion_de_franquicias\": r\"\",\n",
    "        # \"usurpacion\": r\"\",\n",
    "        # \"vehiculo_abandonado\": r\"\",\n",
    "        # \"vender_entradas_o_permitir_ingreso_exceso\": r\"\",\n",
    "        # \"vender_sustancias_medicinales_sin_receta\": r\"\",\n",
    "        # \"venta_o_consumo_de_bebidas_alcoholicas_fuera_del_horario\": r\"\",\n",
    "        # \"verificacion_tecnica\": r\"\",\n",
    "        # \"violacion_de_peaje\": r\"\",\n",
    "        # \"violacion_de_domicilio\": r\"\",\n",
    "        # \"violacion_de_secretos_y_de_la_privacidad\": r\"\",\n",
    "        \"violar_clausura\": r\"(?:viol[aoe](?:r?o?n?(?:do)?|cion)?|infr(?:in[gj][aei](?:r|o|endo)?|accion)|incumpl[aei]((?:r|[ao]|endo)|miento)?|(?:a )?pes(?:ar|e)).+clausura\",\n",
    "        # \"violar_inhabilitacion_para_conducir\": r\"\",\n",
    "        # \"violar_reglamentacion_juego\": r\"\",\n",
    "        # \"zanjas_y_pozos_en_via_publica\": r\"\",\n",
    "    }\n",
    "\n",
    "    found_types = set()\n",
    "\n",
    "    for modality, pattern in conduct_type_patterns.items():\n",
    "        if re.search(pattern, normalized_pred):\n",
    "            found_types.add(modality)\n",
    "\n",
    "    return list(found_types)\n"
   ]
  },
  {
   "cell_type": "code",
   "execution_count": null,
   "id": "3896ec7a",
   "metadata": {},
   "outputs": [],
   "source": [
    "conduct_texts = pd.DataFrame(conduct_texts)\n",
    "conduct_texts.rename({\"token\": \"text\"}, axis=1, inplace=True)\n",
    "conduct_texts[\"types\"] = conduct_texts[\"text\"].map(find_conduct_types)\n",
    "conduct_texts"
   ]
  },
  {
   "cell_type": "code",
   "execution_count": null,
   "id": "9c1901d0",
   "metadata": {},
   "outputs": [],
   "source": [
    "found = conduct_texts.loc[conduct_texts[\"types\"].map(len) == 1].copy()"
   ]
  },
  {
   "cell_type": "code",
   "execution_count": null,
   "id": "b823265b",
   "metadata": {},
   "outputs": [],
   "source": [
    "conduct_texts.loc[(conduct_texts[\"types\"].map(len) == 0)].sort_values(\"text\")"
   ]
  },
  {
   "cell_type": "markdown",
   "id": "7172ca2f-f4e8-419a-af50-ca48de043de3",
   "metadata": {
    "tags": []
   },
   "source": [
    "#### Conducta descripción"
   ]
  },
  {
   "cell_type": "code",
   "execution_count": null,
   "id": "a5390da5-94d2-4189-8c5e-9238063b0d5b",
   "metadata": {},
   "outputs": [],
   "source": [
    "mask = df[\"clean_label\"] == \"CONDUCTA_DESCRIPCION\"\n",
    "\n",
    "df.loc[mask][\"label\"].value_counts()"
   ]
  },
  {
   "cell_type": "code",
   "execution_count": null,
   "id": "1958e063-c6e4-4ad7-bedd-224e49ef4f5a",
   "metadata": {},
   "outputs": [],
   "source": [
    "conduct_desc = df.loc[mask].copy()"
   ]
  },
  {
   "cell_type": "code",
   "execution_count": null,
   "id": "23c44a72-a184-422d-a066-1094094fa7ef",
   "metadata": {},
   "outputs": [],
   "source": [
    "conduct_desc[\"beginning\"] = conduct_desc[\"label\"].str.startswith(\"B\").astype(int)\n",
    "conduct_desc.head(10)"
   ]
  },
  {
   "cell_type": "code",
   "execution_count": null,
   "id": "17f0f2d7-0a20-4c1c-b4b0-f803bdf5a7ac",
   "metadata": {},
   "outputs": [],
   "source": [
    "conduct_desc[\"id\"] = conduct_desc[\"beginning\"].cumsum()\n",
    "conduct_desc.head(10)"
   ]
  },
  {
   "cell_type": "code",
   "execution_count": null,
   "id": "80da524d-515d-40e5-b0ae-0524e5881618",
   "metadata": {},
   "outputs": [],
   "source": [
    "conduct_desc_texts = conduct_desc.groupby(\"id\")[\"token\"].apply(\" \".join)\n",
    "conduct_desc_texts.sample(5)"
   ]
  },
  {
   "cell_type": "code",
   "execution_count": null,
   "id": "6312ec61-8325-426c-8a6a-97b709956f15",
   "metadata": {},
   "outputs": [],
   "source": [
    "conduct_desc_texts.map(normalize_text).value_counts().head(25)"
   ]
  },
  {
   "cell_type": "code",
   "execution_count": null,
   "id": "c34d192d-b277-48b3-98b1-0dbe2bbc60f6",
   "metadata": {},
   "outputs": [],
   "source": [
    "def filter_conduct_desc_choices(annot: dict) -> bool:\n",
    "    try:\n",
    "        from_name = annot[\"from_name\"]\n",
    "        if from_name == \"CONDUCTA_DESCRIPCION\":\n",
    "            return True\n",
    "        \n",
    "    except:\n",
    "        return False"
   ]
  },
  {
   "cell_type": "code",
   "execution_count": null,
   "id": "f459a09f-4794-4daf-9930-d012a476c4a6",
   "metadata": {},
   "outputs": [],
   "source": [
    "conduct_desc_choices = []\n",
    "for sample in annots:\n",
    "    conduct_desc = list(filter(filter_conduct_desc_choices, sample[\"annotations\"][0][\"result\"]))\n",
    "    conduct_desc_choices.extend(conduct_desc)"
   ]
  },
  {
   "cell_type": "code",
   "execution_count": null,
   "id": "591783d2-2720-45ee-86be-beaf49982301",
   "metadata": {},
   "outputs": [],
   "source": [
    "len(conduct_desc_choices)"
   ]
  },
  {
   "cell_type": "code",
   "execution_count": null,
   "id": "bec4ad86-f268-4e32-81ad-3c7c2ece8008",
   "metadata": {},
   "outputs": [],
   "source": [
    "conduct_desc_choices[-1]"
   ]
  },
  {
   "cell_type": "code",
   "execution_count": null,
   "id": "7f429104-65cd-439b-bacc-537aa9e39812",
   "metadata": {},
   "outputs": [],
   "source": [
    "from aymurai.utils.json_data import group_by_key\n",
    "\n",
    "grouped = list(\n",
    "    group_by_key(\n",
    "        list(map(extract_text_choices, conduct_desc_choices)),\n",
    "        group_key=\"choices\",\n",
    "        sort_key=\"choices\",\n",
    "    )\n",
    ")\n"
   ]
  },
  {
   "cell_type": "code",
   "execution_count": null,
   "id": "ac5a1ea4-a6c4-4248-b353-c30324c6f6bc",
   "metadata": {},
   "outputs": [],
   "source": [
    "from more_itertools import flatten\n",
    "\n",
    "grouped = list(flatten(grouped))"
   ]
  },
  {
   "cell_type": "code",
   "execution_count": null,
   "id": "f5d76552-d84a-42b4-931e-12310acf01fd",
   "metadata": {
    "tags": []
   },
   "outputs": [],
   "source": [
    "grouped = pd.DataFrame(grouped)\n",
    "grouped[\"normalized_text\"] = grouped[\"text\"].map(normalize_text)\n",
    "grouped.drop_duplicates(subset=[\"normalized_text\", \"choices\"], inplace=True)\n",
    "grouped"
   ]
  },
  {
   "cell_type": "code",
   "execution_count": null,
   "id": "c2035465-f938-4d90-9257-70d377fc03a9",
   "metadata": {
    "tags": []
   },
   "outputs": [],
   "source": [
    "grouped[\"normalized_text\"].value_counts()"
   ]
  },
  {
   "cell_type": "code",
   "execution_count": null,
   "id": "7bd68d55-161d-4a15-985f-79dbf56d8ebb",
   "metadata": {
    "tags": []
   },
   "outputs": [],
   "source": [
    "grouped[\"choices\"].value_counts()"
   ]
  },
  {
   "cell_type": "markdown",
   "id": "9f60ffaf-b4e0-47b1-aaff-ce7becf7519a",
   "metadata": {},
   "source": [
    "##### USEM"
   ]
  },
  {
   "cell_type": "markdown",
   "id": "cb5ec633-725c-49ac-8190-2e3f683f2a42",
   "metadata": {
    "tags": []
   },
   "source": [
    "##### Categories encoding"
   ]
  },
  {
   "cell_type": "code",
   "execution_count": null,
   "id": "d7cb59be-7cda-45ec-a351-6d5724f6b3fd",
   "metadata": {},
   "outputs": [],
   "source": [
    "categories = [\n",
    "    \"agravada\",\n",
    "    \"agravadas_por_edad\",\n",
    "    \"agravadas_por_el_uso_de_armas\",\n",
    "    \"agravadas_por_uso_de_armas\",\n",
    "    \"agravadas_por_uso_de_armas_impropia\",\n",
    "    \"agravado\",\n",
    "    \"agravado_abuso_funcion\",\n",
    "    \"agravado_alevosia\",\n",
    "    \"agravado_causar_sufrimiento_otra_persona\",\n",
    "    \"agravado_concurso\",\n",
    "    \"agravado_familiar\",\n",
    "    \"agravado_insertar_datos_en_datos_personales\",\n",
    "    \"agravado_lugar_publico\",\n",
    "    \"agravado_mas_personas\",\n",
    "    \"agravado_medio_idoneo\",\n",
    "    \"agravado_menor_de_edad\",\n",
    "    \"agravado_miembro_fuerzas\",\n",
    "    \"agravado_monumentos\",\n",
    "    \"agravado_otro_delito\",\n",
    "    \"agravado_peligro_de_muerte\",\n",
    "    \"agravado_por_el_vinculo\",\n",
    "    \"agravado_por_espacio\",\n",
    "    \"agravado_por_ser_fuerza_de_seguridad\",\n",
    "    \"agravado_precio\",\n",
    "    \"agravado_relacion_de_pareja\",\n",
    "    \"agravado_superior_militar\",\n",
    "    \"agravado_violar_informacion_banco_de_datos\",\n",
    "    \"agravado_violar_sistemas_seguridad\",\n",
    "    \"agravado_violencia_de_genero\",\n",
    "    \"agravado_violencia_mujer\",\n",
    "    \"agravados\",\n",
    "    \"coactivas\",\n",
    "    \"coactivas_agravadas\",\n",
    "    \"coactivas_agravadas_por_uso_de_armas\",\n",
    "    \"comercio_de_plantas_para_producir_estupefacientes\",\n",
    "    \"con_escalamiento\",\n",
    "    \"conduccion_imprudente\",\n",
    "    \"culposas\",\n",
    "    \"culposo\",\n",
    "    \"de_fuego_uso_civil\",\n",
    "    \"de_guerra\",\n",
    "    \"destinado_a_acreditar_identidad_de_personas_habilitacion_o_titularidad\",\n",
    "    \"digital\",\n",
    "    \"digital_agravado_familiar\",\n",
    "    \"digital_agravado_jefe\",\n",
    "    \"digital_agravado_mas_de_una_persona\",\n",
    "    \"digital_agravado_menor_de_edad\",\n",
    "    \"digital_agravado_relacion_de_pareja\",\n",
    "    \"durante_espectaculo_deportivo\",\n",
    "    \"en_grandes_parques_o_espectaculos_masivos\",\n",
    "    \"en_riña\",\n",
    "    \"entrega_suministro_facilitacion\",\n",
    "    \"funcionario_publico\",\n",
    "    \"ganzua_llave\",\n",
    "    \"graves\",\n",
    "    \"graves_tentativa\",\n",
    "    \"informatica\",\n",
    "    \"ingreso_a_domicilio_sin_autorizacion\",\n",
    "    \"intimadacion_o_invocando_orden_superior\",\n",
    "    \"leves\",\n",
    "    \"leves_agravadas\",\n",
    "    \"muebles_transportables\",\n",
    "    \"no_denuncia_delito\",\n",
    "    \"ocasion_de_incendio\",\n",
    "    \"organismo_publico\",\n",
    "    \"para_produccion_o_tenencia_con_fines_de_comercializacion\",\n",
    "    \"por_despojo\",\n",
    "    \"por_obligacion_de_devolver\",\n",
    "    \"por_turbacion_de_la_posesion\",\n",
    "    \"productos_separados_suelo\",\n",
    "    \"publico_o_privado\",\n",
    "    \"seguido_de_muerte\",\n",
    "    \"simple\",\n",
    "    \"simples\",\n",
    "    \"sin_autorizacion\",\n",
    "    \"tarjeta_credito_debito\",\n",
    "    \"tenencia\",\n",
    "    \"tentativa\",\n",
    "    \"tentativa_agravado_alevosia\",\n",
    "    \"transporte_de_pasajeros_sin_habilitacion_o_autorizacion\",\n",
    "    \"uso_de_tarjeta_o_datos\",\n",
    "    \"vehiculos\",\n",
    "]"
   ]
  },
  {
   "cell_type": "code",
   "execution_count": null,
   "id": "4d298187-f978-4f77-997b-7aed59031c70",
   "metadata": {
    "tags": []
   },
   "outputs": [],
   "source": [
    "categories = [category.replace(\"_\", \" \") for category in categories]\n",
    "categories"
   ]
  },
  {
   "cell_type": "code",
   "execution_count": null,
   "id": "4771da8c-315d-4949-9656-979345f5218f",
   "metadata": {},
   "outputs": [],
   "source": [
    "len(categories)"
   ]
  },
  {
   "cell_type": "code",
   "execution_count": null,
   "id": "13ca9924-3588-4396-b142-8c8d876f49a6",
   "metadata": {},
   "outputs": [],
   "source": [
    "# categories_embeddings = usem_qa.signatures[\"question_encoder\"](input=tf.constant(categories))\n",
    "\n",
    "categories_embeddings = usem_qa.signatures[\"response_encoder\"](\n",
    "     input=tf.constant(categories) , context=tf.constant(categories)\n",
    ")\n",
    "\n",
    "# categories_embeddings = usem(categories)"
   ]
  },
  {
   "cell_type": "code",
   "execution_count": null,
   "id": "65b2a513-f08a-4ec7-bd6e-c534249f1b21",
   "metadata": {},
   "outputs": [],
   "source": [
    "np.save(\"conduct_descr_embeddings.npy\", categories_embeddings[\"outputs\"].numpy())"
   ]
  },
  {
   "cell_type": "code",
   "execution_count": null,
   "id": "13ecd845-ff55-46d4-95ac-7f2380adeb62",
   "metadata": {},
   "outputs": [],
   "source": [
    "conduct_embeddings = np.load(\"conduct_descr_embeddings.npy\")\n",
    "conduct_embeddings"
   ]
  },
  {
   "cell_type": "code",
   "execution_count": null,
   "id": "2e9fd592-a708-437f-a0d5-245434a56808",
   "metadata": {},
   "outputs": [],
   "source": [
    "conduct_embeddings.shape"
   ]
  },
  {
   "cell_type": "markdown",
   "id": "ccdba506-ac98-4e28-86a0-48a43314ea3a",
   "metadata": {},
   "source": [
    "##### Text encoding"
   ]
  },
  {
   "cell_type": "code",
   "execution_count": null,
   "id": "3b9faf1a-1a9d-4545-865d-70a9c5084ac7",
   "metadata": {
    "tags": []
   },
   "outputs": [],
   "source": [
    "texts = grouped[\"normalized_text\"].unique()\n",
    "texts"
   ]
  },
  {
   "cell_type": "code",
   "execution_count": null,
   "id": "2e1bcaf9-19c4-4298-a49b-73d7e9d0df84",
   "metadata": {},
   "outputs": [],
   "source": [
    "#texts_embeddings = usem(texts)\n",
    "texts_embeddings = usem_qa.signatures[\"question_encoder\"](input=tf.constant(texts))"
   ]
  },
  {
   "cell_type": "code",
   "execution_count": null,
   "id": "8bfbbb65-2896-4abe-8c96-e22991f270b1",
   "metadata": {
    "tags": []
   },
   "outputs": [],
   "source": [
    "similarities = np.inner(texts_embeddings[\"outputs\"], categories_embeddings[\"outputs\"])\n",
    "similarities = pd.DataFrame(similarities, index=texts, columns=categories)\n",
    "similarities"
   ]
  },
  {
   "cell_type": "code",
   "execution_count": null,
   "id": "cfe319cc-6d38-45f4-b852-7843a0ce54b5",
   "metadata": {
    "tags": []
   },
   "outputs": [],
   "source": [
    "for text in texts:\n",
    "    top_3_similar = similarities.loc[text].sort_values(ascending=False)[:3]\n",
    "    print(text)\n",
    "    display(top_3_similar)\n",
    "    print(\"=\"*100)"
   ]
  },
  {
   "cell_type": "code",
   "execution_count": null,
   "id": "a6b147a7-bc38-4a50-a552-eb00df77f34e",
   "metadata": {},
   "outputs": [],
   "source": [
    "def find_top_k_similar(text, conduct_embeddings=categories_embeddings, categories=categories, k=1):\n",
    "    normalized_text = normalize_text(text)\n",
    "    text_embeddings = usem_qa.signatures[\"question_encoder\"](input=tf.constant(normalized_text))\n",
    "    similarities = np.inner(text_embeddings[\"outputs\"], conduct_embeddings[\"outputs\"])\n",
    "    top_k = np.argsort(np.ravel(-similarities))[:k]\n",
    "    \n",
    "    return np.array(categories)[top_k][0] if k == 1 else np.array(categories)[top_k]"
   ]
  },
  {
   "cell_type": "code",
   "execution_count": null,
   "id": "d96e97cc-848d-416f-b537-093115f6fb39",
   "metadata": {},
   "outputs": [],
   "source": [
    "find_top_k_similar(\"agravadas por el uso de arma de fuego\")"
   ]
  },
  {
   "cell_type": "code",
   "execution_count": null,
   "id": "4dea9ad6-9db5-488b-9529-6291e9ae2bae",
   "metadata": {},
   "outputs": [],
   "source": [
    "grouped[\"pred_choice\"] = grouped[\"text\"].map(find_top_k_similar)\n",
    "grouped[\"pred_choice\"] = grouped[\"pred_choice\"].str.replace(\" \", \"_\")"
   ]
  },
  {
   "cell_type": "code",
   "execution_count": null,
   "id": "ea6f7974-f76d-4df8-80ab-e72fd838ae4a",
   "metadata": {},
   "outputs": [],
   "source": [
    "grouped.sample(5)"
   ]
  },
  {
   "cell_type": "code",
   "execution_count": null,
   "id": "17aede38-35d2-4dd8-9d88-f133d7e50f1a",
   "metadata": {},
   "outputs": [],
   "source": [
    "(grouped[\"choices\"] == grouped[\"pred_choice\"]).mean()"
   ]
  },
  {
   "cell_type": "code",
   "execution_count": null,
   "id": "c438c6fe-f420-495e-bb00-edef6be3d92f",
   "metadata": {},
   "outputs": [],
   "source": [
    "grouped[\"pred_choices\"] = grouped[\"text\"].map(lambda x: find_top_k_similar(x, k=2))\n",
    "grouped[\"pred_choices\"] = grouped[\"pred_choices\"].map(lambda x: [string.replace(\" \", \"_\") for string in x])"
   ]
  },
  {
   "cell_type": "code",
   "execution_count": null,
   "id": "ce4fc527-0cf0-423d-b893-8bf6223dbdad",
   "metadata": {},
   "outputs": [],
   "source": [
    "grouped.sample(5)"
   ]
  },
  {
   "cell_type": "code",
   "execution_count": null,
   "id": "19606254-4721-4232-b2ea-17f370ecefb7",
   "metadata": {},
   "outputs": [],
   "source": [
    "top_k_matches = []\n",
    "for i, r in grouped.iterrows():\n",
    "    top_k_matches.append(r[\"choices\"] in r[\"pred_choices\"])"
   ]
  },
  {
   "cell_type": "code",
   "execution_count": null,
   "id": "a16d72e4-b1ea-4ae1-a7d5-c3b3e1ba4a59",
   "metadata": {},
   "outputs": [],
   "source": [
    "np.mean(top_k_matches)"
   ]
  },
  {
   "cell_type": "code",
   "execution_count": null,
   "id": "ae06c0cf-0e24-40c6-acb3-d4354b3cf908",
   "metadata": {},
   "outputs": [],
   "source": [
    "grouped[\"pred_choices\"] = grouped[\"text\"].map(lambda x: find_top_k_similar(x, k=3))\n",
    "grouped[\"pred_choices\"] = grouped[\"pred_choices\"].map(lambda x: [string.replace(\" \", \"_\") for string in x])"
   ]
  },
  {
   "cell_type": "code",
   "execution_count": null,
   "id": "496cd5c2-e26a-4fac-92f0-024f9a502fc2",
   "metadata": {},
   "outputs": [],
   "source": [
    "top_k_matches = []\n",
    "for i, r in grouped.iterrows():\n",
    "    top_k_matches.append(r[\"choices\"] in r[\"pred_choices\"])"
   ]
  },
  {
   "cell_type": "code",
   "execution_count": null,
   "id": "d6433bf3-b88a-4da0-95f0-d24abdc43d04",
   "metadata": {},
   "outputs": [],
   "source": [
    "np.mean(top_k_matches)"
   ]
  },
  {
   "cell_type": "code",
   "execution_count": null,
   "id": "21ecb30f-54cb-47b1-97ad-cb17e6b6a8a7",
   "metadata": {},
   "outputs": [],
   "source": [
    "grouped[\"pred_choices\"] = grouped[\"text\"].map(lambda x: find_top_k_similar(x, k=5))\n",
    "grouped[\"pred_choices\"] = grouped[\"pred_choices\"].map(lambda x: [string.replace(\" \", \"_\") for string in x])"
   ]
  },
  {
   "cell_type": "code",
   "execution_count": null,
   "id": "12a5c34f-1d62-4a25-9d8a-12ce7736d5d2",
   "metadata": {},
   "outputs": [],
   "source": [
    "top_k_matches = []\n",
    "for i, r in grouped.iterrows():\n",
    "    top_k_matches.append(r[\"choices\"] in r[\"pred_choices\"])"
   ]
  },
  {
   "cell_type": "code",
   "execution_count": null,
   "id": "b308c876-6a1d-4459-9abe-4cfb736e290c",
   "metadata": {},
   "outputs": [],
   "source": [
    "np.mean(top_k_matches)"
   ]
  },
  {
   "cell_type": "code",
   "execution_count": null,
   "id": "cfe8c2e4-c7b3-41cf-8486-e9141e74660b",
   "metadata": {},
   "outputs": [],
   "source": [
    "# USEM QA - SAME QUESTION EMBEDDINGS"
   ]
  },
  {
   "cell_type": "code",
   "execution_count": null,
   "id": "1c2cf1bf-8445-4184-bf97-dbb82892ebf0",
   "metadata": {},
   "outputs": [],
   "source": [
    "categories_embeddings = usem_qa.signatures[\"question_encoder\"](input=tf.constant(categories))"
   ]
  },
  {
   "cell_type": "code",
   "execution_count": null,
   "id": "ca8d85d8-dcaf-491f-a0e4-4fc1aaf1de47",
   "metadata": {},
   "outputs": [],
   "source": [
    "def find_top_k_similar(text, conduct_embeddings=categories_embeddings, categories=categories, k=1):\n",
    "    normalized_text = normalize_text(text)\n",
    "    text_embeddings = usem_qa.signatures[\"question_encoder\"](input=tf.constant(normalized_text))\n",
    "    similarities = np.inner(text_embeddings[\"outputs\"], conduct_embeddings[\"outputs\"])\n",
    "    top_k = np.argsort(np.ravel(-similarities))[:k]\n",
    "    \n",
    "    return np.array(categories)[top_k][0] if k == 1 else np.array(categories)[top_k]"
   ]
  },
  {
   "cell_type": "code",
   "execution_count": null,
   "id": "6c392019-bf72-4dcc-9ac8-5ac77628714f",
   "metadata": {},
   "outputs": [],
   "source": [
    "find_top_k_similar(\"abuso de las armas\")"
   ]
  },
  {
   "cell_type": "code",
   "execution_count": null,
   "id": "169080c7-6c28-44ed-9ba1-bdfccb66b707",
   "metadata": {},
   "outputs": [],
   "source": [
    "grouped[\"pred_choice\"] = grouped[\"text\"].map(find_top_k_similar)\n",
    "grouped[\"pred_choice\"] = grouped[\"pred_choice\"].str.replace(\" \", \"_\")"
   ]
  },
  {
   "cell_type": "code",
   "execution_count": null,
   "id": "bdb9ac85-c9db-4cc3-8547-8efa94f6d2bc",
   "metadata": {},
   "outputs": [],
   "source": [
    "grouped.sample(5)"
   ]
  },
  {
   "cell_type": "code",
   "execution_count": null,
   "id": "d2f03ed6-9ea6-49c9-bbbe-263a74287333",
   "metadata": {},
   "outputs": [],
   "source": [
    "(grouped[\"choices\"] == grouped[\"pred_choice\"]).mean()"
   ]
  },
  {
   "cell_type": "code",
   "execution_count": null,
   "id": "f597eb4a-6b8f-47dd-9d0a-79f458ef8e34",
   "metadata": {},
   "outputs": [],
   "source": [
    "grouped[\"pred_choices\"] = grouped[\"text\"].map(lambda x: find_top_k_similar(x, k=2))\n",
    "grouped[\"pred_choices\"] = grouped[\"pred_choices\"].map(lambda x: [string.replace(\" \", \"_\") for string in x])"
   ]
  },
  {
   "cell_type": "code",
   "execution_count": null,
   "id": "582d88f0-c4e5-416e-9507-e973477acd01",
   "metadata": {},
   "outputs": [],
   "source": [
    "grouped.sample(5)"
   ]
  },
  {
   "cell_type": "code",
   "execution_count": null,
   "id": "cb4cab74-a841-4af5-8ab9-1a2cddc8d677",
   "metadata": {},
   "outputs": [],
   "source": [
    "top_k_matches = []\n",
    "for i, r in grouped.iterrows():\n",
    "    top_k_matches.append(r[\"choices\"] in r[\"pred_choices\"])"
   ]
  },
  {
   "cell_type": "code",
   "execution_count": null,
   "id": "9caae2bc-a2f7-4011-9a99-3e09960065f4",
   "metadata": {},
   "outputs": [],
   "source": [
    "np.mean(top_k_matches)"
   ]
  },
  {
   "cell_type": "code",
   "execution_count": null,
   "id": "e7b25391-d52a-4eb8-909e-dd7921d33f4c",
   "metadata": {},
   "outputs": [],
   "source": [
    "grouped[\"pred_choices\"] = grouped[\"text\"].map(lambda x: find_top_k_similar(x, k=3))\n",
    "grouped[\"pred_choices\"] = grouped[\"pred_choices\"].map(lambda x: [string.replace(\" \", \"_\") for string in x])"
   ]
  },
  {
   "cell_type": "code",
   "execution_count": null,
   "id": "9f2a221d-861f-4e7b-8a72-2894c7a5699e",
   "metadata": {},
   "outputs": [],
   "source": [
    "top_k_matches = []\n",
    "for i, r in grouped.iterrows():\n",
    "    top_k_matches.append(r[\"choices\"] in r[\"pred_choices\"])"
   ]
  },
  {
   "cell_type": "code",
   "execution_count": null,
   "id": "eae08347-835d-4475-baf4-edf177824dc7",
   "metadata": {},
   "outputs": [],
   "source": [
    "np.mean(top_k_matches)"
   ]
  },
  {
   "cell_type": "code",
   "execution_count": null,
   "id": "c95ab80c-685a-4e3b-ba10-63eb13c819d2",
   "metadata": {},
   "outputs": [],
   "source": [
    "grouped[\"pred_choices\"] = grouped[\"text\"].map(lambda x: find_top_k_similar(x, k=5))\n",
    "grouped[\"pred_choices\"] = grouped[\"pred_choices\"].map(lambda x: [string.replace(\" \", \"_\") for string in x])"
   ]
  },
  {
   "cell_type": "code",
   "execution_count": null,
   "id": "1325d660-04e2-4dee-a2d6-ee28fa7eba8f",
   "metadata": {},
   "outputs": [],
   "source": [
    "top_k_matches = []\n",
    "for i, r in grouped.iterrows():\n",
    "    top_k_matches.append(r[\"choices\"] in r[\"pred_choices\"])"
   ]
  },
  {
   "cell_type": "code",
   "execution_count": null,
   "id": "03bedbed-6416-4f01-9abc-d10f8ba561e2",
   "metadata": {},
   "outputs": [],
   "source": [
    "np.mean(top_k_matches)"
   ]
  },
  {
   "cell_type": "markdown",
   "id": "67387985-b274-445d-b3c9-20777b1c5a13",
   "metadata": {
    "tags": []
   },
   "source": [
    "##### USEM"
   ]
  },
  {
   "cell_type": "code",
   "execution_count": null,
   "id": "2709e845-2d4a-4f1e-b96b-45a41f4d5b16",
   "metadata": {},
   "outputs": [],
   "source": [
    "def find_top_k_similar(text, conduct_embeddings=categories_embeddings, categories=categories, k=1):\n",
    "    normalized_text = normalize_text(text)\n",
    "    text_embeddings = usem([normalized_text])\n",
    "    similarities = np.inner(text_embeddings.numpy(), conduct_embeddings.numpy())\n",
    "    top_k = np.ravel(np.argsort(-similarities))[:k]\n",
    "    \n",
    "    return np.array([categories])[top_k][0] if k == 1 else np.array(categories)[top_k]"
   ]
  },
  {
   "cell_type": "code",
   "execution_count": null,
   "id": "eac4c554-44ee-4f90-87b7-5129e56a2f3f",
   "metadata": {},
   "outputs": [],
   "source": [
    "grouped[\"pred_choice\"] = grouped[\"text\"].map(find_top_k_similar)\n",
    "grouped[\"pred_choice\"] = grouped[\"pred_choice\"].str.replace(\" \", \"_\")"
   ]
  },
  {
   "cell_type": "code",
   "execution_count": null,
   "id": "7f6cacd7-540e-4163-9874-c40384b4fa77",
   "metadata": {},
   "outputs": [],
   "source": [
    "grouped.sample(5)"
   ]
  },
  {
   "cell_type": "code",
   "execution_count": null,
   "id": "e5cb89d9-cb12-484c-b959-1defb4b237bf",
   "metadata": {},
   "outputs": [],
   "source": [
    "(grouped[\"choices\"] == grouped[\"pred_choice\"]).mean()"
   ]
  },
  {
   "cell_type": "code",
   "execution_count": null,
   "id": "4bb4abcc-2038-4612-9362-2a990ca42f02",
   "metadata": {},
   "outputs": [],
   "source": [
    "grouped[\"pred_choices\"] = grouped[\"text\"].map(lambda x: find_top_k_similar(x, k=3))\n",
    "grouped[\"pred_choices\"] = grouped[\"pred_choices\"].map(lambda x: [string.replace(\" \", \"_\") for string in x])"
   ]
  },
  {
   "cell_type": "code",
   "execution_count": null,
   "id": "b9e4e912-92e6-4f7f-92e2-dd573e998122",
   "metadata": {},
   "outputs": [],
   "source": [
    "grouped.sample(5)"
   ]
  },
  {
   "cell_type": "code",
   "execution_count": null,
   "id": "143a77fd-d2ce-4d3d-9933-b2b8b853b2ae",
   "metadata": {},
   "outputs": [],
   "source": [
    "top_k_matches = []\n",
    "for i, r in grouped.iterrows():\n",
    "    top_k_matches.append(r[\"choices\"] in r[\"pred_choices\"])"
   ]
  },
  {
   "cell_type": "code",
   "execution_count": null,
   "id": "b26e8f23-2d5c-41b4-b172-bcc8c25977d1",
   "metadata": {},
   "outputs": [],
   "source": [
    "np.mean(top_k_matches)"
   ]
  },
  {
   "cell_type": "code",
   "execution_count": null,
   "id": "0a293d16-6182-4239-a3d9-22744225500c",
   "metadata": {},
   "outputs": [],
   "source": []
  },
  {
   "cell_type": "code",
   "execution_count": null,
   "id": "a05f175d-b3a3-4fcd-be3a-d1b483ae5bb1",
   "metadata": {},
   "outputs": [],
   "source": [
    "def find_conduct_types(pred: str) -> list:\n",
    "    normalized_pred = normalize_text(pred)\n",
    "\n",
    "    conduct_type_patterns = {\n",
    "        # \"abandonar_animal_domestico\": r\"\",\n",
    "        # \"abandono_de_personas\": r\"\",\n",
    "        # \"abuso_de_armas\": r\"\",\n",
    "        # \"abuso_de_autoridad_e_incumplimiento_deberes_funcionario_publico\": r\"\",\n",
    "        # \"abuso_sexual\": r\"\",\n",
    "        # \"acceder_a_lugares_distintos_segun_entrada\": r\"\",\n",
    "        # \"acceder_lugares_distintos_segun_entrada\": r\"\",\n",
    "        # \"acceso_a_sistema_restringido\": r\"\",\n",
    "        # \"acoso_sexual_callejero\": r\"\",\n",
    "        # \"actividades_lucrativas_sin_autorizacion\": r\"\",\n",
    "        # \"actividades_lucrativas_sin_habilitacion\": r\"\",\n",
    "        # \"actos_contenido_sexual_con_menores\": r\"\",\n",
    "        # \"administracion_fraudulenta\": r\"\",\n",
    "        # \"afectar_desarrollo_espectaculo\": r\"\",\n",
    "        # \"afectar_el_desarrollo_del_espectaculo\": r\"\",\n",
    "        # \"afectar_funcionamiento_servicios_publicos\": r\"\",\n",
    "        # \"afectar_servicios_de_emergencia_o_seguridad\": r\"\",\n",
    "        # \"afectar_servicios_emergencia\": r\"\",\n",
    "        # \"afectar_señalizacion\": r\"\",\n",
    "        # \"allanamiento_autonomo\": r\"\",\n",
    "        # \"alterar_programa\": r\"\",\n",
    "        # \"alterar_sepulturas\": r\"\",\n",
    "        # \"amenazas\": r\"\",\n",
    "        # \"amparo\": r\"\",\n",
    "        # \"apariencia_falsa\": r\"\",\n",
    "        # \"apariencia_falsa_para_entrar_a_domicilio_o_lugar_privado\": r\"\",\n",
    "        # \"apropiacion_indebida_de_tributos\": r\"\",\n",
    "        # \"arrojar_cosas_que_puedan_causar_lesiones\": r\"\",\n",
    "        # \"arrojar_cosas_sustancias\": r\"\",\n",
    "        # \"arrojar_sustancias_insalubres_en_lugares_publicos\": r\"\",\n",
    "        # \"asociacion_ilicita\": r\"\",\n",
    "        # \"asuncion_falsa_de_contravencion\": r\"\",\n",
    "        # \"atentado_contra_la_autoridad\": r\"\",\n",
    "        # \"ausencia_de_habilitacion\": r\"\",\n",
    "        # \"banderas\": r\"\",\n",
    "        # \"carteles_afiches_volantes\": r\"\",\n",
    "        # \"cierre_defectuoso\": r\"\",\n",
    "        # \"circular_por_carriles_exclusivos\": r\"\",\n",
    "        # \"circular_por_lugar_prohibido\": r\"\",\n",
    "        # \"cohecho_activo\": r\"\",\n",
    "        # \"cohecho_pasivo\": r\"\",\n",
    "        # \"coimas\": r\"\",\n",
    "        # \"competencia_desleal\": r\"\",\n",
    "        \"conducir_con_mayor_cantidad_de_alcohol_en_sangre_del_permitido\": r\"(?:condu(?:ci[ra]|ce|jo|cie?n?do|ccion)|limites?|nivele?s?).+(?:alcohol|ebri(?:[ao]|edad))\",\n",
    "        \"conducir_con_mayor_grado_de_alcohol_o_bajo_efectos_de_estupefacientes\": r\"(?:condu(?:ci[ra]|ce|jo|cie?n?do|ccion)|limites?|nivele?s?).+(?:alcohol|ebri(?:[ao]|edad)|drogas?|sustancias?|estupefacientes?)\",\n",
    "        # \"conducir_sin_licencia_que_lo_habilite_por_categoria_de_vehiculo\": r\"\",\n",
    "        # \"conducir_usando_aparato_electronico\": r\"\",\n",
    "        # \"connivencia_policial\": r\"\",\n",
    "        # \"contactar_menor_por_medio_de_tecnologias_para_cometer_delitos_contra_su_integridad_sexual\": r\"\",\n",
    "        # \"cruce_de_semaforo_en_rojo\": r\"\",\n",
    "        # \"cuida_coche\": r\"\",\n",
    "        # \"cuidar_coches_sin_autorizacion\": r\"\",\n",
    "        # \"daños\": r\"\",\n",
    "        # \"daños_informaticos\": r\"\",\n",
    "        # \"defraudacion\": r\"\",\n",
    "        # \"defraudacion_contra_la_administracion_publica\": r\"\",\n",
    "        # \"delito_contra_seguridad_transito\": r\"\",\n",
    "        # \"denegacion_de_justicia\": r\"\",\n",
    "        # \"derecho_admision\": r\"\",\n",
    "        # \"desarmado_automotor\": r\"\",\n",
    "        # \"desinfeccion_y_desratizacion\": r\"\",\n",
    "        # \"desobediencia_a_cargas_procesales\": r\"\",\n",
    "        # \"desobediencia_a_la_autoridad\": r\"\",\n",
    "        # \"difusion_no_autorizada_de_imagenes\": r\"\",\n",
    "        # \"difusion_no_autorizada_de_imagenes_intimas\": r\"\",\n",
    "        # \"discriminar\": r\"\",\n",
    "        # \"documentacion_sanitaria\": r\"\",\n",
    "        # \"ejecucion_de_multa\": r\"\",\n",
    "        # \"ejercer_ilegitimamente_actividad\": r\"\",\n",
    "        # \"ejercicio_ilegal_de_la_medicina\": r\"\",\n",
    "        # \"elementos_de_prevencion_contra_incendio\": r\"\",\n",
    "        # \"encubrimiento\": r\"\",\n",
    "        # \"encubrimiento_actividades_baile\": r\"\",\n",
    "        # \"ensuciar_bienes\": r\"\",\n",
    "        # \"entregar_indebidamente_armas_explosivos\": r\"\",\n",
    "        # \"espantar_animales\": r\"\",\n",
    "        # \"espejos_retrovisores\": r\"\",\n",
    "        # \"estacionamiento_prohibido\": r\"\",\n",
    "        # \"estacionamiento_sobre_senda_peatonal\": r\"\",\n",
    "        # \"estafa\": r\"\",\n",
    "        # \"estupefacientes\": r\"\",\n",
    "        # \"exceso_capacidad_ingreso\": r\"\",\n",
    "        # \"exceso_de_velocidad\": r\"\",\n",
    "        # \"exhibicion_de_documentacion_obligatoria\": r\"\",\n",
    "        # \"exhibiciones_obscenas\": r\"\",\n",
    "        # \"exhortos_de_otras_jurisdicciones\": r\"\",\n",
    "        # \"explotacion_trabajo_infantil\": r\"\",\n",
    "        # \"extorsion\": r\"\",\n",
    "        # \"fabricar_transportar_artefactos_pirotecnicos\": r\"\",\n",
    "        # \"falsa_denuncia\": r\"\",\n",
    "        # \"falsedad_documental_de_certificado_de_aptitud_ambiental\": r\"\",\n",
    "        # \"falsificacion_certificado_medico\": r\"\",\n",
    "        # \"falsificacion_de_documento\": r\"\",\n",
    "        # \"falsificacion_de_marcas_firmas_señas_oficiales\": r\"\",\n",
    "        # \"falsificacion_de_numeracion_de_objeto_registrada_de_acuerdo_a_ley\": r\"\",\n",
    "        # \"falta_de_poliza_de_seguros\": r\"\",\n",
    "        # \"favorecimiento_evasion_persona_detenida\": r\"\",\n",
    "        # \"frustrar_subasta_publica\": r\"\",\n",
    "        # \"guardar_artefactos_pirotecnicos\": r\"\",\n",
    "        # \"guardar_elementos_aptos_violencia\": r\"\",\n",
    "        # \"habeas_corpus\": r\"\",\n",
    "        # \"habilitacion_en_infraccion\": r\"\",\n",
    "        # \"homicidio\": r\"\",\n",
    "        # \"hostigamiento\": r\"\",\n",
    "        # \"hostigamiento_digital\": r\"\",\n",
    "        # \"hurto\": r\"\",\n",
    "        # \"impedimento_de_contacto_de_menor_con_padre_no_conviviente\": r\"\",\n",
    "        # \"incendio_explosion_inundacion_con_peligro_para_bienes\": r\"\",\n",
    "        # \"incendios_y_otros_estragos\": r\"\",\n",
    "        # \"incitar_al_desorden\": r\"\",\n",
    "        # \"incitar_desorden\": r\"\",\n",
    "        # \"incumplimiento_de_plazos\": r\"\",\n",
    "        # \"incumplimiento_deberes_familiares\": r\"\",\n",
    "        # \"incumplimiento_deberes_funcionario_publico\": r\"\",\n",
    "        # \"incumplimiento_medidas_prevencion_sanidad\": r\"\",\n",
    "        # \"incumplimiento_perimetro_profundidad\": r\"\",\n",
    "        # \"incumplir_clausura\": r\"\",\n",
    "        # \"incumplir_obligaciones_legales\": r\"\",\n",
    "        # \"inducir_menor_a_mendigar\": r\"\",\n",
    "        # \"infraccion_reglamentos_seguridad\": r\"\",\n",
    "        # \"ingresar_artefactos_pirotecnicos\": r\"\",\n",
    "        # \"ingresar_consumir_bebidas_alcoholicas\": r\"\",\n",
    "        # \"ingresar_contra_derecho_admision\": r\"\",\n",
    "        # \"ingresar_sin_autorizacion_lugares_reservados\": r\"\",\n",
    "        # \"ingresar_sin_entrada\": r\"\",\n",
    "        # \"ingresar_sin_entrada_autorizacion\": r\"\",\n",
    "        # \"ingreso_a_domicilio_sin_autorizacion\": r\"\",\n",
    "        # \"inhumar_exhumar_profanar\": r\"\",\n",
    "        # \"intimidacion\": r\"\",\n",
    "        # \"juego_sin_autorizacion\": r\"\",\n",
    "        # \"juegos_de_azar_sin_autorizacion\": r\"\",\n",
    "        # \"lesiones\": r\"\",\n",
    "        # \"ley_451\": r\"\",\n",
    "        # \"licencia_vencida\": r\"\",\n",
    "        # \"maltrato\": r\"\",\n",
    "        # \"mantener_animal_domestico_espacios_inadecuados\": r\"\",\n",
    "        # \"mantenimiento_de_cercas_y_aceras\": r\"\",\n",
    "        # \"menoscabar_integridad_animal_domestico\": r\"\",\n",
    "        \"mesnna_masnna\": r\"(?:m[ae]snna)|(?:abuso|actividade?s?|explotaci[oó]n) sexuale?s?.+|(?:menore?s?(?: de edad)?.+(?:exhibiendo)?.+(?:genitale?s?|desnud[ao]s?))\",\n",
    "        # \"no_realizar_grabado_de_autopartes\": r\"\",\n",
    "        # \"no_respetar_carriles\": r\"\",\n",
    "        # \"no_respetar_senda_peatonal\": r\"\",\n",
    "        # \"obligacion_de_exhibir_cartel\": r\"\",\n",
    "        # \"obligacion_de_informar_prohibicion_de_fumar\": r\"\",\n",
    "        # \"obligacion_de_conservar\": r\"\",\n",
    "        # \"obstaculizar_ingreso_o_salida\": r\"\",\n",
    "        # \"obstruccion_de_inspeccion\": r\"\",\n",
    "        # \"obstruccion_de_via\": r\"\",\n",
    "        # \"obstruccion_de_via_publica\": r\"\",\n",
    "        # \"obstruccion_via_publica\": r\"\",\n",
    "        # \"obstruir_salida\": r\"\",\n",
    "        # \"ocupar_via_publica\": r\"\",\n",
    "        # \"oferta_demanda_sexo_espacio_publico\": r\"\",\n",
    "        # \"omitir_cuidados_animal_domestico\": r\"\",\n",
    "        # \"omitir_recaudos_de_cuidado_animal_domestico\": r\"\",\n",
    "        # \"omitir_recaudos_de_organizacion\": r\"\",\n",
    "        # \"omitir_recaudos_espectaculo_masivo\": r\"\",\n",
    "        # \"omitir_recaudos_organizacion_seguridad\": r\"\",\n",
    "        # \"organizar_explotar_juego\": r\"\",\n",
    "        # \"organizar_sin_autorizacion_juego\": r\"\",\n",
    "        # \"participar_competencias_velocidad_via_publica\": r\"\",\n",
    "        # \"pelear_en_lugar_publico\": r\"\",\n",
    "        # \"permiso_y_planos_de_obra\": r\"\",\n",
    "        # \"persona_no_habilitada\": r\"\",\n",
    "        # \"perturbar_ceremonias_religiosas_funebres\": r\"\",\n",
    "        # \"perturbar_filas_ingreso_no_respetar_vallado\": r\"\",\n",
    "        # \"placas_de_dominio\": r\"\",\n",
    "        \"pornografia_infantil\": r\"(?:pedo)?p[or]+no(?:gr(?:afia)?|grafic[ao])? ?(?:nfantil|infanto ?juvenil|c(?:on)? menores)?\",\n",
    "        # \"portacion_de_arma\": r\"\",\n",
    "        # \"portar_armas_no_convencionales\": r\"\",\n",
    "        # \"presencia_menores_lugar_no_autorizado\": r\"\",\n",
    "        # \"presunta_comision_delito\": r\"\",\n",
    "        # \"presunta_contravencion\": r\"\",\n",
    "        # \"privacion_ilegitima_de_la_libertad\": r\"\",\n",
    "        # \"producir_avalanchas\": r\"\",\n",
    "        # \"promocion_o_facilitacion_de_prostitucion_de_personas\": r\"\",\n",
    "        # \"promover_comerciar_ofertar_juego\": r\"\",\n",
    "        # \"propaganda_discriminatoria\": r\"\",\n",
    "        # \"proteccion_animal\": r\"\",\n",
    "        # \"provocar_parcialidad\": r\"\",\n",
    "        # \"publicidad_en_lugares_no_habilitados_via_publica\": r\"\",\n",
    "        # \"regentear_o_administrar_casas_de_tolerancia\": r\"\",\n",
    "        # \"residuos_peligrosos\": r\"\",\n",
    "        # \"retencion_indebida\": r\"\",\n",
    "        # \"revender_entradas\": r\"\",\n",
    "        # \"robo\": r\"\",\n",
    "        # \"ruidos_molestos\": r\"\",\n",
    "        # \"ruidos_y_vibraciones\": r\"\",\n",
    "        # \"sancion_generica\": r\"\",\n",
    "        # \"servicios_de_seguridad_prohibiciones_incumplidas\": r\"\",\n",
    "        # \"servicios_de_seguridad_requisitos_incumplidos\": r\"\",\n",
    "        # \"suministrar_alcohol_menor\": r\"\",\n",
    "        # \"suministrar_bebidas_alcoholicas\": r\"\",\n",
    "        # \"suministrar_elementos_aptos_agresion\": r\"\",\n",
    "        # \"suministrar_material_pornografico\": r\"\",\n",
    "        # \"suministrar_objetos_peligrosos\": r\"\",\n",
    "        # \"suministrar_productos_farmaceuticos\": r\"\",\n",
    "        # \"suministro_de_medicamentos\": r\"\",\n",
    "        # \"suplantacion_identidad\": r\"\",\n",
    "        # \"suplantacion_digital_de_identidad\": r\"\",\n",
    "        # \"taxis_transportes_escolares_remises_sin_autorizacion\": r\"\",\n",
    "        \"tenencia_de_arma\": r\"(?:ten(?:encia|er|ia|ga))?.+(?:armas?|revolver|pistolas?|bombas?|explosivos?)\",\n",
    "        # \"transporte_de_pasajeros\": r\"\",\n",
    "        # \"transporte_de_pasajeros_sin_habilitacion\": r\"\",\n",
    "        # \"transporte_de_pasajeros_sin_habilitacion_o_autorizacion\": r\"\",\n",
    "        # \"usar_indebidamente_credencial\": r\"\",\n",
    "        # \"usar_indebidamente_espacio_publico\": r\"\",\n",
    "        # \"usar_indiebidamente_armas\": r\"\",\n",
    "        # \"uso_de_documento_falso_o_adulterado\": r\"\",\n",
    "        # \"uso_indebido_del_espacio_publico\": r\"\",\n",
    "        # \"uso_o_exhibicion_de_franquicias\": r\"\",\n",
    "        # \"usurpacion\": r\"\",\n",
    "        # \"vehiculo_abandonado\": r\"\",\n",
    "        # \"vender_entradas_o_permitir_ingreso_exceso\": r\"\",\n",
    "        # \"vender_sustancias_medicinales_sin_receta\": r\"\",\n",
    "        # \"venta_o_consumo_de_bebidas_alcoholicas_fuera_del_horario\": r\"\",\n",
    "        # \"verificacion_tecnica\": r\"\",\n",
    "        # \"violacion_de_peaje\": r\"\",\n",
    "        # \"violacion_de_domicilio\": r\"\",\n",
    "        # \"violacion_de_secretos_y_de_la_privacidad\": r\"\",\n",
    "        \"violar_clausura\": r\"(?:viol[aoe](?:r?o?n?(?:do)?|cion)?|infr(?:in[gj][aei](?:r|o|endo)?|accion)|incumpl[aei]((?:r|[ao]|endo)|miento)?|(?:a )?pes(?:ar|e)).+clausura\",\n",
    "        # \"violar_inhabilitacion_para_conducir\": r\"\",\n",
    "        # \"violar_reglamentacion_juego\": r\"\",\n",
    "        # \"zanjas_y_pozos_en_via_publica\": r\"\",\n",
    "    }\n",
    "\n",
    "    found_types = set()\n",
    "\n",
    "    for modality, pattern in conduct_type_patterns.items():\n",
    "        if re.search(pattern, normalized_pred):\n",
    "            found_types.add(modality)\n",
    "\n",
    "    return list(found_types)\n"
   ]
  },
  {
   "cell_type": "code",
   "execution_count": null,
   "id": "b24ec205-c3f1-4397-a44c-66e76d5ae2de",
   "metadata": {},
   "outputs": [],
   "source": [
    "conduct_texts = pd.DataFrame(conduct_texts)\n",
    "conduct_texts.rename({\"token\": \"text\"}, axis=1, inplace=True)\n",
    "conduct_texts[\"types\"] = conduct_texts[\"text\"].map(find_conduct_types)\n",
    "conduct_texts"
   ]
  },
  {
   "cell_type": "code",
   "execution_count": null,
   "id": "287db340-10fd-49e8-96aa-c69a32a881dc",
   "metadata": {},
   "outputs": [],
   "source": [
    "found = conduct_texts.loc[conduct_texts[\"types\"].map(len) == 1].copy()"
   ]
  },
  {
   "cell_type": "code",
   "execution_count": null,
   "id": "fa440449-e855-4b66-a17d-6e8b06f212df",
   "metadata": {},
   "outputs": [],
   "source": [
    "conduct_texts.loc[(conduct_texts[\"types\"].map(len) == 0)].sort_values(\"text\")"
   ]
  },
  {
   "cell_type": "markdown",
   "id": "e29079de-70d6-4dd2-b479-7adeb909fb3b",
   "metadata": {
    "tags": []
   },
   "source": [
    "#### Detalle"
   ]
  },
  {
   "cell_type": "code",
   "execution_count": null,
   "id": "e0bc6fef-1ff1-41fe-9275-f4a316ed0b75",
   "metadata": {},
   "outputs": [],
   "source": [
    "mask = df[\"clean_label\"] == \"DETALLE\"\n",
    "\n",
    "df.loc[mask][\"label\"].value_counts()"
   ]
  },
  {
   "cell_type": "code",
   "execution_count": null,
   "id": "27e61524-1ddb-46c4-ae11-ef96e1655ffd",
   "metadata": {},
   "outputs": [],
   "source": [
    "detail = df.loc[mask].copy()"
   ]
  },
  {
   "cell_type": "code",
   "execution_count": null,
   "id": "564382fc-297f-498b-97fd-81751be99e18",
   "metadata": {},
   "outputs": [],
   "source": [
    "detail[\"beginning\"] = detail[\"label\"].str.startswith(\"B\").astype(int)\n",
    "detail.head(10)"
   ]
  },
  {
   "cell_type": "code",
   "execution_count": null,
   "id": "cddeaf7c-07a6-4d09-b96c-07c093c54304",
   "metadata": {},
   "outputs": [],
   "source": [
    "detail[\"id\"] = detail[\"beginning\"].cumsum()\n",
    "detail.head(10)"
   ]
  },
  {
   "cell_type": "code",
   "execution_count": null,
   "id": "eaf37c53-7ee4-4848-babd-c38df610394b",
   "metadata": {},
   "outputs": [],
   "source": [
    "detail_texts = detail.groupby(\"id\")[\"token\"].apply(\" \".join)\n",
    "detail_texts.sample(5)"
   ]
  },
  {
   "cell_type": "code",
   "execution_count": null,
   "id": "19cd5de9-2417-4da3-96d0-8a5f482060db",
   "metadata": {},
   "outputs": [],
   "source": [
    "detail_texts.map(normalize_text).value_counts().head(25)"
   ]
  },
  {
   "cell_type": "code",
   "execution_count": null,
   "id": "1ab5db15-2c5f-4d1c-84dd-db9e2902aef4",
   "metadata": {},
   "outputs": [],
   "source": [
    "def filter_detail_choices(annot: dict) -> bool:\n",
    "    try:\n",
    "        from_name = annot[\"from_name\"]\n",
    "        if from_name == \"DETALLE\":\n",
    "            return True\n",
    "        \n",
    "    except:\n",
    "        return False"
   ]
  },
  {
   "cell_type": "code",
   "execution_count": null,
   "id": "f826a756-e12d-45cf-8aea-e6647dba193f",
   "metadata": {},
   "outputs": [],
   "source": [
    "detail_choices = []\n",
    "for sample in annots:\n",
    "    detail = list(filter(filter_detail_choices, sample[\"annotations\"][0][\"result\"]))\n",
    "    detail_choices.extend(detail)"
   ]
  },
  {
   "cell_type": "code",
   "execution_count": null,
   "id": "7cc2517e-af42-4261-bc39-7529829d1363",
   "metadata": {},
   "outputs": [],
   "source": [
    "len(detail_choices)"
   ]
  },
  {
   "cell_type": "code",
   "execution_count": null,
   "id": "745466bc-3da8-4d46-a609-a547fe01731a",
   "metadata": {},
   "outputs": [],
   "source": [
    "detail_choices[-1]"
   ]
  },
  {
   "cell_type": "code",
   "execution_count": null,
   "id": "3890372f-d636-4bc3-9b5b-ae35ad8918f9",
   "metadata": {},
   "outputs": [],
   "source": [
    "from aymurai.utils.json_data import group_by_key\n",
    "\n",
    "grouped = list(\n",
    "    group_by_key(\n",
    "        list(map(extract_text_choices, detail_choices)),\n",
    "        group_key=\"choices\",\n",
    "        sort_key=\"choices\",\n",
    "    )\n",
    ")"
   ]
  },
  {
   "cell_type": "code",
   "execution_count": null,
   "id": "927b6ee8-2ab4-4824-9ae2-501888e5ccb0",
   "metadata": {},
   "outputs": [],
   "source": [
    "from more_itertools import flatten\n",
    "\n",
    "grouped = list(flatten(grouped))"
   ]
  },
  {
   "cell_type": "code",
   "execution_count": null,
   "id": "cfbef821-a2c4-4ea6-9573-e61b15513d1f",
   "metadata": {
    "tags": []
   },
   "outputs": [],
   "source": [
    "grouped = pd.DataFrame(grouped)\n",
    "grouped[\"normalized_text\"] = grouped[\"text\"].map(normalize_text)\n",
    "grouped.drop_duplicates(subset=[\"normalized_text\", \"choices\"], inplace=True)\n",
    "grouped"
   ]
  },
  {
   "cell_type": "code",
   "execution_count": null,
   "id": "69213f24-b6ff-41c7-82e5-4b3e510caa1a",
   "metadata": {
    "tags": []
   },
   "outputs": [],
   "source": [
    "grouped[\"normalized_text\"].value_counts()"
   ]
  },
  {
   "cell_type": "code",
   "execution_count": null,
   "id": "7157acad-9607-4b10-bc11-101e1847e41b",
   "metadata": {
    "tags": []
   },
   "outputs": [],
   "source": [
    "grouped[\"choices\"].value_counts()"
   ]
  },
  {
   "cell_type": "markdown",
   "id": "5a808e99-ab0a-4b8a-a426-aeefe49db460",
   "metadata": {},
   "source": [
    "##### USEM"
   ]
  },
  {
   "cell_type": "markdown",
   "id": "a007e4b0-2c01-4d98-80e6-dfed1f42703c",
   "metadata": {
    "tags": []
   },
   "source": [
    "##### Categories encoding"
   ]
  },
  {
   "cell_type": "code",
   "execution_count": null,
   "id": "ea70316c-c3e5-4fd3-aac0-1cf2c8e8e66b",
   "metadata": {},
   "outputs": [],
   "source": [
    "categories = [\n",
    "    \"audiencia_victima_ley26485\",\n",
    "    \"30_dias\",\n",
    "    \"45_dias\",\n",
    "    \"60_dias\",\n",
    "    \"90_dias\",\n",
    "    \"180_dias\",\n",
    "    \"abandono_vehiculo\",\n",
    "    \"absolucion\",\n",
    "    \"absolucion_desistimiento_fiscal\",\n",
    "    \"accesorias_legales\",\n",
    "    \"acepta_competencia_inhibitoria\",\n",
    "    \"acepta_cuestion_turno\",\n",
    "    \"aclaratoria\",\n",
    "    \"acta_de_comprobacion\",\n",
    "    \"acta_de_intimacion\",\n",
    "    \"acuerdo_de_pago_levanta_embargo\",\n",
    "    \"acumulacion_por_conexidad_y_ampliacion\",\n",
    "    \"admisibilidad\",\n",
    "    \"agente_encubierto\",\n",
    "    \"agente_revelador\",\n",
    "    \"agotamiento_de_la_pena\",\n",
    "    \"alimentos_provisorios\",\n",
    "    \"allanamiento\",\n",
    "    \"apelacion\",\n",
    "    \"apertura_extraccion_examen_datos\",\n",
    "    \"aprehension\",\n",
    "    \"arma\",\n",
    "    \"armas\",\n",
    "    \"arresto_domiciliario_deja_sin_efecto\",\n",
    "    \"asesor_tutelar\",\n",
    "    \"atipicidad_sobreseimiento\",\n",
    "    \"audiencia_acusado_ley26485\",\n",
    "    \"audiencia_acusado_difiere_sentencia\",\n",
    "    \"audiencia_preliminar\",\n",
    "    \"audiencia_victima_11bis_ley24660\",\n",
    "    \"bloqueo_acceso_al_dominio\",\n",
    "    \"cadena_de_custodia_de_elementos_secuestrados\",\n",
    "    \"camara_gesell\",\n",
    "    \"cambio_domicilio_prision_domiciliaria\",\n",
    "    \"captura\",\n",
    "    \"captura_deja_sin_efecto\",\n",
    "    \"caucion_real\",\n",
    "    \"cedula_de_notificacion\",\n",
    "    \"cese_de_actos_de_perturbacion_o_intimidacion\",\n",
    "    \"cese_de_medidas\",\n",
    "    \"cese_de_medidas_parcial\",\n",
    "    \"cierre_de_instancia\",\n",
    "    \"clausura\",\n",
    "    \"clausura_deja_sin_efecto\",\n",
    "    \"competencia_penal_juvenil\",\n",
    "    \"concede\",\n",
    "    \"concede_parcialmente\",\n",
    "    \"conocimiento_personal\",\n",
    "    \"consigna_policial\",\n",
    "    \"contienda_negativa\",\n",
    "    \"control\",\n",
    "    \"convalida_fallecimiento\",\n",
    "    \"convalida_inimputabilidad\",\n",
    "    \"convalidacion_otras_causales\",\n",
    "    \"copia_forense_celular\",\n",
    "    \"copias_de_capturas_de_pantalla_mensajes_y_llamados\",\n",
    "    \"cosa_juzgada_sobreseimiento\",\n",
    "    \"cuarto_intermedio\",\n",
    "    \"cuarto_intermedio_para_resolver\",\n",
    "    \"cumplimiento_de_regla_de_conducta_en_complejo_penitenciario\",\n",
    "    \"cumplimiento_de_reglas_de_conducta\",\n",
    "    \"declaracion_testimonial\",\n",
    "    \"declina_competencia\",\n",
    "    \"defensa\",\n",
    "    \"defensa_particular\",\n",
    "    \"defensa_querella\",\n",
    "    \"deja_sin_efecto_inhabilitacion_y_devuelve_licencia\",\n",
    "    \"deja_sin_efecto_revocacion\",\n",
    "    \"delitos_de_accion_publica\",\n",
    "    \"desistimiento_accion_instancia_privada_sobreseimiento\",\n",
    "    \"desistimiento_fiscal\",\n",
    "    \"destruccion_de_arma\",\n",
    "    \"detencion\",\n",
    "    \"detencion_captura_y/o_traslado\",\n",
    "    \"detencion_captura_y/o_traslado_deja_sin_efecto\",\n",
    "    \"detencion_secuestro_y_requisa\",\n",
    "    \"devolucion_acarreo_y_estadia\",\n",
    "    \"dictamen_fiscal\",\n",
    "    \"difiere_decision\",\n",
    "    \"difiere_fundamentos\",\n",
    "    \"difiere_resolucion\",\n",
    "    \"dispositivo_de_geoposicionamiento_mantiene_hasta_juicio\",\n",
    "    \"domiciliaria_con_vigilancia_electronica\",\n",
    "    \"egreso_del_pais\",\n",
    "    \"ejecucion_de_honorarios\",\n",
    "    \"embargo\",\n",
    "    \"embargo_deja_sin_efecto\",\n",
    "    \"estimulo_educativo\",\n",
    "    \"estupefacientes\",\n",
    "    \"estupefacientes_dinero\",\n",
    "    \"estupefacientes_telefono_dinero\",\n",
    "    \"estupefacientes_telefono_dinero_arma\",\n",
    "    \"estupefacientes_telefono_vehiculo\",\n",
    "    \"estupefacientes_vehiculo_dinero\",\n",
    "    \"excarcelacion\",\n",
    "    \"exclusion_del_hogar\",\n",
    "    \"exhorto\",\n",
    "    \"exhorto_diplomatico\",\n",
    "    \"exime_pago_multa\",\n",
    "    \"exime_reparacion_del_daño_y_pago_multa\",\n",
    "    \"eximicion_pago\",\n",
    "    \"eximicion_pauta_de_conducta\",\n",
    "    \"expulsion_art_64_a_ley_25871\",\n",
    "    \"extincion_accion_por_autocomposicion\",\n",
    "    \"extincion_accion_por_cumplimiento\",\n",
    "    \"extincion_accion_sobreseimiento\",\n",
    "    \"extincion_accion_sobreseimiento_por_fallecimiento\",\n",
    "    \"extincion_de_la_pena\",\n",
    "    \"extincion_sancion_por_cumplimiento\",\n",
    "    \"extrañamiento\",\n",
    "    \"falta_de_accion_sobreseimiento\",\n",
    "    \"falta_de_legitimacion_pasiva\",\n",
    "    \"falta_de_participacion\",\n",
    "    \"falta_de_presentacion\",\n",
    "    \"falta_de_requisitos_procedencia\",\n",
    "    \"fija_nueva_audiencia\",\n",
    "    \"fondo_de_reserva\",\n",
    "    \"habeas_corpus\",\n",
    "    \"hasta_agotar_investigacion\",\n",
    "    \"identidad_objeto_y_sujeto\",\n",
    "    \"imagenes_videos\",\n",
    "    \"incompetencia_material\",\n",
    "    \"incompetencia_por_conexidad\",\n",
    "    \"incompetencia_por_conexidad_subjetiva\",\n",
    "    \"incompetencia_territorial\",\n",
    "    \"indeterminacion_imputacion\",\n",
    "    \"informacion_y_apertura_de_antenas_llamadas\",\n",
    "    \"informe_cij\",\n",
    "    \"informe_mercado_libre\",\n",
    "    \"informe_ncmec\",\n",
    "    \"informe_previo\",\n",
    "    \"informes_llamadas_y_deteccion_de_celdas\",\n",
    "    \"inhabilitacion_para_conducir\",\n",
    "    \"inhabilitacion_para_conducir_deja_sin_efecto\",\n",
    "    \"inmovilizacion\",\n",
    "    \"interes_en_el_caso\",\n",
    "    \"internacion_involuntaria\",\n",
    "    \"interprete\",\n",
    "    \"interprete_y_defensa\",\n",
    "    \"interrogatorio_policial\",\n",
    "    \"intervencion_equipo_especializado\",\n",
    "    \"intervencion_previa\",\n",
    "    \"intervencion_red_social\",\n",
    "    \"intervencion_telefonica\",\n",
    "    \"intervencion_telefonica_con_ubicacion_de_celda_de_apertura\",\n",
    "    \"levantamiento_clausura_administrativa\",\n",
    "    \"levantamiento_secreto_bancario\",\n",
    "    \"levantamiento_secreto_fiscal\",\n",
    "    \"liberacion_aves\",\n",
    "    \"libertad_asistida_incorporacion\",\n",
    "    \"libertad_condicional_otorga\",\n",
    "    \"libertad_condicional_revoca\",\n",
    "    \"litispendencia\",\n",
    "    \"mantiene\",\n",
    "    \"mediacion\",\n",
    "    \"medidas_restrictivas\",\n",
    "    \"modifica_pauta_de_conducta\",\n",
    "    \"morigeracion_domiciliaria\",\n",
    "    \"no_convalida\",\n",
    "    \"no_homologa_absolucion\",\n",
    "    \"notificacion_via_mail\",\n",
    "    \"nulidad_incorporacion_prueba\",\n",
    "    \"otorga_plazo\",\n",
    "    \"otras_vias_idoneas\",\n",
    "    \"pago_de_multa_en_cuotas\",\n",
    "    \"pago_minimo_multa_sobreseimiento\",\n",
    "    \"pago_minimo_multa_y_reparacion_daño_64cp\",\n",
    "    \"paradero\",\n",
    "    \"paradero_deja_sin_efecto\",\n",
    "    \"parcial_requerimiento_de_juicio\",\n",
    "    \"parcial_requerimiento_de_juicio_falta_de_circunscripcion_temporal\",\n",
    "    \"parcial_requerimiento_de_juicio_falta_de_fundamentacion\",\n",
    "    \"parcial_requerimiento_de_juicio_por_introduccion_de_agravante\",\n",
    "    \"pedido_de_informe_banco\",\n",
    "    \"pedido_de_informe_facebook\",\n",
    "    \"pedido_de_informe_facebook_google\",\n",
    "    \"pedido_de_informe_facebook_microsoft\",\n",
    "    \"pedido_de_informe_google\",\n",
    "    \"pedido_de_informe_google_microsoft\",\n",
    "    \"pedido_de_informe_imgur_llc\",\n",
    "    \"pedido_de_informe_instagram\",\n",
    "    \"pedido_de_informe_microsoft\",\n",
    "    \"pedido_de_informe_skype\",\n",
    "    \"pedido_de_informe_telefonia\",\n",
    "    \"pedido_de_informe_whatsapp\",\n",
    "    \"pedido_informe_tiktok\",\n",
    "    \"pedido_prision_domiciliaria\",\n",
    "    \"pena_de_arresto_efectivo_cumplimiento\",\n",
    "    \"pena_de_arresto_efectivo_cumplimiento_compurgada\",\n",
    "    \"pena_de_arresto_en_suspenso\",\n",
    "    \"pena_de_inhabilitacion_especial\",\n",
    "    \"pena_de_multa_efectivo_cumplimiento\",\n",
    "    \"pena_de_multa_en_suspenso\",\n",
    "    \"pena_de_multa_sustituida_por_amonestacion\",\n",
    "    \"pena_de_multa_sustituida_por_clausura_se_tiene_por_cumplida\",\n",
    "    \"pena_de_multa_sustituida_por_trabajos_comunitarios\",\n",
    "    \"pena_de_prision_domiciliaria\",\n",
    "    \"pena_de_prision_efectivo_cumplimiento\",\n",
    "    \"pena_de_prision_efectivo_cumplimiento_compurgada\",\n",
    "    \"pena_de_prision_efectivo_cumplimiento_domiciliaria\",\n",
    "    \"pena_de_prision_en_suspenso\",\n",
    "    \"pena_de_tareas_comunitarias\",\n",
    "    \"pena_de_tareas_de_utilidad_publica\",\n",
    "    \"pericia\",\n",
    "    \"pericia_arma\",\n",
    "    \"pericia_examen_veterinario\",\n",
    "    \"peritaje_de_telefono\",\n",
    "    \"peritaje_ordenadores_y_o_telefonos\",\n",
    "    \"peritaje_telefono\",\n",
    "    \"perito\",\n",
    "    \"permiso_de_viaje\",\n",
    "    \"plazo_razonable_sobreseimiento\",\n",
    "    \"plazo_razonable_sobresimiento\",\n",
    "    \"pleito_con_una_parte\",\n",
    "    \"por_quince_dias_hasta_tomar_contacto_con_victima\",\n",
    "    \"prescripcion_sobreseimiento\",\n",
    "    \"prision_domiciliaria_mantiene\",\n",
    "    \"prision_domiciliaria_prorroga\",\n",
    "    \"procedimiento\",\n",
    "    \"procedimiento_administrativo_pendiente\",\n",
    "    \"prohibicion_compra_tenencia_registracion_de_armas\",\n",
    "    \"prohibicion_de_acercamiento\",\n",
    "    \"prohibicion_de_acercamiento_y_contacto\",\n",
    "    \"prohibicion_de_publicar_en_redes\",\n",
    "    \"prohibicion_de_publicar_en_redes_sobre\",\n",
    "    \"promocion_a_periodo_de_prueba_art_7_ley_24660\",\n",
    "    \"prorroga\",\n",
    "    \"prueba_ofrecida\",\n",
    "    \"publicacion_de_edictos\",\n",
    "    \"queja\",\n",
    "    \"querella\",\n",
    "    \"quita_puntos_de_licencia_de_conducir\",\n",
    "    \"realizacion\",\n",
    "    \"rebeldia\",\n",
    "    \"rebeldia_deja_sin_efecto\",\n",
    "    \"rebeldia_y_captura\",\n",
    "    \"rebeldia_y_paradero\",\n",
    "    \"rechaza_acuerdo\",\n",
    "    \"rechaza_competencia\",\n",
    "    \"regimen_de_comunicacion_provisoria\",\n",
    "    \"reincidencia\",\n",
    "    \"reintegra_puntos_de_licencia_de_conducir\",\n",
    "    \"remate_vehiculo\",\n",
    "    \"remision_a_justicia_civil\",\n",
    "    \"remision_camara_para_sorteo\",\n",
    "    \"reparacion_integral_del_daño_sobreseimiento\",\n",
    "    \"replica_de_arma_de_plastico\",\n",
    "    \"reposicion\",\n",
    "    \"reposicion_apelacion_subsidio\",\n",
    "    \"reprogramacion\",\n",
    "    \"requerido_por_infractor\",\n",
    "    \"requerimiento_de_juicio\",\n",
    "    \"requerimiento_de_juicio_falta_de_fundamentacion\",\n",
    "    \"requisa\",\n",
    "    \"restitucion_de_inmueble\",\n",
    "    \"revision_psicofisica_capacidad\",\n",
    "    \"revision_psiquiatrica_y_psicologica\",\n",
    "    \"revoca\",\n",
    "    \"revoca_condicionalidad\",\n",
    "    \"revocacion\",\n",
    "    \"rueda_de_reconocimiento\",\n",
    "    \"salidas_extraordinarias\",\n",
    "    \"salidas_transitorias\",\n",
    "    \"sancion_sustitutiva_prorroga\",\n",
    "    \"secuestro\",\n",
    "    \"sin_indicacion_plazo\",\n",
    "    \"sobreseimiento\",\n",
    "    \"solicita\",\n",
    "    \"solicitud_destruccion_de_estupefacientes\",\n",
    "    \"tareas_de_investigacion\",\n",
    "    \"telefono\",\n",
    "    \"temor_parcialidad_generico\",\n",
    "    \"tiene_por_desistido\",\n",
    "    \"tiene_por_no_computado_plazo\",\n",
    "    \"tiene_presente\",\n",
    "    \"tiene_presente_acuerdo\",\n",
    "    \"tobillera_refractaria\",\n",
    "    \"traslado_por_fuerza_publica\",\n",
    "    \"unifica_solicita_inhibitoria\",\n",
    "    \"unificacion_de_pena\",\n",
    "    \"vehiculo\",\n",
    "    \"vencimiento_plazo_ipp\",\n",
    "]"
   ]
  },
  {
   "cell_type": "code",
   "execution_count": null,
   "id": "984dc8fe-5ca9-424d-812b-812a4b04c849",
   "metadata": {
    "tags": []
   },
   "outputs": [],
   "source": [
    "categories = [category.replace(\"_\", \" \") for category in categories]\n",
    "categories"
   ]
  },
  {
   "cell_type": "code",
   "execution_count": null,
   "id": "c9d13464-3c8b-4f09-9ba4-6ecf0647da3b",
   "metadata": {},
   "outputs": [],
   "source": [
    "len(categories)"
   ]
  },
  {
   "cell_type": "code",
   "execution_count": null,
   "id": "3220f04c-d6b8-4a31-a833-f86ce4ffbb20",
   "metadata": {},
   "outputs": [],
   "source": [
    "# categories_embeddings = usem_qa.signatures[\"question_encoder\"](input=tf.constant(categories))\n",
    "\n",
    "categories_embeddings = usem_qa.signatures[\"response_encoder\"](\n",
    "     input=tf.constant(categories) , context=tf.constant(categories)\n",
    ")\n",
    "\n",
    "# categories_embeddings = usem(categories)"
   ]
  },
  {
   "cell_type": "code",
   "execution_count": null,
   "id": "25f15a0b-9a43-4136-afa0-e597304bcb25",
   "metadata": {},
   "outputs": [],
   "source": [
    "np.save(\"detail_embeddings.npy\", categories_embeddings[\"outputs\"].numpy())"
   ]
  },
  {
   "cell_type": "code",
   "execution_count": null,
   "id": "045e2258-cc25-417c-97d7-476ea6344b35",
   "metadata": {},
   "outputs": [],
   "source": [
    "conduct_embeddings = np.load(\"detail_embeddings.npy\")\n",
    "conduct_embeddings"
   ]
  },
  {
   "cell_type": "code",
   "execution_count": null,
   "id": "89ad7ea2-5b53-4f90-a699-37891e78fe20",
   "metadata": {},
   "outputs": [],
   "source": [
    "conduct_embeddings.shape"
   ]
  },
  {
   "cell_type": "markdown",
   "id": "0366bb7c-dd9e-4942-a08c-e215eabc2653",
   "metadata": {},
   "source": [
    "##### Text encoding"
   ]
  },
  {
   "cell_type": "code",
   "execution_count": null,
   "id": "04913d0c-3170-4629-96af-c29eacd2b3ad",
   "metadata": {
    "tags": []
   },
   "outputs": [],
   "source": [
    "texts = grouped[\"normalized_text\"].unique()\n",
    "texts"
   ]
  },
  {
   "cell_type": "code",
   "execution_count": null,
   "id": "24829abf-fc24-4be4-8625-a16305f24d0c",
   "metadata": {},
   "outputs": [],
   "source": [
    "#texts_embeddings = usem(texts)\n",
    "texts_embeddings = usem_qa.signatures[\"question_encoder\"](input=tf.constant(texts))"
   ]
  },
  {
   "cell_type": "code",
   "execution_count": null,
   "id": "16ed28f7-76a7-4195-b988-c196e0310c3e",
   "metadata": {
    "tags": []
   },
   "outputs": [],
   "source": [
    "similarities = np.inner(texts_embeddings[\"outputs\"], categories_embeddings[\"outputs\"])\n",
    "similarities = pd.DataFrame(similarities, index=texts, columns=categories)\n",
    "similarities"
   ]
  },
  {
   "cell_type": "code",
   "execution_count": null,
   "id": "4c5b72e2-4f96-4a77-b35f-621436d22a6a",
   "metadata": {
    "tags": []
   },
   "outputs": [],
   "source": [
    "for text in texts:\n",
    "    top_3_similar = similarities.loc[text].sort_values(ascending=False)[:3]\n",
    "    print(text)\n",
    "    display(top_3_similar)\n",
    "    print(\"=\"*100)"
   ]
  },
  {
   "cell_type": "code",
   "execution_count": null,
   "id": "2d6bfd5b-2085-44c0-9774-0af6974c4463",
   "metadata": {},
   "outputs": [],
   "source": [
    "def find_top_k_similar(text, conduct_embeddings=categories_embeddings, categories=categories, k=1):\n",
    "    normalized_text = normalize_text(text)\n",
    "    text_embeddings = usem_qa.signatures[\"question_encoder\"](input=tf.constant(normalized_text))\n",
    "    similarities = np.inner(text_embeddings[\"outputs\"], conduct_embeddings[\"outputs\"])\n",
    "    top_k = np.argsort(np.ravel(-similarities))[:k]\n",
    "    \n",
    "    return np.array(categories)[top_k][0] if k == 1 else np.array(categories)[top_k]"
   ]
  },
  {
   "cell_type": "code",
   "execution_count": null,
   "id": "3bea4621-94ca-4da4-b695-9c8642e4dc3b",
   "metadata": {},
   "outputs": [],
   "source": [
    "find_top_k_similar(\"agravadas por el uso de arma de fuego\")"
   ]
  },
  {
   "cell_type": "code",
   "execution_count": null,
   "id": "f4e7abd3-1703-4812-bf03-9e200b73131e",
   "metadata": {},
   "outputs": [],
   "source": [
    "grouped[\"pred_choice\"] = grouped[\"text\"].map(find_top_k_similar)\n",
    "grouped[\"pred_choice\"] = grouped[\"pred_choice\"].str.replace(\" \", \"_\")"
   ]
  },
  {
   "cell_type": "code",
   "execution_count": null,
   "id": "820e0c9d-f64f-49dd-a76e-a5b49af0502d",
   "metadata": {},
   "outputs": [],
   "source": [
    "grouped.sample(5)"
   ]
  },
  {
   "cell_type": "code",
   "execution_count": null,
   "id": "d21ee7c2-e3d4-472f-a715-2466dc349523",
   "metadata": {},
   "outputs": [],
   "source": [
    "(grouped[\"choices\"] == grouped[\"pred_choice\"]).mean()"
   ]
  },
  {
   "cell_type": "code",
   "execution_count": null,
   "id": "9da8f1d8-a81b-4ff7-80cf-947096a4a855",
   "metadata": {},
   "outputs": [],
   "source": [
    "grouped[\"pred_choices\"] = grouped[\"text\"].map(lambda x: find_top_k_similar(x, k=2))\n",
    "grouped[\"pred_choices\"] = grouped[\"pred_choices\"].map(lambda x: [string.replace(\" \", \"_\") for string in x])"
   ]
  },
  {
   "cell_type": "code",
   "execution_count": null,
   "id": "c0aef29d-4381-4a7f-af62-c84021c8d6eb",
   "metadata": {},
   "outputs": [],
   "source": [
    "grouped.sample(5)"
   ]
  },
  {
   "cell_type": "code",
   "execution_count": null,
   "id": "a29d4874-eb10-4cd2-bc5b-aa62f8bb84af",
   "metadata": {},
   "outputs": [],
   "source": [
    "top_k_matches = []\n",
    "for i, r in grouped.iterrows():\n",
    "    top_k_matches.append(r[\"choices\"] in r[\"pred_choices\"])"
   ]
  },
  {
   "cell_type": "code",
   "execution_count": null,
   "id": "938d4b04-a5f0-422e-9995-2c7145ed7abb",
   "metadata": {},
   "outputs": [],
   "source": [
    "np.mean(top_k_matches)"
   ]
  },
  {
   "cell_type": "code",
   "execution_count": null,
   "id": "06bac320-0772-4f87-ac69-0644a4a054f9",
   "metadata": {},
   "outputs": [],
   "source": [
    "grouped[\"pred_choices\"] = grouped[\"text\"].map(lambda x: find_top_k_similar(x, k=3))\n",
    "grouped[\"pred_choices\"] = grouped[\"pred_choices\"].map(lambda x: [string.replace(\" \", \"_\") for string in x])"
   ]
  },
  {
   "cell_type": "code",
   "execution_count": null,
   "id": "8421db4d-8965-4cbf-9f63-a81303bef6fa",
   "metadata": {},
   "outputs": [],
   "source": [
    "top_k_matches = []\n",
    "for i, r in grouped.iterrows():\n",
    "    top_k_matches.append(r[\"choices\"] in r[\"pred_choices\"])"
   ]
  },
  {
   "cell_type": "code",
   "execution_count": null,
   "id": "8421a667-69e4-4c53-a6c3-0b452439a1cf",
   "metadata": {},
   "outputs": [],
   "source": [
    "np.mean(top_k_matches)"
   ]
  },
  {
   "cell_type": "code",
   "execution_count": null,
   "id": "3764916e-ba1b-46c7-84c7-69957543a5f4",
   "metadata": {},
   "outputs": [],
   "source": [
    "grouped[\"pred_choices\"] = grouped[\"text\"].map(lambda x: find_top_k_similar(x, k=5))\n",
    "grouped[\"pred_choices\"] = grouped[\"pred_choices\"].map(lambda x: [string.replace(\" \", \"_\") for string in x])"
   ]
  },
  {
   "cell_type": "code",
   "execution_count": null,
   "id": "29d786a9-2594-4fc4-ab39-9d4f2b5740a2",
   "metadata": {},
   "outputs": [],
   "source": [
    "top_k_matches = []\n",
    "for i, r in grouped.iterrows():\n",
    "    top_k_matches.append(r[\"choices\"] in r[\"pred_choices\"])"
   ]
  },
  {
   "cell_type": "code",
   "execution_count": null,
   "id": "9294d760-369e-4dc0-9c0f-7a3ab736acde",
   "metadata": {},
   "outputs": [],
   "source": [
    "np.mean(top_k_matches)"
   ]
  },
  {
   "cell_type": "code",
   "execution_count": null,
   "id": "565f25c5-1616-4f43-9270-15d973bfd476",
   "metadata": {},
   "outputs": [],
   "source": [
    "# USEM QA - SAME QUESTION EMBEDDINGS"
   ]
  },
  {
   "cell_type": "code",
   "execution_count": null,
   "id": "fe53c986-2c9d-492b-a9b1-91864afff0d3",
   "metadata": {},
   "outputs": [],
   "source": [
    "categories_embeddings = usem_qa.signatures[\"question_encoder\"](input=tf.constant(categories))"
   ]
  },
  {
   "cell_type": "code",
   "execution_count": null,
   "id": "34144903-13b5-42fe-8007-bac68d1b3a44",
   "metadata": {},
   "outputs": [],
   "source": [
    "def find_top_k_similar(text, conduct_embeddings=categories_embeddings, categories=categories, k=1):\n",
    "    normalized_text = normalize_text(text)\n",
    "    text_embeddings = usem_qa.signatures[\"question_encoder\"](input=tf.constant(normalized_text))\n",
    "    similarities = np.inner(text_embeddings[\"outputs\"], conduct_embeddings[\"outputs\"])\n",
    "    top_k = np.argsort(np.ravel(-similarities))[:k]\n",
    "    \n",
    "    return np.array(categories)[top_k][0] if k == 1 else np.array(categories)[top_k]"
   ]
  },
  {
   "cell_type": "code",
   "execution_count": null,
   "id": "eade9f59-6558-439a-9d68-98b62550e105",
   "metadata": {},
   "outputs": [],
   "source": [
    "find_top_k_similar(\"abuso de las armas\")"
   ]
  },
  {
   "cell_type": "code",
   "execution_count": null,
   "id": "b432db86-3e02-461b-b0dc-50e210d1121c",
   "metadata": {},
   "outputs": [],
   "source": [
    "grouped[\"pred_choice\"] = grouped[\"text\"].map(find_top_k_similar)\n",
    "grouped[\"pred_choice\"] = grouped[\"pred_choice\"].str.replace(\" \", \"_\")"
   ]
  },
  {
   "cell_type": "code",
   "execution_count": null,
   "id": "de39c315-81f1-437d-a6a4-5447cf5186fc",
   "metadata": {},
   "outputs": [],
   "source": [
    "grouped.sample(5)"
   ]
  },
  {
   "cell_type": "code",
   "execution_count": null,
   "id": "e3e7c3d9-6372-43f9-a15d-e82677a14772",
   "metadata": {},
   "outputs": [],
   "source": [
    "(grouped[\"choices\"] == grouped[\"pred_choice\"]).mean()"
   ]
  },
  {
   "cell_type": "code",
   "execution_count": null,
   "id": "4d116628-5719-4152-96f0-ac348ae90db5",
   "metadata": {},
   "outputs": [],
   "source": [
    "grouped[\"pred_choices\"] = grouped[\"text\"].map(lambda x: find_top_k_similar(x, k=2))\n",
    "grouped[\"pred_choices\"] = grouped[\"pred_choices\"].map(lambda x: [string.replace(\" \", \"_\") for string in x])"
   ]
  },
  {
   "cell_type": "code",
   "execution_count": null,
   "id": "bbd9f06f-d7d3-4287-be66-1b7d0e400186",
   "metadata": {},
   "outputs": [],
   "source": [
    "grouped.sample(5)"
   ]
  },
  {
   "cell_type": "code",
   "execution_count": null,
   "id": "09f091ab-8d3e-4dcb-bff5-759ef351ab2b",
   "metadata": {},
   "outputs": [],
   "source": [
    "top_k_matches = []\n",
    "for i, r in grouped.iterrows():\n",
    "    top_k_matches.append(r[\"choices\"] in r[\"pred_choices\"])"
   ]
  },
  {
   "cell_type": "code",
   "execution_count": null,
   "id": "9377da40-cc9f-4e1a-9c40-8746a06ac685",
   "metadata": {},
   "outputs": [],
   "source": [
    "np.mean(top_k_matches)"
   ]
  },
  {
   "cell_type": "code",
   "execution_count": null,
   "id": "d485886a-1428-4f5f-bbbb-443c271c579d",
   "metadata": {},
   "outputs": [],
   "source": [
    "grouped[\"pred_choices\"] = grouped[\"text\"].map(lambda x: find_top_k_similar(x, k=3))\n",
    "grouped[\"pred_choices\"] = grouped[\"pred_choices\"].map(lambda x: [string.replace(\" \", \"_\") for string in x])"
   ]
  },
  {
   "cell_type": "code",
   "execution_count": null,
   "id": "c6052503-d1da-413e-8fde-92e8b8256aeb",
   "metadata": {},
   "outputs": [],
   "source": [
    "top_k_matches = []\n",
    "for i, r in grouped.iterrows():\n",
    "    top_k_matches.append(r[\"choices\"] in r[\"pred_choices\"])"
   ]
  },
  {
   "cell_type": "code",
   "execution_count": null,
   "id": "96327d17-8cf1-4813-a303-c33f9511cb44",
   "metadata": {},
   "outputs": [],
   "source": [
    "np.mean(top_k_matches)"
   ]
  },
  {
   "cell_type": "code",
   "execution_count": null,
   "id": "112f84b2-61bc-4194-8393-2b4da36286aa",
   "metadata": {},
   "outputs": [],
   "source": [
    "grouped[\"pred_choices\"] = grouped[\"text\"].map(lambda x: find_top_k_similar(x, k=5))\n",
    "grouped[\"pred_choices\"] = grouped[\"pred_choices\"].map(lambda x: [string.replace(\" \", \"_\") for string in x])"
   ]
  },
  {
   "cell_type": "code",
   "execution_count": null,
   "id": "2dee27f7-d572-49b4-a7c0-e6964d7092f0",
   "metadata": {},
   "outputs": [],
   "source": [
    "top_k_matches = []\n",
    "for i, r in grouped.iterrows():\n",
    "    top_k_matches.append(r[\"choices\"] in r[\"pred_choices\"])"
   ]
  },
  {
   "cell_type": "code",
   "execution_count": null,
   "id": "564bcf2a-8977-42ba-8c7d-623104e5b95e",
   "metadata": {},
   "outputs": [],
   "source": [
    "np.mean(top_k_matches)"
   ]
  },
  {
   "cell_type": "markdown",
   "id": "7045fce5-ebcb-42c9-bd14-5573c0892a4a",
   "metadata": {
    "tags": []
   },
   "source": [
    "##### USEM"
   ]
  },
  {
   "cell_type": "code",
   "execution_count": null,
   "id": "bac6887c-7bde-407f-ba62-0638cf1e318e",
   "metadata": {},
   "outputs": [],
   "source": [
    "def find_top_k_similar(text, conduct_embeddings=categories_embeddings, categories=categories, k=1):\n",
    "    normalized_text = normalize_text(text)\n",
    "    text_embeddings = usem([normalized_text])\n",
    "    similarities = np.inner(text_embeddings.numpy(), conduct_embeddings.numpy())\n",
    "    top_k = np.ravel(np.argsort(-similarities))[:k]\n",
    "    \n",
    "    return np.array([categories])[top_k][0] if k == 1 else np.array(categories)[top_k]"
   ]
  },
  {
   "cell_type": "code",
   "execution_count": null,
   "id": "aaa5ba32-255d-41b6-91ff-a20a06da0fa8",
   "metadata": {},
   "outputs": [],
   "source": [
    "grouped[\"pred_choice\"] = grouped[\"text\"].map(find_top_k_similar)\n",
    "grouped[\"pred_choice\"] = grouped[\"pred_choice\"].str.replace(\" \", \"_\")"
   ]
  },
  {
   "cell_type": "code",
   "execution_count": null,
   "id": "3c451e45-f06d-4c87-ac31-fe29a73a8ad3",
   "metadata": {},
   "outputs": [],
   "source": [
    "grouped.sample(5)"
   ]
  },
  {
   "cell_type": "code",
   "execution_count": null,
   "id": "6775d740-5ef3-439c-babd-3138829350af",
   "metadata": {},
   "outputs": [],
   "source": [
    "(grouped[\"choices\"] == grouped[\"pred_choice\"]).mean()"
   ]
  },
  {
   "cell_type": "code",
   "execution_count": null,
   "id": "d72b0d40-537a-4a5d-bedc-b34daa075e46",
   "metadata": {},
   "outputs": [],
   "source": [
    "grouped[\"pred_choices\"] = grouped[\"text\"].map(lambda x: find_top_k_similar(x, k=3))\n",
    "grouped[\"pred_choices\"] = grouped[\"pred_choices\"].map(lambda x: [string.replace(\" \", \"_\") for string in x])"
   ]
  },
  {
   "cell_type": "code",
   "execution_count": null,
   "id": "0169914e-0bd9-4555-b3d4-83f324c7e302",
   "metadata": {},
   "outputs": [],
   "source": [
    "grouped.sample(5)"
   ]
  },
  {
   "cell_type": "code",
   "execution_count": null,
   "id": "a130619e-1046-4099-a766-b176535750d5",
   "metadata": {},
   "outputs": [],
   "source": [
    "top_k_matches = []\n",
    "for i, r in grouped.iterrows():\n",
    "    top_k_matches.append(r[\"choices\"] in r[\"pred_choices\"])"
   ]
  },
  {
   "cell_type": "code",
   "execution_count": null,
   "id": "441ab610-63a0-4e23-8cf5-b5739d7c1f5e",
   "metadata": {},
   "outputs": [],
   "source": [
    "np.mean(top_k_matches)"
   ]
  },
  {
   "cell_type": "markdown",
   "id": "05f7fbc1-f9b9-4a8e-9e17-c32ec5517b64",
   "metadata": {
    "tags": []
   },
   "source": [
    "#### Objeto de la resolución"
   ]
  },
  {
   "cell_type": "code",
   "execution_count": null,
   "id": "0ba756a2-32d0-4fc1-9af5-c5eb6c70c018",
   "metadata": {},
   "outputs": [],
   "source": [
    "mask = df[\"clean_label\"] == \"OBJETO_DE_LA_RESOLUCION\"\n",
    "\n",
    "df.loc[mask][\"label\"].value_counts()"
   ]
  },
  {
   "cell_type": "code",
   "execution_count": null,
   "id": "6aa17f20-c41d-436f-8028-528cc0fecc9d",
   "metadata": {},
   "outputs": [],
   "source": [
    "res_object = df.loc[mask].copy()"
   ]
  },
  {
   "cell_type": "code",
   "execution_count": null,
   "id": "eb3025fa-8510-4fc1-aa08-bfebaab51799",
   "metadata": {},
   "outputs": [],
   "source": [
    "res_object[\"beginning\"] = res_object[\"label\"].str.startswith(\"B\").astype(int)\n",
    "res_object.head(10)"
   ]
  },
  {
   "cell_type": "code",
   "execution_count": null,
   "id": "4312ed69-a588-4bf1-80ed-7591828cc5d9",
   "metadata": {},
   "outputs": [],
   "source": [
    "res_object[\"id\"] = res_object[\"beginning\"].cumsum()\n",
    "res_object.head(10)"
   ]
  },
  {
   "cell_type": "code",
   "execution_count": null,
   "id": "79d820a6-01ad-475f-86b2-28c6d672933e",
   "metadata": {},
   "outputs": [],
   "source": [
    "res_object_texts = res_object.groupby(\"id\")[\"token\"].apply(\" \".join)\n",
    "res_object_texts.sample(5)"
   ]
  },
  {
   "cell_type": "code",
   "execution_count": null,
   "id": "62e9357f-1a22-4911-acc2-161294f0b0db",
   "metadata": {},
   "outputs": [],
   "source": [
    "res_object_texts.map(normalize_text).value_counts().head(25)"
   ]
  },
  {
   "cell_type": "code",
   "execution_count": null,
   "id": "fc15b699-3308-44f3-82a9-b596d5a51217",
   "metadata": {},
   "outputs": [],
   "source": [
    "def filter_res_object_choices(annot: dict) -> bool:\n",
    "    try:\n",
    "        from_name = annot[\"from_name\"]\n",
    "        if from_name == \"OBJETO_DE_LA_RESOLUCION\":\n",
    "            return True\n",
    "        \n",
    "    except:\n",
    "        return False"
   ]
  },
  {
   "cell_type": "code",
   "execution_count": null,
   "id": "6821b4f3-529a-49f3-a501-b3a32deb0cf7",
   "metadata": {},
   "outputs": [],
   "source": [
    "res_object_choices = []\n",
    "for sample in annots:\n",
    "    res_object = list(filter(filter_res_object_choices, sample[\"annotations\"][0][\"result\"]))\n",
    "    res_object_choices.extend(res_object)"
   ]
  },
  {
   "cell_type": "code",
   "execution_count": null,
   "id": "c901a442-20c0-4cbc-a4af-1457eb07843c",
   "metadata": {},
   "outputs": [],
   "source": [
    "len(res_object_choices)"
   ]
  },
  {
   "cell_type": "code",
   "execution_count": null,
   "id": "5c9bc2b2-3ab2-496f-a48b-3bfc58b641a5",
   "metadata": {},
   "outputs": [],
   "source": [
    "res_object_choices[-1]"
   ]
  },
  {
   "cell_type": "code",
   "execution_count": null,
   "id": "72389373-02a0-4f13-8037-a430b86b2cc0",
   "metadata": {},
   "outputs": [],
   "source": [
    "from aymurai.utils.json_data import group_by_key\n",
    "\n",
    "grouped = list(\n",
    "    group_by_key(\n",
    "        list(map(extract_text_choices, res_object_choices)),\n",
    "        group_key=\"choices\",\n",
    "        sort_key=\"choices\",\n",
    "    )\n",
    ")"
   ]
  },
  {
   "cell_type": "code",
   "execution_count": null,
   "id": "0cbaebf4-4486-4113-96f2-bf0e42e93948",
   "metadata": {},
   "outputs": [],
   "source": [
    "from more_itertools import flatten\n",
    "\n",
    "grouped = list(flatten(grouped))"
   ]
  },
  {
   "cell_type": "code",
   "execution_count": null,
   "id": "c77f8679-9356-4638-8053-465256b2c108",
   "metadata": {
    "tags": []
   },
   "outputs": [],
   "source": [
    "grouped = pd.DataFrame(grouped)\n",
    "grouped[\"normalized_text\"] = grouped[\"text\"].map(normalize_text)\n",
    "grouped.drop_duplicates(subset=[\"normalized_text\", \"choices\"], inplace=True)\n",
    "grouped"
   ]
  },
  {
   "cell_type": "code",
   "execution_count": null,
   "id": "bc13c30e-2ba3-4908-94bd-56acad63857e",
   "metadata": {
    "tags": []
   },
   "outputs": [],
   "source": [
    "grouped[\"normalized_text\"].value_counts()"
   ]
  },
  {
   "cell_type": "code",
   "execution_count": null,
   "id": "818ec720-2db1-4f22-9ef9-d1ef71769eeb",
   "metadata": {
    "tags": []
   },
   "outputs": [],
   "source": [
    "grouped[\"choices\"].value_counts()"
   ]
  },
  {
   "cell_type": "markdown",
   "id": "02d517cc-817f-403c-926a-96be7de5d1b8",
   "metadata": {},
   "source": [
    "##### USEM"
   ]
  },
  {
   "cell_type": "markdown",
   "id": "3d056697-6ef8-4535-af30-520bc8354de6",
   "metadata": {
    "tags": []
   },
   "source": [
    "##### Categories encoding"
   ]
  },
  {
   "cell_type": "code",
   "execution_count": null,
   "id": "ac5cf650-d3b2-4fea-8712-ea660ebe68fd",
   "metadata": {},
   "outputs": [],
   "source": [
    "categories = [\n",
    "    \"acumulacion_de_caso\",\n",
    "    \"admisibilidad_amparo\",\n",
    "    \"admisibilidad_habeas_corpus\",\n",
    "    \"admisibilidad_prueba\",\n",
    "    \"apartamiento\",\n",
    "    \"archivo_fiscal\",\n",
    "    \"audiencia_de_conciliacion\",\n",
    "    \"beneficio_litigar_sin_gastos\",\n",
    "    \"caducidad_de_instancia\",\n",
    "    \"cuestion_de_competencia\",\n",
    "    \"decomiso\",\n",
    "    \"desistimiento_faltas\",\n",
    "    \"ejecucion_de_la_pena\",\n",
    "    \"excepcion\",\n",
    "    \"excusacion\",\n",
    "    \"extraccion_testimonios\",\n",
    "    \"juicio_abreviado\",\n",
    "    \"juicio_oral\",\n",
    "    \"juzgamiento_faltas\",\n",
    "    \"mediacion\",\n",
    "    \"medida_cautelar\",\n",
    "    \"medida_probatoria\",\n",
    "    \"mesa_de_dialogo\",\n",
    "    \"nulidad\",\n",
    "    \"prision_preventiva\",\n",
    "    \"prorroga_investigacion_penal_preparatoria\",\n",
    "    \"recurso\",\n",
    "    \"recusacion\",\n",
    "    \"regulacion_de_honorarios\",\n",
    "    \"remision_controladora\",\n",
    "    \"restablecimiento_de_contacto\",\n",
    "    \"restitucion_de_efectos\",\n",
    "    \"restitucion_de_inmueble\",\n",
    "    \"restitucion_efectos\",\n",
    "    \"suspension_del_proceso_a_prueba\",\n",
    "]"
   ]
  },
  {
   "cell_type": "code",
   "execution_count": null,
   "id": "77cba18a-0538-440d-9632-413f67d797fb",
   "metadata": {
    "tags": []
   },
   "outputs": [],
   "source": [
    "categories = [category.replace(\"_\", \" \") for category in categories]\n",
    "categories"
   ]
  },
  {
   "cell_type": "code",
   "execution_count": null,
   "id": "d2ef8eb2-213f-4d97-8d63-4c30b08fef90",
   "metadata": {},
   "outputs": [],
   "source": [
    "len(categories)"
   ]
  },
  {
   "cell_type": "code",
   "execution_count": null,
   "id": "6d1a2736-8fd4-46c1-83e1-401eed025fdd",
   "metadata": {},
   "outputs": [],
   "source": [
    "# categories_embeddings = usem_qa.signatures[\"question_encoder\"](input=tf.constant(categories))\n",
    "\n",
    "categories_embeddings = usem_qa.signatures[\"response_encoder\"](\n",
    "     input=tf.constant(categories) , context=tf.constant(categories)\n",
    ")\n",
    "\n",
    "# categories_embeddings = usem(categories)"
   ]
  },
  {
   "cell_type": "code",
   "execution_count": null,
   "id": "554dd508-fd84-4ffb-8686-beee6ccdc69d",
   "metadata": {},
   "outputs": [],
   "source": [
    "np.save(\"object_embeddings.npy\", categories_embeddings[\"outputs\"].numpy())"
   ]
  },
  {
   "cell_type": "code",
   "execution_count": null,
   "id": "4b64267e-6b10-4a2d-bd4a-e343bb1fadd4",
   "metadata": {},
   "outputs": [],
   "source": [
    "conduct_embeddings = np.load(\"object_embeddings.npy\")\n",
    "conduct_embeddings"
   ]
  },
  {
   "cell_type": "code",
   "execution_count": null,
   "id": "f6a73251-55cf-47ae-923d-99c0754e5067",
   "metadata": {},
   "outputs": [],
   "source": [
    "conduct_embeddings.shape"
   ]
  },
  {
   "cell_type": "markdown",
   "id": "35cb6162-85bb-40a7-a6b8-675c914851bb",
   "metadata": {},
   "source": [
    "##### Text encoding"
   ]
  },
  {
   "cell_type": "code",
   "execution_count": null,
   "id": "2cb8f9cb-e0fe-42ed-8310-40edc4dcac14",
   "metadata": {
    "tags": []
   },
   "outputs": [],
   "source": [
    "texts = grouped[\"normalized_text\"].unique()\n",
    "texts"
   ]
  },
  {
   "cell_type": "code",
   "execution_count": null,
   "id": "f93c5f3d-595b-473c-9dcd-808b22dc0ba8",
   "metadata": {},
   "outputs": [],
   "source": [
    "#texts_embeddings = usem(texts)\n",
    "texts_embeddings = usem_qa.signatures[\"question_encoder\"](input=tf.constant(texts))"
   ]
  },
  {
   "cell_type": "code",
   "execution_count": null,
   "id": "b0bad763-c5fc-49c0-80c3-d3df7ada91f1",
   "metadata": {
    "tags": []
   },
   "outputs": [],
   "source": [
    "similarities = np.inner(texts_embeddings[\"outputs\"], categories_embeddings[\"outputs\"])\n",
    "similarities = pd.DataFrame(similarities, index=texts, columns=categories)\n",
    "similarities"
   ]
  },
  {
   "cell_type": "code",
   "execution_count": null,
   "id": "6390bfe3-b3b3-4318-9cf1-e0f33d3daa13",
   "metadata": {
    "tags": []
   },
   "outputs": [],
   "source": [
    "for text in texts:\n",
    "    top_3_similar = similarities.loc[text].sort_values(ascending=False)[:3]\n",
    "    print(text)\n",
    "    display(top_3_similar)\n",
    "    print(\"=\"*100)"
   ]
  },
  {
   "cell_type": "code",
   "execution_count": null,
   "id": "999522d4-64d4-4765-8fef-153463582862",
   "metadata": {},
   "outputs": [],
   "source": [
    "def find_top_k_similar(text, conduct_embeddings=categories_embeddings, categories=categories, k=1):\n",
    "    normalized_text = normalize_text(text)\n",
    "    text_embeddings = usem_qa.signatures[\"question_encoder\"](input=tf.constant(normalized_text))\n",
    "    similarities = np.inner(text_embeddings[\"outputs\"], conduct_embeddings[\"outputs\"])\n",
    "    top_k = np.argsort(np.ravel(-similarities))[:k]\n",
    "    \n",
    "    return np.array(categories)[top_k][0] if k == 1 else np.array(categories)[top_k]"
   ]
  },
  {
   "cell_type": "code",
   "execution_count": null,
   "id": "4f75b4bb-34b1-4ffc-9d74-4282e138c372",
   "metadata": {},
   "outputs": [],
   "source": [
    "grouped[\"pred_choice\"] = grouped[\"text\"].map(find_top_k_similar)\n",
    "grouped[\"pred_choice\"] = grouped[\"pred_choice\"].str.replace(\" \", \"_\")"
   ]
  },
  {
   "cell_type": "code",
   "execution_count": null,
   "id": "aee27799-77f4-418b-8bdf-d1c65b7bfaf3",
   "metadata": {},
   "outputs": [],
   "source": [
    "grouped.sample(5)"
   ]
  },
  {
   "cell_type": "code",
   "execution_count": null,
   "id": "5b82ff6b-b722-4e72-896a-c06d5423615e",
   "metadata": {},
   "outputs": [],
   "source": [
    "(grouped[\"choices\"] == grouped[\"pred_choice\"]).mean()"
   ]
  },
  {
   "cell_type": "code",
   "execution_count": null,
   "id": "ef5246e1-b299-4e17-b80c-d3dd4fd45a94",
   "metadata": {},
   "outputs": [],
   "source": [
    "grouped[\"pred_choices\"] = grouped[\"text\"].map(lambda x: find_top_k_similar(x, k=2))\n",
    "grouped[\"pred_choices\"] = grouped[\"pred_choices\"].map(lambda x: [string.replace(\" \", \"_\") for string in x])"
   ]
  },
  {
   "cell_type": "code",
   "execution_count": null,
   "id": "932decf5-6143-4962-9bb2-16de330b8659",
   "metadata": {},
   "outputs": [],
   "source": [
    "grouped.sample(5)"
   ]
  },
  {
   "cell_type": "code",
   "execution_count": null,
   "id": "e1ab5c25-71f5-4efe-90a5-67c85140a590",
   "metadata": {},
   "outputs": [],
   "source": [
    "top_k_matches = []\n",
    "for i, r in grouped.iterrows():\n",
    "    top_k_matches.append(r[\"choices\"] in r[\"pred_choices\"])"
   ]
  },
  {
   "cell_type": "code",
   "execution_count": null,
   "id": "933c7e3a-ae5c-4459-b813-01b9d343842b",
   "metadata": {},
   "outputs": [],
   "source": [
    "np.mean(top_k_matches)"
   ]
  },
  {
   "cell_type": "code",
   "execution_count": null,
   "id": "e5bfb198-57f2-47bc-ba0b-8d06174ccc3d",
   "metadata": {},
   "outputs": [],
   "source": [
    "grouped[\"pred_choices\"] = grouped[\"text\"].map(lambda x: find_top_k_similar(x, k=3))\n",
    "grouped[\"pred_choices\"] = grouped[\"pred_choices\"].map(lambda x: [string.replace(\" \", \"_\") for string in x])"
   ]
  },
  {
   "cell_type": "code",
   "execution_count": null,
   "id": "c98c9af0-3f25-45cf-9dfb-5975b4cc8a00",
   "metadata": {},
   "outputs": [],
   "source": [
    "top_k_matches = []\n",
    "for i, r in grouped.iterrows():\n",
    "    top_k_matches.append(r[\"choices\"] in r[\"pred_choices\"])"
   ]
  },
  {
   "cell_type": "code",
   "execution_count": null,
   "id": "f70fa46f-6628-4ff6-bbd5-bec685276ae8",
   "metadata": {},
   "outputs": [],
   "source": [
    "np.mean(top_k_matches)"
   ]
  },
  {
   "cell_type": "code",
   "execution_count": null,
   "id": "1cdd1c0d-3f4f-4e20-b8af-84c633c30711",
   "metadata": {},
   "outputs": [],
   "source": [
    "grouped[\"pred_choices\"] = grouped[\"text\"].map(lambda x: find_top_k_similar(x, k=5))\n",
    "grouped[\"pred_choices\"] = grouped[\"pred_choices\"].map(lambda x: [string.replace(\" \", \"_\") for string in x])"
   ]
  },
  {
   "cell_type": "code",
   "execution_count": null,
   "id": "e0d257ae-50ef-4fef-82be-035033cc973e",
   "metadata": {},
   "outputs": [],
   "source": [
    "top_k_matches = []\n",
    "for i, r in grouped.iterrows():\n",
    "    top_k_matches.append(r[\"choices\"] in r[\"pred_choices\"])"
   ]
  },
  {
   "cell_type": "code",
   "execution_count": null,
   "id": "52ac354d-4469-495e-9a3f-8e4d09e491c9",
   "metadata": {},
   "outputs": [],
   "source": [
    "np.mean(top_k_matches)"
   ]
  },
  {
   "cell_type": "code",
   "execution_count": null,
   "id": "6bdaa26c-4bbd-4bdc-867d-cb6a44131c94",
   "metadata": {},
   "outputs": [],
   "source": [
    "# USEM QA - SAME QUESTION EMBEDDINGS"
   ]
  },
  {
   "cell_type": "code",
   "execution_count": null,
   "id": "09a15f65-10f7-4a45-be3c-65e1a6d388ac",
   "metadata": {},
   "outputs": [],
   "source": [
    "categories_embeddings = usem_qa.signatures[\"question_encoder\"](input=tf.constant(categories))"
   ]
  },
  {
   "cell_type": "code",
   "execution_count": null,
   "id": "9cd40506-07b5-4bae-a6e2-f32e4f02883d",
   "metadata": {},
   "outputs": [],
   "source": [
    "def find_top_k_similar(text, conduct_embeddings=categories_embeddings, categories=categories, k=1):\n",
    "    normalized_text = normalize_text(text)\n",
    "    text_embeddings = usem_qa.signatures[\"question_encoder\"](input=tf.constant(normalized_text))\n",
    "    similarities = np.inner(text_embeddings[\"outputs\"], conduct_embeddings[\"outputs\"])\n",
    "    top_k = np.argsort(np.ravel(-similarities))[:k]\n",
    "    \n",
    "    return np.array(categories)[top_k][0] if k == 1 else np.array(categories)[top_k]"
   ]
  },
  {
   "cell_type": "code",
   "execution_count": null,
   "id": "c95e13f3-b787-4743-91e8-f68ab6b147d4",
   "metadata": {},
   "outputs": [],
   "source": [
    "find_top_k_similar(\"abuso de las armas\")"
   ]
  },
  {
   "cell_type": "code",
   "execution_count": null,
   "id": "1f91b03f-a345-4f0b-9e5a-fb43ced84e41",
   "metadata": {},
   "outputs": [],
   "source": [
    "grouped[\"pred_choice\"] = grouped[\"text\"].map(find_top_k_similar)\n",
    "grouped[\"pred_choice\"] = grouped[\"pred_choice\"].str.replace(\" \", \"_\")"
   ]
  },
  {
   "cell_type": "code",
   "execution_count": null,
   "id": "7a36dd1d-1c54-4497-8e2e-b3da60199afe",
   "metadata": {},
   "outputs": [],
   "source": [
    "grouped.sample(5)"
   ]
  },
  {
   "cell_type": "code",
   "execution_count": null,
   "id": "a676b430-72f4-4d6c-9928-f8a1dc9d011b",
   "metadata": {},
   "outputs": [],
   "source": [
    "(grouped[\"choices\"] == grouped[\"pred_choice\"]).mean()"
   ]
  },
  {
   "cell_type": "code",
   "execution_count": null,
   "id": "a3eac7ac-ade7-47ae-a342-13494503b916",
   "metadata": {},
   "outputs": [],
   "source": [
    "grouped[\"pred_choices\"] = grouped[\"text\"].map(lambda x: find_top_k_similar(x, k=2))\n",
    "grouped[\"pred_choices\"] = grouped[\"pred_choices\"].map(lambda x: [string.replace(\" \", \"_\") for string in x])"
   ]
  },
  {
   "cell_type": "code",
   "execution_count": null,
   "id": "7cfdf2c8-347d-4c33-bd45-95fbc5600cd5",
   "metadata": {},
   "outputs": [],
   "source": [
    "grouped.sample(5)"
   ]
  },
  {
   "cell_type": "code",
   "execution_count": null,
   "id": "09bc8753-15d9-4478-ac8c-839c1e0eefba",
   "metadata": {},
   "outputs": [],
   "source": [
    "top_k_matches = []\n",
    "for i, r in grouped.iterrows():\n",
    "    top_k_matches.append(r[\"choices\"] in r[\"pred_choices\"])"
   ]
  },
  {
   "cell_type": "code",
   "execution_count": null,
   "id": "f23ef929-a504-460e-ae4d-83cb93e800cf",
   "metadata": {},
   "outputs": [],
   "source": [
    "np.mean(top_k_matches)"
   ]
  },
  {
   "cell_type": "code",
   "execution_count": null,
   "id": "63d6e59c-ffc9-4536-95db-d3d955192cea",
   "metadata": {},
   "outputs": [],
   "source": [
    "grouped[\"pred_choices\"] = grouped[\"text\"].map(lambda x: find_top_k_similar(x, k=3))\n",
    "grouped[\"pred_choices\"] = grouped[\"pred_choices\"].map(lambda x: [string.replace(\" \", \"_\") for string in x])"
   ]
  },
  {
   "cell_type": "code",
   "execution_count": null,
   "id": "b86c2d7f-cf00-418e-92e9-9ef8b2ac241c",
   "metadata": {},
   "outputs": [],
   "source": [
    "top_k_matches = []\n",
    "for i, r in grouped.iterrows():\n",
    "    top_k_matches.append(r[\"choices\"] in r[\"pred_choices\"])"
   ]
  },
  {
   "cell_type": "code",
   "execution_count": null,
   "id": "df880e6a-a025-4562-8e18-08e11e031d63",
   "metadata": {},
   "outputs": [],
   "source": [
    "np.mean(top_k_matches)"
   ]
  },
  {
   "cell_type": "code",
   "execution_count": null,
   "id": "0674d25f-1307-4044-a4b5-cdf975654587",
   "metadata": {},
   "outputs": [],
   "source": [
    "grouped[\"pred_choices\"] = grouped[\"text\"].map(lambda x: find_top_k_similar(x, k=5))\n",
    "grouped[\"pred_choices\"] = grouped[\"pred_choices\"].map(lambda x: [string.replace(\" \", \"_\") for string in x])"
   ]
  },
  {
   "cell_type": "code",
   "execution_count": null,
   "id": "c4a3a121-7707-4511-80bb-6b8502951205",
   "metadata": {},
   "outputs": [],
   "source": [
    "top_k_matches = []\n",
    "for i, r in grouped.iterrows():\n",
    "    top_k_matches.append(r[\"choices\"] in r[\"pred_choices\"])"
   ]
  },
  {
   "cell_type": "code",
   "execution_count": null,
   "id": "aa46e569-8a7b-4929-8cb4-c99ac1de1b3e",
   "metadata": {},
   "outputs": [],
   "source": [
    "np.mean(top_k_matches)"
   ]
  },
  {
   "cell_type": "markdown",
   "id": "81b281ec-f8eb-440e-8625-f0009ee6bd6e",
   "metadata": {
    "tags": []
   },
   "source": [
    "##### USEM"
   ]
  },
  {
   "cell_type": "code",
   "execution_count": null,
   "id": "96592b02-d1ac-4d9a-90b6-3eb889e3a98e",
   "metadata": {},
   "outputs": [],
   "source": [
    "def find_top_k_similar(text, conduct_embeddings=categories_embeddings, categories=categories, k=1):\n",
    "    normalized_text = normalize_text(text)\n",
    "    text_embeddings = usem([normalized_text])\n",
    "    similarities = np.inner(text_embeddings.numpy(), conduct_embeddings.numpy())\n",
    "    top_k = np.ravel(np.argsort(-similarities))[:k]\n",
    "    \n",
    "    return np.array([categories])[top_k][0] if k == 1 else np.array(categories)[top_k]"
   ]
  },
  {
   "cell_type": "code",
   "execution_count": null,
   "id": "fc1ea4b4-80c4-4ab3-9340-536c49d3287f",
   "metadata": {},
   "outputs": [],
   "source": [
    "grouped[\"pred_choice\"] = grouped[\"text\"].map(find_top_k_similar)\n",
    "grouped[\"pred_choice\"] = grouped[\"pred_choice\"].str.replace(\" \", \"_\")"
   ]
  },
  {
   "cell_type": "code",
   "execution_count": null,
   "id": "df0dfcf0-d15a-4fef-a8da-bac81bc581b3",
   "metadata": {},
   "outputs": [],
   "source": [
    "grouped.sample(5)"
   ]
  },
  {
   "cell_type": "code",
   "execution_count": null,
   "id": "d483faac-51db-4fdb-a827-51690ee18a5d",
   "metadata": {},
   "outputs": [],
   "source": [
    "(grouped[\"choices\"] == grouped[\"pred_choice\"]).mean()"
   ]
  },
  {
   "cell_type": "code",
   "execution_count": null,
   "id": "bba3a422-ae72-4ad4-a066-36fe3c4c36ff",
   "metadata": {},
   "outputs": [],
   "source": [
    "grouped[\"pred_choices\"] = grouped[\"text\"].map(lambda x: find_top_k_similar(x, k=3))\n",
    "grouped[\"pred_choices\"] = grouped[\"pred_choices\"].map(lambda x: [string.replace(\" \", \"_\") for string in x])"
   ]
  },
  {
   "cell_type": "code",
   "execution_count": null,
   "id": "07c20823-7425-468a-acfc-14880fc281e7",
   "metadata": {},
   "outputs": [],
   "source": [
    "grouped.sample(5)"
   ]
  },
  {
   "cell_type": "code",
   "execution_count": null,
   "id": "44304d75-3f26-446a-8180-556e36100830",
   "metadata": {},
   "outputs": [],
   "source": [
    "top_k_matches = []\n",
    "for i, r in grouped.iterrows():\n",
    "    top_k_matches.append(r[\"choices\"] in r[\"pred_choices\"])"
   ]
  },
  {
   "cell_type": "code",
   "execution_count": null,
   "id": "9f119bb4-4bde-4c2c-b63d-536aa2aa1289",
   "metadata": {},
   "outputs": [],
   "source": [
    "np.mean(top_k_matches)"
   ]
  },
  {
   "cell_type": "code",
   "execution_count": null,
   "id": "59cc5374-3293-466c-bb3a-e1c0881820ab",
   "metadata": {},
   "outputs": [],
   "source": []
  },
  {
   "cell_type": "code",
   "execution_count": null,
   "id": "18c7dbd5-dae5-4bdc-a3ab-ac102497ed11",
   "metadata": {},
   "outputs": [],
   "source": []
  },
  {
   "cell_type": "code",
   "execution_count": null,
   "id": "bcb37010",
   "metadata": {},
   "outputs": [],
   "source": []
  }
 ],
 "metadata": {
  "kernelspec": {
   "display_name": "Python 3 (ipykernel)",
   "language": "python",
   "name": "python3"
  },
  "language_info": {
   "codemirror_mode": {
    "name": "ipython",
    "version": 3
   },
   "file_extension": ".py",
   "mimetype": "text/x-python",
   "name": "python",
   "nbconvert_exporter": "python",
   "pygments_lexer": "ipython3",
   "version": "3.10.8"
  },
  "vscode": {
   "interpreter": {
    "hash": "e7370f93d1d0cde622a1f8e1c04877d8463912d04d973331ad4851f04de6915a"
   }
  }
 },
 "nbformat": 4,
 "nbformat_minor": 5
}
