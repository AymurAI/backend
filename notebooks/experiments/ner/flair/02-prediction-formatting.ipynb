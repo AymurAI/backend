{
 "cells": [
  {
   "cell_type": "code",
   "execution_count": null,
   "id": "854436b7-2c29-43f6-9b31-32b79520c953",
   "metadata": {
    "tags": []
   },
   "outputs": [],
   "source": [
    "# !sudo pip install -e /workspace/src/aymurai"
   ]
  },
  {
   "cell_type": "markdown",
   "id": "5cd5a731-5a09-4203-a0e1-593921c35201",
   "metadata": {},
   "source": [
    "## Load model"
   ]
  },
  {
   "cell_type": "code",
   "execution_count": null,
   "id": "f0000a85-ab75-44ec-8081-27733a469733",
   "metadata": {},
   "outputs": [],
   "source": [
    "import flair, torch\n",
    "\n",
    "from flair.data import Sentence\n",
    "from flair.models import SequenceTagger\n",
    "from flair.tokenization import SpaceTokenizer\n",
    "\n",
    "\n",
    "flair.device = torch.device(\"cpu\")\n",
    "torch.cuda.is_available()"
   ]
  },
  {
   "cell_type": "code",
   "execution_count": null,
   "id": "04f10d34-526f-428b-88fc-28fe5ad32f52",
   "metadata": {},
   "outputs": [],
   "source": [
    "path = \"/resources/ner/flair/no-finetune-221123-no-decision/\"\n",
    "\n",
    "# load model\n",
    "tagger = SequenceTagger.load(path + \"model.pt\")"
   ]
  },
  {
   "cell_type": "markdown",
   "id": "68d29ac2-c4dc-424d-90ad-ad3894773274",
   "metadata": {},
   "source": [
    "## Prediction formatting"
   ]
  },
  {
   "cell_type": "code",
   "execution_count": null,
   "id": "f9288074-b423-4987-ad9d-9b77fdba57da",
   "metadata": {},
   "outputs": [],
   "source": [
    "import re\n",
    "import random\n",
    "\n",
    "from glob import glob\n",
    "from spacy import displacy\n",
    "from aymurai.text.extraction import extract_document"
   ]
  },
  {
   "cell_type": "code",
   "execution_count": null,
   "id": "3cc279b5-8223-4304-abe5-1a571a07bd1a",
   "metadata": {},
   "outputs": [],
   "source": [
    "doc_paths = glob(\"/resources/data/restricted/ar-juz-pcyf-10/RESOLUCIONES DEL JUZGADO/**/**.docx\")\n",
    "len(doc_paths)"
   ]
  },
  {
   "cell_type": "code",
   "execution_count": null,
   "id": "fe89bdbb-3917-4d19-a1c2-46903ca1e624",
   "metadata": {},
   "outputs": [],
   "source": [
    "doc_path = random.choice(doc_paths)\n",
    "doc_path"
   ]
  },
  {
   "cell_type": "code",
   "execution_count": null,
   "id": "ddb4d6a8-628d-413c-9a81-bc186acf8060",
   "metadata": {},
   "outputs": [],
   "source": [
    "doc = extract_document(doc_path)"
   ]
  },
  {
   "cell_type": "code",
   "execution_count": null,
   "id": "fed7c0c4-562b-4720-b4cd-1a785deacda1",
   "metadata": {},
   "outputs": [],
   "source": [
    "set(re.findall(r\"\\s\", doc))"
   ]
  },
  {
   "cell_type": "code",
   "execution_count": null,
   "id": "26f15a01-169c-4612-ad27-737c7a351192",
   "metadata": {},
   "outputs": [],
   "source": [
    "# replace '\\t' and '\\xa0' for white space\n",
    "doc = re.sub(r\"(?:\\t|\\xa0)+\", \" \", doc)\n",
    "\n",
    "# remove multiple spaces except new lines\n",
    "doc = re.sub(r\"[^\\S\\r\\n]+\", \" \", doc)\n",
    "\n",
    "# replace multiple new lines with just one break\n",
    "doc = re.sub(r\"\\n+\", \"\\n\", doc)"
   ]
  },
  {
   "cell_type": "code",
   "execution_count": null,
   "id": "7646c73f-11b3-4658-9220-0150c1541b2d",
   "metadata": {
    "tags": []
   },
   "outputs": [],
   "source": [
    "predicted = []\n",
    "dicts_ents = []\n",
    "\n",
    "# displacy - line by line\n",
    "doc_lines = doc.splitlines()\n",
    "for line in doc_lines:\n",
    "    sentence = Sentence(line, use_tokenizer=SpaceTokenizer())\n",
    "    tagger.predict(sentence)\n",
    "\n",
    "    dic_ents = {\n",
    "        \"text\": line,\n",
    "        \"ents\": [\n",
    "            {\n",
    "                \"start\": ent.start_position,\n",
    "                \"end\": ent.end_position,\n",
    "                \"label\": ent.labels[0].value\n",
    "            }\n",
    "            for ent in sentence.get_spans('ner')\n",
    "        ],\n",
    "        \"title\": None,\n",
    "    }\n",
    "\n",
    "    if sentence:\n",
    "        displacy.render(dic_ents, manual=True, style=\"ent\")\n",
    "\n",
    "    predicted.append(sentence.get_spans(\"ner\"))\n",
    "    dicts_ents.append(dic_ents)"
   ]
  },
  {
   "cell_type": "markdown",
   "id": "c22e86d9-7307-40d9-bc11-e8eccae14b19",
   "metadata": {},
   "source": [
    "#### AymurAI format"
   ]
  },
  {
   "cell_type": "code",
   "execution_count": null,
   "id": "f47b94eb-c319-4e18-bc32-82d0e25c6c8f",
   "metadata": {},
   "outputs": [],
   "source": [
    "from numpy import cumsum\n",
    "from more_itertools import flatten"
   ]
  },
  {
   "cell_type": "code",
   "execution_count": null,
   "id": "ac25c734-e721-434e-a7a1-ea7fea52d3a3",
   "metadata": {},
   "outputs": [],
   "source": [
    "def extract_spans(sentences: list[flair.data.Span]):\n",
    "    pattern = r\"Span\\[(\\d+):(\\d+)\\]\"\n",
    "    entities = []\n",
    "    if sentences:\n",
    "        for sentence in sentences:\n",
    "            label = sentence.get_label()\n",
    "            text = label.data_point.text\n",
    "            label_value = label.value\n",
    "            score = label.score\n",
    "            start, end = re.findall(pattern, label.labeled_identifier)[0]\n",
    "            start_char = label.data_point.start_position\n",
    "            end_char = label.data_point.end_position\n",
    "            \n",
    "            ents = {\n",
    "                \"start_token\": int(start),\n",
    "                \"end_token\": int(end),\n",
    "                \"label\": label_value,\n",
    "                \"text\": text,\n",
    "                \"start\": start_char,\n",
    "                \"end\": end_char,\n",
    "                \"attrs\": {\n",
    "                    \"score\": score,\n",
    "                    \"aymurai_method\": \"ner\",\n",
    "                }\n",
    "            }\n",
    "            \n",
    "            entities.append(ents)\n",
    "    \n",
    "    return entities"
   ]
  },
  {
   "cell_type": "code",
   "execution_count": null,
   "id": "2b80798c-7d1d-4529-9e56-3e574115ccb2",
   "metadata": {
    "tags": []
   },
   "outputs": [],
   "source": [
    "# number of tokens and characters per line\n",
    "n_tokens = [len(line.split()) for line in doc_lines]\n",
    "n_chars = [len(line) for line in doc_lines]"
   ]
  },
  {
   "cell_type": "code",
   "execution_count": null,
   "id": "df5e5277-eaec-4329-b033-c3b688b5307f",
   "metadata": {
    "tags": []
   },
   "outputs": [],
   "source": [
    "spans = []\n",
    "for pred in predicted:\n",
    "    spans_ = extract_spans(pred)\n",
    "    spans.append(spans_)\n",
    "    \n",
    "accumulated_tokens = cumsum(n_tokens)\n",
    "for i, _ in enumerate(accumulated_tokens):\n",
    "    if i != 0:\n",
    "        if spans[i]:\n",
    "            for span in spans[i]:\n",
    "                span[\"start_token\"] += accumulated_tokens[i-1] + i\n",
    "                span[\"end_token\"] += accumulated_tokens[i-1] + i\n",
    "\n",
    "accumulated_chars = cumsum(n_chars)\n",
    "for i, _ in enumerate(accumulated_chars):\n",
    "    if i != 0:\n",
    "        if spans[i]:\n",
    "            for span in spans[i]:\n",
    "                span[\"start\"] += accumulated_chars[i-1] + i\n",
    "                span[\"end\"] += accumulated_chars[i-1] + i\n",
    "\n",
    "spans_lists = list(flatten(spans))"
   ]
  },
  {
   "cell_type": "code",
   "execution_count": null,
   "id": "69121eac-baeb-4e24-925c-288142197da3",
   "metadata": {
    "tags": []
   },
   "outputs": [],
   "source": [
    "# displacy - whole document\n",
    "dictsplacy = {\n",
    "    \"text\": doc,\n",
    "    \"ents\": spans_lists\n",
    "}\n",
    "\n",
    "displacy.render(dictsplacy, manual=True, style=\"ent\")"
   ]
  },
  {
   "cell_type": "code",
   "execution_count": null,
   "id": "c806cb44-a285-4f83-9b52-653d576f8694",
   "metadata": {},
   "outputs": [],
   "source": []
  }
 ],
 "metadata": {
  "kernelspec": {
   "display_name": "Python 3 (ipykernel)",
   "language": "python",
   "name": "python3"
  },
  "language_info": {
   "codemirror_mode": {
    "name": "ipython",
    "version": 3
   },
   "file_extension": ".py",
   "mimetype": "text/x-python",
   "name": "python",
   "nbconvert_exporter": "python",
   "pygments_lexer": "ipython3",
   "version": "3.10.8"
  }
 },
 "nbformat": 4,
 "nbformat_minor": 5
}
