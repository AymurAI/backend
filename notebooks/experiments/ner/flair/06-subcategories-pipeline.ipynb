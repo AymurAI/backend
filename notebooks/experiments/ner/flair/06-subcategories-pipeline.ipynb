{
 "cells": [
  {
   "cell_type": "code",
   "execution_count": null,
   "id": "b3bdd860-9e86-4789-8a12-ca4fb50fa360",
   "metadata": {
    "tags": []
   },
   "outputs": [],
   "source": [
    "!sudo pip install -e /workspace/src/aymurai tensorflow_hub tensorflow_text"
   ]
  },
  {
   "cell_type": "code",
   "execution_count": null,
   "id": "c06ecd5b",
   "metadata": {},
   "outputs": [],
   "source": [
    "%load_ext autoreload\n",
    "%autoreload 2"
   ]
  },
  {
   "cell_type": "code",
   "execution_count": null,
   "id": "15e8fd2c-ac8f-4c87-a194-b6938eceac50",
   "metadata": {},
   "outputs": [],
   "source": [
    "import os\n",
    "os.environ[\"TF_CPP_MIN_LOG_LEVEL\"] = \"3\"\n",
    "os.environ[\"CUDA_VISIBLE_DEVICES\"] = \"-1\""
   ]
  },
  {
   "cell_type": "code",
   "execution_count": null,
   "id": "053d2482",
   "metadata": {},
   "outputs": [],
   "source": [
    "import flair\n",
    "import logging\n",
    "\n",
    "\n",
    "flair.logger.setLevel(logging.ERROR)"
   ]
  },
  {
   "cell_type": "code",
   "execution_count": null,
   "id": "25daea97",
   "metadata": {},
   "outputs": [],
   "source": [
    "from aymurai.spacy.display import DocRender\n",
    "from aymurai.datasets.ar_juz_pcyf_10.annotations import (\n",
    "    ArgentinaJuzgadoPCyF10LabelStudioAnnotations,\n",
    ")\n",
    "\n",
    "render = DocRender()\n",
    "docs = ArgentinaJuzgadoPCyF10LabelStudioAnnotations(\n",
    "    \"/resources/data/restricted/annotations/20221130-bis/\"\n",
    ").data\n",
    "# docs = ArgentinaJuzgadoPCyF10DocsDataset().data\n",
    "sample = docs[:10]\n",
    "\n",
    "print(len(docs))"
   ]
  },
  {
   "cell_type": "code",
   "execution_count": null,
   "metadata": {},
   "outputs": [],
   "source": [
    "from tensorflow.python.client import device_lib\n",
    "\n",
    "def get_available_devices():\n",
    "    local_device_protos = device_lib.list_local_devices()\n",
    "    return [x.name for x in local_device_protos if x.device_type == 'GPU' or x.device_type == 'CPU']\n",
    "\n",
    "get_available_devices()"
   ]
  },
  {
   "cell_type": "markdown",
   "id": "4b611768-9c1a-4f9a-a81f-ab7c81676d7e",
   "metadata": {},
   "source": [
    "## Pipeline"
   ]
  },
  {
   "cell_type": "code",
   "execution_count": null,
   "id": "9c3108d5",
   "metadata": {},
   "outputs": [],
   "source": [
    "from aymurai.pipeline import AymurAIPipeline\n",
    "from aymurai.models.flair.core import FlairModel\n",
    "from aymurai.models.flair.utils import FlairTextNormalize\n",
    "from aymurai.transforms.entity_subcategories.regex import RegexSubcategorizer\n",
    "from aymurai.transforms.entity_subcategories.usem import USEMSubcategorizer\n",
    "\n",
    "config = {\n",
    "    \"preprocess\": [\n",
    "        (FlairTextNormalize, {}),\n",
    "    ],\n",
    "    \"models\": [\n",
    "        (\n",
    "            FlairModel,\n",
    "            {\n",
    "                \"basepath\": \"/resources/pipelines/examples/flair-simple/FlairModel\",\n",
    "                \"split_doc\": True,\n",
    "                \"device\": \"cpu\",\n",
    "            },\n",
    "        )\n",
    "    ],\n",
    "    \"postprocess\": [\n",
    "        (RegexSubcategorizer, {}),\n",
    "        (\n",
    "            USEMSubcategorizer,\n",
    "                {\n",
    "                    \"category\": \"CONDUCTA\",\n",
    "                    \"subcategories_path\": '/resources/pipelines/examples/flair-simple/UsemEmbeddings/conduct_options.txt',\n",
    "                    \"response_embeddings_path\": \"/resources/pipelines/examples/flair-simple/UsemEmbeddings/conduct_embeddings.npy\",\n",
    "                    \"device\": '/cpu:0'\n",
    "                }\n",
    "        ),\n",
    "        (\n",
    "            USEMSubcategorizer,\n",
    "                {\n",
    "                    \"category\": \"CONDUCTA_DESCRIPCION\",\n",
    "                    \"subcategories_path\": '/resources/pipelines/examples/flair-simple/UsemEmbeddings/conduct_desc_options.txt',\n",
    "                    \"response_embeddings_path\": \"/resources/pipelines/examples/flair-simple/UsemEmbeddings/conduct_descr_embeddings.npy\",\n",
    "                    \"device\": '/cpu:0'\n",
    "                }\n",
    "        ),\n",
    "        (\n",
    "            USEMSubcategorizer,\n",
    "                {\n",
    "                    \"category\": \"DETALLE\",\n",
    "                    \"subcategories_path\": '/resources/pipelines/examples/flair-simple/UsemEmbeddings/detail_options.txt',\n",
    "                    \"response_embeddings_path\": \"/resources/pipelines/examples/flair-simple/UsemEmbeddings/detail_embeddings.npy\",\n",
    "                    \"device\": '/cpu:0'\n",
    "                }\n",
    "        ),\n",
    "        (\n",
    "            USEMSubcategorizer,\n",
    "                {\n",
    "                    \"category\": \"OBJETO_DE_LA_RESOLUCION\",\n",
    "                    \"subcategories_path\": '/resources/pipelines/examples/flair-simple/UsemEmbeddings/object_options.txt',\n",
    "                    \"response_embeddings_path\": \"/resources/pipelines/examples/flair-simple/UsemEmbeddings/object_embeddings.npy\",\n",
    "                    \"device\": '/cpu:0'\n",
    "                }\n",
    "        ),\n",
    "    ],\n",
    "    # \"multiprocessing\": {},\n",
    "    \"use_cache\": False,\n",
    "    # 'log_level': 'debug'\n",
    "}"
   ]
  },
  {
   "cell_type": "code",
   "execution_count": null,
   "id": "c004445b",
   "metadata": {},
   "outputs": [],
   "source": [
    "pipeline = AymurAIPipeline(config)\n",
    "results = pipeline.preprocess(sample[:1])\n",
    "results = pipeline.predict(results)\n"
   ]
  },
  {
   "cell_type": "code",
   "execution_count": null,
   "id": "4da4ea6a",
   "metadata": {},
   "outputs": [],
   "source": [
    "\n",
    "postprocessed = pipeline.postprocess(results)"
   ]
  },
  {
   "cell_type": "code",
   "execution_count": null,
   "metadata": {},
   "outputs": [],
   "source": [
    "idx = -1\n",
    "\n",
    "render(postprocessed[idx])"
   ]
  },
  {
   "cell_type": "code",
   "execution_count": null,
   "metadata": {},
   "outputs": [],
   "source": []
  }
 ],
 "metadata": {
  "kernelspec": {
   "display_name": "Python 3.10.8 64-bit",
   "language": "python",
   "name": "python3"
  },
  "language_info": {
   "codemirror_mode": {
    "name": "ipython",
    "version": 3
   },
   "file_extension": ".py",
   "mimetype": "text/x-python",
   "name": "python",
   "nbconvert_exporter": "python",
   "pygments_lexer": "ipython3",
   "version": "3.10.8"
  },
  "vscode": {
   "interpreter": {
    "hash": "767d51c1340bd893661ea55ea3124f6de3c7a262a8b4abca0554b478b1e2ff90"
   }
  }
 },
 "nbformat": 4,
 "nbformat_minor": 2
}
