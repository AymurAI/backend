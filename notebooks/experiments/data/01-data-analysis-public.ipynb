{
 "cells": [
  {
   "cell_type": "code",
   "execution_count": null,
   "metadata": {},
   "outputs": [],
   "source": [
    "import numpy as np\n",
    "import pandas as pd\n",
    "from glob import glob"
   ]
  },
  {
   "cell_type": "code",
   "execution_count": null,
   "metadata": {},
   "outputs": [],
   "source": [
    "data = pd.read_csv('/resources/data/preprocessed.csv')\n",
    "data\n"
   ]
  },
  {
   "cell_type": "code",
   "execution_count": null,
   "metadata": {},
   "outputs": [],
   "source": [
    "import plotly.io as pio\n",
    "import plotly.express as px\n",
    "pio.renderers.default = \"notebook\"\n"
   ]
  },
  {
   "cell_type": "code",
   "execution_count": null,
   "metadata": {},
   "outputs": [],
   "source": [
    "px.histogram(data, x='date', color='materia')"
   ]
  },
  {
   "cell_type": "code",
   "execution_count": null,
   "metadata": {},
   "outputs": [],
   "source": [
    "violence_cats = [\n",
    "    \"violencia_de_genero\",\n",
    "    \"v_fisica\",\n",
    "    \"v_psic\",\n",
    "    \"v_econ\",\n",
    "    \"v_sex\",\n",
    "    \"v_soc\",\n",
    "    \"v_amb\",\n",
    "    \"v_simb\",\n",
    "    \"v_polit\",\n",
    "]\n",
    "bool_violence_cats = [f\"have:{cat}\" for cat in violence_cats]\n",
    "for cat in violence_cats:\n",
    "    data[f\"have:{cat}\"] = data[cat].apply(lambda v: v == \"si\")\n",
    "\n",
    "data[\"have:violence\"] = data[bool_violence_cats].sum(axis=1)\n"
   ]
  },
  {
   "cell_type": "code",
   "execution_count": null,
   "metadata": {},
   "outputs": [],
   "source": [
    "px.histogram(\n",
    "    data,\n",
    "    \"have:violence\",\n",
    "    color=\"have:violencia_de_genero\",\n",
    "    title=\"nro de formas de violencia presentes en cada caso\",\n",
    ")\n"
   ]
  },
  {
   "cell_type": "code",
   "execution_count": null,
   "metadata": {},
   "outputs": [],
   "source": [
    "cats = list(set(bool_violence_cats) - {\"have:violencia_de_genero\"})  #\n",
    "data_ = data[cats].sum()\n",
    "data_ = pd.DataFrame(data_).reset_index()\n",
    "px.pie(\n",
    "    data_,\n",
    "    values=0,\n",
    "    names=\"index\",\n",
    "    title=\"porcentage de formas de violencia presentes en total de datos\",\n",
    ")\n"
   ]
  },
  {
   "cell_type": "markdown",
   "metadata": {},
   "source": [
    "## check"
   ]
  },
  {
   "cell_type": "code",
   "execution_count": null,
   "metadata": {},
   "outputs": [],
   "source": [
    "# checkeo si frases se repiten en registros distintos\n",
    "duplicated = (\n",
    "    data.groupby([\"frases_agresion\"])\n",
    "    .agg({\"nro_registro\": \"nunique\"})\n",
    "    .sort_values(by=[\"nro_registro\"], ascending=False)\n",
    ")\n",
    "duplicated\n"
   ]
  },
  {
   "cell_type": "code",
   "execution_count": null,
   "metadata": {},
   "outputs": [],
   "source": [
    "caso = data.query('frases_agresion == \"hija de puta me estas cagando vas a ver lo que te va a pasar no tengo nada que perder nadie te va a poder salvar\"')\n",
    "caso"
   ]
  },
  {
   "cell_type": "code",
   "execution_count": null,
   "metadata": {},
   "outputs": [],
   "source": [
    "\n",
    "data_ = data.dropna(subset=[\"date\"])\n",
    "expedientes = data_.groupby(\"n_expte_eje\").agg(\n",
    "    {\n",
    "        \"nro_registro\": \"nunique\",\n",
    "        \"have:violence\": \"sum\",\n",
    "    }\n",
    ")\n",
    "expedientes.rename(\n",
    "    columns={\n",
    "        \"nro_registro\": \"nro_registros\",\n",
    "        \"have:violence\": \"violence\",\n",
    "    },\n",
    "    inplace=True,\n",
    ")\n",
    "expedientes[\"tiempo_entre_registros_maxmin\"] = data_.groupby(\"n_expte_eje\").agg(\n",
    "    {\"date\": lambda d: pd.to_datetime(d).max() - pd.to_datetime(d).min()}\n",
    ")\n",
    "expedientes[\"tiempo_entre_registros_mean\"] = data_.groupby(\"n_expte_eje\").agg(\n",
    "    {\"date\": lambda d: pd.to_datetime(d).diff().mean()}\n",
    ")\n",
    "expedientes\n"
   ]
  },
  {
   "cell_type": "code",
   "execution_count": null,
   "metadata": {},
   "outputs": [],
   "source": [
    "px.histogram(\n",
    "    expedientes,\n",
    "    \"nro_registros\",\n",
    "    color=expedientes[\"violence\"].astype(bool),\n",
    "    title=\"numero de resoluciones por caso\",\n",
    ")\n"
   ]
  },
  {
   "cell_type": "markdown",
   "metadata": {},
   "source": [
    "# registros repetidos"
   ]
  },
  {
   "cell_type": "code",
   "execution_count": null,
   "metadata": {},
   "outputs": [],
   "source": [
    "data = pd.read_csv('/resources/data/preprocessed.csv')\n",
    "\n",
    "duplicated = data.groupby(['nro_registro', 'n_expte_eje', 'link']).nunique().sort_values(by=['n'], ascending=False)\n",
    "duplicated = data.groupby(['path']).nunique().sort_values(by=['n'], ascending=False)\n",
    "# data.groupby(['nro_registro', 'tomo']).nunique().sort_values(by=['n'], ascending=False)\n",
    "duplicated"
   ]
  },
  {
   "cell_type": "code",
   "execution_count": null,
   "metadata": {},
   "outputs": [],
   "source": [
    "duplicated.replace(1, np.nan).dropna(axis=1, how='all')"
   ]
  },
  {
   "cell_type": "code",
   "execution_count": null,
   "metadata": {},
   "outputs": [],
   "source": [
    "duplicated.query('n_expte_eje > 1')"
   ]
  },
  {
   "cell_type": "markdown",
   "metadata": {},
   "source": [
    "# filtros"
   ]
  },
  {
   "cell_type": "code",
   "execution_count": null,
   "metadata": {},
   "outputs": [],
   "source": [
    "pd.set_option('display.max_colwidth', -1)\n",
    "data.query('path == \"/resources/data/documents/2f5a62f565b4d6940fca8acc16fcfb\"')"
   ]
  },
  {
   "cell_type": "code",
   "execution_count": null,
   "metadata": {},
   "outputs": [],
   "source": [
    "pd.set_option('display.max_colwidth', -1)\n",
    "data.query('path == \"/resources/data/documents/8909d6db3d91b0bc36ba258c0220e2\"')"
   ]
  },
  {
   "cell_type": "code",
   "execution_count": null,
   "metadata": {},
   "outputs": [],
   "source": [
    "DROP_REGISTRIES = [\n",
    "    # n_expte_eje error\n",
    "    ## nro_registro 1605; tomo 13\n",
    "    1582,\n",
    "    1583,\n",
    "    ## nro_registro 4435; tomo 49\n",
    "    5189,\n",
    "    5190,\n",
    "]\n",
    "\n",
    "data.query('n not in @DROP_REGISTRIES', inplace=True)"
   ]
  },
  {
   "cell_type": "code",
   "execution_count": null,
   "metadata": {},
   "outputs": [],
   "source": [
    "l = []\n",
    "l[0] or None"
   ]
  },
  {
   "cell_type": "code",
   "execution_count": null,
   "metadata": {},
   "outputs": [],
   "source": [
    "pd.reset_option('display.max_rows')\n",
    "def get_unique_values(serie):\n",
    "    values = [v for v in set(serie) if v not in [None, np.nan]]\n",
    "    return values\n",
    "\n",
    "simplified = data.groupby(['nro_registro', 'tomo', 'link']).agg(get_unique_values)\n",
    "\n",
    "for column in simplified.columns:\n",
    "    max_len = simplified[column].apply(len).max()\n",
    "    if max_len <= 1:\n",
    "        simplified[column] = simplified[column].apply(lambda x: x[0] if x else None)\n",
    "    else: \n",
    "        print('column with multiples values:', column)\n",
    "\n",
    "# simplified = simplified.reset_index()\n",
    "simplified"
   ]
  },
  {
   "cell_type": "code",
   "execution_count": null,
   "metadata": {},
   "outputs": [],
   "source": [
    "def _len(value):\n",
    "    if isinstance(value, list):\n",
    "        return len(value)\n",
    "    return 1\n",
    "value_sizes = simplified.applymap(_len)"
   ]
  },
  {
   "cell_type": "code",
   "execution_count": null,
   "metadata": {},
   "outputs": [],
   "source": []
  },
  {
   "cell_type": "code",
   "execution_count": null,
   "metadata": {},
   "outputs": [],
   "source": [
    "column = 'date'\n",
    "mask = value_sizes[column] > 1\n",
    "simplified.loc[mask, column].values"
   ]
  },
  {
   "cell_type": "code",
   "execution_count": null,
   "metadata": {},
   "outputs": [],
   "source": [
    "ASSUME_UNIQUE = ['nro_registro', 'tomo', 'n_expte_eje', 'firma']"
   ]
  },
  {
   "cell_type": "code",
   "execution_count": null,
   "metadata": {},
   "outputs": [],
   "source": [
    "# pd.set_option.display.max_rows = None\n",
    "pd.set_option('display.max_rows', None)\n",
    "def _len(value):\n",
    "    if isinstance(value, list):\n",
    "        return len(value)\n",
    "    return 1\n",
    "value_sizes = simplified.applymap(_len)\n",
    "value_sizes_max = value_sizes.max()\n",
    "value_sizes_max[value_sizes_max == 1]"
   ]
  },
  {
   "cell_type": "code",
   "execution_count": null,
   "metadata": {},
   "outputs": [],
   "source": [
    "case = simplified.loc[1147]\n",
    "case"
   ]
  },
  {
   "cell_type": "markdown",
   "metadata": {},
   "source": [
    "# Casos con violencia"
   ]
  },
  {
   "cell_type": "code",
   "execution_count": null,
   "metadata": {},
   "outputs": [],
   "source": [
    "expedientes_ = expedientes.query(\"nro_registros > 1 and violence > 1\")\n",
    "px.histogram(\n",
    "    expedientes_,\n",
    "    x=expedientes_[\"tiempo_entre_registros_maxmin\"].dt.days,\n",
    "    color=\"nro_registros\",\n",
    "    title=\"dias entre primer y ultimo registro del caso\",\n",
    ")\n"
   ]
  },
  {
   "cell_type": "code",
   "execution_count": null,
   "metadata": {},
   "outputs": [],
   "source": [
    "expedientes_ = expedientes.query(\"nro_registros > 1 and violence > 1\")\n",
    "px.histogram(\n",
    "    expedientes_,\n",
    "    x=expedientes_[\"tiempo_entre_registros_mean\"].dt.days,\n",
    "    color=\"nro_registros\",\n",
    "    title=\"tiempo medio entre 2 registros consecutivos\",\n",
    ")\n"
   ]
  },
  {
   "cell_type": "markdown",
   "metadata": {},
   "source": [
    "## modalidades"
   ]
  },
  {
   "cell_type": "code",
   "execution_count": null,
   "metadata": {},
   "outputs": [],
   "source": [
    "set(data['modalidad_de_la_violencia'].values)"
   ]
  },
  {
   "cell_type": "code",
   "execution_count": null,
   "metadata": {},
   "outputs": [],
   "source": [
    "registro = data.query('modalidad_de_la_violencia == \"domestica\"').iloc[300]\n",
    "print(registro['path'])\n",
    "registro"
   ]
  }
 ],
 "metadata": {
  "interpreter": {
   "hash": "97cc609b13305c559618ec78a438abc56230b9381f827f22d070313b9a1f3777"
  },
  "kernelspec": {
   "display_name": "Python 3.10.5 64-bit",
   "language": "python",
   "name": "python3"
  },
  "language_info": {
   "codemirror_mode": {
    "name": "ipython",
    "version": 3
   },
   "file_extension": ".py",
   "mimetype": "text/x-python",
   "name": "python",
   "nbconvert_exporter": "python",
   "pygments_lexer": "ipython3",
   "version": "3.10.6"
  }
 },
 "nbformat": 4,
 "nbformat_minor": 2
}
