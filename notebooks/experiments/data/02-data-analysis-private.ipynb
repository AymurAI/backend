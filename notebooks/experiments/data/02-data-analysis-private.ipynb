{
 "cells": [
  {
   "cell_type": "code",
   "execution_count": null,
   "metadata": {},
   "outputs": [],
   "source": [
    "import os, re\n",
    "import numpy as np\n",
    "import pandas as pd\n",
    "from glob import glob, iglob\n"
   ]
  },
  {
   "cell_type": "code",
   "execution_count": null,
   "metadata": {},
   "outputs": [],
   "source": [
    "data = pd.read_csv('/resources/data/preprocessed.csv')\n",
    "data.drop('path', axis=1, inplace=True)\n",
    "\n",
    "\n",
    "def get_registro(path: str) -> dict:\n",
    "    item = {}\n",
    "    item[\"path\"] = path\n",
    "\n",
    "    filename = os.path.basename(path)\n",
    "    filename, ext = os.path.splitext(filename)\n",
    "\n",
    "    item[\"doc_name\"] = filename\n",
    "    item[\"doc_extension\"] = ext\n",
    "\n",
    "    dirname = os.path.dirname(item[\"path\"])\n",
    "    match = re.findall(\"/(\\d{4})/\", dirname)\n",
    "    item[\"year\"] = match[0] if match else None\n",
    "\n",
    "    filename = re.sub(r\"\\s\", \"_\", filename)\n",
    "    filename = re.sub(r\"^[A-Z]\\d+_\", \"\", filename)\n",
    "    item[\"nro_registro\"] = filename.split(\"_\")[0]\n",
    "\n",
    "    tomo = filename.split(\"_\")[1]\n",
    "    match = re.findall(\"\\d+\", tomo)\n",
    "    item[\"tomo\"] = match[0] if match else None\n",
    "\n",
    "    return item\n",
    "\n",
    "\n",
    "paths = iglob(\n",
    "    f\"{os.environ['AYMURAI_RESTRICTED_DOCUMENT_PATH']}/**/*.*\",\n",
    "    recursive=True,\n",
    ")\n",
    "paths = filter(os.path.isfile, paths)\n",
    "paths = list(sorted(paths))\n",
    "\n",
    "docs = pd.DataFrame([get_registro(path) for path in paths])\n",
    "\n",
    "docs.dropna(subset=[\"nro_registro\", \"tomo\", \"year\"], inplace=True)\n",
    "docs[\"nro_registro\"] = docs[\"nro_registro\"].astype(str)\n",
    "docs[\"year\"] = docs[\"year\"].astype(int)\n",
    "docs[\"tomo\"] = docs[\"tomo\"].astype(int)\n",
    "\n",
    "data = data.merge(docs, on=[\"nro_registro\", \"tomo\"])\n",
    "paths = data[\"path\"]\n",
    "\n",
    "annotations = data.copy()\n",
    "annotations\n"
   ]
  },
  {
   "cell_type": "code",
   "execution_count": null,
   "metadata": {},
   "outputs": [],
   "source": [
    "import plotly.io as pio\n",
    "import plotly.express as px\n",
    "pio.renderers.default = \"notebook\"\n"
   ]
  },
  {
   "cell_type": "code",
   "execution_count": null,
   "metadata": {},
   "outputs": [],
   "source": [
    "px.histogram(data, x='date', color='materia')"
   ]
  },
  {
   "cell_type": "code",
   "execution_count": null,
   "metadata": {},
   "outputs": [],
   "source": [
    "violence_cats = [\n",
    "    \"violencia_de_genero\",\n",
    "    \"v_fisica\",\n",
    "    \"v_psic\",\n",
    "    \"v_econ\",\n",
    "    \"v_sex\",\n",
    "    \"v_soc\",\n",
    "    \"v_amb\",\n",
    "    \"v_simb\",\n",
    "    \"v_polit\",\n",
    "]\n",
    "bool_violence_cats = [f\"have:{cat}\" for cat in violence_cats]\n",
    "for cat in violence_cats:\n",
    "    data[f\"have:{cat}\"] = data[cat].apply(lambda v: v == \"si\")\n",
    "\n",
    "data[\"have:violence\"] = data[bool_violence_cats].sum(axis=1)\n"
   ]
  },
  {
   "cell_type": "code",
   "execution_count": null,
   "metadata": {},
   "outputs": [],
   "source": [
    "px.histogram(\n",
    "    data,\n",
    "    \"have:violence\",\n",
    "    color=\"have:violencia_de_genero\",\n",
    "    title=\"nro de formas de violencia presentes en cada caso\",\n",
    ")\n"
   ]
  },
  {
   "cell_type": "code",
   "execution_count": null,
   "metadata": {},
   "outputs": [],
   "source": [
    "cats = list(set(bool_violence_cats) - {\"have:violencia_de_genero\"})  #\n",
    "data_ = data[cats].sum()\n",
    "data_ = pd.DataFrame(data_).reset_index()\n",
    "px.pie(\n",
    "    data_,\n",
    "    values=0,\n",
    "    names=\"index\",\n",
    "    title=\"porcentage de formas de violencia presentes en total de datos\",\n",
    ")\n"
   ]
  },
  {
   "cell_type": "markdown",
   "metadata": {},
   "source": [
    "## check"
   ]
  },
  {
   "cell_type": "code",
   "execution_count": null,
   "metadata": {},
   "outputs": [],
   "source": [
    "# checkeo si frases se repiten en registros distintos\n",
    "duplicated = (\n",
    "    data.groupby([\"frases_agresion\"])\n",
    "    .agg({\"nro_registro\": \"nunique\"})\n",
    "    .sort_values(by=[\"nro_registro\"], ascending=False)\n",
    ")\n",
    "duplicated\n"
   ]
  },
  {
   "cell_type": "code",
   "execution_count": null,
   "metadata": {},
   "outputs": [],
   "source": [
    "caso = data.query('frases_agresion == \"hija de puta me estas cagando vas a ver lo que te va a pasar no tengo nada que perder nadie te va a poder salvar\"')\n",
    "caso"
   ]
  },
  {
   "cell_type": "code",
   "execution_count": null,
   "metadata": {},
   "outputs": [],
   "source": [
    "\n",
    "data_ = data.dropna(subset=[\"date\"])\n",
    "expedientes = data_.groupby(\"n_expte_eje\").agg(\n",
    "    {\n",
    "        \"nro_registro\": \"nunique\",\n",
    "        \"have:violence\": \"sum\",\n",
    "    }\n",
    ")\n",
    "expedientes.rename(\n",
    "    columns={\n",
    "        \"nro_registro\": \"nro_registros\",\n",
    "        \"have:violence\": \"violence\",\n",
    "    },\n",
    "    inplace=True,\n",
    ")\n",
    "expedientes[\"tiempo_entre_registros_maxmin\"] = data_.groupby(\"n_expte_eje\").agg(\n",
    "    {\"date\": lambda d: pd.to_datetime(d).max() - pd.to_datetime(d).min()}\n",
    ")\n",
    "expedientes[\"tiempo_entre_registros_mean\"] = data_.groupby(\"n_expte_eje\").agg(\n",
    "    {\"date\": lambda d: pd.to_datetime(d).diff().mean()}\n",
    ")\n",
    "expedientes\n"
   ]
  },
  {
   "cell_type": "code",
   "execution_count": null,
   "metadata": {},
   "outputs": [],
   "source": [
    "px.histogram(\n",
    "    expedientes,\n",
    "    \"nro_registros\",\n",
    "    color=expedientes[\"violence\"].astype(bool),\n",
    "    title=\"numero de resoluciones por caso\",\n",
    ")\n"
   ]
  },
  {
   "cell_type": "markdown",
   "metadata": {},
   "source": [
    "# registros repetidos"
   ]
  },
  {
   "cell_type": "code",
   "execution_count": null,
   "metadata": {},
   "outputs": [],
   "source": [
    "data = annotations.copy()\n",
    "\n",
    "duplicated = data.groupby(['nro_registro', 'n_expte_eje', 'link']).nunique().sort_values(by=['n'], ascending=False)\n",
    "duplicated = data.groupby(['path']).nunique().sort_values(by=['n'], ascending=False)\n",
    "# data.groupby(['nro_registro', 'tomo']).nunique().sort_values(by=['n'], ascending=False)\n",
    "duplicated"
   ]
  },
  {
   "cell_type": "code",
   "execution_count": null,
   "metadata": {},
   "outputs": [],
   "source": [
    "duplicated.replace(1, np.nan).dropna(axis=1, how='all')"
   ]
  },
  {
   "cell_type": "code",
   "execution_count": null,
   "metadata": {},
   "outputs": [],
   "source": [
    "duplicated.query('n_expte_eje > 1')"
   ]
  },
  {
   "cell_type": "markdown",
   "metadata": {},
   "source": [
    "# filtros"
   ]
  },
  {
   "cell_type": "code",
   "execution_count": null,
   "metadata": {},
   "outputs": [],
   "source": [
    "pd.set_option('display.max_colwidth', -1)\n",
    "data.query('path == \"/resources/restricted/ar-juz-pcyf-10/RESOLUCIONES DEL JUZGADO-pdf/2021/TOMO 39_JULIO _21/3658_39 CAUSA 134381_21.pdf\"')"
   ]
  },
  {
   "cell_type": "code",
   "execution_count": null,
   "metadata": {},
   "outputs": [],
   "source": [
    "pd.set_option('display.max_colwidth', -1)\n",
    "data.query('path == \"/resources/restricted/ar-juz-pcyf-10/RESOLUCIONES DEL JUZGADO-pdf/2022/TOMO_49_MAYO_2022/4435_49_10_05_2022_189bis  CAUSA 133492_2021.pdf\"')"
   ]
  },
  {
   "cell_type": "code",
   "execution_count": null,
   "metadata": {},
   "outputs": [],
   "source": [
    "pd.reset_option('display.max_rows')\n",
    "def get_unique_values(serie):\n",
    "    # values = [v for v in set(serie) if v not in [None, np.nan]]\n",
    "    # values = [v for v in set(serie)]\n",
    "    values = list(serie)\n",
    "    return values\n",
    "\n",
    "simplified = data.groupby(['nro_registro', 'tomo', 'link']).agg(get_unique_values)\n",
    "\n",
    "multivalue_columns = []\n",
    "for column in simplified.columns:\n",
    "    max_len = simplified[column].apply(len).max()\n",
    "    if max_len <= 1:\n",
    "        simplified[column] = simplified[column].apply(lambda x: x[0] if x else None)\n",
    "    else: \n",
    "        # print('column with multiples values:', column)\n",
    "        multivalue_columns.append(column)\n",
    "\n",
    "# simplified = simplified.reset_index()\n",
    "multivalue_columns"
   ]
  },
  {
   "cell_type": "code",
   "execution_count": null,
   "metadata": {},
   "outputs": [],
   "source": [
    "def _len(value):\n",
    "    if isinstance(value, list):\n",
    "        return len(value)\n",
    "    return 1\n",
    "value_sizes = simplified.applymap(_len)"
   ]
  },
  {
   "cell_type": "code",
   "execution_count": null,
   "metadata": {},
   "outputs": [],
   "source": [
    "pd.set_option('display.max_rows', None)\n",
    "simplified_ = simplified.reset_index()\n",
    "for column in multivalue_columns:\n",
    "    print(column)\n",
    "    mask = value_sizes[column] > 1\n",
    "    print(simplified.loc[mask, column])\n",
    "    print('----')\n",
    "\n",
    "    \n"
   ]
  },
  {
   "cell_type": "code",
   "execution_count": null,
   "metadata": {},
   "outputs": [],
   "source": [
    "database = []\n",
    "for (nro_registro, tomo, path), group in annotations.groupby(['nro_registro', 'tomo', 'path']):\n",
    "    if len(set(group['n_expte_eje'])) > 1:\n",
    "        print(f'droping document {path} (multiple n_expte_eje)')\n",
    "        continue\n",
    "    n_expte_eje = group['n_expte_eje'].values[0]\n",
    "    d = {\n",
    "        'path': path,\n",
    "        'nro_registro': nro_registro,\n",
    "        'tomo': tomo,\n",
    "        'n_expte_eje': n_expte_eje,\n",
    "        'nro_registros': len(group),\n",
    "        'annotations': group.to_dict('records')\n",
    "    }\n",
    "    database.append(d)\n",
    "\n"
   ]
  },
  {
   "cell_type": "code",
   "execution_count": null,
   "metadata": {},
   "outputs": [],
   "source": [
    "annotations['n_expte_eje'].dropna()"
   ]
  },
  {
   "cell_type": "code",
   "execution_count": null,
   "metadata": {},
   "outputs": [],
   "source": [
    "database"
   ]
  },
  {
   "cell_type": "code",
   "execution_count": null,
   "metadata": {},
   "outputs": [],
   "source": [
    "column = 'genero_acusado/a'\n",
    "mask = value_sizes[column] > 1\n",
    "simplified.loc[mask, column]"
   ]
  },
  {
   "cell_type": "code",
   "execution_count": null,
   "metadata": {},
   "outputs": [],
   "source": [
    "ASSUME_UNIQUE = ['nro_registro', 'tomo', 'n_expte_eje', 'firma']"
   ]
  },
  {
   "cell_type": "code",
   "execution_count": null,
   "metadata": {},
   "outputs": [],
   "source": [
    "# pd.set_option.display.max_rows = None\n",
    "pd.set_option('display.max_rows', None)\n",
    "def _len(value):\n",
    "    if isinstance(value, list):\n",
    "        return len(value)\n",
    "    return 1\n",
    "value_sizes = simplified.applymap(_len)\n",
    "value_sizes_max = value_sizes.max()\n",
    "value_sizes_max[value_sizes_max == 1]"
   ]
  },
  {
   "cell_type": "code",
   "execution_count": null,
   "metadata": {},
   "outputs": [],
   "source": [
    "case = simplified.loc[1147]\n",
    "case"
   ]
  },
  {
   "cell_type": "markdown",
   "metadata": {},
   "source": [
    "# Casos con violencia"
   ]
  },
  {
   "cell_type": "code",
   "execution_count": null,
   "metadata": {},
   "outputs": [],
   "source": [
    "expedientes_ = expedientes.query(\"nro_registros > 1 and violence > 1\")\n",
    "px.histogram(\n",
    "    expedientes_,\n",
    "    x=expedientes_[\"tiempo_entre_registros_maxmin\"].dt.days,\n",
    "    color=\"nro_registros\",\n",
    "    title=\"dias entre primer y ultimo registro del caso\",\n",
    ")\n"
   ]
  },
  {
   "cell_type": "code",
   "execution_count": null,
   "metadata": {},
   "outputs": [],
   "source": [
    "expedientes_ = expedientes.query(\"nro_registros > 1 and violence > 1\")\n",
    "px.histogram(\n",
    "    expedientes_,\n",
    "    x=expedientes_[\"tiempo_entre_registros_mean\"].dt.days,\n",
    "    color=\"nro_registros\",\n",
    "    title=\"tiempo medio entre 2 registros consecutivos\",\n",
    ")\n"
   ]
  },
  {
   "cell_type": "markdown",
   "metadata": {},
   "source": [
    "## modalidades"
   ]
  },
  {
   "cell_type": "code",
   "execution_count": null,
   "metadata": {},
   "outputs": [],
   "source": [
    "set(data['modalidad_de_la_violencia'].values)"
   ]
  },
  {
   "cell_type": "code",
   "execution_count": null,
   "metadata": {},
   "outputs": [],
   "source": [
    "registro = data.query('modalidad_de_la_violencia == \"domestica\"').iloc[300]\n",
    "print(registro['path'])\n",
    "registro"
   ]
  }
 ],
 "metadata": {
  "interpreter": {
   "hash": "97cc609b13305c559618ec78a438abc56230b9381f827f22d070313b9a1f3777"
  },
  "kernelspec": {
   "display_name": "Python 3.10.5 64-bit",
   "language": "python",
   "name": "python3"
  },
  "language_info": {
   "codemirror_mode": {
    "name": "ipython",
    "version": 3
   },
   "file_extension": ".py",
   "mimetype": "text/x-python",
   "name": "python",
   "nbconvert_exporter": "python",
   "pygments_lexer": "ipython3",
   "version": "3.10.6"
  }
 },
 "nbformat": 4,
 "nbformat_minor": 2
}
