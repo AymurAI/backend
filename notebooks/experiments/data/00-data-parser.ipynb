{
 "cells": [
  {
   "cell_type": "code",
   "execution_count": null,
   "metadata": {},
   "outputs": [],
   "source": [
    "import numpy as np\n",
    "import pandas as pd\n",
    "from glob import glob"
   ]
  },
  {
   "cell_type": "code",
   "execution_count": null,
   "metadata": {},
   "outputs": [],
   "source": [
    "target = pd.read_excel(\n",
    "    '../../resources/data/set_de_datos_con_perspectiva_de_genero - set_de_datos_con_perspectiva_de_genero.ods',\n",
    ")\n",
    "\n",
    "target.dropna(subset=['NRO_REGISTRO', 'TOMO', 'FECHA_RESOLUCION'], inplace=True)\n",
    "target.rename(columns={c: c.lower() for c in target.columns}, inplace=True)\n",
    "\n",
    "target['tomo'] = target['tomo'].astype(int)\n",
    "\n",
    "target"
   ]
  },
  {
   "cell_type": "markdown",
   "metadata": {},
   "source": [
    "# Download data"
   ]
  },
  {
   "cell_type": "code",
   "execution_count": null,
   "metadata": {},
   "outputs": [],
   "source": [
    "import os\n",
    "import gdown\n",
    "import subprocess\n",
    "from hashlib import blake2b\n",
    "from tqdm.auto import tqdm\n",
    "from joblib import Parallel, delayed\n",
    "\n",
    "tqdm.pandas()\n",
    "\n",
    "outdir = '/resources/data/documents'\n",
    "os.makedirs(outdir, exist_ok=True)\n",
    "\n",
    "def get_file(url: str):\n",
    "    if not isinstance(url, str):\n",
    "        return \n",
    "\n",
    "    fname = f'{outdir}/{blake2b(url.encode(), digest_size=15).hexdigest()}'\n",
    "\n",
    "    if os.path.exists(fname):\n",
    "        return fname\n",
    "\n",
    "    # algunos archivos requieren acceso, otros estan corruptos\n",
    "    cmd = f\"gdown --fuzzy -q --continue -O {fname} {url}\"\n",
    "    # fname = gdown.download(url, fname, quiet=False, fuzzy=True, resume=True)\n",
    "    output = subprocess.getoutput(cmd)\n",
    "    if 'Access denied' in output:\n",
    "        return \n",
    "    return fname\n",
    "\n",
    "\n",
    "parallel = Parallel(n_jobs=50, backend='threading')\n",
    "get_file_ = delayed(get_file)\n",
    "path = parallel(get_file_(url) for url in tqdm(target['link']))\n",
    "target['path'] = path\n"
   ]
  },
  {
   "cell_type": "markdown",
   "metadata": {},
   "source": [
    "# Set date"
   ]
  },
  {
   "cell_type": "code",
   "execution_count": null,
   "metadata": {},
   "outputs": [],
   "source": [
    "def to_datetime(value):\n",
    "    if isinstance(value, str):\n",
    "        day, month, year = value.split('_')\n",
    "        year_format = '%y' if len(year) == 2 else '%Y'\n",
    "        if int(day) > 31 or int(month) > 12:\n",
    "            return\n",
    "        return pd.to_datetime(value, format=f'%d_%m_{year_format}', infer_datetime_format=True, errors='coerce')\n",
    "    \n",
    "target['date'] = target['fecha_resolucion'].apply(to_datetime)\n",
    "target"
   ]
  },
  {
   "cell_type": "code",
   "execution_count": null,
   "metadata": {},
   "outputs": [],
   "source": [
    "target.to_csv('/resources/data/preprocessed.csv', index=False)"
   ]
  }
 ],
 "metadata": {
  "interpreter": {
   "hash": "97cc609b13305c559618ec78a438abc56230b9381f827f22d070313b9a1f3777"
  },
  "kernelspec": {
   "display_name": "Python 3.10.5 64-bit",
   "language": "python",
   "name": "python3"
  },
  "language_info": {
   "codemirror_mode": {
    "name": "ipython",
    "version": 3
   },
   "file_extension": ".py",
   "mimetype": "text/x-python",
   "name": "python",
   "nbconvert_exporter": "python",
   "pygments_lexer": "ipython3",
   "version": "3.10.5"
  }
 },
 "nbformat": 4,
 "nbformat_minor": 2
}
