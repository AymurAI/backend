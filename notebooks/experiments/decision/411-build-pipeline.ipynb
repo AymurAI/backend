{
 "cells": [
  {
   "cell_type": "code",
   "execution_count": null,
   "metadata": {},
   "outputs": [],
   "source": [
    "%load_ext autoreload\n",
    "%load_ext aymurai.devtools.magic\n",
    "%autoreload 2"
   ]
  },
  {
   "cell_type": "code",
   "execution_count": null,
   "metadata": {},
   "outputs": [],
   "source": [
    "from copy import deepcopy\n",
    "import shutil\n",
    "\n",
    "from aymurai.logging import get_logger\n",
    "from aymurai.meta.types import DataItem, DataBlock\n",
    "from aymurai.meta.pipeline_interfaces import TrainModule\n",
    "from aymurai.models.decision.torch.tokenizer import Tokenizer\n",
    "from aymurai.models.decision.torch.conv1d import Conv1dTextClassifier\n",
    "from aymurai.meta.api_interfaces import DocLabel, DocLabelAttributes\n",
    "from aymurai.utils.misc import get_element\n",
    "import os\n",
    "\n",
    "logger = get_logger(__name__)\n",
    "\n",
    "# FIXME: when load tokenizer some gpu memory is allocated because spacy. wtf\n",
    "\n",
    "\n",
    "class DecisionConv1dMulticlass(TrainModule):\n",
    "    def __init__(\n",
    "        self,\n",
    "        tokenizer_path: str,\n",
    "        model_checkpoint: str,\n",
    "        device: str = \"cpu\",\n",
    "    ):\n",
    "        self._device = device\n",
    "        self._tokenize_path = tokenizer_path\n",
    "        self._model_path = model_checkpoint\n",
    "\n",
    "        self.tokenizer = Tokenizer.load(self._tokenize_path)\n",
    "        self.model = Conv1dTextClassifier.load_from_checkpoint(\n",
    "            self._model_path,\n",
    "            map_location=self._device,\n",
    "        )\n",
    "\n",
    "    def save(self, basepath: str) -> dict | None:\n",
    "        # save tokenizer\n",
    "        os.makedirs(basepath, exist_ok=True)\n",
    "        self._tokenize_path = f\"{basepath}/tokenizer.pth\"\n",
    "        self.tokenizer.save(self._tokenize_path)\n",
    "        logger.info(f\"tokenizer saved on: {self._tokenize_path}\")\n",
    "\n",
    "        # save model\n",
    "        new_model_path = f\"{basepath}/model.ckpt\"\n",
    "        shutil.copy(self._model_path, new_model_path)\n",
    "        self._model_path = new_model_path\n",
    "        logger.info(f\"model saved on: {self._model_path}\")\n",
    "\n",
    "    @classmethod\n",
    "    def load(cls, path: str, **kwargs):\n",
    "        return cls(\n",
    "            tokenizer_path=f\"{path}/tokenizer.pth\",\n",
    "            model_checkpoint=f\"{path}/model.ckpt\",\n",
    "            **kwargs,\n",
    "        )\n",
    "\n",
    "    def fit(self, train: DataBlock, val: DataBlock):\n",
    "        logger.warning(\"fit routine not implemented\")\n",
    "        pass\n",
    "\n",
    "    def predict(self, data: DataBlock) -> DataBlock:\n",
    "        # FIXME: optimize\n",
    "        logger.warn('predict not optimized')\n",
    "        return [self.predict_single(item) for item in data]\n",
    "\n",
    "    def gen_aymurai_entity(self, text: str, category: int, score: float):\n",
    "        attrs = DocLabelAttributes(\n",
    "            aymurai_label=\"DECISION\",\n",
    "            aymurai_label_subclass=[\"no_hace_lugar\" if category == 1 else \"hace_lugar\"],\n",
    "            aymurai_method=self.__name__,\n",
    "            aymurai_score=score,\n",
    "        )\n",
    "\n",
    "        ent = DocLabel(\n",
    "            text=text,\n",
    "            start_char=0,\n",
    "            end_char=len(text),\n",
    "            attrs=attrs,\n",
    "        )\n",
    "        ent = ent.dict()\n",
    "        ent[\"label\"] = \"DECISION\"\n",
    "        return ent\n",
    "\n",
    "    def predict_single(self, item: DataItem) -> DataItem:\n",
    "        item = deepcopy(item)\n",
    "\n",
    "        text = item[\"data\"][\"doc.text\"]\n",
    "        input_ids = self.tokenizer.encode_batch([text]).to(self.model.device)\n",
    "        log_prob = self.model(input_ids)[0]\n",
    "        prob = log_prob.exp()\n",
    "\n",
    "        category = int(prob.argmax())\n",
    "        score = float(prob[category])\n",
    "\n",
    "        if category == 0:  # not a decision\n",
    "            return item\n",
    "\n",
    "        ents = get_element(item, [\"predictions\", \"entities\"]) or []\n",
    "\n",
    "        ent = self.gen_aymurai_entity(text=text, category=category, score=score)\n",
    "        ents.append(ent)\n",
    "\n",
    "        if not \"predictions\" in item:\n",
    "            item[\"predictions\"] = {}\n",
    "\n",
    "        item[\"predictions\"][\"entities\"] = ents\n",
    "\n",
    "        return item\n"
   ]
  },
  {
   "cell_type": "code",
   "execution_count": null,
   "metadata": {},
   "outputs": [],
   "source": [
    "Tokenizer.load('tokenizer.pth')"
   ]
  },
  {
   "cell_type": "code",
   "execution_count": null,
   "metadata": {},
   "outputs": [],
   "source": [
    "model = DecisionConv1dMulticlass(\n",
    "    \"tokenizer.pth\",\n",
    "    model_checkpoint=\"/workspace/notebooks/experiments/decision/checkpoints/pl-emb-conv/epoch=38-step=6981.ckpt\",\n",
    "    device=\"cpu\",\n",
    ")\n"
   ]
  },
  {
   "cell_type": "code",
   "execution_count": null,
   "metadata": {},
   "outputs": [],
   "source": [
    "model.save('test/conv')"
   ]
  },
  {
   "cell_type": "code",
   "execution_count": null,
   "metadata": {},
   "outputs": [],
   "source": [
    "model = model.load('test/conv')"
   ]
  },
  {
   "cell_type": "code",
   "execution_count": null,
   "metadata": {},
   "outputs": [],
   "source": [
    "pred = model.predict_single(item)\n",
    "pred"
   ]
  },
  {
   "cell_type": "code",
   "execution_count": null,
   "metadata": {},
   "outputs": [],
   "source": [
    "from aymurai.spacy.display import DocRender\n",
    "\n",
    "colors = {\n",
    "    'DECISION': 'Aquamarine',\n",
    "\n",
    "}\n",
    "render = DocRender(config={'colors': colors})\n",
    "\n",
    "render(pred)\n"
   ]
  },
  {
   "cell_type": "code",
   "execution_count": null,
   "metadata": {},
   "outputs": [],
   "source": [
    "from aymurai.models.flair.utils import FlairTextNormalize\n",
    "from aymurai.models.flair.core import FlairModel\n",
    "from aymurai.pipeline import AymurAIPipeline\n",
    "\n",
    "config = {\n",
    "    \"preprocess\": [\n",
    "        (FlairTextNormalize, {}),\n",
    "    ],\n",
    "    \"models\": [\n",
    "        (\n",
    "            FlairModel,\n",
    "            {\n",
    "                \"basepath\": \"/resources/pipelines/examples/flair-simple/FlairModel\",\n",
    "                \"split_doc\": True,\n",
    "                \"device\": \"cpu\",\n",
    "            },\n",
    "        ),\n",
    "        (\n",
    "            DecisionConv1dMulticlass,\n",
    "            {\n",
    "                \"tokenizer_path\": \"/workspace/notebooks/experiments/decision/tokenizer.pth\",\n",
    "                \"model_checkpoint\": \"/workspace/notebooks/experiments/decision/test/conv/model.ckpt\",\n",
    "                \"device\": \"cpu\",\n",
    "            },\n",
    "        ),\n",
    "    ],\n",
    "    \"postprocess\": [],\n",
    "    \"multiprocessing\": {},\n",
    "    \"use_cache\": False,\n",
    "}\n",
    "\n",
    "pipeline = AymurAIPipeline(config)\n"
   ]
  },
  {
   "cell_type": "code",
   "execution_count": null,
   "metadata": {},
   "outputs": [],
   "source": [
    "from aymurai.datasets.ar_juz_pcyf_10.annotations import ArgentinaJuzgadoPCyF10LabelStudioAnnotations\n",
    "\n",
    "data = ArgentinaJuzgadoPCyF10LabelStudioAnnotations('/resources/data/restricted/annotations/20221122-bis/').data"
   ]
  },
  {
   "cell_type": "code",
   "execution_count": null,
   "metadata": {},
   "outputs": [],
   "source": [
    "data[0]['path']"
   ]
  },
  {
   "cell_type": "code",
   "execution_count": null,
   "metadata": {},
   "outputs": [],
   "source": [
    "a = filter(lambda x: x['path'] == '\\\\/resources\\\\/restricted\\\\/ar-juz-pcyf-10\\\\/RESOLUCIONES DEL JUZGADO - DOCS\\\\/Suspensión del proceso a prueba\\\\/Otorga probation\\\\/1542.docx', data)\n",
    "a = list(a)\n",
    "a"
   ]
  },
  {
   "cell_type": "code",
   "execution_count": null,
   "metadata": {},
   "outputs": [],
   "source": [
    "from aymurai.transforms.entities import EntityToSpans\n",
    "\n",
    "entity2span_transform = EntityToSpans(field=\"predictions\", span_key=\"sc\")\n"
   ]
  },
  {
   "cell_type": "code",
   "execution_count": null,
   "metadata": {},
   "outputs": [],
   "source": [
    "from copy import deepcopy\n",
    "\n",
    "idx = 300\n",
    "# idx = 124\n",
    "idx = 35\n",
    "# idx = 56\n",
    "# idx = 75\n",
    "\n",
    "example = [\n",
    "    {\"path\": \"empty\", \"data\": {\"doc.text\": text}}\n",
    "    for text in a[0]['data']['doc.text'].splitlines()\n",
    "    # for text in data[idx][\"data\"][\"doc.text\"].splitlines()\n",
    "]\n",
    "\n"
   ]
  },
  {
   "cell_type": "code",
   "execution_count": null,
   "metadata": {},
   "outputs": [],
   "source": [
    "pred = pipeline.preprocess(example)\n",
    "pred = [pipeline.predict_single(p) for p in pred]\n"
   ]
  },
  {
   "cell_type": "code",
   "execution_count": null,
   "metadata": {},
   "outputs": [],
   "source": [
    "def add_score_to_label(ent):\n",
    "    score = get_element(ent, ['attrs', 'aymurai_score']) or None\n",
    "    cats = get_element(ent, ['attrs', 'aymurai_label_subclass']) or None\n",
    "    label = get_element(ent, ['attrs', 'aymurai_label']) or ''\n",
    "\n",
    "    label = f\"{label}:{cats or ''}:{score or '':1.2f}\"\n",
    "\n",
    "    ent['label'] = label\n",
    "    return ent"
   ]
  },
  {
   "cell_type": "code",
   "execution_count": null,
   "metadata": {},
   "outputs": [],
   "source": [
    "for p in pred:\n",
    "    # ents = get_element(p, ['predictions', 'entities']) or []\n",
    "    # p['predictions']['entities'] = [add_score_to_label(ent) for ent in ents]\n",
    "    render(p, style='span', spans_key='sc')"
   ]
  }
 ],
 "metadata": {
  "kernelspec": {
   "display_name": "Python 3",
   "language": "python",
   "name": "python3"
  },
  "language_info": {
   "codemirror_mode": {
    "name": "ipython",
    "version": 3
   },
   "file_extension": ".py",
   "mimetype": "text/x-python",
   "name": "python",
   "nbconvert_exporter": "python",
   "pygments_lexer": "ipython3",
   "version": "3.10.8 (main, Oct 12 2022, 19:14:26) [GCC 9.4.0]"
  },
  "vscode": {
   "interpreter": {
    "hash": "e7370f93d1d0cde622a1f8e1c04877d8463912d04d973331ad4851f04de6915a"
   }
  }
 },
 "nbformat": 4,
 "nbformat_minor": 2
}
