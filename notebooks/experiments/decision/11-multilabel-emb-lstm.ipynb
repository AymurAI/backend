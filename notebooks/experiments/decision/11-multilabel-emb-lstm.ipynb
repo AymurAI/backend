{
 "cells": [
  {
   "cell_type": "code",
   "execution_count": null,
   "metadata": {},
   "outputs": [],
   "source": [
    "!sudo pip install tensorflow_hub tensorflow-gpu tensorflow_text tensorflow-addons scikit-multilearn iterative-stratification"
   ]
  },
  {
   "cell_type": "code",
   "execution_count": null,
   "metadata": {},
   "outputs": [],
   "source": [
    "%load_ext autoreload\n",
    "%load_ext aymurai.devtools.magic\n",
    "%autoreload 2"
   ]
  },
  {
   "cell_type": "code",
   "execution_count": null,
   "metadata": {},
   "outputs": [],
   "source": [
    "import pandas as pd\n",
    "from sklearn.model_selection import train_test_split"
   ]
  },
  {
   "cell_type": "code",
   "execution_count": null,
   "metadata": {},
   "outputs": [],
   "source": [
    "CATEGORIES = ['decision', 'hace_lugar']\n",
    "# CATEGORIES = ['decision']\n",
    "data = pd.read_csv('sentences-decision.csv')\n",
    "data.drop_duplicates(subset='sentence', inplace=True)\n",
    "print(len(data))\n",
    "data['sentence'].apply(lambda x: len(x.split(' '))).hist(bins=[32*i for i in range(10)])"
   ]
  },
  {
   "cell_type": "code",
   "execution_count": null,
   "metadata": {},
   "outputs": [],
   "source": [
    "len(data['sentence'].iloc[0].split(' '))"
   ]
  },
  {
   "cell_type": "markdown",
   "metadata": {},
   "source": [
    "# Build train dataset"
   ]
  },
  {
   "cell_type": "code",
   "execution_count": null,
   "metadata": {},
   "outputs": [],
   "source": [
    "from iterstrat.ml_stratifiers import MultilabelStratifiedShuffleSplit\n",
    "from sklearn.utils import indexable, _safe_indexing\n",
    "from sklearn.utils.validation import _num_samples\n",
    "from sklearn.model_selection._split import _validate_shuffle_split\n",
    "from itertools import chain\n",
    "\n",
    "def multilabel_train_test_split(*arrays,\n",
    "                                test_size=None,\n",
    "                                train_size=None,\n",
    "                                random_state=None,\n",
    "                                shuffle=True,\n",
    "                                stratify=None):\n",
    "    \"\"\"\n",
    "    Train test split for multilabel classification. Uses the algorithm from: \n",
    "    'Sechidis K., Tsoumakas G., Vlahavas I. (2011) On the Stratification of Multi-Label Data'.\n",
    "    \"\"\"\n",
    "    if stratify is None:\n",
    "        return train_test_split(*arrays, test_size=test_size,train_size=train_size,\n",
    "                                random_state=random_state, stratify=None, shuffle=shuffle)\n",
    "    \n",
    "    assert shuffle, \"Stratified train/test split is not implemented for shuffle=False\"\n",
    "    \n",
    "    n_arrays = len(arrays)\n",
    "    arrays = indexable(*arrays)\n",
    "    n_samples = _num_samples(arrays[0])\n",
    "    n_train, n_test = _validate_shuffle_split(\n",
    "        n_samples, test_size, train_size, default_test_size=0.25\n",
    "    )\n",
    "    cv = MultilabelStratifiedShuffleSplit(test_size=n_test, train_size=n_train, random_state=123)\n",
    "    train, test = next(cv.split(X=arrays[0], y=stratify))\n",
    "\n",
    "    return list(\n",
    "        chain.from_iterable(\n",
    "            (_safe_indexing(a, train), _safe_indexing(a, test)) for a in arrays\n",
    "        )\n",
    "    )"
   ]
  },
  {
   "cell_type": "markdown",
   "metadata": {},
   "source": [
    "## Dataset from private data"
   ]
  },
  {
   "cell_type": "code",
   "execution_count": null,
   "metadata": {},
   "outputs": [],
   "source": [
    "import numpy as np\n",
    "\n",
    "\n",
    "x = data['sentence'].values\n",
    "y = data[CATEGORIES].values\n",
    "\n",
    "if len(CATEGORIES) > 1:\n",
    "    train, test = multilabel_train_test_split(data, test_size=0.2, random_state=42, stratify=y)\n",
    "    test, val = multilabel_train_test_split(train, test_size=0.5, random_state=42)\n",
    "else:\n",
    "    train, test = train_test_split(data, test_size=0.2, random_state=42, stratify=y)\n",
    "    test, val = train_test_split(train, test_size=0.5, random_state=42)\n",
    "\n",
    "\n",
    "print('train:', len(train))\n",
    "print('test:', len(test))\n",
    "print('val:', len(val))\n",
    "\n"
   ]
  },
  {
   "cell_type": "code",
   "execution_count": null,
   "metadata": {},
   "outputs": [],
   "source": [
    "print(f\"decisiones: {len(train.query('decision'))} from {len(train)} sentences\")\n",
    "print(f\"hace lugar: {len(train.query('decision and hace_lugar'))} from {len(train.query('decision'))} decisiones\")\n",
    "\n",
    "print(f\"decisiones: {len(val.query('decision'))} from {len(val)} sentences\")\n",
    "print(f\"hace lugar: {len(val.query('decision and hace_lugar'))} from {len(val.query('decision'))} decisiones\")\n",
    "\n",
    "print(f\"decisiones: {len(test.query('decision'))} from {len(test)} sentences\")\n",
    "print(f\"hace lugar: {len(test.query('decision and hace_lugar'))} from {len(test.query('decision'))} decisiones\")"
   ]
  },
  {
   "cell_type": "markdown",
   "metadata": {},
   "source": [
    "# manual train balance"
   ]
  },
  {
   "cell_type": "code",
   "execution_count": null,
   "metadata": {},
   "outputs": [],
   "source": [
    "class_0 = train.query(\"decision == 0\")\n",
    "class_1 = train.query(\"decision == 1\")\n",
    "train = pd.concat(\n",
    "    [\n",
    "        class_0.sample(len(class_1), random_state=42),\n",
    "        class_1,\n",
    "    ]\n",
    ")\n",
    "\n",
    "print(f\"decisiones: {len(train.query('decision'))} from {len(train)} sentences\")\n",
    "print(f\"hace lugar: {len(train.query('decision and hace_lugar'))} from {len(train.query('decision'))} decisiones\")"
   ]
  },
  {
   "cell_type": "code",
   "execution_count": null,
   "metadata": {},
   "outputs": [],
   "source": [
    "import numpy as np\n",
    "\n",
    "x_train = train['sentence'].values\n",
    "y_train = train[CATEGORIES].values\n",
    "\n",
    "x_val = val['sentence'].values\n",
    "y_val = val[CATEGORIES].values\n",
    "\n",
    "x_test = test['sentence'].values\n",
    "y_test = test[CATEGORIES].values"
   ]
  },
  {
   "cell_type": "markdown",
   "metadata": {},
   "source": [
    "# training"
   ]
  },
  {
   "cell_type": "markdown",
   "metadata": {},
   "source": [
    "## class weights"
   ]
  },
  {
   "cell_type": "code",
   "execution_count": null,
   "metadata": {},
   "outputs": [],
   "source": [
    "\n",
    "\n",
    "class_weights = {k: w for k, w in enumerate(1/(y_train.sum(axis=0)/len(y_train)))}\n",
    "class_weights\n",
    "\n",
    "class_weights = {1: 1 - y_train.sum()/np.prod(y_train.shape)}\n",
    "class_weights[0] = 1 - class_weights[1]\n",
    "class_weights"
   ]
  },
  {
   "cell_type": "code",
   "execution_count": null,
   "metadata": {},
   "outputs": [],
   "source": [
    "from keras.preprocessing.text import Tokenizer\n",
    "\n",
    "tokenizer = Tokenizer(lower=True)\n",
    "tokenizer.fit_on_texts(train['sentence'].values)\n",
    "\n",
    "x_train = tokenizer.texts_to_sequences(x_train)\n",
    "x_val = tokenizer.texts_to_sequences(x_val)\n",
    "x_test = tokenizer.texts_to_sequences(x_test)\n"
   ]
  },
  {
   "cell_type": "code",
   "execution_count": null,
   "metadata": {},
   "outputs": [],
   "source": [
    "from tensorflow.keras.preprocessing.sequence import pad_sequences\n",
    "\n",
    "max_tokens = 128\n",
    "\n",
    "x_train = pad_sequences(\n",
    "    x_train, maxlen=max_tokens, padding=\"post\", truncating=\"post\", value=0\n",
    ")\n",
    "x_val = pad_sequences(\n",
    "    x_val, maxlen=max_tokens, padding=\"post\", truncating=\"post\", value=0\n",
    ")\n",
    "x_test = pad_sequences(\n",
    "    x_test, maxlen=max_tokens, padding=\"post\", truncating=\"post\", value=0\n",
    ")\n"
   ]
  },
  {
   "cell_type": "code",
   "execution_count": null,
   "metadata": {},
   "outputs": [],
   "source": [
    "class_weights = {\n",
    "    'decision': [1, 1],\n",
    "    'hace_lugar': np.array([0, 0], dtype='float32') \n",
    "}"
   ]
  },
  {
   "cell_type": "code",
   "execution_count": null,
   "metadata": {},
   "outputs": [],
   "source": [
    "# class_weights['decision'].dtype"
   ]
  },
  {
   "cell_type": "code",
   "execution_count": null,
   "metadata": {},
   "outputs": [],
   "source": [
    "import tensorflow.keras.backend as K\n",
    "\n",
    "\n",
    "def multilabel_weighted_binary_crossentropy(y_true, y_pred):\n",
    "    loss = 0\n",
    "    y_true = K.cast(y_true, K.floatx())\n",
    "    # loss -= (class_weights['decision'][1]*y_true[0]*K.log(y_pred[0]) + class_weights['decision'][0]*(1-y_true[0])*K.log(1-y_pred[0]))\n",
    "    # loss -= (class_weights['hace_lugar'][1]*y_true[1]*K.log(y_pred[1]) + class_weights['hace_lugar'][0]*(1-y_true[1])*K.log(1-y_pred[1]))\n",
    "    loss -= 0.5*(y_true[0] * K.log(y_pred[0]) + (1 - y_true[0]) * K.log(1 - y_pred[0]))\n",
    "    # loss -= 0.5*(y_true[1] * K.log(y_pred[1]) + (1 - y_true[1]) * K.log(1 - y_pred[1]))\n",
    "\n",
    "    return loss\n"
   ]
  },
  {
   "cell_type": "code",
   "execution_count": null,
   "metadata": {},
   "outputs": [],
   "source": [
    "import tensorflow as tf\n",
    "\n",
    "tf.keras.utils.set_random_seed(42)\n"
   ]
  },
  {
   "cell_type": "code",
   "execution_count": null,
   "metadata": {},
   "outputs": [],
   "source": [
    "# multilabel_weighted_binary_crossentropy(np.array([[0., 0.]]), np.array([[0.9, 0.8]]))"
   ]
  },
  {
   "cell_type": "markdown",
   "metadata": {},
   "source": [
    "## training routine"
   ]
  },
  {
   "cell_type": "code",
   "execution_count": null,
   "metadata": {},
   "outputs": [],
   "source": [
    "from typing import Iterator\n",
    "\n",
    "import numpy as np\n",
    "import pandas as pd\n",
    "import seaborn as sns\n",
    "import tensorflow as tf\n",
    "import tensorflow_hub as hub\n",
    "from tqdm.auto import tqdm\n",
    "import tensorflow_text as text\n",
    "import matplotlib.pyplot as plt\n",
    "import tensorflow_addons as tfa\n",
    "from more_itertools import flatten\n",
    "from tensorflow.keras.models import Model\n",
    "from tensorflow.keras.layers import (\n",
    "    Dense,\n",
    "    Input,\n",
    "    TextVectorization,\n",
    "    LSTM,\n",
    "    Bidirectional,\n",
    "    Embedding,\n",
    "    Dropout, Flatten\n",
    ")\n",
    "from tensorflow.keras.callbacks import EarlyStopping, ModelCheckpoint\n",
    "from tensorflow.keras.models import Sequential\n",
    "\n",
    "num_classes = y_train.shape[-1]\n",
    "f1_score = tfa.metrics.F1Score(num_classes=num_classes, average='micro', name=\"f1_score\")\n",
    "embed_len = 25\n",
    "lstm_out = 20\n",
    "\n",
    "\n",
    "def get_model() -> Model:\n",
    "    model = Sequential(\n",
    "        [\n",
    "            Embedding(\n",
    "                input_dim=len(tokenizer.word_index) + 1,\n",
    "                output_dim=embed_len,\n",
    "                input_length=max_tokens,\n",
    "            ),\n",
    "            # Dropout(0.5),\n",
    "            # LSTM(lstm_out),\n",
    "            Bidirectional(LSTM(lstm_out)),\n",
    "            # Flatten(),\n",
    "            # Dense(50),\n",
    "            Dense(num_classes, activation=\"sigmoid\"),\n",
    "        ]\n",
    "    )\n",
    "\n",
    "    adamw = tf.keras.optimizers.experimental.AdamW()\n",
    "    model.compile(\n",
    "        loss=\"binary_crossentropy\",\n",
    "        # loss=multilabel_weighted_binary_crossentropy,\n",
    "        optimizer=adamw,\n",
    "        metrics=[\"categorical_accuracy\", f1_score],\n",
    "    )\n",
    "    return model\n",
    "\n",
    "\n",
    "model = get_model()\n",
    "model.summary()\n"
   ]
  },
  {
   "cell_type": "code",
   "execution_count": null,
   "metadata": {},
   "outputs": [],
   "source": [
    "import matplotlib.pyplot as plt\n",
    "# This function keeps the initial learning rate for the first ten epochs\n",
    "# and decreases it exponentially after that.\n",
    "def scheduler(epoch, lr):\n",
    "  if epoch < 3:\n",
    "    return lr\n",
    "  else:\n",
    "    return lr * tf.math.exp(-0.1)\n",
    "\n",
    "callbacks = [\n",
    "    # ModelCheckpoint(\"glove_embeddings_sequence_model.keras\", save_best_only=True, save_format='tf'),\n",
    "    EarlyStopping(patience=15, monitor=\"val_loss\", restore_best_weights=True),\n",
    "    # tf.keras.callbacks.LearningRateScheduler(scheduler)\n",
    "]\n",
    "\n",
    "\n",
    "history = model.fit(\n",
    "    x_train,\n",
    "    y_train,\n",
    "    batch_size=64,\n",
    "    validation_data=(x_val, y_val),\n",
    "    epochs=3,\n",
    "    callbacks=callbacks,\n",
    "    # class_weight=class_weights,\n",
    "    # shuffle=True,\n",
    ")\n",
    "\n",
    "\n"
   ]
  },
  {
   "cell_type": "code",
   "execution_count": null,
   "metadata": {},
   "outputs": [],
   "source": [
    "import matplotlib.pyplot as plt\n",
    "# This function keeps the initial learning rate for the first ten epochs\n",
    "# and decreases it exponentially after that.\n",
    "def scheduler(epoch, lr):\n",
    "  if epoch < 3:\n",
    "    return lr\n",
    "  else:\n",
    "    return lr * tf.math.exp(-0.1)\n",
    "\n",
    "callbacks = [\n",
    "    # ModelCheckpoint(\"glove_embeddings_sequence_model.keras\", save_best_only=True, save_format='tf'),\n",
    "    EarlyStopping(patience=15, monitor=\"val_loss\", restore_best_weights=True),\n",
    "    # tf.keras.callbacks.LearningRateScheduler(scheduler)\n",
    "]\n",
    "\n",
    "\n",
    "history = model.fit(\n",
    "    x_train,\n",
    "    y_train,\n",
    "    batch_size=64,\n",
    "    validation_data=(x_val, y_val),\n",
    "    epochs=3,\n",
    "    callbacks=callbacks,\n",
    "    # class_weight=class_weights,\n",
    "    # shuffle=True,\n",
    ")\n",
    "\n",
    "\n"
   ]
  },
  {
   "cell_type": "code",
   "execution_count": null,
   "metadata": {},
   "outputs": [],
   "source": [
    "\n",
    "fig, subplot = plt.subplots(1, 2, figsize=(10, 4))\n",
    "\n",
    "subplot[0].plot(history.history['loss'], label='train')\n",
    "subplot[0].plot(history.history['val_loss'], label='val')\n",
    "\n",
    "subplot[1].plot(history.history['f1_score'], label='train')\n",
    "subplot[1].plot(history.history['val_f1_score'], label='val')\n",
    "\n",
    "subplot[0].legend()\n",
    "subplot[1].legend()"
   ]
  },
  {
   "cell_type": "markdown",
   "metadata": {},
   "source": [
    "# Evaluation"
   ]
  },
  {
   "cell_type": "code",
   "execution_count": null,
   "metadata": {},
   "outputs": [],
   "source": [
    "import pandas as pd\n",
    "from sklearn.metrics import classification_report, multilabel_confusion_matrix\n",
    "\n",
    "print('TRAIN')\n",
    "\n",
    "hypothesis = model.predict(x_train)\n",
    "reference = y_train\n",
    "\n",
    "fig, subplot = plt.subplots(1, 2, figsize=(10, 4))\n",
    "\n",
    "if len(CATEGORIES) > 1:\n",
    "    confusion = multilabel_confusion_matrix(reference, hypothesis > 0.5)\n",
    "else:\n",
    "    confusion =  confusion_matrix(reference, hypothesis > 0.5)\n",
    "    confusion = [confusion]\n",
    "for ax, matrix, cat in zip(subplot.flatten(), confusion, CATEGORIES):\n",
    "    sns.heatmap(matrix, annot=True, fmt='d', ax=ax)\n",
    "    ax.set_xlabel(\"hypothesis\")\n",
    "    ax.set_ylabel(\"reference\")\n",
    "    ax.set_xticklabels([\"false\", \"true\"])\n",
    "    ax.set_yticklabels([\"false\", \"true\"])\n",
    "    ax.set_title(cat)\n",
    "\n",
    "plt.tight_layout()\n",
    "\n",
    "target_names = CATEGORIES if len(CATEGORIES) > 1 else [0, 1]\n",
    "report = classification_report(reference, hypothesis > 0.5, output_dict=True, target_names=target_names)\n",
    "pd.DataFrame(report).T"
   ]
  },
  {
   "cell_type": "code",
   "execution_count": null,
   "metadata": {},
   "outputs": [],
   "source": [
    "import pandas as pd\n",
    "from sklearn.metrics import classification_report, multilabel_confusion_matrix\n",
    "\n",
    "print('VALIDATION')\n",
    "\n",
    "hypothesis = model.predict(x_val)\n",
    "reference = y_val\n",
    "\n",
    "fig, subplot = plt.subplots(1, 2, figsize=(10, 4))\n",
    "\n",
    "if len(CATEGORIES) > 1:\n",
    "    confusion = multilabel_confusion_matrix(reference, hypothesis > 0.5)\n",
    "else:\n",
    "    confusion =  confusion_matrix(reference, hypothesis > 0.5)\n",
    "    confusion = [confusion]\n",
    "for ax, matrix, cat in zip(subplot.flatten(), confusion, CATEGORIES):\n",
    "    sns.heatmap(matrix, annot=True, fmt='d', ax=ax)\n",
    "    ax.set_xlabel(\"hypothesis\")\n",
    "    ax.set_ylabel(\"reference\")\n",
    "    ax.set_xticklabels([\"false\", \"true\"])\n",
    "    ax.set_yticklabels([\"false\", \"true\"])\n",
    "    ax.set_title(cat)\n",
    "\n",
    "plt.tight_layout()\n",
    "\n",
    "target_names = CATEGORIES if len(CATEGORIES) > 1 else [0, 1]\n",
    "report = classification_report(reference, hypothesis > 0.5, output_dict=True, target_names=target_names)\n",
    "pd.DataFrame(report).T"
   ]
  },
  {
   "cell_type": "code",
   "execution_count": null,
   "metadata": {},
   "outputs": [],
   "source": [
    "import pandas as pd\n",
    "from sklearn.metrics import classification_report, multilabel_confusion_matrix, confusion_matrix\n",
    "\n",
    "print(\"TEST\")\n",
    "\n",
    "hypothesis = model.predict(x_test)\n",
    "reference = y_test\n",
    "\n",
    "fig, subplot = plt.subplots(1, 2, figsize=(10, 4))\n",
    "\n",
    "if len(CATEGORIES) > 1:\n",
    "    confusion = multilabel_confusion_matrix(reference, hypothesis > 0.5)\n",
    "else:\n",
    "    confusion =  confusion_matrix(reference, hypothesis > 0.5)\n",
    "    confusion = [confusion]\n",
    "for ax, matrix, cat in zip(subplot.flatten(), confusion, CATEGORIES):\n",
    "    sns.heatmap(matrix, annot=True, fmt=\"d\", ax=ax)\n",
    "    ax.set_xlabel(\"hypothesis\")\n",
    "    ax.set_ylabel(\"reference\")\n",
    "    ax.set_xticklabels([\"false\", \"true\"])\n",
    "    ax.set_yticklabels([\"false\", \"true\"])\n",
    "    ax.set_title(cat)\n",
    "\n",
    "plt.tight_layout()\n",
    "\n",
    "target_names = CATEGORIES if len(CATEGORIES) > 1 else [0, 1]\n",
    "report = classification_report(reference, hypothesis > 0.5, output_dict=True, target_names=target_names)\n",
    "pd.DataFrame(report).T\n"
   ]
  },
  {
   "cell_type": "code",
   "execution_count": null,
   "metadata": {},
   "outputs": [],
   "source": [
    "a = test.copy()\n",
    "a[[\"pred_decision\", \"pred_hace_lugar\"]] = hypothesis"
   ]
  },
  {
   "cell_type": "code",
   "execution_count": null,
   "metadata": {},
   "outputs": [],
   "source": [
    "pd.set_option(\n",
    "    \"display.max_columns\",\n",
    "    1000,\n",
    "    \"display.width\",\n",
    "    1000,\n",
    "    \"display.max_colwidth\",\n",
    "    None,\n",
    ")\n"
   ]
  },
  {
   "cell_type": "code",
   "execution_count": null,
   "metadata": {},
   "outputs": [],
   "source": [
    "a.query('decision == 1 and pred_decision < 0.5').sample(10)"
   ]
  },
  {
   "cell_type": "code",
   "execution_count": null,
   "metadata": {},
   "outputs": [],
   "source": [
    "!sudo pip install lime"
   ]
  },
  {
   "cell_type": "code",
   "execution_count": null,
   "metadata": {},
   "outputs": [],
   "source": [
    "\n",
    "\n",
    "def make_predictions(X_batch_text):\n",
    "    X = tokenizer.texts_to_sequences(X_batch_text)\n",
    "    X = pad_sequences(X, maxlen=max_tokens, padding=\"post\", truncating=\"post\", value=0) ## Bringing all samples to max_tokens length.\n",
    "    preds = model.predict(X)\n",
    "    return preds"
   ]
  },
  {
   "cell_type": "code",
   "execution_count": null,
   "metadata": {},
   "outputs": [],
   "source": [
    "make_predictions([text])"
   ]
  },
  {
   "cell_type": "code",
   "execution_count": null,
   "metadata": {},
   "outputs": [],
   "source": [
    "from lime import lime_text\n",
    "import numpy as np\n",
    "\n",
    "explainer = lime_text.LimeTextExplainer(class_names=CATEGORIES, verbose=True)\n",
    "\n",
    "\n",
    "rng = np.random.RandomState(1)\n",
    "idx = rng.randint(1, len(test))\n",
    "X = tokenizer.texts_to_sequences(test['sentence'].iloc[idx:idx+1])\n",
    "X = pad_sequences(X, maxlen=max_tokens, padding=\"post\", truncating=\"post\", value=0) ## Bringing all samples to max_tokens length.\n",
    "preds = model.predict(X)\n",
    "\n",
    "text = test['sentence'].iloc[idx]\n",
    "\n",
    "print(text)\n",
    "print(\"Prediction : \", preds > 0.5)\n",
    "print(\"Actual :     \", y_test[idx])\n",
    "\n",
    "explanation = explainer.explain_instance([text], classifier_fn=make_predictions, labels=y_test[idx:idx+1])\n",
    "explanation.show_in_notebook()\n"
   ]
  }
 ],
 "metadata": {
  "kernelspec": {
   "display_name": "Python 3.10.5 64-bit",
   "language": "python",
   "name": "python3"
  },
  "language_info": {
   "codemirror_mode": {
    "name": "ipython",
    "version": 3
   },
   "file_extension": ".py",
   "mimetype": "text/x-python",
   "name": "python",
   "nbconvert_exporter": "python",
   "pygments_lexer": "ipython3",
   "version": "3.10.8"
  },
  "vscode": {
   "interpreter": {
    "hash": "767d51c1340bd893661ea55ea3124f6de3c7a262a8b4abca0554b478b1e2ff90"
   }
  }
 },
 "nbformat": 4,
 "nbformat_minor": 2
}
