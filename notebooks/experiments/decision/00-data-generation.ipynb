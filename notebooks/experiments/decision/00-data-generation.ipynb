{
 "cells": [
  {
   "cell_type": "code",
   "execution_count": null,
   "metadata": {},
   "outputs": [],
   "source": [
    "%load_ext autoreload\n",
    "%load_ext aymurai.devtools.magic\n",
    "%autoreload 2"
   ]
  },
  {
   "cell_type": "code",
   "execution_count": null,
   "metadata": {},
   "outputs": [],
   "source": [
    "from aymurai.datasets.ar_juz_pcyf_10.annotations import ArgentinaJuzgadoPCyF10LabelStudioAnnotations\n",
    "\n",
    "dataset = ArgentinaJuzgadoPCyF10LabelStudioAnnotations('/resources/data/restricted/annotations/20221130-bis/').data"
   ]
  },
  {
   "cell_type": "code",
   "execution_count": null,
   "metadata": {},
   "outputs": [],
   "source": [
    "dataset[0]"
   ]
  },
  {
   "cell_type": "code",
   "execution_count": null,
   "metadata": {},
   "outputs": [],
   "source": [
    "from aymurai.models.flair.utils import FlairTextNormalize\n",
    "from aymurai.transforms.entities import FilterEntity\n",
    "from aymurai.pipeline import AymurAIPipeline\n",
    "\n",
    "config = {\n",
    "    \"preprocess\": [\n",
    "        (FlairTextNormalize, {}),\n",
    "        (FilterEntity, {'enable': ['DECISION'], 'field': 'annotations'}),\n",
    "    ],\n",
    "    \"models\": [\n",
    "    ],\n",
    "    \"postprocess\": [\n",
    "    ],\n",
    "    \"multiprocessing\": {},\n",
    "    # \"use_cache\": True,\n",
    "    \"use_cache\": False,\n",
    "    # 'log_level': 'debug'\n",
    "}\n",
    "\n",
    "pipeline = AymurAIPipeline(config)"
   ]
  },
  {
   "cell_type": "code",
   "execution_count": null,
   "metadata": {},
   "outputs": [],
   "source": [
    "preprocessed = pipeline.preprocess(dataset)"
   ]
  },
  {
   "cell_type": "code",
   "execution_count": null,
   "metadata": {},
   "outputs": [],
   "source": [
    "import pandas as pd\n",
    "from aymurai.utils.misc import get_element\n",
    "\n",
    "\n",
    "def get_ent_info(entity: dict):\n",
    "    text = entity['text']\n",
    "    subclass = get_element(entity, ['attrs', 'aymurai_label_subclass', 0]) or ''\n",
    "    return (text, subclass)\n",
    "\n",
    "def gen_clases(item):\n",
    "    path = item['path'].replace('\\/', '/')\n",
    "    nro_registro = get_element(item, ['metadata','nro_registro']) or ''\n",
    "    tomo = get_element(item, ['metadata','tomo']) or ''\n",
    "    doc = item['data']['doc.text'].strip()\n",
    "    sentences = doc.splitlines()\n",
    "    sentences = list(sentences)\n",
    "\n",
    "    decision_pair = [get_ent_info(a) for a in item['annotations']['entities']]\n",
    "\n",
    "    data = []\n",
    "    for sentence in sentences:\n",
    "        sentence = sentence.strip()\n",
    "        if not sentence:\n",
    "            continue\n",
    "        is_decision = False\n",
    "        hace_lugar = False\n",
    "        for pair in decision_pair:\n",
    "            is_decision = sentence in pair[0]\n",
    "            if not is_decision:\n",
    "                continue\n",
    "            hace_lugar = 'hace_lugar' == pair[1]\n",
    "            break\n",
    "        data += [(path, nro_registro, tomo, sentence, is_decision, hace_lugar)]\n",
    "    df = pd.DataFrame(data, columns=['path', 'nro_registro', 'tomo', 'sentence', 'decision', 'hace_lugar'])\n",
    "    return df\n",
    "    \n"
   ]
  },
  {
   "cell_type": "code",
   "execution_count": null,
   "metadata": {},
   "outputs": [],
   "source": [
    "gen_clases(preprocessed[2])"
   ]
  },
  {
   "cell_type": "code",
   "execution_count": null,
   "metadata": {},
   "outputs": [],
   "source": [
    "data = pd.concat([gen_clases(item) for item in preprocessed], ignore_index=True)"
   ]
  },
  {
   "cell_type": "code",
   "execution_count": null,
   "metadata": {},
   "outputs": [],
   "source": [
    "print(f\"decisiones: {len(data.query('decision'))} from {len(data)} sentences\")\n",
    "print(f\"hace lugar: {len(data.query('decision and hace_lugar'))} from {len(data.query('decision'))} decisiones\")"
   ]
  },
  {
   "cell_type": "code",
   "execution_count": null,
   "metadata": {},
   "outputs": [],
   "source": [
    "data.to_csv('sentences-decision.csv', index=False)"
   ]
  },
  {
   "cell_type": "code",
   "execution_count": null,
   "metadata": {},
   "outputs": [],
   "source": []
  }
 ],
 "metadata": {
  "kernelspec": {
   "display_name": "Python 3",
   "language": "python",
   "name": "python3"
  },
  "language_info": {
   "codemirror_mode": {
    "name": "ipython",
    "version": 3
   },
   "file_extension": ".py",
   "mimetype": "text/x-python",
   "name": "python",
   "nbconvert_exporter": "python",
   "pygments_lexer": "ipython3",
   "version": "3.10.8 (main, Oct 12 2022, 19:14:26) [GCC 9.4.0]"
  },
  "vscode": {
   "interpreter": {
    "hash": "e7370f93d1d0cde622a1f8e1c04877d8463912d04d973331ad4851f04de6915a"
   }
  }
 },
 "nbformat": 4,
 "nbformat_minor": 2
}
